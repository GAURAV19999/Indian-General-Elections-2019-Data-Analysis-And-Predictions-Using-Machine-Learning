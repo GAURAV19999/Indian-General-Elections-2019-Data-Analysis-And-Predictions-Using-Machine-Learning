{
 "cells": [
  {
   "cell_type": "markdown",
   "metadata": {},
   "source": [
    "# Indian General Elections 2019: Data Analysis And Prediction Using Machine Learning\n",
    "\n",
    "<img src=\"https://www.ft.com/__origami/service/image/v2/images/raw/http%3A%2F%2Fcom.ft.imagepublish.upp-prod-us.s3.amazonaws.com%2F5c2322c8-7deb-11e9-81d2-f785092ab560?fit=scale-down&source=next&width=700\" width=\"1000\">\n",
    "\n",
    "## Table of contents\n",
    "\n",
    "1. Introduction\n",
    "2. Environment setup\n",
    "3. Gathering the data\n",
    "4. Features\n",
    "5. Data preprocessing and Exploratory Data Analysis (EDA)\n",
    "    - Lok sabha 2019: Election results\n",
    "    - Party-wise vote share\n",
    "    - Age distribution of candidates\n",
    "6. Preparing the data\n",
    "    - Resampling the data\n",
    "    - Scaling the data\n",
    "7. Machine learning model experimentation\n",
    "    - Experimenting with different machine learning models\n",
    "    - Manual hyperparameter tuning\n",
    "    - Hyperparameter tuning using RandomizedSearchCV\n",
    "    - Hyperparameter tuning using GridSearchCV\n",
    "8. Evaluating the machine learning models\n",
    "    - Classification report\n",
    "    - Confusion matrix\n",
    "    - ROC Curve\n",
    "    - Cross-validated metrics\n",
    "9. Conclusion"
   ]
  },
  {
   "cell_type": "markdown",
   "metadata": {},
   "source": [
    "## 1. Introduction\n",
    "\n",
    "<p> <img src=\"https://upload.wikimedia.org/wikipedia/commons/thumb/3/33/March_2020_Parliament_Lok_sabha.svg/1200px-March_2020_Parliament_Lok_sabha.svg.png\", style=\"float:top\", width=\"300\", height=\"180\"> </p>\n",
    "<br>\n",
    "<p> The 2019 Indian general election was held in seven phases from 11 April to 19 May 2019 to constitute the 17th Lok Sabha. The votes were counted, and the result was declared on 23 May. About 911 million people were eligible to vote, and voter turnout was over 67 percent – the highest ever and the highest ever participation by women voters.\n",
    "The Bharatiya Janata Party won 303 seats, further increasing its substantial majority, and the BJP-led National Democratic Alliance (NDA) won 353 seats. The BJP won 37.36% of votes, while the NDA's combined ballot was 45% of the 60.37 crore votes that were polled. The Indian National Congress won just 52 seats, and the Congress-led United Progressive Alliance won 91. Other parties and their alliances won 98 seats. </p>\n",
    "<br>\n",
    "<p> In this notebook, I have used data visualization tools such as Matplotlib, Plotly, and Seaborn to visualize how India's people voted during the 2019 elections. I have also experimented with Random Forest Classifier, Support Vector Machine, and K-Nearest Neighbor machine learning models to make predictions. The models' hyperparameters were first tuned manually, and then GridSearchCV was used to find the most optimum results. I have also evaluated the performance metrics of these models and compared them with each other. </p>"
   ]
  },
  {
   "cell_type": "markdown",
   "metadata": {},
   "source": [
    "## 2. Environment setup"
   ]
  },
  {
   "cell_type": "code",
   "execution_count": 180,
   "metadata": {},
   "outputs": [
    {
     "data": {
      "text/html": [
       "        <script type=\"text/javascript\">\n",
       "        window.PlotlyConfig = {MathJaxConfig: 'local'};\n",
       "        if (window.MathJax) {MathJax.Hub.Config({SVG: {font: \"STIX-Web\"}});}\n",
       "        if (typeof require !== 'undefined') {\n",
       "        require.undef(\"plotly\");\n",
       "        requirejs.config({\n",
       "            paths: {\n",
       "                'plotly': ['https://cdn.plot.ly/plotly-latest.min']\n",
       "            }\n",
       "        });\n",
       "        require(['plotly'], function(Plotly) {\n",
       "            window._Plotly = Plotly;\n",
       "        });\n",
       "        }\n",
       "        </script>\n",
       "        "
      ]
     },
     "metadata": {},
     "output_type": "display_data"
    }
   ],
   "source": [
    "# Import numpy, pandas for data manipulation\n",
    "import numpy as np\n",
    "import pandas as pd\n",
    "\n",
    "# Import plotly, matplotlib and seaborn as visualization tools\n",
    "import matplotlib.pyplot as plt\n",
    "from plotly import tools\n",
    "import chart_studio.plotly as py\n",
    "import plotly.graph_objs as go\n",
    "import plotly.figure_factory as ff\n",
    "import plotly.express as px\n",
    "from plotly.subplots import make_subplots\n",
    "from plotly.offline import download_plotlyjs, init_notebook_mode\n",
    "import seaborn as sns\n",
    "\n",
    "# Import for resampling the data\n",
    "from sklearn.utils import resample\n",
    "\n",
    "# Import for scaling the data\n",
    "from sklearn.preprocessing import StandardScaler\n",
    "\n",
    "# Import machine learning models\n",
    "from sklearn.ensemble import RandomForestClassifier\n",
    "from sklearn.svm import SVC\n",
    "from sklearn.neighbors import KNeighborsClassifier\n",
    "\n",
    "# Import model evaluation metrics\n",
    "from sklearn.metrics import classification_report, confusion_matrix, plot_roc_curve\n",
    "from sklearn.metrics import accuracy_score, precision_score, recall_score, f1_score\n",
    "from sklearn.model_selection import train_test_split, cross_val_score\n",
    "from sklearn.model_selection import RandomizedSearchCV, GridSearchCV\n",
    "\n",
    "# Plot should appear inside the jupyter notebook\n",
    "%matplotlib inline\n",
    "\n",
    "init_notebook_mode(connected=True)"
   ]
  },
  {
   "cell_type": "markdown",
   "metadata": {},
   "source": [
    "## 3. Gathering the data\n",
    "\n",
    "The data for this project has been collected from Kaggle:\n",
    "https://www.kaggle.com/prakrutchauhan/indian-candidates-for-general-election-2019"
   ]
  },
  {
   "cell_type": "code",
   "execution_count": 124,
   "metadata": {},
   "outputs": [],
   "source": [
    "# Loading the dataset\n",
    "df = pd.read_csv(\"data/LS_2.0.csv\")"
   ]
  },
  {
   "cell_type": "code",
   "execution_count": 125,
   "metadata": {},
   "outputs": [
    {
     "data": {
      "text/html": [
       "<div>\n",
       "<style scoped>\n",
       "    .dataframe tbody tr th:only-of-type {\n",
       "        vertical-align: middle;\n",
       "    }\n",
       "\n",
       "    .dataframe tbody tr th {\n",
       "        vertical-align: top;\n",
       "    }\n",
       "\n",
       "    .dataframe thead th {\n",
       "        text-align: right;\n",
       "    }\n",
       "</style>\n",
       "<table border=\"1\" class=\"dataframe\">\n",
       "  <thead>\n",
       "    <tr style=\"text-align: right;\">\n",
       "      <th></th>\n",
       "      <th>STATE</th>\n",
       "      <th>CONSTITUENCY</th>\n",
       "      <th>NAME</th>\n",
       "      <th>WINNER</th>\n",
       "      <th>PARTY</th>\n",
       "      <th>SYMBOL</th>\n",
       "      <th>GENDER</th>\n",
       "      <th>CRIMINAL\\r\\nCASES</th>\n",
       "      <th>AGE</th>\n",
       "      <th>CATEGORY</th>\n",
       "      <th>EDUCATION</th>\n",
       "      <th>ASSETS</th>\n",
       "      <th>LIABILITIES</th>\n",
       "      <th>GENERAL\\r\\nVOTES</th>\n",
       "      <th>POSTAL\\r\\nVOTES</th>\n",
       "      <th>TOTAL\\r\\nVOTES</th>\n",
       "      <th>OVER TOTAL ELECTORS \\r\\nIN CONSTITUENCY</th>\n",
       "      <th>OVER TOTAL VOTES POLLED \\r\\nIN CONSTITUENCY</th>\n",
       "      <th>TOTAL ELECTORS</th>\n",
       "    </tr>\n",
       "  </thead>\n",
       "  <tbody>\n",
       "    <tr>\n",
       "      <th>0</th>\n",
       "      <td>Telangana</td>\n",
       "      <td>ADILABAD</td>\n",
       "      <td>SOYAM BAPU RAO</td>\n",
       "      <td>1</td>\n",
       "      <td>BJP</td>\n",
       "      <td>Lotus</td>\n",
       "      <td>MALE</td>\n",
       "      <td>52</td>\n",
       "      <td>52.0</td>\n",
       "      <td>ST</td>\n",
       "      <td>12th Pass</td>\n",
       "      <td>Rs 30,99,414\\r\\n ~ 30 Lacs+</td>\n",
       "      <td>Rs 2,31,450\\r\\n ~ 2 Lacs+</td>\n",
       "      <td>376892</td>\n",
       "      <td>482</td>\n",
       "      <td>377374</td>\n",
       "      <td>25.330684</td>\n",
       "      <td>35.468248</td>\n",
       "      <td>1489790</td>\n",
       "    </tr>\n",
       "    <tr>\n",
       "      <th>1</th>\n",
       "      <td>Telangana</td>\n",
       "      <td>ADILABAD</td>\n",
       "      <td>Godam Nagesh</td>\n",
       "      <td>0</td>\n",
       "      <td>TRS</td>\n",
       "      <td>Car</td>\n",
       "      <td>MALE</td>\n",
       "      <td>0</td>\n",
       "      <td>54.0</td>\n",
       "      <td>ST</td>\n",
       "      <td>Post Graduate</td>\n",
       "      <td>Rs 1,84,77,888\\r\\n ~ 1 Crore+</td>\n",
       "      <td>Rs 8,47,000\\r\\n ~ 8 Lacs+</td>\n",
       "      <td>318665</td>\n",
       "      <td>149</td>\n",
       "      <td>318814</td>\n",
       "      <td>21.399929</td>\n",
       "      <td>29.964370</td>\n",
       "      <td>1489790</td>\n",
       "    </tr>\n",
       "    <tr>\n",
       "      <th>2</th>\n",
       "      <td>Telangana</td>\n",
       "      <td>ADILABAD</td>\n",
       "      <td>RATHOD RAMESH</td>\n",
       "      <td>0</td>\n",
       "      <td>INC</td>\n",
       "      <td>Hand</td>\n",
       "      <td>MALE</td>\n",
       "      <td>3</td>\n",
       "      <td>52.0</td>\n",
       "      <td>ST</td>\n",
       "      <td>12th Pass</td>\n",
       "      <td>Rs 3,64,91,000\\r\\n ~ 3 Crore+</td>\n",
       "      <td>Rs 1,53,00,000\\r\\n ~ 1 Crore+</td>\n",
       "      <td>314057</td>\n",
       "      <td>181</td>\n",
       "      <td>314238</td>\n",
       "      <td>21.092771</td>\n",
       "      <td>29.534285</td>\n",
       "      <td>1489790</td>\n",
       "    </tr>\n",
       "    <tr>\n",
       "      <th>3</th>\n",
       "      <td>Telangana</td>\n",
       "      <td>ADILABAD</td>\n",
       "      <td>NOTA</td>\n",
       "      <td>0</td>\n",
       "      <td>NOTA</td>\n",
       "      <td>NaN</td>\n",
       "      <td>NaN</td>\n",
       "      <td>NaN</td>\n",
       "      <td>NaN</td>\n",
       "      <td>NaN</td>\n",
       "      <td>NaN</td>\n",
       "      <td>NaN</td>\n",
       "      <td>NaN</td>\n",
       "      <td>13030</td>\n",
       "      <td>6</td>\n",
       "      <td>13036</td>\n",
       "      <td>0.875023</td>\n",
       "      <td>1.225214</td>\n",
       "      <td>1489790</td>\n",
       "    </tr>\n",
       "    <tr>\n",
       "      <th>4</th>\n",
       "      <td>Uttar Pradesh</td>\n",
       "      <td>AGRA</td>\n",
       "      <td>Satyapal Singh Baghel</td>\n",
       "      <td>1</td>\n",
       "      <td>BJP</td>\n",
       "      <td>Lotus</td>\n",
       "      <td>MALE</td>\n",
       "      <td>5</td>\n",
       "      <td>58.0</td>\n",
       "      <td>SC</td>\n",
       "      <td>Doctorate</td>\n",
       "      <td>Rs 7,42,74,036\\r\\n ~ 7 Crore+</td>\n",
       "      <td>Rs 86,06,522\\r\\n ~ 86 Lacs+</td>\n",
       "      <td>644459</td>\n",
       "      <td>2416</td>\n",
       "      <td>646875</td>\n",
       "      <td>33.383823</td>\n",
       "      <td>56.464615</td>\n",
       "      <td>1937690</td>\n",
       "    </tr>\n",
       "  </tbody>\n",
       "</table>\n",
       "</div>"
      ],
      "text/plain": [
       "           STATE CONSTITUENCY                   NAME  WINNER PARTY SYMBOL  \\\n",
       "0      Telangana     ADILABAD         SOYAM BAPU RAO       1   BJP  Lotus   \n",
       "1      Telangana     ADILABAD           Godam Nagesh       0   TRS    Car   \n",
       "2      Telangana     ADILABAD          RATHOD RAMESH       0   INC   Hand   \n",
       "3      Telangana     ADILABAD                   NOTA       0  NOTA    NaN   \n",
       "4  Uttar Pradesh         AGRA  Satyapal Singh Baghel       1   BJP  Lotus   \n",
       "\n",
       "  GENDER CRIMINAL\\r\\nCASES   AGE CATEGORY      EDUCATION  \\\n",
       "0   MALE                52  52.0       ST      12th Pass   \n",
       "1   MALE                 0  54.0       ST  Post Graduate   \n",
       "2   MALE                 3  52.0       ST      12th Pass   \n",
       "3    NaN               NaN   NaN      NaN            NaN   \n",
       "4   MALE                 5  58.0       SC      Doctorate   \n",
       "\n",
       "                          ASSETS                    LIABILITIES  \\\n",
       "0    Rs 30,99,414\\r\\n ~ 30 Lacs+      Rs 2,31,450\\r\\n ~ 2 Lacs+   \n",
       "1  Rs 1,84,77,888\\r\\n ~ 1 Crore+      Rs 8,47,000\\r\\n ~ 8 Lacs+   \n",
       "2  Rs 3,64,91,000\\r\\n ~ 3 Crore+  Rs 1,53,00,000\\r\\n ~ 1 Crore+   \n",
       "3                            NaN                            NaN   \n",
       "4  Rs 7,42,74,036\\r\\n ~ 7 Crore+    Rs 86,06,522\\r\\n ~ 86 Lacs+   \n",
       "\n",
       "   GENERAL\\r\\nVOTES  POSTAL\\r\\nVOTES  TOTAL\\r\\nVOTES  \\\n",
       "0            376892              482          377374   \n",
       "1            318665              149          318814   \n",
       "2            314057              181          314238   \n",
       "3             13030                6           13036   \n",
       "4            644459             2416          646875   \n",
       "\n",
       "   OVER TOTAL ELECTORS \\r\\nIN CONSTITUENCY  \\\n",
       "0                                25.330684   \n",
       "1                                21.399929   \n",
       "2                                21.092771   \n",
       "3                                 0.875023   \n",
       "4                                33.383823   \n",
       "\n",
       "   OVER TOTAL VOTES POLLED \\r\\nIN CONSTITUENCY  TOTAL ELECTORS  \n",
       "0                                    35.468248         1489790  \n",
       "1                                    29.964370         1489790  \n",
       "2                                    29.534285         1489790  \n",
       "3                                     1.225214         1489790  \n",
       "4                                    56.464615         1937690  "
      ]
     },
     "execution_count": 125,
     "metadata": {},
     "output_type": "execute_result"
    }
   ],
   "source": [
    "df.head()"
   ]
  },
  {
   "cell_type": "code",
   "execution_count": 126,
   "metadata": {},
   "outputs": [
    {
     "data": {
      "text/plain": [
       "(2263, 19)"
      ]
     },
     "execution_count": 126,
     "metadata": {},
     "output_type": "execute_result"
    }
   ],
   "source": [
    "df.shape"
   ]
  },
  {
   "cell_type": "code",
   "execution_count": 127,
   "metadata": {},
   "outputs": [
    {
     "data": {
      "text/plain": [
       "Index(['STATE', 'CONSTITUENCY', 'NAME', 'WINNER', 'PARTY', 'SYMBOL', 'GENDER',\n",
       "       'CRIMINAL\\r\\nCASES', 'AGE', 'CATEGORY', 'EDUCATION', 'ASSETS',\n",
       "       'LIABILITIES', 'GENERAL\\r\\nVOTES', 'POSTAL\\r\\nVOTES', 'TOTAL\\r\\nVOTES',\n",
       "       'OVER TOTAL ELECTORS \\r\\nIN CONSTITUENCY',\n",
       "       'OVER TOTAL VOTES POLLED \\r\\nIN CONSTITUENCY', 'TOTAL ELECTORS'],\n",
       "      dtype='object')"
      ]
     },
     "execution_count": 127,
     "metadata": {},
     "output_type": "execute_result"
    }
   ],
   "source": [
    "df.columns"
   ]
  },
  {
   "cell_type": "markdown",
   "metadata": {},
   "source": [
    "## 4. Features\n",
    "\n",
    "- STATE\n",
    "- CONSTITUENCY\n",
    "- NAME\n",
    "- WINNER\n",
    "- PARTY\n",
    "- SYMBOL\n",
    "- GENDER\n",
    "- CRIMINAL CASES\n",
    "- AGE\n",
    "- CATEGORY\n",
    "- EDUCATION\n",
    "- ASSETS\n",
    "- LIABILITIES\n",
    "- GENERAL VOTES \n",
    "- POSTAL VOTES\n",
    "- TOTAL VOTES\n",
    "- OVER TOTAL ELECTORS IN CONSTITUENCY\n",
    "- OVER TOTAL VOTES POLLED IN CONSTITUENCY\n",
    "- TOTAL ELECTORS"
   ]
  },
  {
   "cell_type": "markdown",
   "metadata": {},
   "source": [
    "## 5. Data preprocessing and Exploratory Data Analysis (EDA)"
   ]
  },
  {
   "cell_type": "code",
   "execution_count": 128,
   "metadata": {},
   "outputs": [
    {
     "data": {
      "text/html": [
       "<div>\n",
       "<style scoped>\n",
       "    .dataframe tbody tr th:only-of-type {\n",
       "        vertical-align: middle;\n",
       "    }\n",
       "\n",
       "    .dataframe tbody tr th {\n",
       "        vertical-align: top;\n",
       "    }\n",
       "\n",
       "    .dataframe thead th {\n",
       "        text-align: right;\n",
       "    }\n",
       "</style>\n",
       "<table border=\"1\" class=\"dataframe\">\n",
       "  <thead>\n",
       "    <tr style=\"text-align: right;\">\n",
       "      <th></th>\n",
       "      <th>STATE</th>\n",
       "      <th>CONSTITUENCY</th>\n",
       "      <th>NAME</th>\n",
       "      <th>WINNER</th>\n",
       "      <th>PARTY</th>\n",
       "      <th>SYMBOL</th>\n",
       "      <th>GENDER</th>\n",
       "      <th>CRIMINAL\\r\\nCASES</th>\n",
       "      <th>AGE</th>\n",
       "      <th>CATEGORY</th>\n",
       "      <th>EDUCATION</th>\n",
       "      <th>ASSETS</th>\n",
       "      <th>LIABILITIES</th>\n",
       "      <th>GENERAL\\r\\nVOTES</th>\n",
       "      <th>POSTAL\\r\\nVOTES</th>\n",
       "      <th>TOTAL\\r\\nVOTES</th>\n",
       "      <th>OVER TOTAL ELECTORS \\r\\nIN CONSTITUENCY</th>\n",
       "      <th>OVER TOTAL VOTES POLLED \\r\\nIN CONSTITUENCY</th>\n",
       "      <th>TOTAL ELECTORS</th>\n",
       "    </tr>\n",
       "  </thead>\n",
       "  <tbody>\n",
       "    <tr>\n",
       "      <th>0</th>\n",
       "      <td>Telangana</td>\n",
       "      <td>ADILABAD</td>\n",
       "      <td>SOYAM BAPU RAO</td>\n",
       "      <td>1</td>\n",
       "      <td>BJP</td>\n",
       "      <td>Lotus</td>\n",
       "      <td>MALE</td>\n",
       "      <td>52</td>\n",
       "      <td>52.0</td>\n",
       "      <td>ST</td>\n",
       "      <td>12th Pass</td>\n",
       "      <td>Rs 30,99,414\\r\\n ~ 30 Lacs+</td>\n",
       "      <td>Rs 2,31,450\\r\\n ~ 2 Lacs+</td>\n",
       "      <td>376892</td>\n",
       "      <td>482</td>\n",
       "      <td>377374</td>\n",
       "      <td>25.330684</td>\n",
       "      <td>35.468248</td>\n",
       "      <td>1489790</td>\n",
       "    </tr>\n",
       "    <tr>\n",
       "      <th>1</th>\n",
       "      <td>Telangana</td>\n",
       "      <td>ADILABAD</td>\n",
       "      <td>Godam Nagesh</td>\n",
       "      <td>0</td>\n",
       "      <td>TRS</td>\n",
       "      <td>Car</td>\n",
       "      <td>MALE</td>\n",
       "      <td>0</td>\n",
       "      <td>54.0</td>\n",
       "      <td>ST</td>\n",
       "      <td>Post Graduate</td>\n",
       "      <td>Rs 1,84,77,888\\r\\n ~ 1 Crore+</td>\n",
       "      <td>Rs 8,47,000\\r\\n ~ 8 Lacs+</td>\n",
       "      <td>318665</td>\n",
       "      <td>149</td>\n",
       "      <td>318814</td>\n",
       "      <td>21.399929</td>\n",
       "      <td>29.964370</td>\n",
       "      <td>1489790</td>\n",
       "    </tr>\n",
       "    <tr>\n",
       "      <th>2</th>\n",
       "      <td>Telangana</td>\n",
       "      <td>ADILABAD</td>\n",
       "      <td>RATHOD RAMESH</td>\n",
       "      <td>0</td>\n",
       "      <td>INC</td>\n",
       "      <td>Hand</td>\n",
       "      <td>MALE</td>\n",
       "      <td>3</td>\n",
       "      <td>52.0</td>\n",
       "      <td>ST</td>\n",
       "      <td>12th Pass</td>\n",
       "      <td>Rs 3,64,91,000\\r\\n ~ 3 Crore+</td>\n",
       "      <td>Rs 1,53,00,000\\r\\n ~ 1 Crore+</td>\n",
       "      <td>314057</td>\n",
       "      <td>181</td>\n",
       "      <td>314238</td>\n",
       "      <td>21.092771</td>\n",
       "      <td>29.534285</td>\n",
       "      <td>1489790</td>\n",
       "    </tr>\n",
       "    <tr>\n",
       "      <th>3</th>\n",
       "      <td>Telangana</td>\n",
       "      <td>ADILABAD</td>\n",
       "      <td>NOTA</td>\n",
       "      <td>0</td>\n",
       "      <td>NOTA</td>\n",
       "      <td>NaN</td>\n",
       "      <td>NaN</td>\n",
       "      <td>NaN</td>\n",
       "      <td>NaN</td>\n",
       "      <td>NaN</td>\n",
       "      <td>NaN</td>\n",
       "      <td>NaN</td>\n",
       "      <td>NaN</td>\n",
       "      <td>13030</td>\n",
       "      <td>6</td>\n",
       "      <td>13036</td>\n",
       "      <td>0.875023</td>\n",
       "      <td>1.225214</td>\n",
       "      <td>1489790</td>\n",
       "    </tr>\n",
       "    <tr>\n",
       "      <th>4</th>\n",
       "      <td>Uttar Pradesh</td>\n",
       "      <td>AGRA</td>\n",
       "      <td>Satyapal Singh Baghel</td>\n",
       "      <td>1</td>\n",
       "      <td>BJP</td>\n",
       "      <td>Lotus</td>\n",
       "      <td>MALE</td>\n",
       "      <td>5</td>\n",
       "      <td>58.0</td>\n",
       "      <td>SC</td>\n",
       "      <td>Doctorate</td>\n",
       "      <td>Rs 7,42,74,036\\r\\n ~ 7 Crore+</td>\n",
       "      <td>Rs 86,06,522\\r\\n ~ 86 Lacs+</td>\n",
       "      <td>644459</td>\n",
       "      <td>2416</td>\n",
       "      <td>646875</td>\n",
       "      <td>33.383823</td>\n",
       "      <td>56.464615</td>\n",
       "      <td>1937690</td>\n",
       "    </tr>\n",
       "  </tbody>\n",
       "</table>\n",
       "</div>"
      ],
      "text/plain": [
       "           STATE CONSTITUENCY                   NAME  WINNER PARTY SYMBOL  \\\n",
       "0      Telangana     ADILABAD         SOYAM BAPU RAO       1   BJP  Lotus   \n",
       "1      Telangana     ADILABAD           Godam Nagesh       0   TRS    Car   \n",
       "2      Telangana     ADILABAD          RATHOD RAMESH       0   INC   Hand   \n",
       "3      Telangana     ADILABAD                   NOTA       0  NOTA    NaN   \n",
       "4  Uttar Pradesh         AGRA  Satyapal Singh Baghel       1   BJP  Lotus   \n",
       "\n",
       "  GENDER CRIMINAL\\r\\nCASES   AGE CATEGORY      EDUCATION  \\\n",
       "0   MALE                52  52.0       ST      12th Pass   \n",
       "1   MALE                 0  54.0       ST  Post Graduate   \n",
       "2   MALE                 3  52.0       ST      12th Pass   \n",
       "3    NaN               NaN   NaN      NaN            NaN   \n",
       "4   MALE                 5  58.0       SC      Doctorate   \n",
       "\n",
       "                          ASSETS                    LIABILITIES  \\\n",
       "0    Rs 30,99,414\\r\\n ~ 30 Lacs+      Rs 2,31,450\\r\\n ~ 2 Lacs+   \n",
       "1  Rs 1,84,77,888\\r\\n ~ 1 Crore+      Rs 8,47,000\\r\\n ~ 8 Lacs+   \n",
       "2  Rs 3,64,91,000\\r\\n ~ 3 Crore+  Rs 1,53,00,000\\r\\n ~ 1 Crore+   \n",
       "3                            NaN                            NaN   \n",
       "4  Rs 7,42,74,036\\r\\n ~ 7 Crore+    Rs 86,06,522\\r\\n ~ 86 Lacs+   \n",
       "\n",
       "   GENERAL\\r\\nVOTES  POSTAL\\r\\nVOTES  TOTAL\\r\\nVOTES  \\\n",
       "0            376892              482          377374   \n",
       "1            318665              149          318814   \n",
       "2            314057              181          314238   \n",
       "3             13030                6           13036   \n",
       "4            644459             2416          646875   \n",
       "\n",
       "   OVER TOTAL ELECTORS \\r\\nIN CONSTITUENCY  \\\n",
       "0                                25.330684   \n",
       "1                                21.399929   \n",
       "2                                21.092771   \n",
       "3                                 0.875023   \n",
       "4                                33.383823   \n",
       "\n",
       "   OVER TOTAL VOTES POLLED \\r\\nIN CONSTITUENCY  TOTAL ELECTORS  \n",
       "0                                    35.468248         1489790  \n",
       "1                                    29.964370         1489790  \n",
       "2                                    29.534285         1489790  \n",
       "3                                     1.225214         1489790  \n",
       "4                                    56.464615         1937690  "
      ]
     },
     "execution_count": 128,
     "metadata": {},
     "output_type": "execute_result"
    }
   ],
   "source": [
    "df.head()"
   ]
  },
  {
   "cell_type": "code",
   "execution_count": 129,
   "metadata": {},
   "outputs": [
    {
     "name": "stdout",
     "output_type": "stream",
     "text": [
      "<class 'pandas.core.frame.DataFrame'>\n",
      "RangeIndex: 2263 entries, 0 to 2262\n",
      "Data columns (total 19 columns):\n",
      " #   Column                                     Non-Null Count  Dtype  \n",
      "---  ------                                     --------------  -----  \n",
      " 0   STATE                                      2263 non-null   object \n",
      " 1   CONSTITUENCY                               2263 non-null   object \n",
      " 2   NAME                                       2263 non-null   object \n",
      " 3   WINNER                                     2263 non-null   int64  \n",
      " 4   PARTY                                      2263 non-null   object \n",
      " 5   SYMBOL                                     2018 non-null   object \n",
      " 6   GENDER                                     2018 non-null   object \n",
      " 7   CRIMINAL\r\n",
      "CASES                            2018 non-null   object \n",
      " 8   AGE                                        2018 non-null   float64\n",
      " 9   CATEGORY                                   2018 non-null   object \n",
      " 10  EDUCATION                                  2018 non-null   object \n",
      " 11  ASSETS                                     2018 non-null   object \n",
      " 12  LIABILITIES                                2018 non-null   object \n",
      " 13  GENERAL\r\n",
      "VOTES                             2263 non-null   int64  \n",
      " 14  POSTAL\r\n",
      "VOTES                              2263 non-null   int64  \n",
      " 15  TOTAL\r\n",
      "VOTES                               2263 non-null   int64  \n",
      " 16  OVER TOTAL ELECTORS \r\n",
      "IN CONSTITUENCY      2263 non-null   float64\n",
      " 17  OVER TOTAL VOTES POLLED \r\n",
      "IN CONSTITUENCY  2263 non-null   float64\n",
      " 18  TOTAL ELECTORS                             2263 non-null   int64  \n",
      "dtypes: float64(3), int64(5), object(11)\n",
      "memory usage: 336.0+ KB\n"
     ]
    }
   ],
   "source": [
    "df.info()"
   ]
  },
  {
   "cell_type": "code",
   "execution_count": 130,
   "metadata": {},
   "outputs": [],
   "source": [
    "df.columns = df.columns.str.replace('\\r','')\n",
    "df.columns = df.columns.str.replace('\\n','')"
   ]
  },
  {
   "cell_type": "code",
   "execution_count": 131,
   "metadata": {},
   "outputs": [
    {
     "data": {
      "text/plain": [
       "Index(['STATE', 'CONSTITUENCY', 'NAME', 'WINNER', 'PARTY', 'SYMBOL', 'GENDER',\n",
       "       'CRIMINALCASES', 'AGE', 'CATEGORY', 'EDUCATION', 'ASSETS',\n",
       "       'LIABILITIES', 'GENERALVOTES', 'POSTALVOTES', 'TOTALVOTES',\n",
       "       'OVER TOTAL ELECTORS IN CONSTITUENCY',\n",
       "       'OVER TOTAL VOTES POLLED IN CONSTITUENCY', 'TOTAL ELECTORS'],\n",
       "      dtype='object')"
      ]
     },
     "execution_count": 131,
     "metadata": {},
     "output_type": "execute_result"
    }
   ],
   "source": [
    "df.columns"
   ]
  },
  {
   "cell_type": "code",
   "execution_count": 132,
   "metadata": {},
   "outputs": [
    {
     "data": {
      "text/html": [
       "<div>\n",
       "<style scoped>\n",
       "    .dataframe tbody tr th:only-of-type {\n",
       "        vertical-align: middle;\n",
       "    }\n",
       "\n",
       "    .dataframe tbody tr th {\n",
       "        vertical-align: top;\n",
       "    }\n",
       "\n",
       "    .dataframe thead th {\n",
       "        text-align: right;\n",
       "    }\n",
       "</style>\n",
       "<table border=\"1\" class=\"dataframe\">\n",
       "  <thead>\n",
       "    <tr style=\"text-align: right;\">\n",
       "      <th></th>\n",
       "      <th>WINNER</th>\n",
       "      <th>AGE</th>\n",
       "      <th>GENERALVOTES</th>\n",
       "      <th>POSTALVOTES</th>\n",
       "      <th>TOTALVOTES</th>\n",
       "      <th>OVER TOTAL ELECTORS IN CONSTITUENCY</th>\n",
       "      <th>OVER TOTAL VOTES POLLED IN CONSTITUENCY</th>\n",
       "      <th>TOTAL ELECTORS</th>\n",
       "    </tr>\n",
       "  </thead>\n",
       "  <tbody>\n",
       "    <tr>\n",
       "      <th>count</th>\n",
       "      <td>2263.000000</td>\n",
       "      <td>2018.000000</td>\n",
       "      <td>2.263000e+03</td>\n",
       "      <td>2263.000000</td>\n",
       "      <td>2.263000e+03</td>\n",
       "      <td>2263.000000</td>\n",
       "      <td>2263.000000</td>\n",
       "      <td>2.263000e+03</td>\n",
       "    </tr>\n",
       "    <tr>\n",
       "      <th>mean</th>\n",
       "      <td>0.238179</td>\n",
       "      <td>52.273538</td>\n",
       "      <td>2.615991e+05</td>\n",
       "      <td>990.710561</td>\n",
       "      <td>2.625898e+05</td>\n",
       "      <td>15.811412</td>\n",
       "      <td>23.190525</td>\n",
       "      <td>1.658016e+06</td>\n",
       "    </tr>\n",
       "    <tr>\n",
       "      <th>std</th>\n",
       "      <td>0.426064</td>\n",
       "      <td>11.869373</td>\n",
       "      <td>2.549906e+05</td>\n",
       "      <td>1602.839174</td>\n",
       "      <td>2.559822e+05</td>\n",
       "      <td>14.962861</td>\n",
       "      <td>21.564758</td>\n",
       "      <td>3.145187e+05</td>\n",
       "    </tr>\n",
       "    <tr>\n",
       "      <th>min</th>\n",
       "      <td>0.000000</td>\n",
       "      <td>25.000000</td>\n",
       "      <td>1.339000e+03</td>\n",
       "      <td>0.000000</td>\n",
       "      <td>1.342000e+03</td>\n",
       "      <td>0.097941</td>\n",
       "      <td>1.000039</td>\n",
       "      <td>5.518900e+04</td>\n",
       "    </tr>\n",
       "    <tr>\n",
       "      <th>25%</th>\n",
       "      <td>0.000000</td>\n",
       "      <td>43.250000</td>\n",
       "      <td>2.103450e+04</td>\n",
       "      <td>57.000000</td>\n",
       "      <td>2.116250e+04</td>\n",
       "      <td>1.296518</td>\n",
       "      <td>1.899502</td>\n",
       "      <td>1.530014e+06</td>\n",
       "    </tr>\n",
       "    <tr>\n",
       "      <th>50%</th>\n",
       "      <td>0.000000</td>\n",
       "      <td>52.000000</td>\n",
       "      <td>1.539340e+05</td>\n",
       "      <td>316.000000</td>\n",
       "      <td>1.544890e+05</td>\n",
       "      <td>10.510553</td>\n",
       "      <td>16.221721</td>\n",
       "      <td>1.679030e+06</td>\n",
       "    </tr>\n",
       "    <tr>\n",
       "      <th>75%</th>\n",
       "      <td>0.000000</td>\n",
       "      <td>61.000000</td>\n",
       "      <td>4.858040e+05</td>\n",
       "      <td>1385.000000</td>\n",
       "      <td>4.872315e+05</td>\n",
       "      <td>29.468185</td>\n",
       "      <td>42.590233</td>\n",
       "      <td>1.816857e+06</td>\n",
       "    </tr>\n",
       "    <tr>\n",
       "      <th>max</th>\n",
       "      <td>1.000000</td>\n",
       "      <td>86.000000</td>\n",
       "      <td>1.066824e+06</td>\n",
       "      <td>19367.000000</td>\n",
       "      <td>1.068569e+06</td>\n",
       "      <td>51.951012</td>\n",
       "      <td>74.411856</td>\n",
       "      <td>3.150313e+06</td>\n",
       "    </tr>\n",
       "  </tbody>\n",
       "</table>\n",
       "</div>"
      ],
      "text/plain": [
       "            WINNER          AGE  GENERALVOTES   POSTALVOTES    TOTALVOTES  \\\n",
       "count  2263.000000  2018.000000  2.263000e+03   2263.000000  2.263000e+03   \n",
       "mean      0.238179    52.273538  2.615991e+05    990.710561  2.625898e+05   \n",
       "std       0.426064    11.869373  2.549906e+05   1602.839174  2.559822e+05   \n",
       "min       0.000000    25.000000  1.339000e+03      0.000000  1.342000e+03   \n",
       "25%       0.000000    43.250000  2.103450e+04     57.000000  2.116250e+04   \n",
       "50%       0.000000    52.000000  1.539340e+05    316.000000  1.544890e+05   \n",
       "75%       0.000000    61.000000  4.858040e+05   1385.000000  4.872315e+05   \n",
       "max       1.000000    86.000000  1.066824e+06  19367.000000  1.068569e+06   \n",
       "\n",
       "       OVER TOTAL ELECTORS IN CONSTITUENCY  \\\n",
       "count                          2263.000000   \n",
       "mean                             15.811412   \n",
       "std                              14.962861   \n",
       "min                               0.097941   \n",
       "25%                               1.296518   \n",
       "50%                              10.510553   \n",
       "75%                              29.468185   \n",
       "max                              51.951012   \n",
       "\n",
       "       OVER TOTAL VOTES POLLED IN CONSTITUENCY  TOTAL ELECTORS  \n",
       "count                              2263.000000    2.263000e+03  \n",
       "mean                                 23.190525    1.658016e+06  \n",
       "std                                  21.564758    3.145187e+05  \n",
       "min                                   1.000039    5.518900e+04  \n",
       "25%                                   1.899502    1.530014e+06  \n",
       "50%                                  16.221721    1.679030e+06  \n",
       "75%                                  42.590233    1.816857e+06  \n",
       "max                                  74.411856    3.150313e+06  "
      ]
     },
     "execution_count": 132,
     "metadata": {},
     "output_type": "execute_result"
    }
   ],
   "source": [
    "df.describe()"
   ]
  },
  {
   "cell_type": "code",
   "execution_count": 133,
   "metadata": {},
   "outputs": [
    {
     "data": {
      "text/plain": [
       "STATE                                      0\n",
       "CONSTITUENCY                               0\n",
       "NAME                                       0\n",
       "WINNER                                     0\n",
       "PARTY                                      0\n",
       "SYMBOL                                     0\n",
       "GENDER                                     0\n",
       "CRIMINALCASES                              0\n",
       "AGE                                        0\n",
       "CATEGORY                                   0\n",
       "EDUCATION                                  0\n",
       "ASSETS                                     0\n",
       "LIABILITIES                                0\n",
       "GENERALVOTES                               0\n",
       "POSTALVOTES                                0\n",
       "TOTALVOTES                                 0\n",
       "OVER TOTAL ELECTORS IN CONSTITUENCY        0\n",
       "OVER TOTAL VOTES POLLED IN CONSTITUENCY    0\n",
       "TOTAL ELECTORS                             0\n",
       "dtype: int64"
      ]
     },
     "execution_count": 133,
     "metadata": {},
     "output_type": "execute_result"
    }
   ],
   "source": [
    "# Checking to see if the dataset contains any null values. We need to exclude NOTA votes while checking it.\n",
    "df_NOTA = df[df['PARTY']!= 'NOTA']\n",
    "df_NOTA.isna().sum()"
   ]
  },
  {
   "cell_type": "code",
   "execution_count": 134,
   "metadata": {},
   "outputs": [
    {
     "data": {
      "text/plain": [
       "(2018, 19)"
      ]
     },
     "execution_count": 134,
     "metadata": {},
     "output_type": "execute_result"
    }
   ],
   "source": [
    "df_NOTA.shape"
   ]
  },
  {
   "cell_type": "code",
   "execution_count": 135,
   "metadata": {},
   "outputs": [
    {
     "data": {
      "text/html": [
       "<div>\n",
       "<style scoped>\n",
       "    .dataframe tbody tr th:only-of-type {\n",
       "        vertical-align: middle;\n",
       "    }\n",
       "\n",
       "    .dataframe tbody tr th {\n",
       "        vertical-align: top;\n",
       "    }\n",
       "\n",
       "    .dataframe thead th {\n",
       "        text-align: right;\n",
       "    }\n",
       "</style>\n",
       "<table border=\"1\" class=\"dataframe\">\n",
       "  <thead>\n",
       "    <tr style=\"text-align: right;\">\n",
       "      <th></th>\n",
       "      <th>STATE</th>\n",
       "      <th>CONSTITUENCY</th>\n",
       "      <th>NAME</th>\n",
       "      <th>WINNER</th>\n",
       "      <th>PARTY</th>\n",
       "      <th>SYMBOL</th>\n",
       "      <th>GENDER</th>\n",
       "      <th>CRIMINALCASES</th>\n",
       "      <th>AGE</th>\n",
       "      <th>CATEGORY</th>\n",
       "      <th>EDUCATION</th>\n",
       "      <th>ASSETS</th>\n",
       "      <th>LIABILITIES</th>\n",
       "      <th>GENERALVOTES</th>\n",
       "      <th>POSTALVOTES</th>\n",
       "      <th>TOTALVOTES</th>\n",
       "      <th>OVER TOTAL ELECTORS IN CONSTITUENCY</th>\n",
       "      <th>OVER TOTAL VOTES POLLED IN CONSTITUENCY</th>\n",
       "      <th>TOTAL ELECTORS</th>\n",
       "    </tr>\n",
       "  </thead>\n",
       "  <tbody>\n",
       "    <tr>\n",
       "      <th>0</th>\n",
       "      <td>Telangana</td>\n",
       "      <td>ADILABAD</td>\n",
       "      <td>SOYAM BAPU RAO</td>\n",
       "      <td>1</td>\n",
       "      <td>BJP</td>\n",
       "      <td>Lotus</td>\n",
       "      <td>MALE</td>\n",
       "      <td>52</td>\n",
       "      <td>52.0</td>\n",
       "      <td>ST</td>\n",
       "      <td>12th Pass</td>\n",
       "      <td>Rs 30,99,414\\r\\n ~ 30 Lacs+</td>\n",
       "      <td>Rs 2,31,450\\r\\n ~ 2 Lacs+</td>\n",
       "      <td>376892</td>\n",
       "      <td>482</td>\n",
       "      <td>377374</td>\n",
       "      <td>25.330684</td>\n",
       "      <td>35.468248</td>\n",
       "      <td>1489790</td>\n",
       "    </tr>\n",
       "    <tr>\n",
       "      <th>1</th>\n",
       "      <td>Telangana</td>\n",
       "      <td>ADILABAD</td>\n",
       "      <td>Godam Nagesh</td>\n",
       "      <td>0</td>\n",
       "      <td>TRS</td>\n",
       "      <td>Car</td>\n",
       "      <td>MALE</td>\n",
       "      <td>0</td>\n",
       "      <td>54.0</td>\n",
       "      <td>ST</td>\n",
       "      <td>Post Graduate</td>\n",
       "      <td>Rs 1,84,77,888\\r\\n ~ 1 Crore+</td>\n",
       "      <td>Rs 8,47,000\\r\\n ~ 8 Lacs+</td>\n",
       "      <td>318665</td>\n",
       "      <td>149</td>\n",
       "      <td>318814</td>\n",
       "      <td>21.399929</td>\n",
       "      <td>29.964370</td>\n",
       "      <td>1489790</td>\n",
       "    </tr>\n",
       "    <tr>\n",
       "      <th>2</th>\n",
       "      <td>Telangana</td>\n",
       "      <td>ADILABAD</td>\n",
       "      <td>RATHOD RAMESH</td>\n",
       "      <td>0</td>\n",
       "      <td>INC</td>\n",
       "      <td>Hand</td>\n",
       "      <td>MALE</td>\n",
       "      <td>3</td>\n",
       "      <td>52.0</td>\n",
       "      <td>ST</td>\n",
       "      <td>12th Pass</td>\n",
       "      <td>Rs 3,64,91,000\\r\\n ~ 3 Crore+</td>\n",
       "      <td>Rs 1,53,00,000\\r\\n ~ 1 Crore+</td>\n",
       "      <td>314057</td>\n",
       "      <td>181</td>\n",
       "      <td>314238</td>\n",
       "      <td>21.092771</td>\n",
       "      <td>29.534285</td>\n",
       "      <td>1489790</td>\n",
       "    </tr>\n",
       "    <tr>\n",
       "      <th>4</th>\n",
       "      <td>Uttar Pradesh</td>\n",
       "      <td>AGRA</td>\n",
       "      <td>Satyapal Singh Baghel</td>\n",
       "      <td>1</td>\n",
       "      <td>BJP</td>\n",
       "      <td>Lotus</td>\n",
       "      <td>MALE</td>\n",
       "      <td>5</td>\n",
       "      <td>58.0</td>\n",
       "      <td>SC</td>\n",
       "      <td>Doctorate</td>\n",
       "      <td>Rs 7,42,74,036\\r\\n ~ 7 Crore+</td>\n",
       "      <td>Rs 86,06,522\\r\\n ~ 86 Lacs+</td>\n",
       "      <td>644459</td>\n",
       "      <td>2416</td>\n",
       "      <td>646875</td>\n",
       "      <td>33.383823</td>\n",
       "      <td>56.464615</td>\n",
       "      <td>1937690</td>\n",
       "    </tr>\n",
       "    <tr>\n",
       "      <th>5</th>\n",
       "      <td>Uttar Pradesh</td>\n",
       "      <td>AGRA</td>\n",
       "      <td>Manoj Kumar Soni</td>\n",
       "      <td>0</td>\n",
       "      <td>BSP</td>\n",
       "      <td>Elephant</td>\n",
       "      <td>MALE</td>\n",
       "      <td>0</td>\n",
       "      <td>47.0</td>\n",
       "      <td>SC</td>\n",
       "      <td>Post Graduate</td>\n",
       "      <td>Rs 13,37,84,385\\r\\n ~ 13 Crore+</td>\n",
       "      <td>Rs 2,22,51,891\\r\\n ~ 2 Crore+</td>\n",
       "      <td>434199</td>\n",
       "      <td>1130</td>\n",
       "      <td>435329</td>\n",
       "      <td>22.466390</td>\n",
       "      <td>37.999125</td>\n",
       "      <td>1937690</td>\n",
       "    </tr>\n",
       "    <tr>\n",
       "      <th>6</th>\n",
       "      <td>Uttar Pradesh</td>\n",
       "      <td>AGRA</td>\n",
       "      <td>Preeta Harit</td>\n",
       "      <td>0</td>\n",
       "      <td>INC</td>\n",
       "      <td>Hand</td>\n",
       "      <td>FEMALE</td>\n",
       "      <td>0</td>\n",
       "      <td>54.0</td>\n",
       "      <td>SC</td>\n",
       "      <td>Post Graduate</td>\n",
       "      <td>Rs 5,50,75,753\\r\\n ~ 5 Crore+</td>\n",
       "      <td>Rs 0\\r\\n ~</td>\n",
       "      <td>44877</td>\n",
       "      <td>272</td>\n",
       "      <td>45149</td>\n",
       "      <td>2.330042</td>\n",
       "      <td>3.940979</td>\n",
       "      <td>1937690</td>\n",
       "    </tr>\n",
       "    <tr>\n",
       "      <th>7</th>\n",
       "      <td>Maharashtra</td>\n",
       "      <td>AHMADNAGAR</td>\n",
       "      <td>Dr. SUJAY RADHAKRISHNA VIKHEPATIL</td>\n",
       "      <td>1</td>\n",
       "      <td>BJP</td>\n",
       "      <td>Lotus</td>\n",
       "      <td>MALE</td>\n",
       "      <td>0</td>\n",
       "      <td>37.0</td>\n",
       "      <td>GENERAL</td>\n",
       "      <td>Doctorate</td>\n",
       "      <td>Rs 16,86,64,576\\r\\n ~ 16 Crore+</td>\n",
       "      <td>Rs 26,23,964\\r\\n ~ 26 Lacs+</td>\n",
       "      <td>696961</td>\n",
       "      <td>7699</td>\n",
       "      <td>704660</td>\n",
       "      <td>37.856533</td>\n",
       "      <td>58.425159</td>\n",
       "      <td>1861396</td>\n",
       "    </tr>\n",
       "    <tr>\n",
       "      <th>8</th>\n",
       "      <td>Maharashtra</td>\n",
       "      <td>AHMADNAGAR</td>\n",
       "      <td>SANGRAM ARUNKAKA JAGTAP</td>\n",
       "      <td>0</td>\n",
       "      <td>NCP</td>\n",
       "      <td>Clock</td>\n",
       "      <td>MALE</td>\n",
       "      <td>1</td>\n",
       "      <td>34.0</td>\n",
       "      <td>GENERAL</td>\n",
       "      <td>Graduate</td>\n",
       "      <td>Rs 9,44,88,381\\r\\n ~ 9 Crore+</td>\n",
       "      <td>Rs 3,25,49,132\\r\\n ~ 3 Crore+</td>\n",
       "      <td>419364</td>\n",
       "      <td>3822</td>\n",
       "      <td>423186</td>\n",
       "      <td>22.734872</td>\n",
       "      <td>35.087431</td>\n",
       "      <td>1861396</td>\n",
       "    </tr>\n",
       "    <tr>\n",
       "      <th>9</th>\n",
       "      <td>Maharashtra</td>\n",
       "      <td>AHMADNAGAR</td>\n",
       "      <td>SUDHAKAR LAXMAN AVHAD</td>\n",
       "      <td>0</td>\n",
       "      <td>VBA</td>\n",
       "      <td>Cup &amp; Saucer</td>\n",
       "      <td>MALE</td>\n",
       "      <td>0</td>\n",
       "      <td>62.0</td>\n",
       "      <td>GENERAL</td>\n",
       "      <td>Graduate</td>\n",
       "      <td>Rs 1,39,49,000\\r\\n ~ 1 Crore+</td>\n",
       "      <td>Rs 14,00,000\\r\\n ~ 14 Lacs+</td>\n",
       "      <td>31644</td>\n",
       "      <td>163</td>\n",
       "      <td>31807</td>\n",
       "      <td>1.708771</td>\n",
       "      <td>2.637200</td>\n",
       "      <td>1861396</td>\n",
       "    </tr>\n",
       "    <tr>\n",
       "      <th>10</th>\n",
       "      <td>Gujarat</td>\n",
       "      <td>AHMEDABAD EAST</td>\n",
       "      <td>Patel Hasmukhbhai Somabhai</td>\n",
       "      <td>1</td>\n",
       "      <td>BJP</td>\n",
       "      <td>Lotus</td>\n",
       "      <td>MALE</td>\n",
       "      <td>0</td>\n",
       "      <td>58.0</td>\n",
       "      <td>GENERAL</td>\n",
       "      <td>Others</td>\n",
       "      <td>Rs 7,46,99,690\\r\\n ~ 7 Crore+</td>\n",
       "      <td>Rs 62,52,577\\r\\n ~ 62 Lacs+</td>\n",
       "      <td>745810</td>\n",
       "      <td>4024</td>\n",
       "      <td>749834</td>\n",
       "      <td>41.384970</td>\n",
       "      <td>67.005462</td>\n",
       "      <td>1811851</td>\n",
       "    </tr>\n",
       "    <tr>\n",
       "      <th>11</th>\n",
       "      <td>Gujarat</td>\n",
       "      <td>AHMEDABAD EAST</td>\n",
       "      <td>Gitaben Patel</td>\n",
       "      <td>0</td>\n",
       "      <td>INC</td>\n",
       "      <td>Hand</td>\n",
       "      <td>FEMALE</td>\n",
       "      <td>6</td>\n",
       "      <td>38.0</td>\n",
       "      <td>GENERAL</td>\n",
       "      <td>10th Pass</td>\n",
       "      <td>Rs 4,03,75,418\\r\\n ~ 4 Crore+</td>\n",
       "      <td>Rs 31,21,888\\r\\n ~ 31 Lacs+</td>\n",
       "      <td>312883</td>\n",
       "      <td>2621</td>\n",
       "      <td>315504</td>\n",
       "      <td>17.413352</td>\n",
       "      <td>28.193562</td>\n",
       "      <td>1811851</td>\n",
       "    </tr>\n",
       "    <tr>\n",
       "      <th>12</th>\n",
       "      <td>Gujarat</td>\n",
       "      <td>AHMEDABAD WEST</td>\n",
       "      <td>DR. KIRIT P. SOLANKI</td>\n",
       "      <td>1</td>\n",
       "      <td>BJP</td>\n",
       "      <td>Lotus</td>\n",
       "      <td>MALE</td>\n",
       "      <td>0</td>\n",
       "      <td>69.0</td>\n",
       "      <td>SC</td>\n",
       "      <td>Post Graduate</td>\n",
       "      <td>Rs 8,94,74,039\\r\\n ~ 8 Crore+</td>\n",
       "      <td>Rs 0\\r\\n ~</td>\n",
       "      <td>638241</td>\n",
       "      <td>3381</td>\n",
       "      <td>641622</td>\n",
       "      <td>39.044323</td>\n",
       "      <td>64.211450</td>\n",
       "      <td>1643317</td>\n",
       "    </tr>\n",
       "    <tr>\n",
       "      <th>13</th>\n",
       "      <td>Gujarat</td>\n",
       "      <td>AHMEDABAD WEST</td>\n",
       "      <td>RAJU PARMAR</td>\n",
       "      <td>0</td>\n",
       "      <td>INC</td>\n",
       "      <td>Hand</td>\n",
       "      <td>MALE</td>\n",
       "      <td>0</td>\n",
       "      <td>68.0</td>\n",
       "      <td>SC</td>\n",
       "      <td>Graduate</td>\n",
       "      <td>Rs 26,29,97,727\\r\\n ~ 26 Crore+</td>\n",
       "      <td>Rs 1,89,43,977\\r\\n ~ 1 Crore+</td>\n",
       "      <td>317797</td>\n",
       "      <td>2279</td>\n",
       "      <td>320076</td>\n",
       "      <td>19.477435</td>\n",
       "      <td>32.032169</td>\n",
       "      <td>1643317</td>\n",
       "    </tr>\n",
       "    <tr>\n",
       "      <th>15</th>\n",
       "      <td>Gujarat</td>\n",
       "      <td>AHMEDABAD WEST</td>\n",
       "      <td>TRIBHOVANDAS KARSANDAS VAGHELA</td>\n",
       "      <td>0</td>\n",
       "      <td>BSP</td>\n",
       "      <td>Elephant</td>\n",
       "      <td>MALE</td>\n",
       "      <td>0</td>\n",
       "      <td>66.0</td>\n",
       "      <td>SC</td>\n",
       "      <td>8th Pass</td>\n",
       "      <td>Rs 53,54,000\\r\\n ~ 53 Lacs+</td>\n",
       "      <td>Rs 0\\r\\n ~</td>\n",
       "      <td>9909</td>\n",
       "      <td>119</td>\n",
       "      <td>10028</td>\n",
       "      <td>0.610229</td>\n",
       "      <td>1.003570</td>\n",
       "      <td>1643317</td>\n",
       "    </tr>\n",
       "    <tr>\n",
       "      <th>16</th>\n",
       "      <td>Rajasthan</td>\n",
       "      <td>AJMER</td>\n",
       "      <td>Bhagirath Chaudhary</td>\n",
       "      <td>1</td>\n",
       "      <td>BJP</td>\n",
       "      <td>Lotus</td>\n",
       "      <td>MALE</td>\n",
       "      <td>0</td>\n",
       "      <td>64.0</td>\n",
       "      <td>GENERAL</td>\n",
       "      <td>12th Pass</td>\n",
       "      <td>Rs 8,51,01,774\\r\\n ~ 8 Crore+</td>\n",
       "      <td>Rs 83,19,942\\r\\n ~ 83 Lacs+</td>\n",
       "      <td>811091</td>\n",
       "      <td>3985</td>\n",
       "      <td>815076</td>\n",
       "      <td>43.439536</td>\n",
       "      <td>64.522350</td>\n",
       "      <td>1876346</td>\n",
       "    </tr>\n",
       "    <tr>\n",
       "      <th>17</th>\n",
       "      <td>Rajasthan</td>\n",
       "      <td>AJMER</td>\n",
       "      <td>Riju Jhunjhunwala</td>\n",
       "      <td>0</td>\n",
       "      <td>INC</td>\n",
       "      <td>Hand</td>\n",
       "      <td>MALE</td>\n",
       "      <td>0</td>\n",
       "      <td>40.0</td>\n",
       "      <td>GENERAL</td>\n",
       "      <td>Graduate</td>\n",
       "      <td>Rs 85,39,98,231\\r\\n ~ 85 Crore+</td>\n",
       "      <td>Rs 30,60,12,685\\r\\n ~ 30 Crore+</td>\n",
       "      <td>397420</td>\n",
       "      <td>1232</td>\n",
       "      <td>398652</td>\n",
       "      <td>21.246188</td>\n",
       "      <td>31.557749</td>\n",
       "      <td>1876346</td>\n",
       "    </tr>\n",
       "    <tr>\n",
       "      <th>18</th>\n",
       "      <td>Rajasthan</td>\n",
       "      <td>AJMER</td>\n",
       "      <td>Durga Lal Regar</td>\n",
       "      <td>0</td>\n",
       "      <td>BSP</td>\n",
       "      <td>Elephant</td>\n",
       "      <td>MALE</td>\n",
       "      <td>0</td>\n",
       "      <td>60.0</td>\n",
       "      <td>SC</td>\n",
       "      <td>Post Graduate</td>\n",
       "      <td>Rs 4,17,40,458\\r\\n ~ 4 Crore+</td>\n",
       "      <td>Rs 8,90,000\\r\\n ~ 8 Lacs+</td>\n",
       "      <td>13547</td>\n",
       "      <td>71</td>\n",
       "      <td>13618</td>\n",
       "      <td>0.725772</td>\n",
       "      <td>1.078016</td>\n",
       "      <td>1876346</td>\n",
       "    </tr>\n",
       "    <tr>\n",
       "      <th>19</th>\n",
       "      <td>Rajasthan</td>\n",
       "      <td>AJMER</td>\n",
       "      <td>Vishram Babu</td>\n",
       "      <td>0</td>\n",
       "      <td>APoI</td>\n",
       "      <td>Coat</td>\n",
       "      <td>MALE</td>\n",
       "      <td>0</td>\n",
       "      <td>60.0</td>\n",
       "      <td>SC</td>\n",
       "      <td>Post Graduate</td>\n",
       "      <td>Rs 2,57,92,244\\r\\n ~ 2 Crore+</td>\n",
       "      <td>Rs 2,68,705\\r\\n ~ 2 Lacs+</td>\n",
       "      <td>13036</td>\n",
       "      <td>5</td>\n",
       "      <td>13041</td>\n",
       "      <td>0.695021</td>\n",
       "      <td>1.032340</td>\n",
       "      <td>1876346</td>\n",
       "    </tr>\n",
       "    <tr>\n",
       "      <th>20</th>\n",
       "      <td>Uttar Pradesh</td>\n",
       "      <td>AKBARPUR</td>\n",
       "      <td>Devendra Singh 'Bhole'</td>\n",
       "      <td>1</td>\n",
       "      <td>BJP</td>\n",
       "      <td>Lotus</td>\n",
       "      <td>MALE</td>\n",
       "      <td>0</td>\n",
       "      <td>64.0</td>\n",
       "      <td>GENERAL</td>\n",
       "      <td>10th Pass</td>\n",
       "      <td>Rs 2,85,46,617\\r\\n ~2 Crore+</td>\n",
       "      <td>Rs 5,59,965 \\r\\n~5 Lacs+</td>\n",
       "      <td>577603</td>\n",
       "      <td>3679</td>\n",
       "      <td>581282</td>\n",
       "      <td>32.912920</td>\n",
       "      <td>56.620233</td>\n",
       "      <td>1766121</td>\n",
       "    </tr>\n",
       "    <tr>\n",
       "      <th>21</th>\n",
       "      <td>Uttar Pradesh</td>\n",
       "      <td>AKBARPUR</td>\n",
       "      <td>Nisha Sachan</td>\n",
       "      <td>0</td>\n",
       "      <td>BSP</td>\n",
       "      <td>Elephant</td>\n",
       "      <td>FEMALE</td>\n",
       "      <td>0</td>\n",
       "      <td>46.0</td>\n",
       "      <td>GENERAL</td>\n",
       "      <td>Post Graduate</td>\n",
       "      <td>Rs 13,44,48,979\\r\\n ~ 13 Crore+</td>\n",
       "      <td>Rs 1,36,19,617\\r\\n ~ 1 Crore+</td>\n",
       "      <td>304553</td>\n",
       "      <td>1587</td>\n",
       "      <td>306140</td>\n",
       "      <td>17.334033</td>\n",
       "      <td>29.819809</td>\n",
       "      <td>1766121</td>\n",
       "    </tr>\n",
       "  </tbody>\n",
       "</table>\n",
       "</div>"
      ],
      "text/plain": [
       "            STATE    CONSTITUENCY                               NAME  WINNER  \\\n",
       "0       Telangana        ADILABAD                     SOYAM BAPU RAO       1   \n",
       "1       Telangana        ADILABAD                       Godam Nagesh       0   \n",
       "2       Telangana        ADILABAD                      RATHOD RAMESH       0   \n",
       "4   Uttar Pradesh            AGRA              Satyapal Singh Baghel       1   \n",
       "5   Uttar Pradesh            AGRA                   Manoj Kumar Soni       0   \n",
       "6   Uttar Pradesh            AGRA                       Preeta Harit       0   \n",
       "7     Maharashtra      AHMADNAGAR  Dr. SUJAY RADHAKRISHNA VIKHEPATIL       1   \n",
       "8     Maharashtra      AHMADNAGAR            SANGRAM ARUNKAKA JAGTAP       0   \n",
       "9     Maharashtra      AHMADNAGAR              SUDHAKAR LAXMAN AVHAD       0   \n",
       "10        Gujarat  AHMEDABAD EAST         Patel Hasmukhbhai Somabhai       1   \n",
       "11        Gujarat  AHMEDABAD EAST                      Gitaben Patel       0   \n",
       "12        Gujarat  AHMEDABAD WEST               DR. KIRIT P. SOLANKI       1   \n",
       "13        Gujarat  AHMEDABAD WEST                        RAJU PARMAR       0   \n",
       "15        Gujarat  AHMEDABAD WEST     TRIBHOVANDAS KARSANDAS VAGHELA       0   \n",
       "16      Rajasthan           AJMER                Bhagirath Chaudhary       1   \n",
       "17      Rajasthan           AJMER                  Riju Jhunjhunwala       0   \n",
       "18      Rajasthan           AJMER                    Durga Lal Regar       0   \n",
       "19      Rajasthan           AJMER                       Vishram Babu       0   \n",
       "20  Uttar Pradesh        AKBARPUR             Devendra Singh 'Bhole'       1   \n",
       "21  Uttar Pradesh        AKBARPUR                       Nisha Sachan       0   \n",
       "\n",
       "   PARTY        SYMBOL  GENDER CRIMINALCASES   AGE CATEGORY      EDUCATION  \\\n",
       "0    BJP         Lotus    MALE            52  52.0       ST      12th Pass   \n",
       "1    TRS           Car    MALE             0  54.0       ST  Post Graduate   \n",
       "2    INC          Hand    MALE             3  52.0       ST      12th Pass   \n",
       "4    BJP         Lotus    MALE             5  58.0       SC      Doctorate   \n",
       "5    BSP      Elephant    MALE             0  47.0       SC  Post Graduate   \n",
       "6    INC          Hand  FEMALE             0  54.0       SC  Post Graduate   \n",
       "7    BJP         Lotus    MALE             0  37.0  GENERAL      Doctorate   \n",
       "8    NCP         Clock    MALE             1  34.0  GENERAL       Graduate   \n",
       "9    VBA  Cup & Saucer    MALE             0  62.0  GENERAL       Graduate   \n",
       "10   BJP         Lotus    MALE             0  58.0  GENERAL         Others   \n",
       "11   INC          Hand  FEMALE             6  38.0  GENERAL      10th Pass   \n",
       "12   BJP         Lotus    MALE             0  69.0       SC  Post Graduate   \n",
       "13   INC          Hand    MALE             0  68.0       SC       Graduate   \n",
       "15   BSP      Elephant    MALE             0  66.0       SC       8th Pass   \n",
       "16   BJP         Lotus    MALE             0  64.0  GENERAL      12th Pass   \n",
       "17   INC          Hand    MALE             0  40.0  GENERAL       Graduate   \n",
       "18   BSP      Elephant    MALE             0  60.0       SC  Post Graduate   \n",
       "19  APoI          Coat    MALE             0  60.0       SC  Post Graduate   \n",
       "20   BJP         Lotus    MALE             0  64.0  GENERAL      10th Pass   \n",
       "21   BSP      Elephant  FEMALE             0  46.0  GENERAL  Post Graduate   \n",
       "\n",
       "                             ASSETS                      LIABILITIES  \\\n",
       "0       Rs 30,99,414\\r\\n ~ 30 Lacs+        Rs 2,31,450\\r\\n ~ 2 Lacs+   \n",
       "1     Rs 1,84,77,888\\r\\n ~ 1 Crore+        Rs 8,47,000\\r\\n ~ 8 Lacs+   \n",
       "2     Rs 3,64,91,000\\r\\n ~ 3 Crore+    Rs 1,53,00,000\\r\\n ~ 1 Crore+   \n",
       "4     Rs 7,42,74,036\\r\\n ~ 7 Crore+      Rs 86,06,522\\r\\n ~ 86 Lacs+   \n",
       "5   Rs 13,37,84,385\\r\\n ~ 13 Crore+    Rs 2,22,51,891\\r\\n ~ 2 Crore+   \n",
       "6     Rs 5,50,75,753\\r\\n ~ 5 Crore+                       Rs 0\\r\\n ~   \n",
       "7   Rs 16,86,64,576\\r\\n ~ 16 Crore+      Rs 26,23,964\\r\\n ~ 26 Lacs+   \n",
       "8     Rs 9,44,88,381\\r\\n ~ 9 Crore+    Rs 3,25,49,132\\r\\n ~ 3 Crore+   \n",
       "9     Rs 1,39,49,000\\r\\n ~ 1 Crore+      Rs 14,00,000\\r\\n ~ 14 Lacs+   \n",
       "10    Rs 7,46,99,690\\r\\n ~ 7 Crore+      Rs 62,52,577\\r\\n ~ 62 Lacs+   \n",
       "11    Rs 4,03,75,418\\r\\n ~ 4 Crore+      Rs 31,21,888\\r\\n ~ 31 Lacs+   \n",
       "12    Rs 8,94,74,039\\r\\n ~ 8 Crore+                       Rs 0\\r\\n ~   \n",
       "13  Rs 26,29,97,727\\r\\n ~ 26 Crore+    Rs 1,89,43,977\\r\\n ~ 1 Crore+   \n",
       "15      Rs 53,54,000\\r\\n ~ 53 Lacs+                       Rs 0\\r\\n ~   \n",
       "16    Rs 8,51,01,774\\r\\n ~ 8 Crore+      Rs 83,19,942\\r\\n ~ 83 Lacs+   \n",
       "17  Rs 85,39,98,231\\r\\n ~ 85 Crore+  Rs 30,60,12,685\\r\\n ~ 30 Crore+   \n",
       "18    Rs 4,17,40,458\\r\\n ~ 4 Crore+        Rs 8,90,000\\r\\n ~ 8 Lacs+   \n",
       "19    Rs 2,57,92,244\\r\\n ~ 2 Crore+        Rs 2,68,705\\r\\n ~ 2 Lacs+   \n",
       "20     Rs 2,85,46,617\\r\\n ~2 Crore+         Rs 5,59,965 \\r\\n~5 Lacs+   \n",
       "21  Rs 13,44,48,979\\r\\n ~ 13 Crore+    Rs 1,36,19,617\\r\\n ~ 1 Crore+   \n",
       "\n",
       "    GENERALVOTES  POSTALVOTES  TOTALVOTES  \\\n",
       "0         376892          482      377374   \n",
       "1         318665          149      318814   \n",
       "2         314057          181      314238   \n",
       "4         644459         2416      646875   \n",
       "5         434199         1130      435329   \n",
       "6          44877          272       45149   \n",
       "7         696961         7699      704660   \n",
       "8         419364         3822      423186   \n",
       "9          31644          163       31807   \n",
       "10        745810         4024      749834   \n",
       "11        312883         2621      315504   \n",
       "12        638241         3381      641622   \n",
       "13        317797         2279      320076   \n",
       "15          9909          119       10028   \n",
       "16        811091         3985      815076   \n",
       "17        397420         1232      398652   \n",
       "18         13547           71       13618   \n",
       "19         13036            5       13041   \n",
       "20        577603         3679      581282   \n",
       "21        304553         1587      306140   \n",
       "\n",
       "    OVER TOTAL ELECTORS IN CONSTITUENCY  \\\n",
       "0                             25.330684   \n",
       "1                             21.399929   \n",
       "2                             21.092771   \n",
       "4                             33.383823   \n",
       "5                             22.466390   \n",
       "6                              2.330042   \n",
       "7                             37.856533   \n",
       "8                             22.734872   \n",
       "9                              1.708771   \n",
       "10                            41.384970   \n",
       "11                            17.413352   \n",
       "12                            39.044323   \n",
       "13                            19.477435   \n",
       "15                             0.610229   \n",
       "16                            43.439536   \n",
       "17                            21.246188   \n",
       "18                             0.725772   \n",
       "19                             0.695021   \n",
       "20                            32.912920   \n",
       "21                            17.334033   \n",
       "\n",
       "    OVER TOTAL VOTES POLLED IN CONSTITUENCY  TOTAL ELECTORS  \n",
       "0                                 35.468248         1489790  \n",
       "1                                 29.964370         1489790  \n",
       "2                                 29.534285         1489790  \n",
       "4                                 56.464615         1937690  \n",
       "5                                 37.999125         1937690  \n",
       "6                                  3.940979         1937690  \n",
       "7                                 58.425159         1861396  \n",
       "8                                 35.087431         1861396  \n",
       "9                                  2.637200         1861396  \n",
       "10                                67.005462         1811851  \n",
       "11                                28.193562         1811851  \n",
       "12                                64.211450         1643317  \n",
       "13                                32.032169         1643317  \n",
       "15                                 1.003570         1643317  \n",
       "16                                64.522350         1876346  \n",
       "17                                31.557749         1876346  \n",
       "18                                 1.078016         1876346  \n",
       "19                                 1.032340         1876346  \n",
       "20                                56.620233         1766121  \n",
       "21                                29.819809         1766121  "
      ]
     },
     "execution_count": 135,
     "metadata": {},
     "output_type": "execute_result"
    }
   ],
   "source": [
    "df_NOTA.head(20)"
   ]
  },
  {
   "cell_type": "code",
   "execution_count": 136,
   "metadata": {},
   "outputs": [],
   "source": [
    "# Dropping irrelevant columns from the dataset\n",
    "df_NOTA.drop(['SYMBOL', 'ASSETS', 'LIABILITIES'], axis=1, inplace=True)"
   ]
  },
  {
   "cell_type": "code",
   "execution_count": 137,
   "metadata": {},
   "outputs": [
    {
     "data": {
      "text/plain": [
       "array(['12th Pass', 'Post Graduate', 'Doctorate', 'Graduate', 'Others',\n",
       "       '10th Pass', '8th Pass', 'Graduate Professional', 'Literate',\n",
       "       'Illiterate', '5th Pass', 'Not Available', 'Post Graduate\\r\\n'],\n",
       "      dtype=object)"
      ]
     },
     "execution_count": 137,
     "metadata": {},
     "output_type": "execute_result"
    }
   ],
   "source": [
    "df_NOTA['EDUCATION'].unique()"
   ]
  },
  {
   "cell_type": "code",
   "execution_count": 138,
   "metadata": {},
   "outputs": [],
   "source": [
    "# Removing the \\n from 'Post Graduate\\n'\n",
    "df_NOTA['EDUCATION'].replace(to_replace='Post Graduate\\r\\n', value='Post Graduate', inplace=True)\n",
    "\n",
    "# 'Graduate Professional' are Graduates, so replacing 'Graduate Professional' with 'Graduate'\n",
    "df_NOTA['EDUCATION'].replace(to_replace='Graduate Professional', value='Graduate', inplace=True)"
   ]
  },
  {
   "cell_type": "code",
   "execution_count": 139,
   "metadata": {},
   "outputs": [
    {
     "data": {
      "text/plain": [
       "array(['12th Pass', 'Post Graduate', 'Doctorate', 'Graduate', 'Others',\n",
       "       '10th Pass', '8th Pass', 'Literate', 'Illiterate', '5th Pass',\n",
       "       'Not Available'], dtype=object)"
      ]
     },
     "execution_count": 139,
     "metadata": {},
     "output_type": "execute_result"
    }
   ],
   "source": [
    "df_NOTA['EDUCATION'].unique()"
   ]
  },
  {
   "cell_type": "code",
   "execution_count": 140,
   "metadata": {},
   "outputs": [
    {
     "data": {
      "text/plain": [
       "STATE                                       object\n",
       "CONSTITUENCY                                object\n",
       "NAME                                        object\n",
       "WINNER                                       int64\n",
       "PARTY                                       object\n",
       "GENDER                                      object\n",
       "CRIMINALCASES                               object\n",
       "AGE                                        float64\n",
       "CATEGORY                                    object\n",
       "EDUCATION                                   object\n",
       "GENERALVOTES                                 int64\n",
       "POSTALVOTES                                  int64\n",
       "TOTALVOTES                                   int64\n",
       "OVER TOTAL ELECTORS IN CONSTITUENCY        float64\n",
       "OVER TOTAL VOTES POLLED IN CONSTITUENCY    float64\n",
       "TOTAL ELECTORS                               int64\n",
       "dtype: object"
      ]
     },
     "execution_count": 140,
     "metadata": {},
     "output_type": "execute_result"
    }
   ],
   "source": [
    "df_NOTA.dtypes"
   ]
  },
  {
   "cell_type": "code",
   "execution_count": 141,
   "metadata": {},
   "outputs": [
    {
     "data": {
      "text/html": [
       "<div>\n",
       "<style scoped>\n",
       "    .dataframe tbody tr th:only-of-type {\n",
       "        vertical-align: middle;\n",
       "    }\n",
       "\n",
       "    .dataframe tbody tr th {\n",
       "        vertical-align: top;\n",
       "    }\n",
       "\n",
       "    .dataframe thead th {\n",
       "        text-align: right;\n",
       "    }\n",
       "</style>\n",
       "<table border=\"1\" class=\"dataframe\">\n",
       "  <thead>\n",
       "    <tr style=\"text-align: right;\">\n",
       "      <th></th>\n",
       "      <th>STATE</th>\n",
       "      <th>CONSTITUENCY</th>\n",
       "      <th>NAME</th>\n",
       "      <th>WINNER</th>\n",
       "      <th>PARTY</th>\n",
       "      <th>GENDER</th>\n",
       "      <th>CRIMINALCASES</th>\n",
       "      <th>AGE</th>\n",
       "      <th>CATEGORY</th>\n",
       "      <th>EDUCATION</th>\n",
       "      <th>GENERALVOTES</th>\n",
       "      <th>POSTALVOTES</th>\n",
       "      <th>TOTALVOTES</th>\n",
       "      <th>OVER TOTAL ELECTORS IN CONSTITUENCY</th>\n",
       "      <th>OVER TOTAL VOTES POLLED IN CONSTITUENCY</th>\n",
       "      <th>TOTAL ELECTORS</th>\n",
       "    </tr>\n",
       "  </thead>\n",
       "  <tbody>\n",
       "    <tr>\n",
       "      <th>468</th>\n",
       "      <td>Bihar</td>\n",
       "      <td>BUXAR</td>\n",
       "      <td>Ramchandra Singh Yadav</td>\n",
       "      <td>0</td>\n",
       "      <td>IND</td>\n",
       "      <td>MALE</td>\n",
       "      <td>Not Available</td>\n",
       "      <td>42.0</td>\n",
       "      <td>GENERAL</td>\n",
       "      <td>Not Available</td>\n",
       "      <td>10721</td>\n",
       "      <td>9</td>\n",
       "      <td>10730</td>\n",
       "      <td>0.586540</td>\n",
       "      <td>1.087175</td>\n",
       "      <td>1829373</td>\n",
       "    </tr>\n",
       "    <tr>\n",
       "      <th>532</th>\n",
       "      <td>Tamil Nadu</td>\n",
       "      <td>CHIDAMBARAM</td>\n",
       "      <td>SIVAJOTHI M</td>\n",
       "      <td>0</td>\n",
       "      <td>NTK</td>\n",
       "      <td>MALE</td>\n",
       "      <td>Not Available</td>\n",
       "      <td>35.0</td>\n",
       "      <td>SC</td>\n",
       "      <td>Not Available</td>\n",
       "      <td>37329</td>\n",
       "      <td>142</td>\n",
       "      <td>37471</td>\n",
       "      <td>2.531445</td>\n",
       "      <td>3.246331</td>\n",
       "      <td>1480222</td>\n",
       "    </tr>\n",
       "    <tr>\n",
       "      <th>612</th>\n",
       "      <td>Uttar Pradesh</td>\n",
       "      <td>DEORIA</td>\n",
       "      <td>BINOD KUMAR JAISWAL</td>\n",
       "      <td>0</td>\n",
       "      <td>BSP</td>\n",
       "      <td>MALE</td>\n",
       "      <td>Not Available</td>\n",
       "      <td>56.0</td>\n",
       "      <td>GENERAL</td>\n",
       "      <td>Not Available</td>\n",
       "      <td>327728</td>\n",
       "      <td>2985</td>\n",
       "      <td>330713</td>\n",
       "      <td>18.852693</td>\n",
       "      <td>32.563441</td>\n",
       "      <td>1754195</td>\n",
       "    </tr>\n",
       "    <tr>\n",
       "      <th>613</th>\n",
       "      <td>Uttar Pradesh</td>\n",
       "      <td>DEORIA</td>\n",
       "      <td>NIYAZ AHMED</td>\n",
       "      <td>0</td>\n",
       "      <td>INC</td>\n",
       "      <td>MALE</td>\n",
       "      <td>Not Available</td>\n",
       "      <td>57.0</td>\n",
       "      <td>GENERAL</td>\n",
       "      <td>Not Available</td>\n",
       "      <td>50749</td>\n",
       "      <td>307</td>\n",
       "      <td>51056</td>\n",
       "      <td>2.910509</td>\n",
       "      <td>5.027196</td>\n",
       "      <td>1754195</td>\n",
       "    </tr>\n",
       "    <tr>\n",
       "      <th>654</th>\n",
       "      <td>Tamil Nadu</td>\n",
       "      <td>DINDIGUL</td>\n",
       "      <td>JOTHIMUTHU, K.</td>\n",
       "      <td>0</td>\n",
       "      <td>PMK</td>\n",
       "      <td>MALE</td>\n",
       "      <td>Not Available</td>\n",
       "      <td>48.0</td>\n",
       "      <td>GENERAL</td>\n",
       "      <td>Not Available</td>\n",
       "      <td>206782</td>\n",
       "      <td>769</td>\n",
       "      <td>207551</td>\n",
       "      <td>13.460896</td>\n",
       "      <td>17.877979</td>\n",
       "      <td>1541881</td>\n",
       "    </tr>\n",
       "    <tr>\n",
       "      <th>656</th>\n",
       "      <td>Tamil Nadu</td>\n",
       "      <td>DINDIGUL</td>\n",
       "      <td>MANSOORALI KHAN, A.</td>\n",
       "      <td>0</td>\n",
       "      <td>NTK</td>\n",
       "      <td>MALE</td>\n",
       "      <td>Not Available</td>\n",
       "      <td>56.0</td>\n",
       "      <td>GENERAL</td>\n",
       "      <td>Not Available</td>\n",
       "      <td>54574</td>\n",
       "      <td>383</td>\n",
       "      <td>54957</td>\n",
       "      <td>3.564283</td>\n",
       "      <td>4.733873</td>\n",
       "      <td>1541881</td>\n",
       "    </tr>\n",
       "    <tr>\n",
       "      <th>688</th>\n",
       "      <td>Andhra Pradesh</td>\n",
       "      <td>ELURU</td>\n",
       "      <td>PENTAPATI PULLARAO</td>\n",
       "      <td>0</td>\n",
       "      <td>JnP</td>\n",
       "      <td>MALE</td>\n",
       "      <td>Not Available</td>\n",
       "      <td>71.0</td>\n",
       "      <td>GENERAL</td>\n",
       "      <td>Not Available</td>\n",
       "      <td>76481</td>\n",
       "      <td>346</td>\n",
       "      <td>76827</td>\n",
       "      <td>4.816891</td>\n",
       "      <td>5.766884</td>\n",
       "      <td>1594950</td>\n",
       "    </tr>\n",
       "    <tr>\n",
       "      <th>972</th>\n",
       "      <td>Bihar</td>\n",
       "      <td>JAMUI (SC)</td>\n",
       "      <td>UPENDRA RAVIDAS</td>\n",
       "      <td>0</td>\n",
       "      <td>BSP</td>\n",
       "      <td>MALE</td>\n",
       "      <td>Not Available</td>\n",
       "      <td>40.0</td>\n",
       "      <td>SC</td>\n",
       "      <td>Not Available</td>\n",
       "      <td>31504</td>\n",
       "      <td>107</td>\n",
       "      <td>31611</td>\n",
       "      <td>1.839117</td>\n",
       "      <td>3.329012</td>\n",
       "      <td>1718814</td>\n",
       "    </tr>\n",
       "    <tr>\n",
       "      <th>1033</th>\n",
       "      <td>Uttar Pradesh</td>\n",
       "      <td>KAISERGANJ</td>\n",
       "      <td>Vinay Kumar Pandey 'Vinnu'</td>\n",
       "      <td>0</td>\n",
       "      <td>INC</td>\n",
       "      <td>MALE</td>\n",
       "      <td>Not Available</td>\n",
       "      <td>54.0</td>\n",
       "      <td>GENERAL</td>\n",
       "      <td>Not Available</td>\n",
       "      <td>37049</td>\n",
       "      <td>83</td>\n",
       "      <td>37132</td>\n",
       "      <td>2.056097</td>\n",
       "      <td>3.780019</td>\n",
       "      <td>1805946</td>\n",
       "    </tr>\n",
       "    <tr>\n",
       "      <th>1052</th>\n",
       "      <td>Tamil Nadu</td>\n",
       "      <td>KALLAKURICHI</td>\n",
       "      <td>Sharfudeen S</td>\n",
       "      <td>0</td>\n",
       "      <td>NTK</td>\n",
       "      <td>MALE</td>\n",
       "      <td>Not Available</td>\n",
       "      <td>40.0</td>\n",
       "      <td>GENERAL</td>\n",
       "      <td>Not Available</td>\n",
       "      <td>30103</td>\n",
       "      <td>143</td>\n",
       "      <td>30246</td>\n",
       "      <td>1.978236</td>\n",
       "      <td>2.510177</td>\n",
       "      <td>1528938</td>\n",
       "    </tr>\n",
       "    <tr>\n",
       "      <th>1126</th>\n",
       "      <td>Uttar Pradesh</td>\n",
       "      <td>KAUSHAMBI</td>\n",
       "      <td>SHAILENDRA KUMAR</td>\n",
       "      <td>0</td>\n",
       "      <td>IND</td>\n",
       "      <td>MALE</td>\n",
       "      <td>Not Available</td>\n",
       "      <td>44.0</td>\n",
       "      <td>SC</td>\n",
       "      <td>Not Available</td>\n",
       "      <td>26954</td>\n",
       "      <td>13</td>\n",
       "      <td>26967</td>\n",
       "      <td>1.508964</td>\n",
       "      <td>2.765741</td>\n",
       "      <td>1787120</td>\n",
       "    </tr>\n",
       "    <tr>\n",
       "      <th>1309</th>\n",
       "      <td>Bihar</td>\n",
       "      <td>MADHUBANI</td>\n",
       "      <td>BADRI KUMAR PURBEY</td>\n",
       "      <td>0</td>\n",
       "      <td>VSIP</td>\n",
       "      <td>MALE</td>\n",
       "      <td>Not Available</td>\n",
       "      <td>46.0</td>\n",
       "      <td>GENERAL</td>\n",
       "      <td>Not Available</td>\n",
       "      <td>140705</td>\n",
       "      <td>198</td>\n",
       "      <td>140903</td>\n",
       "      <td>7.859391</td>\n",
       "      <td>14.605797</td>\n",
       "      <td>1792798</td>\n",
       "    </tr>\n",
       "    <tr>\n",
       "      <th>1681</th>\n",
       "      <td>Kerala</td>\n",
       "      <td>PONNANI</td>\n",
       "      <td>P.V. Anvar Puthan Veetil</td>\n",
       "      <td>0</td>\n",
       "      <td>IND</td>\n",
       "      <td>MALE</td>\n",
       "      <td>Not Available</td>\n",
       "      <td>51.0</td>\n",
       "      <td>GENERAL</td>\n",
       "      <td>Not Available</td>\n",
       "      <td>328208</td>\n",
       "      <td>343</td>\n",
       "      <td>328551</td>\n",
       "      <td>24.215085</td>\n",
       "      <td>32.294278</td>\n",
       "      <td>1356803</td>\n",
       "    </tr>\n",
       "    <tr>\n",
       "      <th>1696</th>\n",
       "      <td>Puducherry</td>\n",
       "      <td>PUDUCHERRY</td>\n",
       "      <td>N.SHARMILA BEGUM</td>\n",
       "      <td>0</td>\n",
       "      <td>NTK</td>\n",
       "      <td>FEMALE</td>\n",
       "      <td>Not Available</td>\n",
       "      <td>30.0</td>\n",
       "      <td>GENERAL</td>\n",
       "      <td>Not Available</td>\n",
       "      <td>22842</td>\n",
       "      <td>15</td>\n",
       "      <td>22857</td>\n",
       "      <td>2.348137</td>\n",
       "      <td>2.890017</td>\n",
       "      <td>973410</td>\n",
       "    </tr>\n",
       "    <tr>\n",
       "      <th>1716</th>\n",
       "      <td>Bihar</td>\n",
       "      <td>PURVI CHAMPARAN</td>\n",
       "      <td>AAKASH KUMAR SINGH</td>\n",
       "      <td>0</td>\n",
       "      <td>BLSP</td>\n",
       "      <td>MALE</td>\n",
       "      <td>Not Available</td>\n",
       "      <td>27.0</td>\n",
       "      <td>GENERAL</td>\n",
       "      <td>Not Available</td>\n",
       "      <td>281500</td>\n",
       "      <td>2639</td>\n",
       "      <td>284139</td>\n",
       "      <td>17.130512</td>\n",
       "      <td>28.410065</td>\n",
       "      <td>1658672</td>\n",
       "    </tr>\n",
       "    <tr>\n",
       "      <th>1938</th>\n",
       "      <td>Madhya Pradesh</td>\n",
       "      <td>SIDHI</td>\n",
       "      <td>Dileep Kumar Shukla</td>\n",
       "      <td>0</td>\n",
       "      <td>IND</td>\n",
       "      <td>MALE</td>\n",
       "      <td>Not Available</td>\n",
       "      <td>34.0</td>\n",
       "      <td>GENERAL</td>\n",
       "      <td>Not Available</td>\n",
       "      <td>15555</td>\n",
       "      <td>0</td>\n",
       "      <td>15555</td>\n",
       "      <td>0.842840</td>\n",
       "      <td>1.212672</td>\n",
       "      <td>1845547</td>\n",
       "    </tr>\n",
       "    <tr>\n",
       "      <th>1971</th>\n",
       "      <td>Tamil Nadu</td>\n",
       "      <td>SIVAGANGA</td>\n",
       "      <td>V.PANDI</td>\n",
       "      <td>0</td>\n",
       "      <td>IND</td>\n",
       "      <td>MALE</td>\n",
       "      <td>Not Available</td>\n",
       "      <td>43.0</td>\n",
       "      <td>GENERAL</td>\n",
       "      <td>Not Available</td>\n",
       "      <td>122325</td>\n",
       "      <td>209</td>\n",
       "      <td>122534</td>\n",
       "      <td>7.895135</td>\n",
       "      <td>11.294435</td>\n",
       "      <td>1552019</td>\n",
       "    </tr>\n",
       "    <tr>\n",
       "      <th>1978</th>\n",
       "      <td>Bihar</td>\n",
       "      <td>SIWAN</td>\n",
       "      <td>Deva Kant Mishra Alias Munna Bhaiya</td>\n",
       "      <td>0</td>\n",
       "      <td>IND</td>\n",
       "      <td>MALE</td>\n",
       "      <td>Not Available</td>\n",
       "      <td>43.0</td>\n",
       "      <td>GENERAL</td>\n",
       "      <td>Not Available</td>\n",
       "      <td>36458</td>\n",
       "      <td>1</td>\n",
       "      <td>36459</td>\n",
       "      <td>2.026005</td>\n",
       "      <td>3.701985</td>\n",
       "      <td>1799551</td>\n",
       "    </tr>\n",
       "    <tr>\n",
       "      <th>2069</th>\n",
       "      <td>Tamil Nadu</td>\n",
       "      <td>THENI</td>\n",
       "      <td>THANGA TAMILSELVAN</td>\n",
       "      <td>0</td>\n",
       "      <td>IND</td>\n",
       "      <td>MALE</td>\n",
       "      <td>Not Available</td>\n",
       "      <td>58.0</td>\n",
       "      <td>GENERAL</td>\n",
       "      <td>Not Available</td>\n",
       "      <td>143173</td>\n",
       "      <td>877</td>\n",
       "      <td>144050</td>\n",
       "      <td>9.227822</td>\n",
       "      <td>12.259491</td>\n",
       "      <td>1561040</td>\n",
       "    </tr>\n",
       "    <tr>\n",
       "      <th>2188</th>\n",
       "      <td>Bihar</td>\n",
       "      <td>VAISHALI</td>\n",
       "      <td>Rinkoo Devi</td>\n",
       "      <td>0</td>\n",
       "      <td>IND</td>\n",
       "      <td>FEMALE</td>\n",
       "      <td>Not Available</td>\n",
       "      <td>37.0</td>\n",
       "      <td>GENERAL</td>\n",
       "      <td>Not Available</td>\n",
       "      <td>16734</td>\n",
       "      <td>4</td>\n",
       "      <td>16738</td>\n",
       "      <td>0.964180</td>\n",
       "      <td>1.557384</td>\n",
       "      <td>1735983</td>\n",
       "    </tr>\n",
       "    <tr>\n",
       "      <th>2223</th>\n",
       "      <td>Tamil Nadu</td>\n",
       "      <td>VIRUDHUNAGAR</td>\n",
       "      <td>MUNIYASAMY, V.</td>\n",
       "      <td>0</td>\n",
       "      <td>MNM</td>\n",
       "      <td>MALE</td>\n",
       "      <td>Not Available</td>\n",
       "      <td>41.0</td>\n",
       "      <td>GENERAL</td>\n",
       "      <td>Not Available</td>\n",
       "      <td>56815</td>\n",
       "      <td>314</td>\n",
       "      <td>57129</td>\n",
       "      <td>3.848999</td>\n",
       "      <td>5.309752</td>\n",
       "      <td>1484256</td>\n",
       "    </tr>\n",
       "    <tr>\n",
       "      <th>2249</th>\n",
       "      <td>Kerala</td>\n",
       "      <td>WAYANAD</td>\n",
       "      <td>Thushar Vellappally</td>\n",
       "      <td>0</td>\n",
       "      <td>BDJS</td>\n",
       "      <td>MALE</td>\n",
       "      <td>Not Available</td>\n",
       "      <td>50.0</td>\n",
       "      <td>GENERAL</td>\n",
       "      <td>Not Available</td>\n",
       "      <td>78590</td>\n",
       "      <td>226</td>\n",
       "      <td>78816</td>\n",
       "      <td>5.796662</td>\n",
       "      <td>7.212569</td>\n",
       "      <td>1359679</td>\n",
       "    </tr>\n",
       "  </tbody>\n",
       "</table>\n",
       "</div>"
      ],
      "text/plain": [
       "               STATE     CONSTITUENCY                                 NAME  \\\n",
       "468            Bihar            BUXAR               Ramchandra Singh Yadav   \n",
       "532       Tamil Nadu      CHIDAMBARAM                          SIVAJOTHI M   \n",
       "612    Uttar Pradesh           DEORIA                  BINOD KUMAR JAISWAL   \n",
       "613    Uttar Pradesh           DEORIA                          NIYAZ AHMED   \n",
       "654       Tamil Nadu         DINDIGUL                       JOTHIMUTHU, K.   \n",
       "656       Tamil Nadu         DINDIGUL                  MANSOORALI KHAN, A.   \n",
       "688   Andhra Pradesh            ELURU                   PENTAPATI PULLARAO   \n",
       "972            Bihar       JAMUI (SC)                      UPENDRA RAVIDAS   \n",
       "1033   Uttar Pradesh       KAISERGANJ           Vinay Kumar Pandey 'Vinnu'   \n",
       "1052      Tamil Nadu     KALLAKURICHI                         Sharfudeen S   \n",
       "1126   Uttar Pradesh        KAUSHAMBI                     SHAILENDRA KUMAR   \n",
       "1309           Bihar        MADHUBANI                   BADRI KUMAR PURBEY   \n",
       "1681          Kerala          PONNANI             P.V. Anvar Puthan Veetil   \n",
       "1696      Puducherry       PUDUCHERRY                     N.SHARMILA BEGUM   \n",
       "1716           Bihar  PURVI CHAMPARAN                   AAKASH KUMAR SINGH   \n",
       "1938  Madhya Pradesh            SIDHI                  Dileep Kumar Shukla   \n",
       "1971      Tamil Nadu        SIVAGANGA                              V.PANDI   \n",
       "1978           Bihar            SIWAN  Deva Kant Mishra Alias Munna Bhaiya   \n",
       "2069      Tamil Nadu            THENI                   THANGA TAMILSELVAN   \n",
       "2188           Bihar         VAISHALI                          Rinkoo Devi   \n",
       "2223      Tamil Nadu     VIRUDHUNAGAR                       MUNIYASAMY, V.   \n",
       "2249          Kerala          WAYANAD                  Thushar Vellappally   \n",
       "\n",
       "      WINNER PARTY  GENDER  CRIMINALCASES   AGE CATEGORY      EDUCATION  \\\n",
       "468        0   IND    MALE  Not Available  42.0  GENERAL  Not Available   \n",
       "532        0   NTK    MALE  Not Available  35.0       SC  Not Available   \n",
       "612        0   BSP    MALE  Not Available  56.0  GENERAL  Not Available   \n",
       "613        0   INC    MALE  Not Available  57.0  GENERAL  Not Available   \n",
       "654        0   PMK    MALE  Not Available  48.0  GENERAL  Not Available   \n",
       "656        0   NTK    MALE  Not Available  56.0  GENERAL  Not Available   \n",
       "688        0   JnP    MALE  Not Available  71.0  GENERAL  Not Available   \n",
       "972        0   BSP    MALE  Not Available  40.0       SC  Not Available   \n",
       "1033       0   INC    MALE  Not Available  54.0  GENERAL  Not Available   \n",
       "1052       0   NTK    MALE  Not Available  40.0  GENERAL  Not Available   \n",
       "1126       0   IND    MALE  Not Available  44.0       SC  Not Available   \n",
       "1309       0  VSIP    MALE  Not Available  46.0  GENERAL  Not Available   \n",
       "1681       0   IND    MALE  Not Available  51.0  GENERAL  Not Available   \n",
       "1696       0   NTK  FEMALE  Not Available  30.0  GENERAL  Not Available   \n",
       "1716       0  BLSP    MALE  Not Available  27.0  GENERAL  Not Available   \n",
       "1938       0   IND    MALE  Not Available  34.0  GENERAL  Not Available   \n",
       "1971       0   IND    MALE  Not Available  43.0  GENERAL  Not Available   \n",
       "1978       0   IND    MALE  Not Available  43.0  GENERAL  Not Available   \n",
       "2069       0   IND    MALE  Not Available  58.0  GENERAL  Not Available   \n",
       "2188       0   IND  FEMALE  Not Available  37.0  GENERAL  Not Available   \n",
       "2223       0   MNM    MALE  Not Available  41.0  GENERAL  Not Available   \n",
       "2249       0  BDJS    MALE  Not Available  50.0  GENERAL  Not Available   \n",
       "\n",
       "      GENERALVOTES  POSTALVOTES  TOTALVOTES  \\\n",
       "468          10721            9       10730   \n",
       "532          37329          142       37471   \n",
       "612         327728         2985      330713   \n",
       "613          50749          307       51056   \n",
       "654         206782          769      207551   \n",
       "656          54574          383       54957   \n",
       "688          76481          346       76827   \n",
       "972          31504          107       31611   \n",
       "1033         37049           83       37132   \n",
       "1052         30103          143       30246   \n",
       "1126         26954           13       26967   \n",
       "1309        140705          198      140903   \n",
       "1681        328208          343      328551   \n",
       "1696         22842           15       22857   \n",
       "1716        281500         2639      284139   \n",
       "1938         15555            0       15555   \n",
       "1971        122325          209      122534   \n",
       "1978         36458            1       36459   \n",
       "2069        143173          877      144050   \n",
       "2188         16734            4       16738   \n",
       "2223         56815          314       57129   \n",
       "2249         78590          226       78816   \n",
       "\n",
       "      OVER TOTAL ELECTORS IN CONSTITUENCY  \\\n",
       "468                              0.586540   \n",
       "532                              2.531445   \n",
       "612                             18.852693   \n",
       "613                              2.910509   \n",
       "654                             13.460896   \n",
       "656                              3.564283   \n",
       "688                              4.816891   \n",
       "972                              1.839117   \n",
       "1033                             2.056097   \n",
       "1052                             1.978236   \n",
       "1126                             1.508964   \n",
       "1309                             7.859391   \n",
       "1681                            24.215085   \n",
       "1696                             2.348137   \n",
       "1716                            17.130512   \n",
       "1938                             0.842840   \n",
       "1971                             7.895135   \n",
       "1978                             2.026005   \n",
       "2069                             9.227822   \n",
       "2188                             0.964180   \n",
       "2223                             3.848999   \n",
       "2249                             5.796662   \n",
       "\n",
       "      OVER TOTAL VOTES POLLED IN CONSTITUENCY  TOTAL ELECTORS  \n",
       "468                                  1.087175         1829373  \n",
       "532                                  3.246331         1480222  \n",
       "612                                 32.563441         1754195  \n",
       "613                                  5.027196         1754195  \n",
       "654                                 17.877979         1541881  \n",
       "656                                  4.733873         1541881  \n",
       "688                                  5.766884         1594950  \n",
       "972                                  3.329012         1718814  \n",
       "1033                                 3.780019         1805946  \n",
       "1052                                 2.510177         1528938  \n",
       "1126                                 2.765741         1787120  \n",
       "1309                                14.605797         1792798  \n",
       "1681                                32.294278         1356803  \n",
       "1696                                 2.890017          973410  \n",
       "1716                                28.410065         1658672  \n",
       "1938                                 1.212672         1845547  \n",
       "1971                                11.294435         1552019  \n",
       "1978                                 3.701985         1799551  \n",
       "2069                                12.259491         1561040  \n",
       "2188                                 1.557384         1735983  \n",
       "2223                                 5.309752         1484256  \n",
       "2249                                 7.212569         1359679  "
      ]
     },
     "execution_count": 141,
     "metadata": {},
     "output_type": "execute_result"
    }
   ],
   "source": [
    "df_NOTA[df_NOTA['CRIMINALCASES'] == 'Not Available']"
   ]
  },
  {
   "cell_type": "code",
   "execution_count": 142,
   "metadata": {},
   "outputs": [],
   "source": [
    "df_NOTA['CRIMINALCASES'].replace(to_replace='Not Available', value=0, inplace=True)"
   ]
  },
  {
   "cell_type": "code",
   "execution_count": 143,
   "metadata": {},
   "outputs": [
    {
     "data": {
      "text/plain": [
       "0       52\n",
       "1        0\n",
       "2        3\n",
       "4        5\n",
       "5        0\n",
       "        ..\n",
       "2257     0\n",
       "2258     0\n",
       "2259    18\n",
       "2260     0\n",
       "2261     3\n",
       "Name: CRIMINALCASES, Length: 2018, dtype: object"
      ]
     },
     "execution_count": 143,
     "metadata": {},
     "output_type": "execute_result"
    }
   ],
   "source": [
    "df_NOTA['CRIMINALCASES'].fillna(0)"
   ]
  },
  {
   "cell_type": "code",
   "execution_count": 144,
   "metadata": {},
   "outputs": [],
   "source": [
    "df_NOTA['CRIMINALCASES'] = df_NOTA['CRIMINALCASES'].astype(int, errors='raise')\n",
    "df_NOTA['AGE'] = df_NOTA['AGE'].astype(int, errors='raise')"
   ]
  },
  {
   "cell_type": "code",
   "execution_count": 145,
   "metadata": {},
   "outputs": [
    {
     "data": {
      "text/plain": [
       "STATE                                       object\n",
       "CONSTITUENCY                                object\n",
       "NAME                                        object\n",
       "WINNER                                       int64\n",
       "PARTY                                       object\n",
       "GENDER                                      object\n",
       "CRIMINALCASES                                int32\n",
       "AGE                                          int32\n",
       "CATEGORY                                    object\n",
       "EDUCATION                                   object\n",
       "GENERALVOTES                                 int64\n",
       "POSTALVOTES                                  int64\n",
       "TOTALVOTES                                   int64\n",
       "OVER TOTAL ELECTORS IN CONSTITUENCY        float64\n",
       "OVER TOTAL VOTES POLLED IN CONSTITUENCY    float64\n",
       "TOTAL ELECTORS                               int64\n",
       "dtype: object"
      ]
     },
     "execution_count": 145,
     "metadata": {},
     "output_type": "execute_result"
    }
   ],
   "source": [
    "df_NOTA.dtypes"
   ]
  },
  {
   "cell_type": "code",
   "execution_count": 146,
   "metadata": {},
   "outputs": [],
   "source": [
    "# Converting Strings to Category\n",
    "for label, content in df_NOTA.items():\n",
    "    if pd.api.types.is_string_dtype(content):\n",
    "        df_NOTA[label] = content.astype(\"category\").cat.as_ordered()"
   ]
  },
  {
   "cell_type": "code",
   "execution_count": 147,
   "metadata": {},
   "outputs": [
    {
     "data": {
      "text/plain": [
       "STATE                                      category\n",
       "CONSTITUENCY                               category\n",
       "NAME                                       category\n",
       "WINNER                                        int64\n",
       "PARTY                                      category\n",
       "GENDER                                     category\n",
       "CRIMINALCASES                                 int32\n",
       "AGE                                           int32\n",
       "CATEGORY                                   category\n",
       "EDUCATION                                  category\n",
       "GENERALVOTES                                  int64\n",
       "POSTALVOTES                                   int64\n",
       "TOTALVOTES                                    int64\n",
       "OVER TOTAL ELECTORS IN CONSTITUENCY         float64\n",
       "OVER TOTAL VOTES POLLED IN CONSTITUENCY     float64\n",
       "TOTAL ELECTORS                                int64\n",
       "dtype: object"
      ]
     },
     "execution_count": 147,
     "metadata": {},
     "output_type": "execute_result"
    }
   ],
   "source": [
    "df_NOTA.dtypes"
   ]
  },
  {
   "cell_type": "code",
   "execution_count": 148,
   "metadata": {},
   "outputs": [
    {
     "data": {
      "text/html": [
       "<div>\n",
       "<style scoped>\n",
       "    .dataframe tbody tr th:only-of-type {\n",
       "        vertical-align: middle;\n",
       "    }\n",
       "\n",
       "    .dataframe tbody tr th {\n",
       "        vertical-align: top;\n",
       "    }\n",
       "\n",
       "    .dataframe thead th {\n",
       "        text-align: right;\n",
       "    }\n",
       "</style>\n",
       "<table border=\"1\" class=\"dataframe\">\n",
       "  <thead>\n",
       "    <tr style=\"text-align: right;\">\n",
       "      <th></th>\n",
       "      <th>STATE</th>\n",
       "      <th>CONSTITUENCY</th>\n",
       "      <th>NAME</th>\n",
       "      <th>WINNER</th>\n",
       "      <th>PARTY</th>\n",
       "      <th>GENDER</th>\n",
       "      <th>CRIMINALCASES</th>\n",
       "      <th>AGE</th>\n",
       "      <th>CATEGORY</th>\n",
       "      <th>EDUCATION</th>\n",
       "      <th>GENERALVOTES</th>\n",
       "      <th>POSTALVOTES</th>\n",
       "      <th>TOTALVOTES</th>\n",
       "      <th>OVER TOTAL ELECTORS IN CONSTITUENCY</th>\n",
       "      <th>OVER TOTAL VOTES POLLED IN CONSTITUENCY</th>\n",
       "      <th>TOTAL ELECTORS</th>\n",
       "    </tr>\n",
       "  </thead>\n",
       "  <tbody>\n",
       "    <tr>\n",
       "      <th>0</th>\n",
       "      <td>Telangana</td>\n",
       "      <td>ADILABAD</td>\n",
       "      <td>SOYAM BAPU RAO</td>\n",
       "      <td>1</td>\n",
       "      <td>BJP</td>\n",
       "      <td>MALE</td>\n",
       "      <td>52</td>\n",
       "      <td>52</td>\n",
       "      <td>ST</td>\n",
       "      <td>12th Pass</td>\n",
       "      <td>376892</td>\n",
       "      <td>482</td>\n",
       "      <td>377374</td>\n",
       "      <td>25.330684</td>\n",
       "      <td>35.468248</td>\n",
       "      <td>1489790</td>\n",
       "    </tr>\n",
       "    <tr>\n",
       "      <th>1</th>\n",
       "      <td>Telangana</td>\n",
       "      <td>ADILABAD</td>\n",
       "      <td>Godam Nagesh</td>\n",
       "      <td>0</td>\n",
       "      <td>TRS</td>\n",
       "      <td>MALE</td>\n",
       "      <td>0</td>\n",
       "      <td>54</td>\n",
       "      <td>ST</td>\n",
       "      <td>Post Graduate</td>\n",
       "      <td>318665</td>\n",
       "      <td>149</td>\n",
       "      <td>318814</td>\n",
       "      <td>21.399929</td>\n",
       "      <td>29.964370</td>\n",
       "      <td>1489790</td>\n",
       "    </tr>\n",
       "    <tr>\n",
       "      <th>2</th>\n",
       "      <td>Telangana</td>\n",
       "      <td>ADILABAD</td>\n",
       "      <td>RATHOD RAMESH</td>\n",
       "      <td>0</td>\n",
       "      <td>INC</td>\n",
       "      <td>MALE</td>\n",
       "      <td>3</td>\n",
       "      <td>52</td>\n",
       "      <td>ST</td>\n",
       "      <td>12th Pass</td>\n",
       "      <td>314057</td>\n",
       "      <td>181</td>\n",
       "      <td>314238</td>\n",
       "      <td>21.092771</td>\n",
       "      <td>29.534285</td>\n",
       "      <td>1489790</td>\n",
       "    </tr>\n",
       "    <tr>\n",
       "      <th>4</th>\n",
       "      <td>Uttar Pradesh</td>\n",
       "      <td>AGRA</td>\n",
       "      <td>Satyapal Singh Baghel</td>\n",
       "      <td>1</td>\n",
       "      <td>BJP</td>\n",
       "      <td>MALE</td>\n",
       "      <td>5</td>\n",
       "      <td>58</td>\n",
       "      <td>SC</td>\n",
       "      <td>Doctorate</td>\n",
       "      <td>644459</td>\n",
       "      <td>2416</td>\n",
       "      <td>646875</td>\n",
       "      <td>33.383823</td>\n",
       "      <td>56.464615</td>\n",
       "      <td>1937690</td>\n",
       "    </tr>\n",
       "    <tr>\n",
       "      <th>5</th>\n",
       "      <td>Uttar Pradesh</td>\n",
       "      <td>AGRA</td>\n",
       "      <td>Manoj Kumar Soni</td>\n",
       "      <td>0</td>\n",
       "      <td>BSP</td>\n",
       "      <td>MALE</td>\n",
       "      <td>0</td>\n",
       "      <td>47</td>\n",
       "      <td>SC</td>\n",
       "      <td>Post Graduate</td>\n",
       "      <td>434199</td>\n",
       "      <td>1130</td>\n",
       "      <td>435329</td>\n",
       "      <td>22.466390</td>\n",
       "      <td>37.999125</td>\n",
       "      <td>1937690</td>\n",
       "    </tr>\n",
       "    <tr>\n",
       "      <th>6</th>\n",
       "      <td>Uttar Pradesh</td>\n",
       "      <td>AGRA</td>\n",
       "      <td>Preeta Harit</td>\n",
       "      <td>0</td>\n",
       "      <td>INC</td>\n",
       "      <td>FEMALE</td>\n",
       "      <td>0</td>\n",
       "      <td>54</td>\n",
       "      <td>SC</td>\n",
       "      <td>Post Graduate</td>\n",
       "      <td>44877</td>\n",
       "      <td>272</td>\n",
       "      <td>45149</td>\n",
       "      <td>2.330042</td>\n",
       "      <td>3.940979</td>\n",
       "      <td>1937690</td>\n",
       "    </tr>\n",
       "    <tr>\n",
       "      <th>7</th>\n",
       "      <td>Maharashtra</td>\n",
       "      <td>AHMADNAGAR</td>\n",
       "      <td>Dr. SUJAY RADHAKRISHNA VIKHEPATIL</td>\n",
       "      <td>1</td>\n",
       "      <td>BJP</td>\n",
       "      <td>MALE</td>\n",
       "      <td>0</td>\n",
       "      <td>37</td>\n",
       "      <td>GENERAL</td>\n",
       "      <td>Doctorate</td>\n",
       "      <td>696961</td>\n",
       "      <td>7699</td>\n",
       "      <td>704660</td>\n",
       "      <td>37.856533</td>\n",
       "      <td>58.425159</td>\n",
       "      <td>1861396</td>\n",
       "    </tr>\n",
       "    <tr>\n",
       "      <th>8</th>\n",
       "      <td>Maharashtra</td>\n",
       "      <td>AHMADNAGAR</td>\n",
       "      <td>SANGRAM ARUNKAKA JAGTAP</td>\n",
       "      <td>0</td>\n",
       "      <td>NCP</td>\n",
       "      <td>MALE</td>\n",
       "      <td>1</td>\n",
       "      <td>34</td>\n",
       "      <td>GENERAL</td>\n",
       "      <td>Graduate</td>\n",
       "      <td>419364</td>\n",
       "      <td>3822</td>\n",
       "      <td>423186</td>\n",
       "      <td>22.734872</td>\n",
       "      <td>35.087431</td>\n",
       "      <td>1861396</td>\n",
       "    </tr>\n",
       "    <tr>\n",
       "      <th>9</th>\n",
       "      <td>Maharashtra</td>\n",
       "      <td>AHMADNAGAR</td>\n",
       "      <td>SUDHAKAR LAXMAN AVHAD</td>\n",
       "      <td>0</td>\n",
       "      <td>VBA</td>\n",
       "      <td>MALE</td>\n",
       "      <td>0</td>\n",
       "      <td>62</td>\n",
       "      <td>GENERAL</td>\n",
       "      <td>Graduate</td>\n",
       "      <td>31644</td>\n",
       "      <td>163</td>\n",
       "      <td>31807</td>\n",
       "      <td>1.708771</td>\n",
       "      <td>2.637200</td>\n",
       "      <td>1861396</td>\n",
       "    </tr>\n",
       "    <tr>\n",
       "      <th>10</th>\n",
       "      <td>Gujarat</td>\n",
       "      <td>AHMEDABAD EAST</td>\n",
       "      <td>Patel Hasmukhbhai Somabhai</td>\n",
       "      <td>1</td>\n",
       "      <td>BJP</td>\n",
       "      <td>MALE</td>\n",
       "      <td>0</td>\n",
       "      <td>58</td>\n",
       "      <td>GENERAL</td>\n",
       "      <td>Others</td>\n",
       "      <td>745810</td>\n",
       "      <td>4024</td>\n",
       "      <td>749834</td>\n",
       "      <td>41.384970</td>\n",
       "      <td>67.005462</td>\n",
       "      <td>1811851</td>\n",
       "    </tr>\n",
       "    <tr>\n",
       "      <th>11</th>\n",
       "      <td>Gujarat</td>\n",
       "      <td>AHMEDABAD EAST</td>\n",
       "      <td>Gitaben Patel</td>\n",
       "      <td>0</td>\n",
       "      <td>INC</td>\n",
       "      <td>FEMALE</td>\n",
       "      <td>6</td>\n",
       "      <td>38</td>\n",
       "      <td>GENERAL</td>\n",
       "      <td>10th Pass</td>\n",
       "      <td>312883</td>\n",
       "      <td>2621</td>\n",
       "      <td>315504</td>\n",
       "      <td>17.413352</td>\n",
       "      <td>28.193562</td>\n",
       "      <td>1811851</td>\n",
       "    </tr>\n",
       "    <tr>\n",
       "      <th>12</th>\n",
       "      <td>Gujarat</td>\n",
       "      <td>AHMEDABAD WEST</td>\n",
       "      <td>DR. KIRIT P. SOLANKI</td>\n",
       "      <td>1</td>\n",
       "      <td>BJP</td>\n",
       "      <td>MALE</td>\n",
       "      <td>0</td>\n",
       "      <td>69</td>\n",
       "      <td>SC</td>\n",
       "      <td>Post Graduate</td>\n",
       "      <td>638241</td>\n",
       "      <td>3381</td>\n",
       "      <td>641622</td>\n",
       "      <td>39.044323</td>\n",
       "      <td>64.211450</td>\n",
       "      <td>1643317</td>\n",
       "    </tr>\n",
       "    <tr>\n",
       "      <th>13</th>\n",
       "      <td>Gujarat</td>\n",
       "      <td>AHMEDABAD WEST</td>\n",
       "      <td>RAJU PARMAR</td>\n",
       "      <td>0</td>\n",
       "      <td>INC</td>\n",
       "      <td>MALE</td>\n",
       "      <td>0</td>\n",
       "      <td>68</td>\n",
       "      <td>SC</td>\n",
       "      <td>Graduate</td>\n",
       "      <td>317797</td>\n",
       "      <td>2279</td>\n",
       "      <td>320076</td>\n",
       "      <td>19.477435</td>\n",
       "      <td>32.032169</td>\n",
       "      <td>1643317</td>\n",
       "    </tr>\n",
       "    <tr>\n",
       "      <th>15</th>\n",
       "      <td>Gujarat</td>\n",
       "      <td>AHMEDABAD WEST</td>\n",
       "      <td>TRIBHOVANDAS KARSANDAS VAGHELA</td>\n",
       "      <td>0</td>\n",
       "      <td>BSP</td>\n",
       "      <td>MALE</td>\n",
       "      <td>0</td>\n",
       "      <td>66</td>\n",
       "      <td>SC</td>\n",
       "      <td>8th Pass</td>\n",
       "      <td>9909</td>\n",
       "      <td>119</td>\n",
       "      <td>10028</td>\n",
       "      <td>0.610229</td>\n",
       "      <td>1.003570</td>\n",
       "      <td>1643317</td>\n",
       "    </tr>\n",
       "    <tr>\n",
       "      <th>16</th>\n",
       "      <td>Rajasthan</td>\n",
       "      <td>AJMER</td>\n",
       "      <td>Bhagirath Chaudhary</td>\n",
       "      <td>1</td>\n",
       "      <td>BJP</td>\n",
       "      <td>MALE</td>\n",
       "      <td>0</td>\n",
       "      <td>64</td>\n",
       "      <td>GENERAL</td>\n",
       "      <td>12th Pass</td>\n",
       "      <td>811091</td>\n",
       "      <td>3985</td>\n",
       "      <td>815076</td>\n",
       "      <td>43.439536</td>\n",
       "      <td>64.522350</td>\n",
       "      <td>1876346</td>\n",
       "    </tr>\n",
       "    <tr>\n",
       "      <th>17</th>\n",
       "      <td>Rajasthan</td>\n",
       "      <td>AJMER</td>\n",
       "      <td>Riju Jhunjhunwala</td>\n",
       "      <td>0</td>\n",
       "      <td>INC</td>\n",
       "      <td>MALE</td>\n",
       "      <td>0</td>\n",
       "      <td>40</td>\n",
       "      <td>GENERAL</td>\n",
       "      <td>Graduate</td>\n",
       "      <td>397420</td>\n",
       "      <td>1232</td>\n",
       "      <td>398652</td>\n",
       "      <td>21.246188</td>\n",
       "      <td>31.557749</td>\n",
       "      <td>1876346</td>\n",
       "    </tr>\n",
       "    <tr>\n",
       "      <th>18</th>\n",
       "      <td>Rajasthan</td>\n",
       "      <td>AJMER</td>\n",
       "      <td>Durga Lal Regar</td>\n",
       "      <td>0</td>\n",
       "      <td>BSP</td>\n",
       "      <td>MALE</td>\n",
       "      <td>0</td>\n",
       "      <td>60</td>\n",
       "      <td>SC</td>\n",
       "      <td>Post Graduate</td>\n",
       "      <td>13547</td>\n",
       "      <td>71</td>\n",
       "      <td>13618</td>\n",
       "      <td>0.725772</td>\n",
       "      <td>1.078016</td>\n",
       "      <td>1876346</td>\n",
       "    </tr>\n",
       "    <tr>\n",
       "      <th>19</th>\n",
       "      <td>Rajasthan</td>\n",
       "      <td>AJMER</td>\n",
       "      <td>Vishram Babu</td>\n",
       "      <td>0</td>\n",
       "      <td>APoI</td>\n",
       "      <td>MALE</td>\n",
       "      <td>0</td>\n",
       "      <td>60</td>\n",
       "      <td>SC</td>\n",
       "      <td>Post Graduate</td>\n",
       "      <td>13036</td>\n",
       "      <td>5</td>\n",
       "      <td>13041</td>\n",
       "      <td>0.695021</td>\n",
       "      <td>1.032340</td>\n",
       "      <td>1876346</td>\n",
       "    </tr>\n",
       "    <tr>\n",
       "      <th>20</th>\n",
       "      <td>Uttar Pradesh</td>\n",
       "      <td>AKBARPUR</td>\n",
       "      <td>Devendra Singh 'Bhole'</td>\n",
       "      <td>1</td>\n",
       "      <td>BJP</td>\n",
       "      <td>MALE</td>\n",
       "      <td>0</td>\n",
       "      <td>64</td>\n",
       "      <td>GENERAL</td>\n",
       "      <td>10th Pass</td>\n",
       "      <td>577603</td>\n",
       "      <td>3679</td>\n",
       "      <td>581282</td>\n",
       "      <td>32.912920</td>\n",
       "      <td>56.620233</td>\n",
       "      <td>1766121</td>\n",
       "    </tr>\n",
       "    <tr>\n",
       "      <th>21</th>\n",
       "      <td>Uttar Pradesh</td>\n",
       "      <td>AKBARPUR</td>\n",
       "      <td>Nisha Sachan</td>\n",
       "      <td>0</td>\n",
       "      <td>BSP</td>\n",
       "      <td>FEMALE</td>\n",
       "      <td>0</td>\n",
       "      <td>46</td>\n",
       "      <td>GENERAL</td>\n",
       "      <td>Post Graduate</td>\n",
       "      <td>304553</td>\n",
       "      <td>1587</td>\n",
       "      <td>306140</td>\n",
       "      <td>17.334033</td>\n",
       "      <td>29.819809</td>\n",
       "      <td>1766121</td>\n",
       "    </tr>\n",
       "  </tbody>\n",
       "</table>\n",
       "</div>"
      ],
      "text/plain": [
       "            STATE    CONSTITUENCY                               NAME  WINNER  \\\n",
       "0       Telangana        ADILABAD                     SOYAM BAPU RAO       1   \n",
       "1       Telangana        ADILABAD                       Godam Nagesh       0   \n",
       "2       Telangana        ADILABAD                      RATHOD RAMESH       0   \n",
       "4   Uttar Pradesh            AGRA              Satyapal Singh Baghel       1   \n",
       "5   Uttar Pradesh            AGRA                   Manoj Kumar Soni       0   \n",
       "6   Uttar Pradesh            AGRA                       Preeta Harit       0   \n",
       "7     Maharashtra      AHMADNAGAR  Dr. SUJAY RADHAKRISHNA VIKHEPATIL       1   \n",
       "8     Maharashtra      AHMADNAGAR            SANGRAM ARUNKAKA JAGTAP       0   \n",
       "9     Maharashtra      AHMADNAGAR              SUDHAKAR LAXMAN AVHAD       0   \n",
       "10        Gujarat  AHMEDABAD EAST         Patel Hasmukhbhai Somabhai       1   \n",
       "11        Gujarat  AHMEDABAD EAST                      Gitaben Patel       0   \n",
       "12        Gujarat  AHMEDABAD WEST               DR. KIRIT P. SOLANKI       1   \n",
       "13        Gujarat  AHMEDABAD WEST                        RAJU PARMAR       0   \n",
       "15        Gujarat  AHMEDABAD WEST     TRIBHOVANDAS KARSANDAS VAGHELA       0   \n",
       "16      Rajasthan           AJMER                Bhagirath Chaudhary       1   \n",
       "17      Rajasthan           AJMER                  Riju Jhunjhunwala       0   \n",
       "18      Rajasthan           AJMER                    Durga Lal Regar       0   \n",
       "19      Rajasthan           AJMER                       Vishram Babu       0   \n",
       "20  Uttar Pradesh        AKBARPUR             Devendra Singh 'Bhole'       1   \n",
       "21  Uttar Pradesh        AKBARPUR                       Nisha Sachan       0   \n",
       "\n",
       "   PARTY  GENDER  CRIMINALCASES  AGE CATEGORY      EDUCATION  GENERALVOTES  \\\n",
       "0    BJP    MALE             52   52       ST      12th Pass        376892   \n",
       "1    TRS    MALE              0   54       ST  Post Graduate        318665   \n",
       "2    INC    MALE              3   52       ST      12th Pass        314057   \n",
       "4    BJP    MALE              5   58       SC      Doctorate        644459   \n",
       "5    BSP    MALE              0   47       SC  Post Graduate        434199   \n",
       "6    INC  FEMALE              0   54       SC  Post Graduate         44877   \n",
       "7    BJP    MALE              0   37  GENERAL      Doctorate        696961   \n",
       "8    NCP    MALE              1   34  GENERAL       Graduate        419364   \n",
       "9    VBA    MALE              0   62  GENERAL       Graduate         31644   \n",
       "10   BJP    MALE              0   58  GENERAL         Others        745810   \n",
       "11   INC  FEMALE              6   38  GENERAL      10th Pass        312883   \n",
       "12   BJP    MALE              0   69       SC  Post Graduate        638241   \n",
       "13   INC    MALE              0   68       SC       Graduate        317797   \n",
       "15   BSP    MALE              0   66       SC       8th Pass          9909   \n",
       "16   BJP    MALE              0   64  GENERAL      12th Pass        811091   \n",
       "17   INC    MALE              0   40  GENERAL       Graduate        397420   \n",
       "18   BSP    MALE              0   60       SC  Post Graduate         13547   \n",
       "19  APoI    MALE              0   60       SC  Post Graduate         13036   \n",
       "20   BJP    MALE              0   64  GENERAL      10th Pass        577603   \n",
       "21   BSP  FEMALE              0   46  GENERAL  Post Graduate        304553   \n",
       "\n",
       "    POSTALVOTES  TOTALVOTES  OVER TOTAL ELECTORS IN CONSTITUENCY  \\\n",
       "0           482      377374                            25.330684   \n",
       "1           149      318814                            21.399929   \n",
       "2           181      314238                            21.092771   \n",
       "4          2416      646875                            33.383823   \n",
       "5          1130      435329                            22.466390   \n",
       "6           272       45149                             2.330042   \n",
       "7          7699      704660                            37.856533   \n",
       "8          3822      423186                            22.734872   \n",
       "9           163       31807                             1.708771   \n",
       "10         4024      749834                            41.384970   \n",
       "11         2621      315504                            17.413352   \n",
       "12         3381      641622                            39.044323   \n",
       "13         2279      320076                            19.477435   \n",
       "15          119       10028                             0.610229   \n",
       "16         3985      815076                            43.439536   \n",
       "17         1232      398652                            21.246188   \n",
       "18           71       13618                             0.725772   \n",
       "19            5       13041                             0.695021   \n",
       "20         3679      581282                            32.912920   \n",
       "21         1587      306140                            17.334033   \n",
       "\n",
       "    OVER TOTAL VOTES POLLED IN CONSTITUENCY  TOTAL ELECTORS  \n",
       "0                                 35.468248         1489790  \n",
       "1                                 29.964370         1489790  \n",
       "2                                 29.534285         1489790  \n",
       "4                                 56.464615         1937690  \n",
       "5                                 37.999125         1937690  \n",
       "6                                  3.940979         1937690  \n",
       "7                                 58.425159         1861396  \n",
       "8                                 35.087431         1861396  \n",
       "9                                  2.637200         1861396  \n",
       "10                                67.005462         1811851  \n",
       "11                                28.193562         1811851  \n",
       "12                                64.211450         1643317  \n",
       "13                                32.032169         1643317  \n",
       "15                                 1.003570         1643317  \n",
       "16                                64.522350         1876346  \n",
       "17                                31.557749         1876346  \n",
       "18                                 1.078016         1876346  \n",
       "19                                 1.032340         1876346  \n",
       "20                                56.620233         1766121  \n",
       "21                                29.819809         1766121  "
      ]
     },
     "execution_count": 148,
     "metadata": {},
     "output_type": "execute_result"
    }
   ],
   "source": [
    "df_NOTA.head(20)"
   ]
  },
  {
   "cell_type": "code",
   "execution_count": 149,
   "metadata": {
    "scrolled": true
   },
   "outputs": [
    {
     "data": {
      "text/plain": [
       "Index(['STATE', 'CONSTITUENCY', 'NAME', 'WINNER', 'PARTY', 'GENDER',\n",
       "       'CRIMINALCASES', 'AGE', 'CATEGORY', 'EDUCATION', 'GENERALVOTES',\n",
       "       'POSTALVOTES', 'TOTALVOTES', 'OVER TOTAL ELECTORS IN CONSTITUENCY',\n",
       "       'OVER TOTAL VOTES POLLED IN CONSTITUENCY', 'TOTAL ELECTORS'],\n",
       "      dtype='object')"
      ]
     },
     "execution_count": 149,
     "metadata": {},
     "output_type": "execute_result"
    }
   ],
   "source": [
    "df_NOTA.columns"
   ]
  },
  {
   "cell_type": "code",
   "execution_count": 150,
   "metadata": {},
   "outputs": [
    {
     "data": {
      "text/plain": [
       "(2018, 16)"
      ]
     },
     "execution_count": 150,
     "metadata": {},
     "output_type": "execute_result"
    }
   ],
   "source": [
    "df_NOTA.shape"
   ]
  },
  {
   "cell_type": "markdown",
   "metadata": {},
   "source": [
    "### 5.1 Lok Sabha 2019: Election Results"
   ]
  },
  {
   "cell_type": "code",
   "execution_count": 151,
   "metadata": {},
   "outputs": [
    {
     "data": {
      "application/vnd.plotly.v1+json": {
       "config": {
        "plotlyServerURL": "https://plot.ly"
       },
       "data": [
        {
         "alignmentgroup": "True",
         "hovertemplate": "x=%{x}<br>y=%{y}<br>color=%{marker.color}<extra></extra>",
         "legendgroup": "",
         "marker": {
          "color": [
           300,
           52,
           23,
           22,
           22,
           18,
           16,
           11,
           11,
           9,
           6,
           5,
           5,
           5,
           4,
           3,
           3,
           3,
           2,
           2
          ],
          "coloraxis": "coloraxis"
         },
         "name": "",
         "offsetgroup": "",
         "orientation": "v",
         "showlegend": false,
         "textposition": "auto",
         "type": "bar",
         "x": [
          "BJP",
          "INC",
          "DMK",
          "AITC",
          "YSRCP",
          "SHS",
          "JD(U)",
          "BSP",
          "BJD",
          "TRS",
          "LJP",
          "CPI(M)",
          "SP",
          "NCP",
          "IND",
          "IUML",
          "JKN",
          "TDP",
          "ADAL",
          "SAD"
         ],
         "xaxis": "x",
         "y": [
          300,
          52,
          23,
          22,
          22,
          18,
          16,
          11,
          11,
          9,
          6,
          5,
          5,
          5,
          4,
          3,
          3,
          3,
          2,
          2
         ],
         "yaxis": "y"
        }
       ],
       "layout": {
        "barmode": "relative",
        "coloraxis": {
         "colorbar": {
          "title": {
           "text": "color"
          }
         },
         "colorscale": [
          [
           0,
           "rgb(236, 218, 154)"
          ],
          [
           0.16666666666666666,
           "rgb(239, 196, 126)"
          ],
          [
           0.3333333333333333,
           "rgb(243, 173, 106)"
          ],
          [
           0.5,
           "rgb(247, 148, 93)"
          ],
          [
           0.6666666666666666,
           "rgb(249, 123, 87)"
          ],
          [
           0.8333333333333334,
           "rgb(246, 99, 86)"
          ],
          [
           1,
           "rgb(238, 77, 90)"
          ]
         ]
        },
        "font": {
         "color": "#351f39",
         "family": "Courier New"
        },
        "height": 500,
        "legend": {
         "tracegroupgap": 0
        },
        "margin": {
         "t": 60
        },
        "template": {
         "data": {
          "bar": [
           {
            "error_x": {
             "color": "#2a3f5f"
            },
            "error_y": {
             "color": "#2a3f5f"
            },
            "marker": {
             "line": {
              "color": "#E5ECF6",
              "width": 0.5
             }
            },
            "type": "bar"
           }
          ],
          "barpolar": [
           {
            "marker": {
             "line": {
              "color": "#E5ECF6",
              "width": 0.5
             }
            },
            "type": "barpolar"
           }
          ],
          "carpet": [
           {
            "aaxis": {
             "endlinecolor": "#2a3f5f",
             "gridcolor": "white",
             "linecolor": "white",
             "minorgridcolor": "white",
             "startlinecolor": "#2a3f5f"
            },
            "baxis": {
             "endlinecolor": "#2a3f5f",
             "gridcolor": "white",
             "linecolor": "white",
             "minorgridcolor": "white",
             "startlinecolor": "#2a3f5f"
            },
            "type": "carpet"
           }
          ],
          "choropleth": [
           {
            "colorbar": {
             "outlinewidth": 0,
             "ticks": ""
            },
            "type": "choropleth"
           }
          ],
          "contour": [
           {
            "colorbar": {
             "outlinewidth": 0,
             "ticks": ""
            },
            "colorscale": [
             [
              0,
              "#0d0887"
             ],
             [
              0.1111111111111111,
              "#46039f"
             ],
             [
              0.2222222222222222,
              "#7201a8"
             ],
             [
              0.3333333333333333,
              "#9c179e"
             ],
             [
              0.4444444444444444,
              "#bd3786"
             ],
             [
              0.5555555555555556,
              "#d8576b"
             ],
             [
              0.6666666666666666,
              "#ed7953"
             ],
             [
              0.7777777777777778,
              "#fb9f3a"
             ],
             [
              0.8888888888888888,
              "#fdca26"
             ],
             [
              1,
              "#f0f921"
             ]
            ],
            "type": "contour"
           }
          ],
          "contourcarpet": [
           {
            "colorbar": {
             "outlinewidth": 0,
             "ticks": ""
            },
            "type": "contourcarpet"
           }
          ],
          "heatmap": [
           {
            "colorbar": {
             "outlinewidth": 0,
             "ticks": ""
            },
            "colorscale": [
             [
              0,
              "#0d0887"
             ],
             [
              0.1111111111111111,
              "#46039f"
             ],
             [
              0.2222222222222222,
              "#7201a8"
             ],
             [
              0.3333333333333333,
              "#9c179e"
             ],
             [
              0.4444444444444444,
              "#bd3786"
             ],
             [
              0.5555555555555556,
              "#d8576b"
             ],
             [
              0.6666666666666666,
              "#ed7953"
             ],
             [
              0.7777777777777778,
              "#fb9f3a"
             ],
             [
              0.8888888888888888,
              "#fdca26"
             ],
             [
              1,
              "#f0f921"
             ]
            ],
            "type": "heatmap"
           }
          ],
          "heatmapgl": [
           {
            "colorbar": {
             "outlinewidth": 0,
             "ticks": ""
            },
            "colorscale": [
             [
              0,
              "#0d0887"
             ],
             [
              0.1111111111111111,
              "#46039f"
             ],
             [
              0.2222222222222222,
              "#7201a8"
             ],
             [
              0.3333333333333333,
              "#9c179e"
             ],
             [
              0.4444444444444444,
              "#bd3786"
             ],
             [
              0.5555555555555556,
              "#d8576b"
             ],
             [
              0.6666666666666666,
              "#ed7953"
             ],
             [
              0.7777777777777778,
              "#fb9f3a"
             ],
             [
              0.8888888888888888,
              "#fdca26"
             ],
             [
              1,
              "#f0f921"
             ]
            ],
            "type": "heatmapgl"
           }
          ],
          "histogram": [
           {
            "marker": {
             "colorbar": {
              "outlinewidth": 0,
              "ticks": ""
             }
            },
            "type": "histogram"
           }
          ],
          "histogram2d": [
           {
            "colorbar": {
             "outlinewidth": 0,
             "ticks": ""
            },
            "colorscale": [
             [
              0,
              "#0d0887"
             ],
             [
              0.1111111111111111,
              "#46039f"
             ],
             [
              0.2222222222222222,
              "#7201a8"
             ],
             [
              0.3333333333333333,
              "#9c179e"
             ],
             [
              0.4444444444444444,
              "#bd3786"
             ],
             [
              0.5555555555555556,
              "#d8576b"
             ],
             [
              0.6666666666666666,
              "#ed7953"
             ],
             [
              0.7777777777777778,
              "#fb9f3a"
             ],
             [
              0.8888888888888888,
              "#fdca26"
             ],
             [
              1,
              "#f0f921"
             ]
            ],
            "type": "histogram2d"
           }
          ],
          "histogram2dcontour": [
           {
            "colorbar": {
             "outlinewidth": 0,
             "ticks": ""
            },
            "colorscale": [
             [
              0,
              "#0d0887"
             ],
             [
              0.1111111111111111,
              "#46039f"
             ],
             [
              0.2222222222222222,
              "#7201a8"
             ],
             [
              0.3333333333333333,
              "#9c179e"
             ],
             [
              0.4444444444444444,
              "#bd3786"
             ],
             [
              0.5555555555555556,
              "#d8576b"
             ],
             [
              0.6666666666666666,
              "#ed7953"
             ],
             [
              0.7777777777777778,
              "#fb9f3a"
             ],
             [
              0.8888888888888888,
              "#fdca26"
             ],
             [
              1,
              "#f0f921"
             ]
            ],
            "type": "histogram2dcontour"
           }
          ],
          "mesh3d": [
           {
            "colorbar": {
             "outlinewidth": 0,
             "ticks": ""
            },
            "type": "mesh3d"
           }
          ],
          "parcoords": [
           {
            "line": {
             "colorbar": {
              "outlinewidth": 0,
              "ticks": ""
             }
            },
            "type": "parcoords"
           }
          ],
          "pie": [
           {
            "automargin": true,
            "type": "pie"
           }
          ],
          "scatter": [
           {
            "marker": {
             "colorbar": {
              "outlinewidth": 0,
              "ticks": ""
             }
            },
            "type": "scatter"
           }
          ],
          "scatter3d": [
           {
            "line": {
             "colorbar": {
              "outlinewidth": 0,
              "ticks": ""
             }
            },
            "marker": {
             "colorbar": {
              "outlinewidth": 0,
              "ticks": ""
             }
            },
            "type": "scatter3d"
           }
          ],
          "scattercarpet": [
           {
            "marker": {
             "colorbar": {
              "outlinewidth": 0,
              "ticks": ""
             }
            },
            "type": "scattercarpet"
           }
          ],
          "scattergeo": [
           {
            "marker": {
             "colorbar": {
              "outlinewidth": 0,
              "ticks": ""
             }
            },
            "type": "scattergeo"
           }
          ],
          "scattergl": [
           {
            "marker": {
             "colorbar": {
              "outlinewidth": 0,
              "ticks": ""
             }
            },
            "type": "scattergl"
           }
          ],
          "scattermapbox": [
           {
            "marker": {
             "colorbar": {
              "outlinewidth": 0,
              "ticks": ""
             }
            },
            "type": "scattermapbox"
           }
          ],
          "scatterpolar": [
           {
            "marker": {
             "colorbar": {
              "outlinewidth": 0,
              "ticks": ""
             }
            },
            "type": "scatterpolar"
           }
          ],
          "scatterpolargl": [
           {
            "marker": {
             "colorbar": {
              "outlinewidth": 0,
              "ticks": ""
             }
            },
            "type": "scatterpolargl"
           }
          ],
          "scatterternary": [
           {
            "marker": {
             "colorbar": {
              "outlinewidth": 0,
              "ticks": ""
             }
            },
            "type": "scatterternary"
           }
          ],
          "surface": [
           {
            "colorbar": {
             "outlinewidth": 0,
             "ticks": ""
            },
            "colorscale": [
             [
              0,
              "#0d0887"
             ],
             [
              0.1111111111111111,
              "#46039f"
             ],
             [
              0.2222222222222222,
              "#7201a8"
             ],
             [
              0.3333333333333333,
              "#9c179e"
             ],
             [
              0.4444444444444444,
              "#bd3786"
             ],
             [
              0.5555555555555556,
              "#d8576b"
             ],
             [
              0.6666666666666666,
              "#ed7953"
             ],
             [
              0.7777777777777778,
              "#fb9f3a"
             ],
             [
              0.8888888888888888,
              "#fdca26"
             ],
             [
              1,
              "#f0f921"
             ]
            ],
            "type": "surface"
           }
          ],
          "table": [
           {
            "cells": {
             "fill": {
              "color": "#EBF0F8"
             },
             "line": {
              "color": "white"
             }
            },
            "header": {
             "fill": {
              "color": "#C8D4E3"
             },
             "line": {
              "color": "white"
             }
            },
            "type": "table"
           }
          ]
         },
         "layout": {
          "annotationdefaults": {
           "arrowcolor": "#2a3f5f",
           "arrowhead": 0,
           "arrowwidth": 1
          },
          "coloraxis": {
           "colorbar": {
            "outlinewidth": 0,
            "ticks": ""
           }
          },
          "colorscale": {
           "diverging": [
            [
             0,
             "#8e0152"
            ],
            [
             0.1,
             "#c51b7d"
            ],
            [
             0.2,
             "#de77ae"
            ],
            [
             0.3,
             "#f1b6da"
            ],
            [
             0.4,
             "#fde0ef"
            ],
            [
             0.5,
             "#f7f7f7"
            ],
            [
             0.6,
             "#e6f5d0"
            ],
            [
             0.7,
             "#b8e186"
            ],
            [
             0.8,
             "#7fbc41"
            ],
            [
             0.9,
             "#4d9221"
            ],
            [
             1,
             "#276419"
            ]
           ],
           "sequential": [
            [
             0,
             "#0d0887"
            ],
            [
             0.1111111111111111,
             "#46039f"
            ],
            [
             0.2222222222222222,
             "#7201a8"
            ],
            [
             0.3333333333333333,
             "#9c179e"
            ],
            [
             0.4444444444444444,
             "#bd3786"
            ],
            [
             0.5555555555555556,
             "#d8576b"
            ],
            [
             0.6666666666666666,
             "#ed7953"
            ],
            [
             0.7777777777777778,
             "#fb9f3a"
            ],
            [
             0.8888888888888888,
             "#fdca26"
            ],
            [
             1,
             "#f0f921"
            ]
           ],
           "sequentialminus": [
            [
             0,
             "#0d0887"
            ],
            [
             0.1111111111111111,
             "#46039f"
            ],
            [
             0.2222222222222222,
             "#7201a8"
            ],
            [
             0.3333333333333333,
             "#9c179e"
            ],
            [
             0.4444444444444444,
             "#bd3786"
            ],
            [
             0.5555555555555556,
             "#d8576b"
            ],
            [
             0.6666666666666666,
             "#ed7953"
            ],
            [
             0.7777777777777778,
             "#fb9f3a"
            ],
            [
             0.8888888888888888,
             "#fdca26"
            ],
            [
             1,
             "#f0f921"
            ]
           ]
          },
          "colorway": [
           "#636efa",
           "#EF553B",
           "#00cc96",
           "#ab63fa",
           "#FFA15A",
           "#19d3f3",
           "#FF6692",
           "#B6E880",
           "#FF97FF",
           "#FECB52"
          ],
          "font": {
           "color": "#2a3f5f"
          },
          "geo": {
           "bgcolor": "white",
           "lakecolor": "white",
           "landcolor": "#E5ECF6",
           "showlakes": true,
           "showland": true,
           "subunitcolor": "white"
          },
          "hoverlabel": {
           "align": "left"
          },
          "hovermode": "closest",
          "mapbox": {
           "style": "light"
          },
          "paper_bgcolor": "white",
          "plot_bgcolor": "#E5ECF6",
          "polar": {
           "angularaxis": {
            "gridcolor": "white",
            "linecolor": "white",
            "ticks": ""
           },
           "bgcolor": "#E5ECF6",
           "radialaxis": {
            "gridcolor": "white",
            "linecolor": "white",
            "ticks": ""
           }
          },
          "scene": {
           "xaxis": {
            "backgroundcolor": "#E5ECF6",
            "gridcolor": "white",
            "gridwidth": 2,
            "linecolor": "white",
            "showbackground": true,
            "ticks": "",
            "zerolinecolor": "white"
           },
           "yaxis": {
            "backgroundcolor": "#E5ECF6",
            "gridcolor": "white",
            "gridwidth": 2,
            "linecolor": "white",
            "showbackground": true,
            "ticks": "",
            "zerolinecolor": "white"
           },
           "zaxis": {
            "backgroundcolor": "#E5ECF6",
            "gridcolor": "white",
            "gridwidth": 2,
            "linecolor": "white",
            "showbackground": true,
            "ticks": "",
            "zerolinecolor": "white"
           }
          },
          "shapedefaults": {
           "line": {
            "color": "#2a3f5f"
           }
          },
          "ternary": {
           "aaxis": {
            "gridcolor": "white",
            "linecolor": "white",
            "ticks": ""
           },
           "baxis": {
            "gridcolor": "white",
            "linecolor": "white",
            "ticks": ""
           },
           "bgcolor": "#E5ECF6",
           "caxis": {
            "gridcolor": "white",
            "linecolor": "white",
            "ticks": ""
           }
          },
          "title": {
           "x": 0.05
          },
          "xaxis": {
           "automargin": true,
           "gridcolor": "white",
           "linecolor": "white",
           "ticks": "",
           "title": {
            "standoff": 15
           },
           "zerolinecolor": "white",
           "zerolinewidth": 2
          },
          "yaxis": {
           "automargin": true,
           "gridcolor": "white",
           "linecolor": "white",
           "ticks": "",
           "title": {
            "standoff": 15
           },
           "zerolinecolor": "white",
           "zerolinewidth": 2
          }
         }
        },
        "title": {
         "font": {
          "color": "#351f39",
          "family": "Courier New"
         },
         "text": "Top 20 Party-wise election results"
        },
        "xaxis": {
         "anchor": "y",
         "domain": [
          0,
          1
         ],
         "title": {
          "text": "Party"
         }
        },
        "yaxis": {
         "anchor": "x",
         "domain": [
          0,
          1
         ],
         "title": {
          "text": "Seats"
         }
        }
       }
      },
      "text/html": [
       "<div>                            <div id=\"d678e2d7-890f-41a8-9f79-6af42d120739\" class=\"plotly-graph-div\" style=\"height:500px; width:100%;\"></div>            <script type=\"text/javascript\">                require([\"plotly\"], function(Plotly) {                    window.PLOTLYENV=window.PLOTLYENV || {};                                    if (document.getElementById(\"d678e2d7-890f-41a8-9f79-6af42d120739\")) {                    Plotly.newPlot(                        \"d678e2d7-890f-41a8-9f79-6af42d120739\",                        [{\"alignmentgroup\": \"True\", \"hovertemplate\": \"x=%{x}<br>y=%{y}<br>color=%{marker.color}<extra></extra>\", \"legendgroup\": \"\", \"marker\": {\"color\": [300, 52, 23, 22, 22, 18, 16, 11, 11, 9, 6, 5, 5, 5, 4, 3, 3, 3, 2, 2], \"coloraxis\": \"coloraxis\"}, \"name\": \"\", \"offsetgroup\": \"\", \"orientation\": \"v\", \"showlegend\": false, \"textposition\": \"auto\", \"type\": \"bar\", \"x\": [\"BJP\", \"INC\", \"DMK\", \"AITC\", \"YSRCP\", \"SHS\", \"JD(U)\", \"BSP\", \"BJD\", \"TRS\", \"LJP\", \"CPI(M)\", \"SP\", \"NCP\", \"IND\", \"IUML\", \"JKN\", \"TDP\", \"ADAL\", \"SAD\"], \"xaxis\": \"x\", \"y\": [300, 52, 23, 22, 22, 18, 16, 11, 11, 9, 6, 5, 5, 5, 4, 3, 3, 3, 2, 2], \"yaxis\": \"y\"}],                        {\"barmode\": \"relative\", \"coloraxis\": {\"colorbar\": {\"title\": {\"text\": \"color\"}}, \"colorscale\": [[0.0, \"rgb(236, 218, 154)\"], [0.16666666666666666, \"rgb(239, 196, 126)\"], [0.3333333333333333, \"rgb(243, 173, 106)\"], [0.5, \"rgb(247, 148, 93)\"], [0.6666666666666666, \"rgb(249, 123, 87)\"], [0.8333333333333334, \"rgb(246, 99, 86)\"], [1.0, \"rgb(238, 77, 90)\"]]}, \"font\": {\"color\": \"#351f39\", \"family\": \"Courier New\"}, \"height\": 500, \"legend\": {\"tracegroupgap\": 0}, \"margin\": {\"t\": 60}, \"template\": {\"data\": {\"bar\": [{\"error_x\": {\"color\": \"#2a3f5f\"}, \"error_y\": {\"color\": \"#2a3f5f\"}, \"marker\": {\"line\": {\"color\": \"#E5ECF6\", \"width\": 0.5}}, \"type\": \"bar\"}], \"barpolar\": [{\"marker\": {\"line\": {\"color\": \"#E5ECF6\", \"width\": 0.5}}, \"type\": \"barpolar\"}], \"carpet\": [{\"aaxis\": {\"endlinecolor\": \"#2a3f5f\", \"gridcolor\": \"white\", \"linecolor\": \"white\", \"minorgridcolor\": \"white\", \"startlinecolor\": \"#2a3f5f\"}, \"baxis\": {\"endlinecolor\": \"#2a3f5f\", \"gridcolor\": \"white\", \"linecolor\": \"white\", \"minorgridcolor\": \"white\", \"startlinecolor\": \"#2a3f5f\"}, \"type\": \"carpet\"}], \"choropleth\": [{\"colorbar\": {\"outlinewidth\": 0, \"ticks\": \"\"}, \"type\": \"choropleth\"}], \"contour\": [{\"colorbar\": {\"outlinewidth\": 0, \"ticks\": \"\"}, \"colorscale\": [[0.0, \"#0d0887\"], [0.1111111111111111, \"#46039f\"], [0.2222222222222222, \"#7201a8\"], [0.3333333333333333, \"#9c179e\"], [0.4444444444444444, \"#bd3786\"], [0.5555555555555556, \"#d8576b\"], [0.6666666666666666, \"#ed7953\"], [0.7777777777777778, \"#fb9f3a\"], [0.8888888888888888, \"#fdca26\"], [1.0, \"#f0f921\"]], \"type\": \"contour\"}], \"contourcarpet\": [{\"colorbar\": {\"outlinewidth\": 0, \"ticks\": \"\"}, \"type\": \"contourcarpet\"}], \"heatmap\": [{\"colorbar\": {\"outlinewidth\": 0, \"ticks\": \"\"}, \"colorscale\": [[0.0, \"#0d0887\"], [0.1111111111111111, \"#46039f\"], [0.2222222222222222, \"#7201a8\"], [0.3333333333333333, \"#9c179e\"], [0.4444444444444444, \"#bd3786\"], [0.5555555555555556, \"#d8576b\"], [0.6666666666666666, \"#ed7953\"], [0.7777777777777778, \"#fb9f3a\"], [0.8888888888888888, \"#fdca26\"], [1.0, \"#f0f921\"]], \"type\": \"heatmap\"}], \"heatmapgl\": [{\"colorbar\": {\"outlinewidth\": 0, \"ticks\": \"\"}, \"colorscale\": [[0.0, \"#0d0887\"], [0.1111111111111111, \"#46039f\"], [0.2222222222222222, \"#7201a8\"], [0.3333333333333333, \"#9c179e\"], [0.4444444444444444, \"#bd3786\"], [0.5555555555555556, \"#d8576b\"], [0.6666666666666666, \"#ed7953\"], [0.7777777777777778, \"#fb9f3a\"], [0.8888888888888888, \"#fdca26\"], [1.0, \"#f0f921\"]], \"type\": \"heatmapgl\"}], \"histogram\": [{\"marker\": {\"colorbar\": {\"outlinewidth\": 0, \"ticks\": \"\"}}, \"type\": \"histogram\"}], \"histogram2d\": [{\"colorbar\": {\"outlinewidth\": 0, \"ticks\": \"\"}, \"colorscale\": [[0.0, \"#0d0887\"], [0.1111111111111111, \"#46039f\"], [0.2222222222222222, \"#7201a8\"], [0.3333333333333333, \"#9c179e\"], [0.4444444444444444, \"#bd3786\"], [0.5555555555555556, \"#d8576b\"], [0.6666666666666666, \"#ed7953\"], [0.7777777777777778, \"#fb9f3a\"], [0.8888888888888888, \"#fdca26\"], [1.0, \"#f0f921\"]], \"type\": \"histogram2d\"}], \"histogram2dcontour\": [{\"colorbar\": {\"outlinewidth\": 0, \"ticks\": \"\"}, \"colorscale\": [[0.0, \"#0d0887\"], [0.1111111111111111, \"#46039f\"], [0.2222222222222222, \"#7201a8\"], [0.3333333333333333, \"#9c179e\"], [0.4444444444444444, \"#bd3786\"], [0.5555555555555556, \"#d8576b\"], [0.6666666666666666, \"#ed7953\"], [0.7777777777777778, \"#fb9f3a\"], [0.8888888888888888, \"#fdca26\"], [1.0, \"#f0f921\"]], \"type\": \"histogram2dcontour\"}], \"mesh3d\": [{\"colorbar\": {\"outlinewidth\": 0, \"ticks\": \"\"}, \"type\": \"mesh3d\"}], \"parcoords\": [{\"line\": {\"colorbar\": {\"outlinewidth\": 0, \"ticks\": \"\"}}, \"type\": \"parcoords\"}], \"pie\": [{\"automargin\": true, \"type\": \"pie\"}], \"scatter\": [{\"marker\": {\"colorbar\": {\"outlinewidth\": 0, \"ticks\": \"\"}}, \"type\": \"scatter\"}], \"scatter3d\": [{\"line\": {\"colorbar\": {\"outlinewidth\": 0, \"ticks\": \"\"}}, \"marker\": {\"colorbar\": {\"outlinewidth\": 0, \"ticks\": \"\"}}, \"type\": \"scatter3d\"}], \"scattercarpet\": [{\"marker\": {\"colorbar\": {\"outlinewidth\": 0, \"ticks\": \"\"}}, \"type\": \"scattercarpet\"}], \"scattergeo\": [{\"marker\": {\"colorbar\": {\"outlinewidth\": 0, \"ticks\": \"\"}}, \"type\": \"scattergeo\"}], \"scattergl\": [{\"marker\": {\"colorbar\": {\"outlinewidth\": 0, \"ticks\": \"\"}}, \"type\": \"scattergl\"}], \"scattermapbox\": [{\"marker\": {\"colorbar\": {\"outlinewidth\": 0, \"ticks\": \"\"}}, \"type\": \"scattermapbox\"}], \"scatterpolar\": [{\"marker\": {\"colorbar\": {\"outlinewidth\": 0, \"ticks\": \"\"}}, \"type\": \"scatterpolar\"}], \"scatterpolargl\": [{\"marker\": {\"colorbar\": {\"outlinewidth\": 0, \"ticks\": \"\"}}, \"type\": \"scatterpolargl\"}], \"scatterternary\": [{\"marker\": {\"colorbar\": {\"outlinewidth\": 0, \"ticks\": \"\"}}, \"type\": \"scatterternary\"}], \"surface\": [{\"colorbar\": {\"outlinewidth\": 0, \"ticks\": \"\"}, \"colorscale\": [[0.0, \"#0d0887\"], [0.1111111111111111, \"#46039f\"], [0.2222222222222222, \"#7201a8\"], [0.3333333333333333, \"#9c179e\"], [0.4444444444444444, \"#bd3786\"], [0.5555555555555556, \"#d8576b\"], [0.6666666666666666, \"#ed7953\"], [0.7777777777777778, \"#fb9f3a\"], [0.8888888888888888, \"#fdca26\"], [1.0, \"#f0f921\"]], \"type\": \"surface\"}], \"table\": [{\"cells\": {\"fill\": {\"color\": \"#EBF0F8\"}, \"line\": {\"color\": \"white\"}}, \"header\": {\"fill\": {\"color\": \"#C8D4E3\"}, \"line\": {\"color\": \"white\"}}, \"type\": \"table\"}]}, \"layout\": {\"annotationdefaults\": {\"arrowcolor\": \"#2a3f5f\", \"arrowhead\": 0, \"arrowwidth\": 1}, \"coloraxis\": {\"colorbar\": {\"outlinewidth\": 0, \"ticks\": \"\"}}, \"colorscale\": {\"diverging\": [[0, \"#8e0152\"], [0.1, \"#c51b7d\"], [0.2, \"#de77ae\"], [0.3, \"#f1b6da\"], [0.4, \"#fde0ef\"], [0.5, \"#f7f7f7\"], [0.6, \"#e6f5d0\"], [0.7, \"#b8e186\"], [0.8, \"#7fbc41\"], [0.9, \"#4d9221\"], [1, \"#276419\"]], \"sequential\": [[0.0, \"#0d0887\"], [0.1111111111111111, \"#46039f\"], [0.2222222222222222, \"#7201a8\"], [0.3333333333333333, \"#9c179e\"], [0.4444444444444444, \"#bd3786\"], [0.5555555555555556, \"#d8576b\"], [0.6666666666666666, \"#ed7953\"], [0.7777777777777778, \"#fb9f3a\"], [0.8888888888888888, \"#fdca26\"], [1.0, \"#f0f921\"]], \"sequentialminus\": [[0.0, \"#0d0887\"], [0.1111111111111111, \"#46039f\"], [0.2222222222222222, \"#7201a8\"], [0.3333333333333333, \"#9c179e\"], [0.4444444444444444, \"#bd3786\"], [0.5555555555555556, \"#d8576b\"], [0.6666666666666666, \"#ed7953\"], [0.7777777777777778, \"#fb9f3a\"], [0.8888888888888888, \"#fdca26\"], [1.0, \"#f0f921\"]]}, \"colorway\": [\"#636efa\", \"#EF553B\", \"#00cc96\", \"#ab63fa\", \"#FFA15A\", \"#19d3f3\", \"#FF6692\", \"#B6E880\", \"#FF97FF\", \"#FECB52\"], \"font\": {\"color\": \"#2a3f5f\"}, \"geo\": {\"bgcolor\": \"white\", \"lakecolor\": \"white\", \"landcolor\": \"#E5ECF6\", \"showlakes\": true, \"showland\": true, \"subunitcolor\": \"white\"}, \"hoverlabel\": {\"align\": \"left\"}, \"hovermode\": \"closest\", \"mapbox\": {\"style\": \"light\"}, \"paper_bgcolor\": \"white\", \"plot_bgcolor\": \"#E5ECF6\", \"polar\": {\"angularaxis\": {\"gridcolor\": \"white\", \"linecolor\": \"white\", \"ticks\": \"\"}, \"bgcolor\": \"#E5ECF6\", \"radialaxis\": {\"gridcolor\": \"white\", \"linecolor\": \"white\", \"ticks\": \"\"}}, \"scene\": {\"xaxis\": {\"backgroundcolor\": \"#E5ECF6\", \"gridcolor\": \"white\", \"gridwidth\": 2, \"linecolor\": \"white\", \"showbackground\": true, \"ticks\": \"\", \"zerolinecolor\": \"white\"}, \"yaxis\": {\"backgroundcolor\": \"#E5ECF6\", \"gridcolor\": \"white\", \"gridwidth\": 2, \"linecolor\": \"white\", \"showbackground\": true, \"ticks\": \"\", \"zerolinecolor\": \"white\"}, \"zaxis\": {\"backgroundcolor\": \"#E5ECF6\", \"gridcolor\": \"white\", \"gridwidth\": 2, \"linecolor\": \"white\", \"showbackground\": true, \"ticks\": \"\", \"zerolinecolor\": \"white\"}}, \"shapedefaults\": {\"line\": {\"color\": \"#2a3f5f\"}}, \"ternary\": {\"aaxis\": {\"gridcolor\": \"white\", \"linecolor\": \"white\", \"ticks\": \"\"}, \"baxis\": {\"gridcolor\": \"white\", \"linecolor\": \"white\", \"ticks\": \"\"}, \"bgcolor\": \"#E5ECF6\", \"caxis\": {\"gridcolor\": \"white\", \"linecolor\": \"white\", \"ticks\": \"\"}}, \"title\": {\"x\": 0.05}, \"xaxis\": {\"automargin\": true, \"gridcolor\": \"white\", \"linecolor\": \"white\", \"ticks\": \"\", \"title\": {\"standoff\": 15}, \"zerolinecolor\": \"white\", \"zerolinewidth\": 2}, \"yaxis\": {\"automargin\": true, \"gridcolor\": \"white\", \"linecolor\": \"white\", \"ticks\": \"\", \"title\": {\"standoff\": 15}, \"zerolinecolor\": \"white\", \"zerolinewidth\": 2}}}, \"title\": {\"font\": {\"color\": \"#351f39\", \"family\": \"Courier New\"}, \"text\": \"Top 20 Party-wise election results\"}, \"xaxis\": {\"anchor\": \"y\", \"domain\": [0.0, 1.0], \"title\": {\"text\": \"Party\"}}, \"yaxis\": {\"anchor\": \"x\", \"domain\": [0.0, 1.0], \"title\": {\"text\": \"Seats\"}}},                        {\"responsive\": true}                    ).then(function(){\n",
       "                            \n",
       "var gd = document.getElementById('d678e2d7-890f-41a8-9f79-6af42d120739');\n",
       "var x = new MutationObserver(function (mutations, observer) {{\n",
       "        var display = window.getComputedStyle(gd).display;\n",
       "        if (!display || display === 'none') {{\n",
       "            console.log([gd, 'removed!']);\n",
       "            Plotly.purge(gd);\n",
       "            observer.disconnect();\n",
       "        }}\n",
       "}});\n",
       "\n",
       "// Listen for the removal of the full notebook cells\n",
       "var notebookContainer = gd.closest('#notebook-container');\n",
       "if (notebookContainer) {{\n",
       "    x.observe(notebookContainer, {childList: true});\n",
       "}}\n",
       "\n",
       "// Listen for the clearing of the current output cell\n",
       "var outputEl = gd.closest('.output');\n",
       "if (outputEl) {{\n",
       "    x.observe(outputEl, {childList: true});\n",
       "}}\n",
       "\n",
       "                        })                };                });            </script>        </div>"
      ]
     },
     "metadata": {},
     "output_type": "display_data"
    }
   ],
   "source": [
    "# Number of seats won by each party\n",
    "result = df_NOTA[df_NOTA['WINNER'] == 1].groupby('PARTY')['WINNER'].size()\n",
    "result_df = pd.DataFrame(data=result).sort_values(by=\"WINNER\", ascending=False)\n",
    "result_df.reset_index(level=0, inplace=True)\n",
    "\n",
    "# Visualize the party-wise election results\n",
    "result_fig = px.bar(result_df, \n",
    "                    x=result_df['PARTY'][:20], \n",
    "                    y=result_df[\"WINNER\"][:20], \n",
    "                    color=result_df['WINNER'][:20], \n",
    "                    height=500,\n",
    "                    color_continuous_scale='Oryel')\n",
    "result_fig.update_layout(title_text='Top 20 Party-wise election results',\n",
    "                         font_family=\"Courier New\",\n",
    "                         font_color=\"#351f39\",\n",
    "                         title_font_family=\"Courier New\",\n",
    "                         title_font_color=\"#351f39\",\n",
    "                         xaxis_title=\"Party\",\n",
    "                         yaxis_title=\"Seats\")\n",
    "result_fig.show()"
   ]
  },
  {
   "cell_type": "markdown",
   "metadata": {},
   "source": [
    "### 5.2 Party-wise vote share"
   ]
  },
  {
   "cell_type": "code",
   "execution_count": 152,
   "metadata": {},
   "outputs": [
    {
     "data": {
      "application/vnd.plotly.v1+json": {
       "config": {
        "plotlyServerURL": "https://plot.ly"
       },
       "data": [
        {
         "labels": [
          "AITC",
          "BJP",
          "BSP",
          "INC",
          "Other",
          "SP"
         ],
         "marker": {
          "line": {
           "color": "#000000",
           "width": 1
          }
         },
         "pull": [
          0.1,
          0.1,
          0.1,
          0.1,
          0.1,
          0.1
         ],
         "type": "pie",
         "values": [
          24832104,
          228938556,
          20808194,
          119418722,
          180238181,
          15616282
         ]
        }
       ],
       "layout": {
        "font": {
         "color": "#351f39",
         "family": "Courier New"
        },
        "template": {
         "data": {
          "bar": [
           {
            "error_x": {
             "color": "#2a3f5f"
            },
            "error_y": {
             "color": "#2a3f5f"
            },
            "marker": {
             "line": {
              "color": "#E5ECF6",
              "width": 0.5
             }
            },
            "type": "bar"
           }
          ],
          "barpolar": [
           {
            "marker": {
             "line": {
              "color": "#E5ECF6",
              "width": 0.5
             }
            },
            "type": "barpolar"
           }
          ],
          "carpet": [
           {
            "aaxis": {
             "endlinecolor": "#2a3f5f",
             "gridcolor": "white",
             "linecolor": "white",
             "minorgridcolor": "white",
             "startlinecolor": "#2a3f5f"
            },
            "baxis": {
             "endlinecolor": "#2a3f5f",
             "gridcolor": "white",
             "linecolor": "white",
             "minorgridcolor": "white",
             "startlinecolor": "#2a3f5f"
            },
            "type": "carpet"
           }
          ],
          "choropleth": [
           {
            "colorbar": {
             "outlinewidth": 0,
             "ticks": ""
            },
            "type": "choropleth"
           }
          ],
          "contour": [
           {
            "colorbar": {
             "outlinewidth": 0,
             "ticks": ""
            },
            "colorscale": [
             [
              0,
              "#0d0887"
             ],
             [
              0.1111111111111111,
              "#46039f"
             ],
             [
              0.2222222222222222,
              "#7201a8"
             ],
             [
              0.3333333333333333,
              "#9c179e"
             ],
             [
              0.4444444444444444,
              "#bd3786"
             ],
             [
              0.5555555555555556,
              "#d8576b"
             ],
             [
              0.6666666666666666,
              "#ed7953"
             ],
             [
              0.7777777777777778,
              "#fb9f3a"
             ],
             [
              0.8888888888888888,
              "#fdca26"
             ],
             [
              1,
              "#f0f921"
             ]
            ],
            "type": "contour"
           }
          ],
          "contourcarpet": [
           {
            "colorbar": {
             "outlinewidth": 0,
             "ticks": ""
            },
            "type": "contourcarpet"
           }
          ],
          "heatmap": [
           {
            "colorbar": {
             "outlinewidth": 0,
             "ticks": ""
            },
            "colorscale": [
             [
              0,
              "#0d0887"
             ],
             [
              0.1111111111111111,
              "#46039f"
             ],
             [
              0.2222222222222222,
              "#7201a8"
             ],
             [
              0.3333333333333333,
              "#9c179e"
             ],
             [
              0.4444444444444444,
              "#bd3786"
             ],
             [
              0.5555555555555556,
              "#d8576b"
             ],
             [
              0.6666666666666666,
              "#ed7953"
             ],
             [
              0.7777777777777778,
              "#fb9f3a"
             ],
             [
              0.8888888888888888,
              "#fdca26"
             ],
             [
              1,
              "#f0f921"
             ]
            ],
            "type": "heatmap"
           }
          ],
          "heatmapgl": [
           {
            "colorbar": {
             "outlinewidth": 0,
             "ticks": ""
            },
            "colorscale": [
             [
              0,
              "#0d0887"
             ],
             [
              0.1111111111111111,
              "#46039f"
             ],
             [
              0.2222222222222222,
              "#7201a8"
             ],
             [
              0.3333333333333333,
              "#9c179e"
             ],
             [
              0.4444444444444444,
              "#bd3786"
             ],
             [
              0.5555555555555556,
              "#d8576b"
             ],
             [
              0.6666666666666666,
              "#ed7953"
             ],
             [
              0.7777777777777778,
              "#fb9f3a"
             ],
             [
              0.8888888888888888,
              "#fdca26"
             ],
             [
              1,
              "#f0f921"
             ]
            ],
            "type": "heatmapgl"
           }
          ],
          "histogram": [
           {
            "marker": {
             "colorbar": {
              "outlinewidth": 0,
              "ticks": ""
             }
            },
            "type": "histogram"
           }
          ],
          "histogram2d": [
           {
            "colorbar": {
             "outlinewidth": 0,
             "ticks": ""
            },
            "colorscale": [
             [
              0,
              "#0d0887"
             ],
             [
              0.1111111111111111,
              "#46039f"
             ],
             [
              0.2222222222222222,
              "#7201a8"
             ],
             [
              0.3333333333333333,
              "#9c179e"
             ],
             [
              0.4444444444444444,
              "#bd3786"
             ],
             [
              0.5555555555555556,
              "#d8576b"
             ],
             [
              0.6666666666666666,
              "#ed7953"
             ],
             [
              0.7777777777777778,
              "#fb9f3a"
             ],
             [
              0.8888888888888888,
              "#fdca26"
             ],
             [
              1,
              "#f0f921"
             ]
            ],
            "type": "histogram2d"
           }
          ],
          "histogram2dcontour": [
           {
            "colorbar": {
             "outlinewidth": 0,
             "ticks": ""
            },
            "colorscale": [
             [
              0,
              "#0d0887"
             ],
             [
              0.1111111111111111,
              "#46039f"
             ],
             [
              0.2222222222222222,
              "#7201a8"
             ],
             [
              0.3333333333333333,
              "#9c179e"
             ],
             [
              0.4444444444444444,
              "#bd3786"
             ],
             [
              0.5555555555555556,
              "#d8576b"
             ],
             [
              0.6666666666666666,
              "#ed7953"
             ],
             [
              0.7777777777777778,
              "#fb9f3a"
             ],
             [
              0.8888888888888888,
              "#fdca26"
             ],
             [
              1,
              "#f0f921"
             ]
            ],
            "type": "histogram2dcontour"
           }
          ],
          "mesh3d": [
           {
            "colorbar": {
             "outlinewidth": 0,
             "ticks": ""
            },
            "type": "mesh3d"
           }
          ],
          "parcoords": [
           {
            "line": {
             "colorbar": {
              "outlinewidth": 0,
              "ticks": ""
             }
            },
            "type": "parcoords"
           }
          ],
          "pie": [
           {
            "automargin": true,
            "type": "pie"
           }
          ],
          "scatter": [
           {
            "marker": {
             "colorbar": {
              "outlinewidth": 0,
              "ticks": ""
             }
            },
            "type": "scatter"
           }
          ],
          "scatter3d": [
           {
            "line": {
             "colorbar": {
              "outlinewidth": 0,
              "ticks": ""
             }
            },
            "marker": {
             "colorbar": {
              "outlinewidth": 0,
              "ticks": ""
             }
            },
            "type": "scatter3d"
           }
          ],
          "scattercarpet": [
           {
            "marker": {
             "colorbar": {
              "outlinewidth": 0,
              "ticks": ""
             }
            },
            "type": "scattercarpet"
           }
          ],
          "scattergeo": [
           {
            "marker": {
             "colorbar": {
              "outlinewidth": 0,
              "ticks": ""
             }
            },
            "type": "scattergeo"
           }
          ],
          "scattergl": [
           {
            "marker": {
             "colorbar": {
              "outlinewidth": 0,
              "ticks": ""
             }
            },
            "type": "scattergl"
           }
          ],
          "scattermapbox": [
           {
            "marker": {
             "colorbar": {
              "outlinewidth": 0,
              "ticks": ""
             }
            },
            "type": "scattermapbox"
           }
          ],
          "scatterpolar": [
           {
            "marker": {
             "colorbar": {
              "outlinewidth": 0,
              "ticks": ""
             }
            },
            "type": "scatterpolar"
           }
          ],
          "scatterpolargl": [
           {
            "marker": {
             "colorbar": {
              "outlinewidth": 0,
              "ticks": ""
             }
            },
            "type": "scatterpolargl"
           }
          ],
          "scatterternary": [
           {
            "marker": {
             "colorbar": {
              "outlinewidth": 0,
              "ticks": ""
             }
            },
            "type": "scatterternary"
           }
          ],
          "surface": [
           {
            "colorbar": {
             "outlinewidth": 0,
             "ticks": ""
            },
            "colorscale": [
             [
              0,
              "#0d0887"
             ],
             [
              0.1111111111111111,
              "#46039f"
             ],
             [
              0.2222222222222222,
              "#7201a8"
             ],
             [
              0.3333333333333333,
              "#9c179e"
             ],
             [
              0.4444444444444444,
              "#bd3786"
             ],
             [
              0.5555555555555556,
              "#d8576b"
             ],
             [
              0.6666666666666666,
              "#ed7953"
             ],
             [
              0.7777777777777778,
              "#fb9f3a"
             ],
             [
              0.8888888888888888,
              "#fdca26"
             ],
             [
              1,
              "#f0f921"
             ]
            ],
            "type": "surface"
           }
          ],
          "table": [
           {
            "cells": {
             "fill": {
              "color": "#EBF0F8"
             },
             "line": {
              "color": "white"
             }
            },
            "header": {
             "fill": {
              "color": "#C8D4E3"
             },
             "line": {
              "color": "white"
             }
            },
            "type": "table"
           }
          ]
         },
         "layout": {
          "annotationdefaults": {
           "arrowcolor": "#2a3f5f",
           "arrowhead": 0,
           "arrowwidth": 1
          },
          "coloraxis": {
           "colorbar": {
            "outlinewidth": 0,
            "ticks": ""
           }
          },
          "colorscale": {
           "diverging": [
            [
             0,
             "#8e0152"
            ],
            [
             0.1,
             "#c51b7d"
            ],
            [
             0.2,
             "#de77ae"
            ],
            [
             0.3,
             "#f1b6da"
            ],
            [
             0.4,
             "#fde0ef"
            ],
            [
             0.5,
             "#f7f7f7"
            ],
            [
             0.6,
             "#e6f5d0"
            ],
            [
             0.7,
             "#b8e186"
            ],
            [
             0.8,
             "#7fbc41"
            ],
            [
             0.9,
             "#4d9221"
            ],
            [
             1,
             "#276419"
            ]
           ],
           "sequential": [
            [
             0,
             "#0d0887"
            ],
            [
             0.1111111111111111,
             "#46039f"
            ],
            [
             0.2222222222222222,
             "#7201a8"
            ],
            [
             0.3333333333333333,
             "#9c179e"
            ],
            [
             0.4444444444444444,
             "#bd3786"
            ],
            [
             0.5555555555555556,
             "#d8576b"
            ],
            [
             0.6666666666666666,
             "#ed7953"
            ],
            [
             0.7777777777777778,
             "#fb9f3a"
            ],
            [
             0.8888888888888888,
             "#fdca26"
            ],
            [
             1,
             "#f0f921"
            ]
           ],
           "sequentialminus": [
            [
             0,
             "#0d0887"
            ],
            [
             0.1111111111111111,
             "#46039f"
            ],
            [
             0.2222222222222222,
             "#7201a8"
            ],
            [
             0.3333333333333333,
             "#9c179e"
            ],
            [
             0.4444444444444444,
             "#bd3786"
            ],
            [
             0.5555555555555556,
             "#d8576b"
            ],
            [
             0.6666666666666666,
             "#ed7953"
            ],
            [
             0.7777777777777778,
             "#fb9f3a"
            ],
            [
             0.8888888888888888,
             "#fdca26"
            ],
            [
             1,
             "#f0f921"
            ]
           ]
          },
          "colorway": [
           "#636efa",
           "#EF553B",
           "#00cc96",
           "#ab63fa",
           "#FFA15A",
           "#19d3f3",
           "#FF6692",
           "#B6E880",
           "#FF97FF",
           "#FECB52"
          ],
          "font": {
           "color": "#2a3f5f"
          },
          "geo": {
           "bgcolor": "white",
           "lakecolor": "white",
           "landcolor": "#E5ECF6",
           "showlakes": true,
           "showland": true,
           "subunitcolor": "white"
          },
          "hoverlabel": {
           "align": "left"
          },
          "hovermode": "closest",
          "mapbox": {
           "style": "light"
          },
          "paper_bgcolor": "white",
          "plot_bgcolor": "#E5ECF6",
          "polar": {
           "angularaxis": {
            "gridcolor": "white",
            "linecolor": "white",
            "ticks": ""
           },
           "bgcolor": "#E5ECF6",
           "radialaxis": {
            "gridcolor": "white",
            "linecolor": "white",
            "ticks": ""
           }
          },
          "scene": {
           "xaxis": {
            "backgroundcolor": "#E5ECF6",
            "gridcolor": "white",
            "gridwidth": 2,
            "linecolor": "white",
            "showbackground": true,
            "ticks": "",
            "zerolinecolor": "white"
           },
           "yaxis": {
            "backgroundcolor": "#E5ECF6",
            "gridcolor": "white",
            "gridwidth": 2,
            "linecolor": "white",
            "showbackground": true,
            "ticks": "",
            "zerolinecolor": "white"
           },
           "zaxis": {
            "backgroundcolor": "#E5ECF6",
            "gridcolor": "white",
            "gridwidth": 2,
            "linecolor": "white",
            "showbackground": true,
            "ticks": "",
            "zerolinecolor": "white"
           }
          },
          "shapedefaults": {
           "line": {
            "color": "#2a3f5f"
           }
          },
          "ternary": {
           "aaxis": {
            "gridcolor": "white",
            "linecolor": "white",
            "ticks": ""
           },
           "baxis": {
            "gridcolor": "white",
            "linecolor": "white",
            "ticks": ""
           },
           "bgcolor": "#E5ECF6",
           "caxis": {
            "gridcolor": "white",
            "linecolor": "white",
            "ticks": ""
           }
          },
          "title": {
           "x": 0.05
          },
          "xaxis": {
           "automargin": true,
           "gridcolor": "white",
           "linecolor": "white",
           "ticks": "",
           "title": {
            "standoff": 15
           },
           "zerolinecolor": "white",
           "zerolinewidth": 2
          },
          "yaxis": {
           "automargin": true,
           "gridcolor": "white",
           "linecolor": "white",
           "ticks": "",
           "title": {
            "standoff": 15
           },
           "zerolinecolor": "white",
           "zerolinewidth": 2
          }
         }
        },
        "title": {
         "font": {
          "color": "#351f39",
          "family": "Courier New"
         },
         "text": "Party-wise Vote Share"
        }
       }
      },
      "text/html": [
       "<div>                            <div id=\"b1efca31-b9c9-4c75-9d86-e2e5a82af619\" class=\"plotly-graph-div\" style=\"height:525px; width:100%;\"></div>            <script type=\"text/javascript\">                require([\"plotly\"], function(Plotly) {                    window.PLOTLYENV=window.PLOTLYENV || {};                                    if (document.getElementById(\"b1efca31-b9c9-4c75-9d86-e2e5a82af619\")) {                    Plotly.newPlot(                        \"b1efca31-b9c9-4c75-9d86-e2e5a82af619\",                        [{\"labels\": [\"AITC\", \"BJP\", \"BSP\", \"INC\", \"Other\", \"SP\"], \"marker\": {\"line\": {\"color\": \"#000000\", \"width\": 1}}, \"pull\": [0.1, 0.1, 0.1, 0.1, 0.1, 0.1], \"type\": \"pie\", \"values\": [24832104, 228938556, 20808194, 119418722, 180238181, 15616282]}],                        {\"font\": {\"color\": \"#351f39\", \"family\": \"Courier New\"}, \"template\": {\"data\": {\"bar\": [{\"error_x\": {\"color\": \"#2a3f5f\"}, \"error_y\": {\"color\": \"#2a3f5f\"}, \"marker\": {\"line\": {\"color\": \"#E5ECF6\", \"width\": 0.5}}, \"type\": \"bar\"}], \"barpolar\": [{\"marker\": {\"line\": {\"color\": \"#E5ECF6\", \"width\": 0.5}}, \"type\": \"barpolar\"}], \"carpet\": [{\"aaxis\": {\"endlinecolor\": \"#2a3f5f\", \"gridcolor\": \"white\", \"linecolor\": \"white\", \"minorgridcolor\": \"white\", \"startlinecolor\": \"#2a3f5f\"}, \"baxis\": {\"endlinecolor\": \"#2a3f5f\", \"gridcolor\": \"white\", \"linecolor\": \"white\", \"minorgridcolor\": \"white\", \"startlinecolor\": \"#2a3f5f\"}, \"type\": \"carpet\"}], \"choropleth\": [{\"colorbar\": {\"outlinewidth\": 0, \"ticks\": \"\"}, \"type\": \"choropleth\"}], \"contour\": [{\"colorbar\": {\"outlinewidth\": 0, \"ticks\": \"\"}, \"colorscale\": [[0.0, \"#0d0887\"], [0.1111111111111111, \"#46039f\"], [0.2222222222222222, \"#7201a8\"], [0.3333333333333333, \"#9c179e\"], [0.4444444444444444, \"#bd3786\"], [0.5555555555555556, \"#d8576b\"], [0.6666666666666666, \"#ed7953\"], [0.7777777777777778, \"#fb9f3a\"], [0.8888888888888888, \"#fdca26\"], [1.0, \"#f0f921\"]], \"type\": \"contour\"}], \"contourcarpet\": [{\"colorbar\": {\"outlinewidth\": 0, \"ticks\": \"\"}, \"type\": \"contourcarpet\"}], \"heatmap\": [{\"colorbar\": {\"outlinewidth\": 0, \"ticks\": \"\"}, \"colorscale\": [[0.0, \"#0d0887\"], [0.1111111111111111, \"#46039f\"], [0.2222222222222222, \"#7201a8\"], [0.3333333333333333, \"#9c179e\"], [0.4444444444444444, \"#bd3786\"], [0.5555555555555556, \"#d8576b\"], [0.6666666666666666, \"#ed7953\"], [0.7777777777777778, \"#fb9f3a\"], [0.8888888888888888, \"#fdca26\"], [1.0, \"#f0f921\"]], \"type\": \"heatmap\"}], \"heatmapgl\": [{\"colorbar\": {\"outlinewidth\": 0, \"ticks\": \"\"}, \"colorscale\": [[0.0, \"#0d0887\"], [0.1111111111111111, \"#46039f\"], [0.2222222222222222, \"#7201a8\"], [0.3333333333333333, \"#9c179e\"], [0.4444444444444444, \"#bd3786\"], [0.5555555555555556, \"#d8576b\"], [0.6666666666666666, \"#ed7953\"], [0.7777777777777778, \"#fb9f3a\"], [0.8888888888888888, \"#fdca26\"], [1.0, \"#f0f921\"]], \"type\": \"heatmapgl\"}], \"histogram\": [{\"marker\": {\"colorbar\": {\"outlinewidth\": 0, \"ticks\": \"\"}}, \"type\": \"histogram\"}], \"histogram2d\": [{\"colorbar\": {\"outlinewidth\": 0, \"ticks\": \"\"}, \"colorscale\": [[0.0, \"#0d0887\"], [0.1111111111111111, \"#46039f\"], [0.2222222222222222, \"#7201a8\"], [0.3333333333333333, \"#9c179e\"], [0.4444444444444444, \"#bd3786\"], [0.5555555555555556, \"#d8576b\"], [0.6666666666666666, \"#ed7953\"], [0.7777777777777778, \"#fb9f3a\"], [0.8888888888888888, \"#fdca26\"], [1.0, \"#f0f921\"]], \"type\": \"histogram2d\"}], \"histogram2dcontour\": [{\"colorbar\": {\"outlinewidth\": 0, \"ticks\": \"\"}, \"colorscale\": [[0.0, \"#0d0887\"], [0.1111111111111111, \"#46039f\"], [0.2222222222222222, \"#7201a8\"], [0.3333333333333333, \"#9c179e\"], [0.4444444444444444, \"#bd3786\"], [0.5555555555555556, \"#d8576b\"], [0.6666666666666666, \"#ed7953\"], [0.7777777777777778, \"#fb9f3a\"], [0.8888888888888888, \"#fdca26\"], [1.0, \"#f0f921\"]], \"type\": \"histogram2dcontour\"}], \"mesh3d\": [{\"colorbar\": {\"outlinewidth\": 0, \"ticks\": \"\"}, \"type\": \"mesh3d\"}], \"parcoords\": [{\"line\": {\"colorbar\": {\"outlinewidth\": 0, \"ticks\": \"\"}}, \"type\": \"parcoords\"}], \"pie\": [{\"automargin\": true, \"type\": \"pie\"}], \"scatter\": [{\"marker\": {\"colorbar\": {\"outlinewidth\": 0, \"ticks\": \"\"}}, \"type\": \"scatter\"}], \"scatter3d\": [{\"line\": {\"colorbar\": {\"outlinewidth\": 0, \"ticks\": \"\"}}, \"marker\": {\"colorbar\": {\"outlinewidth\": 0, \"ticks\": \"\"}}, \"type\": \"scatter3d\"}], \"scattercarpet\": [{\"marker\": {\"colorbar\": {\"outlinewidth\": 0, \"ticks\": \"\"}}, \"type\": \"scattercarpet\"}], \"scattergeo\": [{\"marker\": {\"colorbar\": {\"outlinewidth\": 0, \"ticks\": \"\"}}, \"type\": \"scattergeo\"}], \"scattergl\": [{\"marker\": {\"colorbar\": {\"outlinewidth\": 0, \"ticks\": \"\"}}, \"type\": \"scattergl\"}], \"scattermapbox\": [{\"marker\": {\"colorbar\": {\"outlinewidth\": 0, \"ticks\": \"\"}}, \"type\": \"scattermapbox\"}], \"scatterpolar\": [{\"marker\": {\"colorbar\": {\"outlinewidth\": 0, \"ticks\": \"\"}}, \"type\": \"scatterpolar\"}], \"scatterpolargl\": [{\"marker\": {\"colorbar\": {\"outlinewidth\": 0, \"ticks\": \"\"}}, \"type\": \"scatterpolargl\"}], \"scatterternary\": [{\"marker\": {\"colorbar\": {\"outlinewidth\": 0, \"ticks\": \"\"}}, \"type\": \"scatterternary\"}], \"surface\": [{\"colorbar\": {\"outlinewidth\": 0, \"ticks\": \"\"}, \"colorscale\": [[0.0, \"#0d0887\"], [0.1111111111111111, \"#46039f\"], [0.2222222222222222, \"#7201a8\"], [0.3333333333333333, \"#9c179e\"], [0.4444444444444444, \"#bd3786\"], [0.5555555555555556, \"#d8576b\"], [0.6666666666666666, \"#ed7953\"], [0.7777777777777778, \"#fb9f3a\"], [0.8888888888888888, \"#fdca26\"], [1.0, \"#f0f921\"]], \"type\": \"surface\"}], \"table\": [{\"cells\": {\"fill\": {\"color\": \"#EBF0F8\"}, \"line\": {\"color\": \"white\"}}, \"header\": {\"fill\": {\"color\": \"#C8D4E3\"}, \"line\": {\"color\": \"white\"}}, \"type\": \"table\"}]}, \"layout\": {\"annotationdefaults\": {\"arrowcolor\": \"#2a3f5f\", \"arrowhead\": 0, \"arrowwidth\": 1}, \"coloraxis\": {\"colorbar\": {\"outlinewidth\": 0, \"ticks\": \"\"}}, \"colorscale\": {\"diverging\": [[0, \"#8e0152\"], [0.1, \"#c51b7d\"], [0.2, \"#de77ae\"], [0.3, \"#f1b6da\"], [0.4, \"#fde0ef\"], [0.5, \"#f7f7f7\"], [0.6, \"#e6f5d0\"], [0.7, \"#b8e186\"], [0.8, \"#7fbc41\"], [0.9, \"#4d9221\"], [1, \"#276419\"]], \"sequential\": [[0.0, \"#0d0887\"], [0.1111111111111111, \"#46039f\"], [0.2222222222222222, \"#7201a8\"], [0.3333333333333333, \"#9c179e\"], [0.4444444444444444, \"#bd3786\"], [0.5555555555555556, \"#d8576b\"], [0.6666666666666666, \"#ed7953\"], [0.7777777777777778, \"#fb9f3a\"], [0.8888888888888888, \"#fdca26\"], [1.0, \"#f0f921\"]], \"sequentialminus\": [[0.0, \"#0d0887\"], [0.1111111111111111, \"#46039f\"], [0.2222222222222222, \"#7201a8\"], [0.3333333333333333, \"#9c179e\"], [0.4444444444444444, \"#bd3786\"], [0.5555555555555556, \"#d8576b\"], [0.6666666666666666, \"#ed7953\"], [0.7777777777777778, \"#fb9f3a\"], [0.8888888888888888, \"#fdca26\"], [1.0, \"#f0f921\"]]}, \"colorway\": [\"#636efa\", \"#EF553B\", \"#00cc96\", \"#ab63fa\", \"#FFA15A\", \"#19d3f3\", \"#FF6692\", \"#B6E880\", \"#FF97FF\", \"#FECB52\"], \"font\": {\"color\": \"#2a3f5f\"}, \"geo\": {\"bgcolor\": \"white\", \"lakecolor\": \"white\", \"landcolor\": \"#E5ECF6\", \"showlakes\": true, \"showland\": true, \"subunitcolor\": \"white\"}, \"hoverlabel\": {\"align\": \"left\"}, \"hovermode\": \"closest\", \"mapbox\": {\"style\": \"light\"}, \"paper_bgcolor\": \"white\", \"plot_bgcolor\": \"#E5ECF6\", \"polar\": {\"angularaxis\": {\"gridcolor\": \"white\", \"linecolor\": \"white\", \"ticks\": \"\"}, \"bgcolor\": \"#E5ECF6\", \"radialaxis\": {\"gridcolor\": \"white\", \"linecolor\": \"white\", \"ticks\": \"\"}}, \"scene\": {\"xaxis\": {\"backgroundcolor\": \"#E5ECF6\", \"gridcolor\": \"white\", \"gridwidth\": 2, \"linecolor\": \"white\", \"showbackground\": true, \"ticks\": \"\", \"zerolinecolor\": \"white\"}, \"yaxis\": {\"backgroundcolor\": \"#E5ECF6\", \"gridcolor\": \"white\", \"gridwidth\": 2, \"linecolor\": \"white\", \"showbackground\": true, \"ticks\": \"\", \"zerolinecolor\": \"white\"}, \"zaxis\": {\"backgroundcolor\": \"#E5ECF6\", \"gridcolor\": \"white\", \"gridwidth\": 2, \"linecolor\": \"white\", \"showbackground\": true, \"ticks\": \"\", \"zerolinecolor\": \"white\"}}, \"shapedefaults\": {\"line\": {\"color\": \"#2a3f5f\"}}, \"ternary\": {\"aaxis\": {\"gridcolor\": \"white\", \"linecolor\": \"white\", \"ticks\": \"\"}, \"baxis\": {\"gridcolor\": \"white\", \"linecolor\": \"white\", \"ticks\": \"\"}, \"bgcolor\": \"#E5ECF6\", \"caxis\": {\"gridcolor\": \"white\", \"linecolor\": \"white\", \"ticks\": \"\"}}, \"title\": {\"x\": 0.05}, \"xaxis\": {\"automargin\": true, \"gridcolor\": \"white\", \"linecolor\": \"white\", \"ticks\": \"\", \"title\": {\"standoff\": 15}, \"zerolinecolor\": \"white\", \"zerolinewidth\": 2}, \"yaxis\": {\"automargin\": true, \"gridcolor\": \"white\", \"linecolor\": \"white\", \"ticks\": \"\", \"title\": {\"standoff\": 15}, \"zerolinecolor\": \"white\", \"zerolinewidth\": 2}}}, \"title\": {\"font\": {\"color\": \"#351f39\", \"family\": \"Courier New\"}, \"text\": \"Party-wise Vote Share\"}},                        {\"responsive\": true}                    ).then(function(){\n",
       "                            \n",
       "var gd = document.getElementById('b1efca31-b9c9-4c75-9d86-e2e5a82af619');\n",
       "var x = new MutationObserver(function (mutations, observer) {{\n",
       "        var display = window.getComputedStyle(gd).display;\n",
       "        if (!display || display === 'none') {{\n",
       "            console.log([gd, 'removed!']);\n",
       "            Plotly.purge(gd);\n",
       "            observer.disconnect();\n",
       "        }}\n",
       "}});\n",
       "\n",
       "// Listen for the removal of the full notebook cells\n",
       "var notebookContainer = gd.closest('#notebook-container');\n",
       "if (notebookContainer) {{\n",
       "    x.observe(notebookContainer, {childList: true});\n",
       "}}\n",
       "\n",
       "// Listen for the clearing of the current output cell\n",
       "var outputEl = gd.closest('.output');\n",
       "if (outputEl) {{\n",
       "    x.observe(outputEl, {childList: true});\n",
       "}}\n",
       "\n",
       "                        })                };                });            </script>        </div>"
      ]
     },
     "metadata": {},
     "output_type": "display_data"
    }
   ],
   "source": [
    "# Create a dataframe with total number of votes won by each party\n",
    "result = df_NOTA[df_NOTA['WINNER'] == 1].groupby('PARTY')['WINNER'].size()\n",
    "vote_Share = df_NOTA.groupby('PARTY')['TOTALVOTES'].sum()\n",
    "vote_Share_df = pd.DataFrame(data=vote_Share, index=vote_Share.index).sort_values(by=\"TOTALVOTES\", ascending=False)\n",
    "vote_Share_df.reset_index(level=0, inplace=True)\n",
    "\n",
    "# Sort out the top five parties according to the total number of votes\n",
    "vote_share_top5 = df_NOTA.groupby('PARTY')['TOTALVOTES'].sum().nlargest(5).index.tolist()\n",
    "\n",
    "# Create a method to label parties as 'Other' if they are not top five in total number of votes.\n",
    "def sort_party(data):\n",
    "    '''\n",
    "    Method to label parties as 'Other' if they are not top five in total number of votes.\n",
    "    data: input rows\n",
    "    '''\n",
    "    if data['PARTY'] not in vote_share_top5:\n",
    "        return 'Other'\n",
    "    else:\n",
    "        return data['PARTY']\n",
    "\n",
    "# Calling the method\n",
    "df_NOTA['Party New'] = df_NOTA.apply(sort_party, axis=1)\n",
    "\n",
    "# Visualize Party-wise vote share\n",
    "vote_count = df_NOTA.groupby('Party New')['TOTALVOTES'].sum()\n",
    "vote_count_fig = go.Figure(go.Pie(labels=vote_count.index, \n",
    "                                  values=vote_count.values,\n",
    "                                  pull=[0.1, 0.1, 0.1, 0.1, 0.1, 0.1],\n",
    "                                  marker=dict(line=dict(color=\"#000000\", \n",
    "                                                        width=1))))\n",
    "vote_count_fig.update_layout(title_text='Party-wise Vote Share',\n",
    "                             font_family=\"Courier New\",\n",
    "                             font_color=\"#351f39\",\n",
    "                             title_font_family=\"Courier New\",\n",
    "                             title_font_color=\"#351f39\")\n",
    "vote_count_fig.show()"
   ]
  },
  {
   "cell_type": "markdown",
   "metadata": {},
   "source": [
    "### 5.3 Age distribution of candidates"
   ]
  },
  {
   "cell_type": "code",
   "execution_count": 194,
   "metadata": {},
   "outputs": [
    {
     "data": {
      "application/vnd.plotly.v1+json": {
       "config": {
        "plotlyServerURL": "https://plot.ly"
       },
       "data": [
        {
         "alignmentgroup": "True",
         "bingroup": "x",
         "hovertemplate": "AGE=%{x}<br>count=%{y}<extra></extra>",
         "legendgroup": "",
         "marker": {
          "color": "indianred"
         },
         "name": "",
         "offsetgroup": "",
         "orientation": "v",
         "showlegend": false,
         "type": "histogram",
         "x": [
          52,
          54,
          52,
          58,
          47,
          54,
          37,
          34,
          62,
          58,
          38,
          69,
          68,
          66,
          64,
          40,
          60,
          60,
          64,
          46,
          58,
          60,
          64,
          60,
          54,
          52,
          64,
          32,
          44,
          61,
          46,
          51,
          62,
          43,
          52,
          42,
          44,
          69,
          63,
          49,
          77,
          46,
          60,
          41,
          35,
          47,
          31,
          46,
          28,
          59,
          67,
          56,
          55,
          61,
          38,
          71,
          36,
          43,
          48,
          33,
          71,
          47,
          56,
          64,
          42,
          47,
          46,
          67,
          58,
          55,
          43,
          58,
          35,
          52,
          43,
          56,
          65,
          54,
          65,
          53,
          69,
          62,
          51,
          48,
          45,
          29,
          58,
          65,
          60,
          59,
          53,
          60,
          45,
          52,
          46,
          61,
          49,
          43,
          50,
          57,
          64,
          71,
          55,
          43,
          40,
          61,
          33,
          55,
          59,
          41,
          46,
          63,
          55,
          37,
          41,
          52,
          50,
          66,
          36,
          81,
          70,
          26,
          72,
          49,
          54,
          46,
          61,
          37,
          54,
          69,
          47,
          38,
          68,
          47,
          51,
          56,
          42,
          45,
          48,
          65,
          59,
          37,
          62,
          70,
          47,
          47,
          63,
          56,
          49,
          53,
          50,
          34,
          55,
          67,
          41,
          56,
          62,
          42,
          43,
          35,
          58,
          46,
          49,
          76,
          68,
          61,
          39,
          45,
          40,
          34,
          40,
          66,
          68,
          38,
          63,
          40,
          63,
          55,
          55,
          38,
          66,
          73,
          60,
          38,
          66,
          53,
          68,
          62,
          64,
          51,
          46,
          62,
          56,
          51,
          39,
          52,
          50,
          40,
          70,
          75,
          39,
          49,
          33,
          59,
          74,
          59,
          37,
          55,
          39,
          53,
          66,
          46,
          52,
          59,
          43,
          28,
          64,
          37,
          51,
          55,
          28,
          58,
          65,
          61,
          44,
          46,
          38,
          50,
          65,
          72,
          67,
          40,
          42,
          62,
          62,
          65,
          43,
          31,
          26,
          42,
          65,
          64,
          65,
          51,
          68,
          34,
          49,
          34,
          43,
          71,
          67,
          54,
          59,
          55,
          65,
          48,
          60,
          68,
          61,
          57,
          67,
          73,
          50,
          39,
          61,
          61,
          58,
          37,
          49,
          53,
          70,
          63,
          61,
          59,
          69,
          51,
          45,
          55,
          39,
          44,
          66,
          44,
          65,
          57,
          68,
          47,
          44,
          28,
          42,
          51,
          70,
          38,
          46,
          42,
          55,
          38,
          29,
          40,
          45,
          65,
          50,
          42,
          52,
          41,
          33,
          54,
          36,
          48,
          62,
          57,
          66,
          32,
          59,
          27,
          63,
          69,
          67,
          65,
          68,
          44,
          52,
          55,
          31,
          44,
          44,
          59,
          59,
          42,
          49,
          42,
          41,
          43,
          50,
          64,
          37,
          68,
          56,
          39,
          59,
          56,
          61,
          37,
          73,
          40,
          55,
          50,
          62,
          52,
          40,
          42,
          45,
          28,
          67,
          58,
          62,
          69,
          27,
          64,
          43,
          30,
          46,
          55,
          60,
          46,
          54,
          44,
          49,
          71,
          49,
          63,
          71,
          50,
          57,
          65,
          66,
          42,
          33,
          36,
          53,
          55,
          59,
          65,
          55,
          47,
          51,
          51,
          47,
          49,
          63,
          54,
          51,
          49,
          38,
          39,
          72,
          67,
          57,
          45,
          45,
          49,
          63,
          53,
          61,
          47,
          44,
          42,
          50,
          58,
          58,
          58,
          57,
          66,
          75,
          50,
          34,
          42,
          66,
          71,
          59,
          71,
          58,
          42,
          62,
          43,
          52,
          32,
          66,
          70,
          78,
          44,
          64,
          74,
          52,
          43,
          64,
          48,
          55,
          62,
          52,
          40,
          36,
          43,
          66,
          41,
          52,
          41,
          54,
          31,
          48,
          49,
          65,
          62,
          33,
          44,
          56,
          31,
          40,
          26,
          55,
          54,
          59,
          58,
          44,
          57,
          56,
          45,
          47,
          53,
          48,
          56,
          46,
          55,
          35,
          49,
          76,
          79,
          65,
          48,
          55,
          72,
          49,
          62,
          64,
          68,
          67,
          60,
          45,
          43,
          68,
          42,
          58,
          41,
          57,
          68,
          61,
          55,
          36,
          68,
          33,
          66,
          61,
          38,
          48,
          69,
          49,
          40,
          44,
          62,
          63,
          67,
          56,
          46,
          40,
          35,
          33,
          31,
          52,
          58,
          64,
          51,
          52,
          34,
          57,
          63,
          44,
          42,
          59,
          57,
          34,
          49,
          67,
          58,
          64,
          33,
          71,
          65,
          46,
          49,
          71,
          54,
          36,
          67,
          51,
          69,
          56,
          57,
          35,
          65,
          43,
          69,
          58,
          65,
          38,
          61,
          41,
          50,
          57,
          30,
          43,
          56,
          52,
          45,
          63,
          42,
          58,
          59,
          77,
          63,
          52,
          50,
          66,
          45,
          46,
          31,
          43,
          48,
          49,
          48,
          67,
          52,
          48,
          42,
          56,
          52,
          40,
          44,
          70,
          53,
          68,
          37,
          37,
          71,
          53,
          67,
          37,
          39,
          72,
          60,
          45,
          44,
          45,
          59,
          61,
          25,
          37,
          50,
          37,
          48,
          46,
          59,
          71,
          55,
          35,
          51,
          65,
          72,
          52,
          43,
          43,
          41,
          58,
          70,
          54,
          35,
          45,
          64,
          55,
          68,
          62,
          62,
          43,
          78,
          61,
          78,
          61,
          50,
          54,
          66,
          65,
          66,
          44,
          35,
          52,
          62,
          63,
          52,
          68,
          44,
          68,
          32,
          64,
          56,
          56,
          49,
          54,
          55,
          48,
          66,
          44,
          59,
          54,
          61,
          48,
          63,
          74,
          55,
          50,
          67,
          52,
          53,
          59,
          42,
          30,
          55,
          73,
          49,
          61,
          27,
          46,
          48,
          38,
          53,
          49,
          52,
          36,
          56,
          63,
          33,
          67,
          76,
          34,
          65,
          59,
          59,
          46,
          36,
          78,
          53,
          70,
          64,
          50,
          52,
          47,
          53,
          46,
          82,
          36,
          53,
          52,
          62,
          61,
          41,
          29,
          40,
          46,
          44,
          51,
          58,
          64,
          60,
          77,
          43,
          48,
          41,
          53,
          52,
          50,
          53,
          59,
          65,
          37,
          49,
          69,
          60,
          58,
          71,
          56,
          50,
          66,
          49,
          32,
          33,
          47,
          41,
          44,
          45,
          42,
          68,
          64,
          43,
          61,
          55,
          46,
          59,
          70,
          60,
          28,
          60,
          29,
          61,
          68,
          71,
          38,
          51,
          56,
          52,
          72,
          55,
          74,
          73,
          42,
          34,
          50,
          63,
          41,
          60,
          48,
          56,
          60,
          44,
          46,
          31,
          26,
          58,
          45,
          70,
          54,
          57,
          54,
          39,
          68,
          70,
          49,
          68,
          42,
          64,
          60,
          44,
          61,
          49,
          67,
          46,
          46,
          37,
          49,
          49,
          57,
          58,
          67,
          59,
          69,
          40,
          59,
          56,
          63,
          78,
          30,
          37,
          68,
          54,
          55,
          56,
          68,
          60,
          60,
          54,
          38,
          38,
          68,
          61,
          44,
          49,
          41,
          45,
          61,
          50,
          72,
          82,
          40,
          69,
          60,
          46,
          56,
          55,
          40,
          63,
          50,
          65,
          50,
          65,
          42,
          44,
          51,
          62,
          62,
          61,
          56,
          56,
          44,
          60,
          56,
          62,
          37,
          56,
          40,
          51,
          60,
          32,
          58,
          48,
          59,
          53,
          65,
          52,
          42,
          60,
          65,
          42,
          48,
          53,
          43,
          67,
          64,
          50,
          48,
          48,
          63,
          51,
          29,
          65,
          45,
          53,
          54,
          59,
          47,
          56,
          48,
          48,
          54,
          58,
          64,
          51,
          38,
          50,
          44,
          42,
          36,
          55,
          48,
          40,
          52,
          34,
          61,
          48,
          48,
          64,
          62,
          66,
          54,
          55,
          49,
          62,
          58,
          52,
          60,
          43,
          42,
          36,
          41,
          57,
          44,
          51,
          69,
          40,
          40,
          32,
          52,
          54,
          35,
          44,
          36,
          26,
          51,
          55,
          66,
          37,
          67,
          45,
          61,
          52,
          39,
          41,
          68,
          67,
          41,
          55,
          70,
          69,
          70,
          71,
          74,
          61,
          77,
          46,
          38,
          65,
          64,
          56,
          63,
          45,
          48,
          43,
          49,
          31,
          44,
          46,
          66,
          37,
          47,
          59,
          52,
          38,
          51,
          62,
          31,
          41,
          56,
          43,
          73,
          53,
          52,
          42,
          65,
          61,
          52,
          51,
          68,
          49,
          57,
          61,
          44,
          52,
          37,
          55,
          65,
          25,
          49,
          43,
          48,
          65,
          65,
          33,
          52,
          40,
          31,
          27,
          35,
          44,
          38,
          49,
          39,
          39,
          62,
          64,
          54,
          47,
          46,
          61,
          66,
          45,
          60,
          43,
          55,
          39,
          33,
          54,
          58,
          60,
          29,
          71,
          68,
          50,
          57,
          40,
          50,
          54,
          54,
          55,
          42,
          50,
          61,
          46,
          28,
          50,
          69,
          56,
          50,
          26,
          44,
          71,
          54,
          47,
          37,
          61,
          58,
          53,
          44,
          70,
          55,
          50,
          57,
          58,
          55,
          57,
          64,
          38,
          40,
          33,
          63,
          61,
          67,
          45,
          27,
          65,
          52,
          45,
          45,
          44,
          56,
          75,
          66,
          64,
          68,
          66,
          55,
          39,
          58,
          67,
          37,
          50,
          44,
          40,
          57,
          70,
          52,
          67,
          42,
          48,
          58,
          49,
          66,
          59,
          57,
          26,
          50,
          65,
          55,
          33,
          37,
          54,
          61,
          53,
          51,
          51,
          43,
          36,
          64,
          44,
          43,
          45,
          29,
          57,
          59,
          59,
          52,
          57,
          53,
          41,
          26,
          47,
          67,
          68,
          56,
          43,
          48,
          69,
          32,
          58,
          70,
          70,
          50,
          68,
          44,
          42,
          50,
          78,
          43,
          67,
          71,
          51,
          57,
          49,
          46,
          63,
          57,
          30,
          39,
          49,
          36,
          42,
          52,
          38,
          39,
          55,
          33,
          45,
          37,
          38,
          49,
          54,
          55,
          36,
          55,
          41,
          51,
          47,
          67,
          51,
          66,
          33,
          60,
          59,
          38,
          71,
          73,
          79,
          60,
          67,
          30,
          54,
          48,
          72,
          54,
          63,
          59,
          39,
          47,
          69,
          51,
          50,
          59,
          43,
          60,
          32,
          48,
          59,
          58,
          57,
          43,
          40,
          59,
          45,
          55,
          31,
          36,
          45,
          67,
          55,
          70,
          66,
          63,
          80,
          46,
          42,
          63,
          55,
          29,
          47,
          56,
          53,
          64,
          74,
          64,
          39,
          27,
          46,
          54,
          41,
          47,
          47,
          53,
          46,
          54,
          49,
          61,
          33,
          54,
          67,
          50,
          64,
          68,
          60,
          68,
          37,
          54,
          41,
          64,
          52,
          44,
          53,
          62,
          41,
          59,
          36,
          54,
          59,
          49,
          60,
          60,
          67,
          32,
          61,
          59,
          61,
          65,
          48,
          48,
          38,
          52,
          46,
          46,
          50,
          50,
          75,
          54,
          46,
          67,
          43,
          68,
          47,
          79,
          51,
          41,
          65,
          48,
          38,
          50,
          46,
          42,
          34,
          57,
          69,
          56,
          64,
          46,
          78,
          50,
          41,
          70,
          40,
          42,
          62,
          46,
          40,
          43,
          57,
          59,
          62,
          75,
          38,
          63,
          41,
          36,
          25,
          61,
          66,
          68,
          43,
          53,
          45,
          47,
          47,
          41,
          55,
          56,
          69,
          62,
          56,
          47,
          47,
          57,
          71,
          46,
          60,
          46,
          61,
          60,
          33,
          33,
          55,
          63,
          61,
          45,
          54,
          70,
          44,
          57,
          54,
          57,
          60,
          42,
          31,
          61,
          33,
          58,
          60,
          57,
          69,
          33,
          35,
          75,
          52,
          64,
          57,
          48,
          58,
          71,
          59,
          48,
          45,
          61,
          38,
          64,
          47,
          36,
          53,
          33,
          67,
          70,
          60,
          67,
          51,
          55,
          43,
          55,
          59,
          55,
          66,
          43,
          41,
          61,
          47,
          81,
          38,
          43,
          66,
          52,
          59,
          57,
          70,
          53,
          59,
          46,
          65,
          61,
          49,
          35,
          47,
          39,
          59,
          36,
          56,
          64,
          43,
          49,
          48,
          48,
          68,
          51,
          47,
          40,
          28,
          65,
          33,
          51,
          63,
          55,
          34,
          43,
          65,
          69,
          59,
          68,
          52,
          39,
          37,
          52,
          54,
          41,
          39,
          39,
          58,
          42,
          46,
          64,
          62,
          62,
          42,
          49,
          74,
          68,
          68,
          47,
          64,
          73,
          42,
          60,
          52,
          42,
          36,
          77,
          55,
          36,
          58,
          62,
          58,
          38,
          39,
          43,
          49,
          47,
          40,
          35,
          49,
          72,
          51,
          61,
          40,
          36,
          57,
          57,
          44,
          48,
          45,
          57,
          51,
          68,
          29,
          72,
          30,
          68,
          62,
          35,
          59,
          45,
          51,
          43,
          66,
          32,
          29,
          49,
          34,
          56,
          58,
          73,
          69,
          27,
          30,
          42,
          34,
          55,
          72,
          51,
          62,
          53,
          37,
          64,
          67,
          61,
          50,
          48,
          64,
          61,
          58,
          43,
          42,
          58,
          57,
          53,
          36,
          45,
          55,
          55,
          42,
          68,
          42,
          48,
          58,
          50,
          67,
          61,
          48,
          36,
          63,
          56,
          32,
          65,
          51,
          60,
          45,
          48,
          76,
          45,
          44,
          39,
          59,
          38,
          37,
          30,
          64,
          57,
          56,
          53,
          61,
          29,
          58,
          56,
          25,
          56,
          56,
          60,
          67,
          77,
          62,
          68,
          28,
          65,
          38,
          62,
          74,
          28,
          32,
          31,
          59,
          39,
          62,
          34,
          36,
          49,
          66,
          67,
          64,
          28,
          55,
          64,
          56,
          41,
          51,
          32,
          67,
          46,
          38,
          51,
          65,
          47,
          67,
          44,
          48,
          49,
          44,
          28,
          57,
          57,
          55,
          62,
          54,
          61,
          58,
          64,
          46,
          37,
          25,
          40,
          32,
          47,
          61,
          62,
          86,
          64,
          78,
          54,
          38,
          36,
          45,
          68,
          43,
          74,
          46,
          30,
          54,
          60,
          58,
          61,
          44,
          53,
          55,
          72,
          44,
          40,
          63,
          74,
          35,
          48,
          53,
          44,
          63,
          56,
          66,
          62,
          58,
          32,
          58,
          44,
          32,
          50,
          31,
          65,
          27,
          42,
          48,
          47,
          69,
          52,
          73,
          44,
          51,
          30,
          31,
          51,
          51,
          54,
          52,
          48,
          78,
          46,
          52,
          56,
          64,
          39,
          69,
          58,
          32,
          38,
          64,
          36,
          49,
          52,
          54,
          63,
          41,
          63,
          39,
          48,
          63,
          34,
          67,
          61,
          63,
          30,
          42,
          33,
          58,
          48,
          46,
          35,
          57,
          29,
          25,
          31,
          31,
          51,
          43,
          37,
          49,
          50,
          58,
          47,
          33,
          48,
          55,
          48,
          58,
          53,
          45,
          47,
          61,
          43,
          27,
          46,
          59,
          33,
          46,
          54,
          43,
          46,
          47,
          63,
          77,
          64,
          62,
          72,
          28,
          44,
          57,
          30,
          33,
          52,
          73,
          52,
          56,
          62,
          42,
          44,
          60,
          32,
          52,
          53,
          53,
          83,
          58,
          41,
          43,
          77,
          49,
          46,
          41,
          59,
          62,
          43,
          67,
          42,
          58,
          39,
          60,
          48,
          73,
          46,
          52,
          26,
          50,
          32,
          27,
          41,
          58,
          45,
          50,
          79,
          35,
          36,
          42,
          50,
          31,
          73,
          68,
          60,
          59,
          44,
          66,
          32,
          32,
          44,
          41,
          60,
          68,
          57,
          46,
          47,
          68,
          52,
          62,
          44,
          63,
          53,
          39,
          70,
          58,
          59,
          51,
          69,
          66,
          35,
          42,
          43,
          48,
          63,
          66,
          76,
          51,
          57,
          52,
          55,
          59,
          58,
          64,
          60,
          65,
          47,
          56,
          69,
          70,
          60,
          33,
          53,
          54,
          47,
          55,
          41,
          53,
          63,
          60,
          64,
          52,
          44,
          71,
          56,
          46,
          65,
          50,
          45,
          59,
          47,
          41,
          44,
          61,
          75,
          30,
          43,
          50,
          60,
          76,
          50,
          58,
          62,
          42,
          78,
          86,
          74,
          38,
          53,
          55,
          54,
          59,
          65,
          51,
          53,
          62,
          54,
          59,
          60,
          62,
          52,
          50,
          43,
          53,
          56,
          49,
          31,
          51,
          42,
          64,
          41,
          47,
          56,
          57,
          56,
          58,
          40,
          63,
          61,
          61,
          51,
          39,
          62,
          66,
          43,
          56,
          44,
          48,
          72,
          26,
          36,
          37,
          46,
          46,
          62,
          32,
          42,
          54,
          35,
          38,
          69,
          54,
          54,
          68,
          47,
          49,
          65,
          43,
          51,
          53,
          48,
          66,
          48,
          58,
          58,
          66,
          55,
          30,
          48,
          64,
          44,
          47,
          45,
          41,
          36,
          52,
          29,
          53,
          58,
          48,
          57,
          67,
          39,
          52,
          51,
          56,
          65,
          45,
          37,
          65,
          53,
          63,
          37,
          48,
          50,
          50,
          41,
          64,
          47,
          46,
          64,
          37,
          64,
          28,
          43,
          63,
          49,
          47
         ],
         "xaxis": "x",
         "yaxis": "y"
        }
       ],
       "layout": {
        "barmode": "relative",
        "font": {
         "color": "#351f39",
         "family": "Courier New"
        },
        "legend": {
         "tracegroupgap": 0
        },
        "margin": {
         "t": 60
        },
        "template": {
         "data": {
          "bar": [
           {
            "error_x": {
             "color": "#2a3f5f"
            },
            "error_y": {
             "color": "#2a3f5f"
            },
            "marker": {
             "line": {
              "color": "#E5ECF6",
              "width": 0.5
             }
            },
            "type": "bar"
           }
          ],
          "barpolar": [
           {
            "marker": {
             "line": {
              "color": "#E5ECF6",
              "width": 0.5
             }
            },
            "type": "barpolar"
           }
          ],
          "carpet": [
           {
            "aaxis": {
             "endlinecolor": "#2a3f5f",
             "gridcolor": "white",
             "linecolor": "white",
             "minorgridcolor": "white",
             "startlinecolor": "#2a3f5f"
            },
            "baxis": {
             "endlinecolor": "#2a3f5f",
             "gridcolor": "white",
             "linecolor": "white",
             "minorgridcolor": "white",
             "startlinecolor": "#2a3f5f"
            },
            "type": "carpet"
           }
          ],
          "choropleth": [
           {
            "colorbar": {
             "outlinewidth": 0,
             "ticks": ""
            },
            "type": "choropleth"
           }
          ],
          "contour": [
           {
            "colorbar": {
             "outlinewidth": 0,
             "ticks": ""
            },
            "colorscale": [
             [
              0,
              "#0d0887"
             ],
             [
              0.1111111111111111,
              "#46039f"
             ],
             [
              0.2222222222222222,
              "#7201a8"
             ],
             [
              0.3333333333333333,
              "#9c179e"
             ],
             [
              0.4444444444444444,
              "#bd3786"
             ],
             [
              0.5555555555555556,
              "#d8576b"
             ],
             [
              0.6666666666666666,
              "#ed7953"
             ],
             [
              0.7777777777777778,
              "#fb9f3a"
             ],
             [
              0.8888888888888888,
              "#fdca26"
             ],
             [
              1,
              "#f0f921"
             ]
            ],
            "type": "contour"
           }
          ],
          "contourcarpet": [
           {
            "colorbar": {
             "outlinewidth": 0,
             "ticks": ""
            },
            "type": "contourcarpet"
           }
          ],
          "heatmap": [
           {
            "colorbar": {
             "outlinewidth": 0,
             "ticks": ""
            },
            "colorscale": [
             [
              0,
              "#0d0887"
             ],
             [
              0.1111111111111111,
              "#46039f"
             ],
             [
              0.2222222222222222,
              "#7201a8"
             ],
             [
              0.3333333333333333,
              "#9c179e"
             ],
             [
              0.4444444444444444,
              "#bd3786"
             ],
             [
              0.5555555555555556,
              "#d8576b"
             ],
             [
              0.6666666666666666,
              "#ed7953"
             ],
             [
              0.7777777777777778,
              "#fb9f3a"
             ],
             [
              0.8888888888888888,
              "#fdca26"
             ],
             [
              1,
              "#f0f921"
             ]
            ],
            "type": "heatmap"
           }
          ],
          "heatmapgl": [
           {
            "colorbar": {
             "outlinewidth": 0,
             "ticks": ""
            },
            "colorscale": [
             [
              0,
              "#0d0887"
             ],
             [
              0.1111111111111111,
              "#46039f"
             ],
             [
              0.2222222222222222,
              "#7201a8"
             ],
             [
              0.3333333333333333,
              "#9c179e"
             ],
             [
              0.4444444444444444,
              "#bd3786"
             ],
             [
              0.5555555555555556,
              "#d8576b"
             ],
             [
              0.6666666666666666,
              "#ed7953"
             ],
             [
              0.7777777777777778,
              "#fb9f3a"
             ],
             [
              0.8888888888888888,
              "#fdca26"
             ],
             [
              1,
              "#f0f921"
             ]
            ],
            "type": "heatmapgl"
           }
          ],
          "histogram": [
           {
            "marker": {
             "colorbar": {
              "outlinewidth": 0,
              "ticks": ""
             }
            },
            "type": "histogram"
           }
          ],
          "histogram2d": [
           {
            "colorbar": {
             "outlinewidth": 0,
             "ticks": ""
            },
            "colorscale": [
             [
              0,
              "#0d0887"
             ],
             [
              0.1111111111111111,
              "#46039f"
             ],
             [
              0.2222222222222222,
              "#7201a8"
             ],
             [
              0.3333333333333333,
              "#9c179e"
             ],
             [
              0.4444444444444444,
              "#bd3786"
             ],
             [
              0.5555555555555556,
              "#d8576b"
             ],
             [
              0.6666666666666666,
              "#ed7953"
             ],
             [
              0.7777777777777778,
              "#fb9f3a"
             ],
             [
              0.8888888888888888,
              "#fdca26"
             ],
             [
              1,
              "#f0f921"
             ]
            ],
            "type": "histogram2d"
           }
          ],
          "histogram2dcontour": [
           {
            "colorbar": {
             "outlinewidth": 0,
             "ticks": ""
            },
            "colorscale": [
             [
              0,
              "#0d0887"
             ],
             [
              0.1111111111111111,
              "#46039f"
             ],
             [
              0.2222222222222222,
              "#7201a8"
             ],
             [
              0.3333333333333333,
              "#9c179e"
             ],
             [
              0.4444444444444444,
              "#bd3786"
             ],
             [
              0.5555555555555556,
              "#d8576b"
             ],
             [
              0.6666666666666666,
              "#ed7953"
             ],
             [
              0.7777777777777778,
              "#fb9f3a"
             ],
             [
              0.8888888888888888,
              "#fdca26"
             ],
             [
              1,
              "#f0f921"
             ]
            ],
            "type": "histogram2dcontour"
           }
          ],
          "mesh3d": [
           {
            "colorbar": {
             "outlinewidth": 0,
             "ticks": ""
            },
            "type": "mesh3d"
           }
          ],
          "parcoords": [
           {
            "line": {
             "colorbar": {
              "outlinewidth": 0,
              "ticks": ""
             }
            },
            "type": "parcoords"
           }
          ],
          "pie": [
           {
            "automargin": true,
            "type": "pie"
           }
          ],
          "scatter": [
           {
            "marker": {
             "colorbar": {
              "outlinewidth": 0,
              "ticks": ""
             }
            },
            "type": "scatter"
           }
          ],
          "scatter3d": [
           {
            "line": {
             "colorbar": {
              "outlinewidth": 0,
              "ticks": ""
             }
            },
            "marker": {
             "colorbar": {
              "outlinewidth": 0,
              "ticks": ""
             }
            },
            "type": "scatter3d"
           }
          ],
          "scattercarpet": [
           {
            "marker": {
             "colorbar": {
              "outlinewidth": 0,
              "ticks": ""
             }
            },
            "type": "scattercarpet"
           }
          ],
          "scattergeo": [
           {
            "marker": {
             "colorbar": {
              "outlinewidth": 0,
              "ticks": ""
             }
            },
            "type": "scattergeo"
           }
          ],
          "scattergl": [
           {
            "marker": {
             "colorbar": {
              "outlinewidth": 0,
              "ticks": ""
             }
            },
            "type": "scattergl"
           }
          ],
          "scattermapbox": [
           {
            "marker": {
             "colorbar": {
              "outlinewidth": 0,
              "ticks": ""
             }
            },
            "type": "scattermapbox"
           }
          ],
          "scatterpolar": [
           {
            "marker": {
             "colorbar": {
              "outlinewidth": 0,
              "ticks": ""
             }
            },
            "type": "scatterpolar"
           }
          ],
          "scatterpolargl": [
           {
            "marker": {
             "colorbar": {
              "outlinewidth": 0,
              "ticks": ""
             }
            },
            "type": "scatterpolargl"
           }
          ],
          "scatterternary": [
           {
            "marker": {
             "colorbar": {
              "outlinewidth": 0,
              "ticks": ""
             }
            },
            "type": "scatterternary"
           }
          ],
          "surface": [
           {
            "colorbar": {
             "outlinewidth": 0,
             "ticks": ""
            },
            "colorscale": [
             [
              0,
              "#0d0887"
             ],
             [
              0.1111111111111111,
              "#46039f"
             ],
             [
              0.2222222222222222,
              "#7201a8"
             ],
             [
              0.3333333333333333,
              "#9c179e"
             ],
             [
              0.4444444444444444,
              "#bd3786"
             ],
             [
              0.5555555555555556,
              "#d8576b"
             ],
             [
              0.6666666666666666,
              "#ed7953"
             ],
             [
              0.7777777777777778,
              "#fb9f3a"
             ],
             [
              0.8888888888888888,
              "#fdca26"
             ],
             [
              1,
              "#f0f921"
             ]
            ],
            "type": "surface"
           }
          ],
          "table": [
           {
            "cells": {
             "fill": {
              "color": "#EBF0F8"
             },
             "line": {
              "color": "white"
             }
            },
            "header": {
             "fill": {
              "color": "#C8D4E3"
             },
             "line": {
              "color": "white"
             }
            },
            "type": "table"
           }
          ]
         },
         "layout": {
          "annotationdefaults": {
           "arrowcolor": "#2a3f5f",
           "arrowhead": 0,
           "arrowwidth": 1
          },
          "coloraxis": {
           "colorbar": {
            "outlinewidth": 0,
            "ticks": ""
           }
          },
          "colorscale": {
           "diverging": [
            [
             0,
             "#8e0152"
            ],
            [
             0.1,
             "#c51b7d"
            ],
            [
             0.2,
             "#de77ae"
            ],
            [
             0.3,
             "#f1b6da"
            ],
            [
             0.4,
             "#fde0ef"
            ],
            [
             0.5,
             "#f7f7f7"
            ],
            [
             0.6,
             "#e6f5d0"
            ],
            [
             0.7,
             "#b8e186"
            ],
            [
             0.8,
             "#7fbc41"
            ],
            [
             0.9,
             "#4d9221"
            ],
            [
             1,
             "#276419"
            ]
           ],
           "sequential": [
            [
             0,
             "#0d0887"
            ],
            [
             0.1111111111111111,
             "#46039f"
            ],
            [
             0.2222222222222222,
             "#7201a8"
            ],
            [
             0.3333333333333333,
             "#9c179e"
            ],
            [
             0.4444444444444444,
             "#bd3786"
            ],
            [
             0.5555555555555556,
             "#d8576b"
            ],
            [
             0.6666666666666666,
             "#ed7953"
            ],
            [
             0.7777777777777778,
             "#fb9f3a"
            ],
            [
             0.8888888888888888,
             "#fdca26"
            ],
            [
             1,
             "#f0f921"
            ]
           ],
           "sequentialminus": [
            [
             0,
             "#0d0887"
            ],
            [
             0.1111111111111111,
             "#46039f"
            ],
            [
             0.2222222222222222,
             "#7201a8"
            ],
            [
             0.3333333333333333,
             "#9c179e"
            ],
            [
             0.4444444444444444,
             "#bd3786"
            ],
            [
             0.5555555555555556,
             "#d8576b"
            ],
            [
             0.6666666666666666,
             "#ed7953"
            ],
            [
             0.7777777777777778,
             "#fb9f3a"
            ],
            [
             0.8888888888888888,
             "#fdca26"
            ],
            [
             1,
             "#f0f921"
            ]
           ]
          },
          "colorway": [
           "#636efa",
           "#EF553B",
           "#00cc96",
           "#ab63fa",
           "#FFA15A",
           "#19d3f3",
           "#FF6692",
           "#B6E880",
           "#FF97FF",
           "#FECB52"
          ],
          "font": {
           "color": "#2a3f5f"
          },
          "geo": {
           "bgcolor": "white",
           "lakecolor": "white",
           "landcolor": "#E5ECF6",
           "showlakes": true,
           "showland": true,
           "subunitcolor": "white"
          },
          "hoverlabel": {
           "align": "left"
          },
          "hovermode": "closest",
          "mapbox": {
           "style": "light"
          },
          "paper_bgcolor": "white",
          "plot_bgcolor": "#E5ECF6",
          "polar": {
           "angularaxis": {
            "gridcolor": "white",
            "linecolor": "white",
            "ticks": ""
           },
           "bgcolor": "#E5ECF6",
           "radialaxis": {
            "gridcolor": "white",
            "linecolor": "white",
            "ticks": ""
           }
          },
          "scene": {
           "xaxis": {
            "backgroundcolor": "#E5ECF6",
            "gridcolor": "white",
            "gridwidth": 2,
            "linecolor": "white",
            "showbackground": true,
            "ticks": "",
            "zerolinecolor": "white"
           },
           "yaxis": {
            "backgroundcolor": "#E5ECF6",
            "gridcolor": "white",
            "gridwidth": 2,
            "linecolor": "white",
            "showbackground": true,
            "ticks": "",
            "zerolinecolor": "white"
           },
           "zaxis": {
            "backgroundcolor": "#E5ECF6",
            "gridcolor": "white",
            "gridwidth": 2,
            "linecolor": "white",
            "showbackground": true,
            "ticks": "",
            "zerolinecolor": "white"
           }
          },
          "shapedefaults": {
           "line": {
            "color": "#2a3f5f"
           }
          },
          "ternary": {
           "aaxis": {
            "gridcolor": "white",
            "linecolor": "white",
            "ticks": ""
           },
           "baxis": {
            "gridcolor": "white",
            "linecolor": "white",
            "ticks": ""
           },
           "bgcolor": "#E5ECF6",
           "caxis": {
            "gridcolor": "white",
            "linecolor": "white",
            "ticks": ""
           }
          },
          "title": {
           "x": 0.05
          },
          "xaxis": {
           "automargin": true,
           "gridcolor": "white",
           "linecolor": "white",
           "ticks": "",
           "title": {
            "standoff": 15
           },
           "zerolinecolor": "white",
           "zerolinewidth": 2
          },
          "yaxis": {
           "automargin": true,
           "gridcolor": "white",
           "linecolor": "white",
           "ticks": "",
           "title": {
            "standoff": 15
           },
           "zerolinecolor": "white",
           "zerolinewidth": 2
          }
         }
        },
        "title": {
         "font": {
          "color": "#351f39",
          "family": "Courier New"
         },
         "text": "Age Distribution of Candidates"
        },
        "xaxis": {
         "anchor": "y",
         "domain": [
          0,
          1
         ],
         "title": {
          "text": "Distribution"
         }
        },
        "yaxis": {
         "anchor": "x",
         "domain": [
          0,
          1
         ],
         "title": {
          "text": "Age"
         }
        }
       }
      },
      "text/html": [
       "<div>                            <div id=\"196d06ac-5d16-4743-8b89-8145aef72436\" class=\"plotly-graph-div\" style=\"height:525px; width:100%;\"></div>            <script type=\"text/javascript\">                require([\"plotly\"], function(Plotly) {                    window.PLOTLYENV=window.PLOTLYENV || {};                                    if (document.getElementById(\"196d06ac-5d16-4743-8b89-8145aef72436\")) {                    Plotly.newPlot(                        \"196d06ac-5d16-4743-8b89-8145aef72436\",                        [{\"alignmentgroup\": \"True\", \"bingroup\": \"x\", \"hovertemplate\": \"AGE=%{x}<br>count=%{y}<extra></extra>\", \"legendgroup\": \"\", \"marker\": {\"color\": \"indianred\"}, \"name\": \"\", \"offsetgroup\": \"\", \"orientation\": \"v\", \"showlegend\": false, \"type\": \"histogram\", \"x\": [52, 54, 52, 58, 47, 54, 37, 34, 62, 58, 38, 69, 68, 66, 64, 40, 60, 60, 64, 46, 58, 60, 64, 60, 54, 52, 64, 32, 44, 61, 46, 51, 62, 43, 52, 42, 44, 69, 63, 49, 77, 46, 60, 41, 35, 47, 31, 46, 28, 59, 67, 56, 55, 61, 38, 71, 36, 43, 48, 33, 71, 47, 56, 64, 42, 47, 46, 67, 58, 55, 43, 58, 35, 52, 43, 56, 65, 54, 65, 53, 69, 62, 51, 48, 45, 29, 58, 65, 60, 59, 53, 60, 45, 52, 46, 61, 49, 43, 50, 57, 64, 71, 55, 43, 40, 61, 33, 55, 59, 41, 46, 63, 55, 37, 41, 52, 50, 66, 36, 81, 70, 26, 72, 49, 54, 46, 61, 37, 54, 69, 47, 38, 68, 47, 51, 56, 42, 45, 48, 65, 59, 37, 62, 70, 47, 47, 63, 56, 49, 53, 50, 34, 55, 67, 41, 56, 62, 42, 43, 35, 58, 46, 49, 76, 68, 61, 39, 45, 40, 34, 40, 66, 68, 38, 63, 40, 63, 55, 55, 38, 66, 73, 60, 38, 66, 53, 68, 62, 64, 51, 46, 62, 56, 51, 39, 52, 50, 40, 70, 75, 39, 49, 33, 59, 74, 59, 37, 55, 39, 53, 66, 46, 52, 59, 43, 28, 64, 37, 51, 55, 28, 58, 65, 61, 44, 46, 38, 50, 65, 72, 67, 40, 42, 62, 62, 65, 43, 31, 26, 42, 65, 64, 65, 51, 68, 34, 49, 34, 43, 71, 67, 54, 59, 55, 65, 48, 60, 68, 61, 57, 67, 73, 50, 39, 61, 61, 58, 37, 49, 53, 70, 63, 61, 59, 69, 51, 45, 55, 39, 44, 66, 44, 65, 57, 68, 47, 44, 28, 42, 51, 70, 38, 46, 42, 55, 38, 29, 40, 45, 65, 50, 42, 52, 41, 33, 54, 36, 48, 62, 57, 66, 32, 59, 27, 63, 69, 67, 65, 68, 44, 52, 55, 31, 44, 44, 59, 59, 42, 49, 42, 41, 43, 50, 64, 37, 68, 56, 39, 59, 56, 61, 37, 73, 40, 55, 50, 62, 52, 40, 42, 45, 28, 67, 58, 62, 69, 27, 64, 43, 30, 46, 55, 60, 46, 54, 44, 49, 71, 49, 63, 71, 50, 57, 65, 66, 42, 33, 36, 53, 55, 59, 65, 55, 47, 51, 51, 47, 49, 63, 54, 51, 49, 38, 39, 72, 67, 57, 45, 45, 49, 63, 53, 61, 47, 44, 42, 50, 58, 58, 58, 57, 66, 75, 50, 34, 42, 66, 71, 59, 71, 58, 42, 62, 43, 52, 32, 66, 70, 78, 44, 64, 74, 52, 43, 64, 48, 55, 62, 52, 40, 36, 43, 66, 41, 52, 41, 54, 31, 48, 49, 65, 62, 33, 44, 56, 31, 40, 26, 55, 54, 59, 58, 44, 57, 56, 45, 47, 53, 48, 56, 46, 55, 35, 49, 76, 79, 65, 48, 55, 72, 49, 62, 64, 68, 67, 60, 45, 43, 68, 42, 58, 41, 57, 68, 61, 55, 36, 68, 33, 66, 61, 38, 48, 69, 49, 40, 44, 62, 63, 67, 56, 46, 40, 35, 33, 31, 52, 58, 64, 51, 52, 34, 57, 63, 44, 42, 59, 57, 34, 49, 67, 58, 64, 33, 71, 65, 46, 49, 71, 54, 36, 67, 51, 69, 56, 57, 35, 65, 43, 69, 58, 65, 38, 61, 41, 50, 57, 30, 43, 56, 52, 45, 63, 42, 58, 59, 77, 63, 52, 50, 66, 45, 46, 31, 43, 48, 49, 48, 67, 52, 48, 42, 56, 52, 40, 44, 70, 53, 68, 37, 37, 71, 53, 67, 37, 39, 72, 60, 45, 44, 45, 59, 61, 25, 37, 50, 37, 48, 46, 59, 71, 55, 35, 51, 65, 72, 52, 43, 43, 41, 58, 70, 54, 35, 45, 64, 55, 68, 62, 62, 43, 78, 61, 78, 61, 50, 54, 66, 65, 66, 44, 35, 52, 62, 63, 52, 68, 44, 68, 32, 64, 56, 56, 49, 54, 55, 48, 66, 44, 59, 54, 61, 48, 63, 74, 55, 50, 67, 52, 53, 59, 42, 30, 55, 73, 49, 61, 27, 46, 48, 38, 53, 49, 52, 36, 56, 63, 33, 67, 76, 34, 65, 59, 59, 46, 36, 78, 53, 70, 64, 50, 52, 47, 53, 46, 82, 36, 53, 52, 62, 61, 41, 29, 40, 46, 44, 51, 58, 64, 60, 77, 43, 48, 41, 53, 52, 50, 53, 59, 65, 37, 49, 69, 60, 58, 71, 56, 50, 66, 49, 32, 33, 47, 41, 44, 45, 42, 68, 64, 43, 61, 55, 46, 59, 70, 60, 28, 60, 29, 61, 68, 71, 38, 51, 56, 52, 72, 55, 74, 73, 42, 34, 50, 63, 41, 60, 48, 56, 60, 44, 46, 31, 26, 58, 45, 70, 54, 57, 54, 39, 68, 70, 49, 68, 42, 64, 60, 44, 61, 49, 67, 46, 46, 37, 49, 49, 57, 58, 67, 59, 69, 40, 59, 56, 63, 78, 30, 37, 68, 54, 55, 56, 68, 60, 60, 54, 38, 38, 68, 61, 44, 49, 41, 45, 61, 50, 72, 82, 40, 69, 60, 46, 56, 55, 40, 63, 50, 65, 50, 65, 42, 44, 51, 62, 62, 61, 56, 56, 44, 60, 56, 62, 37, 56, 40, 51, 60, 32, 58, 48, 59, 53, 65, 52, 42, 60, 65, 42, 48, 53, 43, 67, 64, 50, 48, 48, 63, 51, 29, 65, 45, 53, 54, 59, 47, 56, 48, 48, 54, 58, 64, 51, 38, 50, 44, 42, 36, 55, 48, 40, 52, 34, 61, 48, 48, 64, 62, 66, 54, 55, 49, 62, 58, 52, 60, 43, 42, 36, 41, 57, 44, 51, 69, 40, 40, 32, 52, 54, 35, 44, 36, 26, 51, 55, 66, 37, 67, 45, 61, 52, 39, 41, 68, 67, 41, 55, 70, 69, 70, 71, 74, 61, 77, 46, 38, 65, 64, 56, 63, 45, 48, 43, 49, 31, 44, 46, 66, 37, 47, 59, 52, 38, 51, 62, 31, 41, 56, 43, 73, 53, 52, 42, 65, 61, 52, 51, 68, 49, 57, 61, 44, 52, 37, 55, 65, 25, 49, 43, 48, 65, 65, 33, 52, 40, 31, 27, 35, 44, 38, 49, 39, 39, 62, 64, 54, 47, 46, 61, 66, 45, 60, 43, 55, 39, 33, 54, 58, 60, 29, 71, 68, 50, 57, 40, 50, 54, 54, 55, 42, 50, 61, 46, 28, 50, 69, 56, 50, 26, 44, 71, 54, 47, 37, 61, 58, 53, 44, 70, 55, 50, 57, 58, 55, 57, 64, 38, 40, 33, 63, 61, 67, 45, 27, 65, 52, 45, 45, 44, 56, 75, 66, 64, 68, 66, 55, 39, 58, 67, 37, 50, 44, 40, 57, 70, 52, 67, 42, 48, 58, 49, 66, 59, 57, 26, 50, 65, 55, 33, 37, 54, 61, 53, 51, 51, 43, 36, 64, 44, 43, 45, 29, 57, 59, 59, 52, 57, 53, 41, 26, 47, 67, 68, 56, 43, 48, 69, 32, 58, 70, 70, 50, 68, 44, 42, 50, 78, 43, 67, 71, 51, 57, 49, 46, 63, 57, 30, 39, 49, 36, 42, 52, 38, 39, 55, 33, 45, 37, 38, 49, 54, 55, 36, 55, 41, 51, 47, 67, 51, 66, 33, 60, 59, 38, 71, 73, 79, 60, 67, 30, 54, 48, 72, 54, 63, 59, 39, 47, 69, 51, 50, 59, 43, 60, 32, 48, 59, 58, 57, 43, 40, 59, 45, 55, 31, 36, 45, 67, 55, 70, 66, 63, 80, 46, 42, 63, 55, 29, 47, 56, 53, 64, 74, 64, 39, 27, 46, 54, 41, 47, 47, 53, 46, 54, 49, 61, 33, 54, 67, 50, 64, 68, 60, 68, 37, 54, 41, 64, 52, 44, 53, 62, 41, 59, 36, 54, 59, 49, 60, 60, 67, 32, 61, 59, 61, 65, 48, 48, 38, 52, 46, 46, 50, 50, 75, 54, 46, 67, 43, 68, 47, 79, 51, 41, 65, 48, 38, 50, 46, 42, 34, 57, 69, 56, 64, 46, 78, 50, 41, 70, 40, 42, 62, 46, 40, 43, 57, 59, 62, 75, 38, 63, 41, 36, 25, 61, 66, 68, 43, 53, 45, 47, 47, 41, 55, 56, 69, 62, 56, 47, 47, 57, 71, 46, 60, 46, 61, 60, 33, 33, 55, 63, 61, 45, 54, 70, 44, 57, 54, 57, 60, 42, 31, 61, 33, 58, 60, 57, 69, 33, 35, 75, 52, 64, 57, 48, 58, 71, 59, 48, 45, 61, 38, 64, 47, 36, 53, 33, 67, 70, 60, 67, 51, 55, 43, 55, 59, 55, 66, 43, 41, 61, 47, 81, 38, 43, 66, 52, 59, 57, 70, 53, 59, 46, 65, 61, 49, 35, 47, 39, 59, 36, 56, 64, 43, 49, 48, 48, 68, 51, 47, 40, 28, 65, 33, 51, 63, 55, 34, 43, 65, 69, 59, 68, 52, 39, 37, 52, 54, 41, 39, 39, 58, 42, 46, 64, 62, 62, 42, 49, 74, 68, 68, 47, 64, 73, 42, 60, 52, 42, 36, 77, 55, 36, 58, 62, 58, 38, 39, 43, 49, 47, 40, 35, 49, 72, 51, 61, 40, 36, 57, 57, 44, 48, 45, 57, 51, 68, 29, 72, 30, 68, 62, 35, 59, 45, 51, 43, 66, 32, 29, 49, 34, 56, 58, 73, 69, 27, 30, 42, 34, 55, 72, 51, 62, 53, 37, 64, 67, 61, 50, 48, 64, 61, 58, 43, 42, 58, 57, 53, 36, 45, 55, 55, 42, 68, 42, 48, 58, 50, 67, 61, 48, 36, 63, 56, 32, 65, 51, 60, 45, 48, 76, 45, 44, 39, 59, 38, 37, 30, 64, 57, 56, 53, 61, 29, 58, 56, 25, 56, 56, 60, 67, 77, 62, 68, 28, 65, 38, 62, 74, 28, 32, 31, 59, 39, 62, 34, 36, 49, 66, 67, 64, 28, 55, 64, 56, 41, 51, 32, 67, 46, 38, 51, 65, 47, 67, 44, 48, 49, 44, 28, 57, 57, 55, 62, 54, 61, 58, 64, 46, 37, 25, 40, 32, 47, 61, 62, 86, 64, 78, 54, 38, 36, 45, 68, 43, 74, 46, 30, 54, 60, 58, 61, 44, 53, 55, 72, 44, 40, 63, 74, 35, 48, 53, 44, 63, 56, 66, 62, 58, 32, 58, 44, 32, 50, 31, 65, 27, 42, 48, 47, 69, 52, 73, 44, 51, 30, 31, 51, 51, 54, 52, 48, 78, 46, 52, 56, 64, 39, 69, 58, 32, 38, 64, 36, 49, 52, 54, 63, 41, 63, 39, 48, 63, 34, 67, 61, 63, 30, 42, 33, 58, 48, 46, 35, 57, 29, 25, 31, 31, 51, 43, 37, 49, 50, 58, 47, 33, 48, 55, 48, 58, 53, 45, 47, 61, 43, 27, 46, 59, 33, 46, 54, 43, 46, 47, 63, 77, 64, 62, 72, 28, 44, 57, 30, 33, 52, 73, 52, 56, 62, 42, 44, 60, 32, 52, 53, 53, 83, 58, 41, 43, 77, 49, 46, 41, 59, 62, 43, 67, 42, 58, 39, 60, 48, 73, 46, 52, 26, 50, 32, 27, 41, 58, 45, 50, 79, 35, 36, 42, 50, 31, 73, 68, 60, 59, 44, 66, 32, 32, 44, 41, 60, 68, 57, 46, 47, 68, 52, 62, 44, 63, 53, 39, 70, 58, 59, 51, 69, 66, 35, 42, 43, 48, 63, 66, 76, 51, 57, 52, 55, 59, 58, 64, 60, 65, 47, 56, 69, 70, 60, 33, 53, 54, 47, 55, 41, 53, 63, 60, 64, 52, 44, 71, 56, 46, 65, 50, 45, 59, 47, 41, 44, 61, 75, 30, 43, 50, 60, 76, 50, 58, 62, 42, 78, 86, 74, 38, 53, 55, 54, 59, 65, 51, 53, 62, 54, 59, 60, 62, 52, 50, 43, 53, 56, 49, 31, 51, 42, 64, 41, 47, 56, 57, 56, 58, 40, 63, 61, 61, 51, 39, 62, 66, 43, 56, 44, 48, 72, 26, 36, 37, 46, 46, 62, 32, 42, 54, 35, 38, 69, 54, 54, 68, 47, 49, 65, 43, 51, 53, 48, 66, 48, 58, 58, 66, 55, 30, 48, 64, 44, 47, 45, 41, 36, 52, 29, 53, 58, 48, 57, 67, 39, 52, 51, 56, 65, 45, 37, 65, 53, 63, 37, 48, 50, 50, 41, 64, 47, 46, 64, 37, 64, 28, 43, 63, 49, 47], \"xaxis\": \"x\", \"yaxis\": \"y\"}],                        {\"barmode\": \"relative\", \"font\": {\"color\": \"#351f39\", \"family\": \"Courier New\"}, \"legend\": {\"tracegroupgap\": 0}, \"margin\": {\"t\": 60}, \"template\": {\"data\": {\"bar\": [{\"error_x\": {\"color\": \"#2a3f5f\"}, \"error_y\": {\"color\": \"#2a3f5f\"}, \"marker\": {\"line\": {\"color\": \"#E5ECF6\", \"width\": 0.5}}, \"type\": \"bar\"}], \"barpolar\": [{\"marker\": {\"line\": {\"color\": \"#E5ECF6\", \"width\": 0.5}}, \"type\": \"barpolar\"}], \"carpet\": [{\"aaxis\": {\"endlinecolor\": \"#2a3f5f\", \"gridcolor\": \"white\", \"linecolor\": \"white\", \"minorgridcolor\": \"white\", \"startlinecolor\": \"#2a3f5f\"}, \"baxis\": {\"endlinecolor\": \"#2a3f5f\", \"gridcolor\": \"white\", \"linecolor\": \"white\", \"minorgridcolor\": \"white\", \"startlinecolor\": \"#2a3f5f\"}, \"type\": \"carpet\"}], \"choropleth\": [{\"colorbar\": {\"outlinewidth\": 0, \"ticks\": \"\"}, \"type\": \"choropleth\"}], \"contour\": [{\"colorbar\": {\"outlinewidth\": 0, \"ticks\": \"\"}, \"colorscale\": [[0.0, \"#0d0887\"], [0.1111111111111111, \"#46039f\"], [0.2222222222222222, \"#7201a8\"], [0.3333333333333333, \"#9c179e\"], [0.4444444444444444, \"#bd3786\"], [0.5555555555555556, \"#d8576b\"], [0.6666666666666666, \"#ed7953\"], [0.7777777777777778, \"#fb9f3a\"], [0.8888888888888888, \"#fdca26\"], [1.0, \"#f0f921\"]], \"type\": \"contour\"}], \"contourcarpet\": [{\"colorbar\": {\"outlinewidth\": 0, \"ticks\": \"\"}, \"type\": \"contourcarpet\"}], \"heatmap\": [{\"colorbar\": {\"outlinewidth\": 0, \"ticks\": \"\"}, \"colorscale\": [[0.0, \"#0d0887\"], [0.1111111111111111, \"#46039f\"], [0.2222222222222222, \"#7201a8\"], [0.3333333333333333, \"#9c179e\"], [0.4444444444444444, \"#bd3786\"], [0.5555555555555556, \"#d8576b\"], [0.6666666666666666, \"#ed7953\"], [0.7777777777777778, \"#fb9f3a\"], [0.8888888888888888, \"#fdca26\"], [1.0, \"#f0f921\"]], \"type\": \"heatmap\"}], \"heatmapgl\": [{\"colorbar\": {\"outlinewidth\": 0, \"ticks\": \"\"}, \"colorscale\": [[0.0, \"#0d0887\"], [0.1111111111111111, \"#46039f\"], [0.2222222222222222, \"#7201a8\"], [0.3333333333333333, \"#9c179e\"], [0.4444444444444444, \"#bd3786\"], [0.5555555555555556, \"#d8576b\"], [0.6666666666666666, \"#ed7953\"], [0.7777777777777778, \"#fb9f3a\"], [0.8888888888888888, \"#fdca26\"], [1.0, \"#f0f921\"]], \"type\": \"heatmapgl\"}], \"histogram\": [{\"marker\": {\"colorbar\": {\"outlinewidth\": 0, \"ticks\": \"\"}}, \"type\": \"histogram\"}], \"histogram2d\": [{\"colorbar\": {\"outlinewidth\": 0, \"ticks\": \"\"}, \"colorscale\": [[0.0, \"#0d0887\"], [0.1111111111111111, \"#46039f\"], [0.2222222222222222, \"#7201a8\"], [0.3333333333333333, \"#9c179e\"], [0.4444444444444444, \"#bd3786\"], [0.5555555555555556, \"#d8576b\"], [0.6666666666666666, \"#ed7953\"], [0.7777777777777778, \"#fb9f3a\"], [0.8888888888888888, \"#fdca26\"], [1.0, \"#f0f921\"]], \"type\": \"histogram2d\"}], \"histogram2dcontour\": [{\"colorbar\": {\"outlinewidth\": 0, \"ticks\": \"\"}, \"colorscale\": [[0.0, \"#0d0887\"], [0.1111111111111111, \"#46039f\"], [0.2222222222222222, \"#7201a8\"], [0.3333333333333333, \"#9c179e\"], [0.4444444444444444, \"#bd3786\"], [0.5555555555555556, \"#d8576b\"], [0.6666666666666666, \"#ed7953\"], [0.7777777777777778, \"#fb9f3a\"], [0.8888888888888888, \"#fdca26\"], [1.0, \"#f0f921\"]], \"type\": \"histogram2dcontour\"}], \"mesh3d\": [{\"colorbar\": {\"outlinewidth\": 0, \"ticks\": \"\"}, \"type\": \"mesh3d\"}], \"parcoords\": [{\"line\": {\"colorbar\": {\"outlinewidth\": 0, \"ticks\": \"\"}}, \"type\": \"parcoords\"}], \"pie\": [{\"automargin\": true, \"type\": \"pie\"}], \"scatter\": [{\"marker\": {\"colorbar\": {\"outlinewidth\": 0, \"ticks\": \"\"}}, \"type\": \"scatter\"}], \"scatter3d\": [{\"line\": {\"colorbar\": {\"outlinewidth\": 0, \"ticks\": \"\"}}, \"marker\": {\"colorbar\": {\"outlinewidth\": 0, \"ticks\": \"\"}}, \"type\": \"scatter3d\"}], \"scattercarpet\": [{\"marker\": {\"colorbar\": {\"outlinewidth\": 0, \"ticks\": \"\"}}, \"type\": \"scattercarpet\"}], \"scattergeo\": [{\"marker\": {\"colorbar\": {\"outlinewidth\": 0, \"ticks\": \"\"}}, \"type\": \"scattergeo\"}], \"scattergl\": [{\"marker\": {\"colorbar\": {\"outlinewidth\": 0, \"ticks\": \"\"}}, \"type\": \"scattergl\"}], \"scattermapbox\": [{\"marker\": {\"colorbar\": {\"outlinewidth\": 0, \"ticks\": \"\"}}, \"type\": \"scattermapbox\"}], \"scatterpolar\": [{\"marker\": {\"colorbar\": {\"outlinewidth\": 0, \"ticks\": \"\"}}, \"type\": \"scatterpolar\"}], \"scatterpolargl\": [{\"marker\": {\"colorbar\": {\"outlinewidth\": 0, \"ticks\": \"\"}}, \"type\": \"scatterpolargl\"}], \"scatterternary\": [{\"marker\": {\"colorbar\": {\"outlinewidth\": 0, \"ticks\": \"\"}}, \"type\": \"scatterternary\"}], \"surface\": [{\"colorbar\": {\"outlinewidth\": 0, \"ticks\": \"\"}, \"colorscale\": [[0.0, \"#0d0887\"], [0.1111111111111111, \"#46039f\"], [0.2222222222222222, \"#7201a8\"], [0.3333333333333333, \"#9c179e\"], [0.4444444444444444, \"#bd3786\"], [0.5555555555555556, \"#d8576b\"], [0.6666666666666666, \"#ed7953\"], [0.7777777777777778, \"#fb9f3a\"], [0.8888888888888888, \"#fdca26\"], [1.0, \"#f0f921\"]], \"type\": \"surface\"}], \"table\": [{\"cells\": {\"fill\": {\"color\": \"#EBF0F8\"}, \"line\": {\"color\": \"white\"}}, \"header\": {\"fill\": {\"color\": \"#C8D4E3\"}, \"line\": {\"color\": \"white\"}}, \"type\": \"table\"}]}, \"layout\": {\"annotationdefaults\": {\"arrowcolor\": \"#2a3f5f\", \"arrowhead\": 0, \"arrowwidth\": 1}, \"coloraxis\": {\"colorbar\": {\"outlinewidth\": 0, \"ticks\": \"\"}}, \"colorscale\": {\"diverging\": [[0, \"#8e0152\"], [0.1, \"#c51b7d\"], [0.2, \"#de77ae\"], [0.3, \"#f1b6da\"], [0.4, \"#fde0ef\"], [0.5, \"#f7f7f7\"], [0.6, \"#e6f5d0\"], [0.7, \"#b8e186\"], [0.8, \"#7fbc41\"], [0.9, \"#4d9221\"], [1, \"#276419\"]], \"sequential\": [[0.0, \"#0d0887\"], [0.1111111111111111, \"#46039f\"], [0.2222222222222222, \"#7201a8\"], [0.3333333333333333, \"#9c179e\"], [0.4444444444444444, \"#bd3786\"], [0.5555555555555556, \"#d8576b\"], [0.6666666666666666, \"#ed7953\"], [0.7777777777777778, \"#fb9f3a\"], [0.8888888888888888, \"#fdca26\"], [1.0, \"#f0f921\"]], \"sequentialminus\": [[0.0, \"#0d0887\"], [0.1111111111111111, \"#46039f\"], [0.2222222222222222, \"#7201a8\"], [0.3333333333333333, \"#9c179e\"], [0.4444444444444444, \"#bd3786\"], [0.5555555555555556, \"#d8576b\"], [0.6666666666666666, \"#ed7953\"], [0.7777777777777778, \"#fb9f3a\"], [0.8888888888888888, \"#fdca26\"], [1.0, \"#f0f921\"]]}, \"colorway\": [\"#636efa\", \"#EF553B\", \"#00cc96\", \"#ab63fa\", \"#FFA15A\", \"#19d3f3\", \"#FF6692\", \"#B6E880\", \"#FF97FF\", \"#FECB52\"], \"font\": {\"color\": \"#2a3f5f\"}, \"geo\": {\"bgcolor\": \"white\", \"lakecolor\": \"white\", \"landcolor\": \"#E5ECF6\", \"showlakes\": true, \"showland\": true, \"subunitcolor\": \"white\"}, \"hoverlabel\": {\"align\": \"left\"}, \"hovermode\": \"closest\", \"mapbox\": {\"style\": \"light\"}, \"paper_bgcolor\": \"white\", \"plot_bgcolor\": \"#E5ECF6\", \"polar\": {\"angularaxis\": {\"gridcolor\": \"white\", \"linecolor\": \"white\", \"ticks\": \"\"}, \"bgcolor\": \"#E5ECF6\", \"radialaxis\": {\"gridcolor\": \"white\", \"linecolor\": \"white\", \"ticks\": \"\"}}, \"scene\": {\"xaxis\": {\"backgroundcolor\": \"#E5ECF6\", \"gridcolor\": \"white\", \"gridwidth\": 2, \"linecolor\": \"white\", \"showbackground\": true, \"ticks\": \"\", \"zerolinecolor\": \"white\"}, \"yaxis\": {\"backgroundcolor\": \"#E5ECF6\", \"gridcolor\": \"white\", \"gridwidth\": 2, \"linecolor\": \"white\", \"showbackground\": true, \"ticks\": \"\", \"zerolinecolor\": \"white\"}, \"zaxis\": {\"backgroundcolor\": \"#E5ECF6\", \"gridcolor\": \"white\", \"gridwidth\": 2, \"linecolor\": \"white\", \"showbackground\": true, \"ticks\": \"\", \"zerolinecolor\": \"white\"}}, \"shapedefaults\": {\"line\": {\"color\": \"#2a3f5f\"}}, \"ternary\": {\"aaxis\": {\"gridcolor\": \"white\", \"linecolor\": \"white\", \"ticks\": \"\"}, \"baxis\": {\"gridcolor\": \"white\", \"linecolor\": \"white\", \"ticks\": \"\"}, \"bgcolor\": \"#E5ECF6\", \"caxis\": {\"gridcolor\": \"white\", \"linecolor\": \"white\", \"ticks\": \"\"}}, \"title\": {\"x\": 0.05}, \"xaxis\": {\"automargin\": true, \"gridcolor\": \"white\", \"linecolor\": \"white\", \"ticks\": \"\", \"title\": {\"standoff\": 15}, \"zerolinecolor\": \"white\", \"zerolinewidth\": 2}, \"yaxis\": {\"automargin\": true, \"gridcolor\": \"white\", \"linecolor\": \"white\", \"ticks\": \"\", \"title\": {\"standoff\": 15}, \"zerolinecolor\": \"white\", \"zerolinewidth\": 2}}}, \"title\": {\"font\": {\"color\": \"#351f39\", \"family\": \"Courier New\"}, \"text\": \"Age Distribution of Candidates\"}, \"xaxis\": {\"anchor\": \"y\", \"domain\": [0.0, 1.0], \"title\": {\"text\": \"Distribution\"}}, \"yaxis\": {\"anchor\": \"x\", \"domain\": [0.0, 1.0], \"title\": {\"text\": \"Age\"}}},                        {\"responsive\": true}                    ).then(function(){\n",
       "                            \n",
       "var gd = document.getElementById('196d06ac-5d16-4743-8b89-8145aef72436');\n",
       "var x = new MutationObserver(function (mutations, observer) {{\n",
       "        var display = window.getComputedStyle(gd).display;\n",
       "        if (!display || display === 'none') {{\n",
       "            console.log([gd, 'removed!']);\n",
       "            Plotly.purge(gd);\n",
       "            observer.disconnect();\n",
       "        }}\n",
       "}});\n",
       "\n",
       "// Listen for the removal of the full notebook cells\n",
       "var notebookContainer = gd.closest('#notebook-container');\n",
       "if (notebookContainer) {{\n",
       "    x.observe(notebookContainer, {childList: true});\n",
       "}}\n",
       "\n",
       "// Listen for the clearing of the current output cell\n",
       "var outputEl = gd.closest('.output');\n",
       "if (outputEl) {{\n",
       "    x.observe(outputEl, {childList: true});\n",
       "}}\n",
       "\n",
       "                        })                };                });            </script>        </div>"
      ]
     },
     "metadata": {},
     "output_type": "display_data"
    }
   ],
   "source": [
    "# Visualize the age distribution of candidates\n",
    "age_distribution_fig = px.histogram(df_NOTA, \n",
    "                                    x=\"AGE\",\n",
    "                                    color_discrete_sequence=['indianred'])\n",
    "age_distribution_fig.update_layout(title_text='Age Distribution of Candidates',\n",
    "                                   xaxis_title=\"Distribution\",\n",
    "                                   yaxis_title=\"Age\")\n",
    "age_distribution_fig.update_layout(font_family=\"Courier New\",\n",
    "                                   font_color=\"#351f39\",\n",
    "                                   title_font_family=\"Courier New\",\n",
    "                                   title_font_color=\"#351f39\")\n",
    "age_distribution_fig.show()"
   ]
  },
  {
   "cell_type": "markdown",
   "metadata": {},
   "source": [
    "### 5.4 Caste distribution of candidates"
   ]
  },
  {
   "cell_type": "code",
   "execution_count": 196,
   "metadata": {},
   "outputs": [
    {
     "data": {
      "application/vnd.plotly.v1+json": {
       "config": {
        "plotlyServerURL": "https://plot.ly"
       },
       "data": [
        {
         "alignmentgroup": "True",
         "hovertemplate": "Category=Winner<br>CATEGORY=%{x}<br>WINNER=%{y}<extra></extra>",
         "legendgroup": "Winner",
         "marker": {
          "color": "#636efa"
         },
         "name": "Winner",
         "offsetgroup": "Winner",
         "orientation": "v",
         "showlegend": true,
         "textposition": "auto",
         "type": "bar",
         "x": [
          "GENERAL",
          "SC",
          "ST"
         ],
         "xaxis": "x",
         "y": [
          399,
          85,
          55
         ],
         "yaxis": "y"
        },
        {
         "alignmentgroup": "True",
         "hovertemplate": "Category=Total<br>CATEGORY=%{x}<br>WINNER=%{y}<extra></extra>",
         "legendgroup": "Total",
         "marker": {
          "color": "#EF553B"
         },
         "name": "Total",
         "offsetgroup": "Total",
         "orientation": "v",
         "showlegend": true,
         "textposition": "auto",
         "type": "bar",
         "x": [
          "GENERAL",
          "SC",
          "ST"
         ],
         "xaxis": "x",
         "y": [
          1392,
          383,
          243
         ],
         "yaxis": "y"
        }
       ],
       "layout": {
        "barmode": "group",
        "font": {
         "color": "#351f39",
         "family": "Courier New"
        },
        "legend": {
         "title": {
          "text": "Category"
         },
         "tracegroupgap": 0
        },
        "margin": {
         "t": 60
        },
        "template": {
         "data": {
          "bar": [
           {
            "error_x": {
             "color": "#2a3f5f"
            },
            "error_y": {
             "color": "#2a3f5f"
            },
            "marker": {
             "line": {
              "color": "#E5ECF6",
              "width": 0.5
             }
            },
            "type": "bar"
           }
          ],
          "barpolar": [
           {
            "marker": {
             "line": {
              "color": "#E5ECF6",
              "width": 0.5
             }
            },
            "type": "barpolar"
           }
          ],
          "carpet": [
           {
            "aaxis": {
             "endlinecolor": "#2a3f5f",
             "gridcolor": "white",
             "linecolor": "white",
             "minorgridcolor": "white",
             "startlinecolor": "#2a3f5f"
            },
            "baxis": {
             "endlinecolor": "#2a3f5f",
             "gridcolor": "white",
             "linecolor": "white",
             "minorgridcolor": "white",
             "startlinecolor": "#2a3f5f"
            },
            "type": "carpet"
           }
          ],
          "choropleth": [
           {
            "colorbar": {
             "outlinewidth": 0,
             "ticks": ""
            },
            "type": "choropleth"
           }
          ],
          "contour": [
           {
            "colorbar": {
             "outlinewidth": 0,
             "ticks": ""
            },
            "colorscale": [
             [
              0,
              "#0d0887"
             ],
             [
              0.1111111111111111,
              "#46039f"
             ],
             [
              0.2222222222222222,
              "#7201a8"
             ],
             [
              0.3333333333333333,
              "#9c179e"
             ],
             [
              0.4444444444444444,
              "#bd3786"
             ],
             [
              0.5555555555555556,
              "#d8576b"
             ],
             [
              0.6666666666666666,
              "#ed7953"
             ],
             [
              0.7777777777777778,
              "#fb9f3a"
             ],
             [
              0.8888888888888888,
              "#fdca26"
             ],
             [
              1,
              "#f0f921"
             ]
            ],
            "type": "contour"
           }
          ],
          "contourcarpet": [
           {
            "colorbar": {
             "outlinewidth": 0,
             "ticks": ""
            },
            "type": "contourcarpet"
           }
          ],
          "heatmap": [
           {
            "colorbar": {
             "outlinewidth": 0,
             "ticks": ""
            },
            "colorscale": [
             [
              0,
              "#0d0887"
             ],
             [
              0.1111111111111111,
              "#46039f"
             ],
             [
              0.2222222222222222,
              "#7201a8"
             ],
             [
              0.3333333333333333,
              "#9c179e"
             ],
             [
              0.4444444444444444,
              "#bd3786"
             ],
             [
              0.5555555555555556,
              "#d8576b"
             ],
             [
              0.6666666666666666,
              "#ed7953"
             ],
             [
              0.7777777777777778,
              "#fb9f3a"
             ],
             [
              0.8888888888888888,
              "#fdca26"
             ],
             [
              1,
              "#f0f921"
             ]
            ],
            "type": "heatmap"
           }
          ],
          "heatmapgl": [
           {
            "colorbar": {
             "outlinewidth": 0,
             "ticks": ""
            },
            "colorscale": [
             [
              0,
              "#0d0887"
             ],
             [
              0.1111111111111111,
              "#46039f"
             ],
             [
              0.2222222222222222,
              "#7201a8"
             ],
             [
              0.3333333333333333,
              "#9c179e"
             ],
             [
              0.4444444444444444,
              "#bd3786"
             ],
             [
              0.5555555555555556,
              "#d8576b"
             ],
             [
              0.6666666666666666,
              "#ed7953"
             ],
             [
              0.7777777777777778,
              "#fb9f3a"
             ],
             [
              0.8888888888888888,
              "#fdca26"
             ],
             [
              1,
              "#f0f921"
             ]
            ],
            "type": "heatmapgl"
           }
          ],
          "histogram": [
           {
            "marker": {
             "colorbar": {
              "outlinewidth": 0,
              "ticks": ""
             }
            },
            "type": "histogram"
           }
          ],
          "histogram2d": [
           {
            "colorbar": {
             "outlinewidth": 0,
             "ticks": ""
            },
            "colorscale": [
             [
              0,
              "#0d0887"
             ],
             [
              0.1111111111111111,
              "#46039f"
             ],
             [
              0.2222222222222222,
              "#7201a8"
             ],
             [
              0.3333333333333333,
              "#9c179e"
             ],
             [
              0.4444444444444444,
              "#bd3786"
             ],
             [
              0.5555555555555556,
              "#d8576b"
             ],
             [
              0.6666666666666666,
              "#ed7953"
             ],
             [
              0.7777777777777778,
              "#fb9f3a"
             ],
             [
              0.8888888888888888,
              "#fdca26"
             ],
             [
              1,
              "#f0f921"
             ]
            ],
            "type": "histogram2d"
           }
          ],
          "histogram2dcontour": [
           {
            "colorbar": {
             "outlinewidth": 0,
             "ticks": ""
            },
            "colorscale": [
             [
              0,
              "#0d0887"
             ],
             [
              0.1111111111111111,
              "#46039f"
             ],
             [
              0.2222222222222222,
              "#7201a8"
             ],
             [
              0.3333333333333333,
              "#9c179e"
             ],
             [
              0.4444444444444444,
              "#bd3786"
             ],
             [
              0.5555555555555556,
              "#d8576b"
             ],
             [
              0.6666666666666666,
              "#ed7953"
             ],
             [
              0.7777777777777778,
              "#fb9f3a"
             ],
             [
              0.8888888888888888,
              "#fdca26"
             ],
             [
              1,
              "#f0f921"
             ]
            ],
            "type": "histogram2dcontour"
           }
          ],
          "mesh3d": [
           {
            "colorbar": {
             "outlinewidth": 0,
             "ticks": ""
            },
            "type": "mesh3d"
           }
          ],
          "parcoords": [
           {
            "line": {
             "colorbar": {
              "outlinewidth": 0,
              "ticks": ""
             }
            },
            "type": "parcoords"
           }
          ],
          "pie": [
           {
            "automargin": true,
            "type": "pie"
           }
          ],
          "scatter": [
           {
            "marker": {
             "colorbar": {
              "outlinewidth": 0,
              "ticks": ""
             }
            },
            "type": "scatter"
           }
          ],
          "scatter3d": [
           {
            "line": {
             "colorbar": {
              "outlinewidth": 0,
              "ticks": ""
             }
            },
            "marker": {
             "colorbar": {
              "outlinewidth": 0,
              "ticks": ""
             }
            },
            "type": "scatter3d"
           }
          ],
          "scattercarpet": [
           {
            "marker": {
             "colorbar": {
              "outlinewidth": 0,
              "ticks": ""
             }
            },
            "type": "scattercarpet"
           }
          ],
          "scattergeo": [
           {
            "marker": {
             "colorbar": {
              "outlinewidth": 0,
              "ticks": ""
             }
            },
            "type": "scattergeo"
           }
          ],
          "scattergl": [
           {
            "marker": {
             "colorbar": {
              "outlinewidth": 0,
              "ticks": ""
             }
            },
            "type": "scattergl"
           }
          ],
          "scattermapbox": [
           {
            "marker": {
             "colorbar": {
              "outlinewidth": 0,
              "ticks": ""
             }
            },
            "type": "scattermapbox"
           }
          ],
          "scatterpolar": [
           {
            "marker": {
             "colorbar": {
              "outlinewidth": 0,
              "ticks": ""
             }
            },
            "type": "scatterpolar"
           }
          ],
          "scatterpolargl": [
           {
            "marker": {
             "colorbar": {
              "outlinewidth": 0,
              "ticks": ""
             }
            },
            "type": "scatterpolargl"
           }
          ],
          "scatterternary": [
           {
            "marker": {
             "colorbar": {
              "outlinewidth": 0,
              "ticks": ""
             }
            },
            "type": "scatterternary"
           }
          ],
          "surface": [
           {
            "colorbar": {
             "outlinewidth": 0,
             "ticks": ""
            },
            "colorscale": [
             [
              0,
              "#0d0887"
             ],
             [
              0.1111111111111111,
              "#46039f"
             ],
             [
              0.2222222222222222,
              "#7201a8"
             ],
             [
              0.3333333333333333,
              "#9c179e"
             ],
             [
              0.4444444444444444,
              "#bd3786"
             ],
             [
              0.5555555555555556,
              "#d8576b"
             ],
             [
              0.6666666666666666,
              "#ed7953"
             ],
             [
              0.7777777777777778,
              "#fb9f3a"
             ],
             [
              0.8888888888888888,
              "#fdca26"
             ],
             [
              1,
              "#f0f921"
             ]
            ],
            "type": "surface"
           }
          ],
          "table": [
           {
            "cells": {
             "fill": {
              "color": "#EBF0F8"
             },
             "line": {
              "color": "white"
             }
            },
            "header": {
             "fill": {
              "color": "#C8D4E3"
             },
             "line": {
              "color": "white"
             }
            },
            "type": "table"
           }
          ]
         },
         "layout": {
          "annotationdefaults": {
           "arrowcolor": "#2a3f5f",
           "arrowhead": 0,
           "arrowwidth": 1
          },
          "coloraxis": {
           "colorbar": {
            "outlinewidth": 0,
            "ticks": ""
           }
          },
          "colorscale": {
           "diverging": [
            [
             0,
             "#8e0152"
            ],
            [
             0.1,
             "#c51b7d"
            ],
            [
             0.2,
             "#de77ae"
            ],
            [
             0.3,
             "#f1b6da"
            ],
            [
             0.4,
             "#fde0ef"
            ],
            [
             0.5,
             "#f7f7f7"
            ],
            [
             0.6,
             "#e6f5d0"
            ],
            [
             0.7,
             "#b8e186"
            ],
            [
             0.8,
             "#7fbc41"
            ],
            [
             0.9,
             "#4d9221"
            ],
            [
             1,
             "#276419"
            ]
           ],
           "sequential": [
            [
             0,
             "#0d0887"
            ],
            [
             0.1111111111111111,
             "#46039f"
            ],
            [
             0.2222222222222222,
             "#7201a8"
            ],
            [
             0.3333333333333333,
             "#9c179e"
            ],
            [
             0.4444444444444444,
             "#bd3786"
            ],
            [
             0.5555555555555556,
             "#d8576b"
            ],
            [
             0.6666666666666666,
             "#ed7953"
            ],
            [
             0.7777777777777778,
             "#fb9f3a"
            ],
            [
             0.8888888888888888,
             "#fdca26"
            ],
            [
             1,
             "#f0f921"
            ]
           ],
           "sequentialminus": [
            [
             0,
             "#0d0887"
            ],
            [
             0.1111111111111111,
             "#46039f"
            ],
            [
             0.2222222222222222,
             "#7201a8"
            ],
            [
             0.3333333333333333,
             "#9c179e"
            ],
            [
             0.4444444444444444,
             "#bd3786"
            ],
            [
             0.5555555555555556,
             "#d8576b"
            ],
            [
             0.6666666666666666,
             "#ed7953"
            ],
            [
             0.7777777777777778,
             "#fb9f3a"
            ],
            [
             0.8888888888888888,
             "#fdca26"
            ],
            [
             1,
             "#f0f921"
            ]
           ]
          },
          "colorway": [
           "#636efa",
           "#EF553B",
           "#00cc96",
           "#ab63fa",
           "#FFA15A",
           "#19d3f3",
           "#FF6692",
           "#B6E880",
           "#FF97FF",
           "#FECB52"
          ],
          "font": {
           "color": "#2a3f5f"
          },
          "geo": {
           "bgcolor": "white",
           "lakecolor": "white",
           "landcolor": "#E5ECF6",
           "showlakes": true,
           "showland": true,
           "subunitcolor": "white"
          },
          "hoverlabel": {
           "align": "left"
          },
          "hovermode": "closest",
          "mapbox": {
           "style": "light"
          },
          "paper_bgcolor": "white",
          "plot_bgcolor": "#E5ECF6",
          "polar": {
           "angularaxis": {
            "gridcolor": "white",
            "linecolor": "white",
            "ticks": ""
           },
           "bgcolor": "#E5ECF6",
           "radialaxis": {
            "gridcolor": "white",
            "linecolor": "white",
            "ticks": ""
           }
          },
          "scene": {
           "xaxis": {
            "backgroundcolor": "#E5ECF6",
            "gridcolor": "white",
            "gridwidth": 2,
            "linecolor": "white",
            "showbackground": true,
            "ticks": "",
            "zerolinecolor": "white"
           },
           "yaxis": {
            "backgroundcolor": "#E5ECF6",
            "gridcolor": "white",
            "gridwidth": 2,
            "linecolor": "white",
            "showbackground": true,
            "ticks": "",
            "zerolinecolor": "white"
           },
           "zaxis": {
            "backgroundcolor": "#E5ECF6",
            "gridcolor": "white",
            "gridwidth": 2,
            "linecolor": "white",
            "showbackground": true,
            "ticks": "",
            "zerolinecolor": "white"
           }
          },
          "shapedefaults": {
           "line": {
            "color": "#2a3f5f"
           }
          },
          "ternary": {
           "aaxis": {
            "gridcolor": "white",
            "linecolor": "white",
            "ticks": ""
           },
           "baxis": {
            "gridcolor": "white",
            "linecolor": "white",
            "ticks": ""
           },
           "bgcolor": "#E5ECF6",
           "caxis": {
            "gridcolor": "white",
            "linecolor": "white",
            "ticks": ""
           }
          },
          "title": {
           "x": 0.05
          },
          "xaxis": {
           "automargin": true,
           "gridcolor": "white",
           "linecolor": "white",
           "ticks": "",
           "title": {
            "standoff": 15
           },
           "zerolinecolor": "white",
           "zerolinewidth": 2
          },
          "yaxis": {
           "automargin": true,
           "gridcolor": "white",
           "linecolor": "white",
           "ticks": "",
           "title": {
            "standoff": 15
           },
           "zerolinecolor": "white",
           "zerolinewidth": 2
          }
         }
        },
        "title": {
         "font": {
          "color": "#351f39",
          "family": "Courier New"
         },
         "text": "Caste distribution of candidates"
        },
        "xaxis": {
         "anchor": "y",
         "domain": [
          0,
          1
         ],
         "title": {
          "text": "Caste"
         }
        },
        "yaxis": {
         "anchor": "x",
         "domain": [
          0,
          1
         ],
         "title": {
          "text": "Count"
         }
        }
       }
      },
      "text/html": [
       "<div>                            <div id=\"3c67935b-4f3a-4776-9751-51f468f7066a\" class=\"plotly-graph-div\" style=\"height:525px; width:100%;\"></div>            <script type=\"text/javascript\">                require([\"plotly\"], function(Plotly) {                    window.PLOTLYENV=window.PLOTLYENV || {};                                    if (document.getElementById(\"3c67935b-4f3a-4776-9751-51f468f7066a\")) {                    Plotly.newPlot(                        \"3c67935b-4f3a-4776-9751-51f468f7066a\",                        [{\"alignmentgroup\": \"True\", \"hovertemplate\": \"Category=Winner<br>CATEGORY=%{x}<br>WINNER=%{y}<extra></extra>\", \"legendgroup\": \"Winner\", \"marker\": {\"color\": \"#636efa\"}, \"name\": \"Winner\", \"offsetgroup\": \"Winner\", \"orientation\": \"v\", \"showlegend\": true, \"textposition\": \"auto\", \"type\": \"bar\", \"x\": [\"GENERAL\", \"SC\", \"ST\"], \"xaxis\": \"x\", \"y\": [399, 85, 55], \"yaxis\": \"y\"}, {\"alignmentgroup\": \"True\", \"hovertemplate\": \"Category=Total<br>CATEGORY=%{x}<br>WINNER=%{y}<extra></extra>\", \"legendgroup\": \"Total\", \"marker\": {\"color\": \"#EF553B\"}, \"name\": \"Total\", \"offsetgroup\": \"Total\", \"orientation\": \"v\", \"showlegend\": true, \"textposition\": \"auto\", \"type\": \"bar\", \"x\": [\"GENERAL\", \"SC\", \"ST\"], \"xaxis\": \"x\", \"y\": [1392, 383, 243], \"yaxis\": \"y\"}],                        {\"barmode\": \"group\", \"font\": {\"color\": \"#351f39\", \"family\": \"Courier New\"}, \"legend\": {\"title\": {\"text\": \"Category\"}, \"tracegroupgap\": 0}, \"margin\": {\"t\": 60}, \"template\": {\"data\": {\"bar\": [{\"error_x\": {\"color\": \"#2a3f5f\"}, \"error_y\": {\"color\": \"#2a3f5f\"}, \"marker\": {\"line\": {\"color\": \"#E5ECF6\", \"width\": 0.5}}, \"type\": \"bar\"}], \"barpolar\": [{\"marker\": {\"line\": {\"color\": \"#E5ECF6\", \"width\": 0.5}}, \"type\": \"barpolar\"}], \"carpet\": [{\"aaxis\": {\"endlinecolor\": \"#2a3f5f\", \"gridcolor\": \"white\", \"linecolor\": \"white\", \"minorgridcolor\": \"white\", \"startlinecolor\": \"#2a3f5f\"}, \"baxis\": {\"endlinecolor\": \"#2a3f5f\", \"gridcolor\": \"white\", \"linecolor\": \"white\", \"minorgridcolor\": \"white\", \"startlinecolor\": \"#2a3f5f\"}, \"type\": \"carpet\"}], \"choropleth\": [{\"colorbar\": {\"outlinewidth\": 0, \"ticks\": \"\"}, \"type\": \"choropleth\"}], \"contour\": [{\"colorbar\": {\"outlinewidth\": 0, \"ticks\": \"\"}, \"colorscale\": [[0.0, \"#0d0887\"], [0.1111111111111111, \"#46039f\"], [0.2222222222222222, \"#7201a8\"], [0.3333333333333333, \"#9c179e\"], [0.4444444444444444, \"#bd3786\"], [0.5555555555555556, \"#d8576b\"], [0.6666666666666666, \"#ed7953\"], [0.7777777777777778, \"#fb9f3a\"], [0.8888888888888888, \"#fdca26\"], [1.0, \"#f0f921\"]], \"type\": \"contour\"}], \"contourcarpet\": [{\"colorbar\": {\"outlinewidth\": 0, \"ticks\": \"\"}, \"type\": \"contourcarpet\"}], \"heatmap\": [{\"colorbar\": {\"outlinewidth\": 0, \"ticks\": \"\"}, \"colorscale\": [[0.0, \"#0d0887\"], [0.1111111111111111, \"#46039f\"], [0.2222222222222222, \"#7201a8\"], [0.3333333333333333, \"#9c179e\"], [0.4444444444444444, \"#bd3786\"], [0.5555555555555556, \"#d8576b\"], [0.6666666666666666, \"#ed7953\"], [0.7777777777777778, \"#fb9f3a\"], [0.8888888888888888, \"#fdca26\"], [1.0, \"#f0f921\"]], \"type\": \"heatmap\"}], \"heatmapgl\": [{\"colorbar\": {\"outlinewidth\": 0, \"ticks\": \"\"}, \"colorscale\": [[0.0, \"#0d0887\"], [0.1111111111111111, \"#46039f\"], [0.2222222222222222, \"#7201a8\"], [0.3333333333333333, \"#9c179e\"], [0.4444444444444444, \"#bd3786\"], [0.5555555555555556, \"#d8576b\"], [0.6666666666666666, \"#ed7953\"], [0.7777777777777778, \"#fb9f3a\"], [0.8888888888888888, \"#fdca26\"], [1.0, \"#f0f921\"]], \"type\": \"heatmapgl\"}], \"histogram\": [{\"marker\": {\"colorbar\": {\"outlinewidth\": 0, \"ticks\": \"\"}}, \"type\": \"histogram\"}], \"histogram2d\": [{\"colorbar\": {\"outlinewidth\": 0, \"ticks\": \"\"}, \"colorscale\": [[0.0, \"#0d0887\"], [0.1111111111111111, \"#46039f\"], [0.2222222222222222, \"#7201a8\"], [0.3333333333333333, \"#9c179e\"], [0.4444444444444444, \"#bd3786\"], [0.5555555555555556, \"#d8576b\"], [0.6666666666666666, \"#ed7953\"], [0.7777777777777778, \"#fb9f3a\"], [0.8888888888888888, \"#fdca26\"], [1.0, \"#f0f921\"]], \"type\": \"histogram2d\"}], \"histogram2dcontour\": [{\"colorbar\": {\"outlinewidth\": 0, \"ticks\": \"\"}, \"colorscale\": [[0.0, \"#0d0887\"], [0.1111111111111111, \"#46039f\"], [0.2222222222222222, \"#7201a8\"], [0.3333333333333333, \"#9c179e\"], [0.4444444444444444, \"#bd3786\"], [0.5555555555555556, \"#d8576b\"], [0.6666666666666666, \"#ed7953\"], [0.7777777777777778, \"#fb9f3a\"], [0.8888888888888888, \"#fdca26\"], [1.0, \"#f0f921\"]], \"type\": \"histogram2dcontour\"}], \"mesh3d\": [{\"colorbar\": {\"outlinewidth\": 0, \"ticks\": \"\"}, \"type\": \"mesh3d\"}], \"parcoords\": [{\"line\": {\"colorbar\": {\"outlinewidth\": 0, \"ticks\": \"\"}}, \"type\": \"parcoords\"}], \"pie\": [{\"automargin\": true, \"type\": \"pie\"}], \"scatter\": [{\"marker\": {\"colorbar\": {\"outlinewidth\": 0, \"ticks\": \"\"}}, \"type\": \"scatter\"}], \"scatter3d\": [{\"line\": {\"colorbar\": {\"outlinewidth\": 0, \"ticks\": \"\"}}, \"marker\": {\"colorbar\": {\"outlinewidth\": 0, \"ticks\": \"\"}}, \"type\": \"scatter3d\"}], \"scattercarpet\": [{\"marker\": {\"colorbar\": {\"outlinewidth\": 0, \"ticks\": \"\"}}, \"type\": \"scattercarpet\"}], \"scattergeo\": [{\"marker\": {\"colorbar\": {\"outlinewidth\": 0, \"ticks\": \"\"}}, \"type\": \"scattergeo\"}], \"scattergl\": [{\"marker\": {\"colorbar\": {\"outlinewidth\": 0, \"ticks\": \"\"}}, \"type\": \"scattergl\"}], \"scattermapbox\": [{\"marker\": {\"colorbar\": {\"outlinewidth\": 0, \"ticks\": \"\"}}, \"type\": \"scattermapbox\"}], \"scatterpolar\": [{\"marker\": {\"colorbar\": {\"outlinewidth\": 0, \"ticks\": \"\"}}, \"type\": \"scatterpolar\"}], \"scatterpolargl\": [{\"marker\": {\"colorbar\": {\"outlinewidth\": 0, \"ticks\": \"\"}}, \"type\": \"scatterpolargl\"}], \"scatterternary\": [{\"marker\": {\"colorbar\": {\"outlinewidth\": 0, \"ticks\": \"\"}}, \"type\": \"scatterternary\"}], \"surface\": [{\"colorbar\": {\"outlinewidth\": 0, \"ticks\": \"\"}, \"colorscale\": [[0.0, \"#0d0887\"], [0.1111111111111111, \"#46039f\"], [0.2222222222222222, \"#7201a8\"], [0.3333333333333333, \"#9c179e\"], [0.4444444444444444, \"#bd3786\"], [0.5555555555555556, \"#d8576b\"], [0.6666666666666666, \"#ed7953\"], [0.7777777777777778, \"#fb9f3a\"], [0.8888888888888888, \"#fdca26\"], [1.0, \"#f0f921\"]], \"type\": \"surface\"}], \"table\": [{\"cells\": {\"fill\": {\"color\": \"#EBF0F8\"}, \"line\": {\"color\": \"white\"}}, \"header\": {\"fill\": {\"color\": \"#C8D4E3\"}, \"line\": {\"color\": \"white\"}}, \"type\": \"table\"}]}, \"layout\": {\"annotationdefaults\": {\"arrowcolor\": \"#2a3f5f\", \"arrowhead\": 0, \"arrowwidth\": 1}, \"coloraxis\": {\"colorbar\": {\"outlinewidth\": 0, \"ticks\": \"\"}}, \"colorscale\": {\"diverging\": [[0, \"#8e0152\"], [0.1, \"#c51b7d\"], [0.2, \"#de77ae\"], [0.3, \"#f1b6da\"], [0.4, \"#fde0ef\"], [0.5, \"#f7f7f7\"], [0.6, \"#e6f5d0\"], [0.7, \"#b8e186\"], [0.8, \"#7fbc41\"], [0.9, \"#4d9221\"], [1, \"#276419\"]], \"sequential\": [[0.0, \"#0d0887\"], [0.1111111111111111, \"#46039f\"], [0.2222222222222222, \"#7201a8\"], [0.3333333333333333, \"#9c179e\"], [0.4444444444444444, \"#bd3786\"], [0.5555555555555556, \"#d8576b\"], [0.6666666666666666, \"#ed7953\"], [0.7777777777777778, \"#fb9f3a\"], [0.8888888888888888, \"#fdca26\"], [1.0, \"#f0f921\"]], \"sequentialminus\": [[0.0, \"#0d0887\"], [0.1111111111111111, \"#46039f\"], [0.2222222222222222, \"#7201a8\"], [0.3333333333333333, \"#9c179e\"], [0.4444444444444444, \"#bd3786\"], [0.5555555555555556, \"#d8576b\"], [0.6666666666666666, \"#ed7953\"], [0.7777777777777778, \"#fb9f3a\"], [0.8888888888888888, \"#fdca26\"], [1.0, \"#f0f921\"]]}, \"colorway\": [\"#636efa\", \"#EF553B\", \"#00cc96\", \"#ab63fa\", \"#FFA15A\", \"#19d3f3\", \"#FF6692\", \"#B6E880\", \"#FF97FF\", \"#FECB52\"], \"font\": {\"color\": \"#2a3f5f\"}, \"geo\": {\"bgcolor\": \"white\", \"lakecolor\": \"white\", \"landcolor\": \"#E5ECF6\", \"showlakes\": true, \"showland\": true, \"subunitcolor\": \"white\"}, \"hoverlabel\": {\"align\": \"left\"}, \"hovermode\": \"closest\", \"mapbox\": {\"style\": \"light\"}, \"paper_bgcolor\": \"white\", \"plot_bgcolor\": \"#E5ECF6\", \"polar\": {\"angularaxis\": {\"gridcolor\": \"white\", \"linecolor\": \"white\", \"ticks\": \"\"}, \"bgcolor\": \"#E5ECF6\", \"radialaxis\": {\"gridcolor\": \"white\", \"linecolor\": \"white\", \"ticks\": \"\"}}, \"scene\": {\"xaxis\": {\"backgroundcolor\": \"#E5ECF6\", \"gridcolor\": \"white\", \"gridwidth\": 2, \"linecolor\": \"white\", \"showbackground\": true, \"ticks\": \"\", \"zerolinecolor\": \"white\"}, \"yaxis\": {\"backgroundcolor\": \"#E5ECF6\", \"gridcolor\": \"white\", \"gridwidth\": 2, \"linecolor\": \"white\", \"showbackground\": true, \"ticks\": \"\", \"zerolinecolor\": \"white\"}, \"zaxis\": {\"backgroundcolor\": \"#E5ECF6\", \"gridcolor\": \"white\", \"gridwidth\": 2, \"linecolor\": \"white\", \"showbackground\": true, \"ticks\": \"\", \"zerolinecolor\": \"white\"}}, \"shapedefaults\": {\"line\": {\"color\": \"#2a3f5f\"}}, \"ternary\": {\"aaxis\": {\"gridcolor\": \"white\", \"linecolor\": \"white\", \"ticks\": \"\"}, \"baxis\": {\"gridcolor\": \"white\", \"linecolor\": \"white\", \"ticks\": \"\"}, \"bgcolor\": \"#E5ECF6\", \"caxis\": {\"gridcolor\": \"white\", \"linecolor\": \"white\", \"ticks\": \"\"}}, \"title\": {\"x\": 0.05}, \"xaxis\": {\"automargin\": true, \"gridcolor\": \"white\", \"linecolor\": \"white\", \"ticks\": \"\", \"title\": {\"standoff\": 15}, \"zerolinecolor\": \"white\", \"zerolinewidth\": 2}, \"yaxis\": {\"automargin\": true, \"gridcolor\": \"white\", \"linecolor\": \"white\", \"ticks\": \"\", \"title\": {\"standoff\": 15}, \"zerolinecolor\": \"white\", \"zerolinewidth\": 2}}}, \"title\": {\"font\": {\"color\": \"#351f39\", \"family\": \"Courier New\"}, \"text\": \"Caste distribution of candidates\"}, \"xaxis\": {\"anchor\": \"y\", \"domain\": [0.0, 1.0], \"title\": {\"text\": \"Caste\"}}, \"yaxis\": {\"anchor\": \"x\", \"domain\": [0.0, 1.0], \"title\": {\"text\": \"Count\"}}},                        {\"responsive\": true}                    ).then(function(){\n",
       "                            \n",
       "var gd = document.getElementById('3c67935b-4f3a-4776-9751-51f468f7066a');\n",
       "var x = new MutationObserver(function (mutations, observer) {{\n",
       "        var display = window.getComputedStyle(gd).display;\n",
       "        if (!display || display === 'none') {{\n",
       "            console.log([gd, 'removed!']);\n",
       "            Plotly.purge(gd);\n",
       "            observer.disconnect();\n",
       "        }}\n",
       "}});\n",
       "\n",
       "// Listen for the removal of the full notebook cells\n",
       "var notebookContainer = gd.closest('#notebook-container');\n",
       "if (notebookContainer) {{\n",
       "    x.observe(notebookContainer, {childList: true});\n",
       "}}\n",
       "\n",
       "// Listen for the clearing of the current output cell\n",
       "var outputEl = gd.closest('.output');\n",
       "if (outputEl) {{\n",
       "    x.observe(outputEl, {childList: true});\n",
       "}}\n",
       "\n",
       "                        })                };                });            </script>        </div>"
      ]
     },
     "metadata": {},
     "output_type": "display_data"
    }
   ],
   "source": [
    "# Create a dataframe containing the caste distribution of winners\n",
    "winner_caste = df_NOTA[df_NOTA['WINNER'] == 1].groupby('CATEGORY')['WINNER'].size()\n",
    "winner_caste_df = pd.DataFrame(data=winner_caste)\n",
    "winner_caste_df.reset_index(level=0, inplace=True)\n",
    "winner_caste_df['Category'] = 'Winner'\n",
    "\n",
    "# Create a dataframe containing the caste distribution of total number of candidates\n",
    "total_caste = df_NOTA.groupby('CATEGORY').size()\n",
    "total_caste_df = pd.DataFrame(data=total_caste)\n",
    "total_caste_df.reset_index(level=0, inplace=True)\n",
    "total_caste_df['Category'] = 'Total'\n",
    "total_caste_df.rename(columns={0: \"WINNER\"}, inplace=True)\n",
    "\n",
    "# Concatenate the two dataframes\n",
    "winner_caste_df = pd.concat((winner_caste_df, total_caste_df))\n",
    "\n",
    "# Visualize the results\n",
    "caste_fig = px.bar(winner_caste_df, \n",
    "                   x='CATEGORY', \n",
    "                   y='WINNER',\n",
    "                   color='Category', \n",
    "                   barmode='group')\n",
    "caste_fig.update_layout(font_family=\"Courier New\",\n",
    "                        font_color=\"#351f39\",\n",
    "                        title_text='Caste distribution of candidates',\n",
    "                        title_font_family=\"Courier New\",\n",
    "                        title_font_color=\"#351f39\",\n",
    "                        xaxis_title='Caste',\n",
    "                        yaxis_title='Count')\n",
    "caste_fig.show()"
   ]
  },
  {
   "cell_type": "markdown",
   "metadata": {},
   "source": [
    "### 5.5 Top ten party-wise criminal records"
   ]
  },
  {
   "cell_type": "code",
   "execution_count": 155,
   "metadata": {},
   "outputs": [
    {
     "data": {
      "application/vnd.plotly.v1+json": {
       "config": {
        "plotlyServerURL": "https://plot.ly"
       },
       "data": [
        {
         "customdata": [
          [
           403
          ]
         ],
         "hovertemplate": "PARTY=%{x}<br>CRIMINALCASES=%{customdata[0]}<extra></extra>",
         "legendgroup": "BJP",
         "marker": {
          "color": "#636efa",
          "size": [
           403
          ],
          "sizemode": "area",
          "sizeref": 1.0075,
          "symbol": "circle"
         },
         "mode": "markers",
         "name": "BJP",
         "orientation": "v",
         "showlegend": true,
         "type": "scatter",
         "x": [
          "BJP"
         ],
         "xaxis": "x",
         "y": [
          403
         ],
         "yaxis": "y"
        },
        {
         "customdata": [
          [
           355
          ]
         ],
         "hovertemplate": "PARTY=%{x}<br>CRIMINALCASES=%{customdata[0]}<extra></extra>",
         "legendgroup": "INC",
         "marker": {
          "color": "#EF553B",
          "size": [
           355
          ],
          "sizemode": "area",
          "sizeref": 1.0075,
          "symbol": "circle"
         },
         "mode": "markers",
         "name": "INC",
         "orientation": "v",
         "showlegend": true,
         "type": "scatter",
         "x": [
          "INC"
         ],
         "xaxis": "x",
         "y": [
          355
         ],
         "yaxis": "y"
        },
        {
         "customdata": [
          [
           35
          ]
         ],
         "hovertemplate": "PARTY=%{x}<br>CRIMINALCASES=%{customdata[0]}<extra></extra>",
         "legendgroup": "SHS",
         "marker": {
          "color": "#00cc96",
          "size": [
           35
          ],
          "sizemode": "area",
          "sizeref": 1.0075,
          "symbol": "circle"
         },
         "mode": "markers",
         "name": "SHS",
         "orientation": "v",
         "showlegend": true,
         "type": "scatter",
         "x": [
          "SHS"
         ],
         "xaxis": "x",
         "y": [
          35
         ],
         "yaxis": "y"
        },
        {
         "customdata": [
          [
           32
          ]
         ],
         "hovertemplate": "PARTY=%{x}<br>CRIMINALCASES=%{customdata[0]}<extra></extra>",
         "legendgroup": "BSP",
         "marker": {
          "color": "#ab63fa",
          "size": [
           32
          ],
          "sizemode": "area",
          "sizeref": 1.0075,
          "symbol": "circle"
         },
         "mode": "markers",
         "name": "BSP",
         "orientation": "v",
         "showlegend": true,
         "type": "scatter",
         "x": [
          "BSP"
         ],
         "xaxis": "x",
         "y": [
          32
         ],
         "yaxis": "y"
        },
        {
         "customdata": [
          [
           31
          ]
         ],
         "hovertemplate": "PARTY=%{x}<br>CRIMINALCASES=%{customdata[0]}<extra></extra>",
         "legendgroup": "JD(U)",
         "marker": {
          "color": "#FFA15A",
          "size": [
           31
          ],
          "sizemode": "area",
          "sizeref": 1.0075,
          "symbol": "circle"
         },
         "mode": "markers",
         "name": "JD(U)",
         "orientation": "v",
         "showlegend": true,
         "type": "scatter",
         "x": [
          "JD(U)"
         ],
         "xaxis": "x",
         "y": [
          31
         ],
         "yaxis": "y"
        },
        {
         "customdata": [
          [
           28
          ]
         ],
         "hovertemplate": "PARTY=%{x}<br>CRIMINALCASES=%{customdata[0]}<extra></extra>",
         "legendgroup": "DMK",
         "marker": {
          "color": "#19d3f3",
          "size": [
           28
          ],
          "sizemode": "area",
          "sizeref": 1.0075,
          "symbol": "circle"
         },
         "mode": "markers",
         "name": "DMK",
         "orientation": "v",
         "showlegend": true,
         "type": "scatter",
         "x": [
          "DMK"
         ],
         "xaxis": "x",
         "y": [
          28
         ],
         "yaxis": "y"
        },
        {
         "customdata": [
          [
           24
          ]
         ],
         "hovertemplate": "PARTY=%{x}<br>CRIMINALCASES=%{customdata[0]}<extra></extra>",
         "legendgroup": "TRS",
         "marker": {
          "color": "#FF6692",
          "size": [
           24
          ],
          "sizemode": "area",
          "sizeref": 1.0075,
          "symbol": "circle"
         },
         "mode": "markers",
         "name": "TRS",
         "orientation": "v",
         "showlegend": true,
         "type": "scatter",
         "x": [
          "TRS"
         ],
         "xaxis": "x",
         "y": [
          24
         ],
         "yaxis": "y"
        },
        {
         "customdata": [
          [
           24
          ]
         ],
         "hovertemplate": "PARTY=%{x}<br>CRIMINALCASES=%{customdata[0]}<extra></extra>",
         "legendgroup": "YSRCP",
         "marker": {
          "color": "#B6E880",
          "size": [
           24
          ],
          "sizemode": "area",
          "sizeref": 1.0075,
          "symbol": "circle"
         },
         "mode": "markers",
         "name": "YSRCP",
         "orientation": "v",
         "showlegend": true,
         "type": "scatter",
         "x": [
          "YSRCP"
         ],
         "xaxis": "x",
         "y": [
          24
         ],
         "yaxis": "y"
        },
        {
         "customdata": [
          [
           17
          ]
         ],
         "hovertemplate": "PARTY=%{x}<br>CRIMINALCASES=%{customdata[0]}<extra></extra>",
         "legendgroup": "AITC",
         "marker": {
          "color": "#FF97FF",
          "size": [
           17
          ],
          "sizemode": "area",
          "sizeref": 1.0075,
          "symbol": "circle"
         },
         "mode": "markers",
         "name": "AITC",
         "orientation": "v",
         "showlegend": true,
         "type": "scatter",
         "x": [
          "AITC"
         ],
         "xaxis": "x",
         "y": [
          17
         ],
         "yaxis": "y"
        },
        {
         "customdata": [
          [
           12
          ]
         ],
         "hovertemplate": "PARTY=%{x}<br>CRIMINALCASES=%{customdata[0]}<extra></extra>",
         "legendgroup": "LJP",
         "marker": {
          "color": "#FECB52",
          "size": [
           12
          ],
          "sizemode": "area",
          "sizeref": 1.0075,
          "symbol": "circle"
         },
         "mode": "markers",
         "name": "LJP",
         "orientation": "v",
         "showlegend": true,
         "type": "scatter",
         "x": [
          "LJP"
         ],
         "xaxis": "x",
         "y": [
          12
         ],
         "yaxis": "y"
        }
       ],
       "layout": {
        "font": {
         "color": "#351f39",
         "family": "Courier New"
        },
        "legend": {
         "itemsizing": "constant",
         "title": {
          "text": "PARTY"
         },
         "tracegroupgap": 0
        },
        "margin": {
         "t": 60
        },
        "template": {
         "data": {
          "bar": [
           {
            "error_x": {
             "color": "#2a3f5f"
            },
            "error_y": {
             "color": "#2a3f5f"
            },
            "marker": {
             "line": {
              "color": "#E5ECF6",
              "width": 0.5
             }
            },
            "type": "bar"
           }
          ],
          "barpolar": [
           {
            "marker": {
             "line": {
              "color": "#E5ECF6",
              "width": 0.5
             }
            },
            "type": "barpolar"
           }
          ],
          "carpet": [
           {
            "aaxis": {
             "endlinecolor": "#2a3f5f",
             "gridcolor": "white",
             "linecolor": "white",
             "minorgridcolor": "white",
             "startlinecolor": "#2a3f5f"
            },
            "baxis": {
             "endlinecolor": "#2a3f5f",
             "gridcolor": "white",
             "linecolor": "white",
             "minorgridcolor": "white",
             "startlinecolor": "#2a3f5f"
            },
            "type": "carpet"
           }
          ],
          "choropleth": [
           {
            "colorbar": {
             "outlinewidth": 0,
             "ticks": ""
            },
            "type": "choropleth"
           }
          ],
          "contour": [
           {
            "colorbar": {
             "outlinewidth": 0,
             "ticks": ""
            },
            "colorscale": [
             [
              0,
              "#0d0887"
             ],
             [
              0.1111111111111111,
              "#46039f"
             ],
             [
              0.2222222222222222,
              "#7201a8"
             ],
             [
              0.3333333333333333,
              "#9c179e"
             ],
             [
              0.4444444444444444,
              "#bd3786"
             ],
             [
              0.5555555555555556,
              "#d8576b"
             ],
             [
              0.6666666666666666,
              "#ed7953"
             ],
             [
              0.7777777777777778,
              "#fb9f3a"
             ],
             [
              0.8888888888888888,
              "#fdca26"
             ],
             [
              1,
              "#f0f921"
             ]
            ],
            "type": "contour"
           }
          ],
          "contourcarpet": [
           {
            "colorbar": {
             "outlinewidth": 0,
             "ticks": ""
            },
            "type": "contourcarpet"
           }
          ],
          "heatmap": [
           {
            "colorbar": {
             "outlinewidth": 0,
             "ticks": ""
            },
            "colorscale": [
             [
              0,
              "#0d0887"
             ],
             [
              0.1111111111111111,
              "#46039f"
             ],
             [
              0.2222222222222222,
              "#7201a8"
             ],
             [
              0.3333333333333333,
              "#9c179e"
             ],
             [
              0.4444444444444444,
              "#bd3786"
             ],
             [
              0.5555555555555556,
              "#d8576b"
             ],
             [
              0.6666666666666666,
              "#ed7953"
             ],
             [
              0.7777777777777778,
              "#fb9f3a"
             ],
             [
              0.8888888888888888,
              "#fdca26"
             ],
             [
              1,
              "#f0f921"
             ]
            ],
            "type": "heatmap"
           }
          ],
          "heatmapgl": [
           {
            "colorbar": {
             "outlinewidth": 0,
             "ticks": ""
            },
            "colorscale": [
             [
              0,
              "#0d0887"
             ],
             [
              0.1111111111111111,
              "#46039f"
             ],
             [
              0.2222222222222222,
              "#7201a8"
             ],
             [
              0.3333333333333333,
              "#9c179e"
             ],
             [
              0.4444444444444444,
              "#bd3786"
             ],
             [
              0.5555555555555556,
              "#d8576b"
             ],
             [
              0.6666666666666666,
              "#ed7953"
             ],
             [
              0.7777777777777778,
              "#fb9f3a"
             ],
             [
              0.8888888888888888,
              "#fdca26"
             ],
             [
              1,
              "#f0f921"
             ]
            ],
            "type": "heatmapgl"
           }
          ],
          "histogram": [
           {
            "marker": {
             "colorbar": {
              "outlinewidth": 0,
              "ticks": ""
             }
            },
            "type": "histogram"
           }
          ],
          "histogram2d": [
           {
            "colorbar": {
             "outlinewidth": 0,
             "ticks": ""
            },
            "colorscale": [
             [
              0,
              "#0d0887"
             ],
             [
              0.1111111111111111,
              "#46039f"
             ],
             [
              0.2222222222222222,
              "#7201a8"
             ],
             [
              0.3333333333333333,
              "#9c179e"
             ],
             [
              0.4444444444444444,
              "#bd3786"
             ],
             [
              0.5555555555555556,
              "#d8576b"
             ],
             [
              0.6666666666666666,
              "#ed7953"
             ],
             [
              0.7777777777777778,
              "#fb9f3a"
             ],
             [
              0.8888888888888888,
              "#fdca26"
             ],
             [
              1,
              "#f0f921"
             ]
            ],
            "type": "histogram2d"
           }
          ],
          "histogram2dcontour": [
           {
            "colorbar": {
             "outlinewidth": 0,
             "ticks": ""
            },
            "colorscale": [
             [
              0,
              "#0d0887"
             ],
             [
              0.1111111111111111,
              "#46039f"
             ],
             [
              0.2222222222222222,
              "#7201a8"
             ],
             [
              0.3333333333333333,
              "#9c179e"
             ],
             [
              0.4444444444444444,
              "#bd3786"
             ],
             [
              0.5555555555555556,
              "#d8576b"
             ],
             [
              0.6666666666666666,
              "#ed7953"
             ],
             [
              0.7777777777777778,
              "#fb9f3a"
             ],
             [
              0.8888888888888888,
              "#fdca26"
             ],
             [
              1,
              "#f0f921"
             ]
            ],
            "type": "histogram2dcontour"
           }
          ],
          "mesh3d": [
           {
            "colorbar": {
             "outlinewidth": 0,
             "ticks": ""
            },
            "type": "mesh3d"
           }
          ],
          "parcoords": [
           {
            "line": {
             "colorbar": {
              "outlinewidth": 0,
              "ticks": ""
             }
            },
            "type": "parcoords"
           }
          ],
          "pie": [
           {
            "automargin": true,
            "type": "pie"
           }
          ],
          "scatter": [
           {
            "marker": {
             "colorbar": {
              "outlinewidth": 0,
              "ticks": ""
             }
            },
            "type": "scatter"
           }
          ],
          "scatter3d": [
           {
            "line": {
             "colorbar": {
              "outlinewidth": 0,
              "ticks": ""
             }
            },
            "marker": {
             "colorbar": {
              "outlinewidth": 0,
              "ticks": ""
             }
            },
            "type": "scatter3d"
           }
          ],
          "scattercarpet": [
           {
            "marker": {
             "colorbar": {
              "outlinewidth": 0,
              "ticks": ""
             }
            },
            "type": "scattercarpet"
           }
          ],
          "scattergeo": [
           {
            "marker": {
             "colorbar": {
              "outlinewidth": 0,
              "ticks": ""
             }
            },
            "type": "scattergeo"
           }
          ],
          "scattergl": [
           {
            "marker": {
             "colorbar": {
              "outlinewidth": 0,
              "ticks": ""
             }
            },
            "type": "scattergl"
           }
          ],
          "scattermapbox": [
           {
            "marker": {
             "colorbar": {
              "outlinewidth": 0,
              "ticks": ""
             }
            },
            "type": "scattermapbox"
           }
          ],
          "scatterpolar": [
           {
            "marker": {
             "colorbar": {
              "outlinewidth": 0,
              "ticks": ""
             }
            },
            "type": "scatterpolar"
           }
          ],
          "scatterpolargl": [
           {
            "marker": {
             "colorbar": {
              "outlinewidth": 0,
              "ticks": ""
             }
            },
            "type": "scatterpolargl"
           }
          ],
          "scatterternary": [
           {
            "marker": {
             "colorbar": {
              "outlinewidth": 0,
              "ticks": ""
             }
            },
            "type": "scatterternary"
           }
          ],
          "surface": [
           {
            "colorbar": {
             "outlinewidth": 0,
             "ticks": ""
            },
            "colorscale": [
             [
              0,
              "#0d0887"
             ],
             [
              0.1111111111111111,
              "#46039f"
             ],
             [
              0.2222222222222222,
              "#7201a8"
             ],
             [
              0.3333333333333333,
              "#9c179e"
             ],
             [
              0.4444444444444444,
              "#bd3786"
             ],
             [
              0.5555555555555556,
              "#d8576b"
             ],
             [
              0.6666666666666666,
              "#ed7953"
             ],
             [
              0.7777777777777778,
              "#fb9f3a"
             ],
             [
              0.8888888888888888,
              "#fdca26"
             ],
             [
              1,
              "#f0f921"
             ]
            ],
            "type": "surface"
           }
          ],
          "table": [
           {
            "cells": {
             "fill": {
              "color": "#EBF0F8"
             },
             "line": {
              "color": "white"
             }
            },
            "header": {
             "fill": {
              "color": "#C8D4E3"
             },
             "line": {
              "color": "white"
             }
            },
            "type": "table"
           }
          ]
         },
         "layout": {
          "annotationdefaults": {
           "arrowcolor": "#2a3f5f",
           "arrowhead": 0,
           "arrowwidth": 1
          },
          "coloraxis": {
           "colorbar": {
            "outlinewidth": 0,
            "ticks": ""
           }
          },
          "colorscale": {
           "diverging": [
            [
             0,
             "#8e0152"
            ],
            [
             0.1,
             "#c51b7d"
            ],
            [
             0.2,
             "#de77ae"
            ],
            [
             0.3,
             "#f1b6da"
            ],
            [
             0.4,
             "#fde0ef"
            ],
            [
             0.5,
             "#f7f7f7"
            ],
            [
             0.6,
             "#e6f5d0"
            ],
            [
             0.7,
             "#b8e186"
            ],
            [
             0.8,
             "#7fbc41"
            ],
            [
             0.9,
             "#4d9221"
            ],
            [
             1,
             "#276419"
            ]
           ],
           "sequential": [
            [
             0,
             "#0d0887"
            ],
            [
             0.1111111111111111,
             "#46039f"
            ],
            [
             0.2222222222222222,
             "#7201a8"
            ],
            [
             0.3333333333333333,
             "#9c179e"
            ],
            [
             0.4444444444444444,
             "#bd3786"
            ],
            [
             0.5555555555555556,
             "#d8576b"
            ],
            [
             0.6666666666666666,
             "#ed7953"
            ],
            [
             0.7777777777777778,
             "#fb9f3a"
            ],
            [
             0.8888888888888888,
             "#fdca26"
            ],
            [
             1,
             "#f0f921"
            ]
           ],
           "sequentialminus": [
            [
             0,
             "#0d0887"
            ],
            [
             0.1111111111111111,
             "#46039f"
            ],
            [
             0.2222222222222222,
             "#7201a8"
            ],
            [
             0.3333333333333333,
             "#9c179e"
            ],
            [
             0.4444444444444444,
             "#bd3786"
            ],
            [
             0.5555555555555556,
             "#d8576b"
            ],
            [
             0.6666666666666666,
             "#ed7953"
            ],
            [
             0.7777777777777778,
             "#fb9f3a"
            ],
            [
             0.8888888888888888,
             "#fdca26"
            ],
            [
             1,
             "#f0f921"
            ]
           ]
          },
          "colorway": [
           "#636efa",
           "#EF553B",
           "#00cc96",
           "#ab63fa",
           "#FFA15A",
           "#19d3f3",
           "#FF6692",
           "#B6E880",
           "#FF97FF",
           "#FECB52"
          ],
          "font": {
           "color": "#2a3f5f"
          },
          "geo": {
           "bgcolor": "white",
           "lakecolor": "white",
           "landcolor": "#E5ECF6",
           "showlakes": true,
           "showland": true,
           "subunitcolor": "white"
          },
          "hoverlabel": {
           "align": "left"
          },
          "hovermode": "closest",
          "mapbox": {
           "style": "light"
          },
          "paper_bgcolor": "white",
          "plot_bgcolor": "#E5ECF6",
          "polar": {
           "angularaxis": {
            "gridcolor": "white",
            "linecolor": "white",
            "ticks": ""
           },
           "bgcolor": "#E5ECF6",
           "radialaxis": {
            "gridcolor": "white",
            "linecolor": "white",
            "ticks": ""
           }
          },
          "scene": {
           "xaxis": {
            "backgroundcolor": "#E5ECF6",
            "gridcolor": "white",
            "gridwidth": 2,
            "linecolor": "white",
            "showbackground": true,
            "ticks": "",
            "zerolinecolor": "white"
           },
           "yaxis": {
            "backgroundcolor": "#E5ECF6",
            "gridcolor": "white",
            "gridwidth": 2,
            "linecolor": "white",
            "showbackground": true,
            "ticks": "",
            "zerolinecolor": "white"
           },
           "zaxis": {
            "backgroundcolor": "#E5ECF6",
            "gridcolor": "white",
            "gridwidth": 2,
            "linecolor": "white",
            "showbackground": true,
            "ticks": "",
            "zerolinecolor": "white"
           }
          },
          "shapedefaults": {
           "line": {
            "color": "#2a3f5f"
           }
          },
          "ternary": {
           "aaxis": {
            "gridcolor": "white",
            "linecolor": "white",
            "ticks": ""
           },
           "baxis": {
            "gridcolor": "white",
            "linecolor": "white",
            "ticks": ""
           },
           "bgcolor": "#E5ECF6",
           "caxis": {
            "gridcolor": "white",
            "linecolor": "white",
            "ticks": ""
           }
          },
          "title": {
           "x": 0.05
          },
          "xaxis": {
           "automargin": true,
           "gridcolor": "white",
           "linecolor": "white",
           "ticks": "",
           "title": {
            "standoff": 15
           },
           "zerolinecolor": "white",
           "zerolinewidth": 2
          },
          "yaxis": {
           "automargin": true,
           "gridcolor": "white",
           "linecolor": "white",
           "ticks": "",
           "title": {
            "standoff": 15
           },
           "zerolinecolor": "white",
           "zerolinewidth": 2
          }
         }
        },
        "title": {
         "font": {
          "color": "#351f39",
          "family": "Courier New"
         },
         "text": "Top 10 Party-wise criminal records"
        },
        "xaxis": {
         "anchor": "y",
         "categoryarray": [
          "BJP",
          "INC",
          "SHS",
          "BSP",
          "JD(U)",
          "DMK",
          "TRS",
          "YSRCP",
          "AITC",
          "LJP"
         ],
         "categoryorder": "array",
         "domain": [
          0,
          1
         ],
         "title": {
          "text": "Party"
         }
        },
        "yaxis": {
         "anchor": "x",
         "domain": [
          0,
          1
         ],
         "title": {
          "text": "Criminal Records"
         }
        }
       }
      },
      "text/html": [
       "<div>                            <div id=\"ea0fc568-c00e-4b06-87be-9a0fda6a6afb\" class=\"plotly-graph-div\" style=\"height:525px; width:100%;\"></div>            <script type=\"text/javascript\">                require([\"plotly\"], function(Plotly) {                    window.PLOTLYENV=window.PLOTLYENV || {};                                    if (document.getElementById(\"ea0fc568-c00e-4b06-87be-9a0fda6a6afb\")) {                    Plotly.newPlot(                        \"ea0fc568-c00e-4b06-87be-9a0fda6a6afb\",                        [{\"customdata\": [[403]], \"hovertemplate\": \"PARTY=%{x}<br>CRIMINALCASES=%{customdata[0]}<extra></extra>\", \"legendgroup\": \"BJP\", \"marker\": {\"color\": \"#636efa\", \"size\": [403], \"sizemode\": \"area\", \"sizeref\": 1.0075, \"symbol\": \"circle\"}, \"mode\": \"markers\", \"name\": \"BJP\", \"orientation\": \"v\", \"showlegend\": true, \"type\": \"scatter\", \"x\": [\"BJP\"], \"xaxis\": \"x\", \"y\": [403], \"yaxis\": \"y\"}, {\"customdata\": [[355]], \"hovertemplate\": \"PARTY=%{x}<br>CRIMINALCASES=%{customdata[0]}<extra></extra>\", \"legendgroup\": \"INC\", \"marker\": {\"color\": \"#EF553B\", \"size\": [355], \"sizemode\": \"area\", \"sizeref\": 1.0075, \"symbol\": \"circle\"}, \"mode\": \"markers\", \"name\": \"INC\", \"orientation\": \"v\", \"showlegend\": true, \"type\": \"scatter\", \"x\": [\"INC\"], \"xaxis\": \"x\", \"y\": [355], \"yaxis\": \"y\"}, {\"customdata\": [[35]], \"hovertemplate\": \"PARTY=%{x}<br>CRIMINALCASES=%{customdata[0]}<extra></extra>\", \"legendgroup\": \"SHS\", \"marker\": {\"color\": \"#00cc96\", \"size\": [35], \"sizemode\": \"area\", \"sizeref\": 1.0075, \"symbol\": \"circle\"}, \"mode\": \"markers\", \"name\": \"SHS\", \"orientation\": \"v\", \"showlegend\": true, \"type\": \"scatter\", \"x\": [\"SHS\"], \"xaxis\": \"x\", \"y\": [35], \"yaxis\": \"y\"}, {\"customdata\": [[32]], \"hovertemplate\": \"PARTY=%{x}<br>CRIMINALCASES=%{customdata[0]}<extra></extra>\", \"legendgroup\": \"BSP\", \"marker\": {\"color\": \"#ab63fa\", \"size\": [32], \"sizemode\": \"area\", \"sizeref\": 1.0075, \"symbol\": \"circle\"}, \"mode\": \"markers\", \"name\": \"BSP\", \"orientation\": \"v\", \"showlegend\": true, \"type\": \"scatter\", \"x\": [\"BSP\"], \"xaxis\": \"x\", \"y\": [32], \"yaxis\": \"y\"}, {\"customdata\": [[31]], \"hovertemplate\": \"PARTY=%{x}<br>CRIMINALCASES=%{customdata[0]}<extra></extra>\", \"legendgroup\": \"JD(U)\", \"marker\": {\"color\": \"#FFA15A\", \"size\": [31], \"sizemode\": \"area\", \"sizeref\": 1.0075, \"symbol\": \"circle\"}, \"mode\": \"markers\", \"name\": \"JD(U)\", \"orientation\": \"v\", \"showlegend\": true, \"type\": \"scatter\", \"x\": [\"JD(U)\"], \"xaxis\": \"x\", \"y\": [31], \"yaxis\": \"y\"}, {\"customdata\": [[28]], \"hovertemplate\": \"PARTY=%{x}<br>CRIMINALCASES=%{customdata[0]}<extra></extra>\", \"legendgroup\": \"DMK\", \"marker\": {\"color\": \"#19d3f3\", \"size\": [28], \"sizemode\": \"area\", \"sizeref\": 1.0075, \"symbol\": \"circle\"}, \"mode\": \"markers\", \"name\": \"DMK\", \"orientation\": \"v\", \"showlegend\": true, \"type\": \"scatter\", \"x\": [\"DMK\"], \"xaxis\": \"x\", \"y\": [28], \"yaxis\": \"y\"}, {\"customdata\": [[24]], \"hovertemplate\": \"PARTY=%{x}<br>CRIMINALCASES=%{customdata[0]}<extra></extra>\", \"legendgroup\": \"TRS\", \"marker\": {\"color\": \"#FF6692\", \"size\": [24], \"sizemode\": \"area\", \"sizeref\": 1.0075, \"symbol\": \"circle\"}, \"mode\": \"markers\", \"name\": \"TRS\", \"orientation\": \"v\", \"showlegend\": true, \"type\": \"scatter\", \"x\": [\"TRS\"], \"xaxis\": \"x\", \"y\": [24], \"yaxis\": \"y\"}, {\"customdata\": [[24]], \"hovertemplate\": \"PARTY=%{x}<br>CRIMINALCASES=%{customdata[0]}<extra></extra>\", \"legendgroup\": \"YSRCP\", \"marker\": {\"color\": \"#B6E880\", \"size\": [24], \"sizemode\": \"area\", \"sizeref\": 1.0075, \"symbol\": \"circle\"}, \"mode\": \"markers\", \"name\": \"YSRCP\", \"orientation\": \"v\", \"showlegend\": true, \"type\": \"scatter\", \"x\": [\"YSRCP\"], \"xaxis\": \"x\", \"y\": [24], \"yaxis\": \"y\"}, {\"customdata\": [[17]], \"hovertemplate\": \"PARTY=%{x}<br>CRIMINALCASES=%{customdata[0]}<extra></extra>\", \"legendgroup\": \"AITC\", \"marker\": {\"color\": \"#FF97FF\", \"size\": [17], \"sizemode\": \"area\", \"sizeref\": 1.0075, \"symbol\": \"circle\"}, \"mode\": \"markers\", \"name\": \"AITC\", \"orientation\": \"v\", \"showlegend\": true, \"type\": \"scatter\", \"x\": [\"AITC\"], \"xaxis\": \"x\", \"y\": [17], \"yaxis\": \"y\"}, {\"customdata\": [[12]], \"hovertemplate\": \"PARTY=%{x}<br>CRIMINALCASES=%{customdata[0]}<extra></extra>\", \"legendgroup\": \"LJP\", \"marker\": {\"color\": \"#FECB52\", \"size\": [12], \"sizemode\": \"area\", \"sizeref\": 1.0075, \"symbol\": \"circle\"}, \"mode\": \"markers\", \"name\": \"LJP\", \"orientation\": \"v\", \"showlegend\": true, \"type\": \"scatter\", \"x\": [\"LJP\"], \"xaxis\": \"x\", \"y\": [12], \"yaxis\": \"y\"}],                        {\"font\": {\"color\": \"#351f39\", \"family\": \"Courier New\"}, \"legend\": {\"itemsizing\": \"constant\", \"title\": {\"text\": \"PARTY\"}, \"tracegroupgap\": 0}, \"margin\": {\"t\": 60}, \"template\": {\"data\": {\"bar\": [{\"error_x\": {\"color\": \"#2a3f5f\"}, \"error_y\": {\"color\": \"#2a3f5f\"}, \"marker\": {\"line\": {\"color\": \"#E5ECF6\", \"width\": 0.5}}, \"type\": \"bar\"}], \"barpolar\": [{\"marker\": {\"line\": {\"color\": \"#E5ECF6\", \"width\": 0.5}}, \"type\": \"barpolar\"}], \"carpet\": [{\"aaxis\": {\"endlinecolor\": \"#2a3f5f\", \"gridcolor\": \"white\", \"linecolor\": \"white\", \"minorgridcolor\": \"white\", \"startlinecolor\": \"#2a3f5f\"}, \"baxis\": {\"endlinecolor\": \"#2a3f5f\", \"gridcolor\": \"white\", \"linecolor\": \"white\", \"minorgridcolor\": \"white\", \"startlinecolor\": \"#2a3f5f\"}, \"type\": \"carpet\"}], \"choropleth\": [{\"colorbar\": {\"outlinewidth\": 0, \"ticks\": \"\"}, \"type\": \"choropleth\"}], \"contour\": [{\"colorbar\": {\"outlinewidth\": 0, \"ticks\": \"\"}, \"colorscale\": [[0.0, \"#0d0887\"], [0.1111111111111111, \"#46039f\"], [0.2222222222222222, \"#7201a8\"], [0.3333333333333333, \"#9c179e\"], [0.4444444444444444, \"#bd3786\"], [0.5555555555555556, \"#d8576b\"], [0.6666666666666666, \"#ed7953\"], [0.7777777777777778, \"#fb9f3a\"], [0.8888888888888888, \"#fdca26\"], [1.0, \"#f0f921\"]], \"type\": \"contour\"}], \"contourcarpet\": [{\"colorbar\": {\"outlinewidth\": 0, \"ticks\": \"\"}, \"type\": \"contourcarpet\"}], \"heatmap\": [{\"colorbar\": {\"outlinewidth\": 0, \"ticks\": \"\"}, \"colorscale\": [[0.0, \"#0d0887\"], [0.1111111111111111, \"#46039f\"], [0.2222222222222222, \"#7201a8\"], [0.3333333333333333, \"#9c179e\"], [0.4444444444444444, \"#bd3786\"], [0.5555555555555556, \"#d8576b\"], [0.6666666666666666, \"#ed7953\"], [0.7777777777777778, \"#fb9f3a\"], [0.8888888888888888, \"#fdca26\"], [1.0, \"#f0f921\"]], \"type\": \"heatmap\"}], \"heatmapgl\": [{\"colorbar\": {\"outlinewidth\": 0, \"ticks\": \"\"}, \"colorscale\": [[0.0, \"#0d0887\"], [0.1111111111111111, \"#46039f\"], [0.2222222222222222, \"#7201a8\"], [0.3333333333333333, \"#9c179e\"], [0.4444444444444444, \"#bd3786\"], [0.5555555555555556, \"#d8576b\"], [0.6666666666666666, \"#ed7953\"], [0.7777777777777778, \"#fb9f3a\"], [0.8888888888888888, \"#fdca26\"], [1.0, \"#f0f921\"]], \"type\": \"heatmapgl\"}], \"histogram\": [{\"marker\": {\"colorbar\": {\"outlinewidth\": 0, \"ticks\": \"\"}}, \"type\": \"histogram\"}], \"histogram2d\": [{\"colorbar\": {\"outlinewidth\": 0, \"ticks\": \"\"}, \"colorscale\": [[0.0, \"#0d0887\"], [0.1111111111111111, \"#46039f\"], [0.2222222222222222, \"#7201a8\"], [0.3333333333333333, \"#9c179e\"], [0.4444444444444444, \"#bd3786\"], [0.5555555555555556, \"#d8576b\"], [0.6666666666666666, \"#ed7953\"], [0.7777777777777778, \"#fb9f3a\"], [0.8888888888888888, \"#fdca26\"], [1.0, \"#f0f921\"]], \"type\": \"histogram2d\"}], \"histogram2dcontour\": [{\"colorbar\": {\"outlinewidth\": 0, \"ticks\": \"\"}, \"colorscale\": [[0.0, \"#0d0887\"], [0.1111111111111111, \"#46039f\"], [0.2222222222222222, \"#7201a8\"], [0.3333333333333333, \"#9c179e\"], [0.4444444444444444, \"#bd3786\"], [0.5555555555555556, \"#d8576b\"], [0.6666666666666666, \"#ed7953\"], [0.7777777777777778, \"#fb9f3a\"], [0.8888888888888888, \"#fdca26\"], [1.0, \"#f0f921\"]], \"type\": \"histogram2dcontour\"}], \"mesh3d\": [{\"colorbar\": {\"outlinewidth\": 0, \"ticks\": \"\"}, \"type\": \"mesh3d\"}], \"parcoords\": [{\"line\": {\"colorbar\": {\"outlinewidth\": 0, \"ticks\": \"\"}}, \"type\": \"parcoords\"}], \"pie\": [{\"automargin\": true, \"type\": \"pie\"}], \"scatter\": [{\"marker\": {\"colorbar\": {\"outlinewidth\": 0, \"ticks\": \"\"}}, \"type\": \"scatter\"}], \"scatter3d\": [{\"line\": {\"colorbar\": {\"outlinewidth\": 0, \"ticks\": \"\"}}, \"marker\": {\"colorbar\": {\"outlinewidth\": 0, \"ticks\": \"\"}}, \"type\": \"scatter3d\"}], \"scattercarpet\": [{\"marker\": {\"colorbar\": {\"outlinewidth\": 0, \"ticks\": \"\"}}, \"type\": \"scattercarpet\"}], \"scattergeo\": [{\"marker\": {\"colorbar\": {\"outlinewidth\": 0, \"ticks\": \"\"}}, \"type\": \"scattergeo\"}], \"scattergl\": [{\"marker\": {\"colorbar\": {\"outlinewidth\": 0, \"ticks\": \"\"}}, \"type\": \"scattergl\"}], \"scattermapbox\": [{\"marker\": {\"colorbar\": {\"outlinewidth\": 0, \"ticks\": \"\"}}, \"type\": \"scattermapbox\"}], \"scatterpolar\": [{\"marker\": {\"colorbar\": {\"outlinewidth\": 0, \"ticks\": \"\"}}, \"type\": \"scatterpolar\"}], \"scatterpolargl\": [{\"marker\": {\"colorbar\": {\"outlinewidth\": 0, \"ticks\": \"\"}}, \"type\": \"scatterpolargl\"}], \"scatterternary\": [{\"marker\": {\"colorbar\": {\"outlinewidth\": 0, \"ticks\": \"\"}}, \"type\": \"scatterternary\"}], \"surface\": [{\"colorbar\": {\"outlinewidth\": 0, \"ticks\": \"\"}, \"colorscale\": [[0.0, \"#0d0887\"], [0.1111111111111111, \"#46039f\"], [0.2222222222222222, \"#7201a8\"], [0.3333333333333333, \"#9c179e\"], [0.4444444444444444, \"#bd3786\"], [0.5555555555555556, \"#d8576b\"], [0.6666666666666666, \"#ed7953\"], [0.7777777777777778, \"#fb9f3a\"], [0.8888888888888888, \"#fdca26\"], [1.0, \"#f0f921\"]], \"type\": \"surface\"}], \"table\": [{\"cells\": {\"fill\": {\"color\": \"#EBF0F8\"}, \"line\": {\"color\": \"white\"}}, \"header\": {\"fill\": {\"color\": \"#C8D4E3\"}, \"line\": {\"color\": \"white\"}}, \"type\": \"table\"}]}, \"layout\": {\"annotationdefaults\": {\"arrowcolor\": \"#2a3f5f\", \"arrowhead\": 0, \"arrowwidth\": 1}, \"coloraxis\": {\"colorbar\": {\"outlinewidth\": 0, \"ticks\": \"\"}}, \"colorscale\": {\"diverging\": [[0, \"#8e0152\"], [0.1, \"#c51b7d\"], [0.2, \"#de77ae\"], [0.3, \"#f1b6da\"], [0.4, \"#fde0ef\"], [0.5, \"#f7f7f7\"], [0.6, \"#e6f5d0\"], [0.7, \"#b8e186\"], [0.8, \"#7fbc41\"], [0.9, \"#4d9221\"], [1, \"#276419\"]], \"sequential\": [[0.0, \"#0d0887\"], [0.1111111111111111, \"#46039f\"], [0.2222222222222222, \"#7201a8\"], [0.3333333333333333, \"#9c179e\"], [0.4444444444444444, \"#bd3786\"], [0.5555555555555556, \"#d8576b\"], [0.6666666666666666, \"#ed7953\"], [0.7777777777777778, \"#fb9f3a\"], [0.8888888888888888, \"#fdca26\"], [1.0, \"#f0f921\"]], \"sequentialminus\": [[0.0, \"#0d0887\"], [0.1111111111111111, \"#46039f\"], [0.2222222222222222, \"#7201a8\"], [0.3333333333333333, \"#9c179e\"], [0.4444444444444444, \"#bd3786\"], [0.5555555555555556, \"#d8576b\"], [0.6666666666666666, \"#ed7953\"], [0.7777777777777778, \"#fb9f3a\"], [0.8888888888888888, \"#fdca26\"], [1.0, \"#f0f921\"]]}, \"colorway\": [\"#636efa\", \"#EF553B\", \"#00cc96\", \"#ab63fa\", \"#FFA15A\", \"#19d3f3\", \"#FF6692\", \"#B6E880\", \"#FF97FF\", \"#FECB52\"], \"font\": {\"color\": \"#2a3f5f\"}, \"geo\": {\"bgcolor\": \"white\", \"lakecolor\": \"white\", \"landcolor\": \"#E5ECF6\", \"showlakes\": true, \"showland\": true, \"subunitcolor\": \"white\"}, \"hoverlabel\": {\"align\": \"left\"}, \"hovermode\": \"closest\", \"mapbox\": {\"style\": \"light\"}, \"paper_bgcolor\": \"white\", \"plot_bgcolor\": \"#E5ECF6\", \"polar\": {\"angularaxis\": {\"gridcolor\": \"white\", \"linecolor\": \"white\", \"ticks\": \"\"}, \"bgcolor\": \"#E5ECF6\", \"radialaxis\": {\"gridcolor\": \"white\", \"linecolor\": \"white\", \"ticks\": \"\"}}, \"scene\": {\"xaxis\": {\"backgroundcolor\": \"#E5ECF6\", \"gridcolor\": \"white\", \"gridwidth\": 2, \"linecolor\": \"white\", \"showbackground\": true, \"ticks\": \"\", \"zerolinecolor\": \"white\"}, \"yaxis\": {\"backgroundcolor\": \"#E5ECF6\", \"gridcolor\": \"white\", \"gridwidth\": 2, \"linecolor\": \"white\", \"showbackground\": true, \"ticks\": \"\", \"zerolinecolor\": \"white\"}, \"zaxis\": {\"backgroundcolor\": \"#E5ECF6\", \"gridcolor\": \"white\", \"gridwidth\": 2, \"linecolor\": \"white\", \"showbackground\": true, \"ticks\": \"\", \"zerolinecolor\": \"white\"}}, \"shapedefaults\": {\"line\": {\"color\": \"#2a3f5f\"}}, \"ternary\": {\"aaxis\": {\"gridcolor\": \"white\", \"linecolor\": \"white\", \"ticks\": \"\"}, \"baxis\": {\"gridcolor\": \"white\", \"linecolor\": \"white\", \"ticks\": \"\"}, \"bgcolor\": \"#E5ECF6\", \"caxis\": {\"gridcolor\": \"white\", \"linecolor\": \"white\", \"ticks\": \"\"}}, \"title\": {\"x\": 0.05}, \"xaxis\": {\"automargin\": true, \"gridcolor\": \"white\", \"linecolor\": \"white\", \"ticks\": \"\", \"title\": {\"standoff\": 15}, \"zerolinecolor\": \"white\", \"zerolinewidth\": 2}, \"yaxis\": {\"automargin\": true, \"gridcolor\": \"white\", \"linecolor\": \"white\", \"ticks\": \"\", \"title\": {\"standoff\": 15}, \"zerolinecolor\": \"white\", \"zerolinewidth\": 2}}}, \"title\": {\"font\": {\"color\": \"#351f39\", \"family\": \"Courier New\"}, \"text\": \"Top 10 Party-wise criminal records\"}, \"xaxis\": {\"anchor\": \"y\", \"categoryarray\": [\"BJP\", \"INC\", \"SHS\", \"BSP\", \"JD(U)\", \"DMK\", \"TRS\", \"YSRCP\", \"AITC\", \"LJP\"], \"categoryorder\": \"array\", \"domain\": [0.0, 1.0], \"title\": {\"text\": \"Party\"}}, \"yaxis\": {\"anchor\": \"x\", \"domain\": [0.0, 1.0], \"title\": {\"text\": \"Criminal Records\"}}},                        {\"responsive\": true}                    ).then(function(){\n",
       "                            \n",
       "var gd = document.getElementById('ea0fc568-c00e-4b06-87be-9a0fda6a6afb');\n",
       "var x = new MutationObserver(function (mutations, observer) {{\n",
       "        var display = window.getComputedStyle(gd).display;\n",
       "        if (!display || display === 'none') {{\n",
       "            console.log([gd, 'removed!']);\n",
       "            Plotly.purge(gd);\n",
       "            observer.disconnect();\n",
       "        }}\n",
       "}});\n",
       "\n",
       "// Listen for the removal of the full notebook cells\n",
       "var notebookContainer = gd.closest('#notebook-container');\n",
       "if (notebookContainer) {{\n",
       "    x.observe(notebookContainer, {childList: true});\n",
       "}}\n",
       "\n",
       "// Listen for the clearing of the current output cell\n",
       "var outputEl = gd.closest('.output');\n",
       "if (outputEl) {{\n",
       "    x.observe(outputEl, {childList: true});\n",
       "}}\n",
       "\n",
       "                        })                };                });            </script>        </div>"
      ]
     },
     "metadata": {},
     "output_type": "display_data"
    }
   ],
   "source": [
    "# Create a dataframe of criminal records\n",
    "criminal_df = pd.DataFrame(data=df_NOTA[df_NOTA['WINNER'] == 1].groupby('PARTY')['CRIMINALCASES'].sum())\n",
    "criminal_df.sort_values(by='CRIMINALCASES', ascending=False, inplace=True)\n",
    "criminal_df.reset_index(level=0, inplace=True)\n",
    "criminal_df\n",
    "\n",
    "# Visualize the criminal records\n",
    "criminal_fig = px.scatter(criminal_df[:10], \n",
    "                 x='PARTY', \n",
    "                 y='CRIMINALCASES', \n",
    "                 size='CRIMINALCASES',\n",
    "                 color='PARTY',\n",
    "                 hover_data=['CRIMINALCASES'])\n",
    "\n",
    "criminal_fig.update_layout(title_text='Top 10 Party-wise criminal records',\n",
    "                         font_family=\"Courier New\",\n",
    "                         font_color=\"#351f39\",\n",
    "                         title_font_family=\"Courier New\",\n",
    "                         title_font_color=\"#351f39\",\n",
    "                         xaxis_title=\"Party\",\n",
    "                         yaxis_title=\"Criminal Records\")\n",
    "\n",
    "criminal_fig.show()"
   ]
  },
  {
   "cell_type": "markdown",
   "metadata": {},
   "source": [
    "## 6. Preparing the data"
   ]
  },
  {
   "cell_type": "markdown",
   "metadata": {},
   "source": [
    "### 6.1 Resampling the dataset"
   ]
  },
  {
   "cell_type": "code",
   "execution_count": 156,
   "metadata": {},
   "outputs": [
    {
     "data": {
      "application/vnd.plotly.v1+json": {
       "config": {
        "plotlyServerURL": "https://plot.ly"
       },
       "data": [
        {
         "alignmentgroup": "True",
         "hovertemplate": "x=%{x}<br>Total=%{marker.color}<extra></extra>",
         "legendgroup": "",
         "marker": {
          "color": [
           1479,
           539
          ],
          "coloraxis": "coloraxis"
         },
         "name": "",
         "offsetgroup": "",
         "orientation": "v",
         "showlegend": false,
         "textposition": "auto",
         "type": "bar",
         "x": [
          "Loser",
          "Winner"
         ],
         "xaxis": "x",
         "y": [
          1479,
          539
         ],
         "yaxis": "y"
        }
       ],
       "layout": {
        "barmode": "relative",
        "coloraxis": {
         "colorbar": {
          "title": {
           "text": "Total"
          }
         },
         "colorscale": [
          [
           0,
           "rgb(236, 218, 154)"
          ],
          [
           0.16666666666666666,
           "rgb(239, 196, 126)"
          ],
          [
           0.3333333333333333,
           "rgb(243, 173, 106)"
          ],
          [
           0.5,
           "rgb(247, 148, 93)"
          ],
          [
           0.6666666666666666,
           "rgb(249, 123, 87)"
          ],
          [
           0.8333333333333334,
           "rgb(246, 99, 86)"
          ],
          [
           1,
           "rgb(238, 77, 90)"
          ]
         ]
        },
        "font": {
         "color": "#351f39",
         "family": "Courier New"
        },
        "legend": {
         "tracegroupgap": 0
        },
        "margin": {
         "t": 60
        },
        "template": {
         "data": {
          "bar": [
           {
            "error_x": {
             "color": "#2a3f5f"
            },
            "error_y": {
             "color": "#2a3f5f"
            },
            "marker": {
             "line": {
              "color": "#E5ECF6",
              "width": 0.5
             }
            },
            "type": "bar"
           }
          ],
          "barpolar": [
           {
            "marker": {
             "line": {
              "color": "#E5ECF6",
              "width": 0.5
             }
            },
            "type": "barpolar"
           }
          ],
          "carpet": [
           {
            "aaxis": {
             "endlinecolor": "#2a3f5f",
             "gridcolor": "white",
             "linecolor": "white",
             "minorgridcolor": "white",
             "startlinecolor": "#2a3f5f"
            },
            "baxis": {
             "endlinecolor": "#2a3f5f",
             "gridcolor": "white",
             "linecolor": "white",
             "minorgridcolor": "white",
             "startlinecolor": "#2a3f5f"
            },
            "type": "carpet"
           }
          ],
          "choropleth": [
           {
            "colorbar": {
             "outlinewidth": 0,
             "ticks": ""
            },
            "type": "choropleth"
           }
          ],
          "contour": [
           {
            "colorbar": {
             "outlinewidth": 0,
             "ticks": ""
            },
            "colorscale": [
             [
              0,
              "#0d0887"
             ],
             [
              0.1111111111111111,
              "#46039f"
             ],
             [
              0.2222222222222222,
              "#7201a8"
             ],
             [
              0.3333333333333333,
              "#9c179e"
             ],
             [
              0.4444444444444444,
              "#bd3786"
             ],
             [
              0.5555555555555556,
              "#d8576b"
             ],
             [
              0.6666666666666666,
              "#ed7953"
             ],
             [
              0.7777777777777778,
              "#fb9f3a"
             ],
             [
              0.8888888888888888,
              "#fdca26"
             ],
             [
              1,
              "#f0f921"
             ]
            ],
            "type": "contour"
           }
          ],
          "contourcarpet": [
           {
            "colorbar": {
             "outlinewidth": 0,
             "ticks": ""
            },
            "type": "contourcarpet"
           }
          ],
          "heatmap": [
           {
            "colorbar": {
             "outlinewidth": 0,
             "ticks": ""
            },
            "colorscale": [
             [
              0,
              "#0d0887"
             ],
             [
              0.1111111111111111,
              "#46039f"
             ],
             [
              0.2222222222222222,
              "#7201a8"
             ],
             [
              0.3333333333333333,
              "#9c179e"
             ],
             [
              0.4444444444444444,
              "#bd3786"
             ],
             [
              0.5555555555555556,
              "#d8576b"
             ],
             [
              0.6666666666666666,
              "#ed7953"
             ],
             [
              0.7777777777777778,
              "#fb9f3a"
             ],
             [
              0.8888888888888888,
              "#fdca26"
             ],
             [
              1,
              "#f0f921"
             ]
            ],
            "type": "heatmap"
           }
          ],
          "heatmapgl": [
           {
            "colorbar": {
             "outlinewidth": 0,
             "ticks": ""
            },
            "colorscale": [
             [
              0,
              "#0d0887"
             ],
             [
              0.1111111111111111,
              "#46039f"
             ],
             [
              0.2222222222222222,
              "#7201a8"
             ],
             [
              0.3333333333333333,
              "#9c179e"
             ],
             [
              0.4444444444444444,
              "#bd3786"
             ],
             [
              0.5555555555555556,
              "#d8576b"
             ],
             [
              0.6666666666666666,
              "#ed7953"
             ],
             [
              0.7777777777777778,
              "#fb9f3a"
             ],
             [
              0.8888888888888888,
              "#fdca26"
             ],
             [
              1,
              "#f0f921"
             ]
            ],
            "type": "heatmapgl"
           }
          ],
          "histogram": [
           {
            "marker": {
             "colorbar": {
              "outlinewidth": 0,
              "ticks": ""
             }
            },
            "type": "histogram"
           }
          ],
          "histogram2d": [
           {
            "colorbar": {
             "outlinewidth": 0,
             "ticks": ""
            },
            "colorscale": [
             [
              0,
              "#0d0887"
             ],
             [
              0.1111111111111111,
              "#46039f"
             ],
             [
              0.2222222222222222,
              "#7201a8"
             ],
             [
              0.3333333333333333,
              "#9c179e"
             ],
             [
              0.4444444444444444,
              "#bd3786"
             ],
             [
              0.5555555555555556,
              "#d8576b"
             ],
             [
              0.6666666666666666,
              "#ed7953"
             ],
             [
              0.7777777777777778,
              "#fb9f3a"
             ],
             [
              0.8888888888888888,
              "#fdca26"
             ],
             [
              1,
              "#f0f921"
             ]
            ],
            "type": "histogram2d"
           }
          ],
          "histogram2dcontour": [
           {
            "colorbar": {
             "outlinewidth": 0,
             "ticks": ""
            },
            "colorscale": [
             [
              0,
              "#0d0887"
             ],
             [
              0.1111111111111111,
              "#46039f"
             ],
             [
              0.2222222222222222,
              "#7201a8"
             ],
             [
              0.3333333333333333,
              "#9c179e"
             ],
             [
              0.4444444444444444,
              "#bd3786"
             ],
             [
              0.5555555555555556,
              "#d8576b"
             ],
             [
              0.6666666666666666,
              "#ed7953"
             ],
             [
              0.7777777777777778,
              "#fb9f3a"
             ],
             [
              0.8888888888888888,
              "#fdca26"
             ],
             [
              1,
              "#f0f921"
             ]
            ],
            "type": "histogram2dcontour"
           }
          ],
          "mesh3d": [
           {
            "colorbar": {
             "outlinewidth": 0,
             "ticks": ""
            },
            "type": "mesh3d"
           }
          ],
          "parcoords": [
           {
            "line": {
             "colorbar": {
              "outlinewidth": 0,
              "ticks": ""
             }
            },
            "type": "parcoords"
           }
          ],
          "pie": [
           {
            "automargin": true,
            "type": "pie"
           }
          ],
          "scatter": [
           {
            "marker": {
             "colorbar": {
              "outlinewidth": 0,
              "ticks": ""
             }
            },
            "type": "scatter"
           }
          ],
          "scatter3d": [
           {
            "line": {
             "colorbar": {
              "outlinewidth": 0,
              "ticks": ""
             }
            },
            "marker": {
             "colorbar": {
              "outlinewidth": 0,
              "ticks": ""
             }
            },
            "type": "scatter3d"
           }
          ],
          "scattercarpet": [
           {
            "marker": {
             "colorbar": {
              "outlinewidth": 0,
              "ticks": ""
             }
            },
            "type": "scattercarpet"
           }
          ],
          "scattergeo": [
           {
            "marker": {
             "colorbar": {
              "outlinewidth": 0,
              "ticks": ""
             }
            },
            "type": "scattergeo"
           }
          ],
          "scattergl": [
           {
            "marker": {
             "colorbar": {
              "outlinewidth": 0,
              "ticks": ""
             }
            },
            "type": "scattergl"
           }
          ],
          "scattermapbox": [
           {
            "marker": {
             "colorbar": {
              "outlinewidth": 0,
              "ticks": ""
             }
            },
            "type": "scattermapbox"
           }
          ],
          "scatterpolar": [
           {
            "marker": {
             "colorbar": {
              "outlinewidth": 0,
              "ticks": ""
             }
            },
            "type": "scatterpolar"
           }
          ],
          "scatterpolargl": [
           {
            "marker": {
             "colorbar": {
              "outlinewidth": 0,
              "ticks": ""
             }
            },
            "type": "scatterpolargl"
           }
          ],
          "scatterternary": [
           {
            "marker": {
             "colorbar": {
              "outlinewidth": 0,
              "ticks": ""
             }
            },
            "type": "scatterternary"
           }
          ],
          "surface": [
           {
            "colorbar": {
             "outlinewidth": 0,
             "ticks": ""
            },
            "colorscale": [
             [
              0,
              "#0d0887"
             ],
             [
              0.1111111111111111,
              "#46039f"
             ],
             [
              0.2222222222222222,
              "#7201a8"
             ],
             [
              0.3333333333333333,
              "#9c179e"
             ],
             [
              0.4444444444444444,
              "#bd3786"
             ],
             [
              0.5555555555555556,
              "#d8576b"
             ],
             [
              0.6666666666666666,
              "#ed7953"
             ],
             [
              0.7777777777777778,
              "#fb9f3a"
             ],
             [
              0.8888888888888888,
              "#fdca26"
             ],
             [
              1,
              "#f0f921"
             ]
            ],
            "type": "surface"
           }
          ],
          "table": [
           {
            "cells": {
             "fill": {
              "color": "#EBF0F8"
             },
             "line": {
              "color": "white"
             }
            },
            "header": {
             "fill": {
              "color": "#C8D4E3"
             },
             "line": {
              "color": "white"
             }
            },
            "type": "table"
           }
          ]
         },
         "layout": {
          "annotationdefaults": {
           "arrowcolor": "#2a3f5f",
           "arrowhead": 0,
           "arrowwidth": 1
          },
          "coloraxis": {
           "colorbar": {
            "outlinewidth": 0,
            "ticks": ""
           }
          },
          "colorscale": {
           "diverging": [
            [
             0,
             "#8e0152"
            ],
            [
             0.1,
             "#c51b7d"
            ],
            [
             0.2,
             "#de77ae"
            ],
            [
             0.3,
             "#f1b6da"
            ],
            [
             0.4,
             "#fde0ef"
            ],
            [
             0.5,
             "#f7f7f7"
            ],
            [
             0.6,
             "#e6f5d0"
            ],
            [
             0.7,
             "#b8e186"
            ],
            [
             0.8,
             "#7fbc41"
            ],
            [
             0.9,
             "#4d9221"
            ],
            [
             1,
             "#276419"
            ]
           ],
           "sequential": [
            [
             0,
             "#0d0887"
            ],
            [
             0.1111111111111111,
             "#46039f"
            ],
            [
             0.2222222222222222,
             "#7201a8"
            ],
            [
             0.3333333333333333,
             "#9c179e"
            ],
            [
             0.4444444444444444,
             "#bd3786"
            ],
            [
             0.5555555555555556,
             "#d8576b"
            ],
            [
             0.6666666666666666,
             "#ed7953"
            ],
            [
             0.7777777777777778,
             "#fb9f3a"
            ],
            [
             0.8888888888888888,
             "#fdca26"
            ],
            [
             1,
             "#f0f921"
            ]
           ],
           "sequentialminus": [
            [
             0,
             "#0d0887"
            ],
            [
             0.1111111111111111,
             "#46039f"
            ],
            [
             0.2222222222222222,
             "#7201a8"
            ],
            [
             0.3333333333333333,
             "#9c179e"
            ],
            [
             0.4444444444444444,
             "#bd3786"
            ],
            [
             0.5555555555555556,
             "#d8576b"
            ],
            [
             0.6666666666666666,
             "#ed7953"
            ],
            [
             0.7777777777777778,
             "#fb9f3a"
            ],
            [
             0.8888888888888888,
             "#fdca26"
            ],
            [
             1,
             "#f0f921"
            ]
           ]
          },
          "colorway": [
           "#636efa",
           "#EF553B",
           "#00cc96",
           "#ab63fa",
           "#FFA15A",
           "#19d3f3",
           "#FF6692",
           "#B6E880",
           "#FF97FF",
           "#FECB52"
          ],
          "font": {
           "color": "#2a3f5f"
          },
          "geo": {
           "bgcolor": "white",
           "lakecolor": "white",
           "landcolor": "#E5ECF6",
           "showlakes": true,
           "showland": true,
           "subunitcolor": "white"
          },
          "hoverlabel": {
           "align": "left"
          },
          "hovermode": "closest",
          "mapbox": {
           "style": "light"
          },
          "paper_bgcolor": "white",
          "plot_bgcolor": "#E5ECF6",
          "polar": {
           "angularaxis": {
            "gridcolor": "white",
            "linecolor": "white",
            "ticks": ""
           },
           "bgcolor": "#E5ECF6",
           "radialaxis": {
            "gridcolor": "white",
            "linecolor": "white",
            "ticks": ""
           }
          },
          "scene": {
           "xaxis": {
            "backgroundcolor": "#E5ECF6",
            "gridcolor": "white",
            "gridwidth": 2,
            "linecolor": "white",
            "showbackground": true,
            "ticks": "",
            "zerolinecolor": "white"
           },
           "yaxis": {
            "backgroundcolor": "#E5ECF6",
            "gridcolor": "white",
            "gridwidth": 2,
            "linecolor": "white",
            "showbackground": true,
            "ticks": "",
            "zerolinecolor": "white"
           },
           "zaxis": {
            "backgroundcolor": "#E5ECF6",
            "gridcolor": "white",
            "gridwidth": 2,
            "linecolor": "white",
            "showbackground": true,
            "ticks": "",
            "zerolinecolor": "white"
           }
          },
          "shapedefaults": {
           "line": {
            "color": "#2a3f5f"
           }
          },
          "ternary": {
           "aaxis": {
            "gridcolor": "white",
            "linecolor": "white",
            "ticks": ""
           },
           "baxis": {
            "gridcolor": "white",
            "linecolor": "white",
            "ticks": ""
           },
           "bgcolor": "#E5ECF6",
           "caxis": {
            "gridcolor": "white",
            "linecolor": "white",
            "ticks": ""
           }
          },
          "title": {
           "x": 0.05
          },
          "xaxis": {
           "automargin": true,
           "gridcolor": "white",
           "linecolor": "white",
           "ticks": "",
           "title": {
            "standoff": 15
           },
           "zerolinecolor": "white",
           "zerolinewidth": 2
          },
          "yaxis": {
           "automargin": true,
           "gridcolor": "white",
           "linecolor": "white",
           "ticks": "",
           "title": {
            "standoff": 15
           },
           "zerolinecolor": "white",
           "zerolinewidth": 2
          }
         }
        },
        "title": {
         "font": {
          "color": "#351f39",
          "family": "Courier New"
         },
         "text": "Winners vs Losers"
        },
        "xaxis": {
         "anchor": "y",
         "domain": [
          0,
          1
         ],
         "title": {
          "text": "Result"
         }
        },
        "yaxis": {
         "anchor": "x",
         "domain": [
          0,
          1
         ],
         "title": {
          "text": "Total"
         }
        }
       }
      },
      "text/html": [
       "<div>                            <div id=\"61969982-2912-4990-a4aa-f4a8cb2d85db\" class=\"plotly-graph-div\" style=\"height:525px; width:100%;\"></div>            <script type=\"text/javascript\">                require([\"plotly\"], function(Plotly) {                    window.PLOTLYENV=window.PLOTLYENV || {};                                    if (document.getElementById(\"61969982-2912-4990-a4aa-f4a8cb2d85db\")) {                    Plotly.newPlot(                        \"61969982-2912-4990-a4aa-f4a8cb2d85db\",                        [{\"alignmentgroup\": \"True\", \"hovertemplate\": \"x=%{x}<br>Total=%{marker.color}<extra></extra>\", \"legendgroup\": \"\", \"marker\": {\"color\": [1479, 539], \"coloraxis\": \"coloraxis\"}, \"name\": \"\", \"offsetgroup\": \"\", \"orientation\": \"v\", \"showlegend\": false, \"textposition\": \"auto\", \"type\": \"bar\", \"x\": [\"Loser\", \"Winner\"], \"xaxis\": \"x\", \"y\": [1479, 539], \"yaxis\": \"y\"}],                        {\"barmode\": \"relative\", \"coloraxis\": {\"colorbar\": {\"title\": {\"text\": \"Total\"}}, \"colorscale\": [[0.0, \"rgb(236, 218, 154)\"], [0.16666666666666666, \"rgb(239, 196, 126)\"], [0.3333333333333333, \"rgb(243, 173, 106)\"], [0.5, \"rgb(247, 148, 93)\"], [0.6666666666666666, \"rgb(249, 123, 87)\"], [0.8333333333333334, \"rgb(246, 99, 86)\"], [1.0, \"rgb(238, 77, 90)\"]]}, \"font\": {\"color\": \"#351f39\", \"family\": \"Courier New\"}, \"legend\": {\"tracegroupgap\": 0}, \"margin\": {\"t\": 60}, \"template\": {\"data\": {\"bar\": [{\"error_x\": {\"color\": \"#2a3f5f\"}, \"error_y\": {\"color\": \"#2a3f5f\"}, \"marker\": {\"line\": {\"color\": \"#E5ECF6\", \"width\": 0.5}}, \"type\": \"bar\"}], \"barpolar\": [{\"marker\": {\"line\": {\"color\": \"#E5ECF6\", \"width\": 0.5}}, \"type\": \"barpolar\"}], \"carpet\": [{\"aaxis\": {\"endlinecolor\": \"#2a3f5f\", \"gridcolor\": \"white\", \"linecolor\": \"white\", \"minorgridcolor\": \"white\", \"startlinecolor\": \"#2a3f5f\"}, \"baxis\": {\"endlinecolor\": \"#2a3f5f\", \"gridcolor\": \"white\", \"linecolor\": \"white\", \"minorgridcolor\": \"white\", \"startlinecolor\": \"#2a3f5f\"}, \"type\": \"carpet\"}], \"choropleth\": [{\"colorbar\": {\"outlinewidth\": 0, \"ticks\": \"\"}, \"type\": \"choropleth\"}], \"contour\": [{\"colorbar\": {\"outlinewidth\": 0, \"ticks\": \"\"}, \"colorscale\": [[0.0, \"#0d0887\"], [0.1111111111111111, \"#46039f\"], [0.2222222222222222, \"#7201a8\"], [0.3333333333333333, \"#9c179e\"], [0.4444444444444444, \"#bd3786\"], [0.5555555555555556, \"#d8576b\"], [0.6666666666666666, \"#ed7953\"], [0.7777777777777778, \"#fb9f3a\"], [0.8888888888888888, \"#fdca26\"], [1.0, \"#f0f921\"]], \"type\": \"contour\"}], \"contourcarpet\": [{\"colorbar\": {\"outlinewidth\": 0, \"ticks\": \"\"}, \"type\": \"contourcarpet\"}], \"heatmap\": [{\"colorbar\": {\"outlinewidth\": 0, \"ticks\": \"\"}, \"colorscale\": [[0.0, \"#0d0887\"], [0.1111111111111111, \"#46039f\"], [0.2222222222222222, \"#7201a8\"], [0.3333333333333333, \"#9c179e\"], [0.4444444444444444, \"#bd3786\"], [0.5555555555555556, \"#d8576b\"], [0.6666666666666666, \"#ed7953\"], [0.7777777777777778, \"#fb9f3a\"], [0.8888888888888888, \"#fdca26\"], [1.0, \"#f0f921\"]], \"type\": \"heatmap\"}], \"heatmapgl\": [{\"colorbar\": {\"outlinewidth\": 0, \"ticks\": \"\"}, \"colorscale\": [[0.0, \"#0d0887\"], [0.1111111111111111, \"#46039f\"], [0.2222222222222222, \"#7201a8\"], [0.3333333333333333, \"#9c179e\"], [0.4444444444444444, \"#bd3786\"], [0.5555555555555556, \"#d8576b\"], [0.6666666666666666, \"#ed7953\"], [0.7777777777777778, \"#fb9f3a\"], [0.8888888888888888, \"#fdca26\"], [1.0, \"#f0f921\"]], \"type\": \"heatmapgl\"}], \"histogram\": [{\"marker\": {\"colorbar\": {\"outlinewidth\": 0, \"ticks\": \"\"}}, \"type\": \"histogram\"}], \"histogram2d\": [{\"colorbar\": {\"outlinewidth\": 0, \"ticks\": \"\"}, \"colorscale\": [[0.0, \"#0d0887\"], [0.1111111111111111, \"#46039f\"], [0.2222222222222222, \"#7201a8\"], [0.3333333333333333, \"#9c179e\"], [0.4444444444444444, \"#bd3786\"], [0.5555555555555556, \"#d8576b\"], [0.6666666666666666, \"#ed7953\"], [0.7777777777777778, \"#fb9f3a\"], [0.8888888888888888, \"#fdca26\"], [1.0, \"#f0f921\"]], \"type\": \"histogram2d\"}], \"histogram2dcontour\": [{\"colorbar\": {\"outlinewidth\": 0, \"ticks\": \"\"}, \"colorscale\": [[0.0, \"#0d0887\"], [0.1111111111111111, \"#46039f\"], [0.2222222222222222, \"#7201a8\"], [0.3333333333333333, \"#9c179e\"], [0.4444444444444444, \"#bd3786\"], [0.5555555555555556, \"#d8576b\"], [0.6666666666666666, \"#ed7953\"], [0.7777777777777778, \"#fb9f3a\"], [0.8888888888888888, \"#fdca26\"], [1.0, \"#f0f921\"]], \"type\": \"histogram2dcontour\"}], \"mesh3d\": [{\"colorbar\": {\"outlinewidth\": 0, \"ticks\": \"\"}, \"type\": \"mesh3d\"}], \"parcoords\": [{\"line\": {\"colorbar\": {\"outlinewidth\": 0, \"ticks\": \"\"}}, \"type\": \"parcoords\"}], \"pie\": [{\"automargin\": true, \"type\": \"pie\"}], \"scatter\": [{\"marker\": {\"colorbar\": {\"outlinewidth\": 0, \"ticks\": \"\"}}, \"type\": \"scatter\"}], \"scatter3d\": [{\"line\": {\"colorbar\": {\"outlinewidth\": 0, \"ticks\": \"\"}}, \"marker\": {\"colorbar\": {\"outlinewidth\": 0, \"ticks\": \"\"}}, \"type\": \"scatter3d\"}], \"scattercarpet\": [{\"marker\": {\"colorbar\": {\"outlinewidth\": 0, \"ticks\": \"\"}}, \"type\": \"scattercarpet\"}], \"scattergeo\": [{\"marker\": {\"colorbar\": {\"outlinewidth\": 0, \"ticks\": \"\"}}, \"type\": \"scattergeo\"}], \"scattergl\": [{\"marker\": {\"colorbar\": {\"outlinewidth\": 0, \"ticks\": \"\"}}, \"type\": \"scattergl\"}], \"scattermapbox\": [{\"marker\": {\"colorbar\": {\"outlinewidth\": 0, \"ticks\": \"\"}}, \"type\": \"scattermapbox\"}], \"scatterpolar\": [{\"marker\": {\"colorbar\": {\"outlinewidth\": 0, \"ticks\": \"\"}}, \"type\": \"scatterpolar\"}], \"scatterpolargl\": [{\"marker\": {\"colorbar\": {\"outlinewidth\": 0, \"ticks\": \"\"}}, \"type\": \"scatterpolargl\"}], \"scatterternary\": [{\"marker\": {\"colorbar\": {\"outlinewidth\": 0, \"ticks\": \"\"}}, \"type\": \"scatterternary\"}], \"surface\": [{\"colorbar\": {\"outlinewidth\": 0, \"ticks\": \"\"}, \"colorscale\": [[0.0, \"#0d0887\"], [0.1111111111111111, \"#46039f\"], [0.2222222222222222, \"#7201a8\"], [0.3333333333333333, \"#9c179e\"], [0.4444444444444444, \"#bd3786\"], [0.5555555555555556, \"#d8576b\"], [0.6666666666666666, \"#ed7953\"], [0.7777777777777778, \"#fb9f3a\"], [0.8888888888888888, \"#fdca26\"], [1.0, \"#f0f921\"]], \"type\": \"surface\"}], \"table\": [{\"cells\": {\"fill\": {\"color\": \"#EBF0F8\"}, \"line\": {\"color\": \"white\"}}, \"header\": {\"fill\": {\"color\": \"#C8D4E3\"}, \"line\": {\"color\": \"white\"}}, \"type\": \"table\"}]}, \"layout\": {\"annotationdefaults\": {\"arrowcolor\": \"#2a3f5f\", \"arrowhead\": 0, \"arrowwidth\": 1}, \"coloraxis\": {\"colorbar\": {\"outlinewidth\": 0, \"ticks\": \"\"}}, \"colorscale\": {\"diverging\": [[0, \"#8e0152\"], [0.1, \"#c51b7d\"], [0.2, \"#de77ae\"], [0.3, \"#f1b6da\"], [0.4, \"#fde0ef\"], [0.5, \"#f7f7f7\"], [0.6, \"#e6f5d0\"], [0.7, \"#b8e186\"], [0.8, \"#7fbc41\"], [0.9, \"#4d9221\"], [1, \"#276419\"]], \"sequential\": [[0.0, \"#0d0887\"], [0.1111111111111111, \"#46039f\"], [0.2222222222222222, \"#7201a8\"], [0.3333333333333333, \"#9c179e\"], [0.4444444444444444, \"#bd3786\"], [0.5555555555555556, \"#d8576b\"], [0.6666666666666666, \"#ed7953\"], [0.7777777777777778, \"#fb9f3a\"], [0.8888888888888888, \"#fdca26\"], [1.0, \"#f0f921\"]], \"sequentialminus\": [[0.0, \"#0d0887\"], [0.1111111111111111, \"#46039f\"], [0.2222222222222222, \"#7201a8\"], [0.3333333333333333, \"#9c179e\"], [0.4444444444444444, \"#bd3786\"], [0.5555555555555556, \"#d8576b\"], [0.6666666666666666, \"#ed7953\"], [0.7777777777777778, \"#fb9f3a\"], [0.8888888888888888, \"#fdca26\"], [1.0, \"#f0f921\"]]}, \"colorway\": [\"#636efa\", \"#EF553B\", \"#00cc96\", \"#ab63fa\", \"#FFA15A\", \"#19d3f3\", \"#FF6692\", \"#B6E880\", \"#FF97FF\", \"#FECB52\"], \"font\": {\"color\": \"#2a3f5f\"}, \"geo\": {\"bgcolor\": \"white\", \"lakecolor\": \"white\", \"landcolor\": \"#E5ECF6\", \"showlakes\": true, \"showland\": true, \"subunitcolor\": \"white\"}, \"hoverlabel\": {\"align\": \"left\"}, \"hovermode\": \"closest\", \"mapbox\": {\"style\": \"light\"}, \"paper_bgcolor\": \"white\", \"plot_bgcolor\": \"#E5ECF6\", \"polar\": {\"angularaxis\": {\"gridcolor\": \"white\", \"linecolor\": \"white\", \"ticks\": \"\"}, \"bgcolor\": \"#E5ECF6\", \"radialaxis\": {\"gridcolor\": \"white\", \"linecolor\": \"white\", \"ticks\": \"\"}}, \"scene\": {\"xaxis\": {\"backgroundcolor\": \"#E5ECF6\", \"gridcolor\": \"white\", \"gridwidth\": 2, \"linecolor\": \"white\", \"showbackground\": true, \"ticks\": \"\", \"zerolinecolor\": \"white\"}, \"yaxis\": {\"backgroundcolor\": \"#E5ECF6\", \"gridcolor\": \"white\", \"gridwidth\": 2, \"linecolor\": \"white\", \"showbackground\": true, \"ticks\": \"\", \"zerolinecolor\": \"white\"}, \"zaxis\": {\"backgroundcolor\": \"#E5ECF6\", \"gridcolor\": \"white\", \"gridwidth\": 2, \"linecolor\": \"white\", \"showbackground\": true, \"ticks\": \"\", \"zerolinecolor\": \"white\"}}, \"shapedefaults\": {\"line\": {\"color\": \"#2a3f5f\"}}, \"ternary\": {\"aaxis\": {\"gridcolor\": \"white\", \"linecolor\": \"white\", \"ticks\": \"\"}, \"baxis\": {\"gridcolor\": \"white\", \"linecolor\": \"white\", \"ticks\": \"\"}, \"bgcolor\": \"#E5ECF6\", \"caxis\": {\"gridcolor\": \"white\", \"linecolor\": \"white\", \"ticks\": \"\"}}, \"title\": {\"x\": 0.05}, \"xaxis\": {\"automargin\": true, \"gridcolor\": \"white\", \"linecolor\": \"white\", \"ticks\": \"\", \"title\": {\"standoff\": 15}, \"zerolinecolor\": \"white\", \"zerolinewidth\": 2}, \"yaxis\": {\"automargin\": true, \"gridcolor\": \"white\", \"linecolor\": \"white\", \"ticks\": \"\", \"title\": {\"standoff\": 15}, \"zerolinecolor\": \"white\", \"zerolinewidth\": 2}}}, \"title\": {\"font\": {\"color\": \"#351f39\", \"family\": \"Courier New\"}, \"text\": \"Winners vs Losers\"}, \"xaxis\": {\"anchor\": \"y\", \"domain\": [0.0, 1.0], \"title\": {\"text\": \"Result\"}}, \"yaxis\": {\"anchor\": \"x\", \"domain\": [0.0, 1.0], \"title\": {\"text\": \"Total\"}}},                        {\"responsive\": true}                    ).then(function(){\n",
       "                            \n",
       "var gd = document.getElementById('61969982-2912-4990-a4aa-f4a8cb2d85db');\n",
       "var x = new MutationObserver(function (mutations, observer) {{\n",
       "        var display = window.getComputedStyle(gd).display;\n",
       "        if (!display || display === 'none') {{\n",
       "            console.log([gd, 'removed!']);\n",
       "            Plotly.purge(gd);\n",
       "            observer.disconnect();\n",
       "        }}\n",
       "}});\n",
       "\n",
       "// Listen for the removal of the full notebook cells\n",
       "var notebookContainer = gd.closest('#notebook-container');\n",
       "if (notebookContainer) {{\n",
       "    x.observe(notebookContainer, {childList: true});\n",
       "}}\n",
       "\n",
       "// Listen for the clearing of the current output cell\n",
       "var outputEl = gd.closest('.output');\n",
       "if (outputEl) {{\n",
       "    x.observe(outputEl, {childList: true});\n",
       "}}\n",
       "\n",
       "                        })                };                });            </script>        </div>"
      ]
     },
     "metadata": {},
     "output_type": "display_data"
    }
   ],
   "source": [
    "# Creating a dataframe of total counts of the winners and losers\n",
    "total_winner = df_NOTA[df_NOTA['WINNER'] == 1]\n",
    "total_loser = df_NOTA[df_NOTA['WINNER'] == 0]\n",
    "total_results = df_NOTA['WINNER'].value_counts().reset_index()\n",
    "total_results.columns = ['Result', 'Total']\n",
    "\n",
    "# Visualize the counts of total winners and losers\n",
    "total_results_fig = px.bar(total_results, \n",
    "                           x=[\"Loser\", \"Winner\"], \n",
    "                           y=total_results['Total'], \n",
    "                           color='Total',\n",
    "                           color_continuous_scale='Oryel')\n",
    "\n",
    "total_results_fig.update_layout(title_text='Winners vs Losers',\n",
    "                                xaxis_title=\"Result\",\n",
    "                                yaxis_title=\"Total\")\n",
    "\n",
    "total_results_fig.update_layout(font_family=\"Courier New\",\n",
    "                                font_color=\"#351f39\",\n",
    "                                title_font_family=\"Courier New\",\n",
    "                                title_font_color=\"#351f39\")\n",
    "\n",
    "total_results_fig.show()"
   ]
  },
  {
   "cell_type": "markdown",
   "metadata": {},
   "source": [
    "The chart above clearly demonstrates an imbalance in Loser and Winner classes."
   ]
  },
  {
   "cell_type": "code",
   "execution_count": 157,
   "metadata": {},
   "outputs": [
    {
     "name": "stdout",
     "output_type": "stream",
     "text": [
      "539 1479\n"
     ]
    }
   ],
   "source": [
    "print(len(total_winner), len(total_loser))"
   ]
  },
  {
   "cell_type": "code",
   "execution_count": 158,
   "metadata": {},
   "outputs": [
    {
     "name": "stdout",
     "output_type": "stream",
     "text": [
      "1479 1479\n"
     ]
    }
   ],
   "source": [
    "# Upsampling the data to match both the classes\n",
    "df_winner_upsample = resample(total_winner, replace=True, n_samples = 1479, random_state=42)\n",
    "print(len(df_winner_upsample), len(total_loser))"
   ]
  },
  {
   "cell_type": "code",
   "execution_count": 197,
   "metadata": {},
   "outputs": [
    {
     "data": {
      "text/html": [
       "<div>\n",
       "<style scoped>\n",
       "    .dataframe tbody tr th:only-of-type {\n",
       "        vertical-align: middle;\n",
       "    }\n",
       "\n",
       "    .dataframe tbody tr th {\n",
       "        vertical-align: top;\n",
       "    }\n",
       "\n",
       "    .dataframe thead th {\n",
       "        text-align: right;\n",
       "    }\n",
       "</style>\n",
       "<table border=\"1\" class=\"dataframe\">\n",
       "  <thead>\n",
       "    <tr style=\"text-align: right;\">\n",
       "      <th></th>\n",
       "      <th>STATE</th>\n",
       "      <th>CONSTITUENCY</th>\n",
       "      <th>NAME</th>\n",
       "      <th>WINNER</th>\n",
       "      <th>PARTY</th>\n",
       "      <th>GENDER</th>\n",
       "      <th>CRIMINALCASES</th>\n",
       "      <th>AGE</th>\n",
       "      <th>CATEGORY</th>\n",
       "      <th>EDUCATION</th>\n",
       "      <th>GENERALVOTES</th>\n",
       "      <th>POSTALVOTES</th>\n",
       "      <th>TOTALVOTES</th>\n",
       "      <th>OVER TOTAL ELECTORS IN CONSTITUENCY</th>\n",
       "      <th>OVER TOTAL VOTES POLLED IN CONSTITUENCY</th>\n",
       "      <th>TOTAL ELECTORS</th>\n",
       "      <th>Party New</th>\n",
       "    </tr>\n",
       "  </thead>\n",
       "  <tbody>\n",
       "    <tr>\n",
       "      <th>1</th>\n",
       "      <td>Telangana</td>\n",
       "      <td>ADILABAD</td>\n",
       "      <td>Godam Nagesh</td>\n",
       "      <td>0</td>\n",
       "      <td>TRS</td>\n",
       "      <td>MALE</td>\n",
       "      <td>0</td>\n",
       "      <td>54</td>\n",
       "      <td>ST</td>\n",
       "      <td>Post Graduate</td>\n",
       "      <td>318665</td>\n",
       "      <td>149</td>\n",
       "      <td>318814</td>\n",
       "      <td>21.399929</td>\n",
       "      <td>29.964370</td>\n",
       "      <td>1489790</td>\n",
       "      <td>Other</td>\n",
       "    </tr>\n",
       "    <tr>\n",
       "      <th>2</th>\n",
       "      <td>Telangana</td>\n",
       "      <td>ADILABAD</td>\n",
       "      <td>RATHOD RAMESH</td>\n",
       "      <td>0</td>\n",
       "      <td>INC</td>\n",
       "      <td>MALE</td>\n",
       "      <td>3</td>\n",
       "      <td>52</td>\n",
       "      <td>ST</td>\n",
       "      <td>12th Pass</td>\n",
       "      <td>314057</td>\n",
       "      <td>181</td>\n",
       "      <td>314238</td>\n",
       "      <td>21.092771</td>\n",
       "      <td>29.534285</td>\n",
       "      <td>1489790</td>\n",
       "      <td>INC</td>\n",
       "    </tr>\n",
       "    <tr>\n",
       "      <th>5</th>\n",
       "      <td>Uttar Pradesh</td>\n",
       "      <td>AGRA</td>\n",
       "      <td>Manoj Kumar Soni</td>\n",
       "      <td>0</td>\n",
       "      <td>BSP</td>\n",
       "      <td>MALE</td>\n",
       "      <td>0</td>\n",
       "      <td>47</td>\n",
       "      <td>SC</td>\n",
       "      <td>Post Graduate</td>\n",
       "      <td>434199</td>\n",
       "      <td>1130</td>\n",
       "      <td>435329</td>\n",
       "      <td>22.466390</td>\n",
       "      <td>37.999125</td>\n",
       "      <td>1937690</td>\n",
       "      <td>BSP</td>\n",
       "    </tr>\n",
       "    <tr>\n",
       "      <th>6</th>\n",
       "      <td>Uttar Pradesh</td>\n",
       "      <td>AGRA</td>\n",
       "      <td>Preeta Harit</td>\n",
       "      <td>0</td>\n",
       "      <td>INC</td>\n",
       "      <td>FEMALE</td>\n",
       "      <td>0</td>\n",
       "      <td>54</td>\n",
       "      <td>SC</td>\n",
       "      <td>Post Graduate</td>\n",
       "      <td>44877</td>\n",
       "      <td>272</td>\n",
       "      <td>45149</td>\n",
       "      <td>2.330042</td>\n",
       "      <td>3.940979</td>\n",
       "      <td>1937690</td>\n",
       "      <td>INC</td>\n",
       "    </tr>\n",
       "    <tr>\n",
       "      <th>8</th>\n",
       "      <td>Maharashtra</td>\n",
       "      <td>AHMADNAGAR</td>\n",
       "      <td>SANGRAM ARUNKAKA JAGTAP</td>\n",
       "      <td>0</td>\n",
       "      <td>NCP</td>\n",
       "      <td>MALE</td>\n",
       "      <td>1</td>\n",
       "      <td>34</td>\n",
       "      <td>GENERAL</td>\n",
       "      <td>Graduate</td>\n",
       "      <td>419364</td>\n",
       "      <td>3822</td>\n",
       "      <td>423186</td>\n",
       "      <td>22.734872</td>\n",
       "      <td>35.087431</td>\n",
       "      <td>1861396</td>\n",
       "      <td>Other</td>\n",
       "    </tr>\n",
       "    <tr>\n",
       "      <th>...</th>\n",
       "      <td>...</td>\n",
       "      <td>...</td>\n",
       "      <td>...</td>\n",
       "      <td>...</td>\n",
       "      <td>...</td>\n",
       "      <td>...</td>\n",
       "      <td>...</td>\n",
       "      <td>...</td>\n",
       "      <td>...</td>\n",
       "      <td>...</td>\n",
       "      <td>...</td>\n",
       "      <td>...</td>\n",
       "      <td>...</td>\n",
       "      <td>...</td>\n",
       "      <td>...</td>\n",
       "      <td>...</td>\n",
       "      <td>...</td>\n",
       "    </tr>\n",
       "    <tr>\n",
       "      <th>0</th>\n",
       "      <td>Telangana</td>\n",
       "      <td>ADILABAD</td>\n",
       "      <td>SOYAM BAPU RAO</td>\n",
       "      <td>1</td>\n",
       "      <td>BJP</td>\n",
       "      <td>MALE</td>\n",
       "      <td>52</td>\n",
       "      <td>52</td>\n",
       "      <td>ST</td>\n",
       "      <td>12th Pass</td>\n",
       "      <td>376892</td>\n",
       "      <td>482</td>\n",
       "      <td>377374</td>\n",
       "      <td>25.330684</td>\n",
       "      <td>35.468248</td>\n",
       "      <td>1489790</td>\n",
       "      <td>BJP</td>\n",
       "    </tr>\n",
       "    <tr>\n",
       "      <th>485</th>\n",
       "      <td>NCT OF Delhi</td>\n",
       "      <td>CHANDNI CHOWK</td>\n",
       "      <td>HARSH VARDHAN</td>\n",
       "      <td>1</td>\n",
       "      <td>BJP</td>\n",
       "      <td>MALE</td>\n",
       "      <td>0</td>\n",
       "      <td>64</td>\n",
       "      <td>GENERAL</td>\n",
       "      <td>Post Graduate</td>\n",
       "      <td>517939</td>\n",
       "      <td>1116</td>\n",
       "      <td>519055</td>\n",
       "      <td>33.224134</td>\n",
       "      <td>52.920839</td>\n",
       "      <td>1562283</td>\n",
       "      <td>BJP</td>\n",
       "    </tr>\n",
       "    <tr>\n",
       "      <th>133</th>\n",
       "      <td>Bihar</td>\n",
       "      <td>ARRAH</td>\n",
       "      <td>R. K. Singh</td>\n",
       "      <td>1</td>\n",
       "      <td>BJP</td>\n",
       "      <td>MALE</td>\n",
       "      <td>1</td>\n",
       "      <td>66</td>\n",
       "      <td>GENERAL</td>\n",
       "      <td>Graduate</td>\n",
       "      <td>560106</td>\n",
       "      <td>6374</td>\n",
       "      <td>566480</td>\n",
       "      <td>27.112699</td>\n",
       "      <td>52.332456</td>\n",
       "      <td>2089353</td>\n",
       "      <td>BJP</td>\n",
       "    </tr>\n",
       "    <tr>\n",
       "      <th>818</th>\n",
       "      <td>Andhra Pradesh</td>\n",
       "      <td>GUNTUR</td>\n",
       "      <td>Jayadev Galla</td>\n",
       "      <td>1</td>\n",
       "      <td>TDP</td>\n",
       "      <td>MALE</td>\n",
       "      <td>0</td>\n",
       "      <td>53</td>\n",
       "      <td>GENERAL</td>\n",
       "      <td>Graduate</td>\n",
       "      <td>586292</td>\n",
       "      <td>1626</td>\n",
       "      <td>587918</td>\n",
       "      <td>34.459378</td>\n",
       "      <td>43.500278</td>\n",
       "      <td>1706119</td>\n",
       "      <td>Other</td>\n",
       "    </tr>\n",
       "    <tr>\n",
       "      <th>2006</th>\n",
       "      <td>Jammu &amp; Kashmir</td>\n",
       "      <td>SRINAGAR</td>\n",
       "      <td>Farooq Abdullah</td>\n",
       "      <td>1</td>\n",
       "      <td>JKN</td>\n",
       "      <td>MALE</td>\n",
       "      <td>1</td>\n",
       "      <td>83</td>\n",
       "      <td>GENERAL</td>\n",
       "      <td>Graduate</td>\n",
       "      <td>106596</td>\n",
       "      <td>154</td>\n",
       "      <td>106750</td>\n",
       "      <td>8.245338</td>\n",
       "      <td>57.127414</td>\n",
       "      <td>1294671</td>\n",
       "      <td>Other</td>\n",
       "    </tr>\n",
       "  </tbody>\n",
       "</table>\n",
       "<p>2958 rows × 17 columns</p>\n",
       "</div>"
      ],
      "text/plain": [
       "                STATE   CONSTITUENCY                     NAME  WINNER PARTY  \\\n",
       "1           Telangana       ADILABAD             Godam Nagesh       0   TRS   \n",
       "2           Telangana       ADILABAD            RATHOD RAMESH       0   INC   \n",
       "5       Uttar Pradesh           AGRA         Manoj Kumar Soni       0   BSP   \n",
       "6       Uttar Pradesh           AGRA             Preeta Harit       0   INC   \n",
       "8         Maharashtra     AHMADNAGAR  SANGRAM ARUNKAKA JAGTAP       0   NCP   \n",
       "...               ...            ...                      ...     ...   ...   \n",
       "0           Telangana       ADILABAD           SOYAM BAPU RAO       1   BJP   \n",
       "485      NCT OF Delhi  CHANDNI CHOWK            HARSH VARDHAN       1   BJP   \n",
       "133             Bihar          ARRAH              R. K. Singh       1   BJP   \n",
       "818    Andhra Pradesh         GUNTUR            Jayadev Galla       1   TDP   \n",
       "2006  Jammu & Kashmir       SRINAGAR          Farooq Abdullah       1   JKN   \n",
       "\n",
       "      GENDER  CRIMINALCASES  AGE CATEGORY      EDUCATION  GENERALVOTES  \\\n",
       "1       MALE              0   54       ST  Post Graduate        318665   \n",
       "2       MALE              3   52       ST      12th Pass        314057   \n",
       "5       MALE              0   47       SC  Post Graduate        434199   \n",
       "6     FEMALE              0   54       SC  Post Graduate         44877   \n",
       "8       MALE              1   34  GENERAL       Graduate        419364   \n",
       "...      ...            ...  ...      ...            ...           ...   \n",
       "0       MALE             52   52       ST      12th Pass        376892   \n",
       "485     MALE              0   64  GENERAL  Post Graduate        517939   \n",
       "133     MALE              1   66  GENERAL       Graduate        560106   \n",
       "818     MALE              0   53  GENERAL       Graduate        586292   \n",
       "2006    MALE              1   83  GENERAL       Graduate        106596   \n",
       "\n",
       "      POSTALVOTES  TOTALVOTES  OVER TOTAL ELECTORS IN CONSTITUENCY  \\\n",
       "1             149      318814                            21.399929   \n",
       "2             181      314238                            21.092771   \n",
       "5            1130      435329                            22.466390   \n",
       "6             272       45149                             2.330042   \n",
       "8            3822      423186                            22.734872   \n",
       "...           ...         ...                                  ...   \n",
       "0             482      377374                            25.330684   \n",
       "485          1116      519055                            33.224134   \n",
       "133          6374      566480                            27.112699   \n",
       "818          1626      587918                            34.459378   \n",
       "2006          154      106750                             8.245338   \n",
       "\n",
       "      OVER TOTAL VOTES POLLED IN CONSTITUENCY  TOTAL ELECTORS Party New  \n",
       "1                                   29.964370         1489790     Other  \n",
       "2                                   29.534285         1489790       INC  \n",
       "5                                   37.999125         1937690       BSP  \n",
       "6                                    3.940979         1937690       INC  \n",
       "8                                   35.087431         1861396     Other  \n",
       "...                                       ...             ...       ...  \n",
       "0                                   35.468248         1489790       BJP  \n",
       "485                                 52.920839         1562283       BJP  \n",
       "133                                 52.332456         2089353       BJP  \n",
       "818                                 43.500278         1706119     Other  \n",
       "2006                                57.127414         1294671     Other  \n",
       "\n",
       "[2958 rows x 17 columns]"
      ]
     },
     "execution_count": 197,
     "metadata": {},
     "output_type": "execute_result"
    }
   ],
   "source": [
    "upsampled_dataset = pd.concat([total_loser, df_winner_upsample])\n",
    "upsampled_dataset"
   ]
  },
  {
   "cell_type": "markdown",
   "metadata": {},
   "source": [
    "### 6.2 Scaling the data"
   ]
  },
  {
   "cell_type": "code",
   "execution_count": 160,
   "metadata": {},
   "outputs": [
    {
     "data": {
      "text/plain": [
       "Index(['STATE', 'CONSTITUENCY', 'NAME', 'WINNER', 'PARTY', 'GENDER',\n",
       "       'CRIMINALCASES', 'AGE', 'CATEGORY', 'EDUCATION', 'GENERALVOTES',\n",
       "       'POSTALVOTES', 'TOTALVOTES', 'OVER TOTAL ELECTORS IN CONSTITUENCY',\n",
       "       'OVER TOTAL VOTES POLLED IN CONSTITUENCY', 'TOTAL ELECTORS',\n",
       "       'Party New'],\n",
       "      dtype='object')"
      ]
     },
     "execution_count": 160,
     "metadata": {},
     "output_type": "execute_result"
    }
   ],
   "source": [
    "upsampled_dataset.columns"
   ]
  },
  {
   "cell_type": "code",
   "execution_count": 161,
   "metadata": {},
   "outputs": [],
   "source": [
    "# This is the dataset which will be used for fitting Machine Learning models\n",
    "prediction_df = upsampled_dataset.drop(['Party New', 'NAME'], axis=1)"
   ]
  },
  {
   "cell_type": "code",
   "execution_count": 162,
   "metadata": {},
   "outputs": [
    {
     "data": {
      "text/html": [
       "<div>\n",
       "<style scoped>\n",
       "    .dataframe tbody tr th:only-of-type {\n",
       "        vertical-align: middle;\n",
       "    }\n",
       "\n",
       "    .dataframe tbody tr th {\n",
       "        vertical-align: top;\n",
       "    }\n",
       "\n",
       "    .dataframe thead th {\n",
       "        text-align: right;\n",
       "    }\n",
       "</style>\n",
       "<table border=\"1\" class=\"dataframe\">\n",
       "  <thead>\n",
       "    <tr style=\"text-align: right;\">\n",
       "      <th></th>\n",
       "      <th>STATE</th>\n",
       "      <th>CONSTITUENCY</th>\n",
       "      <th>WINNER</th>\n",
       "      <th>PARTY</th>\n",
       "      <th>GENDER</th>\n",
       "      <th>CRIMINALCASES</th>\n",
       "      <th>AGE</th>\n",
       "      <th>CATEGORY</th>\n",
       "      <th>EDUCATION</th>\n",
       "      <th>GENERALVOTES</th>\n",
       "      <th>POSTALVOTES</th>\n",
       "      <th>TOTALVOTES</th>\n",
       "      <th>OVER TOTAL ELECTORS IN CONSTITUENCY</th>\n",
       "      <th>OVER TOTAL VOTES POLLED IN CONSTITUENCY</th>\n",
       "      <th>TOTAL ELECTORS</th>\n",
       "    </tr>\n",
       "  </thead>\n",
       "  <tbody>\n",
       "    <tr>\n",
       "      <th>1</th>\n",
       "      <td>Telangana</td>\n",
       "      <td>ADILABAD</td>\n",
       "      <td>0</td>\n",
       "      <td>TRS</td>\n",
       "      <td>MALE</td>\n",
       "      <td>0</td>\n",
       "      <td>54</td>\n",
       "      <td>ST</td>\n",
       "      <td>Post Graduate</td>\n",
       "      <td>318665</td>\n",
       "      <td>149</td>\n",
       "      <td>318814</td>\n",
       "      <td>21.399929</td>\n",
       "      <td>29.964370</td>\n",
       "      <td>1489790</td>\n",
       "    </tr>\n",
       "    <tr>\n",
       "      <th>2</th>\n",
       "      <td>Telangana</td>\n",
       "      <td>ADILABAD</td>\n",
       "      <td>0</td>\n",
       "      <td>INC</td>\n",
       "      <td>MALE</td>\n",
       "      <td>3</td>\n",
       "      <td>52</td>\n",
       "      <td>ST</td>\n",
       "      <td>12th Pass</td>\n",
       "      <td>314057</td>\n",
       "      <td>181</td>\n",
       "      <td>314238</td>\n",
       "      <td>21.092771</td>\n",
       "      <td>29.534285</td>\n",
       "      <td>1489790</td>\n",
       "    </tr>\n",
       "    <tr>\n",
       "      <th>5</th>\n",
       "      <td>Uttar Pradesh</td>\n",
       "      <td>AGRA</td>\n",
       "      <td>0</td>\n",
       "      <td>BSP</td>\n",
       "      <td>MALE</td>\n",
       "      <td>0</td>\n",
       "      <td>47</td>\n",
       "      <td>SC</td>\n",
       "      <td>Post Graduate</td>\n",
       "      <td>434199</td>\n",
       "      <td>1130</td>\n",
       "      <td>435329</td>\n",
       "      <td>22.466390</td>\n",
       "      <td>37.999125</td>\n",
       "      <td>1937690</td>\n",
       "    </tr>\n",
       "    <tr>\n",
       "      <th>6</th>\n",
       "      <td>Uttar Pradesh</td>\n",
       "      <td>AGRA</td>\n",
       "      <td>0</td>\n",
       "      <td>INC</td>\n",
       "      <td>FEMALE</td>\n",
       "      <td>0</td>\n",
       "      <td>54</td>\n",
       "      <td>SC</td>\n",
       "      <td>Post Graduate</td>\n",
       "      <td>44877</td>\n",
       "      <td>272</td>\n",
       "      <td>45149</td>\n",
       "      <td>2.330042</td>\n",
       "      <td>3.940979</td>\n",
       "      <td>1937690</td>\n",
       "    </tr>\n",
       "    <tr>\n",
       "      <th>8</th>\n",
       "      <td>Maharashtra</td>\n",
       "      <td>AHMADNAGAR</td>\n",
       "      <td>0</td>\n",
       "      <td>NCP</td>\n",
       "      <td>MALE</td>\n",
       "      <td>1</td>\n",
       "      <td>34</td>\n",
       "      <td>GENERAL</td>\n",
       "      <td>Graduate</td>\n",
       "      <td>419364</td>\n",
       "      <td>3822</td>\n",
       "      <td>423186</td>\n",
       "      <td>22.734872</td>\n",
       "      <td>35.087431</td>\n",
       "      <td>1861396</td>\n",
       "    </tr>\n",
       "  </tbody>\n",
       "</table>\n",
       "</div>"
      ],
      "text/plain": [
       "           STATE CONSTITUENCY  WINNER PARTY  GENDER  CRIMINALCASES  AGE  \\\n",
       "1      Telangana     ADILABAD       0   TRS    MALE              0   54   \n",
       "2      Telangana     ADILABAD       0   INC    MALE              3   52   \n",
       "5  Uttar Pradesh         AGRA       0   BSP    MALE              0   47   \n",
       "6  Uttar Pradesh         AGRA       0   INC  FEMALE              0   54   \n",
       "8    Maharashtra   AHMADNAGAR       0   NCP    MALE              1   34   \n",
       "\n",
       "  CATEGORY      EDUCATION  GENERALVOTES  POSTALVOTES  TOTALVOTES  \\\n",
       "1       ST  Post Graduate        318665          149      318814   \n",
       "2       ST      12th Pass        314057          181      314238   \n",
       "5       SC  Post Graduate        434199         1130      435329   \n",
       "6       SC  Post Graduate         44877          272       45149   \n",
       "8  GENERAL       Graduate        419364         3822      423186   \n",
       "\n",
       "   OVER TOTAL ELECTORS IN CONSTITUENCY  \\\n",
       "1                            21.399929   \n",
       "2                            21.092771   \n",
       "5                            22.466390   \n",
       "6                             2.330042   \n",
       "8                            22.734872   \n",
       "\n",
       "   OVER TOTAL VOTES POLLED IN CONSTITUENCY  TOTAL ELECTORS  \n",
       "1                                29.964370         1489790  \n",
       "2                                29.534285         1489790  \n",
       "5                                37.999125         1937690  \n",
       "6                                 3.940979         1937690  \n",
       "8                                35.087431         1861396  "
      ]
     },
     "execution_count": 162,
     "metadata": {},
     "output_type": "execute_result"
    }
   ],
   "source": [
    "prediction_df.head()"
   ]
  },
  {
   "cell_type": "code",
   "execution_count": 163,
   "metadata": {},
   "outputs": [],
   "source": [
    "# Putting categorical and numerical column names in different variables\n",
    "categorical_features = [\"STATE\", 'CONSTITUENCY', 'PARTY', 'GENDER', 'CATEGORY', 'EDUCATION']\n",
    "numerical_features = ['CRIMINALCASES','AGE','TOTALVOTES','TOTAL ELECTORS']\n",
    "\n",
    "# Initializing the StandardScaler()\n",
    "standardScaler = StandardScaler()\n",
    "\n",
    "prediction_df1 = pd.get_dummies(prediction_df, columns = categorical_features)"
   ]
  },
  {
   "cell_type": "code",
   "execution_count": 164,
   "metadata": {},
   "outputs": [
    {
     "data": {
      "text/html": [
       "<div>\n",
       "<style scoped>\n",
       "    .dataframe tbody tr th:only-of-type {\n",
       "        vertical-align: middle;\n",
       "    }\n",
       "\n",
       "    .dataframe tbody tr th {\n",
       "        vertical-align: top;\n",
       "    }\n",
       "\n",
       "    .dataframe thead th {\n",
       "        text-align: right;\n",
       "    }\n",
       "</style>\n",
       "<table border=\"1\" class=\"dataframe\">\n",
       "  <thead>\n",
       "    <tr style=\"text-align: right;\">\n",
       "      <th></th>\n",
       "      <th>WINNER</th>\n",
       "      <th>CRIMINALCASES</th>\n",
       "      <th>AGE</th>\n",
       "      <th>GENERALVOTES</th>\n",
       "      <th>POSTALVOTES</th>\n",
       "      <th>TOTALVOTES</th>\n",
       "      <th>OVER TOTAL ELECTORS IN CONSTITUENCY</th>\n",
       "      <th>OVER TOTAL VOTES POLLED IN CONSTITUENCY</th>\n",
       "      <th>TOTAL ELECTORS</th>\n",
       "      <th>STATE_Andaman &amp; Nicobar Islands</th>\n",
       "      <th>...</th>\n",
       "      <th>EDUCATION_12th Pass</th>\n",
       "      <th>EDUCATION_5th Pass</th>\n",
       "      <th>EDUCATION_8th Pass</th>\n",
       "      <th>EDUCATION_Doctorate</th>\n",
       "      <th>EDUCATION_Graduate</th>\n",
       "      <th>EDUCATION_Illiterate</th>\n",
       "      <th>EDUCATION_Literate</th>\n",
       "      <th>EDUCATION_Not Available</th>\n",
       "      <th>EDUCATION_Others</th>\n",
       "      <th>EDUCATION_Post Graduate</th>\n",
       "    </tr>\n",
       "  </thead>\n",
       "  <tbody>\n",
       "    <tr>\n",
       "      <th>1</th>\n",
       "      <td>0</td>\n",
       "      <td>0</td>\n",
       "      <td>54</td>\n",
       "      <td>318665</td>\n",
       "      <td>149</td>\n",
       "      <td>318814</td>\n",
       "      <td>21.399929</td>\n",
       "      <td>29.964370</td>\n",
       "      <td>1489790</td>\n",
       "      <td>0</td>\n",
       "      <td>...</td>\n",
       "      <td>0</td>\n",
       "      <td>0</td>\n",
       "      <td>0</td>\n",
       "      <td>0</td>\n",
       "      <td>0</td>\n",
       "      <td>0</td>\n",
       "      <td>0</td>\n",
       "      <td>0</td>\n",
       "      <td>0</td>\n",
       "      <td>1</td>\n",
       "    </tr>\n",
       "    <tr>\n",
       "      <th>2</th>\n",
       "      <td>0</td>\n",
       "      <td>3</td>\n",
       "      <td>52</td>\n",
       "      <td>314057</td>\n",
       "      <td>181</td>\n",
       "      <td>314238</td>\n",
       "      <td>21.092771</td>\n",
       "      <td>29.534285</td>\n",
       "      <td>1489790</td>\n",
       "      <td>0</td>\n",
       "      <td>...</td>\n",
       "      <td>1</td>\n",
       "      <td>0</td>\n",
       "      <td>0</td>\n",
       "      <td>0</td>\n",
       "      <td>0</td>\n",
       "      <td>0</td>\n",
       "      <td>0</td>\n",
       "      <td>0</td>\n",
       "      <td>0</td>\n",
       "      <td>0</td>\n",
       "    </tr>\n",
       "    <tr>\n",
       "      <th>5</th>\n",
       "      <td>0</td>\n",
       "      <td>0</td>\n",
       "      <td>47</td>\n",
       "      <td>434199</td>\n",
       "      <td>1130</td>\n",
       "      <td>435329</td>\n",
       "      <td>22.466390</td>\n",
       "      <td>37.999125</td>\n",
       "      <td>1937690</td>\n",
       "      <td>0</td>\n",
       "      <td>...</td>\n",
       "      <td>0</td>\n",
       "      <td>0</td>\n",
       "      <td>0</td>\n",
       "      <td>0</td>\n",
       "      <td>0</td>\n",
       "      <td>0</td>\n",
       "      <td>0</td>\n",
       "      <td>0</td>\n",
       "      <td>0</td>\n",
       "      <td>1</td>\n",
       "    </tr>\n",
       "    <tr>\n",
       "      <th>6</th>\n",
       "      <td>0</td>\n",
       "      <td>0</td>\n",
       "      <td>54</td>\n",
       "      <td>44877</td>\n",
       "      <td>272</td>\n",
       "      <td>45149</td>\n",
       "      <td>2.330042</td>\n",
       "      <td>3.940979</td>\n",
       "      <td>1937690</td>\n",
       "      <td>0</td>\n",
       "      <td>...</td>\n",
       "      <td>0</td>\n",
       "      <td>0</td>\n",
       "      <td>0</td>\n",
       "      <td>0</td>\n",
       "      <td>0</td>\n",
       "      <td>0</td>\n",
       "      <td>0</td>\n",
       "      <td>0</td>\n",
       "      <td>0</td>\n",
       "      <td>1</td>\n",
       "    </tr>\n",
       "    <tr>\n",
       "      <th>8</th>\n",
       "      <td>0</td>\n",
       "      <td>1</td>\n",
       "      <td>34</td>\n",
       "      <td>419364</td>\n",
       "      <td>3822</td>\n",
       "      <td>423186</td>\n",
       "      <td>22.734872</td>\n",
       "      <td>35.087431</td>\n",
       "      <td>1861396</td>\n",
       "      <td>0</td>\n",
       "      <td>...</td>\n",
       "      <td>0</td>\n",
       "      <td>0</td>\n",
       "      <td>0</td>\n",
       "      <td>0</td>\n",
       "      <td>1</td>\n",
       "      <td>0</td>\n",
       "      <td>0</td>\n",
       "      <td>0</td>\n",
       "      <td>0</td>\n",
       "      <td>0</td>\n",
       "    </tr>\n",
       "  </tbody>\n",
       "</table>\n",
       "<p>5 rows × 732 columns</p>\n",
       "</div>"
      ],
      "text/plain": [
       "   WINNER  CRIMINALCASES  AGE  GENERALVOTES  POSTALVOTES  TOTALVOTES  \\\n",
       "1       0              0   54        318665          149      318814   \n",
       "2       0              3   52        314057          181      314238   \n",
       "5       0              0   47        434199         1130      435329   \n",
       "6       0              0   54         44877          272       45149   \n",
       "8       0              1   34        419364         3822      423186   \n",
       "\n",
       "   OVER TOTAL ELECTORS IN CONSTITUENCY  \\\n",
       "1                            21.399929   \n",
       "2                            21.092771   \n",
       "5                            22.466390   \n",
       "6                             2.330042   \n",
       "8                            22.734872   \n",
       "\n",
       "   OVER TOTAL VOTES POLLED IN CONSTITUENCY  TOTAL ELECTORS  \\\n",
       "1                                29.964370         1489790   \n",
       "2                                29.534285         1489790   \n",
       "5                                37.999125         1937690   \n",
       "6                                 3.940979         1937690   \n",
       "8                                35.087431         1861396   \n",
       "\n",
       "   STATE_Andaman & Nicobar Islands  ...  EDUCATION_12th Pass  \\\n",
       "1                                0  ...                    0   \n",
       "2                                0  ...                    1   \n",
       "5                                0  ...                    0   \n",
       "6                                0  ...                    0   \n",
       "8                                0  ...                    0   \n",
       "\n",
       "   EDUCATION_5th Pass  EDUCATION_8th Pass  EDUCATION_Doctorate  \\\n",
       "1                   0                   0                    0   \n",
       "2                   0                   0                    0   \n",
       "5                   0                   0                    0   \n",
       "6                   0                   0                    0   \n",
       "8                   0                   0                    0   \n",
       "\n",
       "   EDUCATION_Graduate  EDUCATION_Illiterate  EDUCATION_Literate  \\\n",
       "1                   0                     0                   0   \n",
       "2                   0                     0                   0   \n",
       "5                   0                     0                   0   \n",
       "6                   0                     0                   0   \n",
       "8                   1                     0                   0   \n",
       "\n",
       "   EDUCATION_Not Available  EDUCATION_Others  EDUCATION_Post Graduate  \n",
       "1                        0                 0                        1  \n",
       "2                        0                 0                        0  \n",
       "5                        0                 0                        1  \n",
       "6                        0                 0                        1  \n",
       "8                        0                 0                        0  \n",
       "\n",
       "[5 rows x 732 columns]"
      ]
     },
     "execution_count": 164,
     "metadata": {},
     "output_type": "execute_result"
    }
   ],
   "source": [
    "prediction_df1.head()"
   ]
  },
  {
   "cell_type": "code",
   "execution_count": 165,
   "metadata": {},
   "outputs": [],
   "source": [
    "prediction_df1[numerical_features] = standardScaler.fit_transform(prediction_df1[numerical_features])"
   ]
  },
  {
   "cell_type": "code",
   "execution_count": 166,
   "metadata": {},
   "outputs": [
    {
     "data": {
      "text/html": [
       "<div>\n",
       "<style scoped>\n",
       "    .dataframe tbody tr th:only-of-type {\n",
       "        vertical-align: middle;\n",
       "    }\n",
       "\n",
       "    .dataframe tbody tr th {\n",
       "        vertical-align: top;\n",
       "    }\n",
       "\n",
       "    .dataframe thead th {\n",
       "        text-align: right;\n",
       "    }\n",
       "</style>\n",
       "<table border=\"1\" class=\"dataframe\">\n",
       "  <thead>\n",
       "    <tr style=\"text-align: right;\">\n",
       "      <th></th>\n",
       "      <th>WINNER</th>\n",
       "      <th>CRIMINALCASES</th>\n",
       "      <th>AGE</th>\n",
       "      <th>GENERALVOTES</th>\n",
       "      <th>POSTALVOTES</th>\n",
       "      <th>TOTALVOTES</th>\n",
       "      <th>OVER TOTAL ELECTORS IN CONSTITUENCY</th>\n",
       "      <th>OVER TOTAL VOTES POLLED IN CONSTITUENCY</th>\n",
       "      <th>TOTAL ELECTORS</th>\n",
       "      <th>STATE_Andaman &amp; Nicobar Islands</th>\n",
       "      <th>...</th>\n",
       "      <th>EDUCATION_12th Pass</th>\n",
       "      <th>EDUCATION_5th Pass</th>\n",
       "      <th>EDUCATION_8th Pass</th>\n",
       "      <th>EDUCATION_Doctorate</th>\n",
       "      <th>EDUCATION_Graduate</th>\n",
       "      <th>EDUCATION_Illiterate</th>\n",
       "      <th>EDUCATION_Literate</th>\n",
       "      <th>EDUCATION_Not Available</th>\n",
       "      <th>EDUCATION_Others</th>\n",
       "      <th>EDUCATION_Post Graduate</th>\n",
       "    </tr>\n",
       "  </thead>\n",
       "  <tbody>\n",
       "    <tr>\n",
       "      <th>1</th>\n",
       "      <td>0</td>\n",
       "      <td>-0.186473</td>\n",
       "      <td>0.076764</td>\n",
       "      <td>318665</td>\n",
       "      <td>149</td>\n",
       "      <td>-0.257567</td>\n",
       "      <td>21.399929</td>\n",
       "      <td>29.964370</td>\n",
       "      <td>-0.541263</td>\n",
       "      <td>0</td>\n",
       "      <td>...</td>\n",
       "      <td>0</td>\n",
       "      <td>0</td>\n",
       "      <td>0</td>\n",
       "      <td>0</td>\n",
       "      <td>0</td>\n",
       "      <td>0</td>\n",
       "      <td>0</td>\n",
       "      <td>0</td>\n",
       "      <td>0</td>\n",
       "      <td>1</td>\n",
       "    </tr>\n",
       "    <tr>\n",
       "      <th>2</th>\n",
       "      <td>0</td>\n",
       "      <td>0.133659</td>\n",
       "      <td>-0.094673</td>\n",
       "      <td>314057</td>\n",
       "      <td>181</td>\n",
       "      <td>-0.274618</td>\n",
       "      <td>21.092771</td>\n",
       "      <td>29.534285</td>\n",
       "      <td>-0.541263</td>\n",
       "      <td>0</td>\n",
       "      <td>...</td>\n",
       "      <td>1</td>\n",
       "      <td>0</td>\n",
       "      <td>0</td>\n",
       "      <td>0</td>\n",
       "      <td>0</td>\n",
       "      <td>0</td>\n",
       "      <td>0</td>\n",
       "      <td>0</td>\n",
       "      <td>0</td>\n",
       "      <td>0</td>\n",
       "    </tr>\n",
       "    <tr>\n",
       "      <th>5</th>\n",
       "      <td>0</td>\n",
       "      <td>-0.186473</td>\n",
       "      <td>-0.523267</td>\n",
       "      <td>434199</td>\n",
       "      <td>1130</td>\n",
       "      <td>0.176567</td>\n",
       "      <td>22.466390</td>\n",
       "      <td>37.999125</td>\n",
       "      <td>0.868686</td>\n",
       "      <td>0</td>\n",
       "      <td>...</td>\n",
       "      <td>0</td>\n",
       "      <td>0</td>\n",
       "      <td>0</td>\n",
       "      <td>0</td>\n",
       "      <td>0</td>\n",
       "      <td>0</td>\n",
       "      <td>0</td>\n",
       "      <td>0</td>\n",
       "      <td>0</td>\n",
       "      <td>1</td>\n",
       "    </tr>\n",
       "    <tr>\n",
       "      <th>6</th>\n",
       "      <td>0</td>\n",
       "      <td>-0.186473</td>\n",
       "      <td>0.076764</td>\n",
       "      <td>44877</td>\n",
       "      <td>272</td>\n",
       "      <td>-1.277242</td>\n",
       "      <td>2.330042</td>\n",
       "      <td>3.940979</td>\n",
       "      <td>0.868686</td>\n",
       "      <td>0</td>\n",
       "      <td>...</td>\n",
       "      <td>0</td>\n",
       "      <td>0</td>\n",
       "      <td>0</td>\n",
       "      <td>0</td>\n",
       "      <td>0</td>\n",
       "      <td>0</td>\n",
       "      <td>0</td>\n",
       "      <td>0</td>\n",
       "      <td>0</td>\n",
       "      <td>1</td>\n",
       "    </tr>\n",
       "    <tr>\n",
       "      <th>8</th>\n",
       "      <td>0</td>\n",
       "      <td>-0.079762</td>\n",
       "      <td>-1.637611</td>\n",
       "      <td>419364</td>\n",
       "      <td>3822</td>\n",
       "      <td>0.131322</td>\n",
       "      <td>22.734872</td>\n",
       "      <td>35.087431</td>\n",
       "      <td>0.628519</td>\n",
       "      <td>0</td>\n",
       "      <td>...</td>\n",
       "      <td>0</td>\n",
       "      <td>0</td>\n",
       "      <td>0</td>\n",
       "      <td>0</td>\n",
       "      <td>1</td>\n",
       "      <td>0</td>\n",
       "      <td>0</td>\n",
       "      <td>0</td>\n",
       "      <td>0</td>\n",
       "      <td>0</td>\n",
       "    </tr>\n",
       "  </tbody>\n",
       "</table>\n",
       "<p>5 rows × 732 columns</p>\n",
       "</div>"
      ],
      "text/plain": [
       "   WINNER  CRIMINALCASES       AGE  GENERALVOTES  POSTALVOTES  TOTALVOTES  \\\n",
       "1       0      -0.186473  0.076764        318665          149   -0.257567   \n",
       "2       0       0.133659 -0.094673        314057          181   -0.274618   \n",
       "5       0      -0.186473 -0.523267        434199         1130    0.176567   \n",
       "6       0      -0.186473  0.076764         44877          272   -1.277242   \n",
       "8       0      -0.079762 -1.637611        419364         3822    0.131322   \n",
       "\n",
       "   OVER TOTAL ELECTORS IN CONSTITUENCY  \\\n",
       "1                            21.399929   \n",
       "2                            21.092771   \n",
       "5                            22.466390   \n",
       "6                             2.330042   \n",
       "8                            22.734872   \n",
       "\n",
       "   OVER TOTAL VOTES POLLED IN CONSTITUENCY  TOTAL ELECTORS  \\\n",
       "1                                29.964370       -0.541263   \n",
       "2                                29.534285       -0.541263   \n",
       "5                                37.999125        0.868686   \n",
       "6                                 3.940979        0.868686   \n",
       "8                                35.087431        0.628519   \n",
       "\n",
       "   STATE_Andaman & Nicobar Islands  ...  EDUCATION_12th Pass  \\\n",
       "1                                0  ...                    0   \n",
       "2                                0  ...                    1   \n",
       "5                                0  ...                    0   \n",
       "6                                0  ...                    0   \n",
       "8                                0  ...                    0   \n",
       "\n",
       "   EDUCATION_5th Pass  EDUCATION_8th Pass  EDUCATION_Doctorate  \\\n",
       "1                   0                   0                    0   \n",
       "2                   0                   0                    0   \n",
       "5                   0                   0                    0   \n",
       "6                   0                   0                    0   \n",
       "8                   0                   0                    0   \n",
       "\n",
       "   EDUCATION_Graduate  EDUCATION_Illiterate  EDUCATION_Literate  \\\n",
       "1                   0                     0                   0   \n",
       "2                   0                     0                   0   \n",
       "5                   0                     0                   0   \n",
       "6                   0                     0                   0   \n",
       "8                   1                     0                   0   \n",
       "\n",
       "   EDUCATION_Not Available  EDUCATION_Others  EDUCATION_Post Graduate  \n",
       "1                        0                 0                        1  \n",
       "2                        0                 0                        0  \n",
       "5                        0                 0                        1  \n",
       "6                        0                 0                        1  \n",
       "8                        0                 0                        0  \n",
       "\n",
       "[5 rows x 732 columns]"
      ]
     },
     "execution_count": 166,
     "metadata": {},
     "output_type": "execute_result"
    }
   ],
   "source": [
    "prediction_df1.head()"
   ]
  },
  {
   "cell_type": "markdown",
   "metadata": {},
   "source": [
    "## 7. Machine learning model experimentation"
   ]
  },
  {
   "cell_type": "code",
   "execution_count": 167,
   "metadata": {},
   "outputs": [],
   "source": [
    "np.random.seed(42)\n",
    "# Splitting the data into X and y\n",
    "X = prediction_df1.drop('WINNER', axis=1)\n",
    "y = prediction_df1['WINNER']\n",
    "X_train, X_test, y_train, y_test = train_test_split(X, y, test_size=0.2, random_state=42)"
   ]
  },
  {
   "cell_type": "markdown",
   "metadata": {},
   "source": [
    "### 7.1 Testing multiple machine learning models\n",
    "\n",
    "- Random Forest Classifier\n",
    "- Support Vector Machines\n",
    "- K-Nearest Neighbour"
   ]
  },
  {
   "cell_type": "code",
   "execution_count": 168,
   "metadata": {},
   "outputs": [
    {
     "name": "stdout",
     "output_type": "stream",
     "text": [
      "Wall time: 0 ns\n"
     ]
    }
   ],
   "source": [
    "%%time\n",
    "\n",
    "# Create a dictionary of the models to experiment\n",
    "models = {\"RandomForestClassifier\" : RandomForestClassifier(),\n",
    "          \"SupportVectorMachines\" : SVC(),\n",
    "          \"KNearestNeighbor\" : KNeighborsClassifier()}\n",
    "\n",
    "# Create a function to fit and score the models\n",
    "def fit_and_score(models, X_train, y_train, X_test, y_test):\n",
    "    '''\n",
    "    Fits and evaluates the machine learning models.\n",
    "    models : a dict of different Scikit-Learn machine learning models.\n",
    "    X_train : training data (no labels)\n",
    "    y_train : training lables\n",
    "    X_test : testing data (no labels)\n",
    "    y_test : testing lables\n",
    "    '''\n",
    "    np.random.seed(42)\n",
    "    model_scores = {}\n",
    "    model_scores_avg = {}\n",
    "    for name, model in models.items():\n",
    "        model.fit(X_train, y_train)\n",
    "        model_scores[name] = cross_val_score(model, X_test, y_test, cv=10, n_jobs=-1)\n",
    "    for name, score in model_scores.items():\n",
    "        model_scores_avg[name] = np.mean(score)\n",
    "    return model_scores_avg"
   ]
  },
  {
   "cell_type": "code",
   "execution_count": 169,
   "metadata": {},
   "outputs": [
    {
     "data": {
      "text/html": [
       "<div>\n",
       "<style scoped>\n",
       "    .dataframe tbody tr th:only-of-type {\n",
       "        vertical-align: middle;\n",
       "    }\n",
       "\n",
       "    .dataframe tbody tr th {\n",
       "        vertical-align: top;\n",
       "    }\n",
       "\n",
       "    .dataframe thead th {\n",
       "        text-align: right;\n",
       "    }\n",
       "</style>\n",
       "<table border=\"1\" class=\"dataframe\">\n",
       "  <thead>\n",
       "    <tr style=\"text-align: right;\">\n",
       "      <th></th>\n",
       "      <th>Accuracy</th>\n",
       "    </tr>\n",
       "  </thead>\n",
       "  <tbody>\n",
       "    <tr>\n",
       "      <th>RandomForestClassifier</th>\n",
       "      <td>0.929011</td>\n",
       "    </tr>\n",
       "    <tr>\n",
       "      <th>SupportVectorMachines</th>\n",
       "      <td>0.864859</td>\n",
       "    </tr>\n",
       "    <tr>\n",
       "      <th>KNearestNeighbor</th>\n",
       "      <td>0.868249</td>\n",
       "    </tr>\n",
       "  </tbody>\n",
       "</table>\n",
       "</div>"
      ],
      "text/plain": [
       "                        Accuracy\n",
       "RandomForestClassifier  0.929011\n",
       "SupportVectorMachines   0.864859\n",
       "KNearestNeighbor        0.868249"
      ]
     },
     "execution_count": 169,
     "metadata": {},
     "output_type": "execute_result"
    }
   ],
   "source": [
    "model_scores = fit_and_score(models=models,\n",
    "                             X_train=X_train,\n",
    "                             y_train=y_train,\n",
    "                             X_test=X_test,\n",
    "                             y_test=y_test)\n",
    "model_scores_df = pd.DataFrame(model_scores, index=[\"Accuracy\"]).T\n",
    "model_scores_df"
   ]
  },
  {
   "cell_type": "code",
   "execution_count": 174,
   "metadata": {},
   "outputs": [
    {
     "data": {
      "application/vnd.plotly.v1+json": {
       "config": {
        "plotlyServerURL": "https://plot.ly"
       },
       "data": [
        {
         "alignmentgroup": "True",
         "hovertemplate": "x=%{x}<br>Accuracy=%{marker.color}<extra></extra>",
         "legendgroup": "",
         "marker": {
          "color": [
           0.9290112994350281,
           0.8648587570621469,
           0.8682485875706215
          ],
          "coloraxis": "coloraxis"
         },
         "name": "",
         "offsetgroup": "",
         "orientation": "v",
         "showlegend": false,
         "textposition": "auto",
         "type": "bar",
         "x": [
          "Random Forest Classifier",
          "Support Vector Machines",
          "K-Nearest Neighbor"
         ],
         "xaxis": "x",
         "y": [
          0.9290112994350281,
          0.8648587570621469,
          0.8682485875706215
         ],
         "yaxis": "y"
        }
       ],
       "layout": {
        "barmode": "relative",
        "coloraxis": {
         "colorbar": {
          "title": {
           "text": "Accuracy"
          }
         },
         "colorscale": [
          [
           0,
           "rgb(236, 218, 154)"
          ],
          [
           0.16666666666666666,
           "rgb(239, 196, 126)"
          ],
          [
           0.3333333333333333,
           "rgb(243, 173, 106)"
          ],
          [
           0.5,
           "rgb(247, 148, 93)"
          ],
          [
           0.6666666666666666,
           "rgb(249, 123, 87)"
          ],
          [
           0.8333333333333334,
           "rgb(246, 99, 86)"
          ],
          [
           1,
           "rgb(238, 77, 90)"
          ]
         ]
        },
        "font": {
         "color": "#351f39",
         "family": "Courier New"
        },
        "legend": {
         "tracegroupgap": 0
        },
        "margin": {
         "t": 60
        },
        "template": {
         "data": {
          "bar": [
           {
            "error_x": {
             "color": "#2a3f5f"
            },
            "error_y": {
             "color": "#2a3f5f"
            },
            "marker": {
             "line": {
              "color": "#E5ECF6",
              "width": 0.5
             }
            },
            "type": "bar"
           }
          ],
          "barpolar": [
           {
            "marker": {
             "line": {
              "color": "#E5ECF6",
              "width": 0.5
             }
            },
            "type": "barpolar"
           }
          ],
          "carpet": [
           {
            "aaxis": {
             "endlinecolor": "#2a3f5f",
             "gridcolor": "white",
             "linecolor": "white",
             "minorgridcolor": "white",
             "startlinecolor": "#2a3f5f"
            },
            "baxis": {
             "endlinecolor": "#2a3f5f",
             "gridcolor": "white",
             "linecolor": "white",
             "minorgridcolor": "white",
             "startlinecolor": "#2a3f5f"
            },
            "type": "carpet"
           }
          ],
          "choropleth": [
           {
            "colorbar": {
             "outlinewidth": 0,
             "ticks": ""
            },
            "type": "choropleth"
           }
          ],
          "contour": [
           {
            "colorbar": {
             "outlinewidth": 0,
             "ticks": ""
            },
            "colorscale": [
             [
              0,
              "#0d0887"
             ],
             [
              0.1111111111111111,
              "#46039f"
             ],
             [
              0.2222222222222222,
              "#7201a8"
             ],
             [
              0.3333333333333333,
              "#9c179e"
             ],
             [
              0.4444444444444444,
              "#bd3786"
             ],
             [
              0.5555555555555556,
              "#d8576b"
             ],
             [
              0.6666666666666666,
              "#ed7953"
             ],
             [
              0.7777777777777778,
              "#fb9f3a"
             ],
             [
              0.8888888888888888,
              "#fdca26"
             ],
             [
              1,
              "#f0f921"
             ]
            ],
            "type": "contour"
           }
          ],
          "contourcarpet": [
           {
            "colorbar": {
             "outlinewidth": 0,
             "ticks": ""
            },
            "type": "contourcarpet"
           }
          ],
          "heatmap": [
           {
            "colorbar": {
             "outlinewidth": 0,
             "ticks": ""
            },
            "colorscale": [
             [
              0,
              "#0d0887"
             ],
             [
              0.1111111111111111,
              "#46039f"
             ],
             [
              0.2222222222222222,
              "#7201a8"
             ],
             [
              0.3333333333333333,
              "#9c179e"
             ],
             [
              0.4444444444444444,
              "#bd3786"
             ],
             [
              0.5555555555555556,
              "#d8576b"
             ],
             [
              0.6666666666666666,
              "#ed7953"
             ],
             [
              0.7777777777777778,
              "#fb9f3a"
             ],
             [
              0.8888888888888888,
              "#fdca26"
             ],
             [
              1,
              "#f0f921"
             ]
            ],
            "type": "heatmap"
           }
          ],
          "heatmapgl": [
           {
            "colorbar": {
             "outlinewidth": 0,
             "ticks": ""
            },
            "colorscale": [
             [
              0,
              "#0d0887"
             ],
             [
              0.1111111111111111,
              "#46039f"
             ],
             [
              0.2222222222222222,
              "#7201a8"
             ],
             [
              0.3333333333333333,
              "#9c179e"
             ],
             [
              0.4444444444444444,
              "#bd3786"
             ],
             [
              0.5555555555555556,
              "#d8576b"
             ],
             [
              0.6666666666666666,
              "#ed7953"
             ],
             [
              0.7777777777777778,
              "#fb9f3a"
             ],
             [
              0.8888888888888888,
              "#fdca26"
             ],
             [
              1,
              "#f0f921"
             ]
            ],
            "type": "heatmapgl"
           }
          ],
          "histogram": [
           {
            "marker": {
             "colorbar": {
              "outlinewidth": 0,
              "ticks": ""
             }
            },
            "type": "histogram"
           }
          ],
          "histogram2d": [
           {
            "colorbar": {
             "outlinewidth": 0,
             "ticks": ""
            },
            "colorscale": [
             [
              0,
              "#0d0887"
             ],
             [
              0.1111111111111111,
              "#46039f"
             ],
             [
              0.2222222222222222,
              "#7201a8"
             ],
             [
              0.3333333333333333,
              "#9c179e"
             ],
             [
              0.4444444444444444,
              "#bd3786"
             ],
             [
              0.5555555555555556,
              "#d8576b"
             ],
             [
              0.6666666666666666,
              "#ed7953"
             ],
             [
              0.7777777777777778,
              "#fb9f3a"
             ],
             [
              0.8888888888888888,
              "#fdca26"
             ],
             [
              1,
              "#f0f921"
             ]
            ],
            "type": "histogram2d"
           }
          ],
          "histogram2dcontour": [
           {
            "colorbar": {
             "outlinewidth": 0,
             "ticks": ""
            },
            "colorscale": [
             [
              0,
              "#0d0887"
             ],
             [
              0.1111111111111111,
              "#46039f"
             ],
             [
              0.2222222222222222,
              "#7201a8"
             ],
             [
              0.3333333333333333,
              "#9c179e"
             ],
             [
              0.4444444444444444,
              "#bd3786"
             ],
             [
              0.5555555555555556,
              "#d8576b"
             ],
             [
              0.6666666666666666,
              "#ed7953"
             ],
             [
              0.7777777777777778,
              "#fb9f3a"
             ],
             [
              0.8888888888888888,
              "#fdca26"
             ],
             [
              1,
              "#f0f921"
             ]
            ],
            "type": "histogram2dcontour"
           }
          ],
          "mesh3d": [
           {
            "colorbar": {
             "outlinewidth": 0,
             "ticks": ""
            },
            "type": "mesh3d"
           }
          ],
          "parcoords": [
           {
            "line": {
             "colorbar": {
              "outlinewidth": 0,
              "ticks": ""
             }
            },
            "type": "parcoords"
           }
          ],
          "pie": [
           {
            "automargin": true,
            "type": "pie"
           }
          ],
          "scatter": [
           {
            "marker": {
             "colorbar": {
              "outlinewidth": 0,
              "ticks": ""
             }
            },
            "type": "scatter"
           }
          ],
          "scatter3d": [
           {
            "line": {
             "colorbar": {
              "outlinewidth": 0,
              "ticks": ""
             }
            },
            "marker": {
             "colorbar": {
              "outlinewidth": 0,
              "ticks": ""
             }
            },
            "type": "scatter3d"
           }
          ],
          "scattercarpet": [
           {
            "marker": {
             "colorbar": {
              "outlinewidth": 0,
              "ticks": ""
             }
            },
            "type": "scattercarpet"
           }
          ],
          "scattergeo": [
           {
            "marker": {
             "colorbar": {
              "outlinewidth": 0,
              "ticks": ""
             }
            },
            "type": "scattergeo"
           }
          ],
          "scattergl": [
           {
            "marker": {
             "colorbar": {
              "outlinewidth": 0,
              "ticks": ""
             }
            },
            "type": "scattergl"
           }
          ],
          "scattermapbox": [
           {
            "marker": {
             "colorbar": {
              "outlinewidth": 0,
              "ticks": ""
             }
            },
            "type": "scattermapbox"
           }
          ],
          "scatterpolar": [
           {
            "marker": {
             "colorbar": {
              "outlinewidth": 0,
              "ticks": ""
             }
            },
            "type": "scatterpolar"
           }
          ],
          "scatterpolargl": [
           {
            "marker": {
             "colorbar": {
              "outlinewidth": 0,
              "ticks": ""
             }
            },
            "type": "scatterpolargl"
           }
          ],
          "scatterternary": [
           {
            "marker": {
             "colorbar": {
              "outlinewidth": 0,
              "ticks": ""
             }
            },
            "type": "scatterternary"
           }
          ],
          "surface": [
           {
            "colorbar": {
             "outlinewidth": 0,
             "ticks": ""
            },
            "colorscale": [
             [
              0,
              "#0d0887"
             ],
             [
              0.1111111111111111,
              "#46039f"
             ],
             [
              0.2222222222222222,
              "#7201a8"
             ],
             [
              0.3333333333333333,
              "#9c179e"
             ],
             [
              0.4444444444444444,
              "#bd3786"
             ],
             [
              0.5555555555555556,
              "#d8576b"
             ],
             [
              0.6666666666666666,
              "#ed7953"
             ],
             [
              0.7777777777777778,
              "#fb9f3a"
             ],
             [
              0.8888888888888888,
              "#fdca26"
             ],
             [
              1,
              "#f0f921"
             ]
            ],
            "type": "surface"
           }
          ],
          "table": [
           {
            "cells": {
             "fill": {
              "color": "#EBF0F8"
             },
             "line": {
              "color": "white"
             }
            },
            "header": {
             "fill": {
              "color": "#C8D4E3"
             },
             "line": {
              "color": "white"
             }
            },
            "type": "table"
           }
          ]
         },
         "layout": {
          "annotationdefaults": {
           "arrowcolor": "#2a3f5f",
           "arrowhead": 0,
           "arrowwidth": 1
          },
          "coloraxis": {
           "colorbar": {
            "outlinewidth": 0,
            "ticks": ""
           }
          },
          "colorscale": {
           "diverging": [
            [
             0,
             "#8e0152"
            ],
            [
             0.1,
             "#c51b7d"
            ],
            [
             0.2,
             "#de77ae"
            ],
            [
             0.3,
             "#f1b6da"
            ],
            [
             0.4,
             "#fde0ef"
            ],
            [
             0.5,
             "#f7f7f7"
            ],
            [
             0.6,
             "#e6f5d0"
            ],
            [
             0.7,
             "#b8e186"
            ],
            [
             0.8,
             "#7fbc41"
            ],
            [
             0.9,
             "#4d9221"
            ],
            [
             1,
             "#276419"
            ]
           ],
           "sequential": [
            [
             0,
             "#0d0887"
            ],
            [
             0.1111111111111111,
             "#46039f"
            ],
            [
             0.2222222222222222,
             "#7201a8"
            ],
            [
             0.3333333333333333,
             "#9c179e"
            ],
            [
             0.4444444444444444,
             "#bd3786"
            ],
            [
             0.5555555555555556,
             "#d8576b"
            ],
            [
             0.6666666666666666,
             "#ed7953"
            ],
            [
             0.7777777777777778,
             "#fb9f3a"
            ],
            [
             0.8888888888888888,
             "#fdca26"
            ],
            [
             1,
             "#f0f921"
            ]
           ],
           "sequentialminus": [
            [
             0,
             "#0d0887"
            ],
            [
             0.1111111111111111,
             "#46039f"
            ],
            [
             0.2222222222222222,
             "#7201a8"
            ],
            [
             0.3333333333333333,
             "#9c179e"
            ],
            [
             0.4444444444444444,
             "#bd3786"
            ],
            [
             0.5555555555555556,
             "#d8576b"
            ],
            [
             0.6666666666666666,
             "#ed7953"
            ],
            [
             0.7777777777777778,
             "#fb9f3a"
            ],
            [
             0.8888888888888888,
             "#fdca26"
            ],
            [
             1,
             "#f0f921"
            ]
           ]
          },
          "colorway": [
           "#636efa",
           "#EF553B",
           "#00cc96",
           "#ab63fa",
           "#FFA15A",
           "#19d3f3",
           "#FF6692",
           "#B6E880",
           "#FF97FF",
           "#FECB52"
          ],
          "font": {
           "color": "#2a3f5f"
          },
          "geo": {
           "bgcolor": "white",
           "lakecolor": "white",
           "landcolor": "#E5ECF6",
           "showlakes": true,
           "showland": true,
           "subunitcolor": "white"
          },
          "hoverlabel": {
           "align": "left"
          },
          "hovermode": "closest",
          "mapbox": {
           "style": "light"
          },
          "paper_bgcolor": "white",
          "plot_bgcolor": "#E5ECF6",
          "polar": {
           "angularaxis": {
            "gridcolor": "white",
            "linecolor": "white",
            "ticks": ""
           },
           "bgcolor": "#E5ECF6",
           "radialaxis": {
            "gridcolor": "white",
            "linecolor": "white",
            "ticks": ""
           }
          },
          "scene": {
           "xaxis": {
            "backgroundcolor": "#E5ECF6",
            "gridcolor": "white",
            "gridwidth": 2,
            "linecolor": "white",
            "showbackground": true,
            "ticks": "",
            "zerolinecolor": "white"
           },
           "yaxis": {
            "backgroundcolor": "#E5ECF6",
            "gridcolor": "white",
            "gridwidth": 2,
            "linecolor": "white",
            "showbackground": true,
            "ticks": "",
            "zerolinecolor": "white"
           },
           "zaxis": {
            "backgroundcolor": "#E5ECF6",
            "gridcolor": "white",
            "gridwidth": 2,
            "linecolor": "white",
            "showbackground": true,
            "ticks": "",
            "zerolinecolor": "white"
           }
          },
          "shapedefaults": {
           "line": {
            "color": "#2a3f5f"
           }
          },
          "ternary": {
           "aaxis": {
            "gridcolor": "white",
            "linecolor": "white",
            "ticks": ""
           },
           "baxis": {
            "gridcolor": "white",
            "linecolor": "white",
            "ticks": ""
           },
           "bgcolor": "#E5ECF6",
           "caxis": {
            "gridcolor": "white",
            "linecolor": "white",
            "ticks": ""
           }
          },
          "title": {
           "x": 0.05
          },
          "xaxis": {
           "automargin": true,
           "gridcolor": "white",
           "linecolor": "white",
           "ticks": "",
           "title": {
            "standoff": 15
           },
           "zerolinecolor": "white",
           "zerolinewidth": 2
          },
          "yaxis": {
           "automargin": true,
           "gridcolor": "white",
           "linecolor": "white",
           "ticks": "",
           "title": {
            "standoff": 15
           },
           "zerolinecolor": "white",
           "zerolinewidth": 2
          }
         }
        },
        "title": {
         "font": {
          "color": "#351f39",
          "family": "Courier New"
         },
         "text": "Model Accuracy Comparison"
        },
        "xaxis": {
         "anchor": "y",
         "domain": [
          0,
          1
         ],
         "title": {
          "text": "Machine Learning Models"
         }
        },
        "yaxis": {
         "anchor": "x",
         "domain": [
          0,
          1
         ],
         "title": {
          "text": "Accuracy"
         }
        }
       }
      },
      "text/html": [
       "<div>                            <div id=\"90caaef1-121d-4398-87df-3bb27fd30d13\" class=\"plotly-graph-div\" style=\"height:525px; width:100%;\"></div>            <script type=\"text/javascript\">                require([\"plotly\"], function(Plotly) {                    window.PLOTLYENV=window.PLOTLYENV || {};                                    if (document.getElementById(\"90caaef1-121d-4398-87df-3bb27fd30d13\")) {                    Plotly.newPlot(                        \"90caaef1-121d-4398-87df-3bb27fd30d13\",                        [{\"alignmentgroup\": \"True\", \"hovertemplate\": \"x=%{x}<br>Accuracy=%{marker.color}<extra></extra>\", \"legendgroup\": \"\", \"marker\": {\"color\": [0.9290112994350281, 0.8648587570621469, 0.8682485875706215], \"coloraxis\": \"coloraxis\"}, \"name\": \"\", \"offsetgroup\": \"\", \"orientation\": \"v\", \"showlegend\": false, \"textposition\": \"auto\", \"type\": \"bar\", \"x\": [\"Random Forest Classifier\", \"Support Vector Machines\", \"K-Nearest Neighbor\"], \"xaxis\": \"x\", \"y\": [0.9290112994350281, 0.8648587570621469, 0.8682485875706215], \"yaxis\": \"y\"}],                        {\"barmode\": \"relative\", \"coloraxis\": {\"colorbar\": {\"title\": {\"text\": \"Accuracy\"}}, \"colorscale\": [[0.0, \"rgb(236, 218, 154)\"], [0.16666666666666666, \"rgb(239, 196, 126)\"], [0.3333333333333333, \"rgb(243, 173, 106)\"], [0.5, \"rgb(247, 148, 93)\"], [0.6666666666666666, \"rgb(249, 123, 87)\"], [0.8333333333333334, \"rgb(246, 99, 86)\"], [1.0, \"rgb(238, 77, 90)\"]]}, \"font\": {\"color\": \"#351f39\", \"family\": \"Courier New\"}, \"legend\": {\"tracegroupgap\": 0}, \"margin\": {\"t\": 60}, \"template\": {\"data\": {\"bar\": [{\"error_x\": {\"color\": \"#2a3f5f\"}, \"error_y\": {\"color\": \"#2a3f5f\"}, \"marker\": {\"line\": {\"color\": \"#E5ECF6\", \"width\": 0.5}}, \"type\": \"bar\"}], \"barpolar\": [{\"marker\": {\"line\": {\"color\": \"#E5ECF6\", \"width\": 0.5}}, \"type\": \"barpolar\"}], \"carpet\": [{\"aaxis\": {\"endlinecolor\": \"#2a3f5f\", \"gridcolor\": \"white\", \"linecolor\": \"white\", \"minorgridcolor\": \"white\", \"startlinecolor\": \"#2a3f5f\"}, \"baxis\": {\"endlinecolor\": \"#2a3f5f\", \"gridcolor\": \"white\", \"linecolor\": \"white\", \"minorgridcolor\": \"white\", \"startlinecolor\": \"#2a3f5f\"}, \"type\": \"carpet\"}], \"choropleth\": [{\"colorbar\": {\"outlinewidth\": 0, \"ticks\": \"\"}, \"type\": \"choropleth\"}], \"contour\": [{\"colorbar\": {\"outlinewidth\": 0, \"ticks\": \"\"}, \"colorscale\": [[0.0, \"#0d0887\"], [0.1111111111111111, \"#46039f\"], [0.2222222222222222, \"#7201a8\"], [0.3333333333333333, \"#9c179e\"], [0.4444444444444444, \"#bd3786\"], [0.5555555555555556, \"#d8576b\"], [0.6666666666666666, \"#ed7953\"], [0.7777777777777778, \"#fb9f3a\"], [0.8888888888888888, \"#fdca26\"], [1.0, \"#f0f921\"]], \"type\": \"contour\"}], \"contourcarpet\": [{\"colorbar\": {\"outlinewidth\": 0, \"ticks\": \"\"}, \"type\": \"contourcarpet\"}], \"heatmap\": [{\"colorbar\": {\"outlinewidth\": 0, \"ticks\": \"\"}, \"colorscale\": [[0.0, \"#0d0887\"], [0.1111111111111111, \"#46039f\"], [0.2222222222222222, \"#7201a8\"], [0.3333333333333333, \"#9c179e\"], [0.4444444444444444, \"#bd3786\"], [0.5555555555555556, \"#d8576b\"], [0.6666666666666666, \"#ed7953\"], [0.7777777777777778, \"#fb9f3a\"], [0.8888888888888888, \"#fdca26\"], [1.0, \"#f0f921\"]], \"type\": \"heatmap\"}], \"heatmapgl\": [{\"colorbar\": {\"outlinewidth\": 0, \"ticks\": \"\"}, \"colorscale\": [[0.0, \"#0d0887\"], [0.1111111111111111, \"#46039f\"], [0.2222222222222222, \"#7201a8\"], [0.3333333333333333, \"#9c179e\"], [0.4444444444444444, \"#bd3786\"], [0.5555555555555556, \"#d8576b\"], [0.6666666666666666, \"#ed7953\"], [0.7777777777777778, \"#fb9f3a\"], [0.8888888888888888, \"#fdca26\"], [1.0, \"#f0f921\"]], \"type\": \"heatmapgl\"}], \"histogram\": [{\"marker\": {\"colorbar\": {\"outlinewidth\": 0, \"ticks\": \"\"}}, \"type\": \"histogram\"}], \"histogram2d\": [{\"colorbar\": {\"outlinewidth\": 0, \"ticks\": \"\"}, \"colorscale\": [[0.0, \"#0d0887\"], [0.1111111111111111, \"#46039f\"], [0.2222222222222222, \"#7201a8\"], [0.3333333333333333, \"#9c179e\"], [0.4444444444444444, \"#bd3786\"], [0.5555555555555556, \"#d8576b\"], [0.6666666666666666, \"#ed7953\"], [0.7777777777777778, \"#fb9f3a\"], [0.8888888888888888, \"#fdca26\"], [1.0, \"#f0f921\"]], \"type\": \"histogram2d\"}], \"histogram2dcontour\": [{\"colorbar\": {\"outlinewidth\": 0, \"ticks\": \"\"}, \"colorscale\": [[0.0, \"#0d0887\"], [0.1111111111111111, \"#46039f\"], [0.2222222222222222, \"#7201a8\"], [0.3333333333333333, \"#9c179e\"], [0.4444444444444444, \"#bd3786\"], [0.5555555555555556, \"#d8576b\"], [0.6666666666666666, \"#ed7953\"], [0.7777777777777778, \"#fb9f3a\"], [0.8888888888888888, \"#fdca26\"], [1.0, \"#f0f921\"]], \"type\": \"histogram2dcontour\"}], \"mesh3d\": [{\"colorbar\": {\"outlinewidth\": 0, \"ticks\": \"\"}, \"type\": \"mesh3d\"}], \"parcoords\": [{\"line\": {\"colorbar\": {\"outlinewidth\": 0, \"ticks\": \"\"}}, \"type\": \"parcoords\"}], \"pie\": [{\"automargin\": true, \"type\": \"pie\"}], \"scatter\": [{\"marker\": {\"colorbar\": {\"outlinewidth\": 0, \"ticks\": \"\"}}, \"type\": \"scatter\"}], \"scatter3d\": [{\"line\": {\"colorbar\": {\"outlinewidth\": 0, \"ticks\": \"\"}}, \"marker\": {\"colorbar\": {\"outlinewidth\": 0, \"ticks\": \"\"}}, \"type\": \"scatter3d\"}], \"scattercarpet\": [{\"marker\": {\"colorbar\": {\"outlinewidth\": 0, \"ticks\": \"\"}}, \"type\": \"scattercarpet\"}], \"scattergeo\": [{\"marker\": {\"colorbar\": {\"outlinewidth\": 0, \"ticks\": \"\"}}, \"type\": \"scattergeo\"}], \"scattergl\": [{\"marker\": {\"colorbar\": {\"outlinewidth\": 0, \"ticks\": \"\"}}, \"type\": \"scattergl\"}], \"scattermapbox\": [{\"marker\": {\"colorbar\": {\"outlinewidth\": 0, \"ticks\": \"\"}}, \"type\": \"scattermapbox\"}], \"scatterpolar\": [{\"marker\": {\"colorbar\": {\"outlinewidth\": 0, \"ticks\": \"\"}}, \"type\": \"scatterpolar\"}], \"scatterpolargl\": [{\"marker\": {\"colorbar\": {\"outlinewidth\": 0, \"ticks\": \"\"}}, \"type\": \"scatterpolargl\"}], \"scatterternary\": [{\"marker\": {\"colorbar\": {\"outlinewidth\": 0, \"ticks\": \"\"}}, \"type\": \"scatterternary\"}], \"surface\": [{\"colorbar\": {\"outlinewidth\": 0, \"ticks\": \"\"}, \"colorscale\": [[0.0, \"#0d0887\"], [0.1111111111111111, \"#46039f\"], [0.2222222222222222, \"#7201a8\"], [0.3333333333333333, \"#9c179e\"], [0.4444444444444444, \"#bd3786\"], [0.5555555555555556, \"#d8576b\"], [0.6666666666666666, \"#ed7953\"], [0.7777777777777778, \"#fb9f3a\"], [0.8888888888888888, \"#fdca26\"], [1.0, \"#f0f921\"]], \"type\": \"surface\"}], \"table\": [{\"cells\": {\"fill\": {\"color\": \"#EBF0F8\"}, \"line\": {\"color\": \"white\"}}, \"header\": {\"fill\": {\"color\": \"#C8D4E3\"}, \"line\": {\"color\": \"white\"}}, \"type\": \"table\"}]}, \"layout\": {\"annotationdefaults\": {\"arrowcolor\": \"#2a3f5f\", \"arrowhead\": 0, \"arrowwidth\": 1}, \"coloraxis\": {\"colorbar\": {\"outlinewidth\": 0, \"ticks\": \"\"}}, \"colorscale\": {\"diverging\": [[0, \"#8e0152\"], [0.1, \"#c51b7d\"], [0.2, \"#de77ae\"], [0.3, \"#f1b6da\"], [0.4, \"#fde0ef\"], [0.5, \"#f7f7f7\"], [0.6, \"#e6f5d0\"], [0.7, \"#b8e186\"], [0.8, \"#7fbc41\"], [0.9, \"#4d9221\"], [1, \"#276419\"]], \"sequential\": [[0.0, \"#0d0887\"], [0.1111111111111111, \"#46039f\"], [0.2222222222222222, \"#7201a8\"], [0.3333333333333333, \"#9c179e\"], [0.4444444444444444, \"#bd3786\"], [0.5555555555555556, \"#d8576b\"], [0.6666666666666666, \"#ed7953\"], [0.7777777777777778, \"#fb9f3a\"], [0.8888888888888888, \"#fdca26\"], [1.0, \"#f0f921\"]], \"sequentialminus\": [[0.0, \"#0d0887\"], [0.1111111111111111, \"#46039f\"], [0.2222222222222222, \"#7201a8\"], [0.3333333333333333, \"#9c179e\"], [0.4444444444444444, \"#bd3786\"], [0.5555555555555556, \"#d8576b\"], [0.6666666666666666, \"#ed7953\"], [0.7777777777777778, \"#fb9f3a\"], [0.8888888888888888, \"#fdca26\"], [1.0, \"#f0f921\"]]}, \"colorway\": [\"#636efa\", \"#EF553B\", \"#00cc96\", \"#ab63fa\", \"#FFA15A\", \"#19d3f3\", \"#FF6692\", \"#B6E880\", \"#FF97FF\", \"#FECB52\"], \"font\": {\"color\": \"#2a3f5f\"}, \"geo\": {\"bgcolor\": \"white\", \"lakecolor\": \"white\", \"landcolor\": \"#E5ECF6\", \"showlakes\": true, \"showland\": true, \"subunitcolor\": \"white\"}, \"hoverlabel\": {\"align\": \"left\"}, \"hovermode\": \"closest\", \"mapbox\": {\"style\": \"light\"}, \"paper_bgcolor\": \"white\", \"plot_bgcolor\": \"#E5ECF6\", \"polar\": {\"angularaxis\": {\"gridcolor\": \"white\", \"linecolor\": \"white\", \"ticks\": \"\"}, \"bgcolor\": \"#E5ECF6\", \"radialaxis\": {\"gridcolor\": \"white\", \"linecolor\": \"white\", \"ticks\": \"\"}}, \"scene\": {\"xaxis\": {\"backgroundcolor\": \"#E5ECF6\", \"gridcolor\": \"white\", \"gridwidth\": 2, \"linecolor\": \"white\", \"showbackground\": true, \"ticks\": \"\", \"zerolinecolor\": \"white\"}, \"yaxis\": {\"backgroundcolor\": \"#E5ECF6\", \"gridcolor\": \"white\", \"gridwidth\": 2, \"linecolor\": \"white\", \"showbackground\": true, \"ticks\": \"\", \"zerolinecolor\": \"white\"}, \"zaxis\": {\"backgroundcolor\": \"#E5ECF6\", \"gridcolor\": \"white\", \"gridwidth\": 2, \"linecolor\": \"white\", \"showbackground\": true, \"ticks\": \"\", \"zerolinecolor\": \"white\"}}, \"shapedefaults\": {\"line\": {\"color\": \"#2a3f5f\"}}, \"ternary\": {\"aaxis\": {\"gridcolor\": \"white\", \"linecolor\": \"white\", \"ticks\": \"\"}, \"baxis\": {\"gridcolor\": \"white\", \"linecolor\": \"white\", \"ticks\": \"\"}, \"bgcolor\": \"#E5ECF6\", \"caxis\": {\"gridcolor\": \"white\", \"linecolor\": \"white\", \"ticks\": \"\"}}, \"title\": {\"x\": 0.05}, \"xaxis\": {\"automargin\": true, \"gridcolor\": \"white\", \"linecolor\": \"white\", \"ticks\": \"\", \"title\": {\"standoff\": 15}, \"zerolinecolor\": \"white\", \"zerolinewidth\": 2}, \"yaxis\": {\"automargin\": true, \"gridcolor\": \"white\", \"linecolor\": \"white\", \"ticks\": \"\", \"title\": {\"standoff\": 15}, \"zerolinecolor\": \"white\", \"zerolinewidth\": 2}}}, \"title\": {\"font\": {\"color\": \"#351f39\", \"family\": \"Courier New\"}, \"text\": \"Model Accuracy Comparison\"}, \"xaxis\": {\"anchor\": \"y\", \"domain\": [0.0, 1.0], \"title\": {\"text\": \"Machine Learning Models\"}}, \"yaxis\": {\"anchor\": \"x\", \"domain\": [0.0, 1.0], \"title\": {\"text\": \"Accuracy\"}}},                        {\"responsive\": true}                    ).then(function(){\n",
       "                            \n",
       "var gd = document.getElementById('90caaef1-121d-4398-87df-3bb27fd30d13');\n",
       "var x = new MutationObserver(function (mutations, observer) {{\n",
       "        var display = window.getComputedStyle(gd).display;\n",
       "        if (!display || display === 'none') {{\n",
       "            console.log([gd, 'removed!']);\n",
       "            Plotly.purge(gd);\n",
       "            observer.disconnect();\n",
       "        }}\n",
       "}});\n",
       "\n",
       "// Listen for the removal of the full notebook cells\n",
       "var notebookContainer = gd.closest('#notebook-container');\n",
       "if (notebookContainer) {{\n",
       "    x.observe(notebookContainer, {childList: true});\n",
       "}}\n",
       "\n",
       "// Listen for the clearing of the current output cell\n",
       "var outputEl = gd.closest('.output');\n",
       "if (outputEl) {{\n",
       "    x.observe(outputEl, {childList: true});\n",
       "}}\n",
       "\n",
       "                        })                };                });            </script>        </div>"
      ]
     },
     "metadata": {},
     "output_type": "display_data"
    }
   ],
   "source": [
    "model_scores_df_fig = px.bar(model_scores_df, \n",
    "                             x=[\"Random Forest Classifier\", \"Support Vector Machines\", \"K-Nearest Neighbor\"], \n",
    "                             y=model_scores_df[\"Accuracy\"],\n",
    "                             color_continuous_scale='Oryel',\n",
    "                             color='Accuracy')\n",
    "model_scores_df_fig.update_layout(title_text='Model Accuracy Comparison',\n",
    "                                  xaxis_title=\"Machine Learning Models\")\n",
    "model_scores_df_fig.update_layout(font_family=\"Courier New\",\n",
    "                                  font_color=\"#351f39\",\n",
    "                                  title_font_family=\"Courier New\",\n",
    "                                  title_font_color=\"#351f39\")\n",
    "model_scores_df_fig.show()"
   ]
  },
  {
   "cell_type": "markdown",
   "metadata": {},
   "source": [
    "### 7.2 Manual Hyperparameter Tuning"
   ]
  },
  {
   "cell_type": "markdown",
   "metadata": {},
   "source": [
    "**Tuning Random Forest Classifier**"
   ]
  },
  {
   "cell_type": "code",
   "execution_count": 50,
   "metadata": {},
   "outputs": [],
   "source": [
    "train_scores_random_forest = []\n",
    "test_scores_random_forest = []\n",
    "# Setting up n_estimators testing parameter in the range(1,21)\n",
    "k_estimators = range(1, 21)\n",
    "\n",
    "# Initializing the Random Forest Classifier()\n",
    "random_forest = RandomForestClassifier()\n",
    "\n",
    "# Looping through different n_estimators to find out best accuracy\n",
    "for i in k_estimators:\n",
    "    random_forest.set_params(n_estimators=i, random_state=42)\n",
    "    random_forest.fit(X_train, y_train)\n",
    "    train_scores_random_forest.append(random_forest.score(X_train, y_train))\n",
    "    test_scores_random_forest.append(random_forest.score(X_test, y_test))"
   ]
  },
  {
   "cell_type": "code",
   "execution_count": 51,
   "metadata": {},
   "outputs": [
    {
     "name": "stdout",
     "output_type": "stream",
     "text": [
      "Maximum model score on the training data : 100.00%\n",
      "Maximum model score on the test data : 96.96%\n"
     ]
    },
    {
     "data": {
      "image/png": "[encoded data removed]",
      "text/plain": [
       "<Figure size 800x400 with 1 Axes>"
      ]
     },
     "metadata": {
      "needs_background": "light"
     },
     "output_type": "display_data"
    }
   ],
   "source": [
    "fig = plt.figure(figsize=(8,4), dpi=100)\n",
    "plt.plot(k_estimators, train_scores_random_forest, label=\"Train Scores\")\n",
    "plt.plot(k_estimators, test_scores_random_forest, label=\"Test Scores\")\n",
    "plt.xticks(np.arange(1, 21))\n",
    "plt.xlabel(\"Number of n_estimators\")\n",
    "plt.ylabel(\"Model Score\")\n",
    "plt.legend()\n",
    "print(f\"Maximum model score on the training data : {max(train_scores_random_forest)*100:.2f}%\")\n",
    "print(f\"Maximum model score on the test data : {max(test_scores_random_forest)*100:.2f}%\")"
   ]
  },
  {
   "cell_type": "markdown",
   "metadata": {},
   "source": [
    "**Tuning K-Nearest Neighbor Classifier**"
   ]
  },
  {
   "cell_type": "code",
   "execution_count": 52,
   "metadata": {},
   "outputs": [],
   "source": [
    "train_scores_knn = []\n",
    "test_scores_knn = []\n",
    "# Setting up n_neighbors testing parameter in the range(1,21)\n",
    "k_neighbors = range(1, 21)\n",
    "\n",
    "# Initializing the K-Nearest Neighbor Classifier()\n",
    "knn = KNeighborsClassifier()\n",
    "\n",
    "# Looping through different n_estimators to find out best accuracy\n",
    "for i in k_neighbors:\n",
    "    knn.set_params(n_neighbors=i)\n",
    "    knn.fit(X_train, y_train)\n",
    "    train_scores_knn.append(knn.score(X_train, y_train))\n",
    "    test_scores_knn.append(knn.score(X_test, y_test))"
   ]
  },
  {
   "cell_type": "code",
   "execution_count": 53,
   "metadata": {},
   "outputs": [
    {
     "name": "stdout",
     "output_type": "stream",
     "text": [
      "Maximum model score on the training data : 100.00%\n",
      "Maximum model score on the test data : 92.57%\n"
     ]
    },
    {
     "data": {
      "image/png": "[encoded data removed]",
      "text/plain": [
       "<Figure size 800x400 with 1 Axes>"
      ]
     },
     "metadata": {
      "needs_background": "light"
     },
     "output_type": "display_data"
    }
   ],
   "source": [
    "fig = plt.figure(figsize=(8,4), dpi=100)\n",
    "plt.plot(k_neighbors, train_scores_knn, label=\"Train Scores\")\n",
    "plt.plot(k_neighbors, test_scores_knn, label=\"Test Scores\")\n",
    "plt.xticks(np.arange(1, 21))\n",
    "plt.xlabel(\"Number of n_neighbors\")\n",
    "plt.ylabel(\"Model Score\")\n",
    "plt.legend()\n",
    "print(f\"Maximum model score on the training data : {max(train_scores_knn)*100:.2f}%\")\n",
    "print(f\"Maximum model score on the test data : {max(test_scores_knn)*100:.2f}%\")"
   ]
  },
  {
   "cell_type": "markdown",
   "metadata": {},
   "source": [
    "### 7.3 Hyperparameter tuning using RandomizedSearchCV"
   ]
  },
  {
   "cell_type": "markdown",
   "metadata": {},
   "source": [
    "**Random Forest Classifier**"
   ]
  },
  {
   "cell_type": "code",
   "execution_count": 54,
   "metadata": {},
   "outputs": [
    {
     "name": "stdout",
     "output_type": "stream",
     "text": [
      "Fitting 3 folds for each of 100 candidates, totalling 300 fits\n"
     ]
    },
    {
     "name": "stderr",
     "output_type": "stream",
     "text": [
      "[Parallel(n_jobs=-1)]: Using backend LokyBackend with 12 concurrent workers.\n",
      "[Parallel(n_jobs=-1)]: Done  17 tasks      | elapsed:   21.0s\n",
      "[Parallel(n_jobs=-1)]: Done 138 tasks      | elapsed:  2.3min\n",
      "[Parallel(n_jobs=-1)]: Done 300 out of 300 | elapsed:  4.9min finished\n"
     ]
    }
   ],
   "source": [
    "# Maximum number of levels in tree\n",
    "max_depth = [int(x) for x in np.linspace(10, 110, num=11)]\n",
    "max_depth.append(None)\n",
    "\n",
    "# Create the random forest param grid\n",
    "random_forest_grid_rs = {'n_estimators': [int(x) for x in np.linspace(start=100, stop=2000, num=10)],\n",
    "               'max_features': ['auto', 'sqrt'],\n",
    "               'max_depth': max_depth,\n",
    "               'min_samples_split': [2, 5, 10],\n",
    "               'min_samples_leaf': [1, 2, 4],\n",
    "               'bootstrap': [True, False],\n",
    "               'n_jobs': [-1]}\n",
    "\n",
    "# Random search of parameters, using 3 fold cross validation, \n",
    "# search across 100 different combinations, and use all available cores\n",
    "random_forest_rs = RandomizedSearchCV(estimator=RandomForestClassifier(n_jobs=-1), \n",
    "                               param_distributions=random_forest_grid_rs, \n",
    "                               n_iter=100, \n",
    "                               cv=3, \n",
    "                               verbose=2, \n",
    "                               random_state=42, \n",
    "                               n_jobs=-1)\n",
    "\n",
    "# Fit the random search model\n",
    "random_forest_rs.fit(X_train, y_train)\n",
    "\n",
    "# Cross validated score\n",
    "random_forest_rs_score = np.mean(cross_val_score(random_forest_rs, X_test, y_test, cv=5, n_jobs=-1))"
   ]
  },
  {
   "cell_type": "code",
   "execution_count": 55,
   "metadata": {},
   "outputs": [
    {
     "name": "stdout",
     "output_type": "stream",
     "text": [
      "***Model Performance***\n",
      "10-Fold Cross-Validated Score of Randomized Search CV:  0.929112662013958\n",
      "10-Fold Cross-Validated Score of Base Model:  0.9273446327683617\n",
      "Improvement :  0.1906550362316068\n",
      "\n",
      "\n",
      "***Best Parameters***\n",
      "{'n_jobs': -1, 'n_estimators': 944, 'min_samples_split': 2, 'min_samples_leaf': 1, 'max_features': 'auto', 'max_depth': 50, 'bootstrap': False}\n"
     ]
    }
   ],
   "source": [
    "print('***Model Performance***')\n",
    "print('10-Fold Cross-Validated Score of Randomized Search CV: ', random_forest_rs_score)\n",
    "print('10-Fold Cross-Validated Score of Base Model: ', model_scores['RandomForestClassifier'])\n",
    "print('Improvement : ', ((random_forest_rs_score - model_scores['RandomForestClassifier'])/model_scores['RandomForestClassifier'])*100)\n",
    "print('\\n')\n",
    "print('***Best Parameters***')\n",
    "print(random_forest_rs.best_params_)"
   ]
  },
  {
   "cell_type": "markdown",
   "metadata": {},
   "source": [
    "**KNearest Neighbor Classifier**"
   ]
  },
  {
   "cell_type": "code",
   "execution_count": 56,
   "metadata": {},
   "outputs": [
    {
     "name": "stdout",
     "output_type": "stream",
     "text": [
      "Fitting 3 folds for each of 100 candidates, totalling 300 fits\n"
     ]
    },
    {
     "name": "stderr",
     "output_type": "stream",
     "text": [
      "[Parallel(n_jobs=-1)]: Using backend LokyBackend with 12 concurrent workers.\n",
      "[Parallel(n_jobs=-1)]: Done  17 tasks      | elapsed:    8.2s\n",
      "[Parallel(n_jobs=-1)]: Done 138 tasks      | elapsed:   38.7s\n",
      "[Parallel(n_jobs=-1)]: Done 300 out of 300 | elapsed:  1.2min finished\n"
     ]
    }
   ],
   "source": [
    "# Create KNN param grid\n",
    "knn_grid_rs = {'n_neighbors':[5,6,7,8,9,10],\n",
    "               'leaf_size':[1,2,3,5],\n",
    "               'weights':['uniform', 'distance'],\n",
    "               'algorithm':['auto', 'ball_tree','kd_tree','brute'],\n",
    "               'n_jobs':[-1]}\n",
    "\n",
    "knn_rs = RandomizedSearchCV(estimator=KNeighborsClassifier(), \n",
    "                               param_distributions=knn_grid_rs, \n",
    "                               n_iter=100, \n",
    "                               cv=3, \n",
    "                               verbose=2, \n",
    "                               random_state=42, \n",
    "                               n_jobs=-1)\n",
    "\n",
    "# Fit the random search model\n",
    "knn_rs.fit(X_train, y_train)\n",
    "\n",
    "# Cross validated score\n",
    "knn_rs_score = np.mean(cross_val_score(knn_rs, X_test, y_test, cv=5, n_jobs=-1))"
   ]
  },
  {
   "cell_type": "code",
   "execution_count": 57,
   "metadata": {},
   "outputs": [
    {
     "name": "stdout",
     "output_type": "stream",
     "text": [
      "***Model Performance***\n",
      "10-Fold Cross-Validated Score of Randomized Search CV:  0.8733513744480843\n",
      "10-Fold Cross-Validated Score of Base Model:  0.8682485875706215\n",
      "Improvement :  0.5877103574381277 %\n",
      "\n",
      "\n",
      "***Best Parameters***\n",
      "{'weights': 'distance', 'n_neighbors': 10, 'n_jobs': -1, 'leaf_size': 5, 'algorithm': 'kd_tree'}\n"
     ]
    }
   ],
   "source": [
    "print('***Model Performance***')\n",
    "print('10-Fold Cross-Validated Score of Randomized Search CV: ', knn_rs_score)\n",
    "print('10-Fold Cross-Validated Score of Base Model: ', model_scores['KNearestNeighbor'])\n",
    "print('Improvement : ', ((knn_rs_score - model_scores['KNearestNeighbor'])/model_scores['KNearestNeighbor'])*100, \"%\")\n",
    "print('\\n')\n",
    "print('***Best Parameters***')\n",
    "print(knn_rs.best_params_)"
   ]
  },
  {
   "cell_type": "markdown",
   "metadata": {},
   "source": [
    "**Support Vector Machines**"
   ]
  },
  {
   "cell_type": "code",
   "execution_count": null,
   "metadata": {},
   "outputs": [],
   "source": [
    "svc_grid_rs = {'C': [0.1, 1, 5, 10, 100, 1000],  \n",
    "              'gamma' :('scale', 'auto'), \n",
    "              'kernel':('linear', 'rbf')}\n",
    "\n",
    "svc_rs = RandomizedSearchCV(estimator=SVC(), \n",
    "                            param_distributions=svc_grid_rs, \n",
    "                            n_iter=100, \n",
    "                            cv=3, \n",
    "                            verbose=2, \n",
    "                            random_state=42, \n",
    "                            n_jobs=-1)\n",
    "\n",
    "# Fit the random search model\n",
    "svc_rs.fit(X_train, y_train)\n",
    "\n",
    "# Cross validated score\n",
    "#svc_rs_score = np.mean(cross_val_score(svc_rs, X_test, y_test, cv=10, n_jobs=-1))"
   ]
  },
  {
   "cell_type": "code",
   "execution_count": null,
   "metadata": {},
   "outputs": [],
   "source": [
    "print('***Model Performance***')\n",
    "print('10-Fold Cross-Validated Score of Randomized Search CV: ', svc_rs_score)\n",
    "print('10-Fold Cross-Validated Score of Base Model: ', model_scores['SupportVectorMachines'])\n",
    "print('Improvement : ', ((svc_rs_score - model_scores['SupportVectorMachines'])/model_scores['SupportVectorMachines'])*100, \"%\")\n",
    "print('\\n')\n",
    "print('***Best Parameters***')\n",
    "print(svc_rs.best_params_)"
   ]
  },
  {
   "cell_type": "markdown",
   "metadata": {},
   "source": [
    "### 7.4 Hyperparameter tuning using GridSearchCV"
   ]
  },
  {
   "cell_type": "markdown",
   "metadata": {},
   "source": [
    "**Tuning Random Forest Classifier since it clearly outperforms both SVC and KNN under every scenario.**"
   ]
  },
  {
   "cell_type": "code",
   "execution_count": 60,
   "metadata": {},
   "outputs": [
    {
     "name": "stdout",
     "output_type": "stream",
     "text": [
      "Fitting 5 folds for each of 36 candidates, totalling 180 fits\n"
     ]
    },
    {
     "name": "stderr",
     "output_type": "stream",
     "text": [
      "[Parallel(n_jobs=-1)]: Using backend LokyBackend with 12 concurrent workers.\n",
      "[Parallel(n_jobs=-1)]: Done  26 tasks      | elapsed:   20.3s\n",
      "[Parallel(n_jobs=-1)]: Done 180 out of 180 | elapsed:  2.7min finished\n"
     ]
    },
    {
     "data": {
      "text/plain": [
       "GridSearchCV(cv=5, estimator=RandomForestClassifier(), n_jobs=-1,\n",
       "             param_grid={'bootstrap': [False], 'max_depth': [50],\n",
       "                         'max_features': ['auto'], 'min_samples_leaf': [1, 2],\n",
       "                         'min_samples_split': [1, 2, 3],\n",
       "                         'n_estimators': [800, 850, 900, 944, 950, 1000],\n",
       "                         'n_jobs': [-1]},\n",
       "             verbose=True)"
      ]
     },
     "execution_count": 60,
     "metadata": {},
     "output_type": "execute_result"
    }
   ],
   "source": [
    "#{'n_jobs': -1, 'n_estimators': 944, 'min_samples_split': 2, 'min_samples_leaf': 1, 'max_features': 'auto', 'max_depth': 50, 'bootstrap': False}\n",
    "# Create the grid\n",
    "random_forest_grid_gs = {'n_estimators': [800, 850, 900, 944, 950, 1000],\n",
    "                         'min_samples_split': [1, 2, 3],\n",
    "                         'min_samples_leaf': [1,2],\n",
    "                         'max_features': ['auto'],\n",
    "                         'max_depth': [50],\n",
    "                         'bootstrap': [False],\n",
    "                         'n_jobs': [-1]}\n",
    "\n",
    "# Create GridSearch model\n",
    "random_forest_gs = GridSearchCV(RandomForestClassifier(),\n",
    "                           param_grid=random_forest_grid_gs,\n",
    "                           cv=5,\n",
    "                           verbose=True,\n",
    "                           n_jobs=-1,\n",
    "                           refit=True)\n",
    "\n",
    "# Fitting the GridSearch model\n",
    "random_forest_gs.fit(X_train, y_train)"
   ]
  },
  {
   "cell_type": "code",
   "execution_count": 61,
   "metadata": {},
   "outputs": [
    {
     "name": "stdout",
     "output_type": "stream",
     "text": [
      "***Model Performance***\n",
      "10-Fold Cross-Validated Score of Randomized Search CV:  0.9291126620139583\n",
      "10-Fold Cross-Validated Score of Base Model:  0.9273446327683617\n",
      "Improvement :  0.19065503623163074\n",
      "\n",
      "\n",
      "***Best Parameters***\n",
      "{'bootstrap': False, 'max_depth': 50, 'max_features': 'auto', 'min_samples_leaf': 1, 'min_samples_split': 2, 'n_estimators': 800, 'n_jobs': -1}\n"
     ]
    }
   ],
   "source": [
    "# Evaluating our best parameters\n",
    "random_forest_gs_score = np.mean(cross_val_score(random_forest_gs, X_test, y_test, cv=5, n_jobs=-1))\n",
    "print('***Model Performance***')\n",
    "print('10-Fold Cross-Validated Score of Randomized Search CV: ', random_forest_gs_score)\n",
    "print('10-Fold Cross-Validated Score of Base Model: ', model_scores['RandomForestClassifier'])\n",
    "print('Improvement : ', ((random_forest_gs_score - model_scores['RandomForestClassifier'])/model_scores['RandomForestClassifier'])*100)\n",
    "print('\\n')\n",
    "print('***Best Parameters***')\n",
    "print(random_forest_gs.best_params_)"
   ]
  },
  {
   "cell_type": "markdown",
   "metadata": {},
   "source": [
    "## 8. Evaluating the machine learning models"
   ]
  },
  {
   "cell_type": "markdown",
   "metadata": {},
   "source": [
    "Finally fitting the Random Forest Classifier with best hyperparameters"
   ]
  },
  {
   "cell_type": "code",
   "execution_count": 175,
   "metadata": {},
   "outputs": [
    {
     "data": {
      "text/plain": [
       "RandomForestClassifier(bootstrap=False, max_depth=50, n_estimators=800,\n",
       "                       n_jobs=-1)"
      ]
     },
     "execution_count": 175,
     "metadata": {},
     "output_type": "execute_result"
    }
   ],
   "source": [
    "# Create the final model with best hyperparameters\n",
    "final_model = RandomForestClassifier(bootstrap=False, \n",
    "                                     max_depth=50, \n",
    "                                     max_features='auto', \n",
    "                                     min_samples_leaf=1, \n",
    "                                     min_samples_split=2, \n",
    "                                     n_estimators=800, \n",
    "                                     n_jobs=-1)\n",
    "\n",
    "# Fitting the model\n",
    "final_model.fit(X_train, y_train)"
   ]
  },
  {
   "cell_type": "markdown",
   "metadata": {},
   "source": [
    "### 8.1 Classification report"
   ]
  },
  {
   "cell_type": "code",
   "execution_count": 176,
   "metadata": {},
   "outputs": [],
   "source": [
    "# Making predictions\n",
    "final_model_ypred = final_model.predict(X_test)"
   ]
  },
  {
   "cell_type": "code",
   "execution_count": 177,
   "metadata": {},
   "outputs": [
    {
     "name": "stdout",
     "output_type": "stream",
     "text": [
      "              precision    recall  f1-score   support\n",
      "\n",
      "           0       0.98      0.94      0.96       303\n",
      "           1       0.94      0.98      0.96       289\n",
      "\n",
      "    accuracy                           0.96       592\n",
      "   macro avg       0.96      0.96      0.96       592\n",
      "weighted avg       0.96      0.96      0.96       592\n",
      "\n"
     ]
    }
   ],
   "source": [
    "print(classification_report(y_test, final_model_ypred))"
   ]
  },
  {
   "cell_type": "markdown",
   "metadata": {},
   "source": [
    "### 8.2 Confusion matrix"
   ]
  },
  {
   "cell_type": "markdown",
   "metadata": {},
   "source": [
    "Confusion matrix of Random Forest Classifier"
   ]
  },
  {
   "cell_type": "code",
   "execution_count": 178,
   "metadata": {},
   "outputs": [
    {
     "data": {
      "text/plain": [
       "<matplotlib.axes._subplots.AxesSubplot at 0x29edae91610>"
      ]
     },
     "execution_count": 178,
     "metadata": {},
     "output_type": "execute_result"
    },
    {
     "data": {
      "image/png": "[encoded data removed]",
      "text/plain": [
       "<Figure size 432x288 with 2 Axes>"
      ]
     },
     "metadata": {
      "needs_background": "light"
     },
     "output_type": "display_data"
    }
   ],
   "source": [
    "sns.heatmap(confusion_matrix(y_test, final_model_ypred), cmap= \"Blues\", annot=True, fmt='')"
   ]
  },
  {
   "cell_type": "markdown",
   "metadata": {},
   "source": [
    "### 8.3 ROC curve"
   ]
  },
  {
   "cell_type": "markdown",
   "metadata": {},
   "source": [
    "ROC curve of Random Forest Classifier"
   ]
  },
  {
   "cell_type": "code",
   "execution_count": 181,
   "metadata": {},
   "outputs": [
    {
     "data": {
      "text/plain": [
       "<sklearn.metrics._plot.roc_curve.RocCurveDisplay at 0x29eda946df0>"
      ]
     },
     "execution_count": 181,
     "metadata": {},
     "output_type": "execute_result"
    },
    {
     "data": {
      "image/png": "[encoded data removed]",
      "text/plain": [
       "<Figure size 432x288 with 1 Axes>"
      ]
     },
     "metadata": {
      "needs_background": "light"
     },
     "output_type": "display_data"
    }
   ],
   "source": [
    "plot_roc_curve(final_model, X_test, y_test)"
   ]
  },
  {
   "cell_type": "markdown",
   "metadata": {},
   "source": [
    "### 8.4 Cross-validated metrics"
   ]
  },
  {
   "cell_type": "markdown",
   "metadata": {},
   "source": [
    "**Random Forest Cross-validated Metrics**"
   ]
  },
  {
   "cell_type": "code",
   "execution_count": 182,
   "metadata": {},
   "outputs": [],
   "source": [
    "final_model_cv_acc = cross_val_score(final_model, X_test, y_test, cv=5, scoring=\"accuracy\")\n",
    "final_model_cv_pre = cross_val_score(final_model, X_test, y_test, cv=5, scoring=\"precision\")\n",
    "final_model_cv_recall = cross_val_score(final_model, X_test, y_test, cv=5, scoring=\"recall\")\n",
    "final_model_cv_f1 = cross_val_score(final_model, X_test, y_test, cv=5, scoring=\"f1\")"
   ]
  },
  {
   "cell_type": "code",
   "execution_count": 183,
   "metadata": {},
   "outputs": [
    {
     "data": {
      "text/html": [
       "<div>\n",
       "<style scoped>\n",
       "    .dataframe tbody tr th:only-of-type {\n",
       "        vertical-align: middle;\n",
       "    }\n",
       "\n",
       "    .dataframe tbody tr th {\n",
       "        vertical-align: top;\n",
       "    }\n",
       "\n",
       "    .dataframe thead th {\n",
       "        text-align: right;\n",
       "    }\n",
       "</style>\n",
       "<table border=\"1\" class=\"dataframe\">\n",
       "  <thead>\n",
       "    <tr style=\"text-align: right;\">\n",
       "      <th></th>\n",
       "      <th>Result</th>\n",
       "    </tr>\n",
       "  </thead>\n",
       "  <tbody>\n",
       "    <tr>\n",
       "      <th>Accuracy</th>\n",
       "      <td>0.930822</td>\n",
       "    </tr>\n",
       "    <tr>\n",
       "      <th>Precision</th>\n",
       "      <td>0.916714</td>\n",
       "    </tr>\n",
       "    <tr>\n",
       "      <th>Recall</th>\n",
       "      <td>0.944586</td>\n",
       "    </tr>\n",
       "    <tr>\n",
       "      <th>F1 Score</th>\n",
       "      <td>0.926843</td>\n",
       "    </tr>\n",
       "  </tbody>\n",
       "</table>\n",
       "</div>"
      ],
      "text/plain": [
       "             Result\n",
       "Accuracy   0.930822\n",
       "Precision  0.916714\n",
       "Recall     0.944586\n",
       "F1 Score   0.926843"
      ]
     },
     "execution_count": 183,
     "metadata": {},
     "output_type": "execute_result"
    }
   ],
   "source": [
    "# Create the dataframe of metrics\n",
    "final_model_cv_metrics = pd.DataFrame({\"Accuracy\": np.mean(final_model_cv_acc),\n",
    "                                       \"Precision\": np.mean(final_model_cv_pre),\n",
    "                                       \"Recall\": np.mean(final_model_cv_recall),\n",
    "                                       \"F1 Score\": np.mean(final_model_cv_f1)},\n",
    "                                        index=[\"Result\"]).T\n",
    "final_model_cv_metrics"
   ]
  },
  {
   "cell_type": "code",
   "execution_count": 184,
   "metadata": {},
   "outputs": [
    {
     "data": {
      "application/vnd.plotly.v1+json": {
       "config": {
        "plotlyServerURL": "https://plot.ly"
       },
       "data": [
        {
         "alignmentgroup": "True",
         "hovertemplate": "index=%{x}<br>y=%{y}<br>Result=%{marker.color}<extra></extra>",
         "legendgroup": "",
         "marker": {
          "color": [
           0.9308218202535251,
           0.9167135531273651,
           0.9445856019358742,
           0.926843191090015
          ],
          "coloraxis": "coloraxis"
         },
         "name": "",
         "offsetgroup": "",
         "orientation": "v",
         "showlegend": false,
         "textposition": "auto",
         "type": "bar",
         "x": [
          "Accuracy",
          "Precision",
          "Recall",
          "F1 Score"
         ],
         "xaxis": "x",
         "y": [
          93.08218202535251,
          91.67135531273651,
          94.45856019358742,
          92.6843191090015
         ],
         "yaxis": "y"
        }
       ],
       "layout": {
        "barmode": "relative",
        "coloraxis": {
         "colorbar": {
          "title": {
           "text": "Result"
          }
         },
         "colorscale": [
          [
           0,
           "rgb(236, 218, 154)"
          ],
          [
           0.16666666666666666,
           "rgb(239, 196, 126)"
          ],
          [
           0.3333333333333333,
           "rgb(243, 173, 106)"
          ],
          [
           0.5,
           "rgb(247, 148, 93)"
          ],
          [
           0.6666666666666666,
           "rgb(249, 123, 87)"
          ],
          [
           0.8333333333333334,
           "rgb(246, 99, 86)"
          ],
          [
           1,
           "rgb(238, 77, 90)"
          ]
         ]
        },
        "font": {
         "color": "#351f39",
         "family": "Courier New"
        },
        "legend": {
         "tracegroupgap": 0
        },
        "margin": {
         "t": 60
        },
        "template": {
         "data": {
          "bar": [
           {
            "error_x": {
             "color": "#2a3f5f"
            },
            "error_y": {
             "color": "#2a3f5f"
            },
            "marker": {
             "line": {
              "color": "#E5ECF6",
              "width": 0.5
             }
            },
            "type": "bar"
           }
          ],
          "barpolar": [
           {
            "marker": {
             "line": {
              "color": "#E5ECF6",
              "width": 0.5
             }
            },
            "type": "barpolar"
           }
          ],
          "carpet": [
           {
            "aaxis": {
             "endlinecolor": "#2a3f5f",
             "gridcolor": "white",
             "linecolor": "white",
             "minorgridcolor": "white",
             "startlinecolor": "#2a3f5f"
            },
            "baxis": {
             "endlinecolor": "#2a3f5f",
             "gridcolor": "white",
             "linecolor": "white",
             "minorgridcolor": "white",
             "startlinecolor": "#2a3f5f"
            },
            "type": "carpet"
           }
          ],
          "choropleth": [
           {
            "colorbar": {
             "outlinewidth": 0,
             "ticks": ""
            },
            "type": "choropleth"
           }
          ],
          "contour": [
           {
            "colorbar": {
             "outlinewidth": 0,
             "ticks": ""
            },
            "colorscale": [
             [
              0,
              "#0d0887"
             ],
             [
              0.1111111111111111,
              "#46039f"
             ],
             [
              0.2222222222222222,
              "#7201a8"
             ],
             [
              0.3333333333333333,
              "#9c179e"
             ],
             [
              0.4444444444444444,
              "#bd3786"
             ],
             [
              0.5555555555555556,
              "#d8576b"
             ],
             [
              0.6666666666666666,
              "#ed7953"
             ],
             [
              0.7777777777777778,
              "#fb9f3a"
             ],
             [
              0.8888888888888888,
              "#fdca26"
             ],
             [
              1,
              "#f0f921"
             ]
            ],
            "type": "contour"
           }
          ],
          "contourcarpet": [
           {
            "colorbar": {
             "outlinewidth": 0,
             "ticks": ""
            },
            "type": "contourcarpet"
           }
          ],
          "heatmap": [
           {
            "colorbar": {
             "outlinewidth": 0,
             "ticks": ""
            },
            "colorscale": [
             [
              0,
              "#0d0887"
             ],
             [
              0.1111111111111111,
              "#46039f"
             ],
             [
              0.2222222222222222,
              "#7201a8"
             ],
             [
              0.3333333333333333,
              "#9c179e"
             ],
             [
              0.4444444444444444,
              "#bd3786"
             ],
             [
              0.5555555555555556,
              "#d8576b"
             ],
             [
              0.6666666666666666,
              "#ed7953"
             ],
             [
              0.7777777777777778,
              "#fb9f3a"
             ],
             [
              0.8888888888888888,
              "#fdca26"
             ],
             [
              1,
              "#f0f921"
             ]
            ],
            "type": "heatmap"
           }
          ],
          "heatmapgl": [
           {
            "colorbar": {
             "outlinewidth": 0,
             "ticks": ""
            },
            "colorscale": [
             [
              0,
              "#0d0887"
             ],
             [
              0.1111111111111111,
              "#46039f"
             ],
             [
              0.2222222222222222,
              "#7201a8"
             ],
             [
              0.3333333333333333,
              "#9c179e"
             ],
             [
              0.4444444444444444,
              "#bd3786"
             ],
             [
              0.5555555555555556,
              "#d8576b"
             ],
             [
              0.6666666666666666,
              "#ed7953"
             ],
             [
              0.7777777777777778,
              "#fb9f3a"
             ],
             [
              0.8888888888888888,
              "#fdca26"
             ],
             [
              1,
              "#f0f921"
             ]
            ],
            "type": "heatmapgl"
           }
          ],
          "histogram": [
           {
            "marker": {
             "colorbar": {
              "outlinewidth": 0,
              "ticks": ""
             }
            },
            "type": "histogram"
           }
          ],
          "histogram2d": [
           {
            "colorbar": {
             "outlinewidth": 0,
             "ticks": ""
            },
            "colorscale": [
             [
              0,
              "#0d0887"
             ],
             [
              0.1111111111111111,
              "#46039f"
             ],
             [
              0.2222222222222222,
              "#7201a8"
             ],
             [
              0.3333333333333333,
              "#9c179e"
             ],
             [
              0.4444444444444444,
              "#bd3786"
             ],
             [
              0.5555555555555556,
              "#d8576b"
             ],
             [
              0.6666666666666666,
              "#ed7953"
             ],
             [
              0.7777777777777778,
              "#fb9f3a"
             ],
             [
              0.8888888888888888,
              "#fdca26"
             ],
             [
              1,
              "#f0f921"
             ]
            ],
            "type": "histogram2d"
           }
          ],
          "histogram2dcontour": [
           {
            "colorbar": {
             "outlinewidth": 0,
             "ticks": ""
            },
            "colorscale": [
             [
              0,
              "#0d0887"
             ],
             [
              0.1111111111111111,
              "#46039f"
             ],
             [
              0.2222222222222222,
              "#7201a8"
             ],
             [
              0.3333333333333333,
              "#9c179e"
             ],
             [
              0.4444444444444444,
              "#bd3786"
             ],
             [
              0.5555555555555556,
              "#d8576b"
             ],
             [
              0.6666666666666666,
              "#ed7953"
             ],
             [
              0.7777777777777778,
              "#fb9f3a"
             ],
             [
              0.8888888888888888,
              "#fdca26"
             ],
             [
              1,
              "#f0f921"
             ]
            ],
            "type": "histogram2dcontour"
           }
          ],
          "mesh3d": [
           {
            "colorbar": {
             "outlinewidth": 0,
             "ticks": ""
            },
            "type": "mesh3d"
           }
          ],
          "parcoords": [
           {
            "line": {
             "colorbar": {
              "outlinewidth": 0,
              "ticks": ""
             }
            },
            "type": "parcoords"
           }
          ],
          "pie": [
           {
            "automargin": true,
            "type": "pie"
           }
          ],
          "scatter": [
           {
            "marker": {
             "colorbar": {
              "outlinewidth": 0,
              "ticks": ""
             }
            },
            "type": "scatter"
           }
          ],
          "scatter3d": [
           {
            "line": {
             "colorbar": {
              "outlinewidth": 0,
              "ticks": ""
             }
            },
            "marker": {
             "colorbar": {
              "outlinewidth": 0,
              "ticks": ""
             }
            },
            "type": "scatter3d"
           }
          ],
          "scattercarpet": [
           {
            "marker": {
             "colorbar": {
              "outlinewidth": 0,
              "ticks": ""
             }
            },
            "type": "scattercarpet"
           }
          ],
          "scattergeo": [
           {
            "marker": {
             "colorbar": {
              "outlinewidth": 0,
              "ticks": ""
             }
            },
            "type": "scattergeo"
           }
          ],
          "scattergl": [
           {
            "marker": {
             "colorbar": {
              "outlinewidth": 0,
              "ticks": ""
             }
            },
            "type": "scattergl"
           }
          ],
          "scattermapbox": [
           {
            "marker": {
             "colorbar": {
              "outlinewidth": 0,
              "ticks": ""
             }
            },
            "type": "scattermapbox"
           }
          ],
          "scatterpolar": [
           {
            "marker": {
             "colorbar": {
              "outlinewidth": 0,
              "ticks": ""
             }
            },
            "type": "scatterpolar"
           }
          ],
          "scatterpolargl": [
           {
            "marker": {
             "colorbar": {
              "outlinewidth": 0,
              "ticks": ""
             }
            },
            "type": "scatterpolargl"
           }
          ],
          "scatterternary": [
           {
            "marker": {
             "colorbar": {
              "outlinewidth": 0,
              "ticks": ""
             }
            },
            "type": "scatterternary"
           }
          ],
          "surface": [
           {
            "colorbar": {
             "outlinewidth": 0,
             "ticks": ""
            },
            "colorscale": [
             [
              0,
              "#0d0887"
             ],
             [
              0.1111111111111111,
              "#46039f"
             ],
             [
              0.2222222222222222,
              "#7201a8"
             ],
             [
              0.3333333333333333,
              "#9c179e"
             ],
             [
              0.4444444444444444,
              "#bd3786"
             ],
             [
              0.5555555555555556,
              "#d8576b"
             ],
             [
              0.6666666666666666,
              "#ed7953"
             ],
             [
              0.7777777777777778,
              "#fb9f3a"
             ],
             [
              0.8888888888888888,
              "#fdca26"
             ],
             [
              1,
              "#f0f921"
             ]
            ],
            "type": "surface"
           }
          ],
          "table": [
           {
            "cells": {
             "fill": {
              "color": "#EBF0F8"
             },
             "line": {
              "color": "white"
             }
            },
            "header": {
             "fill": {
              "color": "#C8D4E3"
             },
             "line": {
              "color": "white"
             }
            },
            "type": "table"
           }
          ]
         },
         "layout": {
          "annotationdefaults": {
           "arrowcolor": "#2a3f5f",
           "arrowhead": 0,
           "arrowwidth": 1
          },
          "coloraxis": {
           "colorbar": {
            "outlinewidth": 0,
            "ticks": ""
           }
          },
          "colorscale": {
           "diverging": [
            [
             0,
             "#8e0152"
            ],
            [
             0.1,
             "#c51b7d"
            ],
            [
             0.2,
             "#de77ae"
            ],
            [
             0.3,
             "#f1b6da"
            ],
            [
             0.4,
             "#fde0ef"
            ],
            [
             0.5,
             "#f7f7f7"
            ],
            [
             0.6,
             "#e6f5d0"
            ],
            [
             0.7,
             "#b8e186"
            ],
            [
             0.8,
             "#7fbc41"
            ],
            [
             0.9,
             "#4d9221"
            ],
            [
             1,
             "#276419"
            ]
           ],
           "sequential": [
            [
             0,
             "#0d0887"
            ],
            [
             0.1111111111111111,
             "#46039f"
            ],
            [
             0.2222222222222222,
             "#7201a8"
            ],
            [
             0.3333333333333333,
             "#9c179e"
            ],
            [
             0.4444444444444444,
             "#bd3786"
            ],
            [
             0.5555555555555556,
             "#d8576b"
            ],
            [
             0.6666666666666666,
             "#ed7953"
            ],
            [
             0.7777777777777778,
             "#fb9f3a"
            ],
            [
             0.8888888888888888,
             "#fdca26"
            ],
            [
             1,
             "#f0f921"
            ]
           ],
           "sequentialminus": [
            [
             0,
             "#0d0887"
            ],
            [
             0.1111111111111111,
             "#46039f"
            ],
            [
             0.2222222222222222,
             "#7201a8"
            ],
            [
             0.3333333333333333,
             "#9c179e"
            ],
            [
             0.4444444444444444,
             "#bd3786"
            ],
            [
             0.5555555555555556,
             "#d8576b"
            ],
            [
             0.6666666666666666,
             "#ed7953"
            ],
            [
             0.7777777777777778,
             "#fb9f3a"
            ],
            [
             0.8888888888888888,
             "#fdca26"
            ],
            [
             1,
             "#f0f921"
            ]
           ]
          },
          "colorway": [
           "#636efa",
           "#EF553B",
           "#00cc96",
           "#ab63fa",
           "#FFA15A",
           "#19d3f3",
           "#FF6692",
           "#B6E880",
           "#FF97FF",
           "#FECB52"
          ],
          "font": {
           "color": "#2a3f5f"
          },
          "geo": {
           "bgcolor": "white",
           "lakecolor": "white",
           "landcolor": "#E5ECF6",
           "showlakes": true,
           "showland": true,
           "subunitcolor": "white"
          },
          "hoverlabel": {
           "align": "left"
          },
          "hovermode": "closest",
          "mapbox": {
           "style": "light"
          },
          "paper_bgcolor": "white",
          "plot_bgcolor": "#E5ECF6",
          "polar": {
           "angularaxis": {
            "gridcolor": "white",
            "linecolor": "white",
            "ticks": ""
           },
           "bgcolor": "#E5ECF6",
           "radialaxis": {
            "gridcolor": "white",
            "linecolor": "white",
            "ticks": ""
           }
          },
          "scene": {
           "xaxis": {
            "backgroundcolor": "#E5ECF6",
            "gridcolor": "white",
            "gridwidth": 2,
            "linecolor": "white",
            "showbackground": true,
            "ticks": "",
            "zerolinecolor": "white"
           },
           "yaxis": {
            "backgroundcolor": "#E5ECF6",
            "gridcolor": "white",
            "gridwidth": 2,
            "linecolor": "white",
            "showbackground": true,
            "ticks": "",
            "zerolinecolor": "white"
           },
           "zaxis": {
            "backgroundcolor": "#E5ECF6",
            "gridcolor": "white",
            "gridwidth": 2,
            "linecolor": "white",
            "showbackground": true,
            "ticks": "",
            "zerolinecolor": "white"
           }
          },
          "shapedefaults": {
           "line": {
            "color": "#2a3f5f"
           }
          },
          "ternary": {
           "aaxis": {
            "gridcolor": "white",
            "linecolor": "white",
            "ticks": ""
           },
           "baxis": {
            "gridcolor": "white",
            "linecolor": "white",
            "ticks": ""
           },
           "bgcolor": "#E5ECF6",
           "caxis": {
            "gridcolor": "white",
            "linecolor": "white",
            "ticks": ""
           }
          },
          "title": {
           "x": 0.05
          },
          "xaxis": {
           "automargin": true,
           "gridcolor": "white",
           "linecolor": "white",
           "ticks": "",
           "title": {
            "standoff": 15
           },
           "zerolinecolor": "white",
           "zerolinewidth": 2
          },
          "yaxis": {
           "automargin": true,
           "gridcolor": "white",
           "linecolor": "white",
           "ticks": "",
           "title": {
            "standoff": 15
           },
           "zerolinecolor": "white",
           "zerolinewidth": 2
          }
         }
        },
        "title": {
         "font": {
          "color": "#351f39",
          "family": "Courier New"
         },
         "text": "Random Forest Cross-validated Metrics"
        },
        "xaxis": {
         "anchor": "y",
         "domain": [
          0,
          1
         ],
         "title": {
          "text": "Performance Metrics"
         }
        },
        "yaxis": {
         "anchor": "x",
         "domain": [
          0,
          1
         ],
         "title": {
          "text": "Score"
         }
        }
       }
      },
      "text/html": [
       "<div>                            <div id=\"72a55c22-594e-4721-8891-7d23e670e143\" class=\"plotly-graph-div\" style=\"height:525px; width:100%;\"></div>            <script type=\"text/javascript\">                require([\"plotly\"], function(Plotly) {                    window.PLOTLYENV=window.PLOTLYENV || {};                                    if (document.getElementById(\"72a55c22-594e-4721-8891-7d23e670e143\")) {                    Plotly.newPlot(                        \"72a55c22-594e-4721-8891-7d23e670e143\",                        [{\"alignmentgroup\": \"True\", \"hovertemplate\": \"index=%{x}<br>y=%{y}<br>Result=%{marker.color}<extra></extra>\", \"legendgroup\": \"\", \"marker\": {\"color\": [0.9308218202535251, 0.9167135531273651, 0.9445856019358742, 0.926843191090015], \"coloraxis\": \"coloraxis\"}, \"name\": \"\", \"offsetgroup\": \"\", \"orientation\": \"v\", \"showlegend\": false, \"textposition\": \"auto\", \"type\": \"bar\", \"x\": [\"Accuracy\", \"Precision\", \"Recall\", \"F1 Score\"], \"xaxis\": \"x\", \"y\": [93.08218202535251, 91.67135531273651, 94.45856019358742, 92.6843191090015], \"yaxis\": \"y\"}],                        {\"barmode\": \"relative\", \"coloraxis\": {\"colorbar\": {\"title\": {\"text\": \"Result\"}}, \"colorscale\": [[0.0, \"rgb(236, 218, 154)\"], [0.16666666666666666, \"rgb(239, 196, 126)\"], [0.3333333333333333, \"rgb(243, 173, 106)\"], [0.5, \"rgb(247, 148, 93)\"], [0.6666666666666666, \"rgb(249, 123, 87)\"], [0.8333333333333334, \"rgb(246, 99, 86)\"], [1.0, \"rgb(238, 77, 90)\"]]}, \"font\": {\"color\": \"#351f39\", \"family\": \"Courier New\"}, \"legend\": {\"tracegroupgap\": 0}, \"margin\": {\"t\": 60}, \"template\": {\"data\": {\"bar\": [{\"error_x\": {\"color\": \"#2a3f5f\"}, \"error_y\": {\"color\": \"#2a3f5f\"}, \"marker\": {\"line\": {\"color\": \"#E5ECF6\", \"width\": 0.5}}, \"type\": \"bar\"}], \"barpolar\": [{\"marker\": {\"line\": {\"color\": \"#E5ECF6\", \"width\": 0.5}}, \"type\": \"barpolar\"}], \"carpet\": [{\"aaxis\": {\"endlinecolor\": \"#2a3f5f\", \"gridcolor\": \"white\", \"linecolor\": \"white\", \"minorgridcolor\": \"white\", \"startlinecolor\": \"#2a3f5f\"}, \"baxis\": {\"endlinecolor\": \"#2a3f5f\", \"gridcolor\": \"white\", \"linecolor\": \"white\", \"minorgridcolor\": \"white\", \"startlinecolor\": \"#2a3f5f\"}, \"type\": \"carpet\"}], \"choropleth\": [{\"colorbar\": {\"outlinewidth\": 0, \"ticks\": \"\"}, \"type\": \"choropleth\"}], \"contour\": [{\"colorbar\": {\"outlinewidth\": 0, \"ticks\": \"\"}, \"colorscale\": [[0.0, \"#0d0887\"], [0.1111111111111111, \"#46039f\"], [0.2222222222222222, \"#7201a8\"], [0.3333333333333333, \"#9c179e\"], [0.4444444444444444, \"#bd3786\"], [0.5555555555555556, \"#d8576b\"], [0.6666666666666666, \"#ed7953\"], [0.7777777777777778, \"#fb9f3a\"], [0.8888888888888888, \"#fdca26\"], [1.0, \"#f0f921\"]], \"type\": \"contour\"}], \"contourcarpet\": [{\"colorbar\": {\"outlinewidth\": 0, \"ticks\": \"\"}, \"type\": \"contourcarpet\"}], \"heatmap\": [{\"colorbar\": {\"outlinewidth\": 0, \"ticks\": \"\"}, \"colorscale\": [[0.0, \"#0d0887\"], [0.1111111111111111, \"#46039f\"], [0.2222222222222222, \"#7201a8\"], [0.3333333333333333, \"#9c179e\"], [0.4444444444444444, \"#bd3786\"], [0.5555555555555556, \"#d8576b\"], [0.6666666666666666, \"#ed7953\"], [0.7777777777777778, \"#fb9f3a\"], [0.8888888888888888, \"#fdca26\"], [1.0, \"#f0f921\"]], \"type\": \"heatmap\"}], \"heatmapgl\": [{\"colorbar\": {\"outlinewidth\": 0, \"ticks\": \"\"}, \"colorscale\": [[0.0, \"#0d0887\"], [0.1111111111111111, \"#46039f\"], [0.2222222222222222, \"#7201a8\"], [0.3333333333333333, \"#9c179e\"], [0.4444444444444444, \"#bd3786\"], [0.5555555555555556, \"#d8576b\"], [0.6666666666666666, \"#ed7953\"], [0.7777777777777778, \"#fb9f3a\"], [0.8888888888888888, \"#fdca26\"], [1.0, \"#f0f921\"]], \"type\": \"heatmapgl\"}], \"histogram\": [{\"marker\": {\"colorbar\": {\"outlinewidth\": 0, \"ticks\": \"\"}}, \"type\": \"histogram\"}], \"histogram2d\": [{\"colorbar\": {\"outlinewidth\": 0, \"ticks\": \"\"}, \"colorscale\": [[0.0, \"#0d0887\"], [0.1111111111111111, \"#46039f\"], [0.2222222222222222, \"#7201a8\"], [0.3333333333333333, \"#9c179e\"], [0.4444444444444444, \"#bd3786\"], [0.5555555555555556, \"#d8576b\"], [0.6666666666666666, \"#ed7953\"], [0.7777777777777778, \"#fb9f3a\"], [0.8888888888888888, \"#fdca26\"], [1.0, \"#f0f921\"]], \"type\": \"histogram2d\"}], \"histogram2dcontour\": [{\"colorbar\": {\"outlinewidth\": 0, \"ticks\": \"\"}, \"colorscale\": [[0.0, \"#0d0887\"], [0.1111111111111111, \"#46039f\"], [0.2222222222222222, \"#7201a8\"], [0.3333333333333333, \"#9c179e\"], [0.4444444444444444, \"#bd3786\"], [0.5555555555555556, \"#d8576b\"], [0.6666666666666666, \"#ed7953\"], [0.7777777777777778, \"#fb9f3a\"], [0.8888888888888888, \"#fdca26\"], [1.0, \"#f0f921\"]], \"type\": \"histogram2dcontour\"}], \"mesh3d\": [{\"colorbar\": {\"outlinewidth\": 0, \"ticks\": \"\"}, \"type\": \"mesh3d\"}], \"parcoords\": [{\"line\": {\"colorbar\": {\"outlinewidth\": 0, \"ticks\": \"\"}}, \"type\": \"parcoords\"}], \"pie\": [{\"automargin\": true, \"type\": \"pie\"}], \"scatter\": [{\"marker\": {\"colorbar\": {\"outlinewidth\": 0, \"ticks\": \"\"}}, \"type\": \"scatter\"}], \"scatter3d\": [{\"line\": {\"colorbar\": {\"outlinewidth\": 0, \"ticks\": \"\"}}, \"marker\": {\"colorbar\": {\"outlinewidth\": 0, \"ticks\": \"\"}}, \"type\": \"scatter3d\"}], \"scattercarpet\": [{\"marker\": {\"colorbar\": {\"outlinewidth\": 0, \"ticks\": \"\"}}, \"type\": \"scattercarpet\"}], \"scattergeo\": [{\"marker\": {\"colorbar\": {\"outlinewidth\": 0, \"ticks\": \"\"}}, \"type\": \"scattergeo\"}], \"scattergl\": [{\"marker\": {\"colorbar\": {\"outlinewidth\": 0, \"ticks\": \"\"}}, \"type\": \"scattergl\"}], \"scattermapbox\": [{\"marker\": {\"colorbar\": {\"outlinewidth\": 0, \"ticks\": \"\"}}, \"type\": \"scattermapbox\"}], \"scatterpolar\": [{\"marker\": {\"colorbar\": {\"outlinewidth\": 0, \"ticks\": \"\"}}, \"type\": \"scatterpolar\"}], \"scatterpolargl\": [{\"marker\": {\"colorbar\": {\"outlinewidth\": 0, \"ticks\": \"\"}}, \"type\": \"scatterpolargl\"}], \"scatterternary\": [{\"marker\": {\"colorbar\": {\"outlinewidth\": 0, \"ticks\": \"\"}}, \"type\": \"scatterternary\"}], \"surface\": [{\"colorbar\": {\"outlinewidth\": 0, \"ticks\": \"\"}, \"colorscale\": [[0.0, \"#0d0887\"], [0.1111111111111111, \"#46039f\"], [0.2222222222222222, \"#7201a8\"], [0.3333333333333333, \"#9c179e\"], [0.4444444444444444, \"#bd3786\"], [0.5555555555555556, \"#d8576b\"], [0.6666666666666666, \"#ed7953\"], [0.7777777777777778, \"#fb9f3a\"], [0.8888888888888888, \"#fdca26\"], [1.0, \"#f0f921\"]], \"type\": \"surface\"}], \"table\": [{\"cells\": {\"fill\": {\"color\": \"#EBF0F8\"}, \"line\": {\"color\": \"white\"}}, \"header\": {\"fill\": {\"color\": \"#C8D4E3\"}, \"line\": {\"color\": \"white\"}}, \"type\": \"table\"}]}, \"layout\": {\"annotationdefaults\": {\"arrowcolor\": \"#2a3f5f\", \"arrowhead\": 0, \"arrowwidth\": 1}, \"coloraxis\": {\"colorbar\": {\"outlinewidth\": 0, \"ticks\": \"\"}}, \"colorscale\": {\"diverging\": [[0, \"#8e0152\"], [0.1, \"#c51b7d\"], [0.2, \"#de77ae\"], [0.3, \"#f1b6da\"], [0.4, \"#fde0ef\"], [0.5, \"#f7f7f7\"], [0.6, \"#e6f5d0\"], [0.7, \"#b8e186\"], [0.8, \"#7fbc41\"], [0.9, \"#4d9221\"], [1, \"#276419\"]], \"sequential\": [[0.0, \"#0d0887\"], [0.1111111111111111, \"#46039f\"], [0.2222222222222222, \"#7201a8\"], [0.3333333333333333, \"#9c179e\"], [0.4444444444444444, \"#bd3786\"], [0.5555555555555556, \"#d8576b\"], [0.6666666666666666, \"#ed7953\"], [0.7777777777777778, \"#fb9f3a\"], [0.8888888888888888, \"#fdca26\"], [1.0, \"#f0f921\"]], \"sequentialminus\": [[0.0, \"#0d0887\"], [0.1111111111111111, \"#46039f\"], [0.2222222222222222, \"#7201a8\"], [0.3333333333333333, \"#9c179e\"], [0.4444444444444444, \"#bd3786\"], [0.5555555555555556, \"#d8576b\"], [0.6666666666666666, \"#ed7953\"], [0.7777777777777778, \"#fb9f3a\"], [0.8888888888888888, \"#fdca26\"], [1.0, \"#f0f921\"]]}, \"colorway\": [\"#636efa\", \"#EF553B\", \"#00cc96\", \"#ab63fa\", \"#FFA15A\", \"#19d3f3\", \"#FF6692\", \"#B6E880\", \"#FF97FF\", \"#FECB52\"], \"font\": {\"color\": \"#2a3f5f\"}, \"geo\": {\"bgcolor\": \"white\", \"lakecolor\": \"white\", \"landcolor\": \"#E5ECF6\", \"showlakes\": true, \"showland\": true, \"subunitcolor\": \"white\"}, \"hoverlabel\": {\"align\": \"left\"}, \"hovermode\": \"closest\", \"mapbox\": {\"style\": \"light\"}, \"paper_bgcolor\": \"white\", \"plot_bgcolor\": \"#E5ECF6\", \"polar\": {\"angularaxis\": {\"gridcolor\": \"white\", \"linecolor\": \"white\", \"ticks\": \"\"}, \"bgcolor\": \"#E5ECF6\", \"radialaxis\": {\"gridcolor\": \"white\", \"linecolor\": \"white\", \"ticks\": \"\"}}, \"scene\": {\"xaxis\": {\"backgroundcolor\": \"#E5ECF6\", \"gridcolor\": \"white\", \"gridwidth\": 2, \"linecolor\": \"white\", \"showbackground\": true, \"ticks\": \"\", \"zerolinecolor\": \"white\"}, \"yaxis\": {\"backgroundcolor\": \"#E5ECF6\", \"gridcolor\": \"white\", \"gridwidth\": 2, \"linecolor\": \"white\", \"showbackground\": true, \"ticks\": \"\", \"zerolinecolor\": \"white\"}, \"zaxis\": {\"backgroundcolor\": \"#E5ECF6\", \"gridcolor\": \"white\", \"gridwidth\": 2, \"linecolor\": \"white\", \"showbackground\": true, \"ticks\": \"\", \"zerolinecolor\": \"white\"}}, \"shapedefaults\": {\"line\": {\"color\": \"#2a3f5f\"}}, \"ternary\": {\"aaxis\": {\"gridcolor\": \"white\", \"linecolor\": \"white\", \"ticks\": \"\"}, \"baxis\": {\"gridcolor\": \"white\", \"linecolor\": \"white\", \"ticks\": \"\"}, \"bgcolor\": \"#E5ECF6\", \"caxis\": {\"gridcolor\": \"white\", \"linecolor\": \"white\", \"ticks\": \"\"}}, \"title\": {\"x\": 0.05}, \"xaxis\": {\"automargin\": true, \"gridcolor\": \"white\", \"linecolor\": \"white\", \"ticks\": \"\", \"title\": {\"standoff\": 15}, \"zerolinecolor\": \"white\", \"zerolinewidth\": 2}, \"yaxis\": {\"automargin\": true, \"gridcolor\": \"white\", \"linecolor\": \"white\", \"ticks\": \"\", \"title\": {\"standoff\": 15}, \"zerolinecolor\": \"white\", \"zerolinewidth\": 2}}}, \"title\": {\"font\": {\"color\": \"#351f39\", \"family\": \"Courier New\"}, \"text\": \"Random Forest Cross-validated Metrics\"}, \"xaxis\": {\"anchor\": \"y\", \"domain\": [0.0, 1.0], \"title\": {\"text\": \"Performance Metrics\"}}, \"yaxis\": {\"anchor\": \"x\", \"domain\": [0.0, 1.0], \"title\": {\"text\": \"Score\"}}},                        {\"responsive\": true}                    ).then(function(){\n",
       "                            \n",
       "var gd = document.getElementById('72a55c22-594e-4721-8891-7d23e670e143');\n",
       "var x = new MutationObserver(function (mutations, observer) {{\n",
       "        var display = window.getComputedStyle(gd).display;\n",
       "        if (!display || display === 'none') {{\n",
       "            console.log([gd, 'removed!']);\n",
       "            Plotly.purge(gd);\n",
       "            observer.disconnect();\n",
       "        }}\n",
       "}});\n",
       "\n",
       "// Listen for the removal of the full notebook cells\n",
       "var notebookContainer = gd.closest('#notebook-container');\n",
       "if (notebookContainer) {{\n",
       "    x.observe(notebookContainer, {childList: true});\n",
       "}}\n",
       "\n",
       "// Listen for the clearing of the current output cell\n",
       "var outputEl = gd.closest('.output');\n",
       "if (outputEl) {{\n",
       "    x.observe(outputEl, {childList: true});\n",
       "}}\n",
       "\n",
       "                        })                };                });            </script>        </div>"
      ]
     },
     "metadata": {},
     "output_type": "display_data"
    }
   ],
   "source": [
    "# Visualizing our metrics\n",
    "final_model_cv_metrics_fig = px.bar(final_model_cv_metrics, \n",
    "                                    y=final_model_cv_metrics[\"Result\"] * 100,\n",
    "                                    color_continuous_scale='Oryel',\n",
    "                                    color='Result')\n",
    "final_model_cv_metrics_fig.update_layout(title_text='Random Forest Cross-validated Metrics',\n",
    "                                         xaxis_title='Performance Metrics',\n",
    "                                         yaxis_title='Score')\n",
    "final_model_cv_metrics_fig.update_layout(font_family=\"Courier New\",\n",
    "                                              font_color=\"#351f39\",\n",
    "                                              title_font_family=\"Courier New\",\n",
    "                                              title_font_color=\"#351f39\")\n",
    "final_model_cv_metrics_fig.show()"
   ]
  },
  {
   "cell_type": "markdown",
   "metadata": {},
   "source": [
    "## 9. Conclusion"
   ]
  },
  {
   "cell_type": "markdown",
   "metadata": {},
   "source": [
    "**Final Results**\n",
    "\n",
    "- _Accuracy_ : 93.25%\n",
    "- _Precision_ : 92.00%\n",
    "- _Recall_ : 94.50%\n",
    "- _F1 Score_ : 93.02%\n",
    "- _AUC_ : 1.00\n",
    "\n",
    "**Best Parameters**\n",
    "\n",
    "- _nestimators_      = 800\n",
    "- _bootstrap_         = False\n",
    "- _maxdepth_         = 50\n",
    "- _maxfeatures_      = 'auto' \n",
    "- _minsamples_leaf_  = 1\n",
    "- _minsamplessplit_ = 2"
   ]
  }
 ],
 "metadata": {
  "kernelspec": {
   "display_name": "Python 3",
   "language": "python",
   "name": "python3"
  },
  "language_info": {
   "codemirror_mode": {
    "name": "ipython",
    "version": 3
   },
   "file_extension": ".py",
   "mimetype": "text/x-python",
   "name": "python",
   "nbconvert_exporter": "python",
   "pygments_lexer": "ipython3",
   "version": "3.8.3"
  }
 },
 "nbformat": 4,
 "nbformat_minor": 4
}
