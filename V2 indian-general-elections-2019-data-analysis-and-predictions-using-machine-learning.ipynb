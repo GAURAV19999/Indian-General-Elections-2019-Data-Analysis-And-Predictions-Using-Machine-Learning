{
 "cells": [
  {
   "cell_type": "markdown",
   "metadata": {},
   "source": [
    "# Indian General Elections 2019: Data Analysis And Prediction Using Machine Learning\n",
    "\n",
    "<img src=\"https://www.ft.com/__origami/service/image/v2/images/raw/http%3A%2F%2Fcom.ft.imagepublish.upp-prod-us.s3.amazonaws.com%2F5c2322c8-7deb-11e9-81d2-f785092ab560?fit=scale-down&source=next&width=700\" width=\"1000\">\n",
    "\n",
    "## Table Of Contents\n",
    "\n",
    "1. Introduction\n",
    "2. Environment Setup\n",
    "3. Gathering The Data\n",
    "4. Features\n",
    "5. Data Preprocessing and Basic Exploratory Data Analysis (EDA)\n",
    "6. Data Analysis <br>\n",
    "    6.1 Lok sabha 2019: Election results<br>\n",
    "    6.2 Party-wise vote share<br>\n",
    "    6.3 Age distribution of candidates<br>\n",
    "    6.4 Caste distribution of candidates<br>\n",
    "    6.5 Criminal records of candidates<br>\n",
    "    6.6 Key battlegrounds of the election<br>\n",
    "7. Preparing the data <br>\n",
    "    7.1 Scaling the data<br>\n",
    "    7.2 Resampling the data<br>\n",
    "8. Machine learning model experimentation\n",
    "9. Evaluating the model<br>\n",
    "    9.1 Classification report<br>\n",
    "    9.2 Confusion matrix<br>\n",
    "    9.3 ROC Curve<br>\n",
    "    9.4 Cross-validated metrics<br>\n",
    "10. Conclusion"
   ]
  },
  {
   "cell_type": "markdown",
   "metadata": {},
   "source": [
    "## 1. Introduction\n",
    "\n",
    "<p> <img src=\"https://upload.wikimedia.org/wikipedia/commons/thumb/3/33/March_2020_Parliament_Lok_sabha.svg/1200px-March_2020_Parliament_Lok_sabha.svg.png\", style=\"float:top\", width=\"300\", height=\"180\"> </p>\n",
    "<br>\n",
    "<p> The 2019 Indian general election was held in seven phases from 11 April to 19 May 2019 to constitute the 17th Lok Sabha. The votes were counted, and the result was declared on 23 May. About 911 million people were eligible to vote, and voter turnout was over 67 percent – the highest ever and the highest ever participation by women voters.\n",
    "The Bharatiya Janata Party won 303 seats, further increasing its substantial majority, and the BJP-led National Democratic Alliance (NDA) won 353 seats. The BJP won 37.36% of votes, while the NDA's combined ballot was 45% of the 60.37 crore votes that were polled. The Indian National Congress won just 52 seats, and the Congress-led United Progressive Alliance won 91. Other parties and their alliances won 98 seats. </p>\n",
    "<br>\n",
    "<p> In this notebook, I have used data visualization tools such as Matplotlib, Plotly, and Seaborn to visualize how India's people voted during the 2019 elections. I have also experimented with Random Forest Classifier, Support Vector Machine, and K-Nearest Neighbor machine learning models to make predictions. The models' hyperparameters were first tuned manually, and then GridSearchCV was used to find the most optimum results. I have also evaluated the performance metrics of these models and compared them with each other. </p>"
   ]
  },
  {
   "cell_type": "markdown",
   "metadata": {},
   "source": [
    "## 2. Environment Setup"
   ]
  },
  {
   "cell_type": "code",
   "execution_count": 1,
   "metadata": {},
   "outputs": [
    {
     "data": {
      "text/html": [
       "        <script type=\"text/javascript\">\n",
       "        window.PlotlyConfig = {MathJaxConfig: 'local'};\n",
       "        if (window.MathJax) {MathJax.Hub.Config({SVG: {font: \"STIX-Web\"}});}\n",
       "        if (typeof require !== 'undefined') {\n",
       "        require.undef(\"plotly\");\n",
       "        requirejs.config({\n",
       "            paths: {\n",
       "                'plotly': ['https://cdn.plot.ly/plotly-latest.min']\n",
       "            }\n",
       "        });\n",
       "        require(['plotly'], function(Plotly) {\n",
       "            window._Plotly = Plotly;\n",
       "        });\n",
       "        }\n",
       "        </script>\n",
       "        "
      ]
     },
     "metadata": {},
     "output_type": "display_data"
    }
   ],
   "source": [
    "# Import numpy, pandas for data manipulation\n",
    "import numpy as np\n",
    "import pandas as pd\n",
    "from collections import Counter\n",
    "import time\n",
    "\n",
    "# Import plotly, matplotlib and seaborn as visualization tools\n",
    "import matplotlib.pyplot as plt\n",
    "from plotly import tools\n",
    "import chart_studio.plotly as py\n",
    "import plotly.graph_objs as go\n",
    "import plotly.figure_factory as ff\n",
    "import plotly.express as px\n",
    "from plotly.subplots import make_subplots\n",
    "from plotly.offline import download_plotlyjs, init_notebook_mode\n",
    "import seaborn as sns\n",
    "\n",
    "# Import for resampling the data\n",
    "from imblearn.over_sampling import SMOTE\n",
    "\n",
    "# Import for scaling the data\n",
    "from sklearn.preprocessing import MinMaxScaler, OrdinalEncoder\n",
    "\n",
    "# Import machine learning models\n",
    "from sklearn.ensemble import RandomForestClassifier, GradientBoostingClassifier, AdaBoostClassifier\n",
    "from sklearn.svm import SVC\n",
    "from sklearn.neighbors import KNeighborsClassifier\n",
    "from sklearn.linear_model import LogisticRegression\n",
    "import xgboost as xgb\n",
    "from catboost import CatBoostClassifier\n",
    "import lightgbm as lgb\n",
    "\n",
    "# Import model evaluation metrics\n",
    "from sklearn.metrics import classification_report, confusion_matrix, plot_roc_curve\n",
    "from sklearn.metrics import accuracy_score, precision_score, recall_score, f1_score\n",
    "from sklearn.model_selection import train_test_split, cross_val_score\n",
    "from sklearn.model_selection import RandomizedSearchCV, GridSearchCV\n",
    "\n",
    "# Plot should appear inside the jupyter notebook\n",
    "%matplotlib inline\n",
    "\n",
    "init_notebook_mode(connected=True)"
   ]
  },
  {
   "cell_type": "markdown",
   "metadata": {},
   "source": [
    "## 3. Gathering The Data\n",
    "\n",
    "The data for this project has been collected from Kaggle:\n",
    "https://www.kaggle.com/prakrutchauhan/indian-candidates-for-general-election-2019"
   ]
  },
  {
   "cell_type": "code",
   "execution_count": 2,
   "metadata": {
    "scrolled": true
   },
   "outputs": [
    {
     "data": {
      "text/html": [
       "<div>\n",
       "<style scoped>\n",
       "    .dataframe tbody tr th:only-of-type {\n",
       "        vertical-align: middle;\n",
       "    }\n",
       "\n",
       "    .dataframe tbody tr th {\n",
       "        vertical-align: top;\n",
       "    }\n",
       "\n",
       "    .dataframe thead th {\n",
       "        text-align: right;\n",
       "    }\n",
       "</style>\n",
       "<table border=\"1\" class=\"dataframe\">\n",
       "  <thead>\n",
       "    <tr style=\"text-align: right;\">\n",
       "      <th></th>\n",
       "      <th>STATE</th>\n",
       "      <th>CONSTITUENCY</th>\n",
       "      <th>NAME</th>\n",
       "      <th>WINNER</th>\n",
       "      <th>PARTY</th>\n",
       "      <th>SYMBOL</th>\n",
       "      <th>GENDER</th>\n",
       "      <th>CRIMINAL\\r\\nCASES</th>\n",
       "      <th>AGE</th>\n",
       "      <th>CATEGORY</th>\n",
       "      <th>EDUCATION</th>\n",
       "      <th>ASSETS</th>\n",
       "      <th>LIABILITIES</th>\n",
       "      <th>GENERAL\\r\\nVOTES</th>\n",
       "      <th>POSTAL\\r\\nVOTES</th>\n",
       "      <th>TOTAL\\r\\nVOTES</th>\n",
       "      <th>OVER TOTAL ELECTORS \\r\\nIN CONSTITUENCY</th>\n",
       "      <th>OVER TOTAL VOTES POLLED \\r\\nIN CONSTITUENCY</th>\n",
       "      <th>TOTAL ELECTORS</th>\n",
       "    </tr>\n",
       "  </thead>\n",
       "  <tbody>\n",
       "    <tr>\n",
       "      <th>0</th>\n",
       "      <td>Telangana</td>\n",
       "      <td>ADILABAD</td>\n",
       "      <td>SOYAM BAPU RAO</td>\n",
       "      <td>1</td>\n",
       "      <td>BJP</td>\n",
       "      <td>Lotus</td>\n",
       "      <td>MALE</td>\n",
       "      <td>52</td>\n",
       "      <td>52.0</td>\n",
       "      <td>ST</td>\n",
       "      <td>12th Pass</td>\n",
       "      <td>Rs 30,99,414\\r\\n ~ 30 Lacs+</td>\n",
       "      <td>Rs 2,31,450\\r\\n ~ 2 Lacs+</td>\n",
       "      <td>376892</td>\n",
       "      <td>482</td>\n",
       "      <td>377374</td>\n",
       "      <td>25.330684</td>\n",
       "      <td>35.468248</td>\n",
       "      <td>1489790</td>\n",
       "    </tr>\n",
       "    <tr>\n",
       "      <th>1</th>\n",
       "      <td>Telangana</td>\n",
       "      <td>ADILABAD</td>\n",
       "      <td>Godam Nagesh</td>\n",
       "      <td>0</td>\n",
       "      <td>TRS</td>\n",
       "      <td>Car</td>\n",
       "      <td>MALE</td>\n",
       "      <td>0</td>\n",
       "      <td>54.0</td>\n",
       "      <td>ST</td>\n",
       "      <td>Post Graduate</td>\n",
       "      <td>Rs 1,84,77,888\\r\\n ~ 1 Crore+</td>\n",
       "      <td>Rs 8,47,000\\r\\n ~ 8 Lacs+</td>\n",
       "      <td>318665</td>\n",
       "      <td>149</td>\n",
       "      <td>318814</td>\n",
       "      <td>21.399929</td>\n",
       "      <td>29.964370</td>\n",
       "      <td>1489790</td>\n",
       "    </tr>\n",
       "    <tr>\n",
       "      <th>2</th>\n",
       "      <td>Telangana</td>\n",
       "      <td>ADILABAD</td>\n",
       "      <td>RATHOD RAMESH</td>\n",
       "      <td>0</td>\n",
       "      <td>INC</td>\n",
       "      <td>Hand</td>\n",
       "      <td>MALE</td>\n",
       "      <td>3</td>\n",
       "      <td>52.0</td>\n",
       "      <td>ST</td>\n",
       "      <td>12th Pass</td>\n",
       "      <td>Rs 3,64,91,000\\r\\n ~ 3 Crore+</td>\n",
       "      <td>Rs 1,53,00,000\\r\\n ~ 1 Crore+</td>\n",
       "      <td>314057</td>\n",
       "      <td>181</td>\n",
       "      <td>314238</td>\n",
       "      <td>21.092771</td>\n",
       "      <td>29.534285</td>\n",
       "      <td>1489790</td>\n",
       "    </tr>\n",
       "    <tr>\n",
       "      <th>3</th>\n",
       "      <td>Telangana</td>\n",
       "      <td>ADILABAD</td>\n",
       "      <td>NOTA</td>\n",
       "      <td>0</td>\n",
       "      <td>NOTA</td>\n",
       "      <td>NaN</td>\n",
       "      <td>NaN</td>\n",
       "      <td>NaN</td>\n",
       "      <td>NaN</td>\n",
       "      <td>NaN</td>\n",
       "      <td>NaN</td>\n",
       "      <td>NaN</td>\n",
       "      <td>NaN</td>\n",
       "      <td>13030</td>\n",
       "      <td>6</td>\n",
       "      <td>13036</td>\n",
       "      <td>0.875023</td>\n",
       "      <td>1.225214</td>\n",
       "      <td>1489790</td>\n",
       "    </tr>\n",
       "    <tr>\n",
       "      <th>4</th>\n",
       "      <td>Uttar Pradesh</td>\n",
       "      <td>AGRA</td>\n",
       "      <td>Satyapal Singh Baghel</td>\n",
       "      <td>1</td>\n",
       "      <td>BJP</td>\n",
       "      <td>Lotus</td>\n",
       "      <td>MALE</td>\n",
       "      <td>5</td>\n",
       "      <td>58.0</td>\n",
       "      <td>SC</td>\n",
       "      <td>Doctorate</td>\n",
       "      <td>Rs 7,42,74,036\\r\\n ~ 7 Crore+</td>\n",
       "      <td>Rs 86,06,522\\r\\n ~ 86 Lacs+</td>\n",
       "      <td>644459</td>\n",
       "      <td>2416</td>\n",
       "      <td>646875</td>\n",
       "      <td>33.383823</td>\n",
       "      <td>56.464615</td>\n",
       "      <td>1937690</td>\n",
       "    </tr>\n",
       "  </tbody>\n",
       "</table>\n",
       "</div>"
      ],
      "text/plain": [
       "           STATE CONSTITUENCY                   NAME  WINNER PARTY SYMBOL  \\\n",
       "0      Telangana     ADILABAD         SOYAM BAPU RAO       1   BJP  Lotus   \n",
       "1      Telangana     ADILABAD           Godam Nagesh       0   TRS    Car   \n",
       "2      Telangana     ADILABAD          RATHOD RAMESH       0   INC   Hand   \n",
       "3      Telangana     ADILABAD                   NOTA       0  NOTA    NaN   \n",
       "4  Uttar Pradesh         AGRA  Satyapal Singh Baghel       1   BJP  Lotus   \n",
       "\n",
       "  GENDER CRIMINAL\\r\\nCASES   AGE CATEGORY      EDUCATION  \\\n",
       "0   MALE                52  52.0       ST      12th Pass   \n",
       "1   MALE                 0  54.0       ST  Post Graduate   \n",
       "2   MALE                 3  52.0       ST      12th Pass   \n",
       "3    NaN               NaN   NaN      NaN            NaN   \n",
       "4   MALE                 5  58.0       SC      Doctorate   \n",
       "\n",
       "                          ASSETS                    LIABILITIES  \\\n",
       "0    Rs 30,99,414\\r\\n ~ 30 Lacs+      Rs 2,31,450\\r\\n ~ 2 Lacs+   \n",
       "1  Rs 1,84,77,888\\r\\n ~ 1 Crore+      Rs 8,47,000\\r\\n ~ 8 Lacs+   \n",
       "2  Rs 3,64,91,000\\r\\n ~ 3 Crore+  Rs 1,53,00,000\\r\\n ~ 1 Crore+   \n",
       "3                            NaN                            NaN   \n",
       "4  Rs 7,42,74,036\\r\\n ~ 7 Crore+    Rs 86,06,522\\r\\n ~ 86 Lacs+   \n",
       "\n",
       "   GENERAL\\r\\nVOTES  POSTAL\\r\\nVOTES  TOTAL\\r\\nVOTES  \\\n",
       "0            376892              482          377374   \n",
       "1            318665              149          318814   \n",
       "2            314057              181          314238   \n",
       "3             13030                6           13036   \n",
       "4            644459             2416          646875   \n",
       "\n",
       "   OVER TOTAL ELECTORS \\r\\nIN CONSTITUENCY  \\\n",
       "0                                25.330684   \n",
       "1                                21.399929   \n",
       "2                                21.092771   \n",
       "3                                 0.875023   \n",
       "4                                33.383823   \n",
       "\n",
       "   OVER TOTAL VOTES POLLED \\r\\nIN CONSTITUENCY  TOTAL ELECTORS  \n",
       "0                                    35.468248         1489790  \n",
       "1                                    29.964370         1489790  \n",
       "2                                    29.534285         1489790  \n",
       "3                                     1.225214         1489790  \n",
       "4                                    56.464615         1937690  "
      ]
     },
     "execution_count": 2,
     "metadata": {},
     "output_type": "execute_result"
    }
   ],
   "source": [
    "# Loading the dataset\n",
    "df = pd.read_csv(\"data/LS_2.0.csv\")\n",
    "df.head()"
   ]
  },
  {
   "cell_type": "code",
   "execution_count": 3,
   "metadata": {},
   "outputs": [],
   "source": [
    "df.replace({'Not Available': np.nan}, inplace=True)"
   ]
  },
  {
   "cell_type": "markdown",
   "metadata": {},
   "source": [
    "## 4. Features\n",
    "\n",
    "- STATE\n",
    "- CONSTITUENCY\n",
    "- NAME\n",
    "- WINNER\n",
    "- PARTY\n",
    "- SYMBOL\n",
    "- GENDER\n",
    "- CRIMINAL CASES\n",
    "- AGE\n",
    "- CATEGORY\n",
    "- EDUCATION\n",
    "- ASSETS\n",
    "- LIABILITIES\n",
    "- GENERAL VOTES \n",
    "- POSTAL VOTES\n",
    "- TOTAL VOTES\n",
    "- OVER TOTAL ELECTORS IN CONSTITUENCY\n",
    "- OVER TOTAL VOTES POLLED IN CONSTITUENCY\n",
    "- TOTAL ELECTORS"
   ]
  },
  {
   "cell_type": "markdown",
   "metadata": {},
   "source": [
    "## 5. Data Preprocessing and Exploratory Data Analysis (EDA)"
   ]
  },
  {
   "cell_type": "code",
   "execution_count": 4,
   "metadata": {},
   "outputs": [
    {
     "name": "stdout",
     "output_type": "stream",
     "text": [
      "<class 'pandas.core.frame.DataFrame'>\n",
      "RangeIndex: 2263 entries, 0 to 2262\n",
      "Data columns (total 19 columns):\n",
      " #   Column                                     Non-Null Count  Dtype  \n",
      "---  ------                                     --------------  -----  \n",
      " 0   STATE                                      2263 non-null   object \n",
      " 1   CONSTITUENCY                               2263 non-null   object \n",
      " 2   NAME                                       2263 non-null   object \n",
      " 3   WINNER                                     2263 non-null   int64  \n",
      " 4   PARTY                                      2263 non-null   object \n",
      " 5   SYMBOL                                     2018 non-null   object \n",
      " 6   GENDER                                     2018 non-null   object \n",
      " 7   CRIMINAL\r\n",
      "CASES                            1996 non-null   object \n",
      " 8   AGE                                        2018 non-null   float64\n",
      " 9   CATEGORY                                   2018 non-null   object \n",
      " 10  EDUCATION                                  1996 non-null   object \n",
      " 11  ASSETS                                     1996 non-null   object \n",
      " 12  LIABILITIES                                1996 non-null   object \n",
      " 13  GENERAL\r\n",
      "VOTES                             2263 non-null   int64  \n",
      " 14  POSTAL\r\n",
      "VOTES                              2263 non-null   int64  \n",
      " 15  TOTAL\r\n",
      "VOTES                               2263 non-null   int64  \n",
      " 16  OVER TOTAL ELECTORS \r\n",
      "IN CONSTITUENCY      2263 non-null   float64\n",
      " 17  OVER TOTAL VOTES POLLED \r\n",
      "IN CONSTITUENCY  2263 non-null   float64\n",
      " 18  TOTAL ELECTORS                             2263 non-null   int64  \n",
      "dtypes: float64(3), int64(5), object(11)\n",
      "memory usage: 336.0+ KB\n"
     ]
    }
   ],
   "source": [
    "df.info()"
   ]
  },
  {
   "cell_type": "code",
   "execution_count": 5,
   "metadata": {},
   "outputs": [],
   "source": [
    "df.columns = df.columns.str.replace('\\r','')\n",
    "df.columns = df.columns.str.replace('\\n','')"
   ]
  },
  {
   "cell_type": "code",
   "execution_count": 6,
   "metadata": {},
   "outputs": [
    {
     "data": {
      "text/html": [
       "<div>\n",
       "<style scoped>\n",
       "    .dataframe tbody tr th:only-of-type {\n",
       "        vertical-align: middle;\n",
       "    }\n",
       "\n",
       "    .dataframe tbody tr th {\n",
       "        vertical-align: top;\n",
       "    }\n",
       "\n",
       "    .dataframe thead th {\n",
       "        text-align: right;\n",
       "    }\n",
       "</style>\n",
       "<table border=\"1\" class=\"dataframe\">\n",
       "  <thead>\n",
       "    <tr style=\"text-align: right;\">\n",
       "      <th></th>\n",
       "      <th>WINNER</th>\n",
       "      <th>AGE</th>\n",
       "      <th>GENERALVOTES</th>\n",
       "      <th>POSTALVOTES</th>\n",
       "      <th>TOTALVOTES</th>\n",
       "      <th>OVER TOTAL ELECTORS IN CONSTITUENCY</th>\n",
       "      <th>OVER TOTAL VOTES POLLED IN CONSTITUENCY</th>\n",
       "      <th>TOTAL ELECTORS</th>\n",
       "    </tr>\n",
       "  </thead>\n",
       "  <tbody>\n",
       "    <tr>\n",
       "      <th>count</th>\n",
       "      <td>2263.000000</td>\n",
       "      <td>2018.000000</td>\n",
       "      <td>2.263000e+03</td>\n",
       "      <td>2263.000000</td>\n",
       "      <td>2.263000e+03</td>\n",
       "      <td>2263.000000</td>\n",
       "      <td>2263.000000</td>\n",
       "      <td>2.263000e+03</td>\n",
       "    </tr>\n",
       "    <tr>\n",
       "      <th>mean</th>\n",
       "      <td>0.238179</td>\n",
       "      <td>52.273538</td>\n",
       "      <td>2.615991e+05</td>\n",
       "      <td>990.710561</td>\n",
       "      <td>2.625898e+05</td>\n",
       "      <td>15.811412</td>\n",
       "      <td>23.190525</td>\n",
       "      <td>1.658016e+06</td>\n",
       "    </tr>\n",
       "    <tr>\n",
       "      <th>std</th>\n",
       "      <td>0.426064</td>\n",
       "      <td>11.869373</td>\n",
       "      <td>2.549906e+05</td>\n",
       "      <td>1602.839174</td>\n",
       "      <td>2.559822e+05</td>\n",
       "      <td>14.962861</td>\n",
       "      <td>21.564758</td>\n",
       "      <td>3.145187e+05</td>\n",
       "    </tr>\n",
       "    <tr>\n",
       "      <th>min</th>\n",
       "      <td>0.000000</td>\n",
       "      <td>25.000000</td>\n",
       "      <td>1.339000e+03</td>\n",
       "      <td>0.000000</td>\n",
       "      <td>1.342000e+03</td>\n",
       "      <td>0.097941</td>\n",
       "      <td>1.000039</td>\n",
       "      <td>5.518900e+04</td>\n",
       "    </tr>\n",
       "    <tr>\n",
       "      <th>25%</th>\n",
       "      <td>0.000000</td>\n",
       "      <td>43.250000</td>\n",
       "      <td>2.103450e+04</td>\n",
       "      <td>57.000000</td>\n",
       "      <td>2.116250e+04</td>\n",
       "      <td>1.296518</td>\n",
       "      <td>1.899502</td>\n",
       "      <td>1.530014e+06</td>\n",
       "    </tr>\n",
       "    <tr>\n",
       "      <th>50%</th>\n",
       "      <td>0.000000</td>\n",
       "      <td>52.000000</td>\n",
       "      <td>1.539340e+05</td>\n",
       "      <td>316.000000</td>\n",
       "      <td>1.544890e+05</td>\n",
       "      <td>10.510553</td>\n",
       "      <td>16.221721</td>\n",
       "      <td>1.679030e+06</td>\n",
       "    </tr>\n",
       "    <tr>\n",
       "      <th>75%</th>\n",
       "      <td>0.000000</td>\n",
       "      <td>61.000000</td>\n",
       "      <td>4.858040e+05</td>\n",
       "      <td>1385.000000</td>\n",
       "      <td>4.872315e+05</td>\n",
       "      <td>29.468185</td>\n",
       "      <td>42.590233</td>\n",
       "      <td>1.816857e+06</td>\n",
       "    </tr>\n",
       "    <tr>\n",
       "      <th>max</th>\n",
       "      <td>1.000000</td>\n",
       "      <td>86.000000</td>\n",
       "      <td>1.066824e+06</td>\n",
       "      <td>19367.000000</td>\n",
       "      <td>1.068569e+06</td>\n",
       "      <td>51.951012</td>\n",
       "      <td>74.411856</td>\n",
       "      <td>3.150313e+06</td>\n",
       "    </tr>\n",
       "  </tbody>\n",
       "</table>\n",
       "</div>"
      ],
      "text/plain": [
       "            WINNER          AGE  GENERALVOTES   POSTALVOTES    TOTALVOTES  \\\n",
       "count  2263.000000  2018.000000  2.263000e+03   2263.000000  2.263000e+03   \n",
       "mean      0.238179    52.273538  2.615991e+05    990.710561  2.625898e+05   \n",
       "std       0.426064    11.869373  2.549906e+05   1602.839174  2.559822e+05   \n",
       "min       0.000000    25.000000  1.339000e+03      0.000000  1.342000e+03   \n",
       "25%       0.000000    43.250000  2.103450e+04     57.000000  2.116250e+04   \n",
       "50%       0.000000    52.000000  1.539340e+05    316.000000  1.544890e+05   \n",
       "75%       0.000000    61.000000  4.858040e+05   1385.000000  4.872315e+05   \n",
       "max       1.000000    86.000000  1.066824e+06  19367.000000  1.068569e+06   \n",
       "\n",
       "       OVER TOTAL ELECTORS IN CONSTITUENCY  \\\n",
       "count                          2263.000000   \n",
       "mean                             15.811412   \n",
       "std                              14.962861   \n",
       "min                               0.097941   \n",
       "25%                               1.296518   \n",
       "50%                              10.510553   \n",
       "75%                              29.468185   \n",
       "max                              51.951012   \n",
       "\n",
       "       OVER TOTAL VOTES POLLED IN CONSTITUENCY  TOTAL ELECTORS  \n",
       "count                              2263.000000    2.263000e+03  \n",
       "mean                                 23.190525    1.658016e+06  \n",
       "std                                  21.564758    3.145187e+05  \n",
       "min                                   1.000039    5.518900e+04  \n",
       "25%                                   1.899502    1.530014e+06  \n",
       "50%                                  16.221721    1.679030e+06  \n",
       "75%                                  42.590233    1.816857e+06  \n",
       "max                                  74.411856    3.150313e+06  "
      ]
     },
     "execution_count": 6,
     "metadata": {},
     "output_type": "execute_result"
    }
   ],
   "source": [
    "df.describe()"
   ]
  },
  {
   "cell_type": "code",
   "execution_count": 7,
   "metadata": {},
   "outputs": [
    {
     "data": {
      "text/plain": [
       "STATE                                      0\n",
       "CONSTITUENCY                               0\n",
       "NAME                                       0\n",
       "WINNER                                     0\n",
       "PARTY                                      0\n",
       "SYMBOL                                     0\n",
       "GENDER                                     0\n",
       "CRIMINALCASES                              0\n",
       "AGE                                        0\n",
       "CATEGORY                                   0\n",
       "EDUCATION                                  0\n",
       "ASSETS                                     0\n",
       "LIABILITIES                                0\n",
       "GENERALVOTES                               0\n",
       "POSTALVOTES                                0\n",
       "TOTALVOTES                                 0\n",
       "OVER TOTAL ELECTORS IN CONSTITUENCY        0\n",
       "OVER TOTAL VOTES POLLED IN CONSTITUENCY    0\n",
       "TOTAL ELECTORS                             0\n",
       "dtype: int64"
      ]
     },
     "execution_count": 7,
     "metadata": {},
     "output_type": "execute_result"
    }
   ],
   "source": [
    "# Checking to see if the dataset contains any null values. We need to exclude NOTA votes while checking it.\n",
    "df_NOTA = df[df['PARTY']!= 'NOTA']\n",
    "df_NOTA = df_NOTA.dropna()\n",
    "df_NOTA.isna().sum()"
   ]
  },
  {
   "cell_type": "code",
   "execution_count": 8,
   "metadata": {},
   "outputs": [
    {
     "data": {
      "text/html": [
       "<div>\n",
       "<style scoped>\n",
       "    .dataframe tbody tr th:only-of-type {\n",
       "        vertical-align: middle;\n",
       "    }\n",
       "\n",
       "    .dataframe tbody tr th {\n",
       "        vertical-align: top;\n",
       "    }\n",
       "\n",
       "    .dataframe thead th {\n",
       "        text-align: right;\n",
       "    }\n",
       "</style>\n",
       "<table border=\"1\" class=\"dataframe\">\n",
       "  <thead>\n",
       "    <tr style=\"text-align: right;\">\n",
       "      <th></th>\n",
       "      <th>STATE</th>\n",
       "      <th>CONSTITUENCY</th>\n",
       "      <th>NAME</th>\n",
       "      <th>WINNER</th>\n",
       "      <th>PARTY</th>\n",
       "      <th>SYMBOL</th>\n",
       "      <th>GENDER</th>\n",
       "      <th>CRIMINALCASES</th>\n",
       "      <th>AGE</th>\n",
       "      <th>CATEGORY</th>\n",
       "      <th>EDUCATION</th>\n",
       "      <th>ASSETS</th>\n",
       "      <th>LIABILITIES</th>\n",
       "      <th>GENERALVOTES</th>\n",
       "      <th>POSTALVOTES</th>\n",
       "      <th>TOTALVOTES</th>\n",
       "      <th>OVER TOTAL ELECTORS IN CONSTITUENCY</th>\n",
       "      <th>OVER TOTAL VOTES POLLED IN CONSTITUENCY</th>\n",
       "      <th>TOTAL ELECTORS</th>\n",
       "    </tr>\n",
       "  </thead>\n",
       "  <tbody>\n",
       "    <tr>\n",
       "      <th>0</th>\n",
       "      <td>Telangana</td>\n",
       "      <td>ADILABAD</td>\n",
       "      <td>SOYAM BAPU RAO</td>\n",
       "      <td>1</td>\n",
       "      <td>BJP</td>\n",
       "      <td>Lotus</td>\n",
       "      <td>MALE</td>\n",
       "      <td>52</td>\n",
       "      <td>52.0</td>\n",
       "      <td>ST</td>\n",
       "      <td>12th Pass</td>\n",
       "      <td>Rs 30,99,414\\r\\n ~ 30 Lacs+</td>\n",
       "      <td>Rs 2,31,450\\r\\n ~ 2 Lacs+</td>\n",
       "      <td>376892</td>\n",
       "      <td>482</td>\n",
       "      <td>377374</td>\n",
       "      <td>25.330684</td>\n",
       "      <td>35.468248</td>\n",
       "      <td>1489790</td>\n",
       "    </tr>\n",
       "    <tr>\n",
       "      <th>1</th>\n",
       "      <td>Telangana</td>\n",
       "      <td>ADILABAD</td>\n",
       "      <td>Godam Nagesh</td>\n",
       "      <td>0</td>\n",
       "      <td>TRS</td>\n",
       "      <td>Car</td>\n",
       "      <td>MALE</td>\n",
       "      <td>0</td>\n",
       "      <td>54.0</td>\n",
       "      <td>ST</td>\n",
       "      <td>Post Graduate</td>\n",
       "      <td>Rs 1,84,77,888\\r\\n ~ 1 Crore+</td>\n",
       "      <td>Rs 8,47,000\\r\\n ~ 8 Lacs+</td>\n",
       "      <td>318665</td>\n",
       "      <td>149</td>\n",
       "      <td>318814</td>\n",
       "      <td>21.399929</td>\n",
       "      <td>29.964370</td>\n",
       "      <td>1489790</td>\n",
       "    </tr>\n",
       "    <tr>\n",
       "      <th>2</th>\n",
       "      <td>Telangana</td>\n",
       "      <td>ADILABAD</td>\n",
       "      <td>RATHOD RAMESH</td>\n",
       "      <td>0</td>\n",
       "      <td>INC</td>\n",
       "      <td>Hand</td>\n",
       "      <td>MALE</td>\n",
       "      <td>3</td>\n",
       "      <td>52.0</td>\n",
       "      <td>ST</td>\n",
       "      <td>12th Pass</td>\n",
       "      <td>Rs 3,64,91,000\\r\\n ~ 3 Crore+</td>\n",
       "      <td>Rs 1,53,00,000\\r\\n ~ 1 Crore+</td>\n",
       "      <td>314057</td>\n",
       "      <td>181</td>\n",
       "      <td>314238</td>\n",
       "      <td>21.092771</td>\n",
       "      <td>29.534285</td>\n",
       "      <td>1489790</td>\n",
       "    </tr>\n",
       "    <tr>\n",
       "      <th>4</th>\n",
       "      <td>Uttar Pradesh</td>\n",
       "      <td>AGRA</td>\n",
       "      <td>Satyapal Singh Baghel</td>\n",
       "      <td>1</td>\n",
       "      <td>BJP</td>\n",
       "      <td>Lotus</td>\n",
       "      <td>MALE</td>\n",
       "      <td>5</td>\n",
       "      <td>58.0</td>\n",
       "      <td>SC</td>\n",
       "      <td>Doctorate</td>\n",
       "      <td>Rs 7,42,74,036\\r\\n ~ 7 Crore+</td>\n",
       "      <td>Rs 86,06,522\\r\\n ~ 86 Lacs+</td>\n",
       "      <td>644459</td>\n",
       "      <td>2416</td>\n",
       "      <td>646875</td>\n",
       "      <td>33.383823</td>\n",
       "      <td>56.464615</td>\n",
       "      <td>1937690</td>\n",
       "    </tr>\n",
       "    <tr>\n",
       "      <th>5</th>\n",
       "      <td>Uttar Pradesh</td>\n",
       "      <td>AGRA</td>\n",
       "      <td>Manoj Kumar Soni</td>\n",
       "      <td>0</td>\n",
       "      <td>BSP</td>\n",
       "      <td>Elephant</td>\n",
       "      <td>MALE</td>\n",
       "      <td>0</td>\n",
       "      <td>47.0</td>\n",
       "      <td>SC</td>\n",
       "      <td>Post Graduate</td>\n",
       "      <td>Rs 13,37,84,385\\r\\n ~ 13 Crore+</td>\n",
       "      <td>Rs 2,22,51,891\\r\\n ~ 2 Crore+</td>\n",
       "      <td>434199</td>\n",
       "      <td>1130</td>\n",
       "      <td>435329</td>\n",
       "      <td>22.466390</td>\n",
       "      <td>37.999125</td>\n",
       "      <td>1937690</td>\n",
       "    </tr>\n",
       "    <tr>\n",
       "      <th>6</th>\n",
       "      <td>Uttar Pradesh</td>\n",
       "      <td>AGRA</td>\n",
       "      <td>Preeta Harit</td>\n",
       "      <td>0</td>\n",
       "      <td>INC</td>\n",
       "      <td>Hand</td>\n",
       "      <td>FEMALE</td>\n",
       "      <td>0</td>\n",
       "      <td>54.0</td>\n",
       "      <td>SC</td>\n",
       "      <td>Post Graduate</td>\n",
       "      <td>Rs 5,50,75,753\\r\\n ~ 5 Crore+</td>\n",
       "      <td>Rs 0\\r\\n ~</td>\n",
       "      <td>44877</td>\n",
       "      <td>272</td>\n",
       "      <td>45149</td>\n",
       "      <td>2.330042</td>\n",
       "      <td>3.940979</td>\n",
       "      <td>1937690</td>\n",
       "    </tr>\n",
       "    <tr>\n",
       "      <th>7</th>\n",
       "      <td>Maharashtra</td>\n",
       "      <td>AHMADNAGAR</td>\n",
       "      <td>Dr. SUJAY RADHAKRISHNA VIKHEPATIL</td>\n",
       "      <td>1</td>\n",
       "      <td>BJP</td>\n",
       "      <td>Lotus</td>\n",
       "      <td>MALE</td>\n",
       "      <td>0</td>\n",
       "      <td>37.0</td>\n",
       "      <td>GENERAL</td>\n",
       "      <td>Doctorate</td>\n",
       "      <td>Rs 16,86,64,576\\r\\n ~ 16 Crore+</td>\n",
       "      <td>Rs 26,23,964\\r\\n ~ 26 Lacs+</td>\n",
       "      <td>696961</td>\n",
       "      <td>7699</td>\n",
       "      <td>704660</td>\n",
       "      <td>37.856533</td>\n",
       "      <td>58.425159</td>\n",
       "      <td>1861396</td>\n",
       "    </tr>\n",
       "    <tr>\n",
       "      <th>8</th>\n",
       "      <td>Maharashtra</td>\n",
       "      <td>AHMADNAGAR</td>\n",
       "      <td>SANGRAM ARUNKAKA JAGTAP</td>\n",
       "      <td>0</td>\n",
       "      <td>NCP</td>\n",
       "      <td>Clock</td>\n",
       "      <td>MALE</td>\n",
       "      <td>1</td>\n",
       "      <td>34.0</td>\n",
       "      <td>GENERAL</td>\n",
       "      <td>Graduate</td>\n",
       "      <td>Rs 9,44,88,381\\r\\n ~ 9 Crore+</td>\n",
       "      <td>Rs 3,25,49,132\\r\\n ~ 3 Crore+</td>\n",
       "      <td>419364</td>\n",
       "      <td>3822</td>\n",
       "      <td>423186</td>\n",
       "      <td>22.734872</td>\n",
       "      <td>35.087431</td>\n",
       "      <td>1861396</td>\n",
       "    </tr>\n",
       "    <tr>\n",
       "      <th>9</th>\n",
       "      <td>Maharashtra</td>\n",
       "      <td>AHMADNAGAR</td>\n",
       "      <td>SUDHAKAR LAXMAN AVHAD</td>\n",
       "      <td>0</td>\n",
       "      <td>VBA</td>\n",
       "      <td>Cup &amp; Saucer</td>\n",
       "      <td>MALE</td>\n",
       "      <td>0</td>\n",
       "      <td>62.0</td>\n",
       "      <td>GENERAL</td>\n",
       "      <td>Graduate</td>\n",
       "      <td>Rs 1,39,49,000\\r\\n ~ 1 Crore+</td>\n",
       "      <td>Rs 14,00,000\\r\\n ~ 14 Lacs+</td>\n",
       "      <td>31644</td>\n",
       "      <td>163</td>\n",
       "      <td>31807</td>\n",
       "      <td>1.708771</td>\n",
       "      <td>2.637200</td>\n",
       "      <td>1861396</td>\n",
       "    </tr>\n",
       "    <tr>\n",
       "      <th>10</th>\n",
       "      <td>Gujarat</td>\n",
       "      <td>AHMEDABAD EAST</td>\n",
       "      <td>Patel Hasmukhbhai Somabhai</td>\n",
       "      <td>1</td>\n",
       "      <td>BJP</td>\n",
       "      <td>Lotus</td>\n",
       "      <td>MALE</td>\n",
       "      <td>0</td>\n",
       "      <td>58.0</td>\n",
       "      <td>GENERAL</td>\n",
       "      <td>Others</td>\n",
       "      <td>Rs 7,46,99,690\\r\\n ~ 7 Crore+</td>\n",
       "      <td>Rs 62,52,577\\r\\n ~ 62 Lacs+</td>\n",
       "      <td>745810</td>\n",
       "      <td>4024</td>\n",
       "      <td>749834</td>\n",
       "      <td>41.384970</td>\n",
       "      <td>67.005462</td>\n",
       "      <td>1811851</td>\n",
       "    </tr>\n",
       "  </tbody>\n",
       "</table>\n",
       "</div>"
      ],
      "text/plain": [
       "            STATE    CONSTITUENCY                               NAME  WINNER  \\\n",
       "0       Telangana        ADILABAD                     SOYAM BAPU RAO       1   \n",
       "1       Telangana        ADILABAD                       Godam Nagesh       0   \n",
       "2       Telangana        ADILABAD                      RATHOD RAMESH       0   \n",
       "4   Uttar Pradesh            AGRA              Satyapal Singh Baghel       1   \n",
       "5   Uttar Pradesh            AGRA                   Manoj Kumar Soni       0   \n",
       "6   Uttar Pradesh            AGRA                       Preeta Harit       0   \n",
       "7     Maharashtra      AHMADNAGAR  Dr. SUJAY RADHAKRISHNA VIKHEPATIL       1   \n",
       "8     Maharashtra      AHMADNAGAR            SANGRAM ARUNKAKA JAGTAP       0   \n",
       "9     Maharashtra      AHMADNAGAR              SUDHAKAR LAXMAN AVHAD       0   \n",
       "10        Gujarat  AHMEDABAD EAST         Patel Hasmukhbhai Somabhai       1   \n",
       "\n",
       "   PARTY        SYMBOL  GENDER CRIMINALCASES   AGE CATEGORY      EDUCATION  \\\n",
       "0    BJP         Lotus    MALE            52  52.0       ST      12th Pass   \n",
       "1    TRS           Car    MALE             0  54.0       ST  Post Graduate   \n",
       "2    INC          Hand    MALE             3  52.0       ST      12th Pass   \n",
       "4    BJP         Lotus    MALE             5  58.0       SC      Doctorate   \n",
       "5    BSP      Elephant    MALE             0  47.0       SC  Post Graduate   \n",
       "6    INC          Hand  FEMALE             0  54.0       SC  Post Graduate   \n",
       "7    BJP         Lotus    MALE             0  37.0  GENERAL      Doctorate   \n",
       "8    NCP         Clock    MALE             1  34.0  GENERAL       Graduate   \n",
       "9    VBA  Cup & Saucer    MALE             0  62.0  GENERAL       Graduate   \n",
       "10   BJP         Lotus    MALE             0  58.0  GENERAL         Others   \n",
       "\n",
       "                             ASSETS                    LIABILITIES  \\\n",
       "0       Rs 30,99,414\\r\\n ~ 30 Lacs+      Rs 2,31,450\\r\\n ~ 2 Lacs+   \n",
       "1     Rs 1,84,77,888\\r\\n ~ 1 Crore+      Rs 8,47,000\\r\\n ~ 8 Lacs+   \n",
       "2     Rs 3,64,91,000\\r\\n ~ 3 Crore+  Rs 1,53,00,000\\r\\n ~ 1 Crore+   \n",
       "4     Rs 7,42,74,036\\r\\n ~ 7 Crore+    Rs 86,06,522\\r\\n ~ 86 Lacs+   \n",
       "5   Rs 13,37,84,385\\r\\n ~ 13 Crore+  Rs 2,22,51,891\\r\\n ~ 2 Crore+   \n",
       "6     Rs 5,50,75,753\\r\\n ~ 5 Crore+                     Rs 0\\r\\n ~   \n",
       "7   Rs 16,86,64,576\\r\\n ~ 16 Crore+    Rs 26,23,964\\r\\n ~ 26 Lacs+   \n",
       "8     Rs 9,44,88,381\\r\\n ~ 9 Crore+  Rs 3,25,49,132\\r\\n ~ 3 Crore+   \n",
       "9     Rs 1,39,49,000\\r\\n ~ 1 Crore+    Rs 14,00,000\\r\\n ~ 14 Lacs+   \n",
       "10    Rs 7,46,99,690\\r\\n ~ 7 Crore+    Rs 62,52,577\\r\\n ~ 62 Lacs+   \n",
       "\n",
       "    GENERALVOTES  POSTALVOTES  TOTALVOTES  \\\n",
       "0         376892          482      377374   \n",
       "1         318665          149      318814   \n",
       "2         314057          181      314238   \n",
       "4         644459         2416      646875   \n",
       "5         434199         1130      435329   \n",
       "6          44877          272       45149   \n",
       "7         696961         7699      704660   \n",
       "8         419364         3822      423186   \n",
       "9          31644          163       31807   \n",
       "10        745810         4024      749834   \n",
       "\n",
       "    OVER TOTAL ELECTORS IN CONSTITUENCY  \\\n",
       "0                             25.330684   \n",
       "1                             21.399929   \n",
       "2                             21.092771   \n",
       "4                             33.383823   \n",
       "5                             22.466390   \n",
       "6                              2.330042   \n",
       "7                             37.856533   \n",
       "8                             22.734872   \n",
       "9                              1.708771   \n",
       "10                            41.384970   \n",
       "\n",
       "    OVER TOTAL VOTES POLLED IN CONSTITUENCY  TOTAL ELECTORS  \n",
       "0                                 35.468248         1489790  \n",
       "1                                 29.964370         1489790  \n",
       "2                                 29.534285         1489790  \n",
       "4                                 56.464615         1937690  \n",
       "5                                 37.999125         1937690  \n",
       "6                                  3.940979         1937690  \n",
       "7                                 58.425159         1861396  \n",
       "8                                 35.087431         1861396  \n",
       "9                                  2.637200         1861396  \n",
       "10                                67.005462         1811851  "
      ]
     },
     "execution_count": 8,
     "metadata": {},
     "output_type": "execute_result"
    }
   ],
   "source": [
    "df_NOTA.head(10)"
   ]
  },
  {
   "cell_type": "code",
   "execution_count": 9,
   "metadata": {},
   "outputs": [
    {
     "data": {
      "text/plain": [
       "STATE                                       object\n",
       "CONSTITUENCY                                object\n",
       "NAME                                        object\n",
       "WINNER                                       int64\n",
       "PARTY                                       object\n",
       "SYMBOL                                      object\n",
       "GENDER                                      object\n",
       "CRIMINALCASES                               object\n",
       "AGE                                        float64\n",
       "CATEGORY                                    object\n",
       "EDUCATION                                   object\n",
       "ASSETS                                      object\n",
       "LIABILITIES                                 object\n",
       "GENERALVOTES                                 int64\n",
       "POSTALVOTES                                  int64\n",
       "TOTALVOTES                                   int64\n",
       "OVER TOTAL ELECTORS IN CONSTITUENCY        float64\n",
       "OVER TOTAL VOTES POLLED IN CONSTITUENCY    float64\n",
       "TOTAL ELECTORS                               int64\n",
       "dtype: object"
      ]
     },
     "execution_count": 9,
     "metadata": {},
     "output_type": "execute_result"
    }
   ],
   "source": [
    "df_NOTA.dtypes"
   ]
  },
  {
   "cell_type": "code",
   "execution_count": 10,
   "metadata": {},
   "outputs": [],
   "source": [
    "def value_cleaner(x):\n",
    "    try:\n",
    "        str_temp = (x.split('Rs')[1].split('\\n')[0].strip())\n",
    "        str_temp_2 = ''\n",
    "        for i in str_temp.split(\",\"):\n",
    "            str_temp_2 = str_temp_2+i\n",
    "        return str_temp_2\n",
    "    except:\n",
    "        x = 0\n",
    "        return x\n",
    "df_NOTA['ASSETS'] = df_NOTA['ASSETS'].apply((value_cleaner))\n",
    "df_NOTA['LIABILITIES'] = df_NOTA['LIABILITIES'].apply((value_cleaner))"
   ]
  },
  {
   "cell_type": "code",
   "execution_count": 11,
   "metadata": {},
   "outputs": [
    {
     "data": {
      "text/plain": [
       "Post Graduate            502\n",
       "Graduate                 441\n",
       "Graduate Professional    336\n",
       "12th Pass                256\n",
       "10th Pass                196\n",
       "8th Pass                  78\n",
       "Doctorate                 73\n",
       "Others                    50\n",
       "Literate                  30\n",
       "5th Pass                  28\n",
       "Illiterate                 5\n",
       "Post Graduate\\r\\n          1\n",
       "Name: EDUCATION, dtype: int64"
      ]
     },
     "execution_count": 11,
     "metadata": {},
     "output_type": "execute_result"
    }
   ],
   "source": [
    "df_NOTA['EDUCATION'].value_counts()"
   ]
  },
  {
   "cell_type": "code",
   "execution_count": 12,
   "metadata": {},
   "outputs": [],
   "source": [
    "# Removing the \\n from 'Post Graduate\\n'\n",
    "df_NOTA['EDUCATION'].replace(to_replace='Post Graduate\\r\\n', value='Post Graduate', inplace=True)\n",
    "\n",
    "# 'Graduate Professional' are Graduates, so replacing 'Graduate Professional' with 'Graduate'\n",
    "df_NOTA['EDUCATION'].replace(to_replace='Graduate Professional', value='Graduate', inplace=True)\n",
    "\n",
    "# 'Literate' = 8th Pass in our society\n",
    "df_NOTA['EDUCATION'].replace(to_replace='Literate', value='8th Pass', inplace=True)\n",
    "\n",
    "# Any education level below 8th pass is illiterate\n",
    "df_NOTA['EDUCATION'].replace(to_replace='5th Pass', value='Illiterate', inplace=True)"
   ]
  },
  {
   "cell_type": "code",
   "execution_count": 13,
   "metadata": {},
   "outputs": [
    {
     "data": {
      "text/html": [
       "<div>\n",
       "<style scoped>\n",
       "    .dataframe tbody tr th:only-of-type {\n",
       "        vertical-align: middle;\n",
       "    }\n",
       "\n",
       "    .dataframe tbody tr th {\n",
       "        vertical-align: top;\n",
       "    }\n",
       "\n",
       "    .dataframe thead th {\n",
       "        text-align: right;\n",
       "    }\n",
       "</style>\n",
       "<table border=\"1\" class=\"dataframe\">\n",
       "  <thead>\n",
       "    <tr style=\"text-align: right;\">\n",
       "      <th></th>\n",
       "      <th>STATE</th>\n",
       "      <th>CONSTITUENCY</th>\n",
       "      <th>NAME</th>\n",
       "      <th>WINNER</th>\n",
       "      <th>PARTY</th>\n",
       "      <th>SYMBOL</th>\n",
       "      <th>GENDER</th>\n",
       "      <th>CRIMINALCASES</th>\n",
       "      <th>AGE</th>\n",
       "      <th>CATEGORY</th>\n",
       "      <th>EDUCATION</th>\n",
       "      <th>ASSETS</th>\n",
       "      <th>LIABILITIES</th>\n",
       "      <th>GENERALVOTES</th>\n",
       "      <th>POSTALVOTES</th>\n",
       "      <th>TOTALVOTES</th>\n",
       "      <th>OVER TOTAL ELECTORS IN CONSTITUENCY</th>\n",
       "      <th>OVER TOTAL VOTES POLLED IN CONSTITUENCY</th>\n",
       "      <th>TOTAL ELECTORS</th>\n",
       "    </tr>\n",
       "  </thead>\n",
       "  <tbody>\n",
       "    <tr>\n",
       "      <th>0</th>\n",
       "      <td>Telangana</td>\n",
       "      <td>ADILABAD</td>\n",
       "      <td>SOYAM BAPU RAO</td>\n",
       "      <td>1</td>\n",
       "      <td>BJP</td>\n",
       "      <td>Lotus</td>\n",
       "      <td>MALE</td>\n",
       "      <td>52</td>\n",
       "      <td>52.0</td>\n",
       "      <td>ST</td>\n",
       "      <td>12th Pass</td>\n",
       "      <td>3099414</td>\n",
       "      <td>231450</td>\n",
       "      <td>376892</td>\n",
       "      <td>482</td>\n",
       "      <td>377374</td>\n",
       "      <td>25.330684</td>\n",
       "      <td>35.468248</td>\n",
       "      <td>1489790</td>\n",
       "    </tr>\n",
       "    <tr>\n",
       "      <th>1</th>\n",
       "      <td>Telangana</td>\n",
       "      <td>ADILABAD</td>\n",
       "      <td>Godam Nagesh</td>\n",
       "      <td>0</td>\n",
       "      <td>TRS</td>\n",
       "      <td>Car</td>\n",
       "      <td>MALE</td>\n",
       "      <td>0</td>\n",
       "      <td>54.0</td>\n",
       "      <td>ST</td>\n",
       "      <td>Post Graduate</td>\n",
       "      <td>18477888</td>\n",
       "      <td>847000</td>\n",
       "      <td>318665</td>\n",
       "      <td>149</td>\n",
       "      <td>318814</td>\n",
       "      <td>21.399929</td>\n",
       "      <td>29.964370</td>\n",
       "      <td>1489790</td>\n",
       "    </tr>\n",
       "    <tr>\n",
       "      <th>2</th>\n",
       "      <td>Telangana</td>\n",
       "      <td>ADILABAD</td>\n",
       "      <td>RATHOD RAMESH</td>\n",
       "      <td>0</td>\n",
       "      <td>INC</td>\n",
       "      <td>Hand</td>\n",
       "      <td>MALE</td>\n",
       "      <td>3</td>\n",
       "      <td>52.0</td>\n",
       "      <td>ST</td>\n",
       "      <td>12th Pass</td>\n",
       "      <td>36491000</td>\n",
       "      <td>15300000</td>\n",
       "      <td>314057</td>\n",
       "      <td>181</td>\n",
       "      <td>314238</td>\n",
       "      <td>21.092771</td>\n",
       "      <td>29.534285</td>\n",
       "      <td>1489790</td>\n",
       "    </tr>\n",
       "    <tr>\n",
       "      <th>4</th>\n",
       "      <td>Uttar Pradesh</td>\n",
       "      <td>AGRA</td>\n",
       "      <td>Satyapal Singh Baghel</td>\n",
       "      <td>1</td>\n",
       "      <td>BJP</td>\n",
       "      <td>Lotus</td>\n",
       "      <td>MALE</td>\n",
       "      <td>5</td>\n",
       "      <td>58.0</td>\n",
       "      <td>SC</td>\n",
       "      <td>Doctorate</td>\n",
       "      <td>74274036</td>\n",
       "      <td>8606522</td>\n",
       "      <td>644459</td>\n",
       "      <td>2416</td>\n",
       "      <td>646875</td>\n",
       "      <td>33.383823</td>\n",
       "      <td>56.464615</td>\n",
       "      <td>1937690</td>\n",
       "    </tr>\n",
       "    <tr>\n",
       "      <th>5</th>\n",
       "      <td>Uttar Pradesh</td>\n",
       "      <td>AGRA</td>\n",
       "      <td>Manoj Kumar Soni</td>\n",
       "      <td>0</td>\n",
       "      <td>BSP</td>\n",
       "      <td>Elephant</td>\n",
       "      <td>MALE</td>\n",
       "      <td>0</td>\n",
       "      <td>47.0</td>\n",
       "      <td>SC</td>\n",
       "      <td>Post Graduate</td>\n",
       "      <td>133784385</td>\n",
       "      <td>22251891</td>\n",
       "      <td>434199</td>\n",
       "      <td>1130</td>\n",
       "      <td>435329</td>\n",
       "      <td>22.466390</td>\n",
       "      <td>37.999125</td>\n",
       "      <td>1937690</td>\n",
       "    </tr>\n",
       "  </tbody>\n",
       "</table>\n",
       "</div>"
      ],
      "text/plain": [
       "           STATE CONSTITUENCY                   NAME  WINNER PARTY    SYMBOL  \\\n",
       "0      Telangana     ADILABAD         SOYAM BAPU RAO       1   BJP     Lotus   \n",
       "1      Telangana     ADILABAD           Godam Nagesh       0   TRS       Car   \n",
       "2      Telangana     ADILABAD          RATHOD RAMESH       0   INC      Hand   \n",
       "4  Uttar Pradesh         AGRA  Satyapal Singh Baghel       1   BJP     Lotus   \n",
       "5  Uttar Pradesh         AGRA       Manoj Kumar Soni       0   BSP  Elephant   \n",
       "\n",
       "  GENDER CRIMINALCASES   AGE CATEGORY      EDUCATION     ASSETS LIABILITIES  \\\n",
       "0   MALE            52  52.0       ST      12th Pass    3099414      231450   \n",
       "1   MALE             0  54.0       ST  Post Graduate   18477888      847000   \n",
       "2   MALE             3  52.0       ST      12th Pass   36491000    15300000   \n",
       "4   MALE             5  58.0       SC      Doctorate   74274036     8606522   \n",
       "5   MALE             0  47.0       SC  Post Graduate  133784385    22251891   \n",
       "\n",
       "   GENERALVOTES  POSTALVOTES  TOTALVOTES  OVER TOTAL ELECTORS IN CONSTITUENCY  \\\n",
       "0        376892          482      377374                            25.330684   \n",
       "1        318665          149      318814                            21.399929   \n",
       "2        314057          181      314238                            21.092771   \n",
       "4        644459         2416      646875                            33.383823   \n",
       "5        434199         1130      435329                            22.466390   \n",
       "\n",
       "   OVER TOTAL VOTES POLLED IN CONSTITUENCY  TOTAL ELECTORS  \n",
       "0                                35.468248         1489790  \n",
       "1                                29.964370         1489790  \n",
       "2                                29.534285         1489790  \n",
       "4                                56.464615         1937690  \n",
       "5                                37.999125         1937690  "
      ]
     },
     "execution_count": 13,
     "metadata": {},
     "output_type": "execute_result"
    }
   ],
   "source": [
    "df_NOTA.head()"
   ]
  },
  {
   "cell_type": "code",
   "execution_count": 14,
   "metadata": {},
   "outputs": [
    {
     "data": {
      "text/plain": [
       "STATE                                       object\n",
       "CONSTITUENCY                                object\n",
       "NAME                                        object\n",
       "WINNER                                       int64\n",
       "PARTY                                       object\n",
       "SYMBOL                                      object\n",
       "GENDER                                      object\n",
       "CRIMINALCASES                               object\n",
       "AGE                                        float64\n",
       "CATEGORY                                    object\n",
       "EDUCATION                                   object\n",
       "ASSETS                                      object\n",
       "LIABILITIES                                 object\n",
       "GENERALVOTES                                 int64\n",
       "POSTALVOTES                                  int64\n",
       "TOTALVOTES                                   int64\n",
       "OVER TOTAL ELECTORS IN CONSTITUENCY        float64\n",
       "OVER TOTAL VOTES POLLED IN CONSTITUENCY    float64\n",
       "TOTAL ELECTORS                               int64\n",
       "dtype: object"
      ]
     },
     "execution_count": 14,
     "metadata": {},
     "output_type": "execute_result"
    }
   ],
   "source": [
    "df_NOTA.dtypes"
   ]
  },
  {
   "cell_type": "code",
   "execution_count": 15,
   "metadata": {},
   "outputs": [],
   "source": [
    "df_NOTA['CRIMINALCASES'] = df_NOTA['CRIMINALCASES'].astype(int, errors='raise')\n",
    "df_NOTA['ASSETS'] = df_NOTA['ASSETS'].astype(float, errors='raise')\n",
    "df_NOTA['LIABILITIES'] = df_NOTA['LIABILITIES'].astype(float, errors='raise')"
   ]
  },
  {
   "cell_type": "code",
   "execution_count": 16,
   "metadata": {},
   "outputs": [
    {
     "data": {
      "text/html": [
       "<div>\n",
       "<style scoped>\n",
       "    .dataframe tbody tr th:only-of-type {\n",
       "        vertical-align: middle;\n",
       "    }\n",
       "\n",
       "    .dataframe tbody tr th {\n",
       "        vertical-align: top;\n",
       "    }\n",
       "\n",
       "    .dataframe thead th {\n",
       "        text-align: right;\n",
       "    }\n",
       "</style>\n",
       "<table border=\"1\" class=\"dataframe\">\n",
       "  <thead>\n",
       "    <tr style=\"text-align: right;\">\n",
       "      <th></th>\n",
       "      <th>STATE</th>\n",
       "      <th>CONSTITUENCY</th>\n",
       "      <th>NAME</th>\n",
       "      <th>WINNER</th>\n",
       "      <th>PARTY</th>\n",
       "      <th>SYMBOL</th>\n",
       "      <th>GENDER</th>\n",
       "      <th>CRIMINALCASES</th>\n",
       "      <th>AGE</th>\n",
       "      <th>CATEGORY</th>\n",
       "      <th>EDUCATION</th>\n",
       "      <th>ASSETS</th>\n",
       "      <th>LIABILITIES</th>\n",
       "      <th>GENERALVOTES</th>\n",
       "      <th>POSTALVOTES</th>\n",
       "      <th>TOTALVOTES</th>\n",
       "      <th>OVER TOTAL ELECTORS IN CONSTITUENCY</th>\n",
       "      <th>OVER TOTAL VOTES POLLED IN CONSTITUENCY</th>\n",
       "      <th>TOTAL ELECTORS</th>\n",
       "    </tr>\n",
       "  </thead>\n",
       "  <tbody>\n",
       "    <tr>\n",
       "      <th>0</th>\n",
       "      <td>Telangana</td>\n",
       "      <td>ADILABAD</td>\n",
       "      <td>SOYAM BAPU RAO</td>\n",
       "      <td>1</td>\n",
       "      <td>BJP</td>\n",
       "      <td>Lotus</td>\n",
       "      <td>MALE</td>\n",
       "      <td>52</td>\n",
       "      <td>52.0</td>\n",
       "      <td>ST</td>\n",
       "      <td>12th Pass</td>\n",
       "      <td>3099414.0</td>\n",
       "      <td>231450.0</td>\n",
       "      <td>376892</td>\n",
       "      <td>482</td>\n",
       "      <td>377374</td>\n",
       "      <td>25.330684</td>\n",
       "      <td>35.468248</td>\n",
       "      <td>1489790</td>\n",
       "    </tr>\n",
       "    <tr>\n",
       "      <th>1</th>\n",
       "      <td>Telangana</td>\n",
       "      <td>ADILABAD</td>\n",
       "      <td>Godam Nagesh</td>\n",
       "      <td>0</td>\n",
       "      <td>TRS</td>\n",
       "      <td>Car</td>\n",
       "      <td>MALE</td>\n",
       "      <td>0</td>\n",
       "      <td>54.0</td>\n",
       "      <td>ST</td>\n",
       "      <td>Post Graduate</td>\n",
       "      <td>18477888.0</td>\n",
       "      <td>847000.0</td>\n",
       "      <td>318665</td>\n",
       "      <td>149</td>\n",
       "      <td>318814</td>\n",
       "      <td>21.399929</td>\n",
       "      <td>29.964370</td>\n",
       "      <td>1489790</td>\n",
       "    </tr>\n",
       "    <tr>\n",
       "      <th>2</th>\n",
       "      <td>Telangana</td>\n",
       "      <td>ADILABAD</td>\n",
       "      <td>RATHOD RAMESH</td>\n",
       "      <td>0</td>\n",
       "      <td>INC</td>\n",
       "      <td>Hand</td>\n",
       "      <td>MALE</td>\n",
       "      <td>3</td>\n",
       "      <td>52.0</td>\n",
       "      <td>ST</td>\n",
       "      <td>12th Pass</td>\n",
       "      <td>36491000.0</td>\n",
       "      <td>15300000.0</td>\n",
       "      <td>314057</td>\n",
       "      <td>181</td>\n",
       "      <td>314238</td>\n",
       "      <td>21.092771</td>\n",
       "      <td>29.534285</td>\n",
       "      <td>1489790</td>\n",
       "    </tr>\n",
       "    <tr>\n",
       "      <th>4</th>\n",
       "      <td>Uttar Pradesh</td>\n",
       "      <td>AGRA</td>\n",
       "      <td>Satyapal Singh Baghel</td>\n",
       "      <td>1</td>\n",
       "      <td>BJP</td>\n",
       "      <td>Lotus</td>\n",
       "      <td>MALE</td>\n",
       "      <td>5</td>\n",
       "      <td>58.0</td>\n",
       "      <td>SC</td>\n",
       "      <td>Doctorate</td>\n",
       "      <td>74274036.0</td>\n",
       "      <td>8606522.0</td>\n",
       "      <td>644459</td>\n",
       "      <td>2416</td>\n",
       "      <td>646875</td>\n",
       "      <td>33.383823</td>\n",
       "      <td>56.464615</td>\n",
       "      <td>1937690</td>\n",
       "    </tr>\n",
       "    <tr>\n",
       "      <th>5</th>\n",
       "      <td>Uttar Pradesh</td>\n",
       "      <td>AGRA</td>\n",
       "      <td>Manoj Kumar Soni</td>\n",
       "      <td>0</td>\n",
       "      <td>BSP</td>\n",
       "      <td>Elephant</td>\n",
       "      <td>MALE</td>\n",
       "      <td>0</td>\n",
       "      <td>47.0</td>\n",
       "      <td>SC</td>\n",
       "      <td>Post Graduate</td>\n",
       "      <td>133784385.0</td>\n",
       "      <td>22251891.0</td>\n",
       "      <td>434199</td>\n",
       "      <td>1130</td>\n",
       "      <td>435329</td>\n",
       "      <td>22.466390</td>\n",
       "      <td>37.999125</td>\n",
       "      <td>1937690</td>\n",
       "    </tr>\n",
       "  </tbody>\n",
       "</table>\n",
       "</div>"
      ],
      "text/plain": [
       "           STATE CONSTITUENCY                   NAME  WINNER PARTY    SYMBOL  \\\n",
       "0      Telangana     ADILABAD         SOYAM BAPU RAO       1   BJP     Lotus   \n",
       "1      Telangana     ADILABAD           Godam Nagesh       0   TRS       Car   \n",
       "2      Telangana     ADILABAD          RATHOD RAMESH       0   INC      Hand   \n",
       "4  Uttar Pradesh         AGRA  Satyapal Singh Baghel       1   BJP     Lotus   \n",
       "5  Uttar Pradesh         AGRA       Manoj Kumar Soni       0   BSP  Elephant   \n",
       "\n",
       "  GENDER  CRIMINALCASES   AGE CATEGORY      EDUCATION       ASSETS  \\\n",
       "0   MALE             52  52.0       ST      12th Pass    3099414.0   \n",
       "1   MALE              0  54.0       ST  Post Graduate   18477888.0   \n",
       "2   MALE              3  52.0       ST      12th Pass   36491000.0   \n",
       "4   MALE              5  58.0       SC      Doctorate   74274036.0   \n",
       "5   MALE              0  47.0       SC  Post Graduate  133784385.0   \n",
       "\n",
       "   LIABILITIES  GENERALVOTES  POSTALVOTES  TOTALVOTES  \\\n",
       "0     231450.0        376892          482      377374   \n",
       "1     847000.0        318665          149      318814   \n",
       "2   15300000.0        314057          181      314238   \n",
       "4    8606522.0        644459         2416      646875   \n",
       "5   22251891.0        434199         1130      435329   \n",
       "\n",
       "   OVER TOTAL ELECTORS IN CONSTITUENCY  \\\n",
       "0                            25.330684   \n",
       "1                            21.399929   \n",
       "2                            21.092771   \n",
       "4                            33.383823   \n",
       "5                            22.466390   \n",
       "\n",
       "   OVER TOTAL VOTES POLLED IN CONSTITUENCY  TOTAL ELECTORS  \n",
       "0                                35.468248         1489790  \n",
       "1                                29.964370         1489790  \n",
       "2                                29.534285         1489790  \n",
       "4                                56.464615         1937690  \n",
       "5                                37.999125         1937690  "
      ]
     },
     "execution_count": 16,
     "metadata": {},
     "output_type": "execute_result"
    }
   ],
   "source": [
    "df_NOTA.head()"
   ]
  },
  {
   "cell_type": "markdown",
   "metadata": {},
   "source": [
    "## 6. Data Analysis"
   ]
  },
  {
   "cell_type": "markdown",
   "metadata": {},
   "source": [
    "### 6.1 State and Constituency by total electors"
   ]
  },
  {
   "cell_type": "code",
   "execution_count": 17,
   "metadata": {},
   "outputs": [
    {
     "data": {
      "application/vnd.plotly.v1+json": {
       "config": {
        "plotlyServerURL": "https://plot.ly"
       },
       "data": [
        {
         "branchvalues": "total",
         "customdata": [
          [
           1489790
          ],
          [
           1937690
          ],
          [
           1861396
          ],
          [
           1811851
          ],
          [
           1643317
          ],
          [
           1876346
          ],
          [
           1766121
          ],
          [
           1865169
          ],
          [
           1356701
          ],
          [
           1266794
          ],
          [
           1887127
          ],
          [
           1648383
          ],
          [
           1716160
          ],
          [
           1337808
          ],
          [
           1888524
          ],
          [
           1459556
          ],
          [
           1853711
          ],
          [
           1785657
          ],
          [
           1743515
          ],
          [
           1833091
          ],
          [
           1628451
          ],
          [
           1507875
          ],
          [
           1646435
          ],
          [
           1521363
          ],
          [
           1655870
          ],
          [
           1698876
          ],
          [
           1664160
          ],
          [
           1397779
          ],
          [
           318471
          ],
          [
           1785605
          ],
          [
           1500016
          ],
          [
           1764726
          ],
          [
           1449150
          ],
          [
           1805439
          ],
          [
           2089353
          ],
          [
           1451418
          ],
          [
           339788
          ],
          [
           463775
          ],
          [
           1615865
          ],
          [
           1541145
          ],
          [
           1350710
          ],
          [
           1742883
          ],
          [
           1886284
          ],
          [
           795945
          ],
          [
           1789168
          ],
          [
           1891576
          ],
          [
           1704010
          ],
          [
           1616476
          ],
          [
           1638378
          ],
          [
           1729908
          ],
          [
           1767725
          ],
          [
           1531781
          ],
          [
           1822625
          ],
          [
           1431704
          ],
          [
           1697384
          ],
          [
           1702024
          ],
          [
           2204817
          ],
          [
           2849250
          ],
          [
           2497458
          ],
          [
           2215489
          ],
          [
           1704632
          ],
          [
           1699394
          ],
          [
           1648906
          ],
          [
           1751258
          ],
          [
           1975368
          ],
          [
           1468671
          ],
          [
           1816830
          ],
          [
           2114663
          ],
          [
           1317738
          ],
          [
           1718252
          ],
          [
           1733578
          ],
          [
           1698089
          ],
          [
           1826526
          ],
          [
           1797655
          ],
          [
           1596290
          ],
          [
           1941231
          ],
          [
           1685149
          ],
          [
           1436431
          ],
          [
           1678357
          ],
          [
           1379122
          ],
          [
           1845223
          ],
          [
           1621671
          ],
          [
           2045405
          ],
          [
           1958382
          ],
          [
           1779350
          ],
          [
           1751734
          ],
          [
           1502455
          ],
          [
           1737437
          ],
          [
           1942514
          ],
          [
           1661661
          ],
          [
           1823820
          ],
          [
           1811556
          ],
          [
           1943794
          ],
          [
           1564519
          ],
          [
           1768297
          ],
          [
           1997328
          ],
          [
           1765334
          ],
          [
           1890100
          ],
          [
           1654317
          ],
          [
           1628033
          ],
          [
           2142861
          ],
          [
           1699678
          ],
          [
           1775095
          ],
          [
           1797587
          ],
          [
           1664125
          ],
          [
           1851628
          ],
          [
           1876953
          ],
          [
           1699219
          ],
          [
           1627199
          ],
          [
           1744446
          ],
          [
           1705073
          ],
          [
           1787925
          ],
          [
           1762918
          ],
          [
           1829373
          ],
          [
           1230197
          ],
          [
           1686333
          ],
          [
           1756837
          ],
          [
           646729
          ],
          [
           1562283
          ],
          [
           1910188
          ],
          [
           1425218
          ],
          [
           1332300
          ],
          [
           1487681
          ],
          [
           1973533
          ],
          [
           2443112
          ],
          [
           1514783
          ],
          [
           1671253
          ],
          [
           1480222
          ],
          [
           1808780
          ],
          [
           1612556
          ],
          [
           1760633
          ],
          [
           1566499
          ],
          [
           2015911
          ],
          [
           2019104
          ],
          [
           1958904
          ],
          [
           1814200
          ],
          [
           1364038
          ],
          [
           1518996
          ],
          [
           250029
          ],
          [
           1598939
          ],
          [
           1724976
          ],
          [
           121740
          ],
          [
           1768777
          ],
          [
           1654811
          ],
          [
           1611317
          ],
          [
           1730289
          ],
          [
           1633064
          ],
          [
           1754195
          ],
          [
           1760503
          ],
          [
           2072634
          ],
          [
           1786151
          ],
          [
           1485804
          ],
          [
           1727311
          ],
          [
           1644674
          ],
          [
           1504403
          ],
          [
           1858566
          ],
          [
           1908173
          ],
          [
           1719190
          ],
          [
           1314319
          ],
          [
           1541881
          ],
          [
           1732936
          ],
          [
           1885433
          ],
          [
           1566196
          ],
          [
           1397253
          ],
          [
           1940269
          ],
          [
           2039302
          ],
          [
           1594950
          ],
          [
           1245972
          ],
          [
           1462246
          ],
          [
           1621295
          ],
          [
           1757984
          ],
          [
           1821785
          ],
          [
           2071816
          ],
          [
           1541971
          ],
          [
           1708585
          ],
          [
           1502861
          ],
          [
           1839312
          ],
          [
           1718837
          ],
          [
           1790510
          ],
          [
           1618419
          ],
          [
           1581366
          ],
          [
           1945772
          ],
          [
           1943486
          ],
          [
           1355796
          ],
          [
           2181319
          ],
          [
           2302960
          ],
          [
           1704596
          ],
          [
           1800002
          ],
          [
           2728978
          ],
          [
           1881077
          ],
          [
           1991651
          ],
          [
           1649413
          ],
          [
           1716766
          ],
          [
           1770248
          ],
          [
           1839514
          ],
          [
           1981197
          ],
          [
           1945765
          ],
          [
           1675724
          ],
          [
           1706119
          ],
          [
           1595284
          ],
          [
           2150728
          ],
          [
           2000744
          ],
          [
           1823664
          ],
          [
           1362269
          ],
          [
           1749100
          ],
          [
           1807119
          ],
          [
           1840738
          ],
          [
           1652999
          ],
          [
           1864320
          ],
          [
           1776555
          ],
          [
           1708510
          ],
          [
           1667465
          ],
          [
           1578218
          ],
          [
           1733729
          ],
          [
           1631817
          ],
          [
           1766601
          ],
          [
           1706141
          ],
          [
           1597500
          ],
          [
           1633925
          ],
          [
           1957931
          ],
          [
           1204191
          ],
          [
           2350580
          ],
          [
           937464
          ],
          [
           1819893
          ],
          [
           1816857
          ],
          [
           1643595
          ],
          [
           1588454
          ],
          [
           2127021
          ],
          [
           1952542
          ],
          [
           1475007
          ],
          [
           1617018
          ],
          [
           1933358
          ],
          [
           1931400
          ],
          [
           1867220
          ],
          [
           2071244
          ],
          [
           1735464
          ],
          [
           2047302
          ],
          [
           1657166
          ],
          [
           1703279
          ],
          [
           1718814
          ],
          [
           1616213
          ],
          [
           1897134
          ],
          [
           1867976
          ],
          [
           1648355
          ],
          [
           1903870
          ],
          [
           1852417
          ],
          [
           2040739
          ],
          [
           1641868
          ],
          [
           1937882
          ],
          [
           1956755
          ],
          [
           1365035
          ],
          [
           1642864
          ],
          [
           1744321
          ],
          [
           1570330
          ],
          [
           1666703
          ],
          [
           1805946
          ],
          [
           1563930
          ],
          [
           1611056
          ],
          [
           1734938
          ],
          [
           1528938
          ],
          [
           1965676
          ],
          [
           1643992
          ],
          [
           1288666
          ],
          [
           1427338
          ],
          [
           1558952
          ],
          [
           1874824
          ],
          [
           1501250
          ],
          [
           1266550
          ],
          [
           1632983
          ],
          [
           1660147
          ],
          [
           1771254
          ],
          [
           1810574
          ],
          [
           1340173
          ],
          [
           1651543
          ],
          [
           1904193
          ],
          [
           1387286
          ],
          [
           1363937
          ],
          [
           1653353
          ],
          [
           1787120
          ],
          [
           1710916
          ],
          [
           1516688
          ],
          [
           1638842
          ],
          [
           1676454
          ],
          [
           1842095
          ],
          [
           1513809
          ],
          [
           1909055
          ],
          [
           1834385
          ],
          [
           1804028
          ],
          [
           1770699
          ],
          [
           1202664
          ],
          [
           1659651
          ],
          [
           1814125
          ],
          [
           1776358
          ],
          [
           1629961
          ],
          [
           1880496
          ],
          [
           1728851
          ],
          [
           1444082
          ],
          [
           1296720
          ],
          [
           1736693
          ],
          [
           1434384
          ],
          [
           1508840
          ],
          [
           1948010
          ],
          [
           1206698
          ],
          [
           1318024
          ],
          [
           1530404
          ],
          [
           1631698
          ],
          [
           1573009
          ],
          [
           1657335
          ],
          [
           1761564
          ],
          [
           179232
          ],
          [
           1708013
          ],
          [
           55189
          ],
          [
           1751980
          ],
          [
           1886657
          ],
          [
           1234286
          ],
          [
           2040367
          ],
          [
           1683325
          ],
          [
           1848306
          ],
          [
           1473347
          ],
          [
           1909574
          ],
          [
           1884883
          ],
          [
           1792798
          ],
          [
           1539026
          ],
          [
           1424385
          ],
          [
           1807768
          ],
          [
           1915408
          ],
          [
           1637951
          ],
          [
           1506102
          ],
          [
           1648869
          ],
          [
           1723236
          ],
          [
           1370544
          ],
          [
           1575590
          ],
          [
           1685955
          ],
          [
           3150313
          ],
          [
           1281462
          ],
          [
           1951267
          ],
          [
           1760875
          ],
          [
           1712004
          ],
          [
           1800237
          ],
          [
           1807893
          ],
          [
           1652096
          ],
          [
           2298080
          ],
          [
           1308102
          ],
          [
           1484842
          ],
          [
           1493205
          ],
          [
           1603318
          ],
          [
           1674236
          ],
          [
           1892931
          ],
          [
           1845150
          ],
          [
           1796932
          ],
          [
           792464
          ],
          [
           2023431
          ],
          [
           1958939
          ],
          [
           1837723
          ],
          [
           1647350
          ],
          [
           1679891
          ],
          [
           1588693
          ],
          [
           1732263
          ],
          [
           1554176
          ],
          [
           1440380
          ],
          [
           1888025
          ],
          [
           1725187
          ],
          [
           1698003
          ],
          [
           1730553
          ],
          [
           1896333
          ],
          [
           1461004
          ],
          [
           1213777
          ],
          [
           1303649
          ],
          [
           1588111
          ],
          [
           1933169
          ],
          [
           1586117
          ],
          [
           2161096
          ],
          [
           1828433
          ],
          [
           2114809
          ],
          [
           1585980
          ],
          [
           1413599
          ],
          [
           1719322
          ],
          [
           1871099
          ],
          [
           1603220
          ],
          [
           1670391
          ],
          [
           1439691
          ],
          [
           1885064
          ],
          [
           1971658
          ],
          [
           1899747
          ],
          [
           1672845
          ],
          [
           1617470
          ],
          [
           1366060
          ],
          [
           1553385
          ],
          [
           2290492
          ],
          [
           556761
          ],
          [
           2378995
          ],
          [
           1794648
          ],
          [
           1556469
          ],
          [
           1889740
          ],
          [
           1022099
          ],
          [
           1323010
          ],
          [
           1881441
          ],
          [
           1885600
          ],
          [
           2161663
          ],
          [
           1744762
          ],
          [
           1985228
          ],
          [
           1633824
          ],
          [
           1925479
          ],
          [
           1807043
          ],
          [
           1382741
          ],
          [
           1739600
          ],
          [
           2146008
          ],
          [
           1479091
          ],
          [
           1391853
          ],
          [
           2010477
          ],
          [
           1761207
          ],
          [
           1520504
          ],
          [
           1356803
          ],
          [
           1662368
          ],
          [
           1708759
          ],
          [
           973410
          ],
          [
           2075824
          ],
          [
           1562331
          ],
          [
           1765312
          ],
          [
           1645884
          ],
          [
           1658672
          ],
          [
           1702248
          ],
          [
           1928204
          ],
          [
           1652965
          ],
          [
           1601220
          ],
          [
           1733805
          ],
          [
           2111738
          ],
          [
           1534256
          ],
          [
           1546938
          ],
          [
           1694329
          ],
          [
           1884339
          ],
          [
           1454436
          ],
          [
           1716459
          ],
          [
           1912911
          ],
          [
           1559740
          ],
          [
           1679506
          ],
          [
           1922764
          ],
          [
           1762252
          ],
          [
           1915959
          ],
          [
           1851112
          ],
          [
           1455577
          ],
          [
           1775051
          ],
          [
           1679534
          ],
          [
           1723538
          ],
          [
           1737133
          ],
          [
           1801717
          ],
          [
           1583129
          ],
          [
           1739082
          ],
          [
           1612512
          ],
          [
           1667282
          ],
          [
           1679030
          ],
          [
           1468530
          ],
          [
           1828764
          ],
          [
           1809109
          ],
          [
           1529431
          ],
          [
           1962903
          ],
          [
           1667253
          ],
          [
           1655239
          ],
          [
           1787878
          ],
          [
           1848489
          ],
          [
           1575064
          ],
          [
           1968276
          ],
          [
           1656474
          ],
          [
           2114201
          ],
          [
           1686215
          ],
          [
           1197806
          ],
          [
           1259085
          ],
          [
           1676668
          ],
          [
           1587079
          ],
          [
           2175529
          ],
          [
           1914739
          ],
          [
           1845547
          ],
          [
           2041612
          ],
          [
           434128
          ],
          [
           1195720
          ],
          [
           1269917
          ],
          [
           1803349
          ],
          [
           1752454
          ],
          [
           1666126
          ],
          [
           1552019
          ],
          [
           1799551
          ],
          [
           1851654
          ],
          [
           1592611
          ],
          [
           2067463
          ],
          [
           579352
          ],
          [
           1785472
          ],
          [
           1553860
          ],
          [
           1294671
          ],
          [
           2253448
          ],
          [
           1775196
          ],
          [
           1531525
          ],
          [
           1690620
          ],
          [
           1655704
          ],
          [
           1849429
          ],
          [
           1694646
          ],
          [
           1493543
          ],
          [
           1492317
          ],
          [
           1499639
          ],
          [
           2370903
          ],
          [
           1461052
          ],
          [
           1561040
          ],
          [
           1946870
          ],
          [
           1371427
          ],
          [
           1427783
          ],
          [
           1337110
          ],
          [
           1647399
          ],
          [
           1508963
          ],
          [
           1547800
          ],
          [
           1650453
          ],
          [
           1530014
          ],
          [
           1473862
          ],
          [
           1945992
          ],
          [
           1261861
          ],
          [
           1352857
          ],
          [
           1608545
          ],
          [
           716990
          ],
          [
           2069559
          ],
          [
           1685816
          ],
          [
           1513806
          ],
          [
           1612300
          ],
          [
           1661229
          ],
          [
           1614988
          ],
          [
           2191465
          ],
          [
           1556599
          ],
          [
           1288926
          ],
          [
           1794896
          ],
          [
           1735983
          ],
          [
           1665502
          ],
          [
           1671030
          ],
          [
           1856791
          ],
          [
           1741604
          ],
          [
           1652994
          ],
          [
           1444335
          ],
          [
           1484256
          ],
          [
           1829300
          ],
          [
           1503980
          ],
          [
           1666770
          ],
          [
           1743283
          ],
          [
           1359679
          ],
          [
           2371644
          ],
          [
           1916185
          ],
          [
           1498666
          ],
          [
           318471
          ],
          [
           1582400.9717934993
          ],
          [
           411346.8832798424
          ],
          [
           1644353.1150737212
          ],
          [
           1772123.4583131715
          ],
          [
           646729
          ],
          [
           1698986.6878278088
          ],
          [
           250029
          ],
          [
           121740
          ],
          [
           568281.104982515
          ],
          [
           1731423.3247479957
          ],
          [
           1805054.9374463586
          ],
          [
           1330051.2265762947
          ],
          [
           1479420.1213534693
          ],
          [
           1592357.041634522
          ],
          [
           1864447.0147089066
          ],
          [
           1313543.2125966665
          ],
          [
           55189
          ],
          [
           1792314.1201794483
          ],
          [
           1854902.7101187361
          ],
          [
           981609.2246572323
          ],
          [
           1017765.7952784527
          ],
          [
           792464
          ],
          [
           2100878.067652333
          ],
          [
           1213777
          ],
          [
           1550561.8931075688
          ],
          [
           973410
          ],
          [
           1608761.8167242955
          ],
          [
           1959342.8479804182
          ],
          [
           434128
          ],
          [
           1567181.864860669
          ],
          [
           1815183.074099372
          ],
          [
           1308942.396759421
          ],
          [
           1843504.556146671
          ],
          [
           1617600.669871884
          ],
          [
           1670124.3478314995
          ]
         ],
         "domain": {
          "x": [
           0,
           1
          ],
          "y": [
           0,
           1
          ]
         },
         "hovertemplate": "labels=%{label}<br>TOTAL ELECTORS_sum=%{value}<br>parent=%{parent}<br>id=%{id}<br>TOTAL ELECTORS=%{color}<extra></extra>",
         "ids": [
          "Telangana/ADILABAD",
          "Uttar Pradesh/AGRA",
          "Maharashtra/AHMADNAGAR",
          "Gujarat/AHMEDABAD EAST",
          "Gujarat/AHMEDABAD WEST",
          "Rajasthan/AJMER",
          "Uttar Pradesh/AKBARPUR",
          "Maharashtra/AKOLA",
          "Kerala/ALAPPUZHA",
          "Kerala/ALATHUR",
          "Uttar Pradesh/ALIGARH",
          "West Bengal/ALIPURDUARS",
          "Uttar Pradesh/ALLAHABAD",
          "Uttarakhand/ALMORA",
          "Rajasthan/ALWAR",
          "Andhra Pradesh/AMALAPURAM",
          "Haryana/AMBALA",
          "Uttar Pradesh/AMBEDKAR NAGAR",
          "Uttar Pradesh/AMETHI",
          "Maharashtra/AMRAVATI",
          "Gujarat/AMRELI",
          "Punjab/AMRITSAR",
          "Uttar Pradesh/AMROHA",
          "Andhra Pradesh/ANAKAPALLI",
          "Gujarat/ANAND",
          "Punjab/ANANDPUR SAHIB",
          "Andhra Pradesh/ANANTAPUR",
          "Jammu & Kashmir/ANANTNAG",
          "Andaman & Nicobar Islands/ANDAMAN & NICOBAR ISLANDS",
          "Uttar Pradesh/AONLA",
          "Tamil Nadu/ARAKKONAM",
          "West Bengal/ARAMBAGH",
          "Tamil Nadu/ARANI",
          "Bihar/ARARIA",
          "Bihar/ARRAH",
          "Andhra Pradesh/ARUKU",
          "Arunachal Pradesh/ARUNACHAL EAST",
          "Arunachal Pradesh/ARUNACHAL WEST",
          "West Bengal/ASANSOL",
          "Odisha/ASKA",
          "Kerala/ATTINGAL",
          "Bihar/AURANGABAD",
          "Maharashtra/AURANGABAD",
          "Assam/AUTONOMOUS DISTRICT",
          "Uttar Pradesh/AZAMGARH",
          "Uttar Pradesh/BADAUN",
          "Karnataka/BAGALKOT",
          "Uttar Pradesh/BAGHPAT",
          "West Bengal/BAHARAMPUR",
          "Uttar Pradesh/BAHRAICH",
          "Madhya Pradesh/BALAGHAT",
          "Odisha/BALASORE",
          "Uttar Pradesh/BALLIA",
          "West Bengal/BALURGHAT",
          "Gujarat/BANASKANTHA",
          "Uttar Pradesh/BANDA",
          "Karnataka/BANGALORE CENTRAL",
          "Karnataka/BANGALORE NORTH",
          "Karnataka/BANGALORE RURAL",
          "Karnataka/BANGALORE SOUTH",
          "West Bengal/BANGAON",
          "Bihar/BANKA",
          "West Bengal/BANKURA",
          "Uttar Pradesh/BANSGAON",
          "Rajasthan/BANSWARA",
          "Andhra Pradesh/BAPATLA",
          "Uttar Pradesh/BARABANKI",
          "Maharashtra/BARAMATI",
          "Jammu & Kashmir/BARAMULLA",
          "West Bengal/BARASAT",
          "West Bengal/BARDHAMAN DURGAPUR",
          "West Bengal/BARDHAMAN PURBA",
          "Gujarat/BARDOLI",
          "Uttar Pradesh/BAREILLY",
          "Odisha/BARGARH",
          "Rajasthan/BARMER",
          "Assam/BARPETA",
          "West Bengal/BARRACKPORE",
          "West Bengal/BASIRHAT",
          "Chhattisgarh/BASTAR",
          "Uttar Pradesh/BASTI",
          "Punjab/BATHINDA",
          "Maharashtra/BEED",
          "Bihar/BEGUSARAI",
          "Karnataka/BELGAUM",
          "Karnataka/BELLARY",
          "Odisha/BERHAMPUR",
          "Madhya Pradesh/BETUL",
          "Uttar Pradesh/BHADOHI",
          "Odisha/BHADRAK",
          "Bihar/BHAGALPUR",
          "Maharashtra/BHANDARA - GONDIYA",
          "Rajasthan/BHARATPUR",
          "Gujarat/BHARUCH",
          "Gujarat/BHAVNAGAR",
          "Rajasthan/BHILWARA",
          "Madhya Pradesh/BHIND",
          "Maharashtra/BHIWANDI",
          "Haryana/BHIWANI-MAHENDRAGARH",
          "Telangana/BHONGIR",
          "Madhya Pradesh/BHOPAL",
          "Odisha/BHUBANESWAR",
          "Karnataka/BIDAR",
          "Karnataka/BIJAPUR",
          "Uttar Pradesh/BIJNOR",
          "Rajasthan/BIKANER (SC)",
          "Chhattisgarh/BILASPUR",
          "West Bengal/BIRBHUM",
          "West Bengal/BISHNUPUR",
          "Odisha/BOLANGIR",
          "West Bengal/BOLPUR",
          "Uttar Pradesh/BULANDSHAHR",
          "Maharashtra/BULDHANA",
          "Bihar/BUXAR",
          "Kerala/CHALAKUDY",
          "Karnataka/CHAMARAJANAGAR",
          "Uttar Pradesh/CHANDAULI",
          "Chandigarh/CHANDIGARH",
          "NCT OF Delhi/CHANDNI CHOWK",
          "Maharashtra/CHANDRAPUR",
          "Jharkhand/CHATRA",
          "Tamil Nadu/CHENNAI CENTRAL",
          "Tamil Nadu/CHENNAI NORTH",
          "Tamil Nadu/CHENNAI SOUTH",
          "Telangana/CHEVELLA",
          "Madhya Pradesh/CHHINDWARA",
          "Gujarat/CHHOTA UDAIPUR",
          "Tamil Nadu/CHIDAMBARAM",
          "Karnataka/CHIKKBALLAPUR",
          "Karnataka/CHIKKODI",
          "Karnataka/CHITRADURGA",
          "Andhra Pradesh/CHITTOOR",
          "Rajasthan/CHITTORGARH",
          "Rajasthan/CHURU",
          "Tamil Nadu/COIMBATORE",
          "West Bengal/COOCH BEHAR",
          "Tamil Nadu/CUDDALORE",
          "Odisha/CUTTACK",
          "Dadra & Nagar Haveli/DADRA AND NAGAR HAVELI",
          "Gujarat/DAHOD",
          "Karnataka/DAKSHINA KANNADA",
          "Daman & Diu/DAMAN & DIU",
          "Madhya Pradesh/DAMOH",
          "Bihar/DARBHANGA",
          "West Bengal/DARJEELING",
          "Rajasthan/DAUSA",
          "Karnataka/DAVANAGERE",
          "Uttar Pradesh/DEORIA",
          "Madhya Pradesh/DEWAS",
          "Jharkhand/DHANBAD",
          "Madhya Pradesh/DHAR",
          "Tamil Nadu/DHARMAPURI",
          "Karnataka/DHARWAD",
          "Uttar Pradesh/DHAURAHRA",
          "Odisha/DHENKANAL",
          "Assam/DHUBRI",
          "Maharashtra/DHULE",
          "West Bengal/DIAMOND HARBOUR",
          "Assam/DIBRUGARH",
          "Tamil Nadu/DINDIGUL",
          "Maharashtra/DINDORI",
          "Uttar Pradesh/DOMARIYAGANJ",
          "West Bengal/DUM DUM",
          "Jharkhand/DUMKA",
          "Chhattisgarh/DURG",
          "NCT OF Delhi/EAST DELHI",
          "Andhra Pradesh/ELURU",
          "Kerala/ERNAKULAM",
          "Tamil Nadu/ERODE",
          "Uttar Pradesh/ETAH",
          "Uttar Pradesh/ETAWAH",
          "Uttar Pradesh/FAIZABAD",
          "Haryana/FARIDABAD",
          "Punjab/FARIDKOT",
          "Uttar Pradesh/FARRUKHABAD",
          "Punjab/FATEHGARH SAHIB",
          "Uttar Pradesh/FATEHPUR",
          "Uttar Pradesh/FATEHPUR SIKRI",
          "Uttar Pradesh/FIROZABAD",
          "Punjab/FIROZPUR",
          "Maharashtra/GADCHIROLI-CHIMUR",
          "Gujarat/GANDHINAGAR",
          "Rajasthan/GANGANAGAR",
          "Uttarakhand/GARHWAL",
          "Assam/GAUHATI",
          "Uttar Pradesh/GAUTAM BUDDHA NAGAR",
          "Bihar/GAYA (SC)",
          "West Bengal/GHATAL",
          "Uttar Pradesh/GHAZIABAD",
          "Uttar Pradesh/GHAZIPUR",
          "Uttar Pradesh/GHOSI",
          "Jharkhand/GIRIDIH",
          "Jharkhand/GODDA",
          "Uttar Pradesh/GONDA",
          "Bihar/GOPALGANJ (SC)",
          "Uttar Pradesh/GORAKHPUR",
          "Karnataka/GULBARGA",
          "Madhya Pradesh/GUNA",
          "Andhra Pradesh/GUNTUR",
          "Punjab/GURDASPUR",
          "Haryana/GURGAON",
          "Madhya Pradesh/GWALIOR",
          "Bihar/HAJIPUR (SC)",
          "Himachal Pradesh/HAMIRPUR",
          "Uttar Pradesh/HAMIRPUR",
          "Uttar Pradesh/HARDOI",
          "Uttarakhand/HARDWAR",
          "Karnataka/HASSAN",
          "Uttar Pradesh/HATHRAS",
          "Maharashtra/HATKANANGLE",
          "Karnataka/HAVERI",
          "Jharkhand/HAZARIBAGH",
          "Andhra Pradesh/HINDUPUR",
          "Maharashtra/HINGOLI",
          "Haryana/HISAR",
          "West Bengal/HOOGHLY",
          "Madhya Pradesh/HOSHANGABAD",
          "Punjab/HOSHIARPUR",
          "West Bengal/HOWRAH",
          "Telangana/HYDERABAD",
          "Kerala/IDUKKI",
          "Madhya Pradesh/INDORE",
          "Manipur/INNER MANIPUR",
          "Madhya Pradesh/JABALPUR",
          "West Bengal/JADAVPUR",
          "Odisha/JAGATSINGHPUR",
          "Bihar/JAHANABAD",
          "Rajasthan/JAIPUR",
          "Rajasthan/JAIPUR RURAL",
          "Odisha/JAJPUR",
          "Punjab/JALANDHAR",
          "Uttar Pradesh/JALAUN",
          "Maharashtra/JALGAON",
          "Maharashtra/JALNA",
          "Rajasthan/JALORE",
          "West Bengal/JALPAIGURI",
          "Jammu & Kashmir/JAMMU",
          "Gujarat/JAMNAGAR",
          "Jharkhand/JAMSHEDPUR",
          "Bihar/JAMUI (SC)",
          "West Bengal/JANGIPUR",
          "Chhattisgarh/JANJGIR-CHAMPA",
          "Uttar Pradesh/JAUNPUR",
          "West Bengal/JAYNAGAR",
          "Rajasthan/JHALAWAR-BARAN",
          "Bihar/JHANJHARPUR",
          "Uttar Pradesh/JHANSI",
          "West Bengal/JHARGRAM",
          "Rajasthan/JHUNJHUNU",
          "Rajasthan/JODHPUR",
          "Assam/JORHAT",
          "Gujarat/JUNAGADH",
          "Gujarat/KACHCHH",
          "Andhra Pradesh/KADAPA",
          "Uttar Pradesh/KAIRANA",
          "Uttar Pradesh/KAISERGANJ",
          "Andhra Pradesh/KAKINADA",
          "Odisha/KALAHANDI",
          "Assam/KALIABOR",
          "Tamil Nadu/KALLAKURICHI",
          "Maharashtra/KALYAN",
          "Tamil Nadu/KANCHEEPURAM",
          "Odisha/KANDHAMAL",
          "Himachal Pradesh/KANGRA",
          "Chhattisgarh/KANKER",
          "Uttar Pradesh/KANNAUJ",
          "Tamil Nadu/KANNIYAKUMARI",
          "Kerala/KANNUR",
          "Uttar Pradesh/KANPUR",
          "West Bengal/KANTHI",
          "Bihar/KARAKAT",
          "Rajasthan/KARAULI-DHOLPUR",
          "Assam/KARIMGANJ",
          "Telangana/KARIMNAGAR",
          "Haryana/KARNAL",
          "Tamil Nadu/KARUR",
          "Kerala/KASARAGOD",
          "Bihar/KATIHAR",
          "Uttar Pradesh/KAUSHAMBI",
          "Odisha/KENDRAPARA",
          "Odisha/KEONJHAR",
          "Punjab/KHADOOR SAHIB",
          "Bihar/KHAGARIA",
          "Madhya Pradesh/KHAJURAHO",
          "Telangana/KHAMMAM",
          "Madhya Pradesh/KHANDWA",
          "Madhya Pradesh/KHARGONE",
          "Gujarat/KHEDA",
          "Uttar Pradesh/KHERI",
          "Jharkhand/KHUNTI",
          "Bihar/KISHANGANJ",
          "Jharkhand/KODARMA",
          "Assam/KOKRAJHAR",
          "Karnataka/KOLAR",
          "Maharashtra/KOLHAPUR",
          "West Bengal/KOLKATA DAKSHIN",
          "West Bengal/KOLKATA UTTAR",
          "Kerala/KOLLAM",
          "Karnataka/KOPPAL",
          "Odisha/KORAPUT",
          "Chhattisgarh/KORBA",
          "Rajasthan/KOTA",
          "Kerala/KOTTAYAM",
          "Kerala/KOZHIKODE",
          "Tamil Nadu/KRISHNAGIRI",
          "West Bengal/KRISHNANAGAR",
          "Andhra Pradesh/KURNOOL",
          "Haryana/KURUKSHETRA",
          "Uttar Pradesh/KUSHI NAGAR",
          "Jammu & Kashmir/LADAKH",
          "Assam/LAKHIMPUR",
          "Lakshadweep/LAKSHADWEEP",
          "Uttar Pradesh/LALGANJ",
          "Maharashtra/LATUR",
          "Jharkhand/LOHARDAGA",
          "Uttar Pradesh/LUCKNOW",
          "Punjab/LUDHIANA",
          "Uttar Pradesh/MACHHLISHAHR",
          "Andhra Pradesh/MACHILIPATNAM",
          "Maharashtra/MADHA",
          "Bihar/MADHEPURA",
          "Bihar/MADHUBANI",
          "Tamil Nadu/MADURAI",
          "Telangana/MAHABUBABAD",
          "Bihar/MAHARAJGANJ",
          "Uttar Pradesh/MAHARAJGANJ",
          "Chhattisgarh/MAHASAMUND",
          "Telangana/MAHBUBNAGAR",
          "Gujarat/MAHESANA",
          "Uttar Pradesh/MAINPURI",
          "Kerala/MALAPPURAM",
          "West Bengal/MALDAHA DAKSHIN",
          "West Bengal/MALDAHA UTTAR",
          "Telangana/MALKAJGIRI",
          "Himachal Pradesh/MANDI",
          "Madhya Pradesh/MANDLA",
          "Madhya Pradesh/MANDSOUR",
          "Karnataka/MANDYA",
          "Assam/MANGALDOI",
          "Uttar Pradesh/MATHURA",
          "West Bengal/MATHURAPUR",
          "Maharashtra/MAVAL",
          "Kerala/MAVELIKKARA",
          "Tamil Nadu/MAYILADUTHURAI",
          "Odisha/MAYURBHANJ",
          "Telangana/MEDAK",
          "West Bengal/MEDINIPUR",
          "Uttar Pradesh/MEERUT",
          "Uttar Pradesh/MIRZAPUR",
          "Uttar Pradesh/MISRIKH",
          "Mizoram/MIZORAM",
          "Uttar Pradesh/MOHANLALGANJ",
          "Uttar Pradesh/MORADABAD",
          "Madhya Pradesh/MORENA",
          "Maharashtra/MUMBAI NORTH",
          "Maharashtra/MUMBAI NORTH CENTRAL",
          "Maharashtra/MUMBAI NORTH EAST",
          "Maharashtra/MUMBAI NORTH WEST",
          "Maharashtra/MUMBAI SOUTH",
          "Maharashtra/MUMBAI SOUTH CENTRAL",
          "Bihar/MUNGER",
          "West Bengal/MURSHIDABAD",
          "Uttar Pradesh/MUZAFFARNAGAR",
          "Bihar/MUZAFFARPUR",
          "Karnataka/MYSORE",
          "Odisha/NABARANGPUR",
          "Nagaland/NAGALAND",
          "Tamil Nadu/NAGAPATTINAM",
          "Telangana/NAGARKURNOOL",
          "Rajasthan/NAGAUR",
          "Uttar Pradesh/NAGINA",
          "Maharashtra/NAGPUR",
          "Uttarakhand/NAINITAL-UDHAMSINGH NAGAR",
          "Bihar/NALANDA",
          "Telangana/NALGONDA",
          "Tamil Nadu/NAMAKKAL",
          "Maharashtra/NANDED",
          "Maharashtra/NANDURBAR",
          "Andhra Pradesh/NANDYAL",
          "Andhra Pradesh/NARASARAOPET",
          "Andhra Pradesh/NARSAPURAM",
          "Maharashtra/NASHIK",
          "Gujarat/NAVSARI",
          "Bihar/NAWADA",
          "Andhra Pradesh/NELLORE",
          "NCT OF Delhi/NEW DELHI",
          "Tamil Nadu/NILGIRIS",
          "Telangana/NIZAMABAD",
          "NCT OF Delhi/NORTH EAST DELHI",
          "Goa/NORTH GOA",
          "NCT OF Delhi/NORTH WEST DELHI",
          "Assam/NOWGONG",
          "Andhra Pradesh/ONGOLE",
          "Maharashtra/OSMANABAD",
          "Manipur/OUTER MANIPUR",
          "Kerala/PALAKKAD",
          "Jharkhand/PALAMAU",
          "Maharashtra/PALGHAR",
          "Rajasthan/PALI",
          "Gujarat/PANCHMAHAL",
          "Maharashtra/PARBHANI",
          "Bihar/PASCHIM CHAMPARAN",
          "Bihar/PATALIPUTRA",
          "Gujarat/PATAN",
          "Kerala/PATHANAMTHITTA",
          "Punjab/PATIALA",
          "Bihar/PATNA SAHIB",
          "Telangana/PEDDAPALLE",
          "Tamil Nadu/PERAMBALUR",
          "Uttar Pradesh/PHULPUR",
          "Uttar Pradesh/PILIBHIT",
          "Tamil Nadu/POLLACHI",
          "Kerala/PONNANI",
          "Gujarat/PORBANDAR",
          "Uttar Pradesh/PRATAPGARH",
          "Puducherry/PUDUCHERRY",
          "Maharashtra/PUNE",
          "Odisha/PURI",
          "Bihar/PURNIA",
          "West Bengal/PURULIA",
          "Bihar/PURVI CHAMPARAN",
          "Uttar Pradesh/RAE BARELI",
          "Karnataka/RAICHUR",
          "Maharashtra/RAIGAD",
          "West Bengal/RAIGANJ",
          "Chhattisgarh/RAIGARH",
          "Chhattisgarh/RAIPUR",
          "Andhra Pradesh/RAJAHMUNDRY",
          "Andhra Pradesh/RAJAMPET",
          "Madhya Pradesh/RAJGARH",
          "Gujarat/RAJKOT",
          "Jharkhand/RAJMAHAL",
          "Chhattisgarh/RAJNANDGAON",
          "Rajasthan/RAJSAMAND",
          "Tamil Nadu/RAMANATHAPURAM",
          "Uttar Pradesh/RAMPUR",
          "Maharashtra/RAMTEK",
          "West Bengal/RANAGHAT",
          "Jharkhand/RANCHI",
          "Madhya Pradesh/RATLAM",
          "Maharashtra/RATNAGIRI - SINDHUDURG",
          "Maharashtra/RAVER",
          "Madhya Pradesh/REWA",
          "Uttar Pradesh/ROBERTSGANJ",
          "Haryana/ROHTAK",
          "Gujarat/SABARKANTHA",
          "Madhya Pradesh/SAGAR",
          "Uttar Pradesh/SAHARANPUR",
          "Tamil Nadu/SALEM",
          "Uttar Pradesh/SALEMPUR",
          "Bihar/SAMASTIPUR (SC)",
          "Odisha/SAMBALPUR",
          "Uttar Pradesh/SAMBHAL",
          "Maharashtra/SANGLI",
          "Punjab/SANGRUR",
          "Uttar Pradesh/SANT KABIR NAGAR",
          "Bihar/SARAN",
          "Chhattisgarh/SARGUJA",
          "Bihar/SASARAM (SC)",
          "Maharashtra/SATARA",
          "Madhya Pradesh/SATNA",
          "Telangana/SECUNDRABAD",
          "Madhya Pradesh/SHAHDOL",
          "Uttar Pradesh/SHAHJAHANPUR",
          "Bihar/SHEOHAR",
          "Meghalaya/SHILLONG",
          "Himachal Pradesh/SHIMLA",
          "Karnataka/SHIMOGA",
          "Maharashtra/SHIRDI",
          "Maharashtra/SHIRUR",
          "Uttar Pradesh/SHRAWASTI",
          "Madhya Pradesh/SIDHI",
          "Rajasthan/SIKAR",
          "Sikkim/SIKKIM",
          "Assam/SILCHAR",
          "Jharkhand/SINGHBHUM",
          "Haryana/SIRSA",
          "Bihar/SITAMARHI",
          "Uttar Pradesh/SITAPUR",
          "Tamil Nadu/SIVAGANGA",
          "Bihar/SIWAN",
          "Maharashtra/SOLAPUR",
          "Haryana/SONIPAT",
          "NCT OF Delhi/SOUTH DELHI",
          "Goa/SOUTH GOA",
          "West Bengal/SRERAMPUR",
          "Andhra Pradesh/SRIKAKULAM",
          "Jammu & Kashmir/SRINAGAR",
          "Tamil Nadu/SRIPERUMBUDUR",
          "Uttar Pradesh/SULTANPUR",
          "Odisha/SUNDARGARH",
          "Bihar/SUPAUL",
          "Gujarat/SURAT",
          "Gujarat/SURENDRANAGAR",
          "West Bengal/TAMLUK",
          "Uttarakhand/TEHRI GARHWAL",
          "Tamil Nadu/TENKASI",
          "Assam/TEZPUR",
          "Maharashtra/THANE",
          "Tamil Nadu/THANJAVUR",
          "Tamil Nadu/THENI",
          "Tamil Nadu/THIRUVALLUR",
          "Kerala/THIRUVANANTHAPURAM",
          "Tamil Nadu/THOOTHUKKUDI",
          "Kerala/THRISSUR",
          "Madhya Pradesh/TIKAMGARH",
          "Tamil Nadu/TIRUCHIRAPPALLI",
          "Tamil Nadu/TIRUNELVELI",
          "Andhra Pradesh/TIRUPATI",
          "Tamil Nadu/TIRUPPUR",
          "Tamil Nadu/TIRUVANNAMALAI",
          "Rajasthan/TONK-SAWAI MADHOPUR",
          "Tripura/TRIPURA EAST",
          "Tripura/TRIPURA WEST",
          "Karnataka/TUMKUR",
          "Meghalaya/TURA",
          "Rajasthan/UDAIPUR",
          "Jammu & Kashmir/UDHAMPUR",
          "Karnataka/UDUPI CHIKMAGALUR",
          "Bihar/UJIARPUR",
          "Madhya Pradesh/UJJAIN",
          "West Bengal/ULUBERIA",
          "Uttar Pradesh/UNNAO",
          "Karnataka/UTTARA KANNADA",
          "Kerala/VADAKARA",
          "Gujarat/VADODARA",
          "Bihar/VAISHALI",
          "Bihar/VALMIKI NAGAR",
          "Gujarat/VALSAD",
          "Uttar Pradesh/VARANASI",
          "Madhya Pradesh/VIDISHA",
          "Andhra Pradesh/VIJAYAWADA",
          "Tamil Nadu/VILUPPURAM",
          "Tamil Nadu/VIRUDHUNAGAR",
          "Andhra Pradesh/VISAKHAPATNAM",
          "Andhra Pradesh/VIZIANAGARAM",
          "Telangana/WARANGAL",
          "Maharashtra/WARDHA",
          "Kerala/WAYANAD",
          "NCT OF Delhi/WEST DELHI",
          "Maharashtra/YAVATMAL-WASHIM",
          "Telangana/ZAHIRABAD",
          "Andaman & Nicobar Islands",
          "Andhra Pradesh",
          "Arunachal Pradesh",
          "Assam",
          "Bihar",
          "Chandigarh",
          "Chhattisgarh",
          "Dadra & Nagar Haveli",
          "Daman & Diu",
          "Goa",
          "Gujarat",
          "Haryana",
          "Himachal Pradesh",
          "Jammu & Kashmir",
          "Jharkhand",
          "Karnataka",
          "Kerala",
          "Lakshadweep",
          "Madhya Pradesh",
          "Maharashtra",
          "Manipur",
          "Meghalaya",
          "Mizoram",
          "NCT OF Delhi",
          "Nagaland",
          "Odisha",
          "Puducherry",
          "Punjab",
          "Rajasthan",
          "Sikkim",
          "Tamil Nadu",
          "Telangana",
          "Tripura",
          "Uttar Pradesh",
          "Uttarakhand",
          "West Bengal"
         ],
         "labels": [
          "ADILABAD",
          "AGRA",
          "AHMADNAGAR",
          "AHMEDABAD EAST",
          "AHMEDABAD WEST",
          "AJMER",
          "AKBARPUR",
          "AKOLA",
          "ALAPPUZHA",
          "ALATHUR",
          "ALIGARH",
          "ALIPURDUARS",
          "ALLAHABAD",
          "ALMORA",
          "ALWAR",
          "AMALAPURAM",
          "AMBALA",
          "AMBEDKAR NAGAR",
          "AMETHI",
          "AMRAVATI",
          "AMRELI",
          "AMRITSAR",
          "AMROHA",
          "ANAKAPALLI",
          "ANAND",
          "ANANDPUR SAHIB",
          "ANANTAPUR",
          "ANANTNAG",
          "ANDAMAN & NICOBAR ISLANDS",
          "AONLA",
          "ARAKKONAM",
          "ARAMBAGH",
          "ARANI",
          "ARARIA",
          "ARRAH",
          "ARUKU",
          "ARUNACHAL EAST",
          "ARUNACHAL WEST",
          "ASANSOL",
          "ASKA",
          "ATTINGAL",
          "AURANGABAD",
          "AURANGABAD",
          "AUTONOMOUS DISTRICT",
          "AZAMGARH",
          "BADAUN",
          "BAGALKOT",
          "BAGHPAT",
          "BAHARAMPUR",
          "BAHRAICH",
          "BALAGHAT",
          "BALASORE",
          "BALLIA",
          "BALURGHAT",
          "BANASKANTHA",
          "BANDA",
          "BANGALORE CENTRAL",
          "BANGALORE NORTH",
          "BANGALORE RURAL",
          "BANGALORE SOUTH",
          "BANGAON",
          "BANKA",
          "BANKURA",
          "BANSGAON",
          "BANSWARA",
          "BAPATLA",
          "BARABANKI",
          "BARAMATI",
          "BARAMULLA",
          "BARASAT",
          "BARDHAMAN DURGAPUR",
          "BARDHAMAN PURBA",
          "BARDOLI",
          "BAREILLY",
          "BARGARH",
          "BARMER",
          "BARPETA",
          "BARRACKPORE",
          "BASIRHAT",
          "BASTAR",
          "BASTI",
          "BATHINDA",
          "BEED",
          "BEGUSARAI",
          "BELGAUM",
          "BELLARY",
          "BERHAMPUR",
          "BETUL",
          "BHADOHI",
          "BHADRAK",
          "BHAGALPUR",
          "BHANDARA - GONDIYA",
          "BHARATPUR",
          "BHARUCH",
          "BHAVNAGAR",
          "BHILWARA",
          "BHIND",
          "BHIWANDI",
          "BHIWANI-MAHENDRAGARH",
          "BHONGIR",
          "BHOPAL",
          "BHUBANESWAR",
          "BIDAR",
          "BIJAPUR",
          "BIJNOR",
          "BIKANER (SC)",
          "BILASPUR",
          "BIRBHUM",
          "BISHNUPUR",
          "BOLANGIR",
          "BOLPUR",
          "BULANDSHAHR",
          "BULDHANA",
          "BUXAR",
          "CHALAKUDY",
          "CHAMARAJANAGAR",
          "CHANDAULI",
          "CHANDIGARH",
          "CHANDNI CHOWK",
          "CHANDRAPUR",
          "CHATRA",
          "CHENNAI CENTRAL",
          "CHENNAI NORTH",
          "CHENNAI SOUTH",
          "CHEVELLA",
          "CHHINDWARA",
          "CHHOTA UDAIPUR",
          "CHIDAMBARAM",
          "CHIKKBALLAPUR",
          "CHIKKODI",
          "CHITRADURGA",
          "CHITTOOR",
          "CHITTORGARH",
          "CHURU",
          "COIMBATORE",
          "COOCH BEHAR",
          "CUDDALORE",
          "CUTTACK",
          "DADRA AND NAGAR HAVELI",
          "DAHOD",
          "DAKSHINA KANNADA",
          "DAMAN & DIU",
          "DAMOH",
          "DARBHANGA",
          "DARJEELING",
          "DAUSA",
          "DAVANAGERE",
          "DEORIA",
          "DEWAS",
          "DHANBAD",
          "DHAR",
          "DHARMAPURI",
          "DHARWAD",
          "DHAURAHRA",
          "DHENKANAL",
          "DHUBRI",
          "DHULE",
          "DIAMOND HARBOUR",
          "DIBRUGARH",
          "DINDIGUL",
          "DINDORI",
          "DOMARIYAGANJ",
          "DUM DUM",
          "DUMKA",
          "DURG",
          "EAST DELHI",
          "ELURU",
          "ERNAKULAM",
          "ERODE",
          "ETAH",
          "ETAWAH",
          "FAIZABAD",
          "FARIDABAD",
          "FARIDKOT",
          "FARRUKHABAD",
          "FATEHGARH SAHIB",
          "FATEHPUR",
          "FATEHPUR SIKRI",
          "FIROZABAD",
          "FIROZPUR",
          "GADCHIROLI-CHIMUR",
          "GANDHINAGAR",
          "GANGANAGAR",
          "GARHWAL",
          "GAUHATI",
          "GAUTAM BUDDHA NAGAR",
          "GAYA (SC)",
          "GHATAL",
          "GHAZIABAD",
          "GHAZIPUR",
          "GHOSI",
          "GIRIDIH",
          "GODDA",
          "GONDA",
          "GOPALGANJ (SC)",
          "GORAKHPUR",
          "GULBARGA",
          "GUNA",
          "GUNTUR",
          "GURDASPUR",
          "GURGAON",
          "GWALIOR",
          "HAJIPUR (SC)",
          "HAMIRPUR",
          "HAMIRPUR",
          "HARDOI",
          "HARDWAR",
          "HASSAN",
          "HATHRAS",
          "HATKANANGLE",
          "HAVERI",
          "HAZARIBAGH",
          "HINDUPUR",
          "HINGOLI",
          "HISAR",
          "HOOGHLY",
          "HOSHANGABAD",
          "HOSHIARPUR",
          "HOWRAH",
          "HYDERABAD",
          "IDUKKI",
          "INDORE",
          "INNER MANIPUR",
          "JABALPUR",
          "JADAVPUR",
          "JAGATSINGHPUR",
          "JAHANABAD",
          "JAIPUR",
          "JAIPUR RURAL",
          "JAJPUR",
          "JALANDHAR",
          "JALAUN",
          "JALGAON",
          "JALNA",
          "JALORE",
          "JALPAIGURI",
          "JAMMU",
          "JAMNAGAR",
          "JAMSHEDPUR",
          "JAMUI (SC)",
          "JANGIPUR",
          "JANJGIR-CHAMPA",
          "JAUNPUR",
          "JAYNAGAR",
          "JHALAWAR-BARAN",
          "JHANJHARPUR",
          "JHANSI",
          "JHARGRAM",
          "JHUNJHUNU",
          "JODHPUR",
          "JORHAT",
          "JUNAGADH",
          "KACHCHH",
          "KADAPA",
          "KAIRANA",
          "KAISERGANJ",
          "KAKINADA",
          "KALAHANDI",
          "KALIABOR",
          "KALLAKURICHI",
          "KALYAN",
          "KANCHEEPURAM",
          "KANDHAMAL",
          "KANGRA",
          "KANKER",
          "KANNAUJ",
          "KANNIYAKUMARI",
          "KANNUR",
          "KANPUR",
          "KANTHI",
          "KARAKAT",
          "KARAULI-DHOLPUR",
          "KARIMGANJ",
          "KARIMNAGAR",
          "KARNAL",
          "KARUR",
          "KASARAGOD",
          "KATIHAR",
          "KAUSHAMBI",
          "KENDRAPARA",
          "KEONJHAR",
          "KHADOOR SAHIB",
          "KHAGARIA",
          "KHAJURAHO",
          "KHAMMAM",
          "KHANDWA",
          "KHARGONE",
          "KHEDA",
          "KHERI",
          "KHUNTI",
          "KISHANGANJ",
          "KODARMA",
          "KOKRAJHAR",
          "KOLAR",
          "KOLHAPUR",
          "KOLKATA DAKSHIN",
          "KOLKATA UTTAR",
          "KOLLAM",
          "KOPPAL",
          "KORAPUT",
          "KORBA",
          "KOTA",
          "KOTTAYAM",
          "KOZHIKODE",
          "KRISHNAGIRI",
          "KRISHNANAGAR",
          "KURNOOL",
          "KURUKSHETRA",
          "KUSHI NAGAR",
          "LADAKH",
          "LAKHIMPUR",
          "LAKSHADWEEP",
          "LALGANJ",
          "LATUR",
          "LOHARDAGA",
          "LUCKNOW",
          "LUDHIANA",
          "MACHHLISHAHR",
          "MACHILIPATNAM",
          "MADHA",
          "MADHEPURA",
          "MADHUBANI",
          "MADURAI",
          "MAHABUBABAD",
          "MAHARAJGANJ",
          "MAHARAJGANJ",
          "MAHASAMUND",
          "MAHBUBNAGAR",
          "MAHESANA",
          "MAINPURI",
          "MALAPPURAM",
          "MALDAHA DAKSHIN",
          "MALDAHA UTTAR",
          "MALKAJGIRI",
          "MANDI",
          "MANDLA",
          "MANDSOUR",
          "MANDYA",
          "MANGALDOI",
          "MATHURA",
          "MATHURAPUR",
          "MAVAL",
          "MAVELIKKARA",
          "MAYILADUTHURAI",
          "MAYURBHANJ",
          "MEDAK",
          "MEDINIPUR",
          "MEERUT",
          "MIRZAPUR",
          "MISRIKH",
          "MIZORAM",
          "MOHANLALGANJ",
          "MORADABAD",
          "MORENA",
          "MUMBAI NORTH",
          "MUMBAI NORTH CENTRAL",
          "MUMBAI NORTH EAST",
          "MUMBAI NORTH WEST",
          "MUMBAI SOUTH",
          "MUMBAI SOUTH CENTRAL",
          "MUNGER",
          "MURSHIDABAD",
          "MUZAFFARNAGAR",
          "MUZAFFARPUR",
          "MYSORE",
          "NABARANGPUR",
          "NAGALAND",
          "NAGAPATTINAM",
          "NAGARKURNOOL",
          "NAGAUR",
          "NAGINA",
          "NAGPUR",
          "NAINITAL-UDHAMSINGH NAGAR",
          "NALANDA",
          "NALGONDA",
          "NAMAKKAL",
          "NANDED",
          "NANDURBAR",
          "NANDYAL",
          "NARASARAOPET",
          "NARSAPURAM",
          "NASHIK",
          "NAVSARI",
          "NAWADA",
          "NELLORE",
          "NEW DELHI",
          "NILGIRIS",
          "NIZAMABAD",
          "NORTH EAST DELHI",
          "NORTH GOA",
          "NORTH WEST DELHI",
          "NOWGONG",
          "ONGOLE",
          "OSMANABAD",
          "OUTER MANIPUR",
          "PALAKKAD",
          "PALAMAU",
          "PALGHAR",
          "PALI",
          "PANCHMAHAL",
          "PARBHANI",
          "PASCHIM CHAMPARAN",
          "PATALIPUTRA",
          "PATAN",
          "PATHANAMTHITTA",
          "PATIALA",
          "PATNA SAHIB",
          "PEDDAPALLE",
          "PERAMBALUR",
          "PHULPUR",
          "PILIBHIT",
          "POLLACHI",
          "PONNANI",
          "PORBANDAR",
          "PRATAPGARH",
          "PUDUCHERRY",
          "PUNE",
          "PURI",
          "PURNIA",
          "PURULIA",
          "PURVI CHAMPARAN",
          "RAE BARELI",
          "RAICHUR",
          "RAIGAD",
          "RAIGANJ",
          "RAIGARH",
          "RAIPUR",
          "RAJAHMUNDRY",
          "RAJAMPET",
          "RAJGARH",
          "RAJKOT",
          "RAJMAHAL",
          "RAJNANDGAON",
          "RAJSAMAND",
          "RAMANATHAPURAM",
          "RAMPUR",
          "RAMTEK",
          "RANAGHAT",
          "RANCHI",
          "RATLAM",
          "RATNAGIRI - SINDHUDURG",
          "RAVER",
          "REWA",
          "ROBERTSGANJ",
          "ROHTAK",
          "SABARKANTHA",
          "SAGAR",
          "SAHARANPUR",
          "SALEM",
          "SALEMPUR",
          "SAMASTIPUR (SC)",
          "SAMBALPUR",
          "SAMBHAL",
          "SANGLI",
          "SANGRUR",
          "SANT KABIR NAGAR",
          "SARAN",
          "SARGUJA",
          "SASARAM (SC)",
          "SATARA",
          "SATNA",
          "SECUNDRABAD",
          "SHAHDOL",
          "SHAHJAHANPUR",
          "SHEOHAR",
          "SHILLONG",
          "SHIMLA",
          "SHIMOGA",
          "SHIRDI",
          "SHIRUR",
          "SHRAWASTI",
          "SIDHI",
          "SIKAR",
          "SIKKIM",
          "SILCHAR",
          "SINGHBHUM",
          "SIRSA",
          "SITAMARHI",
          "SITAPUR",
          "SIVAGANGA",
          "SIWAN",
          "SOLAPUR",
          "SONIPAT",
          "SOUTH DELHI",
          "SOUTH GOA",
          "SRERAMPUR",
          "SRIKAKULAM",
          "SRINAGAR",
          "SRIPERUMBUDUR",
          "SULTANPUR",
          "SUNDARGARH",
          "SUPAUL",
          "SURAT",
          "SURENDRANAGAR",
          "TAMLUK",
          "TEHRI GARHWAL",
          "TENKASI",
          "TEZPUR",
          "THANE",
          "THANJAVUR",
          "THENI",
          "THIRUVALLUR",
          "THIRUVANANTHAPURAM",
          "THOOTHUKKUDI",
          "THRISSUR",
          "TIKAMGARH",
          "TIRUCHIRAPPALLI",
          "TIRUNELVELI",
          "TIRUPATI",
          "TIRUPPUR",
          "TIRUVANNAMALAI",
          "TONK-SAWAI MADHOPUR",
          "TRIPURA EAST",
          "TRIPURA WEST",
          "TUMKUR",
          "TURA",
          "UDAIPUR",
          "UDHAMPUR",
          "UDUPI CHIKMAGALUR",
          "UJIARPUR",
          "UJJAIN",
          "ULUBERIA",
          "UNNAO",
          "UTTARA KANNADA",
          "VADAKARA",
          "VADODARA",
          "VAISHALI",
          "VALMIKI NAGAR",
          "VALSAD",
          "VARANASI",
          "VIDISHA",
          "VIJAYAWADA",
          "VILUPPURAM",
          "VIRUDHUNAGAR",
          "VISAKHAPATNAM",
          "VIZIANAGARAM",
          "WARANGAL",
          "WARDHA",
          "WAYANAD",
          "WEST DELHI",
          "YAVATMAL-WASHIM",
          "ZAHIRABAD",
          "Andaman & Nicobar Islands",
          "Andhra Pradesh",
          "Arunachal Pradesh",
          "Assam",
          "Bihar",
          "Chandigarh",
          "Chhattisgarh",
          "Dadra & Nagar Haveli",
          "Daman & Diu",
          "Goa",
          "Gujarat",
          "Haryana",
          "Himachal Pradesh",
          "Jammu & Kashmir",
          "Jharkhand",
          "Karnataka",
          "Kerala",
          "Lakshadweep",
          "Madhya Pradesh",
          "Maharashtra",
          "Manipur",
          "Meghalaya",
          "Mizoram",
          "NCT OF Delhi",
          "Nagaland",
          "Odisha",
          "Puducherry",
          "Punjab",
          "Rajasthan",
          "Sikkim",
          "Tamil Nadu",
          "Telangana",
          "Tripura",
          "Uttar Pradesh",
          "Uttarakhand",
          "West Bengal"
         ],
         "marker": {
          "coloraxis": "coloraxis",
          "colors": [
           1489790,
           1937690,
           1861396,
           1811851,
           1643317,
           1876346,
           1766121,
           1865169,
           1356701,
           1266794,
           1887127,
           1648383,
           1716160,
           1337808,
           1888524,
           1459556,
           1853711,
           1785657,
           1743515,
           1833091,
           1628451,
           1507875,
           1646435,
           1521363,
           1655870,
           1698876,
           1664160,
           1397779,
           318471,
           1785605,
           1500016,
           1764726,
           1449150,
           1805439,
           2089353,
           1451418,
           339788,
           463775,
           1615865,
           1541145,
           1350710,
           1742883,
           1886284,
           795945,
           1789168,
           1891576,
           1704010,
           1616476,
           1638378,
           1729908,
           1767725,
           1531781,
           1822625,
           1431704,
           1697384,
           1702024,
           2204817,
           2849250,
           2497458,
           2215489,
           1704632,
           1699394,
           1648906,
           1751258,
           1975368,
           1468671,
           1816830,
           2114663,
           1317738,
           1718252,
           1733578,
           1698089,
           1826526,
           1797655,
           1596290,
           1941231,
           1685149,
           1436431,
           1678357,
           1379122,
           1845223,
           1621671,
           2045405,
           1958382,
           1779350,
           1751734,
           1502455,
           1737437,
           1942514,
           1661661,
           1823820,
           1811556,
           1943794,
           1564519,
           1768297,
           1997328,
           1765334,
           1890100,
           1654317,
           1628033,
           2142861,
           1699678,
           1775095,
           1797587,
           1664125,
           1851628,
           1876953,
           1699219,
           1627199,
           1744446,
           1705073,
           1787925,
           1762918,
           1829373,
           1230197,
           1686333,
           1756837,
           646729,
           1562283,
           1910188,
           1425218,
           1332300,
           1487681,
           1973533,
           2443112,
           1514783,
           1671253,
           1480222,
           1808780,
           1612556,
           1760633,
           1566499,
           2015911,
           2019104,
           1958904,
           1814200,
           1364038,
           1518996,
           250029,
           1598939,
           1724976,
           121740,
           1768777,
           1654811,
           1611317,
           1730289,
           1633064,
           1754195,
           1760503,
           2072634,
           1786151,
           1485804,
           1727311,
           1644674,
           1504403,
           1858566,
           1908173,
           1719190,
           1314319,
           1541881,
           1732936,
           1885433,
           1566196,
           1397253,
           1940269,
           2039302,
           1594950,
           1245972,
           1462246,
           1621295,
           1757984,
           1821785,
           2071816,
           1541971,
           1708585,
           1502861,
           1839312,
           1718837,
           1790510,
           1618419,
           1581366,
           1945772,
           1943486,
           1355796,
           2181319,
           2302960,
           1704596,
           1800002,
           2728978,
           1881077,
           1991651,
           1649413,
           1716766,
           1770248,
           1839514,
           1981197,
           1945765,
           1675724,
           1706119,
           1595284,
           2150728,
           2000744,
           1823664,
           1362269,
           1749100,
           1807119,
           1840738,
           1652999,
           1864320,
           1776555,
           1708510,
           1667465,
           1578218,
           1733729,
           1631817,
           1766601,
           1706141,
           1597500,
           1633925,
           1957931,
           1204191,
           2350580,
           937464,
           1819893,
           1816857,
           1643595,
           1588454,
           2127021,
           1952542,
           1475007,
           1617018,
           1933358,
           1931400,
           1867220,
           2071244,
           1735464,
           2047302,
           1657166,
           1703279,
           1718814,
           1616213,
           1897134,
           1867976,
           1648355,
           1903870,
           1852417,
           2040739,
           1641868,
           1937882,
           1956755,
           1365035,
           1642864,
           1744321,
           1570330,
           1666703,
           1805946,
           1563930,
           1611056,
           1734938,
           1528938,
           1965676,
           1643992,
           1288666,
           1427338,
           1558952,
           1874824,
           1501250,
           1266550,
           1632983,
           1660147,
           1771254,
           1810574,
           1340173,
           1651543,
           1904193,
           1387286,
           1363937,
           1653353,
           1787120,
           1710916,
           1516688,
           1638842,
           1676454,
           1842095,
           1513809,
           1909055,
           1834385,
           1804028,
           1770699,
           1202664,
           1659651,
           1814125,
           1776358,
           1629961,
           1880496,
           1728851,
           1444082,
           1296720,
           1736693,
           1434384,
           1508840,
           1948010,
           1206698,
           1318024,
           1530404,
           1631698,
           1573009,
           1657335,
           1761564,
           179232,
           1708013,
           55189,
           1751980,
           1886657,
           1234286,
           2040367,
           1683325,
           1848306,
           1473347,
           1909574,
           1884883,
           1792798,
           1539026,
           1424385,
           1807768,
           1915408,
           1637951,
           1506102,
           1648869,
           1723236,
           1370544,
           1575590,
           1685955,
           3150313,
           1281462,
           1951267,
           1760875,
           1712004,
           1800237,
           1807893,
           1652096,
           2298080,
           1308102,
           1484842,
           1493205,
           1603318,
           1674236,
           1892931,
           1845150,
           1796932,
           792464,
           2023431,
           1958939,
           1837723,
           1647350,
           1679891,
           1588693,
           1732263,
           1554176,
           1440380,
           1888025,
           1725187,
           1698003,
           1730553,
           1896333,
           1461004,
           1213777,
           1303649,
           1588111,
           1933169,
           1586117,
           2161096,
           1828433,
           2114809,
           1585980,
           1413599,
           1719322,
           1871099,
           1603220,
           1670391,
           1439691,
           1885064,
           1971658,
           1899747,
           1672845,
           1617470,
           1366060,
           1553385,
           2290492,
           556761,
           2378995,
           1794648,
           1556469,
           1889740,
           1022099,
           1323010,
           1881441,
           1885600,
           2161663,
           1744762,
           1985228,
           1633824,
           1925479,
           1807043,
           1382741,
           1739600,
           2146008,
           1479091,
           1391853,
           2010477,
           1761207,
           1520504,
           1356803,
           1662368,
           1708759,
           973410,
           2075824,
           1562331,
           1765312,
           1645884,
           1658672,
           1702248,
           1928204,
           1652965,
           1601220,
           1733805,
           2111738,
           1534256,
           1546938,
           1694329,
           1884339,
           1454436,
           1716459,
           1912911,
           1559740,
           1679506,
           1922764,
           1762252,
           1915959,
           1851112,
           1455577,
           1775051,
           1679534,
           1723538,
           1737133,
           1801717,
           1583129,
           1739082,
           1612512,
           1667282,
           1679030,
           1468530,
           1828764,
           1809109,
           1529431,
           1962903,
           1667253,
           1655239,
           1787878,
           1848489,
           1575064,
           1968276,
           1656474,
           2114201,
           1686215,
           1197806,
           1259085,
           1676668,
           1587079,
           2175529,
           1914739,
           1845547,
           2041612,
           434128,
           1195720,
           1269917,
           1803349,
           1752454,
           1666126,
           1552019,
           1799551,
           1851654,
           1592611,
           2067463,
           579352,
           1785472,
           1553860,
           1294671,
           2253448,
           1775196,
           1531525,
           1690620,
           1655704,
           1849429,
           1694646,
           1493543,
           1492317,
           1499639,
           2370903,
           1461052,
           1561040,
           1946870,
           1371427,
           1427783,
           1337110,
           1647399,
           1508963,
           1547800,
           1650453,
           1530014,
           1473862,
           1945992,
           1261861,
           1352857,
           1608545,
           716990,
           2069559,
           1685816,
           1513806,
           1612300,
           1661229,
           1614988,
           2191465,
           1556599,
           1288926,
           1794896,
           1735983,
           1665502,
           1671030,
           1856791,
           1741604,
           1652994,
           1444335,
           1484256,
           1829300,
           1503980,
           1666770,
           1743283,
           1359679,
           2371644,
           1916185,
           1498666,
           318471,
           1582400.9717934993,
           411346.8832798424,
           1644353.1150737212,
           1772123.4583131715,
           646729,
           1698986.6878278088,
           250029,
           121740,
           568281.104982515,
           1731423.3247479957,
           1805054.9374463586,
           1330051.2265762947,
           1479420.1213534693,
           1592357.041634522,
           1864447.0147089066,
           1313543.2125966665,
           55189,
           1792314.1201794483,
           1854902.7101187361,
           981609.2246572323,
           1017765.7952784527,
           792464,
           2100878.067652333,
           1213777,
           1550561.8931075688,
           973410,
           1608761.8167242955,
           1959342.8479804182,
           434128,
           1567181.864860669,
           1815183.074099372,
           1308942.396759421,
           1843504.556146671,
           1617600.669871884,
           1670124.3478314995
          ]
         },
         "name": "",
         "parents": [
          "Telangana",
          "Uttar Pradesh",
          "Maharashtra",
          "Gujarat",
          "Gujarat",
          "Rajasthan",
          "Uttar Pradesh",
          "Maharashtra",
          "Kerala",
          "Kerala",
          "Uttar Pradesh",
          "West Bengal",
          "Uttar Pradesh",
          "Uttarakhand",
          "Rajasthan",
          "Andhra Pradesh",
          "Haryana",
          "Uttar Pradesh",
          "Uttar Pradesh",
          "Maharashtra",
          "Gujarat",
          "Punjab",
          "Uttar Pradesh",
          "Andhra Pradesh",
          "Gujarat",
          "Punjab",
          "Andhra Pradesh",
          "Jammu & Kashmir",
          "Andaman & Nicobar Islands",
          "Uttar Pradesh",
          "Tamil Nadu",
          "West Bengal",
          "Tamil Nadu",
          "Bihar",
          "Bihar",
          "Andhra Pradesh",
          "Arunachal Pradesh",
          "Arunachal Pradesh",
          "West Bengal",
          "Odisha",
          "Kerala",
          "Bihar",
          "Maharashtra",
          "Assam",
          "Uttar Pradesh",
          "Uttar Pradesh",
          "Karnataka",
          "Uttar Pradesh",
          "West Bengal",
          "Uttar Pradesh",
          "Madhya Pradesh",
          "Odisha",
          "Uttar Pradesh",
          "West Bengal",
          "Gujarat",
          "Uttar Pradesh",
          "Karnataka",
          "Karnataka",
          "Karnataka",
          "Karnataka",
          "West Bengal",
          "Bihar",
          "West Bengal",
          "Uttar Pradesh",
          "Rajasthan",
          "Andhra Pradesh",
          "Uttar Pradesh",
          "Maharashtra",
          "Jammu & Kashmir",
          "West Bengal",
          "West Bengal",
          "West Bengal",
          "Gujarat",
          "Uttar Pradesh",
          "Odisha",
          "Rajasthan",
          "Assam",
          "West Bengal",
          "West Bengal",
          "Chhattisgarh",
          "Uttar Pradesh",
          "Punjab",
          "Maharashtra",
          "Bihar",
          "Karnataka",
          "Karnataka",
          "Odisha",
          "Madhya Pradesh",
          "Uttar Pradesh",
          "Odisha",
          "Bihar",
          "Maharashtra",
          "Rajasthan",
          "Gujarat",
          "Gujarat",
          "Rajasthan",
          "Madhya Pradesh",
          "Maharashtra",
          "Haryana",
          "Telangana",
          "Madhya Pradesh",
          "Odisha",
          "Karnataka",
          "Karnataka",
          "Uttar Pradesh",
          "Rajasthan",
          "Chhattisgarh",
          "West Bengal",
          "West Bengal",
          "Odisha",
          "West Bengal",
          "Uttar Pradesh",
          "Maharashtra",
          "Bihar",
          "Kerala",
          "Karnataka",
          "Uttar Pradesh",
          "Chandigarh",
          "NCT OF Delhi",
          "Maharashtra",
          "Jharkhand",
          "Tamil Nadu",
          "Tamil Nadu",
          "Tamil Nadu",
          "Telangana",
          "Madhya Pradesh",
          "Gujarat",
          "Tamil Nadu",
          "Karnataka",
          "Karnataka",
          "Karnataka",
          "Andhra Pradesh",
          "Rajasthan",
          "Rajasthan",
          "Tamil Nadu",
          "West Bengal",
          "Tamil Nadu",
          "Odisha",
          "Dadra & Nagar Haveli",
          "Gujarat",
          "Karnataka",
          "Daman & Diu",
          "Madhya Pradesh",
          "Bihar",
          "West Bengal",
          "Rajasthan",
          "Karnataka",
          "Uttar Pradesh",
          "Madhya Pradesh",
          "Jharkhand",
          "Madhya Pradesh",
          "Tamil Nadu",
          "Karnataka",
          "Uttar Pradesh",
          "Odisha",
          "Assam",
          "Maharashtra",
          "West Bengal",
          "Assam",
          "Tamil Nadu",
          "Maharashtra",
          "Uttar Pradesh",
          "West Bengal",
          "Jharkhand",
          "Chhattisgarh",
          "NCT OF Delhi",
          "Andhra Pradesh",
          "Kerala",
          "Tamil Nadu",
          "Uttar Pradesh",
          "Uttar Pradesh",
          "Uttar Pradesh",
          "Haryana",
          "Punjab",
          "Uttar Pradesh",
          "Punjab",
          "Uttar Pradesh",
          "Uttar Pradesh",
          "Uttar Pradesh",
          "Punjab",
          "Maharashtra",
          "Gujarat",
          "Rajasthan",
          "Uttarakhand",
          "Assam",
          "Uttar Pradesh",
          "Bihar",
          "West Bengal",
          "Uttar Pradesh",
          "Uttar Pradesh",
          "Uttar Pradesh",
          "Jharkhand",
          "Jharkhand",
          "Uttar Pradesh",
          "Bihar",
          "Uttar Pradesh",
          "Karnataka",
          "Madhya Pradesh",
          "Andhra Pradesh",
          "Punjab",
          "Haryana",
          "Madhya Pradesh",
          "Bihar",
          "Himachal Pradesh",
          "Uttar Pradesh",
          "Uttar Pradesh",
          "Uttarakhand",
          "Karnataka",
          "Uttar Pradesh",
          "Maharashtra",
          "Karnataka",
          "Jharkhand",
          "Andhra Pradesh",
          "Maharashtra",
          "Haryana",
          "West Bengal",
          "Madhya Pradesh",
          "Punjab",
          "West Bengal",
          "Telangana",
          "Kerala",
          "Madhya Pradesh",
          "Manipur",
          "Madhya Pradesh",
          "West Bengal",
          "Odisha",
          "Bihar",
          "Rajasthan",
          "Rajasthan",
          "Odisha",
          "Punjab",
          "Uttar Pradesh",
          "Maharashtra",
          "Maharashtra",
          "Rajasthan",
          "West Bengal",
          "Jammu & Kashmir",
          "Gujarat",
          "Jharkhand",
          "Bihar",
          "West Bengal",
          "Chhattisgarh",
          "Uttar Pradesh",
          "West Bengal",
          "Rajasthan",
          "Bihar",
          "Uttar Pradesh",
          "West Bengal",
          "Rajasthan",
          "Rajasthan",
          "Assam",
          "Gujarat",
          "Gujarat",
          "Andhra Pradesh",
          "Uttar Pradesh",
          "Uttar Pradesh",
          "Andhra Pradesh",
          "Odisha",
          "Assam",
          "Tamil Nadu",
          "Maharashtra",
          "Tamil Nadu",
          "Odisha",
          "Himachal Pradesh",
          "Chhattisgarh",
          "Uttar Pradesh",
          "Tamil Nadu",
          "Kerala",
          "Uttar Pradesh",
          "West Bengal",
          "Bihar",
          "Rajasthan",
          "Assam",
          "Telangana",
          "Haryana",
          "Tamil Nadu",
          "Kerala",
          "Bihar",
          "Uttar Pradesh",
          "Odisha",
          "Odisha",
          "Punjab",
          "Bihar",
          "Madhya Pradesh",
          "Telangana",
          "Madhya Pradesh",
          "Madhya Pradesh",
          "Gujarat",
          "Uttar Pradesh",
          "Jharkhand",
          "Bihar",
          "Jharkhand",
          "Assam",
          "Karnataka",
          "Maharashtra",
          "West Bengal",
          "West Bengal",
          "Kerala",
          "Karnataka",
          "Odisha",
          "Chhattisgarh",
          "Rajasthan",
          "Kerala",
          "Kerala",
          "Tamil Nadu",
          "West Bengal",
          "Andhra Pradesh",
          "Haryana",
          "Uttar Pradesh",
          "Jammu & Kashmir",
          "Assam",
          "Lakshadweep",
          "Uttar Pradesh",
          "Maharashtra",
          "Jharkhand",
          "Uttar Pradesh",
          "Punjab",
          "Uttar Pradesh",
          "Andhra Pradesh",
          "Maharashtra",
          "Bihar",
          "Bihar",
          "Tamil Nadu",
          "Telangana",
          "Bihar",
          "Uttar Pradesh",
          "Chhattisgarh",
          "Telangana",
          "Gujarat",
          "Uttar Pradesh",
          "Kerala",
          "West Bengal",
          "West Bengal",
          "Telangana",
          "Himachal Pradesh",
          "Madhya Pradesh",
          "Madhya Pradesh",
          "Karnataka",
          "Assam",
          "Uttar Pradesh",
          "West Bengal",
          "Maharashtra",
          "Kerala",
          "Tamil Nadu",
          "Odisha",
          "Telangana",
          "West Bengal",
          "Uttar Pradesh",
          "Uttar Pradesh",
          "Uttar Pradesh",
          "Mizoram",
          "Uttar Pradesh",
          "Uttar Pradesh",
          "Madhya Pradesh",
          "Maharashtra",
          "Maharashtra",
          "Maharashtra",
          "Maharashtra",
          "Maharashtra",
          "Maharashtra",
          "Bihar",
          "West Bengal",
          "Uttar Pradesh",
          "Bihar",
          "Karnataka",
          "Odisha",
          "Nagaland",
          "Tamil Nadu",
          "Telangana",
          "Rajasthan",
          "Uttar Pradesh",
          "Maharashtra",
          "Uttarakhand",
          "Bihar",
          "Telangana",
          "Tamil Nadu",
          "Maharashtra",
          "Maharashtra",
          "Andhra Pradesh",
          "Andhra Pradesh",
          "Andhra Pradesh",
          "Maharashtra",
          "Gujarat",
          "Bihar",
          "Andhra Pradesh",
          "NCT OF Delhi",
          "Tamil Nadu",
          "Telangana",
          "NCT OF Delhi",
          "Goa",
          "NCT OF Delhi",
          "Assam",
          "Andhra Pradesh",
          "Maharashtra",
          "Manipur",
          "Kerala",
          "Jharkhand",
          "Maharashtra",
          "Rajasthan",
          "Gujarat",
          "Maharashtra",
          "Bihar",
          "Bihar",
          "Gujarat",
          "Kerala",
          "Punjab",
          "Bihar",
          "Telangana",
          "Tamil Nadu",
          "Uttar Pradesh",
          "Uttar Pradesh",
          "Tamil Nadu",
          "Kerala",
          "Gujarat",
          "Uttar Pradesh",
          "Puducherry",
          "Maharashtra",
          "Odisha",
          "Bihar",
          "West Bengal",
          "Bihar",
          "Uttar Pradesh",
          "Karnataka",
          "Maharashtra",
          "West Bengal",
          "Chhattisgarh",
          "Chhattisgarh",
          "Andhra Pradesh",
          "Andhra Pradesh",
          "Madhya Pradesh",
          "Gujarat",
          "Jharkhand",
          "Chhattisgarh",
          "Rajasthan",
          "Tamil Nadu",
          "Uttar Pradesh",
          "Maharashtra",
          "West Bengal",
          "Jharkhand",
          "Madhya Pradesh",
          "Maharashtra",
          "Maharashtra",
          "Madhya Pradesh",
          "Uttar Pradesh",
          "Haryana",
          "Gujarat",
          "Madhya Pradesh",
          "Uttar Pradesh",
          "Tamil Nadu",
          "Uttar Pradesh",
          "Bihar",
          "Odisha",
          "Uttar Pradesh",
          "Maharashtra",
          "Punjab",
          "Uttar Pradesh",
          "Bihar",
          "Chhattisgarh",
          "Bihar",
          "Maharashtra",
          "Madhya Pradesh",
          "Telangana",
          "Madhya Pradesh",
          "Uttar Pradesh",
          "Bihar",
          "Meghalaya",
          "Himachal Pradesh",
          "Karnataka",
          "Maharashtra",
          "Maharashtra",
          "Uttar Pradesh",
          "Madhya Pradesh",
          "Rajasthan",
          "Sikkim",
          "Assam",
          "Jharkhand",
          "Haryana",
          "Bihar",
          "Uttar Pradesh",
          "Tamil Nadu",
          "Bihar",
          "Maharashtra",
          "Haryana",
          "NCT OF Delhi",
          "Goa",
          "West Bengal",
          "Andhra Pradesh",
          "Jammu & Kashmir",
          "Tamil Nadu",
          "Uttar Pradesh",
          "Odisha",
          "Bihar",
          "Gujarat",
          "Gujarat",
          "West Bengal",
          "Uttarakhand",
          "Tamil Nadu",
          "Assam",
          "Maharashtra",
          "Tamil Nadu",
          "Tamil Nadu",
          "Tamil Nadu",
          "Kerala",
          "Tamil Nadu",
          "Kerala",
          "Madhya Pradesh",
          "Tamil Nadu",
          "Tamil Nadu",
          "Andhra Pradesh",
          "Tamil Nadu",
          "Tamil Nadu",
          "Rajasthan",
          "Tripura",
          "Tripura",
          "Karnataka",
          "Meghalaya",
          "Rajasthan",
          "Jammu & Kashmir",
          "Karnataka",
          "Bihar",
          "Madhya Pradesh",
          "West Bengal",
          "Uttar Pradesh",
          "Karnataka",
          "Kerala",
          "Gujarat",
          "Bihar",
          "Bihar",
          "Gujarat",
          "Uttar Pradesh",
          "Madhya Pradesh",
          "Andhra Pradesh",
          "Tamil Nadu",
          "Tamil Nadu",
          "Andhra Pradesh",
          "Andhra Pradesh",
          "Telangana",
          "Maharashtra",
          "Kerala",
          "NCT OF Delhi",
          "Maharashtra",
          "Telangana",
          "",
          "",
          "",
          "",
          "",
          "",
          "",
          "",
          "",
          "",
          "",
          "",
          "",
          "",
          "",
          "",
          "",
          "",
          "",
          "",
          "",
          "",
          "",
          "",
          "",
          "",
          "",
          "",
          "",
          "",
          "",
          "",
          "",
          "",
          "",
          ""
         ],
         "type": "sunburst",
         "values": [
          4469370,
          5813070,
          5584188,
          3623702,
          4929951,
          7505384,
          5298363,
          5595507,
          4070103,
          3800382,
          5661381,
          6593532,
          6864640,
          4013424,
          5665572,
          4378668,
          7414844,
          5356971,
          3487030,
          7332364,
          4885353,
          6031500,
          4939305,
          6085452,
          3311740,
          6795504,
          6656640,
          8386674,
          1592355,
          5356815,
          7500080,
          7058904,
          7245750,
          3610878,
          8357412,
          10159926,
          1698940,
          2318875,
          8079325,
          4623435,
          4052130,
          15685947,
          7545136,
          3979725,
          3578336,
          5674728,
          3408020,
          3232952,
          8191890,
          5189724,
          7070900,
          4595343,
          5467875,
          5726816,
          8486920,
          6808096,
          6614451,
          5698500,
          7492374,
          4430978,
          6818528,
          11895758,
          6595624,
          3502516,
          9876840,
          5874684,
          5450490,
          6343989,
          9224166,
          6873008,
          6934312,
          6792356,
          3653052,
          5392965,
          4788870,
          5823693,
          6740596,
          5745724,
          6713428,
          9653854,
          7380892,
          6486684,
          8181620,
          7833528,
          3558700,
          3503468,
          4507365,
          5212311,
          5827542,
          4984983,
          3647640,
          9057780,
          5831382,
          6258076,
          3536594,
          7989312,
          5296002,
          7560400,
          6617268,
          8140165,
          4285722,
          5099034,
          5325285,
          7190348,
          4992375,
          5554884,
          5630859,
          8496095,
          6508796,
          6977784,
          8525365,
          5363775,
          5288754,
          7317492,
          3690591,
          5058999,
          7027348,
          2586916,
          4686849,
          5730564,
          11401744,
          6661500,
          7438405,
          9867665,
          7329336,
          6059132,
          5013759,
          5920888,
          7235120,
          4837668,
          3521266,
          6265996,
          4031822,
          8076416,
          9794520,
          7256800,
          6820190,
          4556988,
          1500174,
          6395756,
          5174928,
          365220,
          5306331,
          6619244,
          8056585,
          5190867,
          3266128,
          1754195,
          5281509,
          4145268,
          5358453,
          7429020,
          3454622,
          4934022,
          4513209,
          5575698,
          5724519,
          6876760,
          2628638,
          4625643,
          6931744,
          5656299,
          6264784,
          8383518,
          5820807,
          8157208,
          4784850,
          3737916,
          7311230,
          3242590,
          5273952,
          5465355,
          6215448,
          6167884,
          5125755,
          6011444,
          5517936,
          5156511,
          5371530,
          6473676,
          7906830,
          3891544,
          5830458,
          2711592,
          6543957,
          6908880,
          18750556,
          7200008,
          8186934,
          7524308,
          9958255,
          3298826,
          8583830,
          5310744,
          11037084,
          5943591,
          3891530,
          5027172,
          6824476,
          6381136,
          6452184,
          6002232,
          10941984,
          2724538,
          6996400,
          5421357,
          5522214,
          4958997,
          5592960,
          5329665,
          3417020,
          8337325,
          6312872,
          6934916,
          6527268,
          7066404,
          5118423,
          6390000,
          6535700,
          7831724,
          3612573,
          4701160,
          4687320,
          5459679,
          5450571,
          4930785,
          11119178,
          4254042,
          3905084,
          4425021,
          6468072,
          7733432,
          5794200,
          5601660,
          4142488,
          6941856,
          4094604,
          3314332,
          3406558,
          8594070,
          8081065,
          5691402,
          5603928,
          8241775,
          3807740,
          11114502,
          6122217,
          6567472,
          3875764,
          3913510,
          4095105,
          4928592,
          3488642,
          3140660,
          5000109,
          3611892,
          4691790,
          8055280,
          5204814,
          6115752,
          7862704,
          6575968,
          3865998,
          2854676,
          3117904,
          3749648,
          6005000,
          3799650,
          4898949,
          6640588,
          10627524,
          5431722,
          4020519,
          6606172,
          9520965,
          6936430,
          4091811,
          3306706,
          7148480,
          5132748,
          4550064,
          6555368,
          11735178,
          5526285,
          9082854,
          5727165,
          7337540,
          3608056,
          7082796,
          4810656,
          6638604,
          7256500,
          8881790,
          3259922,
          5641488,
          6915404,
          5776328,
          3890160,
          3473386,
          10040688,
          7544200,
          3896020,
          3620094,
          3954072,
          6121616,
          6526792,
          7865045,
          8286675,
          5284692,
          716928,
          5124039,
          165567,
          7007920,
          5659971,
          7405716,
          6121101,
          6733300,
          5544918,
          4420041,
          7638296,
          7539532,
          8963990,
          7695130,
          9970695,
          9038840,
          5746224,
          4913853,
          4518306,
          3297738,
          3446472,
          5482176,
          4726770,
          6743820,
          12601252,
          3844386,
          9756335,
          3521750,
          5136012,
          5400711,
          5423679,
          6608384,
          6894240,
          3924306,
          7424210,
          5972820,
          9619908,
          6696944,
          5678793,
          7380600,
          5390796,
          3962320,
          6070293,
          5876817,
          5513169,
          4942050,
          5039673,
          4766079,
          5196789,
          4662528,
          5761520,
          13216175,
          6900748,
          3396006,
          6922212,
          5688999,
          5844016,
          3641331,
          6518245,
          7940555,
          5799507,
          4758351,
          8644384,
          5485299,
          12688854,
          6343920,
          7067995,
          5157966,
          7484396,
          6412880,
          6681564,
          7198455,
          7540256,
          3943316,
          7598988,
          5018535,
          4852410,
          5464240,
          4660155,
          9161968,
          1670283,
          7136985,
          3589296,
          4669407,
          5669220,
          5110495,
          3969030,
          13170087,
          9428000,
          4323326,
          3489524,
          7940912,
          6535296,
          5776437,
          3614086,
          4148223,
          6958400,
          4292016,
          7395455,
          5567412,
          6031431,
          3522414,
          7602520,
          5427212,
          4987104,
          6835036,
          2920230,
          6227472,
          4686993,
          8826560,
          6583536,
          8293360,
          3404496,
          5784612,
          6611860,
          6404880,
          5201415,
          4223476,
          6137024,
          6187752,
          3388658,
          5653017,
          7272180,
          5149377,
          7651644,
          7798700,
          5038518,
          7691056,
          7049008,
          5747877,
          5553336,
          8733462,
          5325153,
          6718136,
          10341228,
          6948532,
          5405151,
          4749387,
          5217246,
          8062560,
          6669128,
          11753210,
          4405590,
          5486292,
          5427327,
          7647155,
          5888709,
          6669012,
          6620956,
          7151512,
          5545467,
          4725192,
          7873104,
          8282370,
          6342603,
          13489720,
          3593418,
          2518170,
          3353336,
          9522474,
          6526587,
          7658956,
          9227735,
          6124836,
          1736512,
          2391440,
          7619502,
          9016745,
          10514724,
          4998378,
          7760095,
          8997755,
          5554962,
          6370444,
          8269852,
          1738056,
          7141888,
          6215440,
          5178684,
          11267240,
          7100784,
          6126100,
          13524960,
          3311408,
          7397716,
          6778584,
          4480629,
          7461585,
          4498917,
          7112709,
          8766312,
          6244160,
          11681220,
          4114281,
          7138915,
          4011330,
          4942197,
          7544815,
          7739000,
          8252265,
          7650070,
          7369310,
          5837976,
          5047444,
          5411428,
          4825635,
          2150970,
          10347795,
          8429080,
          4541418,
          12898400,
          3322458,
          6459952,
          6574395,
          3113198,
          3866778,
          3589792,
          10415898,
          9993012,
          5013090,
          5570373,
          5224812,
          8264970,
          8666010,
          5937024,
          9146500,
          6015920,
          8333850,
          6973132,
          2719358,
          7114932,
          11497110,
          4495998,
          1592355,
          157661812,
          4017815,
          68675245,
          373933748,
          2586916,
          63568103,
          1500174,
          365220,
          3408339,
          119028011,
          73370373,
          11941770,
          36030136,
          100839587,
          131214920,
          79982176,
          165567,
          163695551,
          321123079,
          9797815,
          5744388,
          3962320,
          49380204,
          3641331,
          112683114,
          2920230,
          85100123,
          144688084,
          1736512,
          280796425,
          127212819,
          10458872,
          451766863,
          22213158,
          288147109
         ]
        }
       ],
       "layout": {
        "coloraxis": {
         "colorbar": {
          "title": {
           "text": "TOTAL ELECTORS"
          }
         },
         "colorscale": [
          [
           0,
           "rgb(236, 218, 154)"
          ],
          [
           0.16666666666666666,
           "rgb(239, 196, 126)"
          ],
          [
           0.3333333333333333,
           "rgb(243, 173, 106)"
          ],
          [
           0.5,
           "rgb(247, 148, 93)"
          ],
          [
           0.6666666666666666,
           "rgb(249, 123, 87)"
          ],
          [
           0.8333333333333334,
           "rgb(246, 99, 86)"
          ],
          [
           1,
           "rgb(238, 77, 90)"
          ]
         ]
        },
        "font": {
         "color": "#351f39",
         "family": "Courier New"
        },
        "legend": {
         "tracegroupgap": 0
        },
        "margin": {
         "t": 60
        },
        "template": {
         "data": {
          "bar": [
           {
            "error_x": {
             "color": "#2a3f5f"
            },
            "error_y": {
             "color": "#2a3f5f"
            },
            "marker": {
             "line": {
              "color": "#E5ECF6",
              "width": 0.5
             }
            },
            "type": "bar"
           }
          ],
          "barpolar": [
           {
            "marker": {
             "line": {
              "color": "#E5ECF6",
              "width": 0.5
             }
            },
            "type": "barpolar"
           }
          ],
          "carpet": [
           {
            "aaxis": {
             "endlinecolor": "#2a3f5f",
             "gridcolor": "white",
             "linecolor": "white",
             "minorgridcolor": "white",
             "startlinecolor": "#2a3f5f"
            },
            "baxis": {
             "endlinecolor": "#2a3f5f",
             "gridcolor": "white",
             "linecolor": "white",
             "minorgridcolor": "white",
             "startlinecolor": "#2a3f5f"
            },
            "type": "carpet"
           }
          ],
          "choropleth": [
           {
            "colorbar": {
             "outlinewidth": 0,
             "ticks": ""
            },
            "type": "choropleth"
           }
          ],
          "contour": [
           {
            "colorbar": {
             "outlinewidth": 0,
             "ticks": ""
            },
            "colorscale": [
             [
              0,
              "#0d0887"
             ],
             [
              0.1111111111111111,
              "#46039f"
             ],
             [
              0.2222222222222222,
              "#7201a8"
             ],
             [
              0.3333333333333333,
              "#9c179e"
             ],
             [
              0.4444444444444444,
              "#bd3786"
             ],
             [
              0.5555555555555556,
              "#d8576b"
             ],
             [
              0.6666666666666666,
              "#ed7953"
             ],
             [
              0.7777777777777778,
              "#fb9f3a"
             ],
             [
              0.8888888888888888,
              "#fdca26"
             ],
             [
              1,
              "#f0f921"
             ]
            ],
            "type": "contour"
           }
          ],
          "contourcarpet": [
           {
            "colorbar": {
             "outlinewidth": 0,
             "ticks": ""
            },
            "type": "contourcarpet"
           }
          ],
          "heatmap": [
           {
            "colorbar": {
             "outlinewidth": 0,
             "ticks": ""
            },
            "colorscale": [
             [
              0,
              "#0d0887"
             ],
             [
              0.1111111111111111,
              "#46039f"
             ],
             [
              0.2222222222222222,
              "#7201a8"
             ],
             [
              0.3333333333333333,
              "#9c179e"
             ],
             [
              0.4444444444444444,
              "#bd3786"
             ],
             [
              0.5555555555555556,
              "#d8576b"
             ],
             [
              0.6666666666666666,
              "#ed7953"
             ],
             [
              0.7777777777777778,
              "#fb9f3a"
             ],
             [
              0.8888888888888888,
              "#fdca26"
             ],
             [
              1,
              "#f0f921"
             ]
            ],
            "type": "heatmap"
           }
          ],
          "heatmapgl": [
           {
            "colorbar": {
             "outlinewidth": 0,
             "ticks": ""
            },
            "colorscale": [
             [
              0,
              "#0d0887"
             ],
             [
              0.1111111111111111,
              "#46039f"
             ],
             [
              0.2222222222222222,
              "#7201a8"
             ],
             [
              0.3333333333333333,
              "#9c179e"
             ],
             [
              0.4444444444444444,
              "#bd3786"
             ],
             [
              0.5555555555555556,
              "#d8576b"
             ],
             [
              0.6666666666666666,
              "#ed7953"
             ],
             [
              0.7777777777777778,
              "#fb9f3a"
             ],
             [
              0.8888888888888888,
              "#fdca26"
             ],
             [
              1,
              "#f0f921"
             ]
            ],
            "type": "heatmapgl"
           }
          ],
          "histogram": [
           {
            "marker": {
             "colorbar": {
              "outlinewidth": 0,
              "ticks": ""
             }
            },
            "type": "histogram"
           }
          ],
          "histogram2d": [
           {
            "colorbar": {
             "outlinewidth": 0,
             "ticks": ""
            },
            "colorscale": [
             [
              0,
              "#0d0887"
             ],
             [
              0.1111111111111111,
              "#46039f"
             ],
             [
              0.2222222222222222,
              "#7201a8"
             ],
             [
              0.3333333333333333,
              "#9c179e"
             ],
             [
              0.4444444444444444,
              "#bd3786"
             ],
             [
              0.5555555555555556,
              "#d8576b"
             ],
             [
              0.6666666666666666,
              "#ed7953"
             ],
             [
              0.7777777777777778,
              "#fb9f3a"
             ],
             [
              0.8888888888888888,
              "#fdca26"
             ],
             [
              1,
              "#f0f921"
             ]
            ],
            "type": "histogram2d"
           }
          ],
          "histogram2dcontour": [
           {
            "colorbar": {
             "outlinewidth": 0,
             "ticks": ""
            },
            "colorscale": [
             [
              0,
              "#0d0887"
             ],
             [
              0.1111111111111111,
              "#46039f"
             ],
             [
              0.2222222222222222,
              "#7201a8"
             ],
             [
              0.3333333333333333,
              "#9c179e"
             ],
             [
              0.4444444444444444,
              "#bd3786"
             ],
             [
              0.5555555555555556,
              "#d8576b"
             ],
             [
              0.6666666666666666,
              "#ed7953"
             ],
             [
              0.7777777777777778,
              "#fb9f3a"
             ],
             [
              0.8888888888888888,
              "#fdca26"
             ],
             [
              1,
              "#f0f921"
             ]
            ],
            "type": "histogram2dcontour"
           }
          ],
          "mesh3d": [
           {
            "colorbar": {
             "outlinewidth": 0,
             "ticks": ""
            },
            "type": "mesh3d"
           }
          ],
          "parcoords": [
           {
            "line": {
             "colorbar": {
              "outlinewidth": 0,
              "ticks": ""
             }
            },
            "type": "parcoords"
           }
          ],
          "pie": [
           {
            "automargin": true,
            "type": "pie"
           }
          ],
          "scatter": [
           {
            "marker": {
             "colorbar": {
              "outlinewidth": 0,
              "ticks": ""
             }
            },
            "type": "scatter"
           }
          ],
          "scatter3d": [
           {
            "line": {
             "colorbar": {
              "outlinewidth": 0,
              "ticks": ""
             }
            },
            "marker": {
             "colorbar": {
              "outlinewidth": 0,
              "ticks": ""
             }
            },
            "type": "scatter3d"
           }
          ],
          "scattercarpet": [
           {
            "marker": {
             "colorbar": {
              "outlinewidth": 0,
              "ticks": ""
             }
            },
            "type": "scattercarpet"
           }
          ],
          "scattergeo": [
           {
            "marker": {
             "colorbar": {
              "outlinewidth": 0,
              "ticks": ""
             }
            },
            "type": "scattergeo"
           }
          ],
          "scattergl": [
           {
            "marker": {
             "colorbar": {
              "outlinewidth": 0,
              "ticks": ""
             }
            },
            "type": "scattergl"
           }
          ],
          "scattermapbox": [
           {
            "marker": {
             "colorbar": {
              "outlinewidth": 0,
              "ticks": ""
             }
            },
            "type": "scattermapbox"
           }
          ],
          "scatterpolar": [
           {
            "marker": {
             "colorbar": {
              "outlinewidth": 0,
              "ticks": ""
             }
            },
            "type": "scatterpolar"
           }
          ],
          "scatterpolargl": [
           {
            "marker": {
             "colorbar": {
              "outlinewidth": 0,
              "ticks": ""
             }
            },
            "type": "scatterpolargl"
           }
          ],
          "scatterternary": [
           {
            "marker": {
             "colorbar": {
              "outlinewidth": 0,
              "ticks": ""
             }
            },
            "type": "scatterternary"
           }
          ],
          "surface": [
           {
            "colorbar": {
             "outlinewidth": 0,
             "ticks": ""
            },
            "colorscale": [
             [
              0,
              "#0d0887"
             ],
             [
              0.1111111111111111,
              "#46039f"
             ],
             [
              0.2222222222222222,
              "#7201a8"
             ],
             [
              0.3333333333333333,
              "#9c179e"
             ],
             [
              0.4444444444444444,
              "#bd3786"
             ],
             [
              0.5555555555555556,
              "#d8576b"
             ],
             [
              0.6666666666666666,
              "#ed7953"
             ],
             [
              0.7777777777777778,
              "#fb9f3a"
             ],
             [
              0.8888888888888888,
              "#fdca26"
             ],
             [
              1,
              "#f0f921"
             ]
            ],
            "type": "surface"
           }
          ],
          "table": [
           {
            "cells": {
             "fill": {
              "color": "#EBF0F8"
             },
             "line": {
              "color": "white"
             }
            },
            "header": {
             "fill": {
              "color": "#C8D4E3"
             },
             "line": {
              "color": "white"
             }
            },
            "type": "table"
           }
          ]
         },
         "layout": {
          "annotationdefaults": {
           "arrowcolor": "#2a3f5f",
           "arrowhead": 0,
           "arrowwidth": 1
          },
          "coloraxis": {
           "colorbar": {
            "outlinewidth": 0,
            "ticks": ""
           }
          },
          "colorscale": {
           "diverging": [
            [
             0,
             "#8e0152"
            ],
            [
             0.1,
             "#c51b7d"
            ],
            [
             0.2,
             "#de77ae"
            ],
            [
             0.3,
             "#f1b6da"
            ],
            [
             0.4,
             "#fde0ef"
            ],
            [
             0.5,
             "#f7f7f7"
            ],
            [
             0.6,
             "#e6f5d0"
            ],
            [
             0.7,
             "#b8e186"
            ],
            [
             0.8,
             "#7fbc41"
            ],
            [
             0.9,
             "#4d9221"
            ],
            [
             1,
             "#276419"
            ]
           ],
           "sequential": [
            [
             0,
             "#0d0887"
            ],
            [
             0.1111111111111111,
             "#46039f"
            ],
            [
             0.2222222222222222,
             "#7201a8"
            ],
            [
             0.3333333333333333,
             "#9c179e"
            ],
            [
             0.4444444444444444,
             "#bd3786"
            ],
            [
             0.5555555555555556,
             "#d8576b"
            ],
            [
             0.6666666666666666,
             "#ed7953"
            ],
            [
             0.7777777777777778,
             "#fb9f3a"
            ],
            [
             0.8888888888888888,
             "#fdca26"
            ],
            [
             1,
             "#f0f921"
            ]
           ],
           "sequentialminus": [
            [
             0,
             "#0d0887"
            ],
            [
             0.1111111111111111,
             "#46039f"
            ],
            [
             0.2222222222222222,
             "#7201a8"
            ],
            [
             0.3333333333333333,
             "#9c179e"
            ],
            [
             0.4444444444444444,
             "#bd3786"
            ],
            [
             0.5555555555555556,
             "#d8576b"
            ],
            [
             0.6666666666666666,
             "#ed7953"
            ],
            [
             0.7777777777777778,
             "#fb9f3a"
            ],
            [
             0.8888888888888888,
             "#fdca26"
            ],
            [
             1,
             "#f0f921"
            ]
           ]
          },
          "colorway": [
           "#636efa",
           "#EF553B",
           "#00cc96",
           "#ab63fa",
           "#FFA15A",
           "#19d3f3",
           "#FF6692",
           "#B6E880",
           "#FF97FF",
           "#FECB52"
          ],
          "font": {
           "color": "#2a3f5f"
          },
          "geo": {
           "bgcolor": "white",
           "lakecolor": "white",
           "landcolor": "#E5ECF6",
           "showlakes": true,
           "showland": true,
           "subunitcolor": "white"
          },
          "hoverlabel": {
           "align": "left"
          },
          "hovermode": "closest",
          "mapbox": {
           "style": "light"
          },
          "paper_bgcolor": "white",
          "plot_bgcolor": "#E5ECF6",
          "polar": {
           "angularaxis": {
            "gridcolor": "white",
            "linecolor": "white",
            "ticks": ""
           },
           "bgcolor": "#E5ECF6",
           "radialaxis": {
            "gridcolor": "white",
            "linecolor": "white",
            "ticks": ""
           }
          },
          "scene": {
           "xaxis": {
            "backgroundcolor": "#E5ECF6",
            "gridcolor": "white",
            "gridwidth": 2,
            "linecolor": "white",
            "showbackground": true,
            "ticks": "",
            "zerolinecolor": "white"
           },
           "yaxis": {
            "backgroundcolor": "#E5ECF6",
            "gridcolor": "white",
            "gridwidth": 2,
            "linecolor": "white",
            "showbackground": true,
            "ticks": "",
            "zerolinecolor": "white"
           },
           "zaxis": {
            "backgroundcolor": "#E5ECF6",
            "gridcolor": "white",
            "gridwidth": 2,
            "linecolor": "white",
            "showbackground": true,
            "ticks": "",
            "zerolinecolor": "white"
           }
          },
          "shapedefaults": {
           "line": {
            "color": "#2a3f5f"
           }
          },
          "ternary": {
           "aaxis": {
            "gridcolor": "white",
            "linecolor": "white",
            "ticks": ""
           },
           "baxis": {
            "gridcolor": "white",
            "linecolor": "white",
            "ticks": ""
           },
           "bgcolor": "#E5ECF6",
           "caxis": {
            "gridcolor": "white",
            "linecolor": "white",
            "ticks": ""
           }
          },
          "title": {
           "x": 0.05
          },
          "xaxis": {
           "automargin": true,
           "gridcolor": "white",
           "linecolor": "white",
           "ticks": "",
           "title": {
            "standoff": 15
           },
           "zerolinecolor": "white",
           "zerolinewidth": 2
          },
          "yaxis": {
           "automargin": true,
           "gridcolor": "white",
           "linecolor": "white",
           "ticks": "",
           "title": {
            "standoff": 15
           },
           "zerolinecolor": "white",
           "zerolinewidth": 2
          }
         }
        },
        "title": {
         "font": {
          "color": "#351f39",
          "family": "Courier New"
         },
         "text": "State and Constituency by total electors"
        },
        "xaxis": {
         "title": {
          "text": "Party"
         }
        },
        "yaxis": {
         "title": {
          "text": "Seats"
         }
        }
       }
      },
      "text/html": [
       "<div>                            <div id=\"4cf382be-4831-4814-9037-114708d792a4\" class=\"plotly-graph-div\" style=\"height:525px; width:100%;\"></div>            <script type=\"text/javascript\">                require([\"plotly\"], function(Plotly) {                    window.PLOTLYENV=window.PLOTLYENV || {};                                    if (document.getElementById(\"4cf382be-4831-4814-9037-114708d792a4\")) {                    Plotly.newPlot(                        \"4cf382be-4831-4814-9037-114708d792a4\",                        [{\"branchvalues\": \"total\", \"customdata\": [[1489790.0], [1937690.0], [1861396.0], [1811851.0], [1643317.0], [1876346.0], [1766121.0], [1865169.0], [1356701.0], [1266794.0], [1887127.0], [1648383.0], [1716160.0], [1337808.0], [1888524.0], [1459556.0], [1853711.0], [1785657.0], [1743515.0], [1833091.0], [1628451.0], [1507875.0], [1646435.0], [1521363.0], [1655870.0], [1698876.0], [1664160.0], [1397779.0], [318471.0], [1785605.0], [1500016.0], [1764726.0], [1449150.0], [1805439.0], [2089353.0], [1451418.0], [339788.0], [463775.0], [1615865.0], [1541145.0], [1350710.0], [1742883.0], [1886284.0], [795945.0], [1789168.0], [1891576.0], [1704010.0], [1616476.0], [1638378.0], [1729908.0], [1767725.0], [1531781.0], [1822625.0], [1431704.0], [1697384.0], [1702024.0], [2204817.0], [2849250.0], [2497458.0], [2215489.0], [1704632.0], [1699394.0], [1648906.0], [1751258.0], [1975368.0], [1468671.0], [1816830.0], [2114663.0], [1317738.0], [1718252.0], [1733578.0], [1698089.0], [1826526.0], [1797655.0], [1596290.0], [1941231.0], [1685149.0], [1436431.0], [1678357.0], [1379122.0], [1845223.0], [1621671.0], [2045405.0], [1958382.0], [1779350.0], [1751734.0], [1502455.0], [1737437.0], [1942514.0], [1661661.0], [1823820.0], [1811556.0], [1943794.0], [1564519.0], [1768297.0], [1997328.0], [1765334.0], [1890100.0], [1654317.0], [1628033.0], [2142861.0], [1699678.0], [1775095.0], [1797587.0], [1664125.0], [1851628.0], [1876953.0], [1699219.0], [1627199.0], [1744446.0], [1705073.0], [1787925.0], [1762918.0], [1829373.0], [1230197.0], [1686333.0], [1756837.0], [646729.0], [1562283.0], [1910188.0], [1425218.0], [1332300.0], [1487681.0], [1973533.0], [2443112.0], [1514783.0], [1671253.0], [1480222.0], [1808780.0], [1612556.0], [1760633.0], [1566499.0], [2015911.0], [2019104.0], [1958904.0], [1814200.0], [1364038.0], [1518996.0], [250029.0], [1598939.0], [1724976.0], [121740.0], [1768777.0], [1654811.0], [1611317.0], [1730289.0], [1633064.0], [1754195.0], [1760503.0], [2072634.0], [1786151.0], [1485804.0], [1727311.0], [1644674.0], [1504403.0], [1858566.0], [1908173.0], [1719190.0], [1314319.0], [1541881.0], [1732936.0], [1885433.0], [1566196.0], [1397253.0], [1940269.0], [2039302.0], [1594950.0], [1245972.0], [1462246.0], [1621295.0], [1757984.0], [1821785.0], [2071816.0], [1541971.0], [1708585.0], [1502861.0], [1839312.0], [1718837.0], [1790510.0], [1618419.0], [1581366.0], [1945772.0], [1943486.0], [1355796.0], [2181319.0], [2302960.0], [1704596.0], [1800002.0], [2728978.0], [1881077.0], [1991651.0], [1649413.0], [1716766.0], [1770248.0], [1839514.0], [1981197.0], [1945765.0], [1675724.0], [1706119.0], [1595284.0], [2150728.0], [2000744.0], [1823664.0], [1362269.0], [1749100.0], [1807119.0], [1840738.0], [1652999.0], [1864320.0], [1776555.0], [1708510.0], [1667465.0], [1578218.0], [1733729.0], [1631817.0], [1766601.0], [1706141.0], [1597500.0], [1633925.0], [1957931.0], [1204191.0], [2350580.0], [937464.0], [1819893.0], [1816857.0], [1643595.0], [1588454.0], [2127021.0], [1952542.0], [1475007.0], [1617018.0], [1933358.0], [1931400.0], [1867220.0], [2071244.0], [1735464.0], [2047302.0], [1657166.0], [1703279.0], [1718814.0], [1616213.0], [1897134.0], [1867976.0], [1648355.0], [1903870.0], [1852417.0], [2040739.0], [1641868.0], [1937882.0], [1956755.0], [1365035.0], [1642864.0], [1744321.0], [1570330.0], [1666703.0], [1805946.0], [1563930.0], [1611056.0], [1734938.0], [1528938.0], [1965676.0], [1643992.0], [1288666.0], [1427338.0], [1558952.0], [1874824.0], [1501250.0], [1266550.0], [1632983.0], [1660147.0], [1771254.0], [1810574.0], [1340173.0], [1651543.0], [1904193.0], [1387286.0], [1363937.0], [1653353.0], [1787120.0], [1710916.0], [1516688.0], [1638842.0], [1676454.0], [1842095.0], [1513809.0], [1909055.0], [1834385.0], [1804028.0], [1770699.0], [1202664.0], [1659651.0], [1814125.0], [1776358.0], [1629961.0], [1880496.0], [1728851.0], [1444082.0], [1296720.0], [1736693.0], [1434384.0], [1508840.0], [1948010.0], [1206698.0], [1318024.0], [1530404.0], [1631698.0], [1573009.0], [1657335.0], [1761564.0], [179232.0], [1708013.0], [55189.0], [1751980.0], [1886657.0], [1234286.0], [2040367.0], [1683325.0], [1848306.0], [1473347.0], [1909574.0], [1884883.0], [1792798.0], [1539026.0], [1424385.0], [1807768.0], [1915408.0], [1637951.0], [1506102.0], [1648869.0], [1723236.0], [1370544.0], [1575590.0], [1685955.0], [3150313.0], [1281462.0], [1951267.0], [1760875.0], [1712004.0], [1800237.0], [1807893.0], [1652096.0], [2298080.0], [1308102.0], [1484842.0], [1493205.0], [1603318.0], [1674236.0], [1892931.0], [1845150.0], [1796932.0], [792464.0], [2023431.0], [1958939.0], [1837723.0], [1647350.0], [1679891.0], [1588693.0], [1732263.0], [1554176.0], [1440380.0], [1888025.0], [1725187.0], [1698003.0], [1730553.0], [1896333.0], [1461004.0], [1213777.0], [1303649.0], [1588111.0], [1933169.0], [1586117.0], [2161096.0], [1828433.0], [2114809.0], [1585980.0], [1413599.0], [1719322.0], [1871099.0], [1603220.0], [1670391.0], [1439691.0], [1885064.0], [1971658.0], [1899747.0], [1672845.0], [1617470.0], [1366060.0], [1553385.0], [2290492.0], [556761.0], [2378995.0], [1794648.0], [1556469.0], [1889740.0], [1022099.0], [1323010.0], [1881441.0], [1885600.0], [2161663.0], [1744762.0], [1985228.0], [1633824.0], [1925479.0], [1807043.0], [1382741.0], [1739600.0], [2146008.0], [1479091.0], [1391853.0], [2010477.0], [1761207.0], [1520504.0], [1356803.0], [1662368.0], [1708759.0], [973410.0], [2075824.0], [1562331.0], [1765312.0], [1645884.0], [1658672.0], [1702248.0], [1928204.0], [1652965.0], [1601220.0], [1733805.0], [2111738.0], [1534256.0], [1546938.0], [1694329.0], [1884339.0], [1454436.0], [1716459.0], [1912911.0], [1559740.0], [1679506.0], [1922764.0], [1762252.0], [1915959.0], [1851112.0], [1455577.0], [1775051.0], [1679534.0], [1723538.0], [1737133.0], [1801717.0], [1583129.0], [1739082.0], [1612512.0], [1667282.0], [1679030.0], [1468530.0], [1828764.0], [1809109.0], [1529431.0], [1962903.0], [1667253.0], [1655239.0], [1787878.0], [1848489.0], [1575064.0], [1968276.0], [1656474.0], [2114201.0], [1686215.0], [1197806.0], [1259085.0], [1676668.0], [1587079.0], [2175529.0], [1914739.0], [1845547.0], [2041612.0], [434128.0], [1195720.0], [1269917.0], [1803349.0], [1752454.0], [1666126.0], [1552019.0], [1799551.0], [1851654.0], [1592611.0], [2067463.0], [579352.0], [1785472.0], [1553860.0], [1294671.0], [2253448.0], [1775196.0], [1531525.0], [1690620.0], [1655704.0], [1849429.0], [1694646.0], [1493543.0], [1492317.0], [1499639.0], [2370903.0], [1461052.0], [1561040.0], [1946870.0], [1371427.0], [1427783.0], [1337110.0], [1647399.0], [1508963.0], [1547800.0], [1650453.0], [1530014.0], [1473862.0], [1945992.0], [1261861.0], [1352857.0], [1608545.0], [716990.0], [2069559.0], [1685816.0], [1513806.0], [1612300.0], [1661229.0], [1614988.0], [2191465.0], [1556599.0], [1288926.0], [1794896.0], [1735983.0], [1665502.0], [1671030.0], [1856791.0], [1741604.0], [1652994.0], [1444335.0], [1484256.0], [1829300.0], [1503980.0], [1666770.0], [1743283.0], [1359679.0], [2371644.0], [1916185.0], [1498666.0], [318471.0], [1582400.9717934993], [411346.8832798424], [1644353.1150737212], [1772123.4583131715], [646729.0], [1698986.6878278088], [250029.0], [121740.0], [568281.104982515], [1731423.3247479957], [1805054.9374463586], [1330051.2265762947], [1479420.1213534693], [1592357.041634522], [1864447.0147089066], [1313543.2125966665], [55189.0], [1792314.1201794483], [1854902.7101187361], [981609.2246572323], [1017765.7952784527], [792464.0], [2100878.067652333], [1213777.0], [1550561.8931075688], [973410.0], [1608761.8167242955], [1959342.8479804182], [434128.0], [1567181.864860669], [1815183.074099372], [1308942.396759421], [1843504.556146671], [1617600.669871884], [1670124.3478314995]], \"domain\": {\"x\": [0.0, 1.0], \"y\": [0.0, 1.0]}, \"hovertemplate\": \"labels=%{label}<br>TOTAL ELECTORS_sum=%{value}<br>parent=%{parent}<br>id=%{id}<br>TOTAL ELECTORS=%{color}<extra></extra>\", \"ids\": [\"Telangana/ADILABAD\", \"Uttar Pradesh/AGRA\", \"Maharashtra/AHMADNAGAR\", \"Gujarat/AHMEDABAD EAST\", \"Gujarat/AHMEDABAD WEST\", \"Rajasthan/AJMER\", \"Uttar Pradesh/AKBARPUR\", \"Maharashtra/AKOLA\", \"Kerala/ALAPPUZHA\", \"Kerala/ALATHUR\", \"Uttar Pradesh/ALIGARH\", \"West Bengal/ALIPURDUARS\", \"Uttar Pradesh/ALLAHABAD\", \"Uttarakhand/ALMORA\", \"Rajasthan/ALWAR\", \"Andhra Pradesh/AMALAPURAM\", \"Haryana/AMBALA\", \"Uttar Pradesh/AMBEDKAR NAGAR\", \"Uttar Pradesh/AMETHI\", \"Maharashtra/AMRAVATI\", \"Gujarat/AMRELI\", \"Punjab/AMRITSAR\", \"Uttar Pradesh/AMROHA\", \"Andhra Pradesh/ANAKAPALLI\", \"Gujarat/ANAND\", \"Punjab/ANANDPUR SAHIB\", \"Andhra Pradesh/ANANTAPUR\", \"Jammu & Kashmir/ANANTNAG\", \"Andaman & Nicobar Islands/ANDAMAN & NICOBAR ISLANDS\", \"Uttar Pradesh/AONLA\", \"Tamil Nadu/ARAKKONAM\", \"West Bengal/ARAMBAGH\", \"Tamil Nadu/ARANI\", \"Bihar/ARARIA\", \"Bihar/ARRAH\", \"Andhra Pradesh/ARUKU\", \"Arunachal Pradesh/ARUNACHAL EAST\", \"Arunachal Pradesh/ARUNACHAL WEST\", \"West Bengal/ASANSOL\", \"Odisha/ASKA\", \"Kerala/ATTINGAL\", \"Bihar/AURANGABAD\", \"Maharashtra/AURANGABAD\", \"Assam/AUTONOMOUS DISTRICT\", \"Uttar Pradesh/AZAMGARH\", \"Uttar Pradesh/BADAUN\", \"Karnataka/BAGALKOT\", \"Uttar Pradesh/BAGHPAT\", \"West Bengal/BAHARAMPUR\", \"Uttar Pradesh/BAHRAICH\", \"Madhya Pradesh/BALAGHAT\", \"Odisha/BALASORE\", \"Uttar Pradesh/BALLIA\", \"West Bengal/BALURGHAT\", \"Gujarat/BANASKANTHA\", \"Uttar Pradesh/BANDA\", \"Karnataka/BANGALORE CENTRAL\", \"Karnataka/BANGALORE NORTH\", \"Karnataka/BANGALORE RURAL\", \"Karnataka/BANGALORE SOUTH\", \"West Bengal/BANGAON\", \"Bihar/BANKA\", \"West Bengal/BANKURA\", \"Uttar Pradesh/BANSGAON\", \"Rajasthan/BANSWARA\", \"Andhra Pradesh/BAPATLA\", \"Uttar Pradesh/BARABANKI\", \"Maharashtra/BARAMATI\", \"Jammu & Kashmir/BARAMULLA\", \"West Bengal/BARASAT\", \"West Bengal/BARDHAMAN DURGAPUR\", \"West Bengal/BARDHAMAN PURBA\", \"Gujarat/BARDOLI\", \"Uttar Pradesh/BAREILLY\", \"Odisha/BARGARH\", \"Rajasthan/BARMER\", \"Assam/BARPETA\", \"West Bengal/BARRACKPORE\", \"West Bengal/BASIRHAT\", \"Chhattisgarh/BASTAR\", \"Uttar Pradesh/BASTI\", \"Punjab/BATHINDA\", \"Maharashtra/BEED\", \"Bihar/BEGUSARAI\", \"Karnataka/BELGAUM\", \"Karnataka/BELLARY\", \"Odisha/BERHAMPUR\", \"Madhya Pradesh/BETUL\", \"Uttar Pradesh/BHADOHI\", \"Odisha/BHADRAK\", \"Bihar/BHAGALPUR\", \"Maharashtra/BHANDARA - GONDIYA\", \"Rajasthan/BHARATPUR\", \"Gujarat/BHARUCH\", \"Gujarat/BHAVNAGAR\", \"Rajasthan/BHILWARA\", \"Madhya Pradesh/BHIND\", \"Maharashtra/BHIWANDI\", \"Haryana/BHIWANI-MAHENDRAGARH\", \"Telangana/BHONGIR\", \"Madhya Pradesh/BHOPAL\", \"Odisha/BHUBANESWAR\", \"Karnataka/BIDAR\", \"Karnataka/BIJAPUR\", \"Uttar Pradesh/BIJNOR\", \"Rajasthan/BIKANER (SC)\", \"Chhattisgarh/BILASPUR\", \"West Bengal/BIRBHUM\", \"West Bengal/BISHNUPUR\", \"Odisha/BOLANGIR\", \"West Bengal/BOLPUR\", \"Uttar Pradesh/BULANDSHAHR\", \"Maharashtra/BULDHANA\", \"Bihar/BUXAR\", \"Kerala/CHALAKUDY\", \"Karnataka/CHAMARAJANAGAR\", \"Uttar Pradesh/CHANDAULI\", \"Chandigarh/CHANDIGARH\", \"NCT OF Delhi/CHANDNI CHOWK\", \"Maharashtra/CHANDRAPUR\", \"Jharkhand/CHATRA\", \"Tamil Nadu/CHENNAI CENTRAL\", \"Tamil Nadu/CHENNAI NORTH\", \"Tamil Nadu/CHENNAI SOUTH\", \"Telangana/CHEVELLA\", \"Madhya Pradesh/CHHINDWARA\", \"Gujarat/CHHOTA UDAIPUR\", \"Tamil Nadu/CHIDAMBARAM\", \"Karnataka/CHIKKBALLAPUR\", \"Karnataka/CHIKKODI\", \"Karnataka/CHITRADURGA\", \"Andhra Pradesh/CHITTOOR\", \"Rajasthan/CHITTORGARH\", \"Rajasthan/CHURU\", \"Tamil Nadu/COIMBATORE\", \"West Bengal/COOCH BEHAR\", \"Tamil Nadu/CUDDALORE\", \"Odisha/CUTTACK\", \"Dadra & Nagar Haveli/DADRA AND NAGAR HAVELI\", \"Gujarat/DAHOD\", \"Karnataka/DAKSHINA KANNADA\", \"Daman & Diu/DAMAN & DIU\", \"Madhya Pradesh/DAMOH\", \"Bihar/DARBHANGA\", \"West Bengal/DARJEELING\", \"Rajasthan/DAUSA\", \"Karnataka/DAVANAGERE\", \"Uttar Pradesh/DEORIA\", \"Madhya Pradesh/DEWAS\", \"Jharkhand/DHANBAD\", \"Madhya Pradesh/DHAR\", \"Tamil Nadu/DHARMAPURI\", \"Karnataka/DHARWAD\", \"Uttar Pradesh/DHAURAHRA\", \"Odisha/DHENKANAL\", \"Assam/DHUBRI\", \"Maharashtra/DHULE\", \"West Bengal/DIAMOND HARBOUR\", \"Assam/DIBRUGARH\", \"Tamil Nadu/DINDIGUL\", \"Maharashtra/DINDORI\", \"Uttar Pradesh/DOMARIYAGANJ\", \"West Bengal/DUM DUM\", \"Jharkhand/DUMKA\", \"Chhattisgarh/DURG\", \"NCT OF Delhi/EAST DELHI\", \"Andhra Pradesh/ELURU\", \"Kerala/ERNAKULAM\", \"Tamil Nadu/ERODE\", \"Uttar Pradesh/ETAH\", \"Uttar Pradesh/ETAWAH\", \"Uttar Pradesh/FAIZABAD\", \"Haryana/FARIDABAD\", \"Punjab/FARIDKOT\", \"Uttar Pradesh/FARRUKHABAD\", \"Punjab/FATEHGARH SAHIB\", \"Uttar Pradesh/FATEHPUR\", \"Uttar Pradesh/FATEHPUR SIKRI\", \"Uttar Pradesh/FIROZABAD\", \"Punjab/FIROZPUR\", \"Maharashtra/GADCHIROLI-CHIMUR\", \"Gujarat/GANDHINAGAR\", \"Rajasthan/GANGANAGAR\", \"Uttarakhand/GARHWAL\", \"Assam/GAUHATI\", \"Uttar Pradesh/GAUTAM BUDDHA NAGAR\", \"Bihar/GAYA (SC)\", \"West Bengal/GHATAL\", \"Uttar Pradesh/GHAZIABAD\", \"Uttar Pradesh/GHAZIPUR\", \"Uttar Pradesh/GHOSI\", \"Jharkhand/GIRIDIH\", \"Jharkhand/GODDA\", \"Uttar Pradesh/GONDA\", \"Bihar/GOPALGANJ (SC)\", \"Uttar Pradesh/GORAKHPUR\", \"Karnataka/GULBARGA\", \"Madhya Pradesh/GUNA\", \"Andhra Pradesh/GUNTUR\", \"Punjab/GURDASPUR\", \"Haryana/GURGAON\", \"Madhya Pradesh/GWALIOR\", \"Bihar/HAJIPUR (SC)\", \"Himachal Pradesh/HAMIRPUR\", \"Uttar Pradesh/HAMIRPUR\", \"Uttar Pradesh/HARDOI\", \"Uttarakhand/HARDWAR\", \"Karnataka/HASSAN\", \"Uttar Pradesh/HATHRAS\", \"Maharashtra/HATKANANGLE\", \"Karnataka/HAVERI\", \"Jharkhand/HAZARIBAGH\", \"Andhra Pradesh/HINDUPUR\", \"Maharashtra/HINGOLI\", \"Haryana/HISAR\", \"West Bengal/HOOGHLY\", \"Madhya Pradesh/HOSHANGABAD\", \"Punjab/HOSHIARPUR\", \"West Bengal/HOWRAH\", \"Telangana/HYDERABAD\", \"Kerala/IDUKKI\", \"Madhya Pradesh/INDORE\", \"Manipur/INNER MANIPUR\", \"Madhya Pradesh/JABALPUR\", \"West Bengal/JADAVPUR\", \"Odisha/JAGATSINGHPUR\", \"Bihar/JAHANABAD\", \"Rajasthan/JAIPUR\", \"Rajasthan/JAIPUR RURAL\", \"Odisha/JAJPUR\", \"Punjab/JALANDHAR\", \"Uttar Pradesh/JALAUN\", \"Maharashtra/JALGAON\", \"Maharashtra/JALNA\", \"Rajasthan/JALORE\", \"West Bengal/JALPAIGURI\", \"Jammu & Kashmir/JAMMU\", \"Gujarat/JAMNAGAR\", \"Jharkhand/JAMSHEDPUR\", \"Bihar/JAMUI (SC)\", \"West Bengal/JANGIPUR\", \"Chhattisgarh/JANJGIR-CHAMPA\", \"Uttar Pradesh/JAUNPUR\", \"West Bengal/JAYNAGAR\", \"Rajasthan/JHALAWAR-BARAN\", \"Bihar/JHANJHARPUR\", \"Uttar Pradesh/JHANSI\", \"West Bengal/JHARGRAM\", \"Rajasthan/JHUNJHUNU\", \"Rajasthan/JODHPUR\", \"Assam/JORHAT\", \"Gujarat/JUNAGADH\", \"Gujarat/KACHCHH\", \"Andhra Pradesh/KADAPA\", \"Uttar Pradesh/KAIRANA\", \"Uttar Pradesh/KAISERGANJ\", \"Andhra Pradesh/KAKINADA\", \"Odisha/KALAHANDI\", \"Assam/KALIABOR\", \"Tamil Nadu/KALLAKURICHI\", \"Maharashtra/KALYAN\", \"Tamil Nadu/KANCHEEPURAM\", \"Odisha/KANDHAMAL\", \"Himachal Pradesh/KANGRA\", \"Chhattisgarh/KANKER\", \"Uttar Pradesh/KANNAUJ\", \"Tamil Nadu/KANNIYAKUMARI\", \"Kerala/KANNUR\", \"Uttar Pradesh/KANPUR\", \"West Bengal/KANTHI\", \"Bihar/KARAKAT\", \"Rajasthan/KARAULI-DHOLPUR\", \"Assam/KARIMGANJ\", \"Telangana/KARIMNAGAR\", \"Haryana/KARNAL\", \"Tamil Nadu/KARUR\", \"Kerala/KASARAGOD\", \"Bihar/KATIHAR\", \"Uttar Pradesh/KAUSHAMBI\", \"Odisha/KENDRAPARA\", \"Odisha/KEONJHAR\", \"Punjab/KHADOOR SAHIB\", \"Bihar/KHAGARIA\", \"Madhya Pradesh/KHAJURAHO\", \"Telangana/KHAMMAM\", \"Madhya Pradesh/KHANDWA\", \"Madhya Pradesh/KHARGONE\", \"Gujarat/KHEDA\", \"Uttar Pradesh/KHERI\", \"Jharkhand/KHUNTI\", \"Bihar/KISHANGANJ\", \"Jharkhand/KODARMA\", \"Assam/KOKRAJHAR\", \"Karnataka/KOLAR\", \"Maharashtra/KOLHAPUR\", \"West Bengal/KOLKATA DAKSHIN\", \"West Bengal/KOLKATA UTTAR\", \"Kerala/KOLLAM\", \"Karnataka/KOPPAL\", \"Odisha/KORAPUT\", \"Chhattisgarh/KORBA\", \"Rajasthan/KOTA\", \"Kerala/KOTTAYAM\", \"Kerala/KOZHIKODE\", \"Tamil Nadu/KRISHNAGIRI\", \"West Bengal/KRISHNANAGAR\", \"Andhra Pradesh/KURNOOL\", \"Haryana/KURUKSHETRA\", \"Uttar Pradesh/KUSHI NAGAR\", \"Jammu & Kashmir/LADAKH\", \"Assam/LAKHIMPUR\", \"Lakshadweep/LAKSHADWEEP\", \"Uttar Pradesh/LALGANJ\", \"Maharashtra/LATUR\", \"Jharkhand/LOHARDAGA\", \"Uttar Pradesh/LUCKNOW\", \"Punjab/LUDHIANA\", \"Uttar Pradesh/MACHHLISHAHR\", \"Andhra Pradesh/MACHILIPATNAM\", \"Maharashtra/MADHA\", \"Bihar/MADHEPURA\", \"Bihar/MADHUBANI\", \"Tamil Nadu/MADURAI\", \"Telangana/MAHABUBABAD\", \"Bihar/MAHARAJGANJ\", \"Uttar Pradesh/MAHARAJGANJ\", \"Chhattisgarh/MAHASAMUND\", \"Telangana/MAHBUBNAGAR\", \"Gujarat/MAHESANA\", \"Uttar Pradesh/MAINPURI\", \"Kerala/MALAPPURAM\", \"West Bengal/MALDAHA DAKSHIN\", \"West Bengal/MALDAHA UTTAR\", \"Telangana/MALKAJGIRI\", \"Himachal Pradesh/MANDI\", \"Madhya Pradesh/MANDLA\", \"Madhya Pradesh/MANDSOUR\", \"Karnataka/MANDYA\", \"Assam/MANGALDOI\", \"Uttar Pradesh/MATHURA\", \"West Bengal/MATHURAPUR\", \"Maharashtra/MAVAL\", \"Kerala/MAVELIKKARA\", \"Tamil Nadu/MAYILADUTHURAI\", \"Odisha/MAYURBHANJ\", \"Telangana/MEDAK\", \"West Bengal/MEDINIPUR\", \"Uttar Pradesh/MEERUT\", \"Uttar Pradesh/MIRZAPUR\", \"Uttar Pradesh/MISRIKH\", \"Mizoram/MIZORAM\", \"Uttar Pradesh/MOHANLALGANJ\", \"Uttar Pradesh/MORADABAD\", \"Madhya Pradesh/MORENA\", \"Maharashtra/MUMBAI NORTH\", \"Maharashtra/MUMBAI NORTH CENTRAL\", \"Maharashtra/MUMBAI NORTH EAST\", \"Maharashtra/MUMBAI NORTH WEST\", \"Maharashtra/MUMBAI SOUTH\", \"Maharashtra/MUMBAI SOUTH CENTRAL\", \"Bihar/MUNGER\", \"West Bengal/MURSHIDABAD\", \"Uttar Pradesh/MUZAFFARNAGAR\", \"Bihar/MUZAFFARPUR\", \"Karnataka/MYSORE\", \"Odisha/NABARANGPUR\", \"Nagaland/NAGALAND\", \"Tamil Nadu/NAGAPATTINAM\", \"Telangana/NAGARKURNOOL\", \"Rajasthan/NAGAUR\", \"Uttar Pradesh/NAGINA\", \"Maharashtra/NAGPUR\", \"Uttarakhand/NAINITAL-UDHAMSINGH NAGAR\", \"Bihar/NALANDA\", \"Telangana/NALGONDA\", \"Tamil Nadu/NAMAKKAL\", \"Maharashtra/NANDED\", \"Maharashtra/NANDURBAR\", \"Andhra Pradesh/NANDYAL\", \"Andhra Pradesh/NARASARAOPET\", \"Andhra Pradesh/NARSAPURAM\", \"Maharashtra/NASHIK\", \"Gujarat/NAVSARI\", \"Bihar/NAWADA\", \"Andhra Pradesh/NELLORE\", \"NCT OF Delhi/NEW DELHI\", \"Tamil Nadu/NILGIRIS\", \"Telangana/NIZAMABAD\", \"NCT OF Delhi/NORTH EAST DELHI\", \"Goa/NORTH GOA\", \"NCT OF Delhi/NORTH WEST DELHI\", \"Assam/NOWGONG\", \"Andhra Pradesh/ONGOLE\", \"Maharashtra/OSMANABAD\", \"Manipur/OUTER MANIPUR\", \"Kerala/PALAKKAD\", \"Jharkhand/PALAMAU\", \"Maharashtra/PALGHAR\", \"Rajasthan/PALI\", \"Gujarat/PANCHMAHAL\", \"Maharashtra/PARBHANI\", \"Bihar/PASCHIM CHAMPARAN\", \"Bihar/PATALIPUTRA\", \"Gujarat/PATAN\", \"Kerala/PATHANAMTHITTA\", \"Punjab/PATIALA\", \"Bihar/PATNA SAHIB\", \"Telangana/PEDDAPALLE\", \"Tamil Nadu/PERAMBALUR\", \"Uttar Pradesh/PHULPUR\", \"Uttar Pradesh/PILIBHIT\", \"Tamil Nadu/POLLACHI\", \"Kerala/PONNANI\", \"Gujarat/PORBANDAR\", \"Uttar Pradesh/PRATAPGARH\", \"Puducherry/PUDUCHERRY\", \"Maharashtra/PUNE\", \"Odisha/PURI\", \"Bihar/PURNIA\", \"West Bengal/PURULIA\", \"Bihar/PURVI CHAMPARAN\", \"Uttar Pradesh/RAE BARELI\", \"Karnataka/RAICHUR\", \"Maharashtra/RAIGAD\", \"West Bengal/RAIGANJ\", \"Chhattisgarh/RAIGARH\", \"Chhattisgarh/RAIPUR\", \"Andhra Pradesh/RAJAHMUNDRY\", \"Andhra Pradesh/RAJAMPET\", \"Madhya Pradesh/RAJGARH\", \"Gujarat/RAJKOT\", \"Jharkhand/RAJMAHAL\", \"Chhattisgarh/RAJNANDGAON\", \"Rajasthan/RAJSAMAND\", \"Tamil Nadu/RAMANATHAPURAM\", \"Uttar Pradesh/RAMPUR\", \"Maharashtra/RAMTEK\", \"West Bengal/RANAGHAT\", \"Jharkhand/RANCHI\", \"Madhya Pradesh/RATLAM\", \"Maharashtra/RATNAGIRI - SINDHUDURG\", \"Maharashtra/RAVER\", \"Madhya Pradesh/REWA\", \"Uttar Pradesh/ROBERTSGANJ\", \"Haryana/ROHTAK\", \"Gujarat/SABARKANTHA\", \"Madhya Pradesh/SAGAR\", \"Uttar Pradesh/SAHARANPUR\", \"Tamil Nadu/SALEM\", \"Uttar Pradesh/SALEMPUR\", \"Bihar/SAMASTIPUR (SC)\", \"Odisha/SAMBALPUR\", \"Uttar Pradesh/SAMBHAL\", \"Maharashtra/SANGLI\", \"Punjab/SANGRUR\", \"Uttar Pradesh/SANT KABIR NAGAR\", \"Bihar/SARAN\", \"Chhattisgarh/SARGUJA\", \"Bihar/SASARAM (SC)\", \"Maharashtra/SATARA\", \"Madhya Pradesh/SATNA\", \"Telangana/SECUNDRABAD\", \"Madhya Pradesh/SHAHDOL\", \"Uttar Pradesh/SHAHJAHANPUR\", \"Bihar/SHEOHAR\", \"Meghalaya/SHILLONG\", \"Himachal Pradesh/SHIMLA\", \"Karnataka/SHIMOGA\", \"Maharashtra/SHIRDI\", \"Maharashtra/SHIRUR\", \"Uttar Pradesh/SHRAWASTI\", \"Madhya Pradesh/SIDHI\", \"Rajasthan/SIKAR\", \"Sikkim/SIKKIM\", \"Assam/SILCHAR\", \"Jharkhand/SINGHBHUM\", \"Haryana/SIRSA\", \"Bihar/SITAMARHI\", \"Uttar Pradesh/SITAPUR\", \"Tamil Nadu/SIVAGANGA\", \"Bihar/SIWAN\", \"Maharashtra/SOLAPUR\", \"Haryana/SONIPAT\", \"NCT OF Delhi/SOUTH DELHI\", \"Goa/SOUTH GOA\", \"West Bengal/SRERAMPUR\", \"Andhra Pradesh/SRIKAKULAM\", \"Jammu & Kashmir/SRINAGAR\", \"Tamil Nadu/SRIPERUMBUDUR\", \"Uttar Pradesh/SULTANPUR\", \"Odisha/SUNDARGARH\", \"Bihar/SUPAUL\", \"Gujarat/SURAT\", \"Gujarat/SURENDRANAGAR\", \"West Bengal/TAMLUK\", \"Uttarakhand/TEHRI GARHWAL\", \"Tamil Nadu/TENKASI\", \"Assam/TEZPUR\", \"Maharashtra/THANE\", \"Tamil Nadu/THANJAVUR\", \"Tamil Nadu/THENI\", \"Tamil Nadu/THIRUVALLUR\", \"Kerala/THIRUVANANTHAPURAM\", \"Tamil Nadu/THOOTHUKKUDI\", \"Kerala/THRISSUR\", \"Madhya Pradesh/TIKAMGARH\", \"Tamil Nadu/TIRUCHIRAPPALLI\", \"Tamil Nadu/TIRUNELVELI\", \"Andhra Pradesh/TIRUPATI\", \"Tamil Nadu/TIRUPPUR\", \"Tamil Nadu/TIRUVANNAMALAI\", \"Rajasthan/TONK-SAWAI MADHOPUR\", \"Tripura/TRIPURA EAST\", \"Tripura/TRIPURA WEST\", \"Karnataka/TUMKUR\", \"Meghalaya/TURA\", \"Rajasthan/UDAIPUR\", \"Jammu & Kashmir/UDHAMPUR\", \"Karnataka/UDUPI CHIKMAGALUR\", \"Bihar/UJIARPUR\", \"Madhya Pradesh/UJJAIN\", \"West Bengal/ULUBERIA\", \"Uttar Pradesh/UNNAO\", \"Karnataka/UTTARA KANNADA\", \"Kerala/VADAKARA\", \"Gujarat/VADODARA\", \"Bihar/VAISHALI\", \"Bihar/VALMIKI NAGAR\", \"Gujarat/VALSAD\", \"Uttar Pradesh/VARANASI\", \"Madhya Pradesh/VIDISHA\", \"Andhra Pradesh/VIJAYAWADA\", \"Tamil Nadu/VILUPPURAM\", \"Tamil Nadu/VIRUDHUNAGAR\", \"Andhra Pradesh/VISAKHAPATNAM\", \"Andhra Pradesh/VIZIANAGARAM\", \"Telangana/WARANGAL\", \"Maharashtra/WARDHA\", \"Kerala/WAYANAD\", \"NCT OF Delhi/WEST DELHI\", \"Maharashtra/YAVATMAL-WASHIM\", \"Telangana/ZAHIRABAD\", \"Andaman & Nicobar Islands\", \"Andhra Pradesh\", \"Arunachal Pradesh\", \"Assam\", \"Bihar\", \"Chandigarh\", \"Chhattisgarh\", \"Dadra & Nagar Haveli\", \"Daman & Diu\", \"Goa\", \"Gujarat\", \"Haryana\", \"Himachal Pradesh\", \"Jammu & Kashmir\", \"Jharkhand\", \"Karnataka\", \"Kerala\", \"Lakshadweep\", \"Madhya Pradesh\", \"Maharashtra\", \"Manipur\", \"Meghalaya\", \"Mizoram\", \"NCT OF Delhi\", \"Nagaland\", \"Odisha\", \"Puducherry\", \"Punjab\", \"Rajasthan\", \"Sikkim\", \"Tamil Nadu\", \"Telangana\", \"Tripura\", \"Uttar Pradesh\", \"Uttarakhand\", \"West Bengal\"], \"labels\": [\"ADILABAD\", \"AGRA\", \"AHMADNAGAR\", \"AHMEDABAD EAST\", \"AHMEDABAD WEST\", \"AJMER\", \"AKBARPUR\", \"AKOLA\", \"ALAPPUZHA\", \"ALATHUR\", \"ALIGARH\", \"ALIPURDUARS\", \"ALLAHABAD\", \"ALMORA\", \"ALWAR\", \"AMALAPURAM\", \"AMBALA\", \"AMBEDKAR NAGAR\", \"AMETHI\", \"AMRAVATI\", \"AMRELI\", \"AMRITSAR\", \"AMROHA\", \"ANAKAPALLI\", \"ANAND\", \"ANANDPUR SAHIB\", \"ANANTAPUR\", \"ANANTNAG\", \"ANDAMAN & NICOBAR ISLANDS\", \"AONLA\", \"ARAKKONAM\", \"ARAMBAGH\", \"ARANI\", \"ARARIA\", \"ARRAH\", \"ARUKU\", \"ARUNACHAL EAST\", \"ARUNACHAL WEST\", \"ASANSOL\", \"ASKA\", \"ATTINGAL\", \"AURANGABAD\", \"AURANGABAD\", \"AUTONOMOUS DISTRICT\", \"AZAMGARH\", \"BADAUN\", \"BAGALKOT\", \"BAGHPAT\", \"BAHARAMPUR\", \"BAHRAICH\", \"BALAGHAT\", \"BALASORE\", \"BALLIA\", \"BALURGHAT\", \"BANASKANTHA\", \"BANDA\", \"BANGALORE CENTRAL\", \"BANGALORE NORTH\", \"BANGALORE RURAL\", \"BANGALORE SOUTH\", \"BANGAON\", \"BANKA\", \"BANKURA\", \"BANSGAON\", \"BANSWARA\", \"BAPATLA\", \"BARABANKI\", \"BARAMATI\", \"BARAMULLA\", \"BARASAT\", \"BARDHAMAN DURGAPUR\", \"BARDHAMAN PURBA\", \"BARDOLI\", \"BAREILLY\", \"BARGARH\", \"BARMER\", \"BARPETA\", \"BARRACKPORE\", \"BASIRHAT\", \"BASTAR\", \"BASTI\", \"BATHINDA\", \"BEED\", \"BEGUSARAI\", \"BELGAUM\", \"BELLARY\", \"BERHAMPUR\", \"BETUL\", \"BHADOHI\", \"BHADRAK\", \"BHAGALPUR\", \"BHANDARA - GONDIYA\", \"BHARATPUR\", \"BHARUCH\", \"BHAVNAGAR\", \"BHILWARA\", \"BHIND\", \"BHIWANDI\", \"BHIWANI-MAHENDRAGARH\", \"BHONGIR\", \"BHOPAL\", \"BHUBANESWAR\", \"BIDAR\", \"BIJAPUR\", \"BIJNOR\", \"BIKANER (SC)\", \"BILASPUR\", \"BIRBHUM\", \"BISHNUPUR\", \"BOLANGIR\", \"BOLPUR\", \"BULANDSHAHR\", \"BULDHANA\", \"BUXAR\", \"CHALAKUDY\", \"CHAMARAJANAGAR\", \"CHANDAULI\", \"CHANDIGARH\", \"CHANDNI CHOWK\", \"CHANDRAPUR\", \"CHATRA\", \"CHENNAI CENTRAL\", \"CHENNAI NORTH\", \"CHENNAI SOUTH\", \"CHEVELLA\", \"CHHINDWARA\", \"CHHOTA UDAIPUR\", \"CHIDAMBARAM\", \"CHIKKBALLAPUR\", \"CHIKKODI\", \"CHITRADURGA\", \"CHITTOOR\", \"CHITTORGARH\", \"CHURU\", \"COIMBATORE\", \"COOCH BEHAR\", \"CUDDALORE\", \"CUTTACK\", \"DADRA AND NAGAR HAVELI\", \"DAHOD\", \"DAKSHINA KANNADA\", \"DAMAN & DIU\", \"DAMOH\", \"DARBHANGA\", \"DARJEELING\", \"DAUSA\", \"DAVANAGERE\", \"DEORIA\", \"DEWAS\", \"DHANBAD\", \"DHAR\", \"DHARMAPURI\", \"DHARWAD\", \"DHAURAHRA\", \"DHENKANAL\", \"DHUBRI\", \"DHULE\", \"DIAMOND HARBOUR\", \"DIBRUGARH\", \"DINDIGUL\", \"DINDORI\", \"DOMARIYAGANJ\", \"DUM DUM\", \"DUMKA\", \"DURG\", \"EAST DELHI\", \"ELURU\", \"ERNAKULAM\", \"ERODE\", \"ETAH\", \"ETAWAH\", \"FAIZABAD\", \"FARIDABAD\", \"FARIDKOT\", \"FARRUKHABAD\", \"FATEHGARH SAHIB\", \"FATEHPUR\", \"FATEHPUR SIKRI\", \"FIROZABAD\", \"FIROZPUR\", \"GADCHIROLI-CHIMUR\", \"GANDHINAGAR\", \"GANGANAGAR\", \"GARHWAL\", \"GAUHATI\", \"GAUTAM BUDDHA NAGAR\", \"GAYA (SC)\", \"GHATAL\", \"GHAZIABAD\", \"GHAZIPUR\", \"GHOSI\", \"GIRIDIH\", \"GODDA\", \"GONDA\", \"GOPALGANJ (SC)\", \"GORAKHPUR\", \"GULBARGA\", \"GUNA\", \"GUNTUR\", \"GURDASPUR\", \"GURGAON\", \"GWALIOR\", \"HAJIPUR (SC)\", \"HAMIRPUR\", \"HAMIRPUR\", \"HARDOI\", \"HARDWAR\", \"HASSAN\", \"HATHRAS\", \"HATKANANGLE\", \"HAVERI\", \"HAZARIBAGH\", \"HINDUPUR\", \"HINGOLI\", \"HISAR\", \"HOOGHLY\", \"HOSHANGABAD\", \"HOSHIARPUR\", \"HOWRAH\", \"HYDERABAD\", \"IDUKKI\", \"INDORE\", \"INNER MANIPUR\", \"JABALPUR\", \"JADAVPUR\", \"JAGATSINGHPUR\", \"JAHANABAD\", \"JAIPUR\", \"JAIPUR RURAL\", \"JAJPUR\", \"JALANDHAR\", \"JALAUN\", \"JALGAON\", \"JALNA\", \"JALORE\", \"JALPAIGURI\", \"JAMMU\", \"JAMNAGAR\", \"JAMSHEDPUR\", \"JAMUI (SC)\", \"JANGIPUR\", \"JANJGIR-CHAMPA\", \"JAUNPUR\", \"JAYNAGAR\", \"JHALAWAR-BARAN\", \"JHANJHARPUR\", \"JHANSI\", \"JHARGRAM\", \"JHUNJHUNU\", \"JODHPUR\", \"JORHAT\", \"JUNAGADH\", \"KACHCHH\", \"KADAPA\", \"KAIRANA\", \"KAISERGANJ\", \"KAKINADA\", \"KALAHANDI\", \"KALIABOR\", \"KALLAKURICHI\", \"KALYAN\", \"KANCHEEPURAM\", \"KANDHAMAL\", \"KANGRA\", \"KANKER\", \"KANNAUJ\", \"KANNIYAKUMARI\", \"KANNUR\", \"KANPUR\", \"KANTHI\", \"KARAKAT\", \"KARAULI-DHOLPUR\", \"KARIMGANJ\", \"KARIMNAGAR\", \"KARNAL\", \"KARUR\", \"KASARAGOD\", \"KATIHAR\", \"KAUSHAMBI\", \"KENDRAPARA\", \"KEONJHAR\", \"KHADOOR SAHIB\", \"KHAGARIA\", \"KHAJURAHO\", \"KHAMMAM\", \"KHANDWA\", \"KHARGONE\", \"KHEDA\", \"KHERI\", \"KHUNTI\", \"KISHANGANJ\", \"KODARMA\", \"KOKRAJHAR\", \"KOLAR\", \"KOLHAPUR\", \"KOLKATA DAKSHIN\", \"KOLKATA UTTAR\", \"KOLLAM\", \"KOPPAL\", \"KORAPUT\", \"KORBA\", \"KOTA\", \"KOTTAYAM\", \"KOZHIKODE\", \"KRISHNAGIRI\", \"KRISHNANAGAR\", \"KURNOOL\", \"KURUKSHETRA\", \"KUSHI NAGAR\", \"LADAKH\", \"LAKHIMPUR\", \"LAKSHADWEEP\", \"LALGANJ\", \"LATUR\", \"LOHARDAGA\", \"LUCKNOW\", \"LUDHIANA\", \"MACHHLISHAHR\", \"MACHILIPATNAM\", \"MADHA\", \"MADHEPURA\", \"MADHUBANI\", \"MADURAI\", \"MAHABUBABAD\", \"MAHARAJGANJ\", \"MAHARAJGANJ\", \"MAHASAMUND\", \"MAHBUBNAGAR\", \"MAHESANA\", \"MAINPURI\", \"MALAPPURAM\", \"MALDAHA DAKSHIN\", \"MALDAHA UTTAR\", \"MALKAJGIRI\", \"MANDI\", \"MANDLA\", \"MANDSOUR\", \"MANDYA\", \"MANGALDOI\", \"MATHURA\", \"MATHURAPUR\", \"MAVAL\", \"MAVELIKKARA\", \"MAYILADUTHURAI\", \"MAYURBHANJ\", \"MEDAK\", \"MEDINIPUR\", \"MEERUT\", \"MIRZAPUR\", \"MISRIKH\", \"MIZORAM\", \"MOHANLALGANJ\", \"MORADABAD\", \"MORENA\", \"MUMBAI NORTH\", \"MUMBAI NORTH CENTRAL\", \"MUMBAI NORTH EAST\", \"MUMBAI NORTH WEST\", \"MUMBAI SOUTH\", \"MUMBAI SOUTH CENTRAL\", \"MUNGER\", \"MURSHIDABAD\", \"MUZAFFARNAGAR\", \"MUZAFFARPUR\", \"MYSORE\", \"NABARANGPUR\", \"NAGALAND\", \"NAGAPATTINAM\", \"NAGARKURNOOL\", \"NAGAUR\", \"NAGINA\", \"NAGPUR\", \"NAINITAL-UDHAMSINGH NAGAR\", \"NALANDA\", \"NALGONDA\", \"NAMAKKAL\", \"NANDED\", \"NANDURBAR\", \"NANDYAL\", \"NARASARAOPET\", \"NARSAPURAM\", \"NASHIK\", \"NAVSARI\", \"NAWADA\", \"NELLORE\", \"NEW DELHI\", \"NILGIRIS\", \"NIZAMABAD\", \"NORTH EAST DELHI\", \"NORTH GOA\", \"NORTH WEST DELHI\", \"NOWGONG\", \"ONGOLE\", \"OSMANABAD\", \"OUTER MANIPUR\", \"PALAKKAD\", \"PALAMAU\", \"PALGHAR\", \"PALI\", \"PANCHMAHAL\", \"PARBHANI\", \"PASCHIM CHAMPARAN\", \"PATALIPUTRA\", \"PATAN\", \"PATHANAMTHITTA\", \"PATIALA\", \"PATNA SAHIB\", \"PEDDAPALLE\", \"PERAMBALUR\", \"PHULPUR\", \"PILIBHIT\", \"POLLACHI\", \"PONNANI\", \"PORBANDAR\", \"PRATAPGARH\", \"PUDUCHERRY\", \"PUNE\", \"PURI\", \"PURNIA\", \"PURULIA\", \"PURVI CHAMPARAN\", \"RAE BARELI\", \"RAICHUR\", \"RAIGAD\", \"RAIGANJ\", \"RAIGARH\", \"RAIPUR\", \"RAJAHMUNDRY\", \"RAJAMPET\", \"RAJGARH\", \"RAJKOT\", \"RAJMAHAL\", \"RAJNANDGAON\", \"RAJSAMAND\", \"RAMANATHAPURAM\", \"RAMPUR\", \"RAMTEK\", \"RANAGHAT\", \"RANCHI\", \"RATLAM\", \"RATNAGIRI - SINDHUDURG\", \"RAVER\", \"REWA\", \"ROBERTSGANJ\", \"ROHTAK\", \"SABARKANTHA\", \"SAGAR\", \"SAHARANPUR\", \"SALEM\", \"SALEMPUR\", \"SAMASTIPUR (SC)\", \"SAMBALPUR\", \"SAMBHAL\", \"SANGLI\", \"SANGRUR\", \"SANT KABIR NAGAR\", \"SARAN\", \"SARGUJA\", \"SASARAM (SC)\", \"SATARA\", \"SATNA\", \"SECUNDRABAD\", \"SHAHDOL\", \"SHAHJAHANPUR\", \"SHEOHAR\", \"SHILLONG\", \"SHIMLA\", \"SHIMOGA\", \"SHIRDI\", \"SHIRUR\", \"SHRAWASTI\", \"SIDHI\", \"SIKAR\", \"SIKKIM\", \"SILCHAR\", \"SINGHBHUM\", \"SIRSA\", \"SITAMARHI\", \"SITAPUR\", \"SIVAGANGA\", \"SIWAN\", \"SOLAPUR\", \"SONIPAT\", \"SOUTH DELHI\", \"SOUTH GOA\", \"SRERAMPUR\", \"SRIKAKULAM\", \"SRINAGAR\", \"SRIPERUMBUDUR\", \"SULTANPUR\", \"SUNDARGARH\", \"SUPAUL\", \"SURAT\", \"SURENDRANAGAR\", \"TAMLUK\", \"TEHRI GARHWAL\", \"TENKASI\", \"TEZPUR\", \"THANE\", \"THANJAVUR\", \"THENI\", \"THIRUVALLUR\", \"THIRUVANANTHAPURAM\", \"THOOTHUKKUDI\", \"THRISSUR\", \"TIKAMGARH\", \"TIRUCHIRAPPALLI\", \"TIRUNELVELI\", \"TIRUPATI\", \"TIRUPPUR\", \"TIRUVANNAMALAI\", \"TONK-SAWAI MADHOPUR\", \"TRIPURA EAST\", \"TRIPURA WEST\", \"TUMKUR\", \"TURA\", \"UDAIPUR\", \"UDHAMPUR\", \"UDUPI CHIKMAGALUR\", \"UJIARPUR\", \"UJJAIN\", \"ULUBERIA\", \"UNNAO\", \"UTTARA KANNADA\", \"VADAKARA\", \"VADODARA\", \"VAISHALI\", \"VALMIKI NAGAR\", \"VALSAD\", \"VARANASI\", \"VIDISHA\", \"VIJAYAWADA\", \"VILUPPURAM\", \"VIRUDHUNAGAR\", \"VISAKHAPATNAM\", \"VIZIANAGARAM\", \"WARANGAL\", \"WARDHA\", \"WAYANAD\", \"WEST DELHI\", \"YAVATMAL-WASHIM\", \"ZAHIRABAD\", \"Andaman & Nicobar Islands\", \"Andhra Pradesh\", \"Arunachal Pradesh\", \"Assam\", \"Bihar\", \"Chandigarh\", \"Chhattisgarh\", \"Dadra & Nagar Haveli\", \"Daman & Diu\", \"Goa\", \"Gujarat\", \"Haryana\", \"Himachal Pradesh\", \"Jammu & Kashmir\", \"Jharkhand\", \"Karnataka\", \"Kerala\", \"Lakshadweep\", \"Madhya Pradesh\", \"Maharashtra\", \"Manipur\", \"Meghalaya\", \"Mizoram\", \"NCT OF Delhi\", \"Nagaland\", \"Odisha\", \"Puducherry\", \"Punjab\", \"Rajasthan\", \"Sikkim\", \"Tamil Nadu\", \"Telangana\", \"Tripura\", \"Uttar Pradesh\", \"Uttarakhand\", \"West Bengal\"], \"marker\": {\"coloraxis\": \"coloraxis\", \"colors\": [1489790.0, 1937690.0, 1861396.0, 1811851.0, 1643317.0, 1876346.0, 1766121.0, 1865169.0, 1356701.0, 1266794.0, 1887127.0, 1648383.0, 1716160.0, 1337808.0, 1888524.0, 1459556.0, 1853711.0, 1785657.0, 1743515.0, 1833091.0, 1628451.0, 1507875.0, 1646435.0, 1521363.0, 1655870.0, 1698876.0, 1664160.0, 1397779.0, 318471.0, 1785605.0, 1500016.0, 1764726.0, 1449150.0, 1805439.0, 2089353.0, 1451418.0, 339788.0, 463775.0, 1615865.0, 1541145.0, 1350710.0, 1742883.0, 1886284.0, 795945.0, 1789168.0, 1891576.0, 1704010.0, 1616476.0, 1638378.0, 1729908.0, 1767725.0, 1531781.0, 1822625.0, 1431704.0, 1697384.0, 1702024.0, 2204817.0, 2849250.0, 2497458.0, 2215489.0, 1704632.0, 1699394.0, 1648906.0, 1751258.0, 1975368.0, 1468671.0, 1816830.0, 2114663.0, 1317738.0, 1718252.0, 1733578.0, 1698089.0, 1826526.0, 1797655.0, 1596290.0, 1941231.0, 1685149.0, 1436431.0, 1678357.0, 1379122.0, 1845223.0, 1621671.0, 2045405.0, 1958382.0, 1779350.0, 1751734.0, 1502455.0, 1737437.0, 1942514.0, 1661661.0, 1823820.0, 1811556.0, 1943794.0, 1564519.0, 1768297.0, 1997328.0, 1765334.0, 1890100.0, 1654317.0, 1628033.0, 2142861.0, 1699678.0, 1775095.0, 1797587.0, 1664125.0, 1851628.0, 1876953.0, 1699219.0, 1627199.0, 1744446.0, 1705073.0, 1787925.0, 1762918.0, 1829373.0, 1230197.0, 1686333.0, 1756837.0, 646729.0, 1562283.0, 1910188.0, 1425218.0, 1332300.0, 1487681.0, 1973533.0, 2443112.0, 1514783.0, 1671253.0, 1480222.0, 1808780.0, 1612556.0, 1760633.0, 1566499.0, 2015911.0, 2019104.0, 1958904.0, 1814200.0, 1364038.0, 1518996.0, 250029.0, 1598939.0, 1724976.0, 121740.0, 1768777.0, 1654811.0, 1611317.0, 1730289.0, 1633064.0, 1754195.0, 1760503.0, 2072634.0, 1786151.0, 1485804.0, 1727311.0, 1644674.0, 1504403.0, 1858566.0, 1908173.0, 1719190.0, 1314319.0, 1541881.0, 1732936.0, 1885433.0, 1566196.0, 1397253.0, 1940269.0, 2039302.0, 1594950.0, 1245972.0, 1462246.0, 1621295.0, 1757984.0, 1821785.0, 2071816.0, 1541971.0, 1708585.0, 1502861.0, 1839312.0, 1718837.0, 1790510.0, 1618419.0, 1581366.0, 1945772.0, 1943486.0, 1355796.0, 2181319.0, 2302960.0, 1704596.0, 1800002.0, 2728978.0, 1881077.0, 1991651.0, 1649413.0, 1716766.0, 1770248.0, 1839514.0, 1981197.0, 1945765.0, 1675724.0, 1706119.0, 1595284.0, 2150728.0, 2000744.0, 1823664.0, 1362269.0, 1749100.0, 1807119.0, 1840738.0, 1652999.0, 1864320.0, 1776555.0, 1708510.0, 1667465.0, 1578218.0, 1733729.0, 1631817.0, 1766601.0, 1706141.0, 1597500.0, 1633925.0, 1957931.0, 1204191.0, 2350580.0, 937464.0, 1819893.0, 1816857.0, 1643595.0, 1588454.0, 2127021.0, 1952542.0, 1475007.0, 1617018.0, 1933358.0, 1931400.0, 1867220.0, 2071244.0, 1735464.0, 2047302.0, 1657166.0, 1703279.0, 1718814.0, 1616213.0, 1897134.0, 1867976.0, 1648355.0, 1903870.0, 1852417.0, 2040739.0, 1641868.0, 1937882.0, 1956755.0, 1365035.0, 1642864.0, 1744321.0, 1570330.0, 1666703.0, 1805946.0, 1563930.0, 1611056.0, 1734938.0, 1528938.0, 1965676.0, 1643992.0, 1288666.0, 1427338.0, 1558952.0, 1874824.0, 1501250.0, 1266550.0, 1632983.0, 1660147.0, 1771254.0, 1810574.0, 1340173.0, 1651543.0, 1904193.0, 1387286.0, 1363937.0, 1653353.0, 1787120.0, 1710916.0, 1516688.0, 1638842.0, 1676454.0, 1842095.0, 1513809.0, 1909055.0, 1834385.0, 1804028.0, 1770699.0, 1202664.0, 1659651.0, 1814125.0, 1776358.0, 1629961.0, 1880496.0, 1728851.0, 1444082.0, 1296720.0, 1736693.0, 1434384.0, 1508840.0, 1948010.0, 1206698.0, 1318024.0, 1530404.0, 1631698.0, 1573009.0, 1657335.0, 1761564.0, 179232.0, 1708013.0, 55189.0, 1751980.0, 1886657.0, 1234286.0, 2040367.0, 1683325.0, 1848306.0, 1473347.0, 1909574.0, 1884883.0, 1792798.0, 1539026.0, 1424385.0, 1807768.0, 1915408.0, 1637951.0, 1506102.0, 1648869.0, 1723236.0, 1370544.0, 1575590.0, 1685955.0, 3150313.0, 1281462.0, 1951267.0, 1760875.0, 1712004.0, 1800237.0, 1807893.0, 1652096.0, 2298080.0, 1308102.0, 1484842.0, 1493205.0, 1603318.0, 1674236.0, 1892931.0, 1845150.0, 1796932.0, 792464.0, 2023431.0, 1958939.0, 1837723.0, 1647350.0, 1679891.0, 1588693.0, 1732263.0, 1554176.0, 1440380.0, 1888025.0, 1725187.0, 1698003.0, 1730553.0, 1896333.0, 1461004.0, 1213777.0, 1303649.0, 1588111.0, 1933169.0, 1586117.0, 2161096.0, 1828433.0, 2114809.0, 1585980.0, 1413599.0, 1719322.0, 1871099.0, 1603220.0, 1670391.0, 1439691.0, 1885064.0, 1971658.0, 1899747.0, 1672845.0, 1617470.0, 1366060.0, 1553385.0, 2290492.0, 556761.0, 2378995.0, 1794648.0, 1556469.0, 1889740.0, 1022099.0, 1323010.0, 1881441.0, 1885600.0, 2161663.0, 1744762.0, 1985228.0, 1633824.0, 1925479.0, 1807043.0, 1382741.0, 1739600.0, 2146008.0, 1479091.0, 1391853.0, 2010477.0, 1761207.0, 1520504.0, 1356803.0, 1662368.0, 1708759.0, 973410.0, 2075824.0, 1562331.0, 1765312.0, 1645884.0, 1658672.0, 1702248.0, 1928204.0, 1652965.0, 1601220.0, 1733805.0, 2111738.0, 1534256.0, 1546938.0, 1694329.0, 1884339.0, 1454436.0, 1716459.0, 1912911.0, 1559740.0, 1679506.0, 1922764.0, 1762252.0, 1915959.0, 1851112.0, 1455577.0, 1775051.0, 1679534.0, 1723538.0, 1737133.0, 1801717.0, 1583129.0, 1739082.0, 1612512.0, 1667282.0, 1679030.0, 1468530.0, 1828764.0, 1809109.0, 1529431.0, 1962903.0, 1667253.0, 1655239.0, 1787878.0, 1848489.0, 1575064.0, 1968276.0, 1656474.0, 2114201.0, 1686215.0, 1197806.0, 1259085.0, 1676668.0, 1587079.0, 2175529.0, 1914739.0, 1845547.0, 2041612.0, 434128.0, 1195720.0, 1269917.0, 1803349.0, 1752454.0, 1666126.0, 1552019.0, 1799551.0, 1851654.0, 1592611.0, 2067463.0, 579352.0, 1785472.0, 1553860.0, 1294671.0, 2253448.0, 1775196.0, 1531525.0, 1690620.0, 1655704.0, 1849429.0, 1694646.0, 1493543.0, 1492317.0, 1499639.0, 2370903.0, 1461052.0, 1561040.0, 1946870.0, 1371427.0, 1427783.0, 1337110.0, 1647399.0, 1508963.0, 1547800.0, 1650453.0, 1530014.0, 1473862.0, 1945992.0, 1261861.0, 1352857.0, 1608545.0, 716990.0, 2069559.0, 1685816.0, 1513806.0, 1612300.0, 1661229.0, 1614988.0, 2191465.0, 1556599.0, 1288926.0, 1794896.0, 1735983.0, 1665502.0, 1671030.0, 1856791.0, 1741604.0, 1652994.0, 1444335.0, 1484256.0, 1829300.0, 1503980.0, 1666770.0, 1743283.0, 1359679.0, 2371644.0, 1916185.0, 1498666.0, 318471.0, 1582400.9717934993, 411346.8832798424, 1644353.1150737212, 1772123.4583131715, 646729.0, 1698986.6878278088, 250029.0, 121740.0, 568281.104982515, 1731423.3247479957, 1805054.9374463586, 1330051.2265762947, 1479420.1213534693, 1592357.041634522, 1864447.0147089066, 1313543.2125966665, 55189.0, 1792314.1201794483, 1854902.7101187361, 981609.2246572323, 1017765.7952784527, 792464.0, 2100878.067652333, 1213777.0, 1550561.8931075688, 973410.0, 1608761.8167242955, 1959342.8479804182, 434128.0, 1567181.864860669, 1815183.074099372, 1308942.396759421, 1843504.556146671, 1617600.669871884, 1670124.3478314995]}, \"name\": \"\", \"parents\": [\"Telangana\", \"Uttar Pradesh\", \"Maharashtra\", \"Gujarat\", \"Gujarat\", \"Rajasthan\", \"Uttar Pradesh\", \"Maharashtra\", \"Kerala\", \"Kerala\", \"Uttar Pradesh\", \"West Bengal\", \"Uttar Pradesh\", \"Uttarakhand\", \"Rajasthan\", \"Andhra Pradesh\", \"Haryana\", \"Uttar Pradesh\", \"Uttar Pradesh\", \"Maharashtra\", \"Gujarat\", \"Punjab\", \"Uttar Pradesh\", \"Andhra Pradesh\", \"Gujarat\", \"Punjab\", \"Andhra Pradesh\", \"Jammu & Kashmir\", \"Andaman & Nicobar Islands\", \"Uttar Pradesh\", \"Tamil Nadu\", \"West Bengal\", \"Tamil Nadu\", \"Bihar\", \"Bihar\", \"Andhra Pradesh\", \"Arunachal Pradesh\", \"Arunachal Pradesh\", \"West Bengal\", \"Odisha\", \"Kerala\", \"Bihar\", \"Maharashtra\", \"Assam\", \"Uttar Pradesh\", \"Uttar Pradesh\", \"Karnataka\", \"Uttar Pradesh\", \"West Bengal\", \"Uttar Pradesh\", \"Madhya Pradesh\", \"Odisha\", \"Uttar Pradesh\", \"West Bengal\", \"Gujarat\", \"Uttar Pradesh\", \"Karnataka\", \"Karnataka\", \"Karnataka\", \"Karnataka\", \"West Bengal\", \"Bihar\", \"West Bengal\", \"Uttar Pradesh\", \"Rajasthan\", \"Andhra Pradesh\", \"Uttar Pradesh\", \"Maharashtra\", \"Jammu & Kashmir\", \"West Bengal\", \"West Bengal\", \"West Bengal\", \"Gujarat\", \"Uttar Pradesh\", \"Odisha\", \"Rajasthan\", \"Assam\", \"West Bengal\", \"West Bengal\", \"Chhattisgarh\", \"Uttar Pradesh\", \"Punjab\", \"Maharashtra\", \"Bihar\", \"Karnataka\", \"Karnataka\", \"Odisha\", \"Madhya Pradesh\", \"Uttar Pradesh\", \"Odisha\", \"Bihar\", \"Maharashtra\", \"Rajasthan\", \"Gujarat\", \"Gujarat\", \"Rajasthan\", \"Madhya Pradesh\", \"Maharashtra\", \"Haryana\", \"Telangana\", \"Madhya Pradesh\", \"Odisha\", \"Karnataka\", \"Karnataka\", \"Uttar Pradesh\", \"Rajasthan\", \"Chhattisgarh\", \"West Bengal\", \"West Bengal\", \"Odisha\", \"West Bengal\", \"Uttar Pradesh\", \"Maharashtra\", \"Bihar\", \"Kerala\", \"Karnataka\", \"Uttar Pradesh\", \"Chandigarh\", \"NCT OF Delhi\", \"Maharashtra\", \"Jharkhand\", \"Tamil Nadu\", \"Tamil Nadu\", \"Tamil Nadu\", \"Telangana\", \"Madhya Pradesh\", \"Gujarat\", \"Tamil Nadu\", \"Karnataka\", \"Karnataka\", \"Karnataka\", \"Andhra Pradesh\", \"Rajasthan\", \"Rajasthan\", \"Tamil Nadu\", \"West Bengal\", \"Tamil Nadu\", \"Odisha\", \"Dadra & Nagar Haveli\", \"Gujarat\", \"Karnataka\", \"Daman & Diu\", \"Madhya Pradesh\", \"Bihar\", \"West Bengal\", \"Rajasthan\", \"Karnataka\", \"Uttar Pradesh\", \"Madhya Pradesh\", \"Jharkhand\", \"Madhya Pradesh\", \"Tamil Nadu\", \"Karnataka\", \"Uttar Pradesh\", \"Odisha\", \"Assam\", \"Maharashtra\", \"West Bengal\", \"Assam\", \"Tamil Nadu\", \"Maharashtra\", \"Uttar Pradesh\", \"West Bengal\", \"Jharkhand\", \"Chhattisgarh\", \"NCT OF Delhi\", \"Andhra Pradesh\", \"Kerala\", \"Tamil Nadu\", \"Uttar Pradesh\", \"Uttar Pradesh\", \"Uttar Pradesh\", \"Haryana\", \"Punjab\", \"Uttar Pradesh\", \"Punjab\", \"Uttar Pradesh\", \"Uttar Pradesh\", \"Uttar Pradesh\", \"Punjab\", \"Maharashtra\", \"Gujarat\", \"Rajasthan\", \"Uttarakhand\", \"Assam\", \"Uttar Pradesh\", \"Bihar\", \"West Bengal\", \"Uttar Pradesh\", \"Uttar Pradesh\", \"Uttar Pradesh\", \"Jharkhand\", \"Jharkhand\", \"Uttar Pradesh\", \"Bihar\", \"Uttar Pradesh\", \"Karnataka\", \"Madhya Pradesh\", \"Andhra Pradesh\", \"Punjab\", \"Haryana\", \"Madhya Pradesh\", \"Bihar\", \"Himachal Pradesh\", \"Uttar Pradesh\", \"Uttar Pradesh\", \"Uttarakhand\", \"Karnataka\", \"Uttar Pradesh\", \"Maharashtra\", \"Karnataka\", \"Jharkhand\", \"Andhra Pradesh\", \"Maharashtra\", \"Haryana\", \"West Bengal\", \"Madhya Pradesh\", \"Punjab\", \"West Bengal\", \"Telangana\", \"Kerala\", \"Madhya Pradesh\", \"Manipur\", \"Madhya Pradesh\", \"West Bengal\", \"Odisha\", \"Bihar\", \"Rajasthan\", \"Rajasthan\", \"Odisha\", \"Punjab\", \"Uttar Pradesh\", \"Maharashtra\", \"Maharashtra\", \"Rajasthan\", \"West Bengal\", \"Jammu & Kashmir\", \"Gujarat\", \"Jharkhand\", \"Bihar\", \"West Bengal\", \"Chhattisgarh\", \"Uttar Pradesh\", \"West Bengal\", \"Rajasthan\", \"Bihar\", \"Uttar Pradesh\", \"West Bengal\", \"Rajasthan\", \"Rajasthan\", \"Assam\", \"Gujarat\", \"Gujarat\", \"Andhra Pradesh\", \"Uttar Pradesh\", \"Uttar Pradesh\", \"Andhra Pradesh\", \"Odisha\", \"Assam\", \"Tamil Nadu\", \"Maharashtra\", \"Tamil Nadu\", \"Odisha\", \"Himachal Pradesh\", \"Chhattisgarh\", \"Uttar Pradesh\", \"Tamil Nadu\", \"Kerala\", \"Uttar Pradesh\", \"West Bengal\", \"Bihar\", \"Rajasthan\", \"Assam\", \"Telangana\", \"Haryana\", \"Tamil Nadu\", \"Kerala\", \"Bihar\", \"Uttar Pradesh\", \"Odisha\", \"Odisha\", \"Punjab\", \"Bihar\", \"Madhya Pradesh\", \"Telangana\", \"Madhya Pradesh\", \"Madhya Pradesh\", \"Gujarat\", \"Uttar Pradesh\", \"Jharkhand\", \"Bihar\", \"Jharkhand\", \"Assam\", \"Karnataka\", \"Maharashtra\", \"West Bengal\", \"West Bengal\", \"Kerala\", \"Karnataka\", \"Odisha\", \"Chhattisgarh\", \"Rajasthan\", \"Kerala\", \"Kerala\", \"Tamil Nadu\", \"West Bengal\", \"Andhra Pradesh\", \"Haryana\", \"Uttar Pradesh\", \"Jammu & Kashmir\", \"Assam\", \"Lakshadweep\", \"Uttar Pradesh\", \"Maharashtra\", \"Jharkhand\", \"Uttar Pradesh\", \"Punjab\", \"Uttar Pradesh\", \"Andhra Pradesh\", \"Maharashtra\", \"Bihar\", \"Bihar\", \"Tamil Nadu\", \"Telangana\", \"Bihar\", \"Uttar Pradesh\", \"Chhattisgarh\", \"Telangana\", \"Gujarat\", \"Uttar Pradesh\", \"Kerala\", \"West Bengal\", \"West Bengal\", \"Telangana\", \"Himachal Pradesh\", \"Madhya Pradesh\", \"Madhya Pradesh\", \"Karnataka\", \"Assam\", \"Uttar Pradesh\", \"West Bengal\", \"Maharashtra\", \"Kerala\", \"Tamil Nadu\", \"Odisha\", \"Telangana\", \"West Bengal\", \"Uttar Pradesh\", \"Uttar Pradesh\", \"Uttar Pradesh\", \"Mizoram\", \"Uttar Pradesh\", \"Uttar Pradesh\", \"Madhya Pradesh\", \"Maharashtra\", \"Maharashtra\", \"Maharashtra\", \"Maharashtra\", \"Maharashtra\", \"Maharashtra\", \"Bihar\", \"West Bengal\", \"Uttar Pradesh\", \"Bihar\", \"Karnataka\", \"Odisha\", \"Nagaland\", \"Tamil Nadu\", \"Telangana\", \"Rajasthan\", \"Uttar Pradesh\", \"Maharashtra\", \"Uttarakhand\", \"Bihar\", \"Telangana\", \"Tamil Nadu\", \"Maharashtra\", \"Maharashtra\", \"Andhra Pradesh\", \"Andhra Pradesh\", \"Andhra Pradesh\", \"Maharashtra\", \"Gujarat\", \"Bihar\", \"Andhra Pradesh\", \"NCT OF Delhi\", \"Tamil Nadu\", \"Telangana\", \"NCT OF Delhi\", \"Goa\", \"NCT OF Delhi\", \"Assam\", \"Andhra Pradesh\", \"Maharashtra\", \"Manipur\", \"Kerala\", \"Jharkhand\", \"Maharashtra\", \"Rajasthan\", \"Gujarat\", \"Maharashtra\", \"Bihar\", \"Bihar\", \"Gujarat\", \"Kerala\", \"Punjab\", \"Bihar\", \"Telangana\", \"Tamil Nadu\", \"Uttar Pradesh\", \"Uttar Pradesh\", \"Tamil Nadu\", \"Kerala\", \"Gujarat\", \"Uttar Pradesh\", \"Puducherry\", \"Maharashtra\", \"Odisha\", \"Bihar\", \"West Bengal\", \"Bihar\", \"Uttar Pradesh\", \"Karnataka\", \"Maharashtra\", \"West Bengal\", \"Chhattisgarh\", \"Chhattisgarh\", \"Andhra Pradesh\", \"Andhra Pradesh\", \"Madhya Pradesh\", \"Gujarat\", \"Jharkhand\", \"Chhattisgarh\", \"Rajasthan\", \"Tamil Nadu\", \"Uttar Pradesh\", \"Maharashtra\", \"West Bengal\", \"Jharkhand\", \"Madhya Pradesh\", \"Maharashtra\", \"Maharashtra\", \"Madhya Pradesh\", \"Uttar Pradesh\", \"Haryana\", \"Gujarat\", \"Madhya Pradesh\", \"Uttar Pradesh\", \"Tamil Nadu\", \"Uttar Pradesh\", \"Bihar\", \"Odisha\", \"Uttar Pradesh\", \"Maharashtra\", \"Punjab\", \"Uttar Pradesh\", \"Bihar\", \"Chhattisgarh\", \"Bihar\", \"Maharashtra\", \"Madhya Pradesh\", \"Telangana\", \"Madhya Pradesh\", \"Uttar Pradesh\", \"Bihar\", \"Meghalaya\", \"Himachal Pradesh\", \"Karnataka\", \"Maharashtra\", \"Maharashtra\", \"Uttar Pradesh\", \"Madhya Pradesh\", \"Rajasthan\", \"Sikkim\", \"Assam\", \"Jharkhand\", \"Haryana\", \"Bihar\", \"Uttar Pradesh\", \"Tamil Nadu\", \"Bihar\", \"Maharashtra\", \"Haryana\", \"NCT OF Delhi\", \"Goa\", \"West Bengal\", \"Andhra Pradesh\", \"Jammu & Kashmir\", \"Tamil Nadu\", \"Uttar Pradesh\", \"Odisha\", \"Bihar\", \"Gujarat\", \"Gujarat\", \"West Bengal\", \"Uttarakhand\", \"Tamil Nadu\", \"Assam\", \"Maharashtra\", \"Tamil Nadu\", \"Tamil Nadu\", \"Tamil Nadu\", \"Kerala\", \"Tamil Nadu\", \"Kerala\", \"Madhya Pradesh\", \"Tamil Nadu\", \"Tamil Nadu\", \"Andhra Pradesh\", \"Tamil Nadu\", \"Tamil Nadu\", \"Rajasthan\", \"Tripura\", \"Tripura\", \"Karnataka\", \"Meghalaya\", \"Rajasthan\", \"Jammu & Kashmir\", \"Karnataka\", \"Bihar\", \"Madhya Pradesh\", \"West Bengal\", \"Uttar Pradesh\", \"Karnataka\", \"Kerala\", \"Gujarat\", \"Bihar\", \"Bihar\", \"Gujarat\", \"Uttar Pradesh\", \"Madhya Pradesh\", \"Andhra Pradesh\", \"Tamil Nadu\", \"Tamil Nadu\", \"Andhra Pradesh\", \"Andhra Pradesh\", \"Telangana\", \"Maharashtra\", \"Kerala\", \"NCT OF Delhi\", \"Maharashtra\", \"Telangana\", \"\", \"\", \"\", \"\", \"\", \"\", \"\", \"\", \"\", \"\", \"\", \"\", \"\", \"\", \"\", \"\", \"\", \"\", \"\", \"\", \"\", \"\", \"\", \"\", \"\", \"\", \"\", \"\", \"\", \"\", \"\", \"\", \"\", \"\", \"\", \"\"], \"type\": \"sunburst\", \"values\": [4469370, 5813070, 5584188, 3623702, 4929951, 7505384, 5298363, 5595507, 4070103, 3800382, 5661381, 6593532, 6864640, 4013424, 5665572, 4378668, 7414844, 5356971, 3487030, 7332364, 4885353, 6031500, 4939305, 6085452, 3311740, 6795504, 6656640, 8386674, 1592355, 5356815, 7500080, 7058904, 7245750, 3610878, 8357412, 10159926, 1698940, 2318875, 8079325, 4623435, 4052130, 15685947, 7545136, 3979725, 3578336, 5674728, 3408020, 3232952, 8191890, 5189724, 7070900, 4595343, 5467875, 5726816, 8486920, 6808096, 6614451, 5698500, 7492374, 4430978, 6818528, 11895758, 6595624, 3502516, 9876840, 5874684, 5450490, 6343989, 9224166, 6873008, 6934312, 6792356, 3653052, 5392965, 4788870, 5823693, 6740596, 5745724, 6713428, 9653854, 7380892, 6486684, 8181620, 7833528, 3558700, 3503468, 4507365, 5212311, 5827542, 4984983, 3647640, 9057780, 5831382, 6258076, 3536594, 7989312, 5296002, 7560400, 6617268, 8140165, 4285722, 5099034, 5325285, 7190348, 4992375, 5554884, 5630859, 8496095, 6508796, 6977784, 8525365, 5363775, 5288754, 7317492, 3690591, 5058999, 7027348, 2586916, 4686849, 5730564, 11401744, 6661500, 7438405, 9867665, 7329336, 6059132, 5013759, 5920888, 7235120, 4837668, 3521266, 6265996, 4031822, 8076416, 9794520, 7256800, 6820190, 4556988, 1500174, 6395756, 5174928, 365220, 5306331, 6619244, 8056585, 5190867, 3266128, 1754195, 5281509, 4145268, 5358453, 7429020, 3454622, 4934022, 4513209, 5575698, 5724519, 6876760, 2628638, 4625643, 6931744, 5656299, 6264784, 8383518, 5820807, 8157208, 4784850, 3737916, 7311230, 3242590, 5273952, 5465355, 6215448, 6167884, 5125755, 6011444, 5517936, 5156511, 5371530, 6473676, 7906830, 3891544, 5830458, 2711592, 6543957, 6908880, 18750556, 7200008, 8186934, 7524308, 9958255, 3298826, 8583830, 5310744, 11037084, 5943591, 3891530, 5027172, 6824476, 6381136, 6452184, 6002232, 10941984, 2724538, 6996400, 5421357, 5522214, 4958997, 5592960, 5329665, 3417020, 8337325, 6312872, 6934916, 6527268, 7066404, 5118423, 6390000, 6535700, 7831724, 3612573, 4701160, 4687320, 5459679, 5450571, 4930785, 11119178, 4254042, 3905084, 4425021, 6468072, 7733432, 5794200, 5601660, 4142488, 6941856, 4094604, 3314332, 3406558, 8594070, 8081065, 5691402, 5603928, 8241775, 3807740, 11114502, 6122217, 6567472, 3875764, 3913510, 4095105, 4928592, 3488642, 3140660, 5000109, 3611892, 4691790, 8055280, 5204814, 6115752, 7862704, 6575968, 3865998, 2854676, 3117904, 3749648, 6005000, 3799650, 4898949, 6640588, 10627524, 5431722, 4020519, 6606172, 9520965, 6936430, 4091811, 3306706, 7148480, 5132748, 4550064, 6555368, 11735178, 5526285, 9082854, 5727165, 7337540, 3608056, 7082796, 4810656, 6638604, 7256500, 8881790, 3259922, 5641488, 6915404, 5776328, 3890160, 3473386, 10040688, 7544200, 3896020, 3620094, 3954072, 6121616, 6526792, 7865045, 8286675, 5284692, 716928, 5124039, 165567, 7007920, 5659971, 7405716, 6121101, 6733300, 5544918, 4420041, 7638296, 7539532, 8963990, 7695130, 9970695, 9038840, 5746224, 4913853, 4518306, 3297738, 3446472, 5482176, 4726770, 6743820, 12601252, 3844386, 9756335, 3521750, 5136012, 5400711, 5423679, 6608384, 6894240, 3924306, 7424210, 5972820, 9619908, 6696944, 5678793, 7380600, 5390796, 3962320, 6070293, 5876817, 5513169, 4942050, 5039673, 4766079, 5196789, 4662528, 5761520, 13216175, 6900748, 3396006, 6922212, 5688999, 5844016, 3641331, 6518245, 7940555, 5799507, 4758351, 8644384, 5485299, 12688854, 6343920, 7067995, 5157966, 7484396, 6412880, 6681564, 7198455, 7540256, 3943316, 7598988, 5018535, 4852410, 5464240, 4660155, 9161968, 1670283, 7136985, 3589296, 4669407, 5669220, 5110495, 3969030, 13170087, 9428000, 4323326, 3489524, 7940912, 6535296, 5776437, 3614086, 4148223, 6958400, 4292016, 7395455, 5567412, 6031431, 3522414, 7602520, 5427212, 4987104, 6835036, 2920230, 6227472, 4686993, 8826560, 6583536, 8293360, 3404496, 5784612, 6611860, 6404880, 5201415, 4223476, 6137024, 6187752, 3388658, 5653017, 7272180, 5149377, 7651644, 7798700, 5038518, 7691056, 7049008, 5747877, 5553336, 8733462, 5325153, 6718136, 10341228, 6948532, 5405151, 4749387, 5217246, 8062560, 6669128, 11753210, 4405590, 5486292, 5427327, 7647155, 5888709, 6669012, 6620956, 7151512, 5545467, 4725192, 7873104, 8282370, 6342603, 13489720, 3593418, 2518170, 3353336, 9522474, 6526587, 7658956, 9227735, 6124836, 1736512, 2391440, 7619502, 9016745, 10514724, 4998378, 7760095, 8997755, 5554962, 6370444, 8269852, 1738056, 7141888, 6215440, 5178684, 11267240, 7100784, 6126100, 13524960, 3311408, 7397716, 6778584, 4480629, 7461585, 4498917, 7112709, 8766312, 6244160, 11681220, 4114281, 7138915, 4011330, 4942197, 7544815, 7739000, 8252265, 7650070, 7369310, 5837976, 5047444, 5411428, 4825635, 2150970, 10347795, 8429080, 4541418, 12898400, 3322458, 6459952, 6574395, 3113198, 3866778, 3589792, 10415898, 9993012, 5013090, 5570373, 5224812, 8264970, 8666010, 5937024, 9146500, 6015920, 8333850, 6973132, 2719358, 7114932, 11497110, 4495998, 1592355, 157661812, 4017815, 68675245, 373933748, 2586916, 63568103, 1500174, 365220, 3408339, 119028011, 73370373, 11941770, 36030136, 100839587, 131214920, 79982176, 165567, 163695551, 321123079, 9797815, 5744388, 3962320, 49380204, 3641331, 112683114, 2920230, 85100123, 144688084, 1736512, 280796425, 127212819, 10458872, 451766863, 22213158, 288147109]}],                        {\"coloraxis\": {\"colorbar\": {\"title\": {\"text\": \"TOTAL ELECTORS\"}}, \"colorscale\": [[0.0, \"rgb(236, 218, 154)\"], [0.16666666666666666, \"rgb(239, 196, 126)\"], [0.3333333333333333, \"rgb(243, 173, 106)\"], [0.5, \"rgb(247, 148, 93)\"], [0.6666666666666666, \"rgb(249, 123, 87)\"], [0.8333333333333334, \"rgb(246, 99, 86)\"], [1.0, \"rgb(238, 77, 90)\"]]}, \"font\": {\"color\": \"#351f39\", \"family\": \"Courier New\"}, \"legend\": {\"tracegroupgap\": 0}, \"margin\": {\"t\": 60}, \"template\": {\"data\": {\"bar\": [{\"error_x\": {\"color\": \"#2a3f5f\"}, \"error_y\": {\"color\": \"#2a3f5f\"}, \"marker\": {\"line\": {\"color\": \"#E5ECF6\", \"width\": 0.5}}, \"type\": \"bar\"}], \"barpolar\": [{\"marker\": {\"line\": {\"color\": \"#E5ECF6\", \"width\": 0.5}}, \"type\": \"barpolar\"}], \"carpet\": [{\"aaxis\": {\"endlinecolor\": \"#2a3f5f\", \"gridcolor\": \"white\", \"linecolor\": \"white\", \"minorgridcolor\": \"white\", \"startlinecolor\": \"#2a3f5f\"}, \"baxis\": {\"endlinecolor\": \"#2a3f5f\", \"gridcolor\": \"white\", \"linecolor\": \"white\", \"minorgridcolor\": \"white\", \"startlinecolor\": \"#2a3f5f\"}, \"type\": \"carpet\"}], \"choropleth\": [{\"colorbar\": {\"outlinewidth\": 0, \"ticks\": \"\"}, \"type\": \"choropleth\"}], \"contour\": [{\"colorbar\": {\"outlinewidth\": 0, \"ticks\": \"\"}, \"colorscale\": [[0.0, \"#0d0887\"], [0.1111111111111111, \"#46039f\"], [0.2222222222222222, \"#7201a8\"], [0.3333333333333333, \"#9c179e\"], [0.4444444444444444, \"#bd3786\"], [0.5555555555555556, \"#d8576b\"], [0.6666666666666666, \"#ed7953\"], [0.7777777777777778, \"#fb9f3a\"], [0.8888888888888888, \"#fdca26\"], [1.0, \"#f0f921\"]], \"type\": \"contour\"}], \"contourcarpet\": [{\"colorbar\": {\"outlinewidth\": 0, \"ticks\": \"\"}, \"type\": \"contourcarpet\"}], \"heatmap\": [{\"colorbar\": {\"outlinewidth\": 0, \"ticks\": \"\"}, \"colorscale\": [[0.0, \"#0d0887\"], [0.1111111111111111, \"#46039f\"], [0.2222222222222222, \"#7201a8\"], [0.3333333333333333, \"#9c179e\"], [0.4444444444444444, \"#bd3786\"], [0.5555555555555556, \"#d8576b\"], [0.6666666666666666, \"#ed7953\"], [0.7777777777777778, \"#fb9f3a\"], [0.8888888888888888, \"#fdca26\"], [1.0, \"#f0f921\"]], \"type\": \"heatmap\"}], \"heatmapgl\": [{\"colorbar\": {\"outlinewidth\": 0, \"ticks\": \"\"}, \"colorscale\": [[0.0, \"#0d0887\"], [0.1111111111111111, \"#46039f\"], [0.2222222222222222, \"#7201a8\"], [0.3333333333333333, \"#9c179e\"], [0.4444444444444444, \"#bd3786\"], [0.5555555555555556, \"#d8576b\"], [0.6666666666666666, \"#ed7953\"], [0.7777777777777778, \"#fb9f3a\"], [0.8888888888888888, \"#fdca26\"], [1.0, \"#f0f921\"]], \"type\": \"heatmapgl\"}], \"histogram\": [{\"marker\": {\"colorbar\": {\"outlinewidth\": 0, \"ticks\": \"\"}}, \"type\": \"histogram\"}], \"histogram2d\": [{\"colorbar\": {\"outlinewidth\": 0, \"ticks\": \"\"}, \"colorscale\": [[0.0, \"#0d0887\"], [0.1111111111111111, \"#46039f\"], [0.2222222222222222, \"#7201a8\"], [0.3333333333333333, \"#9c179e\"], [0.4444444444444444, \"#bd3786\"], [0.5555555555555556, \"#d8576b\"], [0.6666666666666666, \"#ed7953\"], [0.7777777777777778, \"#fb9f3a\"], [0.8888888888888888, \"#fdca26\"], [1.0, \"#f0f921\"]], \"type\": \"histogram2d\"}], \"histogram2dcontour\": [{\"colorbar\": {\"outlinewidth\": 0, \"ticks\": \"\"}, \"colorscale\": [[0.0, \"#0d0887\"], [0.1111111111111111, \"#46039f\"], [0.2222222222222222, \"#7201a8\"], [0.3333333333333333, \"#9c179e\"], [0.4444444444444444, \"#bd3786\"], [0.5555555555555556, \"#d8576b\"], [0.6666666666666666, \"#ed7953\"], [0.7777777777777778, \"#fb9f3a\"], [0.8888888888888888, \"#fdca26\"], [1.0, \"#f0f921\"]], \"type\": \"histogram2dcontour\"}], \"mesh3d\": [{\"colorbar\": {\"outlinewidth\": 0, \"ticks\": \"\"}, \"type\": \"mesh3d\"}], \"parcoords\": [{\"line\": {\"colorbar\": {\"outlinewidth\": 0, \"ticks\": \"\"}}, \"type\": \"parcoords\"}], \"pie\": [{\"automargin\": true, \"type\": \"pie\"}], \"scatter\": [{\"marker\": {\"colorbar\": {\"outlinewidth\": 0, \"ticks\": \"\"}}, \"type\": \"scatter\"}], \"scatter3d\": [{\"line\": {\"colorbar\": {\"outlinewidth\": 0, \"ticks\": \"\"}}, \"marker\": {\"colorbar\": {\"outlinewidth\": 0, \"ticks\": \"\"}}, \"type\": \"scatter3d\"}], \"scattercarpet\": [{\"marker\": {\"colorbar\": {\"outlinewidth\": 0, \"ticks\": \"\"}}, \"type\": \"scattercarpet\"}], \"scattergeo\": [{\"marker\": {\"colorbar\": {\"outlinewidth\": 0, \"ticks\": \"\"}}, \"type\": \"scattergeo\"}], \"scattergl\": [{\"marker\": {\"colorbar\": {\"outlinewidth\": 0, \"ticks\": \"\"}}, \"type\": \"scattergl\"}], \"scattermapbox\": [{\"marker\": {\"colorbar\": {\"outlinewidth\": 0, \"ticks\": \"\"}}, \"type\": \"scattermapbox\"}], \"scatterpolar\": [{\"marker\": {\"colorbar\": {\"outlinewidth\": 0, \"ticks\": \"\"}}, \"type\": \"scatterpolar\"}], \"scatterpolargl\": [{\"marker\": {\"colorbar\": {\"outlinewidth\": 0, \"ticks\": \"\"}}, \"type\": \"scatterpolargl\"}], \"scatterternary\": [{\"marker\": {\"colorbar\": {\"outlinewidth\": 0, \"ticks\": \"\"}}, \"type\": \"scatterternary\"}], \"surface\": [{\"colorbar\": {\"outlinewidth\": 0, \"ticks\": \"\"}, \"colorscale\": [[0.0, \"#0d0887\"], [0.1111111111111111, \"#46039f\"], [0.2222222222222222, \"#7201a8\"], [0.3333333333333333, \"#9c179e\"], [0.4444444444444444, \"#bd3786\"], [0.5555555555555556, \"#d8576b\"], [0.6666666666666666, \"#ed7953\"], [0.7777777777777778, \"#fb9f3a\"], [0.8888888888888888, \"#fdca26\"], [1.0, \"#f0f921\"]], \"type\": \"surface\"}], \"table\": [{\"cells\": {\"fill\": {\"color\": \"#EBF0F8\"}, \"line\": {\"color\": \"white\"}}, \"header\": {\"fill\": {\"color\": \"#C8D4E3\"}, \"line\": {\"color\": \"white\"}}, \"type\": \"table\"}]}, \"layout\": {\"annotationdefaults\": {\"arrowcolor\": \"#2a3f5f\", \"arrowhead\": 0, \"arrowwidth\": 1}, \"coloraxis\": {\"colorbar\": {\"outlinewidth\": 0, \"ticks\": \"\"}}, \"colorscale\": {\"diverging\": [[0, \"#8e0152\"], [0.1, \"#c51b7d\"], [0.2, \"#de77ae\"], [0.3, \"#f1b6da\"], [0.4, \"#fde0ef\"], [0.5, \"#f7f7f7\"], [0.6, \"#e6f5d0\"], [0.7, \"#b8e186\"], [0.8, \"#7fbc41\"], [0.9, \"#4d9221\"], [1, \"#276419\"]], \"sequential\": [[0.0, \"#0d0887\"], [0.1111111111111111, \"#46039f\"], [0.2222222222222222, \"#7201a8\"], [0.3333333333333333, \"#9c179e\"], [0.4444444444444444, \"#bd3786\"], [0.5555555555555556, \"#d8576b\"], [0.6666666666666666, \"#ed7953\"], [0.7777777777777778, \"#fb9f3a\"], [0.8888888888888888, \"#fdca26\"], [1.0, \"#f0f921\"]], \"sequentialminus\": [[0.0, \"#0d0887\"], [0.1111111111111111, \"#46039f\"], [0.2222222222222222, \"#7201a8\"], [0.3333333333333333, \"#9c179e\"], [0.4444444444444444, \"#bd3786\"], [0.5555555555555556, \"#d8576b\"], [0.6666666666666666, \"#ed7953\"], [0.7777777777777778, \"#fb9f3a\"], [0.8888888888888888, \"#fdca26\"], [1.0, \"#f0f921\"]]}, \"colorway\": [\"#636efa\", \"#EF553B\", \"#00cc96\", \"#ab63fa\", \"#FFA15A\", \"#19d3f3\", \"#FF6692\", \"#B6E880\", \"#FF97FF\", \"#FECB52\"], \"font\": {\"color\": \"#2a3f5f\"}, \"geo\": {\"bgcolor\": \"white\", \"lakecolor\": \"white\", \"landcolor\": \"#E5ECF6\", \"showlakes\": true, \"showland\": true, \"subunitcolor\": \"white\"}, \"hoverlabel\": {\"align\": \"left\"}, \"hovermode\": \"closest\", \"mapbox\": {\"style\": \"light\"}, \"paper_bgcolor\": \"white\", \"plot_bgcolor\": \"#E5ECF6\", \"polar\": {\"angularaxis\": {\"gridcolor\": \"white\", \"linecolor\": \"white\", \"ticks\": \"\"}, \"bgcolor\": \"#E5ECF6\", \"radialaxis\": {\"gridcolor\": \"white\", \"linecolor\": \"white\", \"ticks\": \"\"}}, \"scene\": {\"xaxis\": {\"backgroundcolor\": \"#E5ECF6\", \"gridcolor\": \"white\", \"gridwidth\": 2, \"linecolor\": \"white\", \"showbackground\": true, \"ticks\": \"\", \"zerolinecolor\": \"white\"}, \"yaxis\": {\"backgroundcolor\": \"#E5ECF6\", \"gridcolor\": \"white\", \"gridwidth\": 2, \"linecolor\": \"white\", \"showbackground\": true, \"ticks\": \"\", \"zerolinecolor\": \"white\"}, \"zaxis\": {\"backgroundcolor\": \"#E5ECF6\", \"gridcolor\": \"white\", \"gridwidth\": 2, \"linecolor\": \"white\", \"showbackground\": true, \"ticks\": \"\", \"zerolinecolor\": \"white\"}}, \"shapedefaults\": {\"line\": {\"color\": \"#2a3f5f\"}}, \"ternary\": {\"aaxis\": {\"gridcolor\": \"white\", \"linecolor\": \"white\", \"ticks\": \"\"}, \"baxis\": {\"gridcolor\": \"white\", \"linecolor\": \"white\", \"ticks\": \"\"}, \"bgcolor\": \"#E5ECF6\", \"caxis\": {\"gridcolor\": \"white\", \"linecolor\": \"white\", \"ticks\": \"\"}}, \"title\": {\"x\": 0.05}, \"xaxis\": {\"automargin\": true, \"gridcolor\": \"white\", \"linecolor\": \"white\", \"ticks\": \"\", \"title\": {\"standoff\": 15}, \"zerolinecolor\": \"white\", \"zerolinewidth\": 2}, \"yaxis\": {\"automargin\": true, \"gridcolor\": \"white\", \"linecolor\": \"white\", \"ticks\": \"\", \"title\": {\"standoff\": 15}, \"zerolinecolor\": \"white\", \"zerolinewidth\": 2}}}, \"title\": {\"font\": {\"color\": \"#351f39\", \"family\": \"Courier New\"}, \"text\": \"State and Constituency by total electors\"}, \"xaxis\": {\"title\": {\"text\": \"Party\"}}, \"yaxis\": {\"title\": {\"text\": \"Seats\"}}},                        {\"responsive\": true}                    ).then(function(){\n",
       "                            \n",
       "var gd = document.getElementById('4cf382be-4831-4814-9037-114708d792a4');\n",
       "var x = new MutationObserver(function (mutations, observer) {{\n",
       "        var display = window.getComputedStyle(gd).display;\n",
       "        if (!display || display === 'none') {{\n",
       "            console.log([gd, 'removed!']);\n",
       "            Plotly.purge(gd);\n",
       "            observer.disconnect();\n",
       "        }}\n",
       "}});\n",
       "\n",
       "// Listen for the removal of the full notebook cells\n",
       "var notebookContainer = gd.closest('#notebook-container');\n",
       "if (notebookContainer) {{\n",
       "    x.observe(notebookContainer, {childList: true});\n",
       "}}\n",
       "\n",
       "// Listen for the clearing of the current output cell\n",
       "var outputEl = gd.closest('.output');\n",
       "if (outputEl) {{\n",
       "    x.observe(outputEl, {childList: true});\n",
       "}}\n",
       "\n",
       "                        })                };                });            </script>        </div>"
      ]
     },
     "metadata": {},
     "output_type": "display_data"
    }
   ],
   "source": [
    "state_df = df_NOTA[['STATE','CONSTITUENCY','TOTAL ELECTORS']]\n",
    "state_fig = px.sunburst(state_df, \n",
    "                        path=['STATE','CONSTITUENCY'], \n",
    "                        values='TOTAL ELECTORS',\n",
    "                        color='TOTAL ELECTORS',\n",
    "                        color_continuous_scale='Oryel')\n",
    "state_fig.update_layout(title_text='State and Constituency by total electors',\n",
    "                       font_family=\"Courier New\",\n",
    "                         font_color=\"#351f39\",\n",
    "                         title_font_family=\"Courier New\",\n",
    "                         title_font_color=\"#351f39\",\n",
    "                         xaxis_title=\"Party\",\n",
    "                         yaxis_title=\"Seats\")\n",
    "state_fig.show()"
   ]
  },
  {
   "cell_type": "markdown",
   "metadata": {},
   "source": [
    "### 6.2 Lok Sabha 2019 Election Results : Top 20 Political Parties"
   ]
  },
  {
   "cell_type": "code",
   "execution_count": 18,
   "metadata": {},
   "outputs": [
    {
     "data": {
      "application/vnd.plotly.v1+json": {
       "config": {
        "plotlyServerURL": "https://plot.ly"
       },
       "data": [
        {
         "alignmentgroup": "True",
         "hovertemplate": "x=%{x}<br>y=%{y}<br>color=%{marker.color}<extra></extra>",
         "legendgroup": "",
         "marker": {
          "color": [
           300,
           52,
           23,
           22,
           22,
           18,
           16,
           11,
           11,
           9,
           6,
           5,
           5,
           5,
           4,
           3,
           3,
           3,
           2,
           2
          ],
          "coloraxis": "coloraxis"
         },
         "name": "",
         "offsetgroup": "",
         "orientation": "v",
         "showlegend": false,
         "textposition": "auto",
         "type": "bar",
         "x": [
          "BJP",
          "INC",
          "DMK",
          "AITC",
          "YSRCP",
          "SHS",
          "JD(U)",
          "BJD",
          "BSP",
          "TRS",
          "LJP",
          "NCP",
          "SP",
          "CPI(M)",
          "IND",
          "IUML",
          "TDP",
          "JKN",
          "ADAL",
          "AIMIM"
         ],
         "xaxis": "x",
         "y": [
          300,
          52,
          23,
          22,
          22,
          18,
          16,
          11,
          11,
          9,
          6,
          5,
          5,
          5,
          4,
          3,
          3,
          3,
          2,
          2
         ],
         "yaxis": "y"
        }
       ],
       "layout": {
        "barmode": "relative",
        "coloraxis": {
         "colorbar": {
          "title": {
           "text": "color"
          }
         },
         "colorscale": [
          [
           0,
           "rgb(236, 218, 154)"
          ],
          [
           0.16666666666666666,
           "rgb(239, 196, 126)"
          ],
          [
           0.3333333333333333,
           "rgb(243, 173, 106)"
          ],
          [
           0.5,
           "rgb(247, 148, 93)"
          ],
          [
           0.6666666666666666,
           "rgb(249, 123, 87)"
          ],
          [
           0.8333333333333334,
           "rgb(246, 99, 86)"
          ],
          [
           1,
           "rgb(238, 77, 90)"
          ]
         ]
        },
        "font": {
         "color": "#351f39",
         "family": "Courier New"
        },
        "height": 500,
        "legend": {
         "tracegroupgap": 0
        },
        "margin": {
         "t": 60
        },
        "template": {
         "data": {
          "bar": [
           {
            "error_x": {
             "color": "#2a3f5f"
            },
            "error_y": {
             "color": "#2a3f5f"
            },
            "marker": {
             "line": {
              "color": "#E5ECF6",
              "width": 0.5
             }
            },
            "type": "bar"
           }
          ],
          "barpolar": [
           {
            "marker": {
             "line": {
              "color": "#E5ECF6",
              "width": 0.5
             }
            },
            "type": "barpolar"
           }
          ],
          "carpet": [
           {
            "aaxis": {
             "endlinecolor": "#2a3f5f",
             "gridcolor": "white",
             "linecolor": "white",
             "minorgridcolor": "white",
             "startlinecolor": "#2a3f5f"
            },
            "baxis": {
             "endlinecolor": "#2a3f5f",
             "gridcolor": "white",
             "linecolor": "white",
             "minorgridcolor": "white",
             "startlinecolor": "#2a3f5f"
            },
            "type": "carpet"
           }
          ],
          "choropleth": [
           {
            "colorbar": {
             "outlinewidth": 0,
             "ticks": ""
            },
            "type": "choropleth"
           }
          ],
          "contour": [
           {
            "colorbar": {
             "outlinewidth": 0,
             "ticks": ""
            },
            "colorscale": [
             [
              0,
              "#0d0887"
             ],
             [
              0.1111111111111111,
              "#46039f"
             ],
             [
              0.2222222222222222,
              "#7201a8"
             ],
             [
              0.3333333333333333,
              "#9c179e"
             ],
             [
              0.4444444444444444,
              "#bd3786"
             ],
             [
              0.5555555555555556,
              "#d8576b"
             ],
             [
              0.6666666666666666,
              "#ed7953"
             ],
             [
              0.7777777777777778,
              "#fb9f3a"
             ],
             [
              0.8888888888888888,
              "#fdca26"
             ],
             [
              1,
              "#f0f921"
             ]
            ],
            "type": "contour"
           }
          ],
          "contourcarpet": [
           {
            "colorbar": {
             "outlinewidth": 0,
             "ticks": ""
            },
            "type": "contourcarpet"
           }
          ],
          "heatmap": [
           {
            "colorbar": {
             "outlinewidth": 0,
             "ticks": ""
            },
            "colorscale": [
             [
              0,
              "#0d0887"
             ],
             [
              0.1111111111111111,
              "#46039f"
             ],
             [
              0.2222222222222222,
              "#7201a8"
             ],
             [
              0.3333333333333333,
              "#9c179e"
             ],
             [
              0.4444444444444444,
              "#bd3786"
             ],
             [
              0.5555555555555556,
              "#d8576b"
             ],
             [
              0.6666666666666666,
              "#ed7953"
             ],
             [
              0.7777777777777778,
              "#fb9f3a"
             ],
             [
              0.8888888888888888,
              "#fdca26"
             ],
             [
              1,
              "#f0f921"
             ]
            ],
            "type": "heatmap"
           }
          ],
          "heatmapgl": [
           {
            "colorbar": {
             "outlinewidth": 0,
             "ticks": ""
            },
            "colorscale": [
             [
              0,
              "#0d0887"
             ],
             [
              0.1111111111111111,
              "#46039f"
             ],
             [
              0.2222222222222222,
              "#7201a8"
             ],
             [
              0.3333333333333333,
              "#9c179e"
             ],
             [
              0.4444444444444444,
              "#bd3786"
             ],
             [
              0.5555555555555556,
              "#d8576b"
             ],
             [
              0.6666666666666666,
              "#ed7953"
             ],
             [
              0.7777777777777778,
              "#fb9f3a"
             ],
             [
              0.8888888888888888,
              "#fdca26"
             ],
             [
              1,
              "#f0f921"
             ]
            ],
            "type": "heatmapgl"
           }
          ],
          "histogram": [
           {
            "marker": {
             "colorbar": {
              "outlinewidth": 0,
              "ticks": ""
             }
            },
            "type": "histogram"
           }
          ],
          "histogram2d": [
           {
            "colorbar": {
             "outlinewidth": 0,
             "ticks": ""
            },
            "colorscale": [
             [
              0,
              "#0d0887"
             ],
             [
              0.1111111111111111,
              "#46039f"
             ],
             [
              0.2222222222222222,
              "#7201a8"
             ],
             [
              0.3333333333333333,
              "#9c179e"
             ],
             [
              0.4444444444444444,
              "#bd3786"
             ],
             [
              0.5555555555555556,
              "#d8576b"
             ],
             [
              0.6666666666666666,
              "#ed7953"
             ],
             [
              0.7777777777777778,
              "#fb9f3a"
             ],
             [
              0.8888888888888888,
              "#fdca26"
             ],
             [
              1,
              "#f0f921"
             ]
            ],
            "type": "histogram2d"
           }
          ],
          "histogram2dcontour": [
           {
            "colorbar": {
             "outlinewidth": 0,
             "ticks": ""
            },
            "colorscale": [
             [
              0,
              "#0d0887"
             ],
             [
              0.1111111111111111,
              "#46039f"
             ],
             [
              0.2222222222222222,
              "#7201a8"
             ],
             [
              0.3333333333333333,
              "#9c179e"
             ],
             [
              0.4444444444444444,
              "#bd3786"
             ],
             [
              0.5555555555555556,
              "#d8576b"
             ],
             [
              0.6666666666666666,
              "#ed7953"
             ],
             [
              0.7777777777777778,
              "#fb9f3a"
             ],
             [
              0.8888888888888888,
              "#fdca26"
             ],
             [
              1,
              "#f0f921"
             ]
            ],
            "type": "histogram2dcontour"
           }
          ],
          "mesh3d": [
           {
            "colorbar": {
             "outlinewidth": 0,
             "ticks": ""
            },
            "type": "mesh3d"
           }
          ],
          "parcoords": [
           {
            "line": {
             "colorbar": {
              "outlinewidth": 0,
              "ticks": ""
             }
            },
            "type": "parcoords"
           }
          ],
          "pie": [
           {
            "automargin": true,
            "type": "pie"
           }
          ],
          "scatter": [
           {
            "marker": {
             "colorbar": {
              "outlinewidth": 0,
              "ticks": ""
             }
            },
            "type": "scatter"
           }
          ],
          "scatter3d": [
           {
            "line": {
             "colorbar": {
              "outlinewidth": 0,
              "ticks": ""
             }
            },
            "marker": {
             "colorbar": {
              "outlinewidth": 0,
              "ticks": ""
             }
            },
            "type": "scatter3d"
           }
          ],
          "scattercarpet": [
           {
            "marker": {
             "colorbar": {
              "outlinewidth": 0,
              "ticks": ""
             }
            },
            "type": "scattercarpet"
           }
          ],
          "scattergeo": [
           {
            "marker": {
             "colorbar": {
              "outlinewidth": 0,
              "ticks": ""
             }
            },
            "type": "scattergeo"
           }
          ],
          "scattergl": [
           {
            "marker": {
             "colorbar": {
              "outlinewidth": 0,
              "ticks": ""
             }
            },
            "type": "scattergl"
           }
          ],
          "scattermapbox": [
           {
            "marker": {
             "colorbar": {
              "outlinewidth": 0,
              "ticks": ""
             }
            },
            "type": "scattermapbox"
           }
          ],
          "scatterpolar": [
           {
            "marker": {
             "colorbar": {
              "outlinewidth": 0,
              "ticks": ""
             }
            },
            "type": "scatterpolar"
           }
          ],
          "scatterpolargl": [
           {
            "marker": {
             "colorbar": {
              "outlinewidth": 0,
              "ticks": ""
             }
            },
            "type": "scatterpolargl"
           }
          ],
          "scatterternary": [
           {
            "marker": {
             "colorbar": {
              "outlinewidth": 0,
              "ticks": ""
             }
            },
            "type": "scatterternary"
           }
          ],
          "surface": [
           {
            "colorbar": {
             "outlinewidth": 0,
             "ticks": ""
            },
            "colorscale": [
             [
              0,
              "#0d0887"
             ],
             [
              0.1111111111111111,
              "#46039f"
             ],
             [
              0.2222222222222222,
              "#7201a8"
             ],
             [
              0.3333333333333333,
              "#9c179e"
             ],
             [
              0.4444444444444444,
              "#bd3786"
             ],
             [
              0.5555555555555556,
              "#d8576b"
             ],
             [
              0.6666666666666666,
              "#ed7953"
             ],
             [
              0.7777777777777778,
              "#fb9f3a"
             ],
             [
              0.8888888888888888,
              "#fdca26"
             ],
             [
              1,
              "#f0f921"
             ]
            ],
            "type": "surface"
           }
          ],
          "table": [
           {
            "cells": {
             "fill": {
              "color": "#EBF0F8"
             },
             "line": {
              "color": "white"
             }
            },
            "header": {
             "fill": {
              "color": "#C8D4E3"
             },
             "line": {
              "color": "white"
             }
            },
            "type": "table"
           }
          ]
         },
         "layout": {
          "annotationdefaults": {
           "arrowcolor": "#2a3f5f",
           "arrowhead": 0,
           "arrowwidth": 1
          },
          "coloraxis": {
           "colorbar": {
            "outlinewidth": 0,
            "ticks": ""
           }
          },
          "colorscale": {
           "diverging": [
            [
             0,
             "#8e0152"
            ],
            [
             0.1,
             "#c51b7d"
            ],
            [
             0.2,
             "#de77ae"
            ],
            [
             0.3,
             "#f1b6da"
            ],
            [
             0.4,
             "#fde0ef"
            ],
            [
             0.5,
             "#f7f7f7"
            ],
            [
             0.6,
             "#e6f5d0"
            ],
            [
             0.7,
             "#b8e186"
            ],
            [
             0.8,
             "#7fbc41"
            ],
            [
             0.9,
             "#4d9221"
            ],
            [
             1,
             "#276419"
            ]
           ],
           "sequential": [
            [
             0,
             "#0d0887"
            ],
            [
             0.1111111111111111,
             "#46039f"
            ],
            [
             0.2222222222222222,
             "#7201a8"
            ],
            [
             0.3333333333333333,
             "#9c179e"
            ],
            [
             0.4444444444444444,
             "#bd3786"
            ],
            [
             0.5555555555555556,
             "#d8576b"
            ],
            [
             0.6666666666666666,
             "#ed7953"
            ],
            [
             0.7777777777777778,
             "#fb9f3a"
            ],
            [
             0.8888888888888888,
             "#fdca26"
            ],
            [
             1,
             "#f0f921"
            ]
           ],
           "sequentialminus": [
            [
             0,
             "#0d0887"
            ],
            [
             0.1111111111111111,
             "#46039f"
            ],
            [
             0.2222222222222222,
             "#7201a8"
            ],
            [
             0.3333333333333333,
             "#9c179e"
            ],
            [
             0.4444444444444444,
             "#bd3786"
            ],
            [
             0.5555555555555556,
             "#d8576b"
            ],
            [
             0.6666666666666666,
             "#ed7953"
            ],
            [
             0.7777777777777778,
             "#fb9f3a"
            ],
            [
             0.8888888888888888,
             "#fdca26"
            ],
            [
             1,
             "#f0f921"
            ]
           ]
          },
          "colorway": [
           "#636efa",
           "#EF553B",
           "#00cc96",
           "#ab63fa",
           "#FFA15A",
           "#19d3f3",
           "#FF6692",
           "#B6E880",
           "#FF97FF",
           "#FECB52"
          ],
          "font": {
           "color": "#2a3f5f"
          },
          "geo": {
           "bgcolor": "white",
           "lakecolor": "white",
           "landcolor": "#E5ECF6",
           "showlakes": true,
           "showland": true,
           "subunitcolor": "white"
          },
          "hoverlabel": {
           "align": "left"
          },
          "hovermode": "closest",
          "mapbox": {
           "style": "light"
          },
          "paper_bgcolor": "white",
          "plot_bgcolor": "#E5ECF6",
          "polar": {
           "angularaxis": {
            "gridcolor": "white",
            "linecolor": "white",
            "ticks": ""
           },
           "bgcolor": "#E5ECF6",
           "radialaxis": {
            "gridcolor": "white",
            "linecolor": "white",
            "ticks": ""
           }
          },
          "scene": {
           "xaxis": {
            "backgroundcolor": "#E5ECF6",
            "gridcolor": "white",
            "gridwidth": 2,
            "linecolor": "white",
            "showbackground": true,
            "ticks": "",
            "zerolinecolor": "white"
           },
           "yaxis": {
            "backgroundcolor": "#E5ECF6",
            "gridcolor": "white",
            "gridwidth": 2,
            "linecolor": "white",
            "showbackground": true,
            "ticks": "",
            "zerolinecolor": "white"
           },
           "zaxis": {
            "backgroundcolor": "#E5ECF6",
            "gridcolor": "white",
            "gridwidth": 2,
            "linecolor": "white",
            "showbackground": true,
            "ticks": "",
            "zerolinecolor": "white"
           }
          },
          "shapedefaults": {
           "line": {
            "color": "#2a3f5f"
           }
          },
          "ternary": {
           "aaxis": {
            "gridcolor": "white",
            "linecolor": "white",
            "ticks": ""
           },
           "baxis": {
            "gridcolor": "white",
            "linecolor": "white",
            "ticks": ""
           },
           "bgcolor": "#E5ECF6",
           "caxis": {
            "gridcolor": "white",
            "linecolor": "white",
            "ticks": ""
           }
          },
          "title": {
           "x": 0.05
          },
          "xaxis": {
           "automargin": true,
           "gridcolor": "white",
           "linecolor": "white",
           "ticks": "",
           "title": {
            "standoff": 15
           },
           "zerolinecolor": "white",
           "zerolinewidth": 2
          },
          "yaxis": {
           "automargin": true,
           "gridcolor": "white",
           "linecolor": "white",
           "ticks": "",
           "title": {
            "standoff": 15
           },
           "zerolinecolor": "white",
           "zerolinewidth": 2
          }
         }
        },
        "title": {
         "font": {
          "color": "#351f39",
          "family": "Courier New"
         },
         "text": "Top 20 Party-wise election results"
        },
        "xaxis": {
         "anchor": "y",
         "domain": [
          0,
          1
         ],
         "title": {
          "text": "Party"
         }
        },
        "yaxis": {
         "anchor": "x",
         "domain": [
          0,
          1
         ],
         "title": {
          "text": "Seats"
         }
        }
       }
      },
      "text/html": [
       "<div>                            <div id=\"0e2d2e88-fd83-46e5-8a09-c61531802c94\" class=\"plotly-graph-div\" style=\"height:500px; width:100%;\"></div>            <script type=\"text/javascript\">                require([\"plotly\"], function(Plotly) {                    window.PLOTLYENV=window.PLOTLYENV || {};                                    if (document.getElementById(\"0e2d2e88-fd83-46e5-8a09-c61531802c94\")) {                    Plotly.newPlot(                        \"0e2d2e88-fd83-46e5-8a09-c61531802c94\",                        [{\"alignmentgroup\": \"True\", \"hovertemplate\": \"x=%{x}<br>y=%{y}<br>color=%{marker.color}<extra></extra>\", \"legendgroup\": \"\", \"marker\": {\"color\": [300, 52, 23, 22, 22, 18, 16, 11, 11, 9, 6, 5, 5, 5, 4, 3, 3, 3, 2, 2], \"coloraxis\": \"coloraxis\"}, \"name\": \"\", \"offsetgroup\": \"\", \"orientation\": \"v\", \"showlegend\": false, \"textposition\": \"auto\", \"type\": \"bar\", \"x\": [\"BJP\", \"INC\", \"DMK\", \"AITC\", \"YSRCP\", \"SHS\", \"JD(U)\", \"BJD\", \"BSP\", \"TRS\", \"LJP\", \"NCP\", \"SP\", \"CPI(M)\", \"IND\", \"IUML\", \"TDP\", \"JKN\", \"ADAL\", \"AIMIM\"], \"xaxis\": \"x\", \"y\": [300, 52, 23, 22, 22, 18, 16, 11, 11, 9, 6, 5, 5, 5, 4, 3, 3, 3, 2, 2], \"yaxis\": \"y\"}],                        {\"barmode\": \"relative\", \"coloraxis\": {\"colorbar\": {\"title\": {\"text\": \"color\"}}, \"colorscale\": [[0.0, \"rgb(236, 218, 154)\"], [0.16666666666666666, \"rgb(239, 196, 126)\"], [0.3333333333333333, \"rgb(243, 173, 106)\"], [0.5, \"rgb(247, 148, 93)\"], [0.6666666666666666, \"rgb(249, 123, 87)\"], [0.8333333333333334, \"rgb(246, 99, 86)\"], [1.0, \"rgb(238, 77, 90)\"]]}, \"font\": {\"color\": \"#351f39\", \"family\": \"Courier New\"}, \"height\": 500, \"legend\": {\"tracegroupgap\": 0}, \"margin\": {\"t\": 60}, \"template\": {\"data\": {\"bar\": [{\"error_x\": {\"color\": \"#2a3f5f\"}, \"error_y\": {\"color\": \"#2a3f5f\"}, \"marker\": {\"line\": {\"color\": \"#E5ECF6\", \"width\": 0.5}}, \"type\": \"bar\"}], \"barpolar\": [{\"marker\": {\"line\": {\"color\": \"#E5ECF6\", \"width\": 0.5}}, \"type\": \"barpolar\"}], \"carpet\": [{\"aaxis\": {\"endlinecolor\": \"#2a3f5f\", \"gridcolor\": \"white\", \"linecolor\": \"white\", \"minorgridcolor\": \"white\", \"startlinecolor\": \"#2a3f5f\"}, \"baxis\": {\"endlinecolor\": \"#2a3f5f\", \"gridcolor\": \"white\", \"linecolor\": \"white\", \"minorgridcolor\": \"white\", \"startlinecolor\": \"#2a3f5f\"}, \"type\": \"carpet\"}], \"choropleth\": [{\"colorbar\": {\"outlinewidth\": 0, \"ticks\": \"\"}, \"type\": \"choropleth\"}], \"contour\": [{\"colorbar\": {\"outlinewidth\": 0, \"ticks\": \"\"}, \"colorscale\": [[0.0, \"#0d0887\"], [0.1111111111111111, \"#46039f\"], [0.2222222222222222, \"#7201a8\"], [0.3333333333333333, \"#9c179e\"], [0.4444444444444444, \"#bd3786\"], [0.5555555555555556, \"#d8576b\"], [0.6666666666666666, \"#ed7953\"], [0.7777777777777778, \"#fb9f3a\"], [0.8888888888888888, \"#fdca26\"], [1.0, \"#f0f921\"]], \"type\": \"contour\"}], \"contourcarpet\": [{\"colorbar\": {\"outlinewidth\": 0, \"ticks\": \"\"}, \"type\": \"contourcarpet\"}], \"heatmap\": [{\"colorbar\": {\"outlinewidth\": 0, \"ticks\": \"\"}, \"colorscale\": [[0.0, \"#0d0887\"], [0.1111111111111111, \"#46039f\"], [0.2222222222222222, \"#7201a8\"], [0.3333333333333333, \"#9c179e\"], [0.4444444444444444, \"#bd3786\"], [0.5555555555555556, \"#d8576b\"], [0.6666666666666666, \"#ed7953\"], [0.7777777777777778, \"#fb9f3a\"], [0.8888888888888888, \"#fdca26\"], [1.0, \"#f0f921\"]], \"type\": \"heatmap\"}], \"heatmapgl\": [{\"colorbar\": {\"outlinewidth\": 0, \"ticks\": \"\"}, \"colorscale\": [[0.0, \"#0d0887\"], [0.1111111111111111, \"#46039f\"], [0.2222222222222222, \"#7201a8\"], [0.3333333333333333, \"#9c179e\"], [0.4444444444444444, \"#bd3786\"], [0.5555555555555556, \"#d8576b\"], [0.6666666666666666, \"#ed7953\"], [0.7777777777777778, \"#fb9f3a\"], [0.8888888888888888, \"#fdca26\"], [1.0, \"#f0f921\"]], \"type\": \"heatmapgl\"}], \"histogram\": [{\"marker\": {\"colorbar\": {\"outlinewidth\": 0, \"ticks\": \"\"}}, \"type\": \"histogram\"}], \"histogram2d\": [{\"colorbar\": {\"outlinewidth\": 0, \"ticks\": \"\"}, \"colorscale\": [[0.0, \"#0d0887\"], [0.1111111111111111, \"#46039f\"], [0.2222222222222222, \"#7201a8\"], [0.3333333333333333, \"#9c179e\"], [0.4444444444444444, \"#bd3786\"], [0.5555555555555556, \"#d8576b\"], [0.6666666666666666, \"#ed7953\"], [0.7777777777777778, \"#fb9f3a\"], [0.8888888888888888, \"#fdca26\"], [1.0, \"#f0f921\"]], \"type\": \"histogram2d\"}], \"histogram2dcontour\": [{\"colorbar\": {\"outlinewidth\": 0, \"ticks\": \"\"}, \"colorscale\": [[0.0, \"#0d0887\"], [0.1111111111111111, \"#46039f\"], [0.2222222222222222, \"#7201a8\"], [0.3333333333333333, \"#9c179e\"], [0.4444444444444444, \"#bd3786\"], [0.5555555555555556, \"#d8576b\"], [0.6666666666666666, \"#ed7953\"], [0.7777777777777778, \"#fb9f3a\"], [0.8888888888888888, \"#fdca26\"], [1.0, \"#f0f921\"]], \"type\": \"histogram2dcontour\"}], \"mesh3d\": [{\"colorbar\": {\"outlinewidth\": 0, \"ticks\": \"\"}, \"type\": \"mesh3d\"}], \"parcoords\": [{\"line\": {\"colorbar\": {\"outlinewidth\": 0, \"ticks\": \"\"}}, \"type\": \"parcoords\"}], \"pie\": [{\"automargin\": true, \"type\": \"pie\"}], \"scatter\": [{\"marker\": {\"colorbar\": {\"outlinewidth\": 0, \"ticks\": \"\"}}, \"type\": \"scatter\"}], \"scatter3d\": [{\"line\": {\"colorbar\": {\"outlinewidth\": 0, \"ticks\": \"\"}}, \"marker\": {\"colorbar\": {\"outlinewidth\": 0, \"ticks\": \"\"}}, \"type\": \"scatter3d\"}], \"scattercarpet\": [{\"marker\": {\"colorbar\": {\"outlinewidth\": 0, \"ticks\": \"\"}}, \"type\": \"scattercarpet\"}], \"scattergeo\": [{\"marker\": {\"colorbar\": {\"outlinewidth\": 0, \"ticks\": \"\"}}, \"type\": \"scattergeo\"}], \"scattergl\": [{\"marker\": {\"colorbar\": {\"outlinewidth\": 0, \"ticks\": \"\"}}, \"type\": \"scattergl\"}], \"scattermapbox\": [{\"marker\": {\"colorbar\": {\"outlinewidth\": 0, \"ticks\": \"\"}}, \"type\": \"scattermapbox\"}], \"scatterpolar\": [{\"marker\": {\"colorbar\": {\"outlinewidth\": 0, \"ticks\": \"\"}}, \"type\": \"scatterpolar\"}], \"scatterpolargl\": [{\"marker\": {\"colorbar\": {\"outlinewidth\": 0, \"ticks\": \"\"}}, \"type\": \"scatterpolargl\"}], \"scatterternary\": [{\"marker\": {\"colorbar\": {\"outlinewidth\": 0, \"ticks\": \"\"}}, \"type\": \"scatterternary\"}], \"surface\": [{\"colorbar\": {\"outlinewidth\": 0, \"ticks\": \"\"}, \"colorscale\": [[0.0, \"#0d0887\"], [0.1111111111111111, \"#46039f\"], [0.2222222222222222, \"#7201a8\"], [0.3333333333333333, \"#9c179e\"], [0.4444444444444444, \"#bd3786\"], [0.5555555555555556, \"#d8576b\"], [0.6666666666666666, \"#ed7953\"], [0.7777777777777778, \"#fb9f3a\"], [0.8888888888888888, \"#fdca26\"], [1.0, \"#f0f921\"]], \"type\": \"surface\"}], \"table\": [{\"cells\": {\"fill\": {\"color\": \"#EBF0F8\"}, \"line\": {\"color\": \"white\"}}, \"header\": {\"fill\": {\"color\": \"#C8D4E3\"}, \"line\": {\"color\": \"white\"}}, \"type\": \"table\"}]}, \"layout\": {\"annotationdefaults\": {\"arrowcolor\": \"#2a3f5f\", \"arrowhead\": 0, \"arrowwidth\": 1}, \"coloraxis\": {\"colorbar\": {\"outlinewidth\": 0, \"ticks\": \"\"}}, \"colorscale\": {\"diverging\": [[0, \"#8e0152\"], [0.1, \"#c51b7d\"], [0.2, \"#de77ae\"], [0.3, \"#f1b6da\"], [0.4, \"#fde0ef\"], [0.5, \"#f7f7f7\"], [0.6, \"#e6f5d0\"], [0.7, \"#b8e186\"], [0.8, \"#7fbc41\"], [0.9, \"#4d9221\"], [1, \"#276419\"]], \"sequential\": [[0.0, \"#0d0887\"], [0.1111111111111111, \"#46039f\"], [0.2222222222222222, \"#7201a8\"], [0.3333333333333333, \"#9c179e\"], [0.4444444444444444, \"#bd3786\"], [0.5555555555555556, \"#d8576b\"], [0.6666666666666666, \"#ed7953\"], [0.7777777777777778, \"#fb9f3a\"], [0.8888888888888888, \"#fdca26\"], [1.0, \"#f0f921\"]], \"sequentialminus\": [[0.0, \"#0d0887\"], [0.1111111111111111, \"#46039f\"], [0.2222222222222222, \"#7201a8\"], [0.3333333333333333, \"#9c179e\"], [0.4444444444444444, \"#bd3786\"], [0.5555555555555556, \"#d8576b\"], [0.6666666666666666, \"#ed7953\"], [0.7777777777777778, \"#fb9f3a\"], [0.8888888888888888, \"#fdca26\"], [1.0, \"#f0f921\"]]}, \"colorway\": [\"#636efa\", \"#EF553B\", \"#00cc96\", \"#ab63fa\", \"#FFA15A\", \"#19d3f3\", \"#FF6692\", \"#B6E880\", \"#FF97FF\", \"#FECB52\"], \"font\": {\"color\": \"#2a3f5f\"}, \"geo\": {\"bgcolor\": \"white\", \"lakecolor\": \"white\", \"landcolor\": \"#E5ECF6\", \"showlakes\": true, \"showland\": true, \"subunitcolor\": \"white\"}, \"hoverlabel\": {\"align\": \"left\"}, \"hovermode\": \"closest\", \"mapbox\": {\"style\": \"light\"}, \"paper_bgcolor\": \"white\", \"plot_bgcolor\": \"#E5ECF6\", \"polar\": {\"angularaxis\": {\"gridcolor\": \"white\", \"linecolor\": \"white\", \"ticks\": \"\"}, \"bgcolor\": \"#E5ECF6\", \"radialaxis\": {\"gridcolor\": \"white\", \"linecolor\": \"white\", \"ticks\": \"\"}}, \"scene\": {\"xaxis\": {\"backgroundcolor\": \"#E5ECF6\", \"gridcolor\": \"white\", \"gridwidth\": 2, \"linecolor\": \"white\", \"showbackground\": true, \"ticks\": \"\", \"zerolinecolor\": \"white\"}, \"yaxis\": {\"backgroundcolor\": \"#E5ECF6\", \"gridcolor\": \"white\", \"gridwidth\": 2, \"linecolor\": \"white\", \"showbackground\": true, \"ticks\": \"\", \"zerolinecolor\": \"white\"}, \"zaxis\": {\"backgroundcolor\": \"#E5ECF6\", \"gridcolor\": \"white\", \"gridwidth\": 2, \"linecolor\": \"white\", \"showbackground\": true, \"ticks\": \"\", \"zerolinecolor\": \"white\"}}, \"shapedefaults\": {\"line\": {\"color\": \"#2a3f5f\"}}, \"ternary\": {\"aaxis\": {\"gridcolor\": \"white\", \"linecolor\": \"white\", \"ticks\": \"\"}, \"baxis\": {\"gridcolor\": \"white\", \"linecolor\": \"white\", \"ticks\": \"\"}, \"bgcolor\": \"#E5ECF6\", \"caxis\": {\"gridcolor\": \"white\", \"linecolor\": \"white\", \"ticks\": \"\"}}, \"title\": {\"x\": 0.05}, \"xaxis\": {\"automargin\": true, \"gridcolor\": \"white\", \"linecolor\": \"white\", \"ticks\": \"\", \"title\": {\"standoff\": 15}, \"zerolinecolor\": \"white\", \"zerolinewidth\": 2}, \"yaxis\": {\"automargin\": true, \"gridcolor\": \"white\", \"linecolor\": \"white\", \"ticks\": \"\", \"title\": {\"standoff\": 15}, \"zerolinecolor\": \"white\", \"zerolinewidth\": 2}}}, \"title\": {\"font\": {\"color\": \"#351f39\", \"family\": \"Courier New\"}, \"text\": \"Top 20 Party-wise election results\"}, \"xaxis\": {\"anchor\": \"y\", \"domain\": [0.0, 1.0], \"title\": {\"text\": \"Party\"}}, \"yaxis\": {\"anchor\": \"x\", \"domain\": [0.0, 1.0], \"title\": {\"text\": \"Seats\"}}},                        {\"responsive\": true}                    ).then(function(){\n",
       "                            \n",
       "var gd = document.getElementById('0e2d2e88-fd83-46e5-8a09-c61531802c94');\n",
       "var x = new MutationObserver(function (mutations, observer) {{\n",
       "        var display = window.getComputedStyle(gd).display;\n",
       "        if (!display || display === 'none') {{\n",
       "            console.log([gd, 'removed!']);\n",
       "            Plotly.purge(gd);\n",
       "            observer.disconnect();\n",
       "        }}\n",
       "}});\n",
       "\n",
       "// Listen for the removal of the full notebook cells\n",
       "var notebookContainer = gd.closest('#notebook-container');\n",
       "if (notebookContainer) {{\n",
       "    x.observe(notebookContainer, {childList: true});\n",
       "}}\n",
       "\n",
       "// Listen for the clearing of the current output cell\n",
       "var outputEl = gd.closest('.output');\n",
       "if (outputEl) {{\n",
       "    x.observe(outputEl, {childList: true});\n",
       "}}\n",
       "\n",
       "                        })                };                });            </script>        </div>"
      ]
     },
     "metadata": {},
     "output_type": "display_data"
    }
   ],
   "source": [
    "# Number of seats won by each party\n",
    "result = df_NOTA[df_NOTA['WINNER'] == 1].groupby('PARTY')['WINNER'].size()\n",
    "result_df = pd.DataFrame(data=result).sort_values(by=\"WINNER\", ascending=False)\n",
    "result_df.reset_index(level=0, inplace=True)\n",
    "\n",
    "# Visualize the party-wise election results\n",
    "result_fig = px.bar(result_df, \n",
    "                    x=result_df['PARTY'][:20], \n",
    "                    y=result_df[\"WINNER\"][:20], \n",
    "                    color=result_df['WINNER'][:20], \n",
    "                    height=500,\n",
    "                    color_continuous_scale='Oryel')\n",
    "result_fig.update_layout(title_text='Top 20 Party-wise election results',\n",
    "                         font_family=\"Courier New\",\n",
    "                         font_color=\"#351f39\",\n",
    "                         title_font_family=\"Courier New\",\n",
    "                         title_font_color=\"#351f39\",\n",
    "                         xaxis_title=\"Party\",\n",
    "                         yaxis_title=\"Seats\")\n",
    "result_fig.show()"
   ]
  },
  {
   "cell_type": "markdown",
   "metadata": {},
   "source": [
    "Bharatiya Janata Party (BJP) emerged as the single largest party after winning 300 seats. BJP is also the single largest party in terms of total vote share in Lok Sabha Election 2019. Congress secured the second position after winning 52 seats. After the landslide victory of Bharatiya Janata Party in the 17th Lok Sabha election; Narendra Modi is the 15th Prime Minister of India. BJP got the thumping majority in the 17th Lok Sabha election.\n",
    "Worth to mention that maximum seats in Lok Sabha can be 552; comprises 530 from states, 20 from Union Territories and 2 nominated members. Currently, only 543 members are elected for Lok Sabha from different states and UTs for the 17th Lok Sabha. "
   ]
  },
  {
   "cell_type": "markdown",
   "metadata": {},
   "source": [
    "### 6.3 Party-Wise Vote Share"
   ]
  },
  {
   "cell_type": "code",
   "execution_count": 19,
   "metadata": {},
   "outputs": [
    {
     "data": {
      "application/vnd.plotly.v1+json": {
       "config": {
        "plotlyServerURL": "https://plot.ly"
       },
       "data": [
        {
         "labels": [
          "AITC",
          "BJP",
          "BSP",
          "INC",
          "Other",
          "SP"
         ],
         "marker": {
          "line": {
           "color": "#000000",
           "width": 2
          }
         },
         "pull": [
          0.1,
          0.1,
          0.1,
          0.1,
          0.1,
          0.1
         ],
         "type": "pie",
         "values": [
          24832104,
          228938556,
          20445870,
          119330534,
          178545701,
          15616282
         ]
        }
       ],
       "layout": {
        "font": {
         "color": "#351f39",
         "family": "Courier New"
        },
        "template": {
         "data": {
          "bar": [
           {
            "error_x": {
             "color": "#2a3f5f"
            },
            "error_y": {
             "color": "#2a3f5f"
            },
            "marker": {
             "line": {
              "color": "#E5ECF6",
              "width": 0.5
             }
            },
            "type": "bar"
           }
          ],
          "barpolar": [
           {
            "marker": {
             "line": {
              "color": "#E5ECF6",
              "width": 0.5
             }
            },
            "type": "barpolar"
           }
          ],
          "carpet": [
           {
            "aaxis": {
             "endlinecolor": "#2a3f5f",
             "gridcolor": "white",
             "linecolor": "white",
             "minorgridcolor": "white",
             "startlinecolor": "#2a3f5f"
            },
            "baxis": {
             "endlinecolor": "#2a3f5f",
             "gridcolor": "white",
             "linecolor": "white",
             "minorgridcolor": "white",
             "startlinecolor": "#2a3f5f"
            },
            "type": "carpet"
           }
          ],
          "choropleth": [
           {
            "colorbar": {
             "outlinewidth": 0,
             "ticks": ""
            },
            "type": "choropleth"
           }
          ],
          "contour": [
           {
            "colorbar": {
             "outlinewidth": 0,
             "ticks": ""
            },
            "colorscale": [
             [
              0,
              "#0d0887"
             ],
             [
              0.1111111111111111,
              "#46039f"
             ],
             [
              0.2222222222222222,
              "#7201a8"
             ],
             [
              0.3333333333333333,
              "#9c179e"
             ],
             [
              0.4444444444444444,
              "#bd3786"
             ],
             [
              0.5555555555555556,
              "#d8576b"
             ],
             [
              0.6666666666666666,
              "#ed7953"
             ],
             [
              0.7777777777777778,
              "#fb9f3a"
             ],
             [
              0.8888888888888888,
              "#fdca26"
             ],
             [
              1,
              "#f0f921"
             ]
            ],
            "type": "contour"
           }
          ],
          "contourcarpet": [
           {
            "colorbar": {
             "outlinewidth": 0,
             "ticks": ""
            },
            "type": "contourcarpet"
           }
          ],
          "heatmap": [
           {
            "colorbar": {
             "outlinewidth": 0,
             "ticks": ""
            },
            "colorscale": [
             [
              0,
              "#0d0887"
             ],
             [
              0.1111111111111111,
              "#46039f"
             ],
             [
              0.2222222222222222,
              "#7201a8"
             ],
             [
              0.3333333333333333,
              "#9c179e"
             ],
             [
              0.4444444444444444,
              "#bd3786"
             ],
             [
              0.5555555555555556,
              "#d8576b"
             ],
             [
              0.6666666666666666,
              "#ed7953"
             ],
             [
              0.7777777777777778,
              "#fb9f3a"
             ],
             [
              0.8888888888888888,
              "#fdca26"
             ],
             [
              1,
              "#f0f921"
             ]
            ],
            "type": "heatmap"
           }
          ],
          "heatmapgl": [
           {
            "colorbar": {
             "outlinewidth": 0,
             "ticks": ""
            },
            "colorscale": [
             [
              0,
              "#0d0887"
             ],
             [
              0.1111111111111111,
              "#46039f"
             ],
             [
              0.2222222222222222,
              "#7201a8"
             ],
             [
              0.3333333333333333,
              "#9c179e"
             ],
             [
              0.4444444444444444,
              "#bd3786"
             ],
             [
              0.5555555555555556,
              "#d8576b"
             ],
             [
              0.6666666666666666,
              "#ed7953"
             ],
             [
              0.7777777777777778,
              "#fb9f3a"
             ],
             [
              0.8888888888888888,
              "#fdca26"
             ],
             [
              1,
              "#f0f921"
             ]
            ],
            "type": "heatmapgl"
           }
          ],
          "histogram": [
           {
            "marker": {
             "colorbar": {
              "outlinewidth": 0,
              "ticks": ""
             }
            },
            "type": "histogram"
           }
          ],
          "histogram2d": [
           {
            "colorbar": {
             "outlinewidth": 0,
             "ticks": ""
            },
            "colorscale": [
             [
              0,
              "#0d0887"
             ],
             [
              0.1111111111111111,
              "#46039f"
             ],
             [
              0.2222222222222222,
              "#7201a8"
             ],
             [
              0.3333333333333333,
              "#9c179e"
             ],
             [
              0.4444444444444444,
              "#bd3786"
             ],
             [
              0.5555555555555556,
              "#d8576b"
             ],
             [
              0.6666666666666666,
              "#ed7953"
             ],
             [
              0.7777777777777778,
              "#fb9f3a"
             ],
             [
              0.8888888888888888,
              "#fdca26"
             ],
             [
              1,
              "#f0f921"
             ]
            ],
            "type": "histogram2d"
           }
          ],
          "histogram2dcontour": [
           {
            "colorbar": {
             "outlinewidth": 0,
             "ticks": ""
            },
            "colorscale": [
             [
              0,
              "#0d0887"
             ],
             [
              0.1111111111111111,
              "#46039f"
             ],
             [
              0.2222222222222222,
              "#7201a8"
             ],
             [
              0.3333333333333333,
              "#9c179e"
             ],
             [
              0.4444444444444444,
              "#bd3786"
             ],
             [
              0.5555555555555556,
              "#d8576b"
             ],
             [
              0.6666666666666666,
              "#ed7953"
             ],
             [
              0.7777777777777778,
              "#fb9f3a"
             ],
             [
              0.8888888888888888,
              "#fdca26"
             ],
             [
              1,
              "#f0f921"
             ]
            ],
            "type": "histogram2dcontour"
           }
          ],
          "mesh3d": [
           {
            "colorbar": {
             "outlinewidth": 0,
             "ticks": ""
            },
            "type": "mesh3d"
           }
          ],
          "parcoords": [
           {
            "line": {
             "colorbar": {
              "outlinewidth": 0,
              "ticks": ""
             }
            },
            "type": "parcoords"
           }
          ],
          "pie": [
           {
            "automargin": true,
            "type": "pie"
           }
          ],
          "scatter": [
           {
            "marker": {
             "colorbar": {
              "outlinewidth": 0,
              "ticks": ""
             }
            },
            "type": "scatter"
           }
          ],
          "scatter3d": [
           {
            "line": {
             "colorbar": {
              "outlinewidth": 0,
              "ticks": ""
             }
            },
            "marker": {
             "colorbar": {
              "outlinewidth": 0,
              "ticks": ""
             }
            },
            "type": "scatter3d"
           }
          ],
          "scattercarpet": [
           {
            "marker": {
             "colorbar": {
              "outlinewidth": 0,
              "ticks": ""
             }
            },
            "type": "scattercarpet"
           }
          ],
          "scattergeo": [
           {
            "marker": {
             "colorbar": {
              "outlinewidth": 0,
              "ticks": ""
             }
            },
            "type": "scattergeo"
           }
          ],
          "scattergl": [
           {
            "marker": {
             "colorbar": {
              "outlinewidth": 0,
              "ticks": ""
             }
            },
            "type": "scattergl"
           }
          ],
          "scattermapbox": [
           {
            "marker": {
             "colorbar": {
              "outlinewidth": 0,
              "ticks": ""
             }
            },
            "type": "scattermapbox"
           }
          ],
          "scatterpolar": [
           {
            "marker": {
             "colorbar": {
              "outlinewidth": 0,
              "ticks": ""
             }
            },
            "type": "scatterpolar"
           }
          ],
          "scatterpolargl": [
           {
            "marker": {
             "colorbar": {
              "outlinewidth": 0,
              "ticks": ""
             }
            },
            "type": "scatterpolargl"
           }
          ],
          "scatterternary": [
           {
            "marker": {
             "colorbar": {
              "outlinewidth": 0,
              "ticks": ""
             }
            },
            "type": "scatterternary"
           }
          ],
          "surface": [
           {
            "colorbar": {
             "outlinewidth": 0,
             "ticks": ""
            },
            "colorscale": [
             [
              0,
              "#0d0887"
             ],
             [
              0.1111111111111111,
              "#46039f"
             ],
             [
              0.2222222222222222,
              "#7201a8"
             ],
             [
              0.3333333333333333,
              "#9c179e"
             ],
             [
              0.4444444444444444,
              "#bd3786"
             ],
             [
              0.5555555555555556,
              "#d8576b"
             ],
             [
              0.6666666666666666,
              "#ed7953"
             ],
             [
              0.7777777777777778,
              "#fb9f3a"
             ],
             [
              0.8888888888888888,
              "#fdca26"
             ],
             [
              1,
              "#f0f921"
             ]
            ],
            "type": "surface"
           }
          ],
          "table": [
           {
            "cells": {
             "fill": {
              "color": "#EBF0F8"
             },
             "line": {
              "color": "white"
             }
            },
            "header": {
             "fill": {
              "color": "#C8D4E3"
             },
             "line": {
              "color": "white"
             }
            },
            "type": "table"
           }
          ]
         },
         "layout": {
          "annotationdefaults": {
           "arrowcolor": "#2a3f5f",
           "arrowhead": 0,
           "arrowwidth": 1
          },
          "coloraxis": {
           "colorbar": {
            "outlinewidth": 0,
            "ticks": ""
           }
          },
          "colorscale": {
           "diverging": [
            [
             0,
             "#8e0152"
            ],
            [
             0.1,
             "#c51b7d"
            ],
            [
             0.2,
             "#de77ae"
            ],
            [
             0.3,
             "#f1b6da"
            ],
            [
             0.4,
             "#fde0ef"
            ],
            [
             0.5,
             "#f7f7f7"
            ],
            [
             0.6,
             "#e6f5d0"
            ],
            [
             0.7,
             "#b8e186"
            ],
            [
             0.8,
             "#7fbc41"
            ],
            [
             0.9,
             "#4d9221"
            ],
            [
             1,
             "#276419"
            ]
           ],
           "sequential": [
            [
             0,
             "#0d0887"
            ],
            [
             0.1111111111111111,
             "#46039f"
            ],
            [
             0.2222222222222222,
             "#7201a8"
            ],
            [
             0.3333333333333333,
             "#9c179e"
            ],
            [
             0.4444444444444444,
             "#bd3786"
            ],
            [
             0.5555555555555556,
             "#d8576b"
            ],
            [
             0.6666666666666666,
             "#ed7953"
            ],
            [
             0.7777777777777778,
             "#fb9f3a"
            ],
            [
             0.8888888888888888,
             "#fdca26"
            ],
            [
             1,
             "#f0f921"
            ]
           ],
           "sequentialminus": [
            [
             0,
             "#0d0887"
            ],
            [
             0.1111111111111111,
             "#46039f"
            ],
            [
             0.2222222222222222,
             "#7201a8"
            ],
            [
             0.3333333333333333,
             "#9c179e"
            ],
            [
             0.4444444444444444,
             "#bd3786"
            ],
            [
             0.5555555555555556,
             "#d8576b"
            ],
            [
             0.6666666666666666,
             "#ed7953"
            ],
            [
             0.7777777777777778,
             "#fb9f3a"
            ],
            [
             0.8888888888888888,
             "#fdca26"
            ],
            [
             1,
             "#f0f921"
            ]
           ]
          },
          "colorway": [
           "#636efa",
           "#EF553B",
           "#00cc96",
           "#ab63fa",
           "#FFA15A",
           "#19d3f3",
           "#FF6692",
           "#B6E880",
           "#FF97FF",
           "#FECB52"
          ],
          "font": {
           "color": "#2a3f5f"
          },
          "geo": {
           "bgcolor": "white",
           "lakecolor": "white",
           "landcolor": "#E5ECF6",
           "showlakes": true,
           "showland": true,
           "subunitcolor": "white"
          },
          "hoverlabel": {
           "align": "left"
          },
          "hovermode": "closest",
          "mapbox": {
           "style": "light"
          },
          "paper_bgcolor": "white",
          "plot_bgcolor": "#E5ECF6",
          "polar": {
           "angularaxis": {
            "gridcolor": "white",
            "linecolor": "white",
            "ticks": ""
           },
           "bgcolor": "#E5ECF6",
           "radialaxis": {
            "gridcolor": "white",
            "linecolor": "white",
            "ticks": ""
           }
          },
          "scene": {
           "xaxis": {
            "backgroundcolor": "#E5ECF6",
            "gridcolor": "white",
            "gridwidth": 2,
            "linecolor": "white",
            "showbackground": true,
            "ticks": "",
            "zerolinecolor": "white"
           },
           "yaxis": {
            "backgroundcolor": "#E5ECF6",
            "gridcolor": "white",
            "gridwidth": 2,
            "linecolor": "white",
            "showbackground": true,
            "ticks": "",
            "zerolinecolor": "white"
           },
           "zaxis": {
            "backgroundcolor": "#E5ECF6",
            "gridcolor": "white",
            "gridwidth": 2,
            "linecolor": "white",
            "showbackground": true,
            "ticks": "",
            "zerolinecolor": "white"
           }
          },
          "shapedefaults": {
           "line": {
            "color": "#2a3f5f"
           }
          },
          "ternary": {
           "aaxis": {
            "gridcolor": "white",
            "linecolor": "white",
            "ticks": ""
           },
           "baxis": {
            "gridcolor": "white",
            "linecolor": "white",
            "ticks": ""
           },
           "bgcolor": "#E5ECF6",
           "caxis": {
            "gridcolor": "white",
            "linecolor": "white",
            "ticks": ""
           }
          },
          "title": {
           "x": 0.05
          },
          "xaxis": {
           "automargin": true,
           "gridcolor": "white",
           "linecolor": "white",
           "ticks": "",
           "title": {
            "standoff": 15
           },
           "zerolinecolor": "white",
           "zerolinewidth": 2
          },
          "yaxis": {
           "automargin": true,
           "gridcolor": "white",
           "linecolor": "white",
           "ticks": "",
           "title": {
            "standoff": 15
           },
           "zerolinecolor": "white",
           "zerolinewidth": 2
          }
         }
        },
        "title": {
         "font": {
          "color": "#351f39",
          "family": "Courier New"
         },
         "text": "Party-wise Vote Share"
        }
       }
      },
      "text/html": [
       "<div>                            <div id=\"d5f15582-41ce-4504-98cc-99e32c25f7c6\" class=\"plotly-graph-div\" style=\"height:525px; width:100%;\"></div>            <script type=\"text/javascript\">                require([\"plotly\"], function(Plotly) {                    window.PLOTLYENV=window.PLOTLYENV || {};                                    if (document.getElementById(\"d5f15582-41ce-4504-98cc-99e32c25f7c6\")) {                    Plotly.newPlot(                        \"d5f15582-41ce-4504-98cc-99e32c25f7c6\",                        [{\"labels\": [\"AITC\", \"BJP\", \"BSP\", \"INC\", \"Other\", \"SP\"], \"marker\": {\"line\": {\"color\": \"#000000\", \"width\": 2}}, \"pull\": [0.1, 0.1, 0.1, 0.1, 0.1, 0.1], \"type\": \"pie\", \"values\": [24832104, 228938556, 20445870, 119330534, 178545701, 15616282]}],                        {\"font\": {\"color\": \"#351f39\", \"family\": \"Courier New\"}, \"template\": {\"data\": {\"bar\": [{\"error_x\": {\"color\": \"#2a3f5f\"}, \"error_y\": {\"color\": \"#2a3f5f\"}, \"marker\": {\"line\": {\"color\": \"#E5ECF6\", \"width\": 0.5}}, \"type\": \"bar\"}], \"barpolar\": [{\"marker\": {\"line\": {\"color\": \"#E5ECF6\", \"width\": 0.5}}, \"type\": \"barpolar\"}], \"carpet\": [{\"aaxis\": {\"endlinecolor\": \"#2a3f5f\", \"gridcolor\": \"white\", \"linecolor\": \"white\", \"minorgridcolor\": \"white\", \"startlinecolor\": \"#2a3f5f\"}, \"baxis\": {\"endlinecolor\": \"#2a3f5f\", \"gridcolor\": \"white\", \"linecolor\": \"white\", \"minorgridcolor\": \"white\", \"startlinecolor\": \"#2a3f5f\"}, \"type\": \"carpet\"}], \"choropleth\": [{\"colorbar\": {\"outlinewidth\": 0, \"ticks\": \"\"}, \"type\": \"choropleth\"}], \"contour\": [{\"colorbar\": {\"outlinewidth\": 0, \"ticks\": \"\"}, \"colorscale\": [[0.0, \"#0d0887\"], [0.1111111111111111, \"#46039f\"], [0.2222222222222222, \"#7201a8\"], [0.3333333333333333, \"#9c179e\"], [0.4444444444444444, \"#bd3786\"], [0.5555555555555556, \"#d8576b\"], [0.6666666666666666, \"#ed7953\"], [0.7777777777777778, \"#fb9f3a\"], [0.8888888888888888, \"#fdca26\"], [1.0, \"#f0f921\"]], \"type\": \"contour\"}], \"contourcarpet\": [{\"colorbar\": {\"outlinewidth\": 0, \"ticks\": \"\"}, \"type\": \"contourcarpet\"}], \"heatmap\": [{\"colorbar\": {\"outlinewidth\": 0, \"ticks\": \"\"}, \"colorscale\": [[0.0, \"#0d0887\"], [0.1111111111111111, \"#46039f\"], [0.2222222222222222, \"#7201a8\"], [0.3333333333333333, \"#9c179e\"], [0.4444444444444444, \"#bd3786\"], [0.5555555555555556, \"#d8576b\"], [0.6666666666666666, \"#ed7953\"], [0.7777777777777778, \"#fb9f3a\"], [0.8888888888888888, \"#fdca26\"], [1.0, \"#f0f921\"]], \"type\": \"heatmap\"}], \"heatmapgl\": [{\"colorbar\": {\"outlinewidth\": 0, \"ticks\": \"\"}, \"colorscale\": [[0.0, \"#0d0887\"], [0.1111111111111111, \"#46039f\"], [0.2222222222222222, \"#7201a8\"], [0.3333333333333333, \"#9c179e\"], [0.4444444444444444, \"#bd3786\"], [0.5555555555555556, \"#d8576b\"], [0.6666666666666666, \"#ed7953\"], [0.7777777777777778, \"#fb9f3a\"], [0.8888888888888888, \"#fdca26\"], [1.0, \"#f0f921\"]], \"type\": \"heatmapgl\"}], \"histogram\": [{\"marker\": {\"colorbar\": {\"outlinewidth\": 0, \"ticks\": \"\"}}, \"type\": \"histogram\"}], \"histogram2d\": [{\"colorbar\": {\"outlinewidth\": 0, \"ticks\": \"\"}, \"colorscale\": [[0.0, \"#0d0887\"], [0.1111111111111111, \"#46039f\"], [0.2222222222222222, \"#7201a8\"], [0.3333333333333333, \"#9c179e\"], [0.4444444444444444, \"#bd3786\"], [0.5555555555555556, \"#d8576b\"], [0.6666666666666666, \"#ed7953\"], [0.7777777777777778, \"#fb9f3a\"], [0.8888888888888888, \"#fdca26\"], [1.0, \"#f0f921\"]], \"type\": \"histogram2d\"}], \"histogram2dcontour\": [{\"colorbar\": {\"outlinewidth\": 0, \"ticks\": \"\"}, \"colorscale\": [[0.0, \"#0d0887\"], [0.1111111111111111, \"#46039f\"], [0.2222222222222222, \"#7201a8\"], [0.3333333333333333, \"#9c179e\"], [0.4444444444444444, \"#bd3786\"], [0.5555555555555556, \"#d8576b\"], [0.6666666666666666, \"#ed7953\"], [0.7777777777777778, \"#fb9f3a\"], [0.8888888888888888, \"#fdca26\"], [1.0, \"#f0f921\"]], \"type\": \"histogram2dcontour\"}], \"mesh3d\": [{\"colorbar\": {\"outlinewidth\": 0, \"ticks\": \"\"}, \"type\": \"mesh3d\"}], \"parcoords\": [{\"line\": {\"colorbar\": {\"outlinewidth\": 0, \"ticks\": \"\"}}, \"type\": \"parcoords\"}], \"pie\": [{\"automargin\": true, \"type\": \"pie\"}], \"scatter\": [{\"marker\": {\"colorbar\": {\"outlinewidth\": 0, \"ticks\": \"\"}}, \"type\": \"scatter\"}], \"scatter3d\": [{\"line\": {\"colorbar\": {\"outlinewidth\": 0, \"ticks\": \"\"}}, \"marker\": {\"colorbar\": {\"outlinewidth\": 0, \"ticks\": \"\"}}, \"type\": \"scatter3d\"}], \"scattercarpet\": [{\"marker\": {\"colorbar\": {\"outlinewidth\": 0, \"ticks\": \"\"}}, \"type\": \"scattercarpet\"}], \"scattergeo\": [{\"marker\": {\"colorbar\": {\"outlinewidth\": 0, \"ticks\": \"\"}}, \"type\": \"scattergeo\"}], \"scattergl\": [{\"marker\": {\"colorbar\": {\"outlinewidth\": 0, \"ticks\": \"\"}}, \"type\": \"scattergl\"}], \"scattermapbox\": [{\"marker\": {\"colorbar\": {\"outlinewidth\": 0, \"ticks\": \"\"}}, \"type\": \"scattermapbox\"}], \"scatterpolar\": [{\"marker\": {\"colorbar\": {\"outlinewidth\": 0, \"ticks\": \"\"}}, \"type\": \"scatterpolar\"}], \"scatterpolargl\": [{\"marker\": {\"colorbar\": {\"outlinewidth\": 0, \"ticks\": \"\"}}, \"type\": \"scatterpolargl\"}], \"scatterternary\": [{\"marker\": {\"colorbar\": {\"outlinewidth\": 0, \"ticks\": \"\"}}, \"type\": \"scatterternary\"}], \"surface\": [{\"colorbar\": {\"outlinewidth\": 0, \"ticks\": \"\"}, \"colorscale\": [[0.0, \"#0d0887\"], [0.1111111111111111, \"#46039f\"], [0.2222222222222222, \"#7201a8\"], [0.3333333333333333, \"#9c179e\"], [0.4444444444444444, \"#bd3786\"], [0.5555555555555556, \"#d8576b\"], [0.6666666666666666, \"#ed7953\"], [0.7777777777777778, \"#fb9f3a\"], [0.8888888888888888, \"#fdca26\"], [1.0, \"#f0f921\"]], \"type\": \"surface\"}], \"table\": [{\"cells\": {\"fill\": {\"color\": \"#EBF0F8\"}, \"line\": {\"color\": \"white\"}}, \"header\": {\"fill\": {\"color\": \"#C8D4E3\"}, \"line\": {\"color\": \"white\"}}, \"type\": \"table\"}]}, \"layout\": {\"annotationdefaults\": {\"arrowcolor\": \"#2a3f5f\", \"arrowhead\": 0, \"arrowwidth\": 1}, \"coloraxis\": {\"colorbar\": {\"outlinewidth\": 0, \"ticks\": \"\"}}, \"colorscale\": {\"diverging\": [[0, \"#8e0152\"], [0.1, \"#c51b7d\"], [0.2, \"#de77ae\"], [0.3, \"#f1b6da\"], [0.4, \"#fde0ef\"], [0.5, \"#f7f7f7\"], [0.6, \"#e6f5d0\"], [0.7, \"#b8e186\"], [0.8, \"#7fbc41\"], [0.9, \"#4d9221\"], [1, \"#276419\"]], \"sequential\": [[0.0, \"#0d0887\"], [0.1111111111111111, \"#46039f\"], [0.2222222222222222, \"#7201a8\"], [0.3333333333333333, \"#9c179e\"], [0.4444444444444444, \"#bd3786\"], [0.5555555555555556, \"#d8576b\"], [0.6666666666666666, \"#ed7953\"], [0.7777777777777778, \"#fb9f3a\"], [0.8888888888888888, \"#fdca26\"], [1.0, \"#f0f921\"]], \"sequentialminus\": [[0.0, \"#0d0887\"], [0.1111111111111111, \"#46039f\"], [0.2222222222222222, \"#7201a8\"], [0.3333333333333333, \"#9c179e\"], [0.4444444444444444, \"#bd3786\"], [0.5555555555555556, \"#d8576b\"], [0.6666666666666666, \"#ed7953\"], [0.7777777777777778, \"#fb9f3a\"], [0.8888888888888888, \"#fdca26\"], [1.0, \"#f0f921\"]]}, \"colorway\": [\"#636efa\", \"#EF553B\", \"#00cc96\", \"#ab63fa\", \"#FFA15A\", \"#19d3f3\", \"#FF6692\", \"#B6E880\", \"#FF97FF\", \"#FECB52\"], \"font\": {\"color\": \"#2a3f5f\"}, \"geo\": {\"bgcolor\": \"white\", \"lakecolor\": \"white\", \"landcolor\": \"#E5ECF6\", \"showlakes\": true, \"showland\": true, \"subunitcolor\": \"white\"}, \"hoverlabel\": {\"align\": \"left\"}, \"hovermode\": \"closest\", \"mapbox\": {\"style\": \"light\"}, \"paper_bgcolor\": \"white\", \"plot_bgcolor\": \"#E5ECF6\", \"polar\": {\"angularaxis\": {\"gridcolor\": \"white\", \"linecolor\": \"white\", \"ticks\": \"\"}, \"bgcolor\": \"#E5ECF6\", \"radialaxis\": {\"gridcolor\": \"white\", \"linecolor\": \"white\", \"ticks\": \"\"}}, \"scene\": {\"xaxis\": {\"backgroundcolor\": \"#E5ECF6\", \"gridcolor\": \"white\", \"gridwidth\": 2, \"linecolor\": \"white\", \"showbackground\": true, \"ticks\": \"\", \"zerolinecolor\": \"white\"}, \"yaxis\": {\"backgroundcolor\": \"#E5ECF6\", \"gridcolor\": \"white\", \"gridwidth\": 2, \"linecolor\": \"white\", \"showbackground\": true, \"ticks\": \"\", \"zerolinecolor\": \"white\"}, \"zaxis\": {\"backgroundcolor\": \"#E5ECF6\", \"gridcolor\": \"white\", \"gridwidth\": 2, \"linecolor\": \"white\", \"showbackground\": true, \"ticks\": \"\", \"zerolinecolor\": \"white\"}}, \"shapedefaults\": {\"line\": {\"color\": \"#2a3f5f\"}}, \"ternary\": {\"aaxis\": {\"gridcolor\": \"white\", \"linecolor\": \"white\", \"ticks\": \"\"}, \"baxis\": {\"gridcolor\": \"white\", \"linecolor\": \"white\", \"ticks\": \"\"}, \"bgcolor\": \"#E5ECF6\", \"caxis\": {\"gridcolor\": \"white\", \"linecolor\": \"white\", \"ticks\": \"\"}}, \"title\": {\"x\": 0.05}, \"xaxis\": {\"automargin\": true, \"gridcolor\": \"white\", \"linecolor\": \"white\", \"ticks\": \"\", \"title\": {\"standoff\": 15}, \"zerolinecolor\": \"white\", \"zerolinewidth\": 2}, \"yaxis\": {\"automargin\": true, \"gridcolor\": \"white\", \"linecolor\": \"white\", \"ticks\": \"\", \"title\": {\"standoff\": 15}, \"zerolinecolor\": \"white\", \"zerolinewidth\": 2}}}, \"title\": {\"font\": {\"color\": \"#351f39\", \"family\": \"Courier New\"}, \"text\": \"Party-wise Vote Share\"}},                        {\"responsive\": true}                    ).then(function(){\n",
       "                            \n",
       "var gd = document.getElementById('d5f15582-41ce-4504-98cc-99e32c25f7c6');\n",
       "var x = new MutationObserver(function (mutations, observer) {{\n",
       "        var display = window.getComputedStyle(gd).display;\n",
       "        if (!display || display === 'none') {{\n",
       "            console.log([gd, 'removed!']);\n",
       "            Plotly.purge(gd);\n",
       "            observer.disconnect();\n",
       "        }}\n",
       "}});\n",
       "\n",
       "// Listen for the removal of the full notebook cells\n",
       "var notebookContainer = gd.closest('#notebook-container');\n",
       "if (notebookContainer) {{\n",
       "    x.observe(notebookContainer, {childList: true});\n",
       "}}\n",
       "\n",
       "// Listen for the clearing of the current output cell\n",
       "var outputEl = gd.closest('.output');\n",
       "if (outputEl) {{\n",
       "    x.observe(outputEl, {childList: true});\n",
       "}}\n",
       "\n",
       "                        })                };                });            </script>        </div>"
      ]
     },
     "metadata": {},
     "output_type": "display_data"
    }
   ],
   "source": [
    "# Create a dataframe with total number of votes won by each party\n",
    "result = df_NOTA[df_NOTA['WINNER'] == 1].groupby('PARTY')['WINNER'].size()\n",
    "vote_Share = df_NOTA.groupby('PARTY')['TOTALVOTES'].sum()\n",
    "vote_Share_df = pd.DataFrame(data=vote_Share, index=vote_Share.index).sort_values(by=\"TOTALVOTES\", ascending=False)\n",
    "vote_Share_df.reset_index(level=0, inplace=True)\n",
    "\n",
    "# Sort out the top five parties according to the total number of votes\n",
    "vote_share_top5 = df_NOTA.groupby('PARTY')['TOTALVOTES'].sum().nlargest(5).index.tolist()\n",
    "\n",
    "# Create a method to label parties as 'Other' if they are not top five in total number of votes.\n",
    "def sort_party(data):\n",
    "    '''\n",
    "    Method to label parties as 'Other' if they are not top five in total number of votes.\n",
    "    data: input rows\n",
    "    '''\n",
    "    if data['PARTY'] not in vote_share_top5:\n",
    "        return 'Other'\n",
    "    else:\n",
    "        return data['PARTY']\n",
    "\n",
    "# Calling the method\n",
    "df_NOTA['Party New'] = df_NOTA.apply(sort_party, axis=1)\n",
    "\n",
    "# Visualize Party-wise vote share\n",
    "vote_count = df_NOTA.groupby('Party New')['TOTALVOTES'].sum()\n",
    "vote_count_fig = go.Figure(go.Pie(labels=vote_count.index, \n",
    "                                  values=vote_count.values,\n",
    "                                  pull=[0.1, 0.1, 0.1, 0.1, 0.1, 0.1],\n",
    "                                  marker=dict(line=dict(color=\"#000000\", \n",
    "                                                        width=2))))\n",
    "vote_count_fig.update_layout(title_text='Party-wise Vote Share',\n",
    "                             font_family=\"Courier New\",\n",
    "                             font_color=\"#351f39\",\n",
    "                             title_font_family=\"Courier New\",\n",
    "                             title_font_color=\"#351f39\")\n",
    "vote_count_fig.show()"
   ]
  },
  {
   "cell_type": "code",
   "execution_count": 20,
   "metadata": {},
   "outputs": [
    {
     "data": {
      "text/plain": [
       "Other    918\n",
       "BJP      420\n",
       "INC      411\n",
       "BSP      161\n",
       "AITC      47\n",
       "SP        39\n",
       "Name: Party New, dtype: int64"
      ]
     },
     "execution_count": 20,
     "metadata": {},
     "output_type": "execute_result"
    }
   ],
   "source": [
    "df_NOTA['Party New'].value_counts()"
   ]
  },
  {
   "cell_type": "markdown",
   "metadata": {},
   "source": [
    "The Bharatiya Janata Party garnered 38.8% of the votes in the 2019 Lok Sabha elections. This is the highest vote share received by the party nation-wide in any Lok Sabha election since the party was (re)formed in 1980. In contrast, the Congress party failed to improve on its vote share from 2014 and gathered 20.2% of the total votes. The dominant victory of the BJP and its allies — by repeating the 2014 win, and then some — suggests that the era of coalitions (and/or a central government with a relatively weak national party in power) determining the balance of power at Delhi has decisively come to an end."
   ]
  },
  {
   "cell_type": "markdown",
   "metadata": {},
   "source": [
    "### 6.4 Age Distribution Of Candidates"
   ]
  },
  {
   "cell_type": "code",
   "execution_count": 21,
   "metadata": {},
   "outputs": [
    {
     "data": {
      "application/vnd.plotly.v1+json": {
       "config": {
        "plotlyServerURL": "https://plot.ly"
       },
       "data": [
        {
         "alignmentgroup": "True",
         "bingroup": "x",
         "hovertemplate": "AGE=%{x}<br>count=%{y}<extra></extra>",
         "legendgroup": "",
         "marker": {
          "color": "indianred"
         },
         "name": "",
         "offsetgroup": "",
         "orientation": "v",
         "showlegend": false,
         "type": "histogram",
         "x": [
          52,
          54,
          52,
          58,
          47,
          54,
          37,
          34,
          62,
          58,
          38,
          69,
          68,
          66,
          64,
          40,
          60,
          60,
          64,
          46,
          58,
          60,
          64,
          60,
          54,
          52,
          64,
          32,
          44,
          61,
          46,
          51,
          62,
          43,
          52,
          42,
          44,
          69,
          63,
          49,
          77,
          46,
          60,
          41,
          35,
          47,
          31,
          46,
          28,
          59,
          67,
          56,
          55,
          61,
          38,
          71,
          36,
          43,
          48,
          33,
          71,
          47,
          56,
          64,
          42,
          47,
          46,
          67,
          58,
          55,
          43,
          58,
          35,
          52,
          43,
          56,
          65,
          54,
          65,
          53,
          69,
          62,
          51,
          48,
          45,
          29,
          58,
          65,
          60,
          59,
          53,
          60,
          45,
          52,
          46,
          61,
          49,
          43,
          50,
          57,
          64,
          71,
          55,
          43,
          40,
          61,
          33,
          55,
          59,
          41,
          46,
          63,
          55,
          37,
          41,
          52,
          50,
          66,
          36,
          81,
          70,
          26,
          72,
          49,
          54,
          46,
          61,
          37,
          54,
          69,
          47,
          38,
          68,
          47,
          51,
          56,
          42,
          45,
          48,
          65,
          59,
          37,
          62,
          70,
          47,
          47,
          63,
          56,
          49,
          53,
          50,
          34,
          55,
          67,
          41,
          56,
          62,
          42,
          43,
          35,
          58,
          46,
          49,
          76,
          68,
          61,
          39,
          45,
          40,
          34,
          40,
          66,
          68,
          38,
          63,
          40,
          63,
          55,
          55,
          38,
          66,
          73,
          60,
          38,
          66,
          53,
          68,
          62,
          64,
          51,
          46,
          62,
          56,
          51,
          39,
          52,
          50,
          40,
          70,
          75,
          39,
          49,
          33,
          59,
          74,
          59,
          37,
          55,
          39,
          53,
          66,
          46,
          52,
          59,
          43,
          28,
          64,
          37,
          51,
          55,
          28,
          58,
          65,
          61,
          44,
          46,
          38,
          50,
          65,
          72,
          67,
          40,
          42,
          62,
          62,
          65,
          43,
          31,
          26,
          42,
          65,
          64,
          65,
          51,
          68,
          34,
          49,
          34,
          43,
          71,
          67,
          54,
          59,
          55,
          65,
          48,
          60,
          68,
          61,
          57,
          67,
          73,
          50,
          39,
          61,
          61,
          58,
          37,
          49,
          53,
          70,
          63,
          61,
          59,
          69,
          51,
          45,
          55,
          39,
          44,
          66,
          44,
          65,
          57,
          68,
          47,
          44,
          28,
          42,
          51,
          70,
          38,
          46,
          42,
          55,
          38,
          29,
          40,
          45,
          65,
          50,
          42,
          52,
          41,
          33,
          54,
          36,
          48,
          62,
          57,
          66,
          32,
          59,
          27,
          63,
          69,
          67,
          65,
          68,
          44,
          52,
          55,
          31,
          44,
          44,
          59,
          59,
          42,
          49,
          42,
          41,
          43,
          50,
          64,
          37,
          68,
          56,
          39,
          59,
          56,
          61,
          37,
          73,
          40,
          55,
          50,
          62,
          52,
          40,
          42,
          45,
          28,
          67,
          58,
          62,
          69,
          27,
          64,
          43,
          30,
          46,
          55,
          60,
          46,
          54,
          44,
          49,
          71,
          49,
          63,
          71,
          50,
          57,
          65,
          66,
          42,
          33,
          36,
          53,
          55,
          59,
          65,
          55,
          47,
          51,
          51,
          47,
          49,
          63,
          54,
          51,
          49,
          38,
          39,
          72,
          67,
          57,
          45,
          45,
          49,
          63,
          53,
          61,
          47,
          44,
          42,
          50,
          58,
          58,
          58,
          57,
          66,
          75,
          50,
          34,
          66,
          71,
          59,
          71,
          58,
          42,
          62,
          43,
          52,
          32,
          66,
          70,
          78,
          44,
          64,
          74,
          52,
          43,
          64,
          48,
          55,
          62,
          52,
          40,
          36,
          43,
          66,
          41,
          52,
          41,
          54,
          31,
          48,
          49,
          65,
          62,
          33,
          44,
          56,
          31,
          40,
          26,
          55,
          54,
          59,
          58,
          44,
          57,
          56,
          45,
          47,
          53,
          48,
          56,
          46,
          55,
          49,
          76,
          79,
          65,
          48,
          55,
          72,
          49,
          62,
          64,
          68,
          67,
          60,
          45,
          43,
          68,
          42,
          58,
          41,
          57,
          68,
          61,
          55,
          36,
          68,
          33,
          66,
          61,
          38,
          48,
          69,
          49,
          40,
          44,
          62,
          63,
          67,
          56,
          46,
          40,
          35,
          33,
          31,
          52,
          58,
          64,
          51,
          52,
          34,
          57,
          63,
          44,
          42,
          59,
          57,
          34,
          49,
          67,
          58,
          64,
          33,
          71,
          65,
          46,
          49,
          71,
          54,
          36,
          67,
          51,
          69,
          35,
          65,
          43,
          69,
          58,
          65,
          38,
          61,
          41,
          50,
          57,
          30,
          43,
          56,
          52,
          45,
          63,
          42,
          58,
          59,
          77,
          63,
          52,
          50,
          66,
          45,
          46,
          31,
          43,
          48,
          49,
          48,
          67,
          52,
          42,
          52,
          40,
          44,
          70,
          53,
          68,
          37,
          37,
          71,
          53,
          67,
          37,
          39,
          72,
          60,
          45,
          44,
          45,
          59,
          61,
          25,
          37,
          50,
          37,
          48,
          46,
          59,
          55,
          35,
          51,
          65,
          72,
          52,
          43,
          43,
          41,
          58,
          70,
          54,
          35,
          45,
          64,
          55,
          68,
          62,
          62,
          43,
          78,
          61,
          78,
          61,
          50,
          54,
          66,
          65,
          66,
          44,
          35,
          52,
          62,
          63,
          52,
          68,
          44,
          68,
          32,
          64,
          56,
          56,
          49,
          54,
          55,
          48,
          66,
          44,
          59,
          54,
          61,
          48,
          63,
          74,
          55,
          50,
          67,
          52,
          53,
          59,
          42,
          30,
          55,
          73,
          49,
          61,
          27,
          46,
          48,
          38,
          53,
          49,
          52,
          36,
          56,
          63,
          33,
          67,
          76,
          34,
          65,
          59,
          59,
          46,
          36,
          78,
          53,
          70,
          64,
          50,
          52,
          47,
          53,
          46,
          82,
          36,
          53,
          52,
          62,
          61,
          41,
          29,
          40,
          46,
          44,
          51,
          58,
          64,
          60,
          77,
          43,
          48,
          41,
          53,
          52,
          50,
          53,
          59,
          65,
          37,
          49,
          69,
          60,
          58,
          71,
          56,
          50,
          66,
          49,
          32,
          33,
          47,
          41,
          44,
          45,
          42,
          68,
          64,
          43,
          61,
          55,
          46,
          59,
          70,
          60,
          28,
          60,
          29,
          61,
          68,
          71,
          38,
          51,
          56,
          52,
          72,
          55,
          74,
          73,
          42,
          34,
          50,
          63,
          41,
          60,
          48,
          56,
          60,
          44,
          46,
          31,
          26,
          58,
          45,
          70,
          54,
          57,
          54,
          39,
          68,
          70,
          49,
          68,
          42,
          64,
          60,
          44,
          61,
          49,
          67,
          46,
          46,
          37,
          49,
          49,
          57,
          58,
          67,
          59,
          69,
          40,
          59,
          56,
          63,
          78,
          30,
          37,
          68,
          54,
          55,
          56,
          68,
          60,
          60,
          54,
          38,
          38,
          68,
          61,
          44,
          49,
          41,
          45,
          61,
          50,
          72,
          82,
          40,
          69,
          60,
          46,
          56,
          55,
          40,
          63,
          50,
          65,
          50,
          65,
          42,
          44,
          51,
          62,
          62,
          61,
          56,
          56,
          44,
          60,
          56,
          62,
          37,
          56,
          51,
          60,
          32,
          58,
          48,
          59,
          53,
          65,
          52,
          42,
          60,
          65,
          42,
          48,
          53,
          43,
          67,
          64,
          50,
          48,
          48,
          63,
          51,
          29,
          65,
          45,
          53,
          54,
          59,
          47,
          56,
          48,
          48,
          54,
          58,
          64,
          51,
          38,
          50,
          44,
          42,
          36,
          55,
          48,
          40,
          52,
          34,
          61,
          48,
          48,
          64,
          62,
          66,
          55,
          49,
          62,
          58,
          52,
          60,
          43,
          42,
          36,
          41,
          57,
          44,
          51,
          69,
          40,
          32,
          52,
          54,
          35,
          44,
          36,
          26,
          51,
          55,
          66,
          37,
          67,
          45,
          61,
          52,
          39,
          41,
          68,
          67,
          41,
          55,
          70,
          69,
          70,
          71,
          74,
          61,
          77,
          46,
          38,
          65,
          64,
          56,
          63,
          45,
          48,
          43,
          49,
          31,
          44,
          46,
          66,
          37,
          47,
          59,
          52,
          38,
          51,
          62,
          31,
          41,
          56,
          43,
          73,
          53,
          52,
          42,
          65,
          61,
          52,
          51,
          68,
          49,
          57,
          61,
          52,
          37,
          55,
          65,
          25,
          49,
          43,
          48,
          65,
          65,
          33,
          52,
          40,
          31,
          27,
          35,
          44,
          38,
          49,
          39,
          39,
          62,
          64,
          54,
          47,
          46,
          61,
          66,
          45,
          60,
          43,
          55,
          39,
          33,
          54,
          58,
          60,
          29,
          71,
          68,
          50,
          57,
          40,
          50,
          54,
          54,
          55,
          42,
          50,
          61,
          46,
          28,
          50,
          69,
          56,
          50,
          26,
          44,
          71,
          54,
          47,
          37,
          61,
          58,
          53,
          44,
          70,
          55,
          50,
          57,
          58,
          55,
          57,
          64,
          38,
          40,
          33,
          63,
          61,
          67,
          45,
          27,
          65,
          52,
          45,
          45,
          44,
          56,
          75,
          66,
          64,
          68,
          66,
          55,
          39,
          58,
          67,
          37,
          50,
          44,
          40,
          57,
          70,
          52,
          67,
          42,
          48,
          58,
          49,
          66,
          59,
          57,
          26,
          50,
          65,
          55,
          33,
          37,
          54,
          61,
          53,
          51,
          51,
          43,
          36,
          64,
          44,
          43,
          45,
          29,
          57,
          59,
          59,
          52,
          57,
          53,
          41,
          26,
          47,
          67,
          68,
          56,
          43,
          48,
          69,
          32,
          58,
          70,
          70,
          50,
          68,
          44,
          42,
          50,
          78,
          43,
          67,
          71,
          51,
          57,
          49,
          63,
          57,
          30,
          39,
          49,
          36,
          42,
          52,
          38,
          39,
          55,
          33,
          45,
          37,
          38,
          49,
          54,
          55,
          36,
          55,
          41,
          51,
          47,
          67,
          51,
          66,
          33,
          60,
          59,
          38,
          71,
          73,
          79,
          60,
          67,
          30,
          54,
          48,
          72,
          54,
          63,
          59,
          39,
          47,
          69,
          51,
          50,
          59,
          43,
          60,
          32,
          48,
          59,
          58,
          57,
          43,
          40,
          59,
          45,
          55,
          31,
          36,
          45,
          67,
          55,
          70,
          66,
          63,
          80,
          46,
          42,
          63,
          55,
          29,
          47,
          56,
          53,
          64,
          74,
          64,
          39,
          27,
          46,
          54,
          41,
          47,
          47,
          53,
          46,
          54,
          49,
          61,
          33,
          54,
          67,
          50,
          64,
          68,
          60,
          68,
          37,
          54,
          41,
          64,
          52,
          44,
          53,
          62,
          41,
          59,
          36,
          54,
          59,
          49,
          60,
          60,
          67,
          32,
          61,
          59,
          61,
          65,
          48,
          48,
          38,
          52,
          46,
          46,
          50,
          50,
          75,
          54,
          46,
          67,
          43,
          68,
          47,
          79,
          51,
          41,
          65,
          48,
          38,
          50,
          46,
          42,
          34,
          57,
          69,
          56,
          64,
          46,
          78,
          50,
          41,
          70,
          40,
          42,
          62,
          46,
          40,
          43,
          57,
          59,
          62,
          75,
          38,
          63,
          41,
          36,
          25,
          61,
          66,
          68,
          43,
          53,
          45,
          47,
          47,
          41,
          55,
          56,
          69,
          62,
          56,
          47,
          47,
          57,
          71,
          46,
          60,
          46,
          61,
          60,
          33,
          33,
          55,
          63,
          61,
          45,
          54,
          70,
          44,
          57,
          54,
          57,
          60,
          42,
          31,
          61,
          33,
          58,
          60,
          57,
          69,
          33,
          35,
          75,
          52,
          64,
          57,
          48,
          58,
          71,
          59,
          48,
          45,
          61,
          38,
          64,
          47,
          36,
          53,
          33,
          67,
          70,
          60,
          67,
          51,
          55,
          43,
          55,
          59,
          55,
          66,
          43,
          41,
          61,
          47,
          81,
          38,
          43,
          66,
          52,
          59,
          57,
          70,
          53,
          59,
          46,
          65,
          61,
          49,
          35,
          47,
          39,
          59,
          36,
          56,
          64,
          43,
          49,
          48,
          48,
          68,
          51,
          47,
          40,
          28,
          65,
          33,
          51,
          63,
          55,
          34,
          43,
          65,
          69,
          59,
          68,
          52,
          39,
          37,
          52,
          54,
          41,
          39,
          39,
          58,
          42,
          46,
          64,
          62,
          62,
          42,
          49,
          74,
          68,
          68,
          47,
          64,
          73,
          42,
          60,
          52,
          42,
          36,
          77,
          55,
          36,
          58,
          62,
          58,
          38,
          39,
          43,
          49,
          47,
          40,
          35,
          49,
          72,
          61,
          40,
          36,
          57,
          57,
          44,
          48,
          45,
          57,
          51,
          68,
          29,
          72,
          68,
          62,
          35,
          59,
          45,
          51,
          43,
          66,
          32,
          29,
          49,
          34,
          56,
          58,
          73,
          69,
          30,
          42,
          34,
          55,
          72,
          51,
          62,
          53,
          37,
          64,
          67,
          61,
          50,
          48,
          64,
          61,
          58,
          43,
          42,
          58,
          57,
          53,
          36,
          45,
          55,
          55,
          42,
          68,
          42,
          48,
          58,
          50,
          67,
          61,
          48,
          36,
          63,
          56,
          32,
          65,
          51,
          60,
          45,
          48,
          76,
          45,
          44,
          39,
          59,
          38,
          37,
          30,
          64,
          57,
          56,
          53,
          61,
          29,
          58,
          56,
          25,
          56,
          56,
          60,
          67,
          77,
          62,
          68,
          28,
          65,
          38,
          62,
          74,
          28,
          32,
          31,
          59,
          39,
          62,
          34,
          36,
          49,
          66,
          67,
          64,
          28,
          55,
          64,
          56,
          41,
          51,
          32,
          67,
          46,
          38,
          51,
          65,
          47,
          67,
          44,
          48,
          49,
          44,
          28,
          57,
          57,
          55,
          62,
          54,
          61,
          58,
          64,
          46,
          37,
          25,
          40,
          32,
          47,
          61,
          62,
          86,
          64,
          78,
          54,
          38,
          36,
          45,
          68,
          43,
          74,
          46,
          30,
          54,
          60,
          58,
          61,
          44,
          53,
          55,
          72,
          44,
          40,
          63,
          74,
          35,
          48,
          53,
          44,
          63,
          56,
          66,
          62,
          58,
          32,
          58,
          44,
          32,
          50,
          31,
          65,
          27,
          42,
          48,
          47,
          69,
          52,
          73,
          44,
          51,
          30,
          31,
          51,
          51,
          54,
          52,
          48,
          78,
          46,
          52,
          56,
          64,
          39,
          69,
          58,
          32,
          38,
          64,
          36,
          49,
          52,
          54,
          63,
          41,
          63,
          39,
          48,
          63,
          67,
          61,
          63,
          30,
          42,
          33,
          58,
          48,
          46,
          35,
          57,
          29,
          25,
          31,
          31,
          51,
          43,
          37,
          49,
          50,
          58,
          47,
          33,
          48,
          55,
          48,
          58,
          53,
          45,
          47,
          61,
          27,
          46,
          59,
          33,
          46,
          54,
          46,
          47,
          63,
          77,
          64,
          62,
          72,
          28,
          44,
          57,
          30,
          33,
          52,
          73,
          52,
          56,
          62,
          42,
          44,
          60,
          32,
          52,
          53,
          53,
          83,
          58,
          41,
          43,
          77,
          49,
          46,
          41,
          59,
          62,
          43,
          67,
          42,
          58,
          39,
          60,
          48,
          73,
          46,
          52,
          26,
          50,
          32,
          27,
          41,
          58,
          45,
          50,
          79,
          35,
          36,
          42,
          50,
          31,
          73,
          68,
          60,
          59,
          44,
          66,
          32,
          32,
          44,
          41,
          60,
          68,
          57,
          46,
          47,
          68,
          52,
          62,
          44,
          63,
          53,
          39,
          70,
          59,
          51,
          69,
          66,
          35,
          42,
          43,
          48,
          63,
          66,
          76,
          51,
          57,
          52,
          55,
          59,
          58,
          64,
          60,
          65,
          47,
          56,
          69,
          70,
          60,
          33,
          53,
          54,
          47,
          55,
          41,
          53,
          63,
          60,
          64,
          52,
          44,
          71,
          56,
          46,
          65,
          50,
          45,
          59,
          47,
          41,
          44,
          61,
          75,
          30,
          43,
          50,
          60,
          76,
          50,
          58,
          62,
          42,
          78,
          86,
          74,
          38,
          53,
          55,
          54,
          59,
          65,
          51,
          53,
          62,
          54,
          59,
          60,
          62,
          52,
          50,
          43,
          53,
          56,
          49,
          31,
          51,
          42,
          64,
          41,
          47,
          56,
          57,
          56,
          58,
          40,
          63,
          61,
          61,
          51,
          39,
          62,
          66,
          43,
          56,
          44,
          48,
          72,
          26,
          36,
          46,
          46,
          62,
          32,
          42,
          54,
          35,
          38,
          69,
          54,
          54,
          68,
          47,
          49,
          65,
          43,
          51,
          53,
          48,
          66,
          48,
          58,
          58,
          66,
          55,
          30,
          48,
          64,
          44,
          47,
          45,
          36,
          52,
          29,
          53,
          58,
          48,
          57,
          67,
          39,
          52,
          51,
          56,
          65,
          45,
          37,
          65,
          53,
          63,
          37,
          48,
          50,
          41,
          64,
          47,
          46,
          64,
          37,
          64,
          28,
          43,
          63,
          49,
          47
         ],
         "xaxis": "x",
         "yaxis": "y"
        }
       ],
       "layout": {
        "barmode": "relative",
        "font": {
         "color": "#351f39",
         "family": "Courier New"
        },
        "legend": {
         "tracegroupgap": 0
        },
        "margin": {
         "t": 60
        },
        "template": {
         "data": {
          "bar": [
           {
            "error_x": {
             "color": "#2a3f5f"
            },
            "error_y": {
             "color": "#2a3f5f"
            },
            "marker": {
             "line": {
              "color": "#E5ECF6",
              "width": 0.5
             }
            },
            "type": "bar"
           }
          ],
          "barpolar": [
           {
            "marker": {
             "line": {
              "color": "#E5ECF6",
              "width": 0.5
             }
            },
            "type": "barpolar"
           }
          ],
          "carpet": [
           {
            "aaxis": {
             "endlinecolor": "#2a3f5f",
             "gridcolor": "white",
             "linecolor": "white",
             "minorgridcolor": "white",
             "startlinecolor": "#2a3f5f"
            },
            "baxis": {
             "endlinecolor": "#2a3f5f",
             "gridcolor": "white",
             "linecolor": "white",
             "minorgridcolor": "white",
             "startlinecolor": "#2a3f5f"
            },
            "type": "carpet"
           }
          ],
          "choropleth": [
           {
            "colorbar": {
             "outlinewidth": 0,
             "ticks": ""
            },
            "type": "choropleth"
           }
          ],
          "contour": [
           {
            "colorbar": {
             "outlinewidth": 0,
             "ticks": ""
            },
            "colorscale": [
             [
              0,
              "#0d0887"
             ],
             [
              0.1111111111111111,
              "#46039f"
             ],
             [
              0.2222222222222222,
              "#7201a8"
             ],
             [
              0.3333333333333333,
              "#9c179e"
             ],
             [
              0.4444444444444444,
              "#bd3786"
             ],
             [
              0.5555555555555556,
              "#d8576b"
             ],
             [
              0.6666666666666666,
              "#ed7953"
             ],
             [
              0.7777777777777778,
              "#fb9f3a"
             ],
             [
              0.8888888888888888,
              "#fdca26"
             ],
             [
              1,
              "#f0f921"
             ]
            ],
            "type": "contour"
           }
          ],
          "contourcarpet": [
           {
            "colorbar": {
             "outlinewidth": 0,
             "ticks": ""
            },
            "type": "contourcarpet"
           }
          ],
          "heatmap": [
           {
            "colorbar": {
             "outlinewidth": 0,
             "ticks": ""
            },
            "colorscale": [
             [
              0,
              "#0d0887"
             ],
             [
              0.1111111111111111,
              "#46039f"
             ],
             [
              0.2222222222222222,
              "#7201a8"
             ],
             [
              0.3333333333333333,
              "#9c179e"
             ],
             [
              0.4444444444444444,
              "#bd3786"
             ],
             [
              0.5555555555555556,
              "#d8576b"
             ],
             [
              0.6666666666666666,
              "#ed7953"
             ],
             [
              0.7777777777777778,
              "#fb9f3a"
             ],
             [
              0.8888888888888888,
              "#fdca26"
             ],
             [
              1,
              "#f0f921"
             ]
            ],
            "type": "heatmap"
           }
          ],
          "heatmapgl": [
           {
            "colorbar": {
             "outlinewidth": 0,
             "ticks": ""
            },
            "colorscale": [
             [
              0,
              "#0d0887"
             ],
             [
              0.1111111111111111,
              "#46039f"
             ],
             [
              0.2222222222222222,
              "#7201a8"
             ],
             [
              0.3333333333333333,
              "#9c179e"
             ],
             [
              0.4444444444444444,
              "#bd3786"
             ],
             [
              0.5555555555555556,
              "#d8576b"
             ],
             [
              0.6666666666666666,
              "#ed7953"
             ],
             [
              0.7777777777777778,
              "#fb9f3a"
             ],
             [
              0.8888888888888888,
              "#fdca26"
             ],
             [
              1,
              "#f0f921"
             ]
            ],
            "type": "heatmapgl"
           }
          ],
          "histogram": [
           {
            "marker": {
             "colorbar": {
              "outlinewidth": 0,
              "ticks": ""
             }
            },
            "type": "histogram"
           }
          ],
          "histogram2d": [
           {
            "colorbar": {
             "outlinewidth": 0,
             "ticks": ""
            },
            "colorscale": [
             [
              0,
              "#0d0887"
             ],
             [
              0.1111111111111111,
              "#46039f"
             ],
             [
              0.2222222222222222,
              "#7201a8"
             ],
             [
              0.3333333333333333,
              "#9c179e"
             ],
             [
              0.4444444444444444,
              "#bd3786"
             ],
             [
              0.5555555555555556,
              "#d8576b"
             ],
             [
              0.6666666666666666,
              "#ed7953"
             ],
             [
              0.7777777777777778,
              "#fb9f3a"
             ],
             [
              0.8888888888888888,
              "#fdca26"
             ],
             [
              1,
              "#f0f921"
             ]
            ],
            "type": "histogram2d"
           }
          ],
          "histogram2dcontour": [
           {
            "colorbar": {
             "outlinewidth": 0,
             "ticks": ""
            },
            "colorscale": [
             [
              0,
              "#0d0887"
             ],
             [
              0.1111111111111111,
              "#46039f"
             ],
             [
              0.2222222222222222,
              "#7201a8"
             ],
             [
              0.3333333333333333,
              "#9c179e"
             ],
             [
              0.4444444444444444,
              "#bd3786"
             ],
             [
              0.5555555555555556,
              "#d8576b"
             ],
             [
              0.6666666666666666,
              "#ed7953"
             ],
             [
              0.7777777777777778,
              "#fb9f3a"
             ],
             [
              0.8888888888888888,
              "#fdca26"
             ],
             [
              1,
              "#f0f921"
             ]
            ],
            "type": "histogram2dcontour"
           }
          ],
          "mesh3d": [
           {
            "colorbar": {
             "outlinewidth": 0,
             "ticks": ""
            },
            "type": "mesh3d"
           }
          ],
          "parcoords": [
           {
            "line": {
             "colorbar": {
              "outlinewidth": 0,
              "ticks": ""
             }
            },
            "type": "parcoords"
           }
          ],
          "pie": [
           {
            "automargin": true,
            "type": "pie"
           }
          ],
          "scatter": [
           {
            "marker": {
             "colorbar": {
              "outlinewidth": 0,
              "ticks": ""
             }
            },
            "type": "scatter"
           }
          ],
          "scatter3d": [
           {
            "line": {
             "colorbar": {
              "outlinewidth": 0,
              "ticks": ""
             }
            },
            "marker": {
             "colorbar": {
              "outlinewidth": 0,
              "ticks": ""
             }
            },
            "type": "scatter3d"
           }
          ],
          "scattercarpet": [
           {
            "marker": {
             "colorbar": {
              "outlinewidth": 0,
              "ticks": ""
             }
            },
            "type": "scattercarpet"
           }
          ],
          "scattergeo": [
           {
            "marker": {
             "colorbar": {
              "outlinewidth": 0,
              "ticks": ""
             }
            },
            "type": "scattergeo"
           }
          ],
          "scattergl": [
           {
            "marker": {
             "colorbar": {
              "outlinewidth": 0,
              "ticks": ""
             }
            },
            "type": "scattergl"
           }
          ],
          "scattermapbox": [
           {
            "marker": {
             "colorbar": {
              "outlinewidth": 0,
              "ticks": ""
             }
            },
            "type": "scattermapbox"
           }
          ],
          "scatterpolar": [
           {
            "marker": {
             "colorbar": {
              "outlinewidth": 0,
              "ticks": ""
             }
            },
            "type": "scatterpolar"
           }
          ],
          "scatterpolargl": [
           {
            "marker": {
             "colorbar": {
              "outlinewidth": 0,
              "ticks": ""
             }
            },
            "type": "scatterpolargl"
           }
          ],
          "scatterternary": [
           {
            "marker": {
             "colorbar": {
              "outlinewidth": 0,
              "ticks": ""
             }
            },
            "type": "scatterternary"
           }
          ],
          "surface": [
           {
            "colorbar": {
             "outlinewidth": 0,
             "ticks": ""
            },
            "colorscale": [
             [
              0,
              "#0d0887"
             ],
             [
              0.1111111111111111,
              "#46039f"
             ],
             [
              0.2222222222222222,
              "#7201a8"
             ],
             [
              0.3333333333333333,
              "#9c179e"
             ],
             [
              0.4444444444444444,
              "#bd3786"
             ],
             [
              0.5555555555555556,
              "#d8576b"
             ],
             [
              0.6666666666666666,
              "#ed7953"
             ],
             [
              0.7777777777777778,
              "#fb9f3a"
             ],
             [
              0.8888888888888888,
              "#fdca26"
             ],
             [
              1,
              "#f0f921"
             ]
            ],
            "type": "surface"
           }
          ],
          "table": [
           {
            "cells": {
             "fill": {
              "color": "#EBF0F8"
             },
             "line": {
              "color": "white"
             }
            },
            "header": {
             "fill": {
              "color": "#C8D4E3"
             },
             "line": {
              "color": "white"
             }
            },
            "type": "table"
           }
          ]
         },
         "layout": {
          "annotationdefaults": {
           "arrowcolor": "#2a3f5f",
           "arrowhead": 0,
           "arrowwidth": 1
          },
          "coloraxis": {
           "colorbar": {
            "outlinewidth": 0,
            "ticks": ""
           }
          },
          "colorscale": {
           "diverging": [
            [
             0,
             "#8e0152"
            ],
            [
             0.1,
             "#c51b7d"
            ],
            [
             0.2,
             "#de77ae"
            ],
            [
             0.3,
             "#f1b6da"
            ],
            [
             0.4,
             "#fde0ef"
            ],
            [
             0.5,
             "#f7f7f7"
            ],
            [
             0.6,
             "#e6f5d0"
            ],
            [
             0.7,
             "#b8e186"
            ],
            [
             0.8,
             "#7fbc41"
            ],
            [
             0.9,
             "#4d9221"
            ],
            [
             1,
             "#276419"
            ]
           ],
           "sequential": [
            [
             0,
             "#0d0887"
            ],
            [
             0.1111111111111111,
             "#46039f"
            ],
            [
             0.2222222222222222,
             "#7201a8"
            ],
            [
             0.3333333333333333,
             "#9c179e"
            ],
            [
             0.4444444444444444,
             "#bd3786"
            ],
            [
             0.5555555555555556,
             "#d8576b"
            ],
            [
             0.6666666666666666,
             "#ed7953"
            ],
            [
             0.7777777777777778,
             "#fb9f3a"
            ],
            [
             0.8888888888888888,
             "#fdca26"
            ],
            [
             1,
             "#f0f921"
            ]
           ],
           "sequentialminus": [
            [
             0,
             "#0d0887"
            ],
            [
             0.1111111111111111,
             "#46039f"
            ],
            [
             0.2222222222222222,
             "#7201a8"
            ],
            [
             0.3333333333333333,
             "#9c179e"
            ],
            [
             0.4444444444444444,
             "#bd3786"
            ],
            [
             0.5555555555555556,
             "#d8576b"
            ],
            [
             0.6666666666666666,
             "#ed7953"
            ],
            [
             0.7777777777777778,
             "#fb9f3a"
            ],
            [
             0.8888888888888888,
             "#fdca26"
            ],
            [
             1,
             "#f0f921"
            ]
           ]
          },
          "colorway": [
           "#636efa",
           "#EF553B",
           "#00cc96",
           "#ab63fa",
           "#FFA15A",
           "#19d3f3",
           "#FF6692",
           "#B6E880",
           "#FF97FF",
           "#FECB52"
          ],
          "font": {
           "color": "#2a3f5f"
          },
          "geo": {
           "bgcolor": "white",
           "lakecolor": "white",
           "landcolor": "#E5ECF6",
           "showlakes": true,
           "showland": true,
           "subunitcolor": "white"
          },
          "hoverlabel": {
           "align": "left"
          },
          "hovermode": "closest",
          "mapbox": {
           "style": "light"
          },
          "paper_bgcolor": "white",
          "plot_bgcolor": "#E5ECF6",
          "polar": {
           "angularaxis": {
            "gridcolor": "white",
            "linecolor": "white",
            "ticks": ""
           },
           "bgcolor": "#E5ECF6",
           "radialaxis": {
            "gridcolor": "white",
            "linecolor": "white",
            "ticks": ""
           }
          },
          "scene": {
           "xaxis": {
            "backgroundcolor": "#E5ECF6",
            "gridcolor": "white",
            "gridwidth": 2,
            "linecolor": "white",
            "showbackground": true,
            "ticks": "",
            "zerolinecolor": "white"
           },
           "yaxis": {
            "backgroundcolor": "#E5ECF6",
            "gridcolor": "white",
            "gridwidth": 2,
            "linecolor": "white",
            "showbackground": true,
            "ticks": "",
            "zerolinecolor": "white"
           },
           "zaxis": {
            "backgroundcolor": "#E5ECF6",
            "gridcolor": "white",
            "gridwidth": 2,
            "linecolor": "white",
            "showbackground": true,
            "ticks": "",
            "zerolinecolor": "white"
           }
          },
          "shapedefaults": {
           "line": {
            "color": "#2a3f5f"
           }
          },
          "ternary": {
           "aaxis": {
            "gridcolor": "white",
            "linecolor": "white",
            "ticks": ""
           },
           "baxis": {
            "gridcolor": "white",
            "linecolor": "white",
            "ticks": ""
           },
           "bgcolor": "#E5ECF6",
           "caxis": {
            "gridcolor": "white",
            "linecolor": "white",
            "ticks": ""
           }
          },
          "title": {
           "x": 0.05
          },
          "xaxis": {
           "automargin": true,
           "gridcolor": "white",
           "linecolor": "white",
           "ticks": "",
           "title": {
            "standoff": 15
           },
           "zerolinecolor": "white",
           "zerolinewidth": 2
          },
          "yaxis": {
           "automargin": true,
           "gridcolor": "white",
           "linecolor": "white",
           "ticks": "",
           "title": {
            "standoff": 15
           },
           "zerolinecolor": "white",
           "zerolinewidth": 2
          }
         }
        },
        "title": {
         "font": {
          "color": "#351f39",
          "family": "Courier New"
         },
         "text": "Age Distribution of Candidates"
        },
        "xaxis": {
         "anchor": "y",
         "domain": [
          0,
          1
         ],
         "title": {
          "text": "Distribution"
         }
        },
        "yaxis": {
         "anchor": "x",
         "domain": [
          0,
          1
         ],
         "title": {
          "text": "Age"
         }
        }
       }
      },
      "text/html": [
       "<div>                            <div id=\"c01ec0cf-d3a9-4d41-a4d1-8d7cc550afe9\" class=\"plotly-graph-div\" style=\"height:525px; width:100%;\"></div>            <script type=\"text/javascript\">                require([\"plotly\"], function(Plotly) {                    window.PLOTLYENV=window.PLOTLYENV || {};                                    if (document.getElementById(\"c01ec0cf-d3a9-4d41-a4d1-8d7cc550afe9\")) {                    Plotly.newPlot(                        \"c01ec0cf-d3a9-4d41-a4d1-8d7cc550afe9\",                        [{\"alignmentgroup\": \"True\", \"bingroup\": \"x\", \"hovertemplate\": \"AGE=%{x}<br>count=%{y}<extra></extra>\", \"legendgroup\": \"\", \"marker\": {\"color\": \"indianred\"}, \"name\": \"\", \"offsetgroup\": \"\", \"orientation\": \"v\", \"showlegend\": false, \"type\": \"histogram\", \"x\": [52.0, 54.0, 52.0, 58.0, 47.0, 54.0, 37.0, 34.0, 62.0, 58.0, 38.0, 69.0, 68.0, 66.0, 64.0, 40.0, 60.0, 60.0, 64.0, 46.0, 58.0, 60.0, 64.0, 60.0, 54.0, 52.0, 64.0, 32.0, 44.0, 61.0, 46.0, 51.0, 62.0, 43.0, 52.0, 42.0, 44.0, 69.0, 63.0, 49.0, 77.0, 46.0, 60.0, 41.0, 35.0, 47.0, 31.0, 46.0, 28.0, 59.0, 67.0, 56.0, 55.0, 61.0, 38.0, 71.0, 36.0, 43.0, 48.0, 33.0, 71.0, 47.0, 56.0, 64.0, 42.0, 47.0, 46.0, 67.0, 58.0, 55.0, 43.0, 58.0, 35.0, 52.0, 43.0, 56.0, 65.0, 54.0, 65.0, 53.0, 69.0, 62.0, 51.0, 48.0, 45.0, 29.0, 58.0, 65.0, 60.0, 59.0, 53.0, 60.0, 45.0, 52.0, 46.0, 61.0, 49.0, 43.0, 50.0, 57.0, 64.0, 71.0, 55.0, 43.0, 40.0, 61.0, 33.0, 55.0, 59.0, 41.0, 46.0, 63.0, 55.0, 37.0, 41.0, 52.0, 50.0, 66.0, 36.0, 81.0, 70.0, 26.0, 72.0, 49.0, 54.0, 46.0, 61.0, 37.0, 54.0, 69.0, 47.0, 38.0, 68.0, 47.0, 51.0, 56.0, 42.0, 45.0, 48.0, 65.0, 59.0, 37.0, 62.0, 70.0, 47.0, 47.0, 63.0, 56.0, 49.0, 53.0, 50.0, 34.0, 55.0, 67.0, 41.0, 56.0, 62.0, 42.0, 43.0, 35.0, 58.0, 46.0, 49.0, 76.0, 68.0, 61.0, 39.0, 45.0, 40.0, 34.0, 40.0, 66.0, 68.0, 38.0, 63.0, 40.0, 63.0, 55.0, 55.0, 38.0, 66.0, 73.0, 60.0, 38.0, 66.0, 53.0, 68.0, 62.0, 64.0, 51.0, 46.0, 62.0, 56.0, 51.0, 39.0, 52.0, 50.0, 40.0, 70.0, 75.0, 39.0, 49.0, 33.0, 59.0, 74.0, 59.0, 37.0, 55.0, 39.0, 53.0, 66.0, 46.0, 52.0, 59.0, 43.0, 28.0, 64.0, 37.0, 51.0, 55.0, 28.0, 58.0, 65.0, 61.0, 44.0, 46.0, 38.0, 50.0, 65.0, 72.0, 67.0, 40.0, 42.0, 62.0, 62.0, 65.0, 43.0, 31.0, 26.0, 42.0, 65.0, 64.0, 65.0, 51.0, 68.0, 34.0, 49.0, 34.0, 43.0, 71.0, 67.0, 54.0, 59.0, 55.0, 65.0, 48.0, 60.0, 68.0, 61.0, 57.0, 67.0, 73.0, 50.0, 39.0, 61.0, 61.0, 58.0, 37.0, 49.0, 53.0, 70.0, 63.0, 61.0, 59.0, 69.0, 51.0, 45.0, 55.0, 39.0, 44.0, 66.0, 44.0, 65.0, 57.0, 68.0, 47.0, 44.0, 28.0, 42.0, 51.0, 70.0, 38.0, 46.0, 42.0, 55.0, 38.0, 29.0, 40.0, 45.0, 65.0, 50.0, 42.0, 52.0, 41.0, 33.0, 54.0, 36.0, 48.0, 62.0, 57.0, 66.0, 32.0, 59.0, 27.0, 63.0, 69.0, 67.0, 65.0, 68.0, 44.0, 52.0, 55.0, 31.0, 44.0, 44.0, 59.0, 59.0, 42.0, 49.0, 42.0, 41.0, 43.0, 50.0, 64.0, 37.0, 68.0, 56.0, 39.0, 59.0, 56.0, 61.0, 37.0, 73.0, 40.0, 55.0, 50.0, 62.0, 52.0, 40.0, 42.0, 45.0, 28.0, 67.0, 58.0, 62.0, 69.0, 27.0, 64.0, 43.0, 30.0, 46.0, 55.0, 60.0, 46.0, 54.0, 44.0, 49.0, 71.0, 49.0, 63.0, 71.0, 50.0, 57.0, 65.0, 66.0, 42.0, 33.0, 36.0, 53.0, 55.0, 59.0, 65.0, 55.0, 47.0, 51.0, 51.0, 47.0, 49.0, 63.0, 54.0, 51.0, 49.0, 38.0, 39.0, 72.0, 67.0, 57.0, 45.0, 45.0, 49.0, 63.0, 53.0, 61.0, 47.0, 44.0, 42.0, 50.0, 58.0, 58.0, 58.0, 57.0, 66.0, 75.0, 50.0, 34.0, 66.0, 71.0, 59.0, 71.0, 58.0, 42.0, 62.0, 43.0, 52.0, 32.0, 66.0, 70.0, 78.0, 44.0, 64.0, 74.0, 52.0, 43.0, 64.0, 48.0, 55.0, 62.0, 52.0, 40.0, 36.0, 43.0, 66.0, 41.0, 52.0, 41.0, 54.0, 31.0, 48.0, 49.0, 65.0, 62.0, 33.0, 44.0, 56.0, 31.0, 40.0, 26.0, 55.0, 54.0, 59.0, 58.0, 44.0, 57.0, 56.0, 45.0, 47.0, 53.0, 48.0, 56.0, 46.0, 55.0, 49.0, 76.0, 79.0, 65.0, 48.0, 55.0, 72.0, 49.0, 62.0, 64.0, 68.0, 67.0, 60.0, 45.0, 43.0, 68.0, 42.0, 58.0, 41.0, 57.0, 68.0, 61.0, 55.0, 36.0, 68.0, 33.0, 66.0, 61.0, 38.0, 48.0, 69.0, 49.0, 40.0, 44.0, 62.0, 63.0, 67.0, 56.0, 46.0, 40.0, 35.0, 33.0, 31.0, 52.0, 58.0, 64.0, 51.0, 52.0, 34.0, 57.0, 63.0, 44.0, 42.0, 59.0, 57.0, 34.0, 49.0, 67.0, 58.0, 64.0, 33.0, 71.0, 65.0, 46.0, 49.0, 71.0, 54.0, 36.0, 67.0, 51.0, 69.0, 35.0, 65.0, 43.0, 69.0, 58.0, 65.0, 38.0, 61.0, 41.0, 50.0, 57.0, 30.0, 43.0, 56.0, 52.0, 45.0, 63.0, 42.0, 58.0, 59.0, 77.0, 63.0, 52.0, 50.0, 66.0, 45.0, 46.0, 31.0, 43.0, 48.0, 49.0, 48.0, 67.0, 52.0, 42.0, 52.0, 40.0, 44.0, 70.0, 53.0, 68.0, 37.0, 37.0, 71.0, 53.0, 67.0, 37.0, 39.0, 72.0, 60.0, 45.0, 44.0, 45.0, 59.0, 61.0, 25.0, 37.0, 50.0, 37.0, 48.0, 46.0, 59.0, 55.0, 35.0, 51.0, 65.0, 72.0, 52.0, 43.0, 43.0, 41.0, 58.0, 70.0, 54.0, 35.0, 45.0, 64.0, 55.0, 68.0, 62.0, 62.0, 43.0, 78.0, 61.0, 78.0, 61.0, 50.0, 54.0, 66.0, 65.0, 66.0, 44.0, 35.0, 52.0, 62.0, 63.0, 52.0, 68.0, 44.0, 68.0, 32.0, 64.0, 56.0, 56.0, 49.0, 54.0, 55.0, 48.0, 66.0, 44.0, 59.0, 54.0, 61.0, 48.0, 63.0, 74.0, 55.0, 50.0, 67.0, 52.0, 53.0, 59.0, 42.0, 30.0, 55.0, 73.0, 49.0, 61.0, 27.0, 46.0, 48.0, 38.0, 53.0, 49.0, 52.0, 36.0, 56.0, 63.0, 33.0, 67.0, 76.0, 34.0, 65.0, 59.0, 59.0, 46.0, 36.0, 78.0, 53.0, 70.0, 64.0, 50.0, 52.0, 47.0, 53.0, 46.0, 82.0, 36.0, 53.0, 52.0, 62.0, 61.0, 41.0, 29.0, 40.0, 46.0, 44.0, 51.0, 58.0, 64.0, 60.0, 77.0, 43.0, 48.0, 41.0, 53.0, 52.0, 50.0, 53.0, 59.0, 65.0, 37.0, 49.0, 69.0, 60.0, 58.0, 71.0, 56.0, 50.0, 66.0, 49.0, 32.0, 33.0, 47.0, 41.0, 44.0, 45.0, 42.0, 68.0, 64.0, 43.0, 61.0, 55.0, 46.0, 59.0, 70.0, 60.0, 28.0, 60.0, 29.0, 61.0, 68.0, 71.0, 38.0, 51.0, 56.0, 52.0, 72.0, 55.0, 74.0, 73.0, 42.0, 34.0, 50.0, 63.0, 41.0, 60.0, 48.0, 56.0, 60.0, 44.0, 46.0, 31.0, 26.0, 58.0, 45.0, 70.0, 54.0, 57.0, 54.0, 39.0, 68.0, 70.0, 49.0, 68.0, 42.0, 64.0, 60.0, 44.0, 61.0, 49.0, 67.0, 46.0, 46.0, 37.0, 49.0, 49.0, 57.0, 58.0, 67.0, 59.0, 69.0, 40.0, 59.0, 56.0, 63.0, 78.0, 30.0, 37.0, 68.0, 54.0, 55.0, 56.0, 68.0, 60.0, 60.0, 54.0, 38.0, 38.0, 68.0, 61.0, 44.0, 49.0, 41.0, 45.0, 61.0, 50.0, 72.0, 82.0, 40.0, 69.0, 60.0, 46.0, 56.0, 55.0, 40.0, 63.0, 50.0, 65.0, 50.0, 65.0, 42.0, 44.0, 51.0, 62.0, 62.0, 61.0, 56.0, 56.0, 44.0, 60.0, 56.0, 62.0, 37.0, 56.0, 51.0, 60.0, 32.0, 58.0, 48.0, 59.0, 53.0, 65.0, 52.0, 42.0, 60.0, 65.0, 42.0, 48.0, 53.0, 43.0, 67.0, 64.0, 50.0, 48.0, 48.0, 63.0, 51.0, 29.0, 65.0, 45.0, 53.0, 54.0, 59.0, 47.0, 56.0, 48.0, 48.0, 54.0, 58.0, 64.0, 51.0, 38.0, 50.0, 44.0, 42.0, 36.0, 55.0, 48.0, 40.0, 52.0, 34.0, 61.0, 48.0, 48.0, 64.0, 62.0, 66.0, 55.0, 49.0, 62.0, 58.0, 52.0, 60.0, 43.0, 42.0, 36.0, 41.0, 57.0, 44.0, 51.0, 69.0, 40.0, 32.0, 52.0, 54.0, 35.0, 44.0, 36.0, 26.0, 51.0, 55.0, 66.0, 37.0, 67.0, 45.0, 61.0, 52.0, 39.0, 41.0, 68.0, 67.0, 41.0, 55.0, 70.0, 69.0, 70.0, 71.0, 74.0, 61.0, 77.0, 46.0, 38.0, 65.0, 64.0, 56.0, 63.0, 45.0, 48.0, 43.0, 49.0, 31.0, 44.0, 46.0, 66.0, 37.0, 47.0, 59.0, 52.0, 38.0, 51.0, 62.0, 31.0, 41.0, 56.0, 43.0, 73.0, 53.0, 52.0, 42.0, 65.0, 61.0, 52.0, 51.0, 68.0, 49.0, 57.0, 61.0, 52.0, 37.0, 55.0, 65.0, 25.0, 49.0, 43.0, 48.0, 65.0, 65.0, 33.0, 52.0, 40.0, 31.0, 27.0, 35.0, 44.0, 38.0, 49.0, 39.0, 39.0, 62.0, 64.0, 54.0, 47.0, 46.0, 61.0, 66.0, 45.0, 60.0, 43.0, 55.0, 39.0, 33.0, 54.0, 58.0, 60.0, 29.0, 71.0, 68.0, 50.0, 57.0, 40.0, 50.0, 54.0, 54.0, 55.0, 42.0, 50.0, 61.0, 46.0, 28.0, 50.0, 69.0, 56.0, 50.0, 26.0, 44.0, 71.0, 54.0, 47.0, 37.0, 61.0, 58.0, 53.0, 44.0, 70.0, 55.0, 50.0, 57.0, 58.0, 55.0, 57.0, 64.0, 38.0, 40.0, 33.0, 63.0, 61.0, 67.0, 45.0, 27.0, 65.0, 52.0, 45.0, 45.0, 44.0, 56.0, 75.0, 66.0, 64.0, 68.0, 66.0, 55.0, 39.0, 58.0, 67.0, 37.0, 50.0, 44.0, 40.0, 57.0, 70.0, 52.0, 67.0, 42.0, 48.0, 58.0, 49.0, 66.0, 59.0, 57.0, 26.0, 50.0, 65.0, 55.0, 33.0, 37.0, 54.0, 61.0, 53.0, 51.0, 51.0, 43.0, 36.0, 64.0, 44.0, 43.0, 45.0, 29.0, 57.0, 59.0, 59.0, 52.0, 57.0, 53.0, 41.0, 26.0, 47.0, 67.0, 68.0, 56.0, 43.0, 48.0, 69.0, 32.0, 58.0, 70.0, 70.0, 50.0, 68.0, 44.0, 42.0, 50.0, 78.0, 43.0, 67.0, 71.0, 51.0, 57.0, 49.0, 63.0, 57.0, 30.0, 39.0, 49.0, 36.0, 42.0, 52.0, 38.0, 39.0, 55.0, 33.0, 45.0, 37.0, 38.0, 49.0, 54.0, 55.0, 36.0, 55.0, 41.0, 51.0, 47.0, 67.0, 51.0, 66.0, 33.0, 60.0, 59.0, 38.0, 71.0, 73.0, 79.0, 60.0, 67.0, 30.0, 54.0, 48.0, 72.0, 54.0, 63.0, 59.0, 39.0, 47.0, 69.0, 51.0, 50.0, 59.0, 43.0, 60.0, 32.0, 48.0, 59.0, 58.0, 57.0, 43.0, 40.0, 59.0, 45.0, 55.0, 31.0, 36.0, 45.0, 67.0, 55.0, 70.0, 66.0, 63.0, 80.0, 46.0, 42.0, 63.0, 55.0, 29.0, 47.0, 56.0, 53.0, 64.0, 74.0, 64.0, 39.0, 27.0, 46.0, 54.0, 41.0, 47.0, 47.0, 53.0, 46.0, 54.0, 49.0, 61.0, 33.0, 54.0, 67.0, 50.0, 64.0, 68.0, 60.0, 68.0, 37.0, 54.0, 41.0, 64.0, 52.0, 44.0, 53.0, 62.0, 41.0, 59.0, 36.0, 54.0, 59.0, 49.0, 60.0, 60.0, 67.0, 32.0, 61.0, 59.0, 61.0, 65.0, 48.0, 48.0, 38.0, 52.0, 46.0, 46.0, 50.0, 50.0, 75.0, 54.0, 46.0, 67.0, 43.0, 68.0, 47.0, 79.0, 51.0, 41.0, 65.0, 48.0, 38.0, 50.0, 46.0, 42.0, 34.0, 57.0, 69.0, 56.0, 64.0, 46.0, 78.0, 50.0, 41.0, 70.0, 40.0, 42.0, 62.0, 46.0, 40.0, 43.0, 57.0, 59.0, 62.0, 75.0, 38.0, 63.0, 41.0, 36.0, 25.0, 61.0, 66.0, 68.0, 43.0, 53.0, 45.0, 47.0, 47.0, 41.0, 55.0, 56.0, 69.0, 62.0, 56.0, 47.0, 47.0, 57.0, 71.0, 46.0, 60.0, 46.0, 61.0, 60.0, 33.0, 33.0, 55.0, 63.0, 61.0, 45.0, 54.0, 70.0, 44.0, 57.0, 54.0, 57.0, 60.0, 42.0, 31.0, 61.0, 33.0, 58.0, 60.0, 57.0, 69.0, 33.0, 35.0, 75.0, 52.0, 64.0, 57.0, 48.0, 58.0, 71.0, 59.0, 48.0, 45.0, 61.0, 38.0, 64.0, 47.0, 36.0, 53.0, 33.0, 67.0, 70.0, 60.0, 67.0, 51.0, 55.0, 43.0, 55.0, 59.0, 55.0, 66.0, 43.0, 41.0, 61.0, 47.0, 81.0, 38.0, 43.0, 66.0, 52.0, 59.0, 57.0, 70.0, 53.0, 59.0, 46.0, 65.0, 61.0, 49.0, 35.0, 47.0, 39.0, 59.0, 36.0, 56.0, 64.0, 43.0, 49.0, 48.0, 48.0, 68.0, 51.0, 47.0, 40.0, 28.0, 65.0, 33.0, 51.0, 63.0, 55.0, 34.0, 43.0, 65.0, 69.0, 59.0, 68.0, 52.0, 39.0, 37.0, 52.0, 54.0, 41.0, 39.0, 39.0, 58.0, 42.0, 46.0, 64.0, 62.0, 62.0, 42.0, 49.0, 74.0, 68.0, 68.0, 47.0, 64.0, 73.0, 42.0, 60.0, 52.0, 42.0, 36.0, 77.0, 55.0, 36.0, 58.0, 62.0, 58.0, 38.0, 39.0, 43.0, 49.0, 47.0, 40.0, 35.0, 49.0, 72.0, 61.0, 40.0, 36.0, 57.0, 57.0, 44.0, 48.0, 45.0, 57.0, 51.0, 68.0, 29.0, 72.0, 68.0, 62.0, 35.0, 59.0, 45.0, 51.0, 43.0, 66.0, 32.0, 29.0, 49.0, 34.0, 56.0, 58.0, 73.0, 69.0, 30.0, 42.0, 34.0, 55.0, 72.0, 51.0, 62.0, 53.0, 37.0, 64.0, 67.0, 61.0, 50.0, 48.0, 64.0, 61.0, 58.0, 43.0, 42.0, 58.0, 57.0, 53.0, 36.0, 45.0, 55.0, 55.0, 42.0, 68.0, 42.0, 48.0, 58.0, 50.0, 67.0, 61.0, 48.0, 36.0, 63.0, 56.0, 32.0, 65.0, 51.0, 60.0, 45.0, 48.0, 76.0, 45.0, 44.0, 39.0, 59.0, 38.0, 37.0, 30.0, 64.0, 57.0, 56.0, 53.0, 61.0, 29.0, 58.0, 56.0, 25.0, 56.0, 56.0, 60.0, 67.0, 77.0, 62.0, 68.0, 28.0, 65.0, 38.0, 62.0, 74.0, 28.0, 32.0, 31.0, 59.0, 39.0, 62.0, 34.0, 36.0, 49.0, 66.0, 67.0, 64.0, 28.0, 55.0, 64.0, 56.0, 41.0, 51.0, 32.0, 67.0, 46.0, 38.0, 51.0, 65.0, 47.0, 67.0, 44.0, 48.0, 49.0, 44.0, 28.0, 57.0, 57.0, 55.0, 62.0, 54.0, 61.0, 58.0, 64.0, 46.0, 37.0, 25.0, 40.0, 32.0, 47.0, 61.0, 62.0, 86.0, 64.0, 78.0, 54.0, 38.0, 36.0, 45.0, 68.0, 43.0, 74.0, 46.0, 30.0, 54.0, 60.0, 58.0, 61.0, 44.0, 53.0, 55.0, 72.0, 44.0, 40.0, 63.0, 74.0, 35.0, 48.0, 53.0, 44.0, 63.0, 56.0, 66.0, 62.0, 58.0, 32.0, 58.0, 44.0, 32.0, 50.0, 31.0, 65.0, 27.0, 42.0, 48.0, 47.0, 69.0, 52.0, 73.0, 44.0, 51.0, 30.0, 31.0, 51.0, 51.0, 54.0, 52.0, 48.0, 78.0, 46.0, 52.0, 56.0, 64.0, 39.0, 69.0, 58.0, 32.0, 38.0, 64.0, 36.0, 49.0, 52.0, 54.0, 63.0, 41.0, 63.0, 39.0, 48.0, 63.0, 67.0, 61.0, 63.0, 30.0, 42.0, 33.0, 58.0, 48.0, 46.0, 35.0, 57.0, 29.0, 25.0, 31.0, 31.0, 51.0, 43.0, 37.0, 49.0, 50.0, 58.0, 47.0, 33.0, 48.0, 55.0, 48.0, 58.0, 53.0, 45.0, 47.0, 61.0, 27.0, 46.0, 59.0, 33.0, 46.0, 54.0, 46.0, 47.0, 63.0, 77.0, 64.0, 62.0, 72.0, 28.0, 44.0, 57.0, 30.0, 33.0, 52.0, 73.0, 52.0, 56.0, 62.0, 42.0, 44.0, 60.0, 32.0, 52.0, 53.0, 53.0, 83.0, 58.0, 41.0, 43.0, 77.0, 49.0, 46.0, 41.0, 59.0, 62.0, 43.0, 67.0, 42.0, 58.0, 39.0, 60.0, 48.0, 73.0, 46.0, 52.0, 26.0, 50.0, 32.0, 27.0, 41.0, 58.0, 45.0, 50.0, 79.0, 35.0, 36.0, 42.0, 50.0, 31.0, 73.0, 68.0, 60.0, 59.0, 44.0, 66.0, 32.0, 32.0, 44.0, 41.0, 60.0, 68.0, 57.0, 46.0, 47.0, 68.0, 52.0, 62.0, 44.0, 63.0, 53.0, 39.0, 70.0, 59.0, 51.0, 69.0, 66.0, 35.0, 42.0, 43.0, 48.0, 63.0, 66.0, 76.0, 51.0, 57.0, 52.0, 55.0, 59.0, 58.0, 64.0, 60.0, 65.0, 47.0, 56.0, 69.0, 70.0, 60.0, 33.0, 53.0, 54.0, 47.0, 55.0, 41.0, 53.0, 63.0, 60.0, 64.0, 52.0, 44.0, 71.0, 56.0, 46.0, 65.0, 50.0, 45.0, 59.0, 47.0, 41.0, 44.0, 61.0, 75.0, 30.0, 43.0, 50.0, 60.0, 76.0, 50.0, 58.0, 62.0, 42.0, 78.0, 86.0, 74.0, 38.0, 53.0, 55.0, 54.0, 59.0, 65.0, 51.0, 53.0, 62.0, 54.0, 59.0, 60.0, 62.0, 52.0, 50.0, 43.0, 53.0, 56.0, 49.0, 31.0, 51.0, 42.0, 64.0, 41.0, 47.0, 56.0, 57.0, 56.0, 58.0, 40.0, 63.0, 61.0, 61.0, 51.0, 39.0, 62.0, 66.0, 43.0, 56.0, 44.0, 48.0, 72.0, 26.0, 36.0, 46.0, 46.0, 62.0, 32.0, 42.0, 54.0, 35.0, 38.0, 69.0, 54.0, 54.0, 68.0, 47.0, 49.0, 65.0, 43.0, 51.0, 53.0, 48.0, 66.0, 48.0, 58.0, 58.0, 66.0, 55.0, 30.0, 48.0, 64.0, 44.0, 47.0, 45.0, 36.0, 52.0, 29.0, 53.0, 58.0, 48.0, 57.0, 67.0, 39.0, 52.0, 51.0, 56.0, 65.0, 45.0, 37.0, 65.0, 53.0, 63.0, 37.0, 48.0, 50.0, 41.0, 64.0, 47.0, 46.0, 64.0, 37.0, 64.0, 28.0, 43.0, 63.0, 49.0, 47.0], \"xaxis\": \"x\", \"yaxis\": \"y\"}],                        {\"barmode\": \"relative\", \"font\": {\"color\": \"#351f39\", \"family\": \"Courier New\"}, \"legend\": {\"tracegroupgap\": 0}, \"margin\": {\"t\": 60}, \"template\": {\"data\": {\"bar\": [{\"error_x\": {\"color\": \"#2a3f5f\"}, \"error_y\": {\"color\": \"#2a3f5f\"}, \"marker\": {\"line\": {\"color\": \"#E5ECF6\", \"width\": 0.5}}, \"type\": \"bar\"}], \"barpolar\": [{\"marker\": {\"line\": {\"color\": \"#E5ECF6\", \"width\": 0.5}}, \"type\": \"barpolar\"}], \"carpet\": [{\"aaxis\": {\"endlinecolor\": \"#2a3f5f\", \"gridcolor\": \"white\", \"linecolor\": \"white\", \"minorgridcolor\": \"white\", \"startlinecolor\": \"#2a3f5f\"}, \"baxis\": {\"endlinecolor\": \"#2a3f5f\", \"gridcolor\": \"white\", \"linecolor\": \"white\", \"minorgridcolor\": \"white\", \"startlinecolor\": \"#2a3f5f\"}, \"type\": \"carpet\"}], \"choropleth\": [{\"colorbar\": {\"outlinewidth\": 0, \"ticks\": \"\"}, \"type\": \"choropleth\"}], \"contour\": [{\"colorbar\": {\"outlinewidth\": 0, \"ticks\": \"\"}, \"colorscale\": [[0.0, \"#0d0887\"], [0.1111111111111111, \"#46039f\"], [0.2222222222222222, \"#7201a8\"], [0.3333333333333333, \"#9c179e\"], [0.4444444444444444, \"#bd3786\"], [0.5555555555555556, \"#d8576b\"], [0.6666666666666666, \"#ed7953\"], [0.7777777777777778, \"#fb9f3a\"], [0.8888888888888888, \"#fdca26\"], [1.0, \"#f0f921\"]], \"type\": \"contour\"}], \"contourcarpet\": [{\"colorbar\": {\"outlinewidth\": 0, \"ticks\": \"\"}, \"type\": \"contourcarpet\"}], \"heatmap\": [{\"colorbar\": {\"outlinewidth\": 0, \"ticks\": \"\"}, \"colorscale\": [[0.0, \"#0d0887\"], [0.1111111111111111, \"#46039f\"], [0.2222222222222222, \"#7201a8\"], [0.3333333333333333, \"#9c179e\"], [0.4444444444444444, \"#bd3786\"], [0.5555555555555556, \"#d8576b\"], [0.6666666666666666, \"#ed7953\"], [0.7777777777777778, \"#fb9f3a\"], [0.8888888888888888, \"#fdca26\"], [1.0, \"#f0f921\"]], \"type\": \"heatmap\"}], \"heatmapgl\": [{\"colorbar\": {\"outlinewidth\": 0, \"ticks\": \"\"}, \"colorscale\": [[0.0, \"#0d0887\"], [0.1111111111111111, \"#46039f\"], [0.2222222222222222, \"#7201a8\"], [0.3333333333333333, \"#9c179e\"], [0.4444444444444444, \"#bd3786\"], [0.5555555555555556, \"#d8576b\"], [0.6666666666666666, \"#ed7953\"], [0.7777777777777778, \"#fb9f3a\"], [0.8888888888888888, \"#fdca26\"], [1.0, \"#f0f921\"]], \"type\": \"heatmapgl\"}], \"histogram\": [{\"marker\": {\"colorbar\": {\"outlinewidth\": 0, \"ticks\": \"\"}}, \"type\": \"histogram\"}], \"histogram2d\": [{\"colorbar\": {\"outlinewidth\": 0, \"ticks\": \"\"}, \"colorscale\": [[0.0, \"#0d0887\"], [0.1111111111111111, \"#46039f\"], [0.2222222222222222, \"#7201a8\"], [0.3333333333333333, \"#9c179e\"], [0.4444444444444444, \"#bd3786\"], [0.5555555555555556, \"#d8576b\"], [0.6666666666666666, \"#ed7953\"], [0.7777777777777778, \"#fb9f3a\"], [0.8888888888888888, \"#fdca26\"], [1.0, \"#f0f921\"]], \"type\": \"histogram2d\"}], \"histogram2dcontour\": [{\"colorbar\": {\"outlinewidth\": 0, \"ticks\": \"\"}, \"colorscale\": [[0.0, \"#0d0887\"], [0.1111111111111111, \"#46039f\"], [0.2222222222222222, \"#7201a8\"], [0.3333333333333333, \"#9c179e\"], [0.4444444444444444, \"#bd3786\"], [0.5555555555555556, \"#d8576b\"], [0.6666666666666666, \"#ed7953\"], [0.7777777777777778, \"#fb9f3a\"], [0.8888888888888888, \"#fdca26\"], [1.0, \"#f0f921\"]], \"type\": \"histogram2dcontour\"}], \"mesh3d\": [{\"colorbar\": {\"outlinewidth\": 0, \"ticks\": \"\"}, \"type\": \"mesh3d\"}], \"parcoords\": [{\"line\": {\"colorbar\": {\"outlinewidth\": 0, \"ticks\": \"\"}}, \"type\": \"parcoords\"}], \"pie\": [{\"automargin\": true, \"type\": \"pie\"}], \"scatter\": [{\"marker\": {\"colorbar\": {\"outlinewidth\": 0, \"ticks\": \"\"}}, \"type\": \"scatter\"}], \"scatter3d\": [{\"line\": {\"colorbar\": {\"outlinewidth\": 0, \"ticks\": \"\"}}, \"marker\": {\"colorbar\": {\"outlinewidth\": 0, \"ticks\": \"\"}}, \"type\": \"scatter3d\"}], \"scattercarpet\": [{\"marker\": {\"colorbar\": {\"outlinewidth\": 0, \"ticks\": \"\"}}, \"type\": \"scattercarpet\"}], \"scattergeo\": [{\"marker\": {\"colorbar\": {\"outlinewidth\": 0, \"ticks\": \"\"}}, \"type\": \"scattergeo\"}], \"scattergl\": [{\"marker\": {\"colorbar\": {\"outlinewidth\": 0, \"ticks\": \"\"}}, \"type\": \"scattergl\"}], \"scattermapbox\": [{\"marker\": {\"colorbar\": {\"outlinewidth\": 0, \"ticks\": \"\"}}, \"type\": \"scattermapbox\"}], \"scatterpolar\": [{\"marker\": {\"colorbar\": {\"outlinewidth\": 0, \"ticks\": \"\"}}, \"type\": \"scatterpolar\"}], \"scatterpolargl\": [{\"marker\": {\"colorbar\": {\"outlinewidth\": 0, \"ticks\": \"\"}}, \"type\": \"scatterpolargl\"}], \"scatterternary\": [{\"marker\": {\"colorbar\": {\"outlinewidth\": 0, \"ticks\": \"\"}}, \"type\": \"scatterternary\"}], \"surface\": [{\"colorbar\": {\"outlinewidth\": 0, \"ticks\": \"\"}, \"colorscale\": [[0.0, \"#0d0887\"], [0.1111111111111111, \"#46039f\"], [0.2222222222222222, \"#7201a8\"], [0.3333333333333333, \"#9c179e\"], [0.4444444444444444, \"#bd3786\"], [0.5555555555555556, \"#d8576b\"], [0.6666666666666666, \"#ed7953\"], [0.7777777777777778, \"#fb9f3a\"], [0.8888888888888888, \"#fdca26\"], [1.0, \"#f0f921\"]], \"type\": \"surface\"}], \"table\": [{\"cells\": {\"fill\": {\"color\": \"#EBF0F8\"}, \"line\": {\"color\": \"white\"}}, \"header\": {\"fill\": {\"color\": \"#C8D4E3\"}, \"line\": {\"color\": \"white\"}}, \"type\": \"table\"}]}, \"layout\": {\"annotationdefaults\": {\"arrowcolor\": \"#2a3f5f\", \"arrowhead\": 0, \"arrowwidth\": 1}, \"coloraxis\": {\"colorbar\": {\"outlinewidth\": 0, \"ticks\": \"\"}}, \"colorscale\": {\"diverging\": [[0, \"#8e0152\"], [0.1, \"#c51b7d\"], [0.2, \"#de77ae\"], [0.3, \"#f1b6da\"], [0.4, \"#fde0ef\"], [0.5, \"#f7f7f7\"], [0.6, \"#e6f5d0\"], [0.7, \"#b8e186\"], [0.8, \"#7fbc41\"], [0.9, \"#4d9221\"], [1, \"#276419\"]], \"sequential\": [[0.0, \"#0d0887\"], [0.1111111111111111, \"#46039f\"], [0.2222222222222222, \"#7201a8\"], [0.3333333333333333, \"#9c179e\"], [0.4444444444444444, \"#bd3786\"], [0.5555555555555556, \"#d8576b\"], [0.6666666666666666, \"#ed7953\"], [0.7777777777777778, \"#fb9f3a\"], [0.8888888888888888, \"#fdca26\"], [1.0, \"#f0f921\"]], \"sequentialminus\": [[0.0, \"#0d0887\"], [0.1111111111111111, \"#46039f\"], [0.2222222222222222, \"#7201a8\"], [0.3333333333333333, \"#9c179e\"], [0.4444444444444444, \"#bd3786\"], [0.5555555555555556, \"#d8576b\"], [0.6666666666666666, \"#ed7953\"], [0.7777777777777778, \"#fb9f3a\"], [0.8888888888888888, \"#fdca26\"], [1.0, \"#f0f921\"]]}, \"colorway\": [\"#636efa\", \"#EF553B\", \"#00cc96\", \"#ab63fa\", \"#FFA15A\", \"#19d3f3\", \"#FF6692\", \"#B6E880\", \"#FF97FF\", \"#FECB52\"], \"font\": {\"color\": \"#2a3f5f\"}, \"geo\": {\"bgcolor\": \"white\", \"lakecolor\": \"white\", \"landcolor\": \"#E5ECF6\", \"showlakes\": true, \"showland\": true, \"subunitcolor\": \"white\"}, \"hoverlabel\": {\"align\": \"left\"}, \"hovermode\": \"closest\", \"mapbox\": {\"style\": \"light\"}, \"paper_bgcolor\": \"white\", \"plot_bgcolor\": \"#E5ECF6\", \"polar\": {\"angularaxis\": {\"gridcolor\": \"white\", \"linecolor\": \"white\", \"ticks\": \"\"}, \"bgcolor\": \"#E5ECF6\", \"radialaxis\": {\"gridcolor\": \"white\", \"linecolor\": \"white\", \"ticks\": \"\"}}, \"scene\": {\"xaxis\": {\"backgroundcolor\": \"#E5ECF6\", \"gridcolor\": \"white\", \"gridwidth\": 2, \"linecolor\": \"white\", \"showbackground\": true, \"ticks\": \"\", \"zerolinecolor\": \"white\"}, \"yaxis\": {\"backgroundcolor\": \"#E5ECF6\", \"gridcolor\": \"white\", \"gridwidth\": 2, \"linecolor\": \"white\", \"showbackground\": true, \"ticks\": \"\", \"zerolinecolor\": \"white\"}, \"zaxis\": {\"backgroundcolor\": \"#E5ECF6\", \"gridcolor\": \"white\", \"gridwidth\": 2, \"linecolor\": \"white\", \"showbackground\": true, \"ticks\": \"\", \"zerolinecolor\": \"white\"}}, \"shapedefaults\": {\"line\": {\"color\": \"#2a3f5f\"}}, \"ternary\": {\"aaxis\": {\"gridcolor\": \"white\", \"linecolor\": \"white\", \"ticks\": \"\"}, \"baxis\": {\"gridcolor\": \"white\", \"linecolor\": \"white\", \"ticks\": \"\"}, \"bgcolor\": \"#E5ECF6\", \"caxis\": {\"gridcolor\": \"white\", \"linecolor\": \"white\", \"ticks\": \"\"}}, \"title\": {\"x\": 0.05}, \"xaxis\": {\"automargin\": true, \"gridcolor\": \"white\", \"linecolor\": \"white\", \"ticks\": \"\", \"title\": {\"standoff\": 15}, \"zerolinecolor\": \"white\", \"zerolinewidth\": 2}, \"yaxis\": {\"automargin\": true, \"gridcolor\": \"white\", \"linecolor\": \"white\", \"ticks\": \"\", \"title\": {\"standoff\": 15}, \"zerolinecolor\": \"white\", \"zerolinewidth\": 2}}}, \"title\": {\"font\": {\"color\": \"#351f39\", \"family\": \"Courier New\"}, \"text\": \"Age Distribution of Candidates\"}, \"xaxis\": {\"anchor\": \"y\", \"domain\": [0.0, 1.0], \"title\": {\"text\": \"Distribution\"}}, \"yaxis\": {\"anchor\": \"x\", \"domain\": [0.0, 1.0], \"title\": {\"text\": \"Age\"}}},                        {\"responsive\": true}                    ).then(function(){\n",
       "                            \n",
       "var gd = document.getElementById('c01ec0cf-d3a9-4d41-a4d1-8d7cc550afe9');\n",
       "var x = new MutationObserver(function (mutations, observer) {{\n",
       "        var display = window.getComputedStyle(gd).display;\n",
       "        if (!display || display === 'none') {{\n",
       "            console.log([gd, 'removed!']);\n",
       "            Plotly.purge(gd);\n",
       "            observer.disconnect();\n",
       "        }}\n",
       "}});\n",
       "\n",
       "// Listen for the removal of the full notebook cells\n",
       "var notebookContainer = gd.closest('#notebook-container');\n",
       "if (notebookContainer) {{\n",
       "    x.observe(notebookContainer, {childList: true});\n",
       "}}\n",
       "\n",
       "// Listen for the clearing of the current output cell\n",
       "var outputEl = gd.closest('.output');\n",
       "if (outputEl) {{\n",
       "    x.observe(outputEl, {childList: true});\n",
       "}}\n",
       "\n",
       "                        })                };                });            </script>        </div>"
      ]
     },
     "metadata": {},
     "output_type": "display_data"
    }
   ],
   "source": [
    "# Visualize the age distribution of candidates\n",
    "age_distribution_fig = px.histogram(df_NOTA, \n",
    "                                    x=\"AGE\",\n",
    "                                    color_discrete_sequence=['indianred'])\n",
    "age_distribution_fig.update_layout(title_text='Age Distribution of Candidates',\n",
    "                                   xaxis_title=\"Distribution\",\n",
    "                                   yaxis_title=\"Age\")\n",
    "age_distribution_fig.update_layout(font_family=\"Courier New\",\n",
    "                                   font_color=\"#351f39\",\n",
    "                                   title_font_family=\"Courier New\",\n",
    "                                   title_font_color=\"#351f39\")\n",
    "age_distribution_fig.show()"
   ]
  },
  {
   "cell_type": "markdown",
   "metadata": {},
   "source": [
    "### 6.5 Caste Distribution Of Candidates"
   ]
  },
  {
   "cell_type": "code",
   "execution_count": 22,
   "metadata": {},
   "outputs": [
    {
     "data": {
      "application/vnd.plotly.v1+json": {
       "config": {
        "plotlyServerURL": "https://plot.ly"
       },
       "data": [
        {
         "alignmentgroup": "True",
         "hovertemplate": "Category=Winner<br>CATEGORY=%{x}<br>WINNER=%{y}<extra></extra>",
         "legendgroup": "Winner",
         "marker": {
          "color": "#636efa"
         },
         "name": "Winner",
         "offsetgroup": "Winner",
         "orientation": "v",
         "showlegend": true,
         "textposition": "auto",
         "type": "bar",
         "x": [
          "GENERAL",
          "SC",
          "ST"
         ],
         "xaxis": "x",
         "y": [
          399,
          85,
          55
         ],
         "yaxis": "y"
        },
        {
         "alignmentgroup": "True",
         "hovertemplate": "Category=Total<br>CATEGORY=%{x}<br>WINNER=%{y}<extra></extra>",
         "legendgroup": "Total",
         "marker": {
          "color": "#EF553B"
         },
         "name": "Total",
         "offsetgroup": "Total",
         "orientation": "v",
         "showlegend": true,
         "textposition": "auto",
         "type": "bar",
         "x": [
          "GENERAL",
          "SC",
          "ST"
         ],
         "xaxis": "x",
         "y": [
          1373,
          380,
          243
         ],
         "yaxis": "y"
        }
       ],
       "layout": {
        "barmode": "group",
        "font": {
         "color": "#351f39",
         "family": "Courier New"
        },
        "legend": {
         "title": {
          "text": "Category"
         },
         "tracegroupgap": 0
        },
        "margin": {
         "t": 60
        },
        "template": {
         "data": {
          "bar": [
           {
            "error_x": {
             "color": "#2a3f5f"
            },
            "error_y": {
             "color": "#2a3f5f"
            },
            "marker": {
             "line": {
              "color": "#E5ECF6",
              "width": 0.5
             }
            },
            "type": "bar"
           }
          ],
          "barpolar": [
           {
            "marker": {
             "line": {
              "color": "#E5ECF6",
              "width": 0.5
             }
            },
            "type": "barpolar"
           }
          ],
          "carpet": [
           {
            "aaxis": {
             "endlinecolor": "#2a3f5f",
             "gridcolor": "white",
             "linecolor": "white",
             "minorgridcolor": "white",
             "startlinecolor": "#2a3f5f"
            },
            "baxis": {
             "endlinecolor": "#2a3f5f",
             "gridcolor": "white",
             "linecolor": "white",
             "minorgridcolor": "white",
             "startlinecolor": "#2a3f5f"
            },
            "type": "carpet"
           }
          ],
          "choropleth": [
           {
            "colorbar": {
             "outlinewidth": 0,
             "ticks": ""
            },
            "type": "choropleth"
           }
          ],
          "contour": [
           {
            "colorbar": {
             "outlinewidth": 0,
             "ticks": ""
            },
            "colorscale": [
             [
              0,
              "#0d0887"
             ],
             [
              0.1111111111111111,
              "#46039f"
             ],
             [
              0.2222222222222222,
              "#7201a8"
             ],
             [
              0.3333333333333333,
              "#9c179e"
             ],
             [
              0.4444444444444444,
              "#bd3786"
             ],
             [
              0.5555555555555556,
              "#d8576b"
             ],
             [
              0.6666666666666666,
              "#ed7953"
             ],
             [
              0.7777777777777778,
              "#fb9f3a"
             ],
             [
              0.8888888888888888,
              "#fdca26"
             ],
             [
              1,
              "#f0f921"
             ]
            ],
            "type": "contour"
           }
          ],
          "contourcarpet": [
           {
            "colorbar": {
             "outlinewidth": 0,
             "ticks": ""
            },
            "type": "contourcarpet"
           }
          ],
          "heatmap": [
           {
            "colorbar": {
             "outlinewidth": 0,
             "ticks": ""
            },
            "colorscale": [
             [
              0,
              "#0d0887"
             ],
             [
              0.1111111111111111,
              "#46039f"
             ],
             [
              0.2222222222222222,
              "#7201a8"
             ],
             [
              0.3333333333333333,
              "#9c179e"
             ],
             [
              0.4444444444444444,
              "#bd3786"
             ],
             [
              0.5555555555555556,
              "#d8576b"
             ],
             [
              0.6666666666666666,
              "#ed7953"
             ],
             [
              0.7777777777777778,
              "#fb9f3a"
             ],
             [
              0.8888888888888888,
              "#fdca26"
             ],
             [
              1,
              "#f0f921"
             ]
            ],
            "type": "heatmap"
           }
          ],
          "heatmapgl": [
           {
            "colorbar": {
             "outlinewidth": 0,
             "ticks": ""
            },
            "colorscale": [
             [
              0,
              "#0d0887"
             ],
             [
              0.1111111111111111,
              "#46039f"
             ],
             [
              0.2222222222222222,
              "#7201a8"
             ],
             [
              0.3333333333333333,
              "#9c179e"
             ],
             [
              0.4444444444444444,
              "#bd3786"
             ],
             [
              0.5555555555555556,
              "#d8576b"
             ],
             [
              0.6666666666666666,
              "#ed7953"
             ],
             [
              0.7777777777777778,
              "#fb9f3a"
             ],
             [
              0.8888888888888888,
              "#fdca26"
             ],
             [
              1,
              "#f0f921"
             ]
            ],
            "type": "heatmapgl"
           }
          ],
          "histogram": [
           {
            "marker": {
             "colorbar": {
              "outlinewidth": 0,
              "ticks": ""
             }
            },
            "type": "histogram"
           }
          ],
          "histogram2d": [
           {
            "colorbar": {
             "outlinewidth": 0,
             "ticks": ""
            },
            "colorscale": [
             [
              0,
              "#0d0887"
             ],
             [
              0.1111111111111111,
              "#46039f"
             ],
             [
              0.2222222222222222,
              "#7201a8"
             ],
             [
              0.3333333333333333,
              "#9c179e"
             ],
             [
              0.4444444444444444,
              "#bd3786"
             ],
             [
              0.5555555555555556,
              "#d8576b"
             ],
             [
              0.6666666666666666,
              "#ed7953"
             ],
             [
              0.7777777777777778,
              "#fb9f3a"
             ],
             [
              0.8888888888888888,
              "#fdca26"
             ],
             [
              1,
              "#f0f921"
             ]
            ],
            "type": "histogram2d"
           }
          ],
          "histogram2dcontour": [
           {
            "colorbar": {
             "outlinewidth": 0,
             "ticks": ""
            },
            "colorscale": [
             [
              0,
              "#0d0887"
             ],
             [
              0.1111111111111111,
              "#46039f"
             ],
             [
              0.2222222222222222,
              "#7201a8"
             ],
             [
              0.3333333333333333,
              "#9c179e"
             ],
             [
              0.4444444444444444,
              "#bd3786"
             ],
             [
              0.5555555555555556,
              "#d8576b"
             ],
             [
              0.6666666666666666,
              "#ed7953"
             ],
             [
              0.7777777777777778,
              "#fb9f3a"
             ],
             [
              0.8888888888888888,
              "#fdca26"
             ],
             [
              1,
              "#f0f921"
             ]
            ],
            "type": "histogram2dcontour"
           }
          ],
          "mesh3d": [
           {
            "colorbar": {
             "outlinewidth": 0,
             "ticks": ""
            },
            "type": "mesh3d"
           }
          ],
          "parcoords": [
           {
            "line": {
             "colorbar": {
              "outlinewidth": 0,
              "ticks": ""
             }
            },
            "type": "parcoords"
           }
          ],
          "pie": [
           {
            "automargin": true,
            "type": "pie"
           }
          ],
          "scatter": [
           {
            "marker": {
             "colorbar": {
              "outlinewidth": 0,
              "ticks": ""
             }
            },
            "type": "scatter"
           }
          ],
          "scatter3d": [
           {
            "line": {
             "colorbar": {
              "outlinewidth": 0,
              "ticks": ""
             }
            },
            "marker": {
             "colorbar": {
              "outlinewidth": 0,
              "ticks": ""
             }
            },
            "type": "scatter3d"
           }
          ],
          "scattercarpet": [
           {
            "marker": {
             "colorbar": {
              "outlinewidth": 0,
              "ticks": ""
             }
            },
            "type": "scattercarpet"
           }
          ],
          "scattergeo": [
           {
            "marker": {
             "colorbar": {
              "outlinewidth": 0,
              "ticks": ""
             }
            },
            "type": "scattergeo"
           }
          ],
          "scattergl": [
           {
            "marker": {
             "colorbar": {
              "outlinewidth": 0,
              "ticks": ""
             }
            },
            "type": "scattergl"
           }
          ],
          "scattermapbox": [
           {
            "marker": {
             "colorbar": {
              "outlinewidth": 0,
              "ticks": ""
             }
            },
            "type": "scattermapbox"
           }
          ],
          "scatterpolar": [
           {
            "marker": {
             "colorbar": {
              "outlinewidth": 0,
              "ticks": ""
             }
            },
            "type": "scatterpolar"
           }
          ],
          "scatterpolargl": [
           {
            "marker": {
             "colorbar": {
              "outlinewidth": 0,
              "ticks": ""
             }
            },
            "type": "scatterpolargl"
           }
          ],
          "scatterternary": [
           {
            "marker": {
             "colorbar": {
              "outlinewidth": 0,
              "ticks": ""
             }
            },
            "type": "scatterternary"
           }
          ],
          "surface": [
           {
            "colorbar": {
             "outlinewidth": 0,
             "ticks": ""
            },
            "colorscale": [
             [
              0,
              "#0d0887"
             ],
             [
              0.1111111111111111,
              "#46039f"
             ],
             [
              0.2222222222222222,
              "#7201a8"
             ],
             [
              0.3333333333333333,
              "#9c179e"
             ],
             [
              0.4444444444444444,
              "#bd3786"
             ],
             [
              0.5555555555555556,
              "#d8576b"
             ],
             [
              0.6666666666666666,
              "#ed7953"
             ],
             [
              0.7777777777777778,
              "#fb9f3a"
             ],
             [
              0.8888888888888888,
              "#fdca26"
             ],
             [
              1,
              "#f0f921"
             ]
            ],
            "type": "surface"
           }
          ],
          "table": [
           {
            "cells": {
             "fill": {
              "color": "#EBF0F8"
             },
             "line": {
              "color": "white"
             }
            },
            "header": {
             "fill": {
              "color": "#C8D4E3"
             },
             "line": {
              "color": "white"
             }
            },
            "type": "table"
           }
          ]
         },
         "layout": {
          "annotationdefaults": {
           "arrowcolor": "#2a3f5f",
           "arrowhead": 0,
           "arrowwidth": 1
          },
          "coloraxis": {
           "colorbar": {
            "outlinewidth": 0,
            "ticks": ""
           }
          },
          "colorscale": {
           "diverging": [
            [
             0,
             "#8e0152"
            ],
            [
             0.1,
             "#c51b7d"
            ],
            [
             0.2,
             "#de77ae"
            ],
            [
             0.3,
             "#f1b6da"
            ],
            [
             0.4,
             "#fde0ef"
            ],
            [
             0.5,
             "#f7f7f7"
            ],
            [
             0.6,
             "#e6f5d0"
            ],
            [
             0.7,
             "#b8e186"
            ],
            [
             0.8,
             "#7fbc41"
            ],
            [
             0.9,
             "#4d9221"
            ],
            [
             1,
             "#276419"
            ]
           ],
           "sequential": [
            [
             0,
             "#0d0887"
            ],
            [
             0.1111111111111111,
             "#46039f"
            ],
            [
             0.2222222222222222,
             "#7201a8"
            ],
            [
             0.3333333333333333,
             "#9c179e"
            ],
            [
             0.4444444444444444,
             "#bd3786"
            ],
            [
             0.5555555555555556,
             "#d8576b"
            ],
            [
             0.6666666666666666,
             "#ed7953"
            ],
            [
             0.7777777777777778,
             "#fb9f3a"
            ],
            [
             0.8888888888888888,
             "#fdca26"
            ],
            [
             1,
             "#f0f921"
            ]
           ],
           "sequentialminus": [
            [
             0,
             "#0d0887"
            ],
            [
             0.1111111111111111,
             "#46039f"
            ],
            [
             0.2222222222222222,
             "#7201a8"
            ],
            [
             0.3333333333333333,
             "#9c179e"
            ],
            [
             0.4444444444444444,
             "#bd3786"
            ],
            [
             0.5555555555555556,
             "#d8576b"
            ],
            [
             0.6666666666666666,
             "#ed7953"
            ],
            [
             0.7777777777777778,
             "#fb9f3a"
            ],
            [
             0.8888888888888888,
             "#fdca26"
            ],
            [
             1,
             "#f0f921"
            ]
           ]
          },
          "colorway": [
           "#636efa",
           "#EF553B",
           "#00cc96",
           "#ab63fa",
           "#FFA15A",
           "#19d3f3",
           "#FF6692",
           "#B6E880",
           "#FF97FF",
           "#FECB52"
          ],
          "font": {
           "color": "#2a3f5f"
          },
          "geo": {
           "bgcolor": "white",
           "lakecolor": "white",
           "landcolor": "#E5ECF6",
           "showlakes": true,
           "showland": true,
           "subunitcolor": "white"
          },
          "hoverlabel": {
           "align": "left"
          },
          "hovermode": "closest",
          "mapbox": {
           "style": "light"
          },
          "paper_bgcolor": "white",
          "plot_bgcolor": "#E5ECF6",
          "polar": {
           "angularaxis": {
            "gridcolor": "white",
            "linecolor": "white",
            "ticks": ""
           },
           "bgcolor": "#E5ECF6",
           "radialaxis": {
            "gridcolor": "white",
            "linecolor": "white",
            "ticks": ""
           }
          },
          "scene": {
           "xaxis": {
            "backgroundcolor": "#E5ECF6",
            "gridcolor": "white",
            "gridwidth": 2,
            "linecolor": "white",
            "showbackground": true,
            "ticks": "",
            "zerolinecolor": "white"
           },
           "yaxis": {
            "backgroundcolor": "#E5ECF6",
            "gridcolor": "white",
            "gridwidth": 2,
            "linecolor": "white",
            "showbackground": true,
            "ticks": "",
            "zerolinecolor": "white"
           },
           "zaxis": {
            "backgroundcolor": "#E5ECF6",
            "gridcolor": "white",
            "gridwidth": 2,
            "linecolor": "white",
            "showbackground": true,
            "ticks": "",
            "zerolinecolor": "white"
           }
          },
          "shapedefaults": {
           "line": {
            "color": "#2a3f5f"
           }
          },
          "ternary": {
           "aaxis": {
            "gridcolor": "white",
            "linecolor": "white",
            "ticks": ""
           },
           "baxis": {
            "gridcolor": "white",
            "linecolor": "white",
            "ticks": ""
           },
           "bgcolor": "#E5ECF6",
           "caxis": {
            "gridcolor": "white",
            "linecolor": "white",
            "ticks": ""
           }
          },
          "title": {
           "x": 0.05
          },
          "xaxis": {
           "automargin": true,
           "gridcolor": "white",
           "linecolor": "white",
           "ticks": "",
           "title": {
            "standoff": 15
           },
           "zerolinecolor": "white",
           "zerolinewidth": 2
          },
          "yaxis": {
           "automargin": true,
           "gridcolor": "white",
           "linecolor": "white",
           "ticks": "",
           "title": {
            "standoff": 15
           },
           "zerolinecolor": "white",
           "zerolinewidth": 2
          }
         }
        },
        "title": {
         "font": {
          "color": "#351f39",
          "family": "Courier New"
         },
         "text": "Caste distribution of candidates"
        },
        "xaxis": {
         "anchor": "y",
         "domain": [
          0,
          1
         ],
         "title": {
          "text": "Caste"
         }
        },
        "yaxis": {
         "anchor": "x",
         "domain": [
          0,
          1
         ],
         "title": {
          "text": "Count"
         }
        }
       }
      },
      "text/html": [
       "<div>                            <div id=\"bada7222-5d75-406e-a682-6432bf821698\" class=\"plotly-graph-div\" style=\"height:525px; width:100%;\"></div>            <script type=\"text/javascript\">                require([\"plotly\"], function(Plotly) {                    window.PLOTLYENV=window.PLOTLYENV || {};                                    if (document.getElementById(\"bada7222-5d75-406e-a682-6432bf821698\")) {                    Plotly.newPlot(                        \"bada7222-5d75-406e-a682-6432bf821698\",                        [{\"alignmentgroup\": \"True\", \"hovertemplate\": \"Category=Winner<br>CATEGORY=%{x}<br>WINNER=%{y}<extra></extra>\", \"legendgroup\": \"Winner\", \"marker\": {\"color\": \"#636efa\"}, \"name\": \"Winner\", \"offsetgroup\": \"Winner\", \"orientation\": \"v\", \"showlegend\": true, \"textposition\": \"auto\", \"type\": \"bar\", \"x\": [\"GENERAL\", \"SC\", \"ST\"], \"xaxis\": \"x\", \"y\": [399, 85, 55], \"yaxis\": \"y\"}, {\"alignmentgroup\": \"True\", \"hovertemplate\": \"Category=Total<br>CATEGORY=%{x}<br>WINNER=%{y}<extra></extra>\", \"legendgroup\": \"Total\", \"marker\": {\"color\": \"#EF553B\"}, \"name\": \"Total\", \"offsetgroup\": \"Total\", \"orientation\": \"v\", \"showlegend\": true, \"textposition\": \"auto\", \"type\": \"bar\", \"x\": [\"GENERAL\", \"SC\", \"ST\"], \"xaxis\": \"x\", \"y\": [1373, 380, 243], \"yaxis\": \"y\"}],                        {\"barmode\": \"group\", \"font\": {\"color\": \"#351f39\", \"family\": \"Courier New\"}, \"legend\": {\"title\": {\"text\": \"Category\"}, \"tracegroupgap\": 0}, \"margin\": {\"t\": 60}, \"template\": {\"data\": {\"bar\": [{\"error_x\": {\"color\": \"#2a3f5f\"}, \"error_y\": {\"color\": \"#2a3f5f\"}, \"marker\": {\"line\": {\"color\": \"#E5ECF6\", \"width\": 0.5}}, \"type\": \"bar\"}], \"barpolar\": [{\"marker\": {\"line\": {\"color\": \"#E5ECF6\", \"width\": 0.5}}, \"type\": \"barpolar\"}], \"carpet\": [{\"aaxis\": {\"endlinecolor\": \"#2a3f5f\", \"gridcolor\": \"white\", \"linecolor\": \"white\", \"minorgridcolor\": \"white\", \"startlinecolor\": \"#2a3f5f\"}, \"baxis\": {\"endlinecolor\": \"#2a3f5f\", \"gridcolor\": \"white\", \"linecolor\": \"white\", \"minorgridcolor\": \"white\", \"startlinecolor\": \"#2a3f5f\"}, \"type\": \"carpet\"}], \"choropleth\": [{\"colorbar\": {\"outlinewidth\": 0, \"ticks\": \"\"}, \"type\": \"choropleth\"}], \"contour\": [{\"colorbar\": {\"outlinewidth\": 0, \"ticks\": \"\"}, \"colorscale\": [[0.0, \"#0d0887\"], [0.1111111111111111, \"#46039f\"], [0.2222222222222222, \"#7201a8\"], [0.3333333333333333, \"#9c179e\"], [0.4444444444444444, \"#bd3786\"], [0.5555555555555556, \"#d8576b\"], [0.6666666666666666, \"#ed7953\"], [0.7777777777777778, \"#fb9f3a\"], [0.8888888888888888, \"#fdca26\"], [1.0, \"#f0f921\"]], \"type\": \"contour\"}], \"contourcarpet\": [{\"colorbar\": {\"outlinewidth\": 0, \"ticks\": \"\"}, \"type\": \"contourcarpet\"}], \"heatmap\": [{\"colorbar\": {\"outlinewidth\": 0, \"ticks\": \"\"}, \"colorscale\": [[0.0, \"#0d0887\"], [0.1111111111111111, \"#46039f\"], [0.2222222222222222, \"#7201a8\"], [0.3333333333333333, \"#9c179e\"], [0.4444444444444444, \"#bd3786\"], [0.5555555555555556, \"#d8576b\"], [0.6666666666666666, \"#ed7953\"], [0.7777777777777778, \"#fb9f3a\"], [0.8888888888888888, \"#fdca26\"], [1.0, \"#f0f921\"]], \"type\": \"heatmap\"}], \"heatmapgl\": [{\"colorbar\": {\"outlinewidth\": 0, \"ticks\": \"\"}, \"colorscale\": [[0.0, \"#0d0887\"], [0.1111111111111111, \"#46039f\"], [0.2222222222222222, \"#7201a8\"], [0.3333333333333333, \"#9c179e\"], [0.4444444444444444, \"#bd3786\"], [0.5555555555555556, \"#d8576b\"], [0.6666666666666666, \"#ed7953\"], [0.7777777777777778, \"#fb9f3a\"], [0.8888888888888888, \"#fdca26\"], [1.0, \"#f0f921\"]], \"type\": \"heatmapgl\"}], \"histogram\": [{\"marker\": {\"colorbar\": {\"outlinewidth\": 0, \"ticks\": \"\"}}, \"type\": \"histogram\"}], \"histogram2d\": [{\"colorbar\": {\"outlinewidth\": 0, \"ticks\": \"\"}, \"colorscale\": [[0.0, \"#0d0887\"], [0.1111111111111111, \"#46039f\"], [0.2222222222222222, \"#7201a8\"], [0.3333333333333333, \"#9c179e\"], [0.4444444444444444, \"#bd3786\"], [0.5555555555555556, \"#d8576b\"], [0.6666666666666666, \"#ed7953\"], [0.7777777777777778, \"#fb9f3a\"], [0.8888888888888888, \"#fdca26\"], [1.0, \"#f0f921\"]], \"type\": \"histogram2d\"}], \"histogram2dcontour\": [{\"colorbar\": {\"outlinewidth\": 0, \"ticks\": \"\"}, \"colorscale\": [[0.0, \"#0d0887\"], [0.1111111111111111, \"#46039f\"], [0.2222222222222222, \"#7201a8\"], [0.3333333333333333, \"#9c179e\"], [0.4444444444444444, \"#bd3786\"], [0.5555555555555556, \"#d8576b\"], [0.6666666666666666, \"#ed7953\"], [0.7777777777777778, \"#fb9f3a\"], [0.8888888888888888, \"#fdca26\"], [1.0, \"#f0f921\"]], \"type\": \"histogram2dcontour\"}], \"mesh3d\": [{\"colorbar\": {\"outlinewidth\": 0, \"ticks\": \"\"}, \"type\": \"mesh3d\"}], \"parcoords\": [{\"line\": {\"colorbar\": {\"outlinewidth\": 0, \"ticks\": \"\"}}, \"type\": \"parcoords\"}], \"pie\": [{\"automargin\": true, \"type\": \"pie\"}], \"scatter\": [{\"marker\": {\"colorbar\": {\"outlinewidth\": 0, \"ticks\": \"\"}}, \"type\": \"scatter\"}], \"scatter3d\": [{\"line\": {\"colorbar\": {\"outlinewidth\": 0, \"ticks\": \"\"}}, \"marker\": {\"colorbar\": {\"outlinewidth\": 0, \"ticks\": \"\"}}, \"type\": \"scatter3d\"}], \"scattercarpet\": [{\"marker\": {\"colorbar\": {\"outlinewidth\": 0, \"ticks\": \"\"}}, \"type\": \"scattercarpet\"}], \"scattergeo\": [{\"marker\": {\"colorbar\": {\"outlinewidth\": 0, \"ticks\": \"\"}}, \"type\": \"scattergeo\"}], \"scattergl\": [{\"marker\": {\"colorbar\": {\"outlinewidth\": 0, \"ticks\": \"\"}}, \"type\": \"scattergl\"}], \"scattermapbox\": [{\"marker\": {\"colorbar\": {\"outlinewidth\": 0, \"ticks\": \"\"}}, \"type\": \"scattermapbox\"}], \"scatterpolar\": [{\"marker\": {\"colorbar\": {\"outlinewidth\": 0, \"ticks\": \"\"}}, \"type\": \"scatterpolar\"}], \"scatterpolargl\": [{\"marker\": {\"colorbar\": {\"outlinewidth\": 0, \"ticks\": \"\"}}, \"type\": \"scatterpolargl\"}], \"scatterternary\": [{\"marker\": {\"colorbar\": {\"outlinewidth\": 0, \"ticks\": \"\"}}, \"type\": \"scatterternary\"}], \"surface\": [{\"colorbar\": {\"outlinewidth\": 0, \"ticks\": \"\"}, \"colorscale\": [[0.0, \"#0d0887\"], [0.1111111111111111, \"#46039f\"], [0.2222222222222222, \"#7201a8\"], [0.3333333333333333, \"#9c179e\"], [0.4444444444444444, \"#bd3786\"], [0.5555555555555556, \"#d8576b\"], [0.6666666666666666, \"#ed7953\"], [0.7777777777777778, \"#fb9f3a\"], [0.8888888888888888, \"#fdca26\"], [1.0, \"#f0f921\"]], \"type\": \"surface\"}], \"table\": [{\"cells\": {\"fill\": {\"color\": \"#EBF0F8\"}, \"line\": {\"color\": \"white\"}}, \"header\": {\"fill\": {\"color\": \"#C8D4E3\"}, \"line\": {\"color\": \"white\"}}, \"type\": \"table\"}]}, \"layout\": {\"annotationdefaults\": {\"arrowcolor\": \"#2a3f5f\", \"arrowhead\": 0, \"arrowwidth\": 1}, \"coloraxis\": {\"colorbar\": {\"outlinewidth\": 0, \"ticks\": \"\"}}, \"colorscale\": {\"diverging\": [[0, \"#8e0152\"], [0.1, \"#c51b7d\"], [0.2, \"#de77ae\"], [0.3, \"#f1b6da\"], [0.4, \"#fde0ef\"], [0.5, \"#f7f7f7\"], [0.6, \"#e6f5d0\"], [0.7, \"#b8e186\"], [0.8, \"#7fbc41\"], [0.9, \"#4d9221\"], [1, \"#276419\"]], \"sequential\": [[0.0, \"#0d0887\"], [0.1111111111111111, \"#46039f\"], [0.2222222222222222, \"#7201a8\"], [0.3333333333333333, \"#9c179e\"], [0.4444444444444444, \"#bd3786\"], [0.5555555555555556, \"#d8576b\"], [0.6666666666666666, \"#ed7953\"], [0.7777777777777778, \"#fb9f3a\"], [0.8888888888888888, \"#fdca26\"], [1.0, \"#f0f921\"]], \"sequentialminus\": [[0.0, \"#0d0887\"], [0.1111111111111111, \"#46039f\"], [0.2222222222222222, \"#7201a8\"], [0.3333333333333333, \"#9c179e\"], [0.4444444444444444, \"#bd3786\"], [0.5555555555555556, \"#d8576b\"], [0.6666666666666666, \"#ed7953\"], [0.7777777777777778, \"#fb9f3a\"], [0.8888888888888888, \"#fdca26\"], [1.0, \"#f0f921\"]]}, \"colorway\": [\"#636efa\", \"#EF553B\", \"#00cc96\", \"#ab63fa\", \"#FFA15A\", \"#19d3f3\", \"#FF6692\", \"#B6E880\", \"#FF97FF\", \"#FECB52\"], \"font\": {\"color\": \"#2a3f5f\"}, \"geo\": {\"bgcolor\": \"white\", \"lakecolor\": \"white\", \"landcolor\": \"#E5ECF6\", \"showlakes\": true, \"showland\": true, \"subunitcolor\": \"white\"}, \"hoverlabel\": {\"align\": \"left\"}, \"hovermode\": \"closest\", \"mapbox\": {\"style\": \"light\"}, \"paper_bgcolor\": \"white\", \"plot_bgcolor\": \"#E5ECF6\", \"polar\": {\"angularaxis\": {\"gridcolor\": \"white\", \"linecolor\": \"white\", \"ticks\": \"\"}, \"bgcolor\": \"#E5ECF6\", \"radialaxis\": {\"gridcolor\": \"white\", \"linecolor\": \"white\", \"ticks\": \"\"}}, \"scene\": {\"xaxis\": {\"backgroundcolor\": \"#E5ECF6\", \"gridcolor\": \"white\", \"gridwidth\": 2, \"linecolor\": \"white\", \"showbackground\": true, \"ticks\": \"\", \"zerolinecolor\": \"white\"}, \"yaxis\": {\"backgroundcolor\": \"#E5ECF6\", \"gridcolor\": \"white\", \"gridwidth\": 2, \"linecolor\": \"white\", \"showbackground\": true, \"ticks\": \"\", \"zerolinecolor\": \"white\"}, \"zaxis\": {\"backgroundcolor\": \"#E5ECF6\", \"gridcolor\": \"white\", \"gridwidth\": 2, \"linecolor\": \"white\", \"showbackground\": true, \"ticks\": \"\", \"zerolinecolor\": \"white\"}}, \"shapedefaults\": {\"line\": {\"color\": \"#2a3f5f\"}}, \"ternary\": {\"aaxis\": {\"gridcolor\": \"white\", \"linecolor\": \"white\", \"ticks\": \"\"}, \"baxis\": {\"gridcolor\": \"white\", \"linecolor\": \"white\", \"ticks\": \"\"}, \"bgcolor\": \"#E5ECF6\", \"caxis\": {\"gridcolor\": \"white\", \"linecolor\": \"white\", \"ticks\": \"\"}}, \"title\": {\"x\": 0.05}, \"xaxis\": {\"automargin\": true, \"gridcolor\": \"white\", \"linecolor\": \"white\", \"ticks\": \"\", \"title\": {\"standoff\": 15}, \"zerolinecolor\": \"white\", \"zerolinewidth\": 2}, \"yaxis\": {\"automargin\": true, \"gridcolor\": \"white\", \"linecolor\": \"white\", \"ticks\": \"\", \"title\": {\"standoff\": 15}, \"zerolinecolor\": \"white\", \"zerolinewidth\": 2}}}, \"title\": {\"font\": {\"color\": \"#351f39\", \"family\": \"Courier New\"}, \"text\": \"Caste distribution of candidates\"}, \"xaxis\": {\"anchor\": \"y\", \"domain\": [0.0, 1.0], \"title\": {\"text\": \"Caste\"}}, \"yaxis\": {\"anchor\": \"x\", \"domain\": [0.0, 1.0], \"title\": {\"text\": \"Count\"}}},                        {\"responsive\": true}                    ).then(function(){\n",
       "                            \n",
       "var gd = document.getElementById('bada7222-5d75-406e-a682-6432bf821698');\n",
       "var x = new MutationObserver(function (mutations, observer) {{\n",
       "        var display = window.getComputedStyle(gd).display;\n",
       "        if (!display || display === 'none') {{\n",
       "            console.log([gd, 'removed!']);\n",
       "            Plotly.purge(gd);\n",
       "            observer.disconnect();\n",
       "        }}\n",
       "}});\n",
       "\n",
       "// Listen for the removal of the full notebook cells\n",
       "var notebookContainer = gd.closest('#notebook-container');\n",
       "if (notebookContainer) {{\n",
       "    x.observe(notebookContainer, {childList: true});\n",
       "}}\n",
       "\n",
       "// Listen for the clearing of the current output cell\n",
       "var outputEl = gd.closest('.output');\n",
       "if (outputEl) {{\n",
       "    x.observe(outputEl, {childList: true});\n",
       "}}\n",
       "\n",
       "                        })                };                });            </script>        </div>"
      ]
     },
     "metadata": {},
     "output_type": "display_data"
    }
   ],
   "source": [
    "# Create a dataframe containing the caste distribution of winners\n",
    "winner_caste = df_NOTA[df_NOTA['WINNER'] == 1].groupby('CATEGORY')['WINNER'].size()\n",
    "winner_caste_df = pd.DataFrame(data=winner_caste)\n",
    "winner_caste_df.reset_index(level=0, inplace=True)\n",
    "winner_caste_df['Category'] = 'Winner'\n",
    "\n",
    "# Create a dataframe containing the caste distribution of total number of candidates\n",
    "total_caste = df_NOTA.groupby('CATEGORY').size()\n",
    "total_caste_df = pd.DataFrame(data=total_caste)\n",
    "total_caste_df.reset_index(level=0, inplace=True)\n",
    "total_caste_df['Category'] = 'Total'\n",
    "total_caste_df.rename(columns={0: \"WINNER\"}, inplace=True)\n",
    "\n",
    "# Concatenate the two dataframes\n",
    "winner_caste_df = pd.concat((winner_caste_df, total_caste_df))\n",
    "\n",
    "# Visualize the results\n",
    "caste_fig = px.bar(winner_caste_df, \n",
    "                   x='CATEGORY', \n",
    "                   y='WINNER',\n",
    "                   color='Category', \n",
    "                   barmode='group')\n",
    "caste_fig.update_layout(font_family=\"Courier New\",\n",
    "                        font_color=\"#351f39\",\n",
    "                        title_text='Caste distribution of candidates',\n",
    "                        title_font_family=\"Courier New\",\n",
    "                        title_font_color=\"#351f39\",\n",
    "                        xaxis_title='Caste',\n",
    "                        yaxis_title='Count')\n",
    "caste_fig.show()"
   ]
  },
  {
   "cell_type": "markdown",
   "metadata": {},
   "source": [
    "### 6.6 Top ten party-wise criminal records"
   ]
  },
  {
   "cell_type": "code",
   "execution_count": 23,
   "metadata": {},
   "outputs": [
    {
     "data": {
      "application/vnd.plotly.v1+json": {
       "config": {
        "plotlyServerURL": "https://plot.ly"
       },
       "data": [
        {
         "customdata": [
          [
           403
          ]
         ],
         "hovertemplate": "PARTY=%{x}<br>CRIMINALCASES=%{customdata[0]}<extra></extra>",
         "legendgroup": "BJP",
         "marker": {
          "color": "#636efa",
          "size": [
           403
          ],
          "sizemode": "area",
          "sizeref": 1.0075,
          "symbol": "circle"
         },
         "mode": "markers",
         "name": "BJP",
         "orientation": "v",
         "showlegend": true,
         "type": "scatter",
         "x": [
          "BJP"
         ],
         "xaxis": "x",
         "y": [
          403
         ],
         "yaxis": "y"
        },
        {
         "customdata": [
          [
           355
          ]
         ],
         "hovertemplate": "PARTY=%{x}<br>CRIMINALCASES=%{customdata[0]}<extra></extra>",
         "legendgroup": "INC",
         "marker": {
          "color": "#EF553B",
          "size": [
           355
          ],
          "sizemode": "area",
          "sizeref": 1.0075,
          "symbol": "circle"
         },
         "mode": "markers",
         "name": "INC",
         "orientation": "v",
         "showlegend": true,
         "type": "scatter",
         "x": [
          "INC"
         ],
         "xaxis": "x",
         "y": [
          355
         ],
         "yaxis": "y"
        },
        {
         "customdata": [
          [
           35
          ]
         ],
         "hovertemplate": "PARTY=%{x}<br>CRIMINALCASES=%{customdata[0]}<extra></extra>",
         "legendgroup": "SHS",
         "marker": {
          "color": "#00cc96",
          "size": [
           35
          ],
          "sizemode": "area",
          "sizeref": 1.0075,
          "symbol": "circle"
         },
         "mode": "markers",
         "name": "SHS",
         "orientation": "v",
         "showlegend": true,
         "type": "scatter",
         "x": [
          "SHS"
         ],
         "xaxis": "x",
         "y": [
          35
         ],
         "yaxis": "y"
        },
        {
         "customdata": [
          [
           32
          ]
         ],
         "hovertemplate": "PARTY=%{x}<br>CRIMINALCASES=%{customdata[0]}<extra></extra>",
         "legendgroup": "BSP",
         "marker": {
          "color": "#ab63fa",
          "size": [
           32
          ],
          "sizemode": "area",
          "sizeref": 1.0075,
          "symbol": "circle"
         },
         "mode": "markers",
         "name": "BSP",
         "orientation": "v",
         "showlegend": true,
         "type": "scatter",
         "x": [
          "BSP"
         ],
         "xaxis": "x",
         "y": [
          32
         ],
         "yaxis": "y"
        },
        {
         "customdata": [
          [
           31
          ]
         ],
         "hovertemplate": "PARTY=%{x}<br>CRIMINALCASES=%{customdata[0]}<extra></extra>",
         "legendgroup": "JD(U)",
         "marker": {
          "color": "#FFA15A",
          "size": [
           31
          ],
          "sizemode": "area",
          "sizeref": 1.0075,
          "symbol": "circle"
         },
         "mode": "markers",
         "name": "JD(U)",
         "orientation": "v",
         "showlegend": true,
         "type": "scatter",
         "x": [
          "JD(U)"
         ],
         "xaxis": "x",
         "y": [
          31
         ],
         "yaxis": "y"
        },
        {
         "customdata": [
          [
           28
          ]
         ],
         "hovertemplate": "PARTY=%{x}<br>CRIMINALCASES=%{customdata[0]}<extra></extra>",
         "legendgroup": "DMK",
         "marker": {
          "color": "#19d3f3",
          "size": [
           28
          ],
          "sizemode": "area",
          "sizeref": 1.0075,
          "symbol": "circle"
         },
         "mode": "markers",
         "name": "DMK",
         "orientation": "v",
         "showlegend": true,
         "type": "scatter",
         "x": [
          "DMK"
         ],
         "xaxis": "x",
         "y": [
          28
         ],
         "yaxis": "y"
        },
        {
         "customdata": [
          [
           24
          ]
         ],
         "hovertemplate": "PARTY=%{x}<br>CRIMINALCASES=%{customdata[0]}<extra></extra>",
         "legendgroup": "YSRCP",
         "marker": {
          "color": "#FF6692",
          "size": [
           24
          ],
          "sizemode": "area",
          "sizeref": 1.0075,
          "symbol": "circle"
         },
         "mode": "markers",
         "name": "YSRCP",
         "orientation": "v",
         "showlegend": true,
         "type": "scatter",
         "x": [
          "YSRCP"
         ],
         "xaxis": "x",
         "y": [
          24
         ],
         "yaxis": "y"
        },
        {
         "customdata": [
          [
           24
          ]
         ],
         "hovertemplate": "PARTY=%{x}<br>CRIMINALCASES=%{customdata[0]}<extra></extra>",
         "legendgroup": "TRS",
         "marker": {
          "color": "#B6E880",
          "size": [
           24
          ],
          "sizemode": "area",
          "sizeref": 1.0075,
          "symbol": "circle"
         },
         "mode": "markers",
         "name": "TRS",
         "orientation": "v",
         "showlegend": true,
         "type": "scatter",
         "x": [
          "TRS"
         ],
         "xaxis": "x",
         "y": [
          24
         ],
         "yaxis": "y"
        },
        {
         "customdata": [
          [
           17
          ]
         ],
         "hovertemplate": "PARTY=%{x}<br>CRIMINALCASES=%{customdata[0]}<extra></extra>",
         "legendgroup": "AITC",
         "marker": {
          "color": "#FF97FF",
          "size": [
           17
          ],
          "sizemode": "area",
          "sizeref": 1.0075,
          "symbol": "circle"
         },
         "mode": "markers",
         "name": "AITC",
         "orientation": "v",
         "showlegend": true,
         "type": "scatter",
         "x": [
          "AITC"
         ],
         "xaxis": "x",
         "y": [
          17
         ],
         "yaxis": "y"
        },
        {
         "customdata": [
          [
           12
          ]
         ],
         "hovertemplate": "PARTY=%{x}<br>CRIMINALCASES=%{customdata[0]}<extra></extra>",
         "legendgroup": "LJP",
         "marker": {
          "color": "#FECB52",
          "size": [
           12
          ],
          "sizemode": "area",
          "sizeref": 1.0075,
          "symbol": "circle"
         },
         "mode": "markers",
         "name": "LJP",
         "orientation": "v",
         "showlegend": true,
         "type": "scatter",
         "x": [
          "LJP"
         ],
         "xaxis": "x",
         "y": [
          12
         ],
         "yaxis": "y"
        }
       ],
       "layout": {
        "font": {
         "color": "#351f39",
         "family": "Courier New"
        },
        "legend": {
         "itemsizing": "constant",
         "title": {
          "text": "PARTY"
         },
         "tracegroupgap": 0
        },
        "margin": {
         "t": 60
        },
        "template": {
         "data": {
          "bar": [
           {
            "error_x": {
             "color": "#2a3f5f"
            },
            "error_y": {
             "color": "#2a3f5f"
            },
            "marker": {
             "line": {
              "color": "#E5ECF6",
              "width": 0.5
             }
            },
            "type": "bar"
           }
          ],
          "barpolar": [
           {
            "marker": {
             "line": {
              "color": "#E5ECF6",
              "width": 0.5
             }
            },
            "type": "barpolar"
           }
          ],
          "carpet": [
           {
            "aaxis": {
             "endlinecolor": "#2a3f5f",
             "gridcolor": "white",
             "linecolor": "white",
             "minorgridcolor": "white",
             "startlinecolor": "#2a3f5f"
            },
            "baxis": {
             "endlinecolor": "#2a3f5f",
             "gridcolor": "white",
             "linecolor": "white",
             "minorgridcolor": "white",
             "startlinecolor": "#2a3f5f"
            },
            "type": "carpet"
           }
          ],
          "choropleth": [
           {
            "colorbar": {
             "outlinewidth": 0,
             "ticks": ""
            },
            "type": "choropleth"
           }
          ],
          "contour": [
           {
            "colorbar": {
             "outlinewidth": 0,
             "ticks": ""
            },
            "colorscale": [
             [
              0,
              "#0d0887"
             ],
             [
              0.1111111111111111,
              "#46039f"
             ],
             [
              0.2222222222222222,
              "#7201a8"
             ],
             [
              0.3333333333333333,
              "#9c179e"
             ],
             [
              0.4444444444444444,
              "#bd3786"
             ],
             [
              0.5555555555555556,
              "#d8576b"
             ],
             [
              0.6666666666666666,
              "#ed7953"
             ],
             [
              0.7777777777777778,
              "#fb9f3a"
             ],
             [
              0.8888888888888888,
              "#fdca26"
             ],
             [
              1,
              "#f0f921"
             ]
            ],
            "type": "contour"
           }
          ],
          "contourcarpet": [
           {
            "colorbar": {
             "outlinewidth": 0,
             "ticks": ""
            },
            "type": "contourcarpet"
           }
          ],
          "heatmap": [
           {
            "colorbar": {
             "outlinewidth": 0,
             "ticks": ""
            },
            "colorscale": [
             [
              0,
              "#0d0887"
             ],
             [
              0.1111111111111111,
              "#46039f"
             ],
             [
              0.2222222222222222,
              "#7201a8"
             ],
             [
              0.3333333333333333,
              "#9c179e"
             ],
             [
              0.4444444444444444,
              "#bd3786"
             ],
             [
              0.5555555555555556,
              "#d8576b"
             ],
             [
              0.6666666666666666,
              "#ed7953"
             ],
             [
              0.7777777777777778,
              "#fb9f3a"
             ],
             [
              0.8888888888888888,
              "#fdca26"
             ],
             [
              1,
              "#f0f921"
             ]
            ],
            "type": "heatmap"
           }
          ],
          "heatmapgl": [
           {
            "colorbar": {
             "outlinewidth": 0,
             "ticks": ""
            },
            "colorscale": [
             [
              0,
              "#0d0887"
             ],
             [
              0.1111111111111111,
              "#46039f"
             ],
             [
              0.2222222222222222,
              "#7201a8"
             ],
             [
              0.3333333333333333,
              "#9c179e"
             ],
             [
              0.4444444444444444,
              "#bd3786"
             ],
             [
              0.5555555555555556,
              "#d8576b"
             ],
             [
              0.6666666666666666,
              "#ed7953"
             ],
             [
              0.7777777777777778,
              "#fb9f3a"
             ],
             [
              0.8888888888888888,
              "#fdca26"
             ],
             [
              1,
              "#f0f921"
             ]
            ],
            "type": "heatmapgl"
           }
          ],
          "histogram": [
           {
            "marker": {
             "colorbar": {
              "outlinewidth": 0,
              "ticks": ""
             }
            },
            "type": "histogram"
           }
          ],
          "histogram2d": [
           {
            "colorbar": {
             "outlinewidth": 0,
             "ticks": ""
            },
            "colorscale": [
             [
              0,
              "#0d0887"
             ],
             [
              0.1111111111111111,
              "#46039f"
             ],
             [
              0.2222222222222222,
              "#7201a8"
             ],
             [
              0.3333333333333333,
              "#9c179e"
             ],
             [
              0.4444444444444444,
              "#bd3786"
             ],
             [
              0.5555555555555556,
              "#d8576b"
             ],
             [
              0.6666666666666666,
              "#ed7953"
             ],
             [
              0.7777777777777778,
              "#fb9f3a"
             ],
             [
              0.8888888888888888,
              "#fdca26"
             ],
             [
              1,
              "#f0f921"
             ]
            ],
            "type": "histogram2d"
           }
          ],
          "histogram2dcontour": [
           {
            "colorbar": {
             "outlinewidth": 0,
             "ticks": ""
            },
            "colorscale": [
             [
              0,
              "#0d0887"
             ],
             [
              0.1111111111111111,
              "#46039f"
             ],
             [
              0.2222222222222222,
              "#7201a8"
             ],
             [
              0.3333333333333333,
              "#9c179e"
             ],
             [
              0.4444444444444444,
              "#bd3786"
             ],
             [
              0.5555555555555556,
              "#d8576b"
             ],
             [
              0.6666666666666666,
              "#ed7953"
             ],
             [
              0.7777777777777778,
              "#fb9f3a"
             ],
             [
              0.8888888888888888,
              "#fdca26"
             ],
             [
              1,
              "#f0f921"
             ]
            ],
            "type": "histogram2dcontour"
           }
          ],
          "mesh3d": [
           {
            "colorbar": {
             "outlinewidth": 0,
             "ticks": ""
            },
            "type": "mesh3d"
           }
          ],
          "parcoords": [
           {
            "line": {
             "colorbar": {
              "outlinewidth": 0,
              "ticks": ""
             }
            },
            "type": "parcoords"
           }
          ],
          "pie": [
           {
            "automargin": true,
            "type": "pie"
           }
          ],
          "scatter": [
           {
            "marker": {
             "colorbar": {
              "outlinewidth": 0,
              "ticks": ""
             }
            },
            "type": "scatter"
           }
          ],
          "scatter3d": [
           {
            "line": {
             "colorbar": {
              "outlinewidth": 0,
              "ticks": ""
             }
            },
            "marker": {
             "colorbar": {
              "outlinewidth": 0,
              "ticks": ""
             }
            },
            "type": "scatter3d"
           }
          ],
          "scattercarpet": [
           {
            "marker": {
             "colorbar": {
              "outlinewidth": 0,
              "ticks": ""
             }
            },
            "type": "scattercarpet"
           }
          ],
          "scattergeo": [
           {
            "marker": {
             "colorbar": {
              "outlinewidth": 0,
              "ticks": ""
             }
            },
            "type": "scattergeo"
           }
          ],
          "scattergl": [
           {
            "marker": {
             "colorbar": {
              "outlinewidth": 0,
              "ticks": ""
             }
            },
            "type": "scattergl"
           }
          ],
          "scattermapbox": [
           {
            "marker": {
             "colorbar": {
              "outlinewidth": 0,
              "ticks": ""
             }
            },
            "type": "scattermapbox"
           }
          ],
          "scatterpolar": [
           {
            "marker": {
             "colorbar": {
              "outlinewidth": 0,
              "ticks": ""
             }
            },
            "type": "scatterpolar"
           }
          ],
          "scatterpolargl": [
           {
            "marker": {
             "colorbar": {
              "outlinewidth": 0,
              "ticks": ""
             }
            },
            "type": "scatterpolargl"
           }
          ],
          "scatterternary": [
           {
            "marker": {
             "colorbar": {
              "outlinewidth": 0,
              "ticks": ""
             }
            },
            "type": "scatterternary"
           }
          ],
          "surface": [
           {
            "colorbar": {
             "outlinewidth": 0,
             "ticks": ""
            },
            "colorscale": [
             [
              0,
              "#0d0887"
             ],
             [
              0.1111111111111111,
              "#46039f"
             ],
             [
              0.2222222222222222,
              "#7201a8"
             ],
             [
              0.3333333333333333,
              "#9c179e"
             ],
             [
              0.4444444444444444,
              "#bd3786"
             ],
             [
              0.5555555555555556,
              "#d8576b"
             ],
             [
              0.6666666666666666,
              "#ed7953"
             ],
             [
              0.7777777777777778,
              "#fb9f3a"
             ],
             [
              0.8888888888888888,
              "#fdca26"
             ],
             [
              1,
              "#f0f921"
             ]
            ],
            "type": "surface"
           }
          ],
          "table": [
           {
            "cells": {
             "fill": {
              "color": "#EBF0F8"
             },
             "line": {
              "color": "white"
             }
            },
            "header": {
             "fill": {
              "color": "#C8D4E3"
             },
             "line": {
              "color": "white"
             }
            },
            "type": "table"
           }
          ]
         },
         "layout": {
          "annotationdefaults": {
           "arrowcolor": "#2a3f5f",
           "arrowhead": 0,
           "arrowwidth": 1
          },
          "coloraxis": {
           "colorbar": {
            "outlinewidth": 0,
            "ticks": ""
           }
          },
          "colorscale": {
           "diverging": [
            [
             0,
             "#8e0152"
            ],
            [
             0.1,
             "#c51b7d"
            ],
            [
             0.2,
             "#de77ae"
            ],
            [
             0.3,
             "#f1b6da"
            ],
            [
             0.4,
             "#fde0ef"
            ],
            [
             0.5,
             "#f7f7f7"
            ],
            [
             0.6,
             "#e6f5d0"
            ],
            [
             0.7,
             "#b8e186"
            ],
            [
             0.8,
             "#7fbc41"
            ],
            [
             0.9,
             "#4d9221"
            ],
            [
             1,
             "#276419"
            ]
           ],
           "sequential": [
            [
             0,
             "#0d0887"
            ],
            [
             0.1111111111111111,
             "#46039f"
            ],
            [
             0.2222222222222222,
             "#7201a8"
            ],
            [
             0.3333333333333333,
             "#9c179e"
            ],
            [
             0.4444444444444444,
             "#bd3786"
            ],
            [
             0.5555555555555556,
             "#d8576b"
            ],
            [
             0.6666666666666666,
             "#ed7953"
            ],
            [
             0.7777777777777778,
             "#fb9f3a"
            ],
            [
             0.8888888888888888,
             "#fdca26"
            ],
            [
             1,
             "#f0f921"
            ]
           ],
           "sequentialminus": [
            [
             0,
             "#0d0887"
            ],
            [
             0.1111111111111111,
             "#46039f"
            ],
            [
             0.2222222222222222,
             "#7201a8"
            ],
            [
             0.3333333333333333,
             "#9c179e"
            ],
            [
             0.4444444444444444,
             "#bd3786"
            ],
            [
             0.5555555555555556,
             "#d8576b"
            ],
            [
             0.6666666666666666,
             "#ed7953"
            ],
            [
             0.7777777777777778,
             "#fb9f3a"
            ],
            [
             0.8888888888888888,
             "#fdca26"
            ],
            [
             1,
             "#f0f921"
            ]
           ]
          },
          "colorway": [
           "#636efa",
           "#EF553B",
           "#00cc96",
           "#ab63fa",
           "#FFA15A",
           "#19d3f3",
           "#FF6692",
           "#B6E880",
           "#FF97FF",
           "#FECB52"
          ],
          "font": {
           "color": "#2a3f5f"
          },
          "geo": {
           "bgcolor": "white",
           "lakecolor": "white",
           "landcolor": "#E5ECF6",
           "showlakes": true,
           "showland": true,
           "subunitcolor": "white"
          },
          "hoverlabel": {
           "align": "left"
          },
          "hovermode": "closest",
          "mapbox": {
           "style": "light"
          },
          "paper_bgcolor": "white",
          "plot_bgcolor": "#E5ECF6",
          "polar": {
           "angularaxis": {
            "gridcolor": "white",
            "linecolor": "white",
            "ticks": ""
           },
           "bgcolor": "#E5ECF6",
           "radialaxis": {
            "gridcolor": "white",
            "linecolor": "white",
            "ticks": ""
           }
          },
          "scene": {
           "xaxis": {
            "backgroundcolor": "#E5ECF6",
            "gridcolor": "white",
            "gridwidth": 2,
            "linecolor": "white",
            "showbackground": true,
            "ticks": "",
            "zerolinecolor": "white"
           },
           "yaxis": {
            "backgroundcolor": "#E5ECF6",
            "gridcolor": "white",
            "gridwidth": 2,
            "linecolor": "white",
            "showbackground": true,
            "ticks": "",
            "zerolinecolor": "white"
           },
           "zaxis": {
            "backgroundcolor": "#E5ECF6",
            "gridcolor": "white",
            "gridwidth": 2,
            "linecolor": "white",
            "showbackground": true,
            "ticks": "",
            "zerolinecolor": "white"
           }
          },
          "shapedefaults": {
           "line": {
            "color": "#2a3f5f"
           }
          },
          "ternary": {
           "aaxis": {
            "gridcolor": "white",
            "linecolor": "white",
            "ticks": ""
           },
           "baxis": {
            "gridcolor": "white",
            "linecolor": "white",
            "ticks": ""
           },
           "bgcolor": "#E5ECF6",
           "caxis": {
            "gridcolor": "white",
            "linecolor": "white",
            "ticks": ""
           }
          },
          "title": {
           "x": 0.05
          },
          "xaxis": {
           "automargin": true,
           "gridcolor": "white",
           "linecolor": "white",
           "ticks": "",
           "title": {
            "standoff": 15
           },
           "zerolinecolor": "white",
           "zerolinewidth": 2
          },
          "yaxis": {
           "automargin": true,
           "gridcolor": "white",
           "linecolor": "white",
           "ticks": "",
           "title": {
            "standoff": 15
           },
           "zerolinecolor": "white",
           "zerolinewidth": 2
          }
         }
        },
        "title": {
         "font": {
          "color": "#351f39",
          "family": "Courier New"
         },
         "text": "Top 10 Party-wise criminal records"
        },
        "xaxis": {
         "anchor": "y",
         "categoryarray": [
          "BJP",
          "INC",
          "SHS",
          "BSP",
          "JD(U)",
          "DMK",
          "YSRCP",
          "TRS",
          "AITC",
          "LJP"
         ],
         "categoryorder": "array",
         "domain": [
          0,
          1
         ],
         "title": {
          "text": "Party"
         }
        },
        "yaxis": {
         "anchor": "x",
         "domain": [
          0,
          1
         ],
         "title": {
          "text": "Criminal Records"
         }
        }
       }
      },
      "text/html": [
       "<div>                            <div id=\"ee71148e-797f-43ff-964f-87d672a2afbc\" class=\"plotly-graph-div\" style=\"height:525px; width:100%;\"></div>            <script type=\"text/javascript\">                require([\"plotly\"], function(Plotly) {                    window.PLOTLYENV=window.PLOTLYENV || {};                                    if (document.getElementById(\"ee71148e-797f-43ff-964f-87d672a2afbc\")) {                    Plotly.newPlot(                        \"ee71148e-797f-43ff-964f-87d672a2afbc\",                        [{\"customdata\": [[403]], \"hovertemplate\": \"PARTY=%{x}<br>CRIMINALCASES=%{customdata[0]}<extra></extra>\", \"legendgroup\": \"BJP\", \"marker\": {\"color\": \"#636efa\", \"size\": [403], \"sizemode\": \"area\", \"sizeref\": 1.0075, \"symbol\": \"circle\"}, \"mode\": \"markers\", \"name\": \"BJP\", \"orientation\": \"v\", \"showlegend\": true, \"type\": \"scatter\", \"x\": [\"BJP\"], \"xaxis\": \"x\", \"y\": [403], \"yaxis\": \"y\"}, {\"customdata\": [[355]], \"hovertemplate\": \"PARTY=%{x}<br>CRIMINALCASES=%{customdata[0]}<extra></extra>\", \"legendgroup\": \"INC\", \"marker\": {\"color\": \"#EF553B\", \"size\": [355], \"sizemode\": \"area\", \"sizeref\": 1.0075, \"symbol\": \"circle\"}, \"mode\": \"markers\", \"name\": \"INC\", \"orientation\": \"v\", \"showlegend\": true, \"type\": \"scatter\", \"x\": [\"INC\"], \"xaxis\": \"x\", \"y\": [355], \"yaxis\": \"y\"}, {\"customdata\": [[35]], \"hovertemplate\": \"PARTY=%{x}<br>CRIMINALCASES=%{customdata[0]}<extra></extra>\", \"legendgroup\": \"SHS\", \"marker\": {\"color\": \"#00cc96\", \"size\": [35], \"sizemode\": \"area\", \"sizeref\": 1.0075, \"symbol\": \"circle\"}, \"mode\": \"markers\", \"name\": \"SHS\", \"orientation\": \"v\", \"showlegend\": true, \"type\": \"scatter\", \"x\": [\"SHS\"], \"xaxis\": \"x\", \"y\": [35], \"yaxis\": \"y\"}, {\"customdata\": [[32]], \"hovertemplate\": \"PARTY=%{x}<br>CRIMINALCASES=%{customdata[0]}<extra></extra>\", \"legendgroup\": \"BSP\", \"marker\": {\"color\": \"#ab63fa\", \"size\": [32], \"sizemode\": \"area\", \"sizeref\": 1.0075, \"symbol\": \"circle\"}, \"mode\": \"markers\", \"name\": \"BSP\", \"orientation\": \"v\", \"showlegend\": true, \"type\": \"scatter\", \"x\": [\"BSP\"], \"xaxis\": \"x\", \"y\": [32], \"yaxis\": \"y\"}, {\"customdata\": [[31]], \"hovertemplate\": \"PARTY=%{x}<br>CRIMINALCASES=%{customdata[0]}<extra></extra>\", \"legendgroup\": \"JD(U)\", \"marker\": {\"color\": \"#FFA15A\", \"size\": [31], \"sizemode\": \"area\", \"sizeref\": 1.0075, \"symbol\": \"circle\"}, \"mode\": \"markers\", \"name\": \"JD(U)\", \"orientation\": \"v\", \"showlegend\": true, \"type\": \"scatter\", \"x\": [\"JD(U)\"], \"xaxis\": \"x\", \"y\": [31], \"yaxis\": \"y\"}, {\"customdata\": [[28]], \"hovertemplate\": \"PARTY=%{x}<br>CRIMINALCASES=%{customdata[0]}<extra></extra>\", \"legendgroup\": \"DMK\", \"marker\": {\"color\": \"#19d3f3\", \"size\": [28], \"sizemode\": \"area\", \"sizeref\": 1.0075, \"symbol\": \"circle\"}, \"mode\": \"markers\", \"name\": \"DMK\", \"orientation\": \"v\", \"showlegend\": true, \"type\": \"scatter\", \"x\": [\"DMK\"], \"xaxis\": \"x\", \"y\": [28], \"yaxis\": \"y\"}, {\"customdata\": [[24]], \"hovertemplate\": \"PARTY=%{x}<br>CRIMINALCASES=%{customdata[0]}<extra></extra>\", \"legendgroup\": \"YSRCP\", \"marker\": {\"color\": \"#FF6692\", \"size\": [24], \"sizemode\": \"area\", \"sizeref\": 1.0075, \"symbol\": \"circle\"}, \"mode\": \"markers\", \"name\": \"YSRCP\", \"orientation\": \"v\", \"showlegend\": true, \"type\": \"scatter\", \"x\": [\"YSRCP\"], \"xaxis\": \"x\", \"y\": [24], \"yaxis\": \"y\"}, {\"customdata\": [[24]], \"hovertemplate\": \"PARTY=%{x}<br>CRIMINALCASES=%{customdata[0]}<extra></extra>\", \"legendgroup\": \"TRS\", \"marker\": {\"color\": \"#B6E880\", \"size\": [24], \"sizemode\": \"area\", \"sizeref\": 1.0075, \"symbol\": \"circle\"}, \"mode\": \"markers\", \"name\": \"TRS\", \"orientation\": \"v\", \"showlegend\": true, \"type\": \"scatter\", \"x\": [\"TRS\"], \"xaxis\": \"x\", \"y\": [24], \"yaxis\": \"y\"}, {\"customdata\": [[17]], \"hovertemplate\": \"PARTY=%{x}<br>CRIMINALCASES=%{customdata[0]}<extra></extra>\", \"legendgroup\": \"AITC\", \"marker\": {\"color\": \"#FF97FF\", \"size\": [17], \"sizemode\": \"area\", \"sizeref\": 1.0075, \"symbol\": \"circle\"}, \"mode\": \"markers\", \"name\": \"AITC\", \"orientation\": \"v\", \"showlegend\": true, \"type\": \"scatter\", \"x\": [\"AITC\"], \"xaxis\": \"x\", \"y\": [17], \"yaxis\": \"y\"}, {\"customdata\": [[12]], \"hovertemplate\": \"PARTY=%{x}<br>CRIMINALCASES=%{customdata[0]}<extra></extra>\", \"legendgroup\": \"LJP\", \"marker\": {\"color\": \"#FECB52\", \"size\": [12], \"sizemode\": \"area\", \"sizeref\": 1.0075, \"symbol\": \"circle\"}, \"mode\": \"markers\", \"name\": \"LJP\", \"orientation\": \"v\", \"showlegend\": true, \"type\": \"scatter\", \"x\": [\"LJP\"], \"xaxis\": \"x\", \"y\": [12], \"yaxis\": \"y\"}],                        {\"font\": {\"color\": \"#351f39\", \"family\": \"Courier New\"}, \"legend\": {\"itemsizing\": \"constant\", \"title\": {\"text\": \"PARTY\"}, \"tracegroupgap\": 0}, \"margin\": {\"t\": 60}, \"template\": {\"data\": {\"bar\": [{\"error_x\": {\"color\": \"#2a3f5f\"}, \"error_y\": {\"color\": \"#2a3f5f\"}, \"marker\": {\"line\": {\"color\": \"#E5ECF6\", \"width\": 0.5}}, \"type\": \"bar\"}], \"barpolar\": [{\"marker\": {\"line\": {\"color\": \"#E5ECF6\", \"width\": 0.5}}, \"type\": \"barpolar\"}], \"carpet\": [{\"aaxis\": {\"endlinecolor\": \"#2a3f5f\", \"gridcolor\": \"white\", \"linecolor\": \"white\", \"minorgridcolor\": \"white\", \"startlinecolor\": \"#2a3f5f\"}, \"baxis\": {\"endlinecolor\": \"#2a3f5f\", \"gridcolor\": \"white\", \"linecolor\": \"white\", \"minorgridcolor\": \"white\", \"startlinecolor\": \"#2a3f5f\"}, \"type\": \"carpet\"}], \"choropleth\": [{\"colorbar\": {\"outlinewidth\": 0, \"ticks\": \"\"}, \"type\": \"choropleth\"}], \"contour\": [{\"colorbar\": {\"outlinewidth\": 0, \"ticks\": \"\"}, \"colorscale\": [[0.0, \"#0d0887\"], [0.1111111111111111, \"#46039f\"], [0.2222222222222222, \"#7201a8\"], [0.3333333333333333, \"#9c179e\"], [0.4444444444444444, \"#bd3786\"], [0.5555555555555556, \"#d8576b\"], [0.6666666666666666, \"#ed7953\"], [0.7777777777777778, \"#fb9f3a\"], [0.8888888888888888, \"#fdca26\"], [1.0, \"#f0f921\"]], \"type\": \"contour\"}], \"contourcarpet\": [{\"colorbar\": {\"outlinewidth\": 0, \"ticks\": \"\"}, \"type\": \"contourcarpet\"}], \"heatmap\": [{\"colorbar\": {\"outlinewidth\": 0, \"ticks\": \"\"}, \"colorscale\": [[0.0, \"#0d0887\"], [0.1111111111111111, \"#46039f\"], [0.2222222222222222, \"#7201a8\"], [0.3333333333333333, \"#9c179e\"], [0.4444444444444444, \"#bd3786\"], [0.5555555555555556, \"#d8576b\"], [0.6666666666666666, \"#ed7953\"], [0.7777777777777778, \"#fb9f3a\"], [0.8888888888888888, \"#fdca26\"], [1.0, \"#f0f921\"]], \"type\": \"heatmap\"}], \"heatmapgl\": [{\"colorbar\": {\"outlinewidth\": 0, \"ticks\": \"\"}, \"colorscale\": [[0.0, \"#0d0887\"], [0.1111111111111111, \"#46039f\"], [0.2222222222222222, \"#7201a8\"], [0.3333333333333333, \"#9c179e\"], [0.4444444444444444, \"#bd3786\"], [0.5555555555555556, \"#d8576b\"], [0.6666666666666666, \"#ed7953\"], [0.7777777777777778, \"#fb9f3a\"], [0.8888888888888888, \"#fdca26\"], [1.0, \"#f0f921\"]], \"type\": \"heatmapgl\"}], \"histogram\": [{\"marker\": {\"colorbar\": {\"outlinewidth\": 0, \"ticks\": \"\"}}, \"type\": \"histogram\"}], \"histogram2d\": [{\"colorbar\": {\"outlinewidth\": 0, \"ticks\": \"\"}, \"colorscale\": [[0.0, \"#0d0887\"], [0.1111111111111111, \"#46039f\"], [0.2222222222222222, \"#7201a8\"], [0.3333333333333333, \"#9c179e\"], [0.4444444444444444, \"#bd3786\"], [0.5555555555555556, \"#d8576b\"], [0.6666666666666666, \"#ed7953\"], [0.7777777777777778, \"#fb9f3a\"], [0.8888888888888888, \"#fdca26\"], [1.0, \"#f0f921\"]], \"type\": \"histogram2d\"}], \"histogram2dcontour\": [{\"colorbar\": {\"outlinewidth\": 0, \"ticks\": \"\"}, \"colorscale\": [[0.0, \"#0d0887\"], [0.1111111111111111, \"#46039f\"], [0.2222222222222222, \"#7201a8\"], [0.3333333333333333, \"#9c179e\"], [0.4444444444444444, \"#bd3786\"], [0.5555555555555556, \"#d8576b\"], [0.6666666666666666, \"#ed7953\"], [0.7777777777777778, \"#fb9f3a\"], [0.8888888888888888, \"#fdca26\"], [1.0, \"#f0f921\"]], \"type\": \"histogram2dcontour\"}], \"mesh3d\": [{\"colorbar\": {\"outlinewidth\": 0, \"ticks\": \"\"}, \"type\": \"mesh3d\"}], \"parcoords\": [{\"line\": {\"colorbar\": {\"outlinewidth\": 0, \"ticks\": \"\"}}, \"type\": \"parcoords\"}], \"pie\": [{\"automargin\": true, \"type\": \"pie\"}], \"scatter\": [{\"marker\": {\"colorbar\": {\"outlinewidth\": 0, \"ticks\": \"\"}}, \"type\": \"scatter\"}], \"scatter3d\": [{\"line\": {\"colorbar\": {\"outlinewidth\": 0, \"ticks\": \"\"}}, \"marker\": {\"colorbar\": {\"outlinewidth\": 0, \"ticks\": \"\"}}, \"type\": \"scatter3d\"}], \"scattercarpet\": [{\"marker\": {\"colorbar\": {\"outlinewidth\": 0, \"ticks\": \"\"}}, \"type\": \"scattercarpet\"}], \"scattergeo\": [{\"marker\": {\"colorbar\": {\"outlinewidth\": 0, \"ticks\": \"\"}}, \"type\": \"scattergeo\"}], \"scattergl\": [{\"marker\": {\"colorbar\": {\"outlinewidth\": 0, \"ticks\": \"\"}}, \"type\": \"scattergl\"}], \"scattermapbox\": [{\"marker\": {\"colorbar\": {\"outlinewidth\": 0, \"ticks\": \"\"}}, \"type\": \"scattermapbox\"}], \"scatterpolar\": [{\"marker\": {\"colorbar\": {\"outlinewidth\": 0, \"ticks\": \"\"}}, \"type\": \"scatterpolar\"}], \"scatterpolargl\": [{\"marker\": {\"colorbar\": {\"outlinewidth\": 0, \"ticks\": \"\"}}, \"type\": \"scatterpolargl\"}], \"scatterternary\": [{\"marker\": {\"colorbar\": {\"outlinewidth\": 0, \"ticks\": \"\"}}, \"type\": \"scatterternary\"}], \"surface\": [{\"colorbar\": {\"outlinewidth\": 0, \"ticks\": \"\"}, \"colorscale\": [[0.0, \"#0d0887\"], [0.1111111111111111, \"#46039f\"], [0.2222222222222222, \"#7201a8\"], [0.3333333333333333, \"#9c179e\"], [0.4444444444444444, \"#bd3786\"], [0.5555555555555556, \"#d8576b\"], [0.6666666666666666, \"#ed7953\"], [0.7777777777777778, \"#fb9f3a\"], [0.8888888888888888, \"#fdca26\"], [1.0, \"#f0f921\"]], \"type\": \"surface\"}], \"table\": [{\"cells\": {\"fill\": {\"color\": \"#EBF0F8\"}, \"line\": {\"color\": \"white\"}}, \"header\": {\"fill\": {\"color\": \"#C8D4E3\"}, \"line\": {\"color\": \"white\"}}, \"type\": \"table\"}]}, \"layout\": {\"annotationdefaults\": {\"arrowcolor\": \"#2a3f5f\", \"arrowhead\": 0, \"arrowwidth\": 1}, \"coloraxis\": {\"colorbar\": {\"outlinewidth\": 0, \"ticks\": \"\"}}, \"colorscale\": {\"diverging\": [[0, \"#8e0152\"], [0.1, \"#c51b7d\"], [0.2, \"#de77ae\"], [0.3, \"#f1b6da\"], [0.4, \"#fde0ef\"], [0.5, \"#f7f7f7\"], [0.6, \"#e6f5d0\"], [0.7, \"#b8e186\"], [0.8, \"#7fbc41\"], [0.9, \"#4d9221\"], [1, \"#276419\"]], \"sequential\": [[0.0, \"#0d0887\"], [0.1111111111111111, \"#46039f\"], [0.2222222222222222, \"#7201a8\"], [0.3333333333333333, \"#9c179e\"], [0.4444444444444444, \"#bd3786\"], [0.5555555555555556, \"#d8576b\"], [0.6666666666666666, \"#ed7953\"], [0.7777777777777778, \"#fb9f3a\"], [0.8888888888888888, \"#fdca26\"], [1.0, \"#f0f921\"]], \"sequentialminus\": [[0.0, \"#0d0887\"], [0.1111111111111111, \"#46039f\"], [0.2222222222222222, \"#7201a8\"], [0.3333333333333333, \"#9c179e\"], [0.4444444444444444, \"#bd3786\"], [0.5555555555555556, \"#d8576b\"], [0.6666666666666666, \"#ed7953\"], [0.7777777777777778, \"#fb9f3a\"], [0.8888888888888888, \"#fdca26\"], [1.0, \"#f0f921\"]]}, \"colorway\": [\"#636efa\", \"#EF553B\", \"#00cc96\", \"#ab63fa\", \"#FFA15A\", \"#19d3f3\", \"#FF6692\", \"#B6E880\", \"#FF97FF\", \"#FECB52\"], \"font\": {\"color\": \"#2a3f5f\"}, \"geo\": {\"bgcolor\": \"white\", \"lakecolor\": \"white\", \"landcolor\": \"#E5ECF6\", \"showlakes\": true, \"showland\": true, \"subunitcolor\": \"white\"}, \"hoverlabel\": {\"align\": \"left\"}, \"hovermode\": \"closest\", \"mapbox\": {\"style\": \"light\"}, \"paper_bgcolor\": \"white\", \"plot_bgcolor\": \"#E5ECF6\", \"polar\": {\"angularaxis\": {\"gridcolor\": \"white\", \"linecolor\": \"white\", \"ticks\": \"\"}, \"bgcolor\": \"#E5ECF6\", \"radialaxis\": {\"gridcolor\": \"white\", \"linecolor\": \"white\", \"ticks\": \"\"}}, \"scene\": {\"xaxis\": {\"backgroundcolor\": \"#E5ECF6\", \"gridcolor\": \"white\", \"gridwidth\": 2, \"linecolor\": \"white\", \"showbackground\": true, \"ticks\": \"\", \"zerolinecolor\": \"white\"}, \"yaxis\": {\"backgroundcolor\": \"#E5ECF6\", \"gridcolor\": \"white\", \"gridwidth\": 2, \"linecolor\": \"white\", \"showbackground\": true, \"ticks\": \"\", \"zerolinecolor\": \"white\"}, \"zaxis\": {\"backgroundcolor\": \"#E5ECF6\", \"gridcolor\": \"white\", \"gridwidth\": 2, \"linecolor\": \"white\", \"showbackground\": true, \"ticks\": \"\", \"zerolinecolor\": \"white\"}}, \"shapedefaults\": {\"line\": {\"color\": \"#2a3f5f\"}}, \"ternary\": {\"aaxis\": {\"gridcolor\": \"white\", \"linecolor\": \"white\", \"ticks\": \"\"}, \"baxis\": {\"gridcolor\": \"white\", \"linecolor\": \"white\", \"ticks\": \"\"}, \"bgcolor\": \"#E5ECF6\", \"caxis\": {\"gridcolor\": \"white\", \"linecolor\": \"white\", \"ticks\": \"\"}}, \"title\": {\"x\": 0.05}, \"xaxis\": {\"automargin\": true, \"gridcolor\": \"white\", \"linecolor\": \"white\", \"ticks\": \"\", \"title\": {\"standoff\": 15}, \"zerolinecolor\": \"white\", \"zerolinewidth\": 2}, \"yaxis\": {\"automargin\": true, \"gridcolor\": \"white\", \"linecolor\": \"white\", \"ticks\": \"\", \"title\": {\"standoff\": 15}, \"zerolinecolor\": \"white\", \"zerolinewidth\": 2}}}, \"title\": {\"font\": {\"color\": \"#351f39\", \"family\": \"Courier New\"}, \"text\": \"Top 10 Party-wise criminal records\"}, \"xaxis\": {\"anchor\": \"y\", \"categoryarray\": [\"BJP\", \"INC\", \"SHS\", \"BSP\", \"JD(U)\", \"DMK\", \"YSRCP\", \"TRS\", \"AITC\", \"LJP\"], \"categoryorder\": \"array\", \"domain\": [0.0, 1.0], \"title\": {\"text\": \"Party\"}}, \"yaxis\": {\"anchor\": \"x\", \"domain\": [0.0, 1.0], \"title\": {\"text\": \"Criminal Records\"}}},                        {\"responsive\": true}                    ).then(function(){\n",
       "                            \n",
       "var gd = document.getElementById('ee71148e-797f-43ff-964f-87d672a2afbc');\n",
       "var x = new MutationObserver(function (mutations, observer) {{\n",
       "        var display = window.getComputedStyle(gd).display;\n",
       "        if (!display || display === 'none') {{\n",
       "            console.log([gd, 'removed!']);\n",
       "            Plotly.purge(gd);\n",
       "            observer.disconnect();\n",
       "        }}\n",
       "}});\n",
       "\n",
       "// Listen for the removal of the full notebook cells\n",
       "var notebookContainer = gd.closest('#notebook-container');\n",
       "if (notebookContainer) {{\n",
       "    x.observe(notebookContainer, {childList: true});\n",
       "}}\n",
       "\n",
       "// Listen for the clearing of the current output cell\n",
       "var outputEl = gd.closest('.output');\n",
       "if (outputEl) {{\n",
       "    x.observe(outputEl, {childList: true});\n",
       "}}\n",
       "\n",
       "                        })                };                });            </script>        </div>"
      ]
     },
     "metadata": {},
     "output_type": "display_data"
    }
   ],
   "source": [
    "# Create a dataframe of criminal records\n",
    "criminal_df = pd.DataFrame(data=df_NOTA[df_NOTA['WINNER'] == 1].groupby('PARTY')['CRIMINALCASES'].sum())\n",
    "criminal_df.sort_values(by='CRIMINALCASES', ascending=False, inplace=True)\n",
    "criminal_df.reset_index(level=0, inplace=True)\n",
    "criminal_df\n",
    "\n",
    "# Visualize the criminal records\n",
    "criminal_fig = px.scatter(criminal_df[:10], \n",
    "                 x='PARTY', \n",
    "                 y='CRIMINALCASES', \n",
    "                 size='CRIMINALCASES',\n",
    "                 color='PARTY',\n",
    "                 hover_data=['CRIMINALCASES'])\n",
    "\n",
    "criminal_fig.update_layout(title_text='Top 10 Party-wise criminal records',\n",
    "                         font_family=\"Courier New\",\n",
    "                         font_color=\"#351f39\",\n",
    "                         title_font_family=\"Courier New\",\n",
    "                         title_font_color=\"#351f39\",\n",
    "                         xaxis_title=\"Party\",\n",
    "                         yaxis_title=\"Criminal Records\")\n",
    "\n",
    "criminal_fig.show()"
   ]
  },
  {
   "cell_type": "markdown",
   "metadata": {},
   "source": [
    "### 6.7 Key battlegrounds of the election"
   ]
  },
  {
   "cell_type": "markdown",
   "metadata": {},
   "source": [
    "**Amethi (Uttar Pradesh):** Known to be a traditional Congress bastion, BJP had fielded Union Minister Smriti Irani against Congress president Rahul Gandhi. The voting day in Amethi in the fifth phase was marked by charges of 'booth-rigging' by Irani and Congress president Rahul Gandhi being absent from the constituency. In 2014, Irani lost to Rahul Gandhi from the same seat with a vote-margin of 1.07 lakh votes or a vote-ratio of about 3:4. This time, her challenge has forced Rahul Gandhi to also seek election from Wayanad.\n",
    "<img src=https://static.toiimg.com/thumb/msid-68513257,imgsize-212668,width-400,resizemode-4/68513257.jpg>\n",
    "\n",
    "**Varanasi (Uttar Pradesh):** Given the significance of the seat, mid-polls rumours had emerged that the Congress' General Secretary for Uttar Pradesh East Priyanka Gandhi Vadra could contest the seat. However, the speculations were put to rest as Congress fielded Ajay Rai, hours before PM Modi addressed a massive road-show ahead of his nomination-filing. In the 2014 Parliamentary elections, PM Modi swept the seat by receiving 56.40% of votes and defeated Arvind Kejriwal by a by 3.37 lakh vote margin.\n",
    "<img src=https://resize4.indiatvnews.com/en/resize/gallery/835_-/2020/11/PTI30-11-2020_000175B.jpg style=\"width:500px;height:200px;\">"
   ]
  },
  {
   "cell_type": "code",
   "execution_count": 24,
   "metadata": {},
   "outputs": [
    {
     "data": {
      "text/plain": [
       "<matplotlib.axes._subplots.AxesSubplot at 0x1f62ea174c0>"
      ]
     },
     "execution_count": 24,
     "metadata": {},
     "output_type": "execute_result"
    },
    {
     "data": {
      "image/png": "[encoded data removed]",
      "text/plain": [
       "<Figure size 1080x504 with 2 Axes>"
      ]
     },
     "metadata": {
      "needs_background": "light"
     },
     "output_type": "display_data"
    }
   ],
   "source": [
    "# Battleground Amethi\n",
    "amethi_df = df_NOTA[df_NOTA['CONSTITUENCY'] == 'AMETHI'][['NAME','TOTALVOTES']]\n",
    "\n",
    "# Battleground Varanasi\n",
    "varanasi_df = df_NOTA[df_NOTA['CONSTITUENCY'] == 'VARANASI'][['NAME','TOTALVOTES']]\n",
    "\n",
    "fig, axes = plt.subplots(nrows=1, ncols=2, figsize=(15,7))\n",
    "amethi_df.plot(kind='bar', ax=axes[0], alpha=0.75, rot=0, legend=False, title='Battleground Amethi: Smriti Irani vs Rahul Gandhi', x='NAME')\n",
    "varanasi_df.plot(kind='bar', ax=axes[1], alpha=0.75, rot=0, legend=False, title=\"Battleground Varanasi: Narendra Modi's Constituency\", x='NAME')"
   ]
  },
  {
   "cell_type": "markdown",
   "metadata": {},
   "source": [
    "- This time things were different in Amethi. Smriti Irani defeated Rahul Gandhi by a substantial margin.\n",
    "- In Varanasi however the picture was similar with Narendra Modi winning the seat by a landslide."
   ]
  },
  {
   "cell_type": "markdown",
   "metadata": {},
   "source": [
    "**West Bengal:** West Bengal remained the newsmaker of the 2019 Lok Sabha polls, with violence including crude bombs, lathi charges and repeated political clashes and claims of attacks from candidates became the talking point in the state as polling was held in all seven phases spread across two months in the politically important state. Bengal has 42 Lok Sabha constituencies, of which the Trinamool won 34 in 2014. The Congress managed four and the Left two. The BJP secured only two, despite the Narendra Modi wave in the country that year. The state which was considered to be a bastion for the Left Wing has now become a stronghold for the Trinamool Congress.\n",
    "<img src=https://images.hindustantimes.com/rf/image_size_630x354/HT/p2/2019/05/26/Pictures/mamata-supremo-banerjee-west-bengal-chief-minister_73f1c2d4-7f98-11e9-9a75-14b5d08877bf.jpg>"
   ]
  },
  {
   "cell_type": "code",
   "execution_count": 25,
   "metadata": {},
   "outputs": [
    {
     "data": {
      "application/vnd.plotly.v1+json": {
       "config": {
        "plotlyServerURL": "https://plot.ly"
       },
       "data": [
        {
         "labels": [
          "AITC",
          "BJP",
          "INC",
          "Other"
         ],
         "marker": {
          "line": {
           "color": "#000000",
           "width": 2
          }
         },
         "pull": [
          0.1,
          0.1,
          0.1,
          0.1,
          0.1,
          0.1
         ],
         "type": "pie",
         "values": [
          24757345,
          23028517,
          3210491,
          4418586
         ]
        }
       ],
       "layout": {
        "font": {
         "color": "#351f39",
         "family": "Courier New"
        },
        "template": {
         "data": {
          "bar": [
           {
            "error_x": {
             "color": "#2a3f5f"
            },
            "error_y": {
             "color": "#2a3f5f"
            },
            "marker": {
             "line": {
              "color": "#E5ECF6",
              "width": 0.5
             }
            },
            "type": "bar"
           }
          ],
          "barpolar": [
           {
            "marker": {
             "line": {
              "color": "#E5ECF6",
              "width": 0.5
             }
            },
            "type": "barpolar"
           }
          ],
          "carpet": [
           {
            "aaxis": {
             "endlinecolor": "#2a3f5f",
             "gridcolor": "white",
             "linecolor": "white",
             "minorgridcolor": "white",
             "startlinecolor": "#2a3f5f"
            },
            "baxis": {
             "endlinecolor": "#2a3f5f",
             "gridcolor": "white",
             "linecolor": "white",
             "minorgridcolor": "white",
             "startlinecolor": "#2a3f5f"
            },
            "type": "carpet"
           }
          ],
          "choropleth": [
           {
            "colorbar": {
             "outlinewidth": 0,
             "ticks": ""
            },
            "type": "choropleth"
           }
          ],
          "contour": [
           {
            "colorbar": {
             "outlinewidth": 0,
             "ticks": ""
            },
            "colorscale": [
             [
              0,
              "#0d0887"
             ],
             [
              0.1111111111111111,
              "#46039f"
             ],
             [
              0.2222222222222222,
              "#7201a8"
             ],
             [
              0.3333333333333333,
              "#9c179e"
             ],
             [
              0.4444444444444444,
              "#bd3786"
             ],
             [
              0.5555555555555556,
              "#d8576b"
             ],
             [
              0.6666666666666666,
              "#ed7953"
             ],
             [
              0.7777777777777778,
              "#fb9f3a"
             ],
             [
              0.8888888888888888,
              "#fdca26"
             ],
             [
              1,
              "#f0f921"
             ]
            ],
            "type": "contour"
           }
          ],
          "contourcarpet": [
           {
            "colorbar": {
             "outlinewidth": 0,
             "ticks": ""
            },
            "type": "contourcarpet"
           }
          ],
          "heatmap": [
           {
            "colorbar": {
             "outlinewidth": 0,
             "ticks": ""
            },
            "colorscale": [
             [
              0,
              "#0d0887"
             ],
             [
              0.1111111111111111,
              "#46039f"
             ],
             [
              0.2222222222222222,
              "#7201a8"
             ],
             [
              0.3333333333333333,
              "#9c179e"
             ],
             [
              0.4444444444444444,
              "#bd3786"
             ],
             [
              0.5555555555555556,
              "#d8576b"
             ],
             [
              0.6666666666666666,
              "#ed7953"
             ],
             [
              0.7777777777777778,
              "#fb9f3a"
             ],
             [
              0.8888888888888888,
              "#fdca26"
             ],
             [
              1,
              "#f0f921"
             ]
            ],
            "type": "heatmap"
           }
          ],
          "heatmapgl": [
           {
            "colorbar": {
             "outlinewidth": 0,
             "ticks": ""
            },
            "colorscale": [
             [
              0,
              "#0d0887"
             ],
             [
              0.1111111111111111,
              "#46039f"
             ],
             [
              0.2222222222222222,
              "#7201a8"
             ],
             [
              0.3333333333333333,
              "#9c179e"
             ],
             [
              0.4444444444444444,
              "#bd3786"
             ],
             [
              0.5555555555555556,
              "#d8576b"
             ],
             [
              0.6666666666666666,
              "#ed7953"
             ],
             [
              0.7777777777777778,
              "#fb9f3a"
             ],
             [
              0.8888888888888888,
              "#fdca26"
             ],
             [
              1,
              "#f0f921"
             ]
            ],
            "type": "heatmapgl"
           }
          ],
          "histogram": [
           {
            "marker": {
             "colorbar": {
              "outlinewidth": 0,
              "ticks": ""
             }
            },
            "type": "histogram"
           }
          ],
          "histogram2d": [
           {
            "colorbar": {
             "outlinewidth": 0,
             "ticks": ""
            },
            "colorscale": [
             [
              0,
              "#0d0887"
             ],
             [
              0.1111111111111111,
              "#46039f"
             ],
             [
              0.2222222222222222,
              "#7201a8"
             ],
             [
              0.3333333333333333,
              "#9c179e"
             ],
             [
              0.4444444444444444,
              "#bd3786"
             ],
             [
              0.5555555555555556,
              "#d8576b"
             ],
             [
              0.6666666666666666,
              "#ed7953"
             ],
             [
              0.7777777777777778,
              "#fb9f3a"
             ],
             [
              0.8888888888888888,
              "#fdca26"
             ],
             [
              1,
              "#f0f921"
             ]
            ],
            "type": "histogram2d"
           }
          ],
          "histogram2dcontour": [
           {
            "colorbar": {
             "outlinewidth": 0,
             "ticks": ""
            },
            "colorscale": [
             [
              0,
              "#0d0887"
             ],
             [
              0.1111111111111111,
              "#46039f"
             ],
             [
              0.2222222222222222,
              "#7201a8"
             ],
             [
              0.3333333333333333,
              "#9c179e"
             ],
             [
              0.4444444444444444,
              "#bd3786"
             ],
             [
              0.5555555555555556,
              "#d8576b"
             ],
             [
              0.6666666666666666,
              "#ed7953"
             ],
             [
              0.7777777777777778,
              "#fb9f3a"
             ],
             [
              0.8888888888888888,
              "#fdca26"
             ],
             [
              1,
              "#f0f921"
             ]
            ],
            "type": "histogram2dcontour"
           }
          ],
          "mesh3d": [
           {
            "colorbar": {
             "outlinewidth": 0,
             "ticks": ""
            },
            "type": "mesh3d"
           }
          ],
          "parcoords": [
           {
            "line": {
             "colorbar": {
              "outlinewidth": 0,
              "ticks": ""
             }
            },
            "type": "parcoords"
           }
          ],
          "pie": [
           {
            "automargin": true,
            "type": "pie"
           }
          ],
          "scatter": [
           {
            "marker": {
             "colorbar": {
              "outlinewidth": 0,
              "ticks": ""
             }
            },
            "type": "scatter"
           }
          ],
          "scatter3d": [
           {
            "line": {
             "colorbar": {
              "outlinewidth": 0,
              "ticks": ""
             }
            },
            "marker": {
             "colorbar": {
              "outlinewidth": 0,
              "ticks": ""
             }
            },
            "type": "scatter3d"
           }
          ],
          "scattercarpet": [
           {
            "marker": {
             "colorbar": {
              "outlinewidth": 0,
              "ticks": ""
             }
            },
            "type": "scattercarpet"
           }
          ],
          "scattergeo": [
           {
            "marker": {
             "colorbar": {
              "outlinewidth": 0,
              "ticks": ""
             }
            },
            "type": "scattergeo"
           }
          ],
          "scattergl": [
           {
            "marker": {
             "colorbar": {
              "outlinewidth": 0,
              "ticks": ""
             }
            },
            "type": "scattergl"
           }
          ],
          "scattermapbox": [
           {
            "marker": {
             "colorbar": {
              "outlinewidth": 0,
              "ticks": ""
             }
            },
            "type": "scattermapbox"
           }
          ],
          "scatterpolar": [
           {
            "marker": {
             "colorbar": {
              "outlinewidth": 0,
              "ticks": ""
             }
            },
            "type": "scatterpolar"
           }
          ],
          "scatterpolargl": [
           {
            "marker": {
             "colorbar": {
              "outlinewidth": 0,
              "ticks": ""
             }
            },
            "type": "scatterpolargl"
           }
          ],
          "scatterternary": [
           {
            "marker": {
             "colorbar": {
              "outlinewidth": 0,
              "ticks": ""
             }
            },
            "type": "scatterternary"
           }
          ],
          "surface": [
           {
            "colorbar": {
             "outlinewidth": 0,
             "ticks": ""
            },
            "colorscale": [
             [
              0,
              "#0d0887"
             ],
             [
              0.1111111111111111,
              "#46039f"
             ],
             [
              0.2222222222222222,
              "#7201a8"
             ],
             [
              0.3333333333333333,
              "#9c179e"
             ],
             [
              0.4444444444444444,
              "#bd3786"
             ],
             [
              0.5555555555555556,
              "#d8576b"
             ],
             [
              0.6666666666666666,
              "#ed7953"
             ],
             [
              0.7777777777777778,
              "#fb9f3a"
             ],
             [
              0.8888888888888888,
              "#fdca26"
             ],
             [
              1,
              "#f0f921"
             ]
            ],
            "type": "surface"
           }
          ],
          "table": [
           {
            "cells": {
             "fill": {
              "color": "#EBF0F8"
             },
             "line": {
              "color": "white"
             }
            },
            "header": {
             "fill": {
              "color": "#C8D4E3"
             },
             "line": {
              "color": "white"
             }
            },
            "type": "table"
           }
          ]
         },
         "layout": {
          "annotationdefaults": {
           "arrowcolor": "#2a3f5f",
           "arrowhead": 0,
           "arrowwidth": 1
          },
          "coloraxis": {
           "colorbar": {
            "outlinewidth": 0,
            "ticks": ""
           }
          },
          "colorscale": {
           "diverging": [
            [
             0,
             "#8e0152"
            ],
            [
             0.1,
             "#c51b7d"
            ],
            [
             0.2,
             "#de77ae"
            ],
            [
             0.3,
             "#f1b6da"
            ],
            [
             0.4,
             "#fde0ef"
            ],
            [
             0.5,
             "#f7f7f7"
            ],
            [
             0.6,
             "#e6f5d0"
            ],
            [
             0.7,
             "#b8e186"
            ],
            [
             0.8,
             "#7fbc41"
            ],
            [
             0.9,
             "#4d9221"
            ],
            [
             1,
             "#276419"
            ]
           ],
           "sequential": [
            [
             0,
             "#0d0887"
            ],
            [
             0.1111111111111111,
             "#46039f"
            ],
            [
             0.2222222222222222,
             "#7201a8"
            ],
            [
             0.3333333333333333,
             "#9c179e"
            ],
            [
             0.4444444444444444,
             "#bd3786"
            ],
            [
             0.5555555555555556,
             "#d8576b"
            ],
            [
             0.6666666666666666,
             "#ed7953"
            ],
            [
             0.7777777777777778,
             "#fb9f3a"
            ],
            [
             0.8888888888888888,
             "#fdca26"
            ],
            [
             1,
             "#f0f921"
            ]
           ],
           "sequentialminus": [
            [
             0,
             "#0d0887"
            ],
            [
             0.1111111111111111,
             "#46039f"
            ],
            [
             0.2222222222222222,
             "#7201a8"
            ],
            [
             0.3333333333333333,
             "#9c179e"
            ],
            [
             0.4444444444444444,
             "#bd3786"
            ],
            [
             0.5555555555555556,
             "#d8576b"
            ],
            [
             0.6666666666666666,
             "#ed7953"
            ],
            [
             0.7777777777777778,
             "#fb9f3a"
            ],
            [
             0.8888888888888888,
             "#fdca26"
            ],
            [
             1,
             "#f0f921"
            ]
           ]
          },
          "colorway": [
           "#636efa",
           "#EF553B",
           "#00cc96",
           "#ab63fa",
           "#FFA15A",
           "#19d3f3",
           "#FF6692",
           "#B6E880",
           "#FF97FF",
           "#FECB52"
          ],
          "font": {
           "color": "#2a3f5f"
          },
          "geo": {
           "bgcolor": "white",
           "lakecolor": "white",
           "landcolor": "#E5ECF6",
           "showlakes": true,
           "showland": true,
           "subunitcolor": "white"
          },
          "hoverlabel": {
           "align": "left"
          },
          "hovermode": "closest",
          "mapbox": {
           "style": "light"
          },
          "paper_bgcolor": "white",
          "plot_bgcolor": "#E5ECF6",
          "polar": {
           "angularaxis": {
            "gridcolor": "white",
            "linecolor": "white",
            "ticks": ""
           },
           "bgcolor": "#E5ECF6",
           "radialaxis": {
            "gridcolor": "white",
            "linecolor": "white",
            "ticks": ""
           }
          },
          "scene": {
           "xaxis": {
            "backgroundcolor": "#E5ECF6",
            "gridcolor": "white",
            "gridwidth": 2,
            "linecolor": "white",
            "showbackground": true,
            "ticks": "",
            "zerolinecolor": "white"
           },
           "yaxis": {
            "backgroundcolor": "#E5ECF6",
            "gridcolor": "white",
            "gridwidth": 2,
            "linecolor": "white",
            "showbackground": true,
            "ticks": "",
            "zerolinecolor": "white"
           },
           "zaxis": {
            "backgroundcolor": "#E5ECF6",
            "gridcolor": "white",
            "gridwidth": 2,
            "linecolor": "white",
            "showbackground": true,
            "ticks": "",
            "zerolinecolor": "white"
           }
          },
          "shapedefaults": {
           "line": {
            "color": "#2a3f5f"
           }
          },
          "ternary": {
           "aaxis": {
            "gridcolor": "white",
            "linecolor": "white",
            "ticks": ""
           },
           "baxis": {
            "gridcolor": "white",
            "linecolor": "white",
            "ticks": ""
           },
           "bgcolor": "#E5ECF6",
           "caxis": {
            "gridcolor": "white",
            "linecolor": "white",
            "ticks": ""
           }
          },
          "title": {
           "x": 0.05
          },
          "xaxis": {
           "automargin": true,
           "gridcolor": "white",
           "linecolor": "white",
           "ticks": "",
           "title": {
            "standoff": 15
           },
           "zerolinecolor": "white",
           "zerolinewidth": 2
          },
          "yaxis": {
           "automargin": true,
           "gridcolor": "white",
           "linecolor": "white",
           "ticks": "",
           "title": {
            "standoff": 15
           },
           "zerolinecolor": "white",
           "zerolinewidth": 2
          }
         }
        },
        "title": {
         "font": {
          "color": "#351f39",
          "family": "Courier New"
         },
         "text": "West Bengal : Party-wise Vote Share"
        }
       }
      },
      "text/html": [
       "<div>                            <div id=\"93fd3cc3-86c7-424f-a455-493321f840c0\" class=\"plotly-graph-div\" style=\"height:525px; width:100%;\"></div>            <script type=\"text/javascript\">                require([\"plotly\"], function(Plotly) {                    window.PLOTLYENV=window.PLOTLYENV || {};                                    if (document.getElementById(\"93fd3cc3-86c7-424f-a455-493321f840c0\")) {                    Plotly.newPlot(                        \"93fd3cc3-86c7-424f-a455-493321f840c0\",                        [{\"labels\": [\"AITC\", \"BJP\", \"INC\", \"Other\"], \"marker\": {\"line\": {\"color\": \"#000000\", \"width\": 2}}, \"pull\": [0.1, 0.1, 0.1, 0.1, 0.1, 0.1], \"type\": \"pie\", \"values\": [24757345, 23028517, 3210491, 4418586]}],                        {\"font\": {\"color\": \"#351f39\", \"family\": \"Courier New\"}, \"template\": {\"data\": {\"bar\": [{\"error_x\": {\"color\": \"#2a3f5f\"}, \"error_y\": {\"color\": \"#2a3f5f\"}, \"marker\": {\"line\": {\"color\": \"#E5ECF6\", \"width\": 0.5}}, \"type\": \"bar\"}], \"barpolar\": [{\"marker\": {\"line\": {\"color\": \"#E5ECF6\", \"width\": 0.5}}, \"type\": \"barpolar\"}], \"carpet\": [{\"aaxis\": {\"endlinecolor\": \"#2a3f5f\", \"gridcolor\": \"white\", \"linecolor\": \"white\", \"minorgridcolor\": \"white\", \"startlinecolor\": \"#2a3f5f\"}, \"baxis\": {\"endlinecolor\": \"#2a3f5f\", \"gridcolor\": \"white\", \"linecolor\": \"white\", \"minorgridcolor\": \"white\", \"startlinecolor\": \"#2a3f5f\"}, \"type\": \"carpet\"}], \"choropleth\": [{\"colorbar\": {\"outlinewidth\": 0, \"ticks\": \"\"}, \"type\": \"choropleth\"}], \"contour\": [{\"colorbar\": {\"outlinewidth\": 0, \"ticks\": \"\"}, \"colorscale\": [[0.0, \"#0d0887\"], [0.1111111111111111, \"#46039f\"], [0.2222222222222222, \"#7201a8\"], [0.3333333333333333, \"#9c179e\"], [0.4444444444444444, \"#bd3786\"], [0.5555555555555556, \"#d8576b\"], [0.6666666666666666, \"#ed7953\"], [0.7777777777777778, \"#fb9f3a\"], [0.8888888888888888, \"#fdca26\"], [1.0, \"#f0f921\"]], \"type\": \"contour\"}], \"contourcarpet\": [{\"colorbar\": {\"outlinewidth\": 0, \"ticks\": \"\"}, \"type\": \"contourcarpet\"}], \"heatmap\": [{\"colorbar\": {\"outlinewidth\": 0, \"ticks\": \"\"}, \"colorscale\": [[0.0, \"#0d0887\"], [0.1111111111111111, \"#46039f\"], [0.2222222222222222, \"#7201a8\"], [0.3333333333333333, \"#9c179e\"], [0.4444444444444444, \"#bd3786\"], [0.5555555555555556, \"#d8576b\"], [0.6666666666666666, \"#ed7953\"], [0.7777777777777778, \"#fb9f3a\"], [0.8888888888888888, \"#fdca26\"], [1.0, \"#f0f921\"]], \"type\": \"heatmap\"}], \"heatmapgl\": [{\"colorbar\": {\"outlinewidth\": 0, \"ticks\": \"\"}, \"colorscale\": [[0.0, \"#0d0887\"], [0.1111111111111111, \"#46039f\"], [0.2222222222222222, \"#7201a8\"], [0.3333333333333333, \"#9c179e\"], [0.4444444444444444, \"#bd3786\"], [0.5555555555555556, \"#d8576b\"], [0.6666666666666666, \"#ed7953\"], [0.7777777777777778, \"#fb9f3a\"], [0.8888888888888888, \"#fdca26\"], [1.0, \"#f0f921\"]], \"type\": \"heatmapgl\"}], \"histogram\": [{\"marker\": {\"colorbar\": {\"outlinewidth\": 0, \"ticks\": \"\"}}, \"type\": \"histogram\"}], \"histogram2d\": [{\"colorbar\": {\"outlinewidth\": 0, \"ticks\": \"\"}, \"colorscale\": [[0.0, \"#0d0887\"], [0.1111111111111111, \"#46039f\"], [0.2222222222222222, \"#7201a8\"], [0.3333333333333333, \"#9c179e\"], [0.4444444444444444, \"#bd3786\"], [0.5555555555555556, \"#d8576b\"], [0.6666666666666666, \"#ed7953\"], [0.7777777777777778, \"#fb9f3a\"], [0.8888888888888888, \"#fdca26\"], [1.0, \"#f0f921\"]], \"type\": \"histogram2d\"}], \"histogram2dcontour\": [{\"colorbar\": {\"outlinewidth\": 0, \"ticks\": \"\"}, \"colorscale\": [[0.0, \"#0d0887\"], [0.1111111111111111, \"#46039f\"], [0.2222222222222222, \"#7201a8\"], [0.3333333333333333, \"#9c179e\"], [0.4444444444444444, \"#bd3786\"], [0.5555555555555556, \"#d8576b\"], [0.6666666666666666, \"#ed7953\"], [0.7777777777777778, \"#fb9f3a\"], [0.8888888888888888, \"#fdca26\"], [1.0, \"#f0f921\"]], \"type\": \"histogram2dcontour\"}], \"mesh3d\": [{\"colorbar\": {\"outlinewidth\": 0, \"ticks\": \"\"}, \"type\": \"mesh3d\"}], \"parcoords\": [{\"line\": {\"colorbar\": {\"outlinewidth\": 0, \"ticks\": \"\"}}, \"type\": \"parcoords\"}], \"pie\": [{\"automargin\": true, \"type\": \"pie\"}], \"scatter\": [{\"marker\": {\"colorbar\": {\"outlinewidth\": 0, \"ticks\": \"\"}}, \"type\": \"scatter\"}], \"scatter3d\": [{\"line\": {\"colorbar\": {\"outlinewidth\": 0, \"ticks\": \"\"}}, \"marker\": {\"colorbar\": {\"outlinewidth\": 0, \"ticks\": \"\"}}, \"type\": \"scatter3d\"}], \"scattercarpet\": [{\"marker\": {\"colorbar\": {\"outlinewidth\": 0, \"ticks\": \"\"}}, \"type\": \"scattercarpet\"}], \"scattergeo\": [{\"marker\": {\"colorbar\": {\"outlinewidth\": 0, \"ticks\": \"\"}}, \"type\": \"scattergeo\"}], \"scattergl\": [{\"marker\": {\"colorbar\": {\"outlinewidth\": 0, \"ticks\": \"\"}}, \"type\": \"scattergl\"}], \"scattermapbox\": [{\"marker\": {\"colorbar\": {\"outlinewidth\": 0, \"ticks\": \"\"}}, \"type\": \"scattermapbox\"}], \"scatterpolar\": [{\"marker\": {\"colorbar\": {\"outlinewidth\": 0, \"ticks\": \"\"}}, \"type\": \"scatterpolar\"}], \"scatterpolargl\": [{\"marker\": {\"colorbar\": {\"outlinewidth\": 0, \"ticks\": \"\"}}, \"type\": \"scatterpolargl\"}], \"scatterternary\": [{\"marker\": {\"colorbar\": {\"outlinewidth\": 0, \"ticks\": \"\"}}, \"type\": \"scatterternary\"}], \"surface\": [{\"colorbar\": {\"outlinewidth\": 0, \"ticks\": \"\"}, \"colorscale\": [[0.0, \"#0d0887\"], [0.1111111111111111, \"#46039f\"], [0.2222222222222222, \"#7201a8\"], [0.3333333333333333, \"#9c179e\"], [0.4444444444444444, \"#bd3786\"], [0.5555555555555556, \"#d8576b\"], [0.6666666666666666, \"#ed7953\"], [0.7777777777777778, \"#fb9f3a\"], [0.8888888888888888, \"#fdca26\"], [1.0, \"#f0f921\"]], \"type\": \"surface\"}], \"table\": [{\"cells\": {\"fill\": {\"color\": \"#EBF0F8\"}, \"line\": {\"color\": \"white\"}}, \"header\": {\"fill\": {\"color\": \"#C8D4E3\"}, \"line\": {\"color\": \"white\"}}, \"type\": \"table\"}]}, \"layout\": {\"annotationdefaults\": {\"arrowcolor\": \"#2a3f5f\", \"arrowhead\": 0, \"arrowwidth\": 1}, \"coloraxis\": {\"colorbar\": {\"outlinewidth\": 0, \"ticks\": \"\"}}, \"colorscale\": {\"diverging\": [[0, \"#8e0152\"], [0.1, \"#c51b7d\"], [0.2, \"#de77ae\"], [0.3, \"#f1b6da\"], [0.4, \"#fde0ef\"], [0.5, \"#f7f7f7\"], [0.6, \"#e6f5d0\"], [0.7, \"#b8e186\"], [0.8, \"#7fbc41\"], [0.9, \"#4d9221\"], [1, \"#276419\"]], \"sequential\": [[0.0, \"#0d0887\"], [0.1111111111111111, \"#46039f\"], [0.2222222222222222, \"#7201a8\"], [0.3333333333333333, \"#9c179e\"], [0.4444444444444444, \"#bd3786\"], [0.5555555555555556, \"#d8576b\"], [0.6666666666666666, \"#ed7953\"], [0.7777777777777778, \"#fb9f3a\"], [0.8888888888888888, \"#fdca26\"], [1.0, \"#f0f921\"]], \"sequentialminus\": [[0.0, \"#0d0887\"], [0.1111111111111111, \"#46039f\"], [0.2222222222222222, \"#7201a8\"], [0.3333333333333333, \"#9c179e\"], [0.4444444444444444, \"#bd3786\"], [0.5555555555555556, \"#d8576b\"], [0.6666666666666666, \"#ed7953\"], [0.7777777777777778, \"#fb9f3a\"], [0.8888888888888888, \"#fdca26\"], [1.0, \"#f0f921\"]]}, \"colorway\": [\"#636efa\", \"#EF553B\", \"#00cc96\", \"#ab63fa\", \"#FFA15A\", \"#19d3f3\", \"#FF6692\", \"#B6E880\", \"#FF97FF\", \"#FECB52\"], \"font\": {\"color\": \"#2a3f5f\"}, \"geo\": {\"bgcolor\": \"white\", \"lakecolor\": \"white\", \"landcolor\": \"#E5ECF6\", \"showlakes\": true, \"showland\": true, \"subunitcolor\": \"white\"}, \"hoverlabel\": {\"align\": \"left\"}, \"hovermode\": \"closest\", \"mapbox\": {\"style\": \"light\"}, \"paper_bgcolor\": \"white\", \"plot_bgcolor\": \"#E5ECF6\", \"polar\": {\"angularaxis\": {\"gridcolor\": \"white\", \"linecolor\": \"white\", \"ticks\": \"\"}, \"bgcolor\": \"#E5ECF6\", \"radialaxis\": {\"gridcolor\": \"white\", \"linecolor\": \"white\", \"ticks\": \"\"}}, \"scene\": {\"xaxis\": {\"backgroundcolor\": \"#E5ECF6\", \"gridcolor\": \"white\", \"gridwidth\": 2, \"linecolor\": \"white\", \"showbackground\": true, \"ticks\": \"\", \"zerolinecolor\": \"white\"}, \"yaxis\": {\"backgroundcolor\": \"#E5ECF6\", \"gridcolor\": \"white\", \"gridwidth\": 2, \"linecolor\": \"white\", \"showbackground\": true, \"ticks\": \"\", \"zerolinecolor\": \"white\"}, \"zaxis\": {\"backgroundcolor\": \"#E5ECF6\", \"gridcolor\": \"white\", \"gridwidth\": 2, \"linecolor\": \"white\", \"showbackground\": true, \"ticks\": \"\", \"zerolinecolor\": \"white\"}}, \"shapedefaults\": {\"line\": {\"color\": \"#2a3f5f\"}}, \"ternary\": {\"aaxis\": {\"gridcolor\": \"white\", \"linecolor\": \"white\", \"ticks\": \"\"}, \"baxis\": {\"gridcolor\": \"white\", \"linecolor\": \"white\", \"ticks\": \"\"}, \"bgcolor\": \"#E5ECF6\", \"caxis\": {\"gridcolor\": \"white\", \"linecolor\": \"white\", \"ticks\": \"\"}}, \"title\": {\"x\": 0.05}, \"xaxis\": {\"automargin\": true, \"gridcolor\": \"white\", \"linecolor\": \"white\", \"ticks\": \"\", \"title\": {\"standoff\": 15}, \"zerolinecolor\": \"white\", \"zerolinewidth\": 2}, \"yaxis\": {\"automargin\": true, \"gridcolor\": \"white\", \"linecolor\": \"white\", \"ticks\": \"\", \"title\": {\"standoff\": 15}, \"zerolinecolor\": \"white\", \"zerolinewidth\": 2}}}, \"title\": {\"font\": {\"color\": \"#351f39\", \"family\": \"Courier New\"}, \"text\": \"West Bengal : Party-wise Vote Share\"}},                        {\"responsive\": true}                    ).then(function(){\n",
       "                            \n",
       "var gd = document.getElementById('93fd3cc3-86c7-424f-a455-493321f840c0');\n",
       "var x = new MutationObserver(function (mutations, observer) {{\n",
       "        var display = window.getComputedStyle(gd).display;\n",
       "        if (!display || display === 'none') {{\n",
       "            console.log([gd, 'removed!']);\n",
       "            Plotly.purge(gd);\n",
       "            observer.disconnect();\n",
       "        }}\n",
       "}});\n",
       "\n",
       "// Listen for the removal of the full notebook cells\n",
       "var notebookContainer = gd.closest('#notebook-container');\n",
       "if (notebookContainer) {{\n",
       "    x.observe(notebookContainer, {childList: true});\n",
       "}}\n",
       "\n",
       "// Listen for the clearing of the current output cell\n",
       "var outputEl = gd.closest('.output');\n",
       "if (outputEl) {{\n",
       "    x.observe(outputEl, {childList: true});\n",
       "}}\n",
       "\n",
       "                        })                };                });            </script>        </div>"
      ]
     },
     "metadata": {},
     "output_type": "display_data"
    }
   ],
   "source": [
    "# Battleground West Bengal\n",
    "bengal_df = pd.DataFrame(data=df_NOTA[df_NOTA['STATE'] == 'West Bengal'])\n",
    "bengal_df_vote = pd.DataFrame(data=bengal_df.groupby('PARTY')['TOTALVOTES'].sum())\n",
    "bengal_df_vote.sort_values(by='TOTALVOTES', ascending=False, inplace=True)\n",
    "bengal_df_vote.reset_index(level=0, inplace=True)\n",
    "bengal_df_vote['Category'] = bengal_df_vote.apply(sort_party, axis=1)\n",
    "bengal_vote_count = bengal_df_vote.groupby('Category')['TOTALVOTES'].sum()\n",
    "\n",
    "vote_share_top5 = bengal_df_vote.groupby('PARTY')['TOTALVOTES'].sum().nlargest(5).index.tolist()\n",
    "# Visualize Party-wise vote share\n",
    "bengal_fig = go.Figure(go.Pie(labels=bengal_vote_count.index, \n",
    "                                  values=bengal_vote_count.values,\n",
    "                                  pull=[0.1, 0.1, 0.1, 0.1, 0.1, 0.1],\n",
    "                                  marker=dict(line=dict(color=\"#000000\", \n",
    "                                                        width=2))))\n",
    "bengal_fig.update_layout(title_text='West Bengal : Party-wise Vote Share',\n",
    "                             font_family=\"Courier New\",\n",
    "                             font_color=\"#351f39\",\n",
    "                             title_font_family=\"Courier New\",\n",
    "                             title_font_color=\"#351f39\")\n",
    "bengal_fig.show()"
   ]
  },
  {
   "cell_type": "markdown",
   "metadata": {},
   "source": [
    "The Trinamool Congress recorded its best-ever performance in 2014 Lok Sabha election in West Bengal as it swept 34 of the 42 seats decimating the Left in its victory march, while the BJP made impressive inroads winning two seats. The BJP left no stone unturned in attempting to make inroads into Mamata Banerjee's bastion while the Trinamool responded by not ceding an inch. This time around BJP swept the 2019 Lok Sabha polls winning 18 seats out of 42 with a vote share of 41.6%. However it failed to dent the consolidated vote share of Mamata Banerjee's TMC."
   ]
  },
  {
   "cell_type": "markdown",
   "metadata": {},
   "source": [
    "**How people voted in Bengal?**"
   ]
  },
  {
   "cell_type": "code",
   "execution_count": 26,
   "metadata": {},
   "outputs": [
    {
     "data": {
      "text/plain": [
       "<matplotlib.axes._subplots.AxesSubplot at 0x1f630b1e430>"
      ]
     },
     "execution_count": 26,
     "metadata": {},
     "output_type": "execute_result"
    },
    {
     "data": {
      "image/png": "[encoded data removed]",
      "text/plain": [
       "<Figure size 1080x504 with 2 Axes>"
      ]
     },
     "metadata": {
      "needs_background": "light"
     },
     "output_type": "display_data"
    }
   ],
   "source": [
    "# Create a dataframe containing the caste distribution of winners\n",
    "winner_caste_bengal = bengal_df[bengal_df['WINNER'] == 1].groupby('CATEGORY')['WINNER'].size()\n",
    "winner_caste_bengal_df= pd.DataFrame(data=winner_caste_bengal)\n",
    "winner_caste_bengal_df.reset_index(level=0, inplace=True)\n",
    "\n",
    "def education(data):\n",
    "    if data['EDUCATION'] in ['5th Pass', 'Others', 'Illiterate', 'Not Available']:\n",
    "        return 'Uneducated'\n",
    "    elif data['EDUCATION'] in ['Graduate', 'Doctorate', 'Post Graduate']:\n",
    "        return 'Highly Educated'\n",
    "    else:\n",
    "        return 'Educated'\n",
    "    \n",
    "bengal_df['Education Level'] = bengal_df.apply(education, axis=1)\n",
    "\n",
    "winner_edu_bengal = bengal_df[bengal_df['WINNER'] == 1].groupby('Education Level')['WINNER'].size()\n",
    "winner_edu_bengal_df= pd.DataFrame(data=winner_edu_bengal)\n",
    "winner_edu_bengal_df.reset_index(level=0, inplace=True)\n",
    "\n",
    "fig, axes = plt.subplots(nrows=1, ncols=2, figsize=(15,7))\n",
    "winner_caste_bengal_df.plot(kind='bar', ax=axes[0], alpha=0.75, rot=0, legend=False, title='West Bengal: Caste of winning candidates', x='CATEGORY')\n",
    "winner_edu_bengal_df.plot(kind='bar', ax=axes[1], alpha=0.75, rot=0, legend=False, title='West Bengal: Education of winning candidates', x='Education Level')"
   ]
  },
  {
   "cell_type": "markdown",
   "metadata": {},
   "source": [
    "- Most of the winning candidates are from General caste.\n",
    "- When it comes to education most of the winning candidates are highly educated. The level of education of an candidate is a key factor in West Bengal"
   ]
  },
  {
   "cell_type": "markdown",
   "metadata": {},
   "source": [
    "**Begusarai (Bihar):** The Begusarai constituency, which is among the most talked about seats in Bihar, recorded a comparatively high turnout of 61.27%, as per the EC. The constituency has been under a microscope as it is witnessing the electoral debut of CPI candidate Kanhaiya Kumar, the controversial former JNUSU president who is pitted against BJP leader and union minister Giriraj Singh. The Mahagathbandhan's nominee is Tanweer Hasan (RJD).\n",
    "\n",
    "**Bangalore South (Karnataka)**: The saffron bastion will see BJP's Tejasvi Surya take on Congress’ BK Hariprasad. After the untimely death of BJP leader and union minister Ananth Kumar who had held the constituency since 1996, BJP has fielded a young face in Tejasvi Surya. The late Ananth Kumar had beaten Infosys co-founder Nandan Nilekani, then a Congress candidate, in 2014.\n",
    "\n",
    "**Wayanad (Kerala):** Congress chief Rahul Gandhi contesting from this constituency apart from Congress' bastion in Amethi has made the relatively new seat becoming a national talking point. Against him are PP Suneer of CPI(M) and Thushar Vellappally of Bharath Dharma Jana Sena (an ally of BJP). Interestingly, Congress chief will be fighting with three namesakes: two Independent candidates, K.E. Rahul Gandhi and K.M. Shivprasad Gandhi, and K. Raghul Gandhi of the Agila India Makkal Kazhagam party.\n",
    "\n",
    "**Bhopal (Madhya Pradesh):** A BJP bastion, this constituency has taken centrestage ever since the BJP fielded Malegaon blast-accused Sadhvi Pragya from the seat against Congress veteran Digvijaya Singh. Singh has been CM of Madhya Pradesh and is contesting an election after a gap of almost 19 years, the last being the assembly election he contested in 2003. He was nominated to the Rajya Sabha in 2014 from Madhya Pradesh. The BJP however has consistently been winning the seat of Bhopal since 1989. BJP's Alok Sanjar is the sitting MP from the Bhopal Lok Sabha seat. What makes the contest especially interesting, however, is the fact that Digvijaya Singh was one of the most significant proposers of 'Saffron terror/Hindu terror' which cited the Malegaon blasts among others.\n",
    "<img src=https://spiderimg.amarujala.com/assets/images/2019/04/17/750x506/sadhvi-pragya-vs-digvijay_1555489861.jpeg style=\"width:700px;height:300px;\">"
   ]
  },
  {
   "cell_type": "code",
   "execution_count": 27,
   "metadata": {},
   "outputs": [
    {
     "data": {
      "text/plain": [
       "<matplotlib.axes._subplots.AxesSubplot at 0x1f630c2c1c0>"
      ]
     },
     "execution_count": 27,
     "metadata": {},
     "output_type": "execute_result"
    },
    {
     "data": {
      "image/png": "[encoded data removed]",
      "text/plain": [
       "<Figure size 1080x1080 with 4 Axes>"
      ]
     },
     "metadata": {
      "needs_background": "light"
     },
     "output_type": "display_data"
    }
   ],
   "source": [
    "begusarai_df = df_NOTA[df_NOTA['CONSTITUENCY'] == 'BEGUSARAI'][['NAME','TOTALVOTES']]\n",
    "bangalore_df = df_NOTA[df_NOTA['CONSTITUENCY'] == 'BANGALORE SOUTH'][['NAME','TOTALVOTES']]\n",
    "wayanad_df = df_NOTA[df_NOTA['CONSTITUENCY'] == 'WAYANAD'][['NAME','TOTALVOTES']]\n",
    "bhopal_df = df_NOTA[df_NOTA['CONSTITUENCY'] == 'BHOPAL'][['NAME','TOTALVOTES']]\n",
    "\n",
    "fig, axes = plt.subplots(nrows=2, ncols=2, figsize=(15,15))\n",
    "begusarai_df.plot(kind='bar', ax=axes[0,0], alpha=0.75, rot=0, legend=False, title='Battleground Begusarai', x='NAME')\n",
    "bangalore_df.plot(kind='bar', ax=axes[0,1], alpha=0.75, rot=0, legend=False, title=\"Battleground Bangalore South\", x='NAME')\n",
    "wayanad_df.plot(kind='bar', ax=axes[1,0], alpha=0.75, rot=0, legend=False, title='Battleground Wayanad', x='NAME')\n",
    "bhopal_df.plot(kind='bar', ax=axes[1,1], alpha=0.75, rot=0, legend=False, title=\"Battleground Bhopal\", x='NAME')\n"
   ]
  },
  {
   "cell_type": "markdown",
   "metadata": {},
   "source": [
    "## 7. Preparing the data"
   ]
  },
  {
   "cell_type": "markdown",
   "metadata": {},
   "source": [
    "### 7.1 Scaling the data"
   ]
  },
  {
   "cell_type": "code",
   "execution_count": 28,
   "metadata": {},
   "outputs": [],
   "source": [
    "# This is the dataset which will be used for fitting Machine Learning models\n",
    "df_NOTA = df_NOTA.drop(['PARTY', 'NAME', 'CONSTITUENCY', 'SYMBOL'], axis=1)"
   ]
  },
  {
   "cell_type": "code",
   "execution_count": 29,
   "metadata": {},
   "outputs": [],
   "source": [
    "X = df_NOTA.drop('WINNER', axis=1)\n",
    "y = df_NOTA['WINNER']"
   ]
  },
  {
   "cell_type": "code",
   "execution_count": 30,
   "metadata": {},
   "outputs": [],
   "source": [
    "categorical = []\n",
    "numerical = []\n",
    "# Converting Strings to Category\n",
    "for label, content in X.items():\n",
    "    if pd.api.types.is_string_dtype(content):\n",
    "        X[label] = content.astype(\"category\")\n",
    "        categorical.append(label)\n",
    "\n",
    "    if pd.api.types.is_numeric_dtype(content):\n",
    "        numerical.append(label)"
   ]
  },
  {
   "cell_type": "code",
   "execution_count": 31,
   "metadata": {},
   "outputs": [],
   "source": [
    "# Initializing the StandardScaler()\n",
    "scaler = MinMaxScaler()\n",
    "encoder = OrdinalEncoder()\n",
    "\n",
    "# Encoding the categorical columns\n",
    "for cat in categorical:\n",
    "    label_fit = encoder.fit(np.array(X[cat]).reshape(-1, 1))\n",
    "    X[cat] = label_fit.transform(np.array(X[cat]).reshape(-1, 1))\n",
    "    \n",
    "# Scaling the dataset\n",
    "scaler_fit = scaler.fit(X[numerical])\n",
    "X[numerical] = scaler_fit.transform(X[numerical])"
   ]
  },
  {
   "cell_type": "markdown",
   "metadata": {},
   "source": [
    "### 7.2 Upsampling the dataset"
   ]
  },
  {
   "cell_type": "code",
   "execution_count": 32,
   "metadata": {},
   "outputs": [
    {
     "data": {
      "text/plain": [
       "Counter({1: 539, 0: 1457})"
      ]
     },
     "execution_count": 32,
     "metadata": {},
     "output_type": "execute_result"
    }
   ],
   "source": [
    "Counter(y)"
   ]
  },
  {
   "cell_type": "code",
   "execution_count": 33,
   "metadata": {},
   "outputs": [
    {
     "name": "stdout",
     "output_type": "stream",
     "text": [
      "Counter({1: 1457, 0: 1457})\n"
     ]
    }
   ],
   "source": [
    "oversample = SMOTE()\n",
    "X, y = oversample.fit_resample(X, y)\n",
    "counter = Counter(y)\n",
    "print(counter)"
   ]
  },
  {
   "cell_type": "code",
   "execution_count": 34,
   "metadata": {},
   "outputs": [
    {
     "data": {
      "text/html": [
       "<div>\n",
       "<style scoped>\n",
       "    .dataframe tbody tr th:only-of-type {\n",
       "        vertical-align: middle;\n",
       "    }\n",
       "\n",
       "    .dataframe tbody tr th {\n",
       "        vertical-align: top;\n",
       "    }\n",
       "\n",
       "    .dataframe thead th {\n",
       "        text-align: right;\n",
       "    }\n",
       "</style>\n",
       "<table border=\"1\" class=\"dataframe\">\n",
       "  <thead>\n",
       "    <tr style=\"text-align: right;\">\n",
       "      <th></th>\n",
       "      <th>STATE</th>\n",
       "      <th>GENDER</th>\n",
       "      <th>CRIMINALCASES</th>\n",
       "      <th>AGE</th>\n",
       "      <th>CATEGORY</th>\n",
       "      <th>EDUCATION</th>\n",
       "      <th>ASSETS</th>\n",
       "      <th>LIABILITIES</th>\n",
       "      <th>GENERALVOTES</th>\n",
       "      <th>POSTALVOTES</th>\n",
       "      <th>TOTALVOTES</th>\n",
       "      <th>OVER TOTAL ELECTORS IN CONSTITUENCY</th>\n",
       "      <th>OVER TOTAL VOTES POLLED IN CONSTITUENCY</th>\n",
       "      <th>TOTAL ELECTORS</th>\n",
       "      <th>Party New</th>\n",
       "    </tr>\n",
       "  </thead>\n",
       "  <tbody>\n",
       "    <tr>\n",
       "      <th>0</th>\n",
       "      <td>31.0</td>\n",
       "      <td>1.0</td>\n",
       "      <td>0.216667</td>\n",
       "      <td>0.442623</td>\n",
       "      <td>2.0</td>\n",
       "      <td>1.0</td>\n",
       "      <td>0.000346</td>\n",
       "      <td>0.000150</td>\n",
       "      <td>0.352471</td>\n",
       "      <td>0.024888</td>\n",
       "      <td>0.352345</td>\n",
       "      <td>0.486620</td>\n",
       "      <td>0.469519</td>\n",
       "      <td>0.463504</td>\n",
       "      <td>1.0</td>\n",
       "    </tr>\n",
       "    <tr>\n",
       "      <th>1</th>\n",
       "      <td>31.0</td>\n",
       "      <td>1.0</td>\n",
       "      <td>0.000000</td>\n",
       "      <td>0.475410</td>\n",
       "      <td>2.0</td>\n",
       "      <td>7.0</td>\n",
       "      <td>0.002065</td>\n",
       "      <td>0.000547</td>\n",
       "      <td>0.297823</td>\n",
       "      <td>0.007693</td>\n",
       "      <td>0.297474</td>\n",
       "      <td>0.410814</td>\n",
       "      <td>0.394546</td>\n",
       "      <td>0.463504</td>\n",
       "      <td>4.0</td>\n",
       "    </tr>\n",
       "    <tr>\n",
       "      <th>2</th>\n",
       "      <td>31.0</td>\n",
       "      <td>1.0</td>\n",
       "      <td>0.012500</td>\n",
       "      <td>0.442623</td>\n",
       "      <td>2.0</td>\n",
       "      <td>1.0</td>\n",
       "      <td>0.004077</td>\n",
       "      <td>0.009887</td>\n",
       "      <td>0.293498</td>\n",
       "      <td>0.009346</td>\n",
       "      <td>0.293186</td>\n",
       "      <td>0.404891</td>\n",
       "      <td>0.388687</td>\n",
       "      <td>0.463504</td>\n",
       "      <td>3.0</td>\n",
       "    </tr>\n",
       "    <tr>\n",
       "      <th>3</th>\n",
       "      <td>33.0</td>\n",
       "      <td>1.0</td>\n",
       "      <td>0.020833</td>\n",
       "      <td>0.540984</td>\n",
       "      <td>1.0</td>\n",
       "      <td>3.0</td>\n",
       "      <td>0.008299</td>\n",
       "      <td>0.005562</td>\n",
       "      <td>0.603594</td>\n",
       "      <td>0.124748</td>\n",
       "      <td>0.604869</td>\n",
       "      <td>0.641927</td>\n",
       "      <td>0.755527</td>\n",
       "      <td>0.608215</td>\n",
       "      <td>1.0</td>\n",
       "    </tr>\n",
       "    <tr>\n",
       "      <th>4</th>\n",
       "      <td>33.0</td>\n",
       "      <td>1.0</td>\n",
       "      <td>0.000000</td>\n",
       "      <td>0.360656</td>\n",
       "      <td>1.0</td>\n",
       "      <td>7.0</td>\n",
       "      <td>0.014948</td>\n",
       "      <td>0.014379</td>\n",
       "      <td>0.406256</td>\n",
       "      <td>0.058347</td>\n",
       "      <td>0.406649</td>\n",
       "      <td>0.431381</td>\n",
       "      <td>0.503994</td>\n",
       "      <td>0.608215</td>\n",
       "      <td>2.0</td>\n",
       "    </tr>\n",
       "  </tbody>\n",
       "</table>\n",
       "</div>"
      ],
      "text/plain": [
       "   STATE  GENDER  CRIMINALCASES       AGE  CATEGORY  EDUCATION    ASSETS  \\\n",
       "0   31.0     1.0       0.216667  0.442623       2.0        1.0  0.000346   \n",
       "1   31.0     1.0       0.000000  0.475410       2.0        7.0  0.002065   \n",
       "2   31.0     1.0       0.012500  0.442623       2.0        1.0  0.004077   \n",
       "3   33.0     1.0       0.020833  0.540984       1.0        3.0  0.008299   \n",
       "4   33.0     1.0       0.000000  0.360656       1.0        7.0  0.014948   \n",
       "\n",
       "   LIABILITIES  GENERALVOTES  POSTALVOTES  TOTALVOTES  \\\n",
       "0     0.000150      0.352471     0.024888    0.352345   \n",
       "1     0.000547      0.297823     0.007693    0.297474   \n",
       "2     0.009887      0.293498     0.009346    0.293186   \n",
       "3     0.005562      0.603594     0.124748    0.604869   \n",
       "4     0.014379      0.406256     0.058347    0.406649   \n",
       "\n",
       "   OVER TOTAL ELECTORS IN CONSTITUENCY  \\\n",
       "0                             0.486620   \n",
       "1                             0.410814   \n",
       "2                             0.404891   \n",
       "3                             0.641927   \n",
       "4                             0.431381   \n",
       "\n",
       "   OVER TOTAL VOTES POLLED IN CONSTITUENCY  TOTAL ELECTORS  Party New  \n",
       "0                                 0.469519        0.463504        1.0  \n",
       "1                                 0.394546        0.463504        4.0  \n",
       "2                                 0.388687        0.463504        3.0  \n",
       "3                                 0.755527        0.608215        1.0  \n",
       "4                                 0.503994        0.608215        2.0  "
      ]
     },
     "execution_count": 34,
     "metadata": {},
     "output_type": "execute_result"
    }
   ],
   "source": [
    "X.head()"
   ]
  },
  {
   "cell_type": "markdown",
   "metadata": {},
   "source": [
    "## 8. Machine learning model experimentation"
   ]
  },
  {
   "cell_type": "code",
   "execution_count": 35,
   "metadata": {},
   "outputs": [],
   "source": [
    "np.random.seed(42)\n",
    "\n",
    "# Create a dictionary of the models to experiment\n",
    "models = {\n",
    "          \"RFC\" : RandomForestClassifier(n_jobs=-1),\n",
    "          \"SVM\" : SVC(),\n",
    "          \"KNN\" : KNeighborsClassifier(),\n",
    "          \"LR\"  : LogisticRegression(),\n",
    "          \"XGB\" : xgb.XGBClassifier(n_jobs=-1),\n",
    "          \"CatB\": CatBoostClassifier(),\n",
    "          \"GB\"  : GradientBoostingClassifier(),\n",
    "          \"ADA\" : AdaBoostClassifier(),\n",
    "          \"LGB\" : lgb.LGBMClassifier()\n",
    "         }\n",
    "\n",
    "# Create a function to fit and score the models\n",
    "def fit_and_score(models, X, y):\n",
    "    '''\n",
    "    Fits and evaluates the machine learning models.\n",
    "    models : a dict of different Scikit-Learn machine learning models.\n",
    "    X_train : training data (no labels)\n",
    "    y_train : training lables\n",
    "    X_test : testing data (no labels)\n",
    "    y_test : testing lables\n",
    "    '''\n",
    "    model_scores = {}\n",
    "    model_timing = {}\n",
    "    for name, model in models.items():\n",
    "        start = time.time()\n",
    "        model_scores[name] = np.mean(cross_val_score(model, X, y, cv=10, n_jobs=-1)) * 100\n",
    "        stop = time.time()\n",
    "        timing = stop - start\n",
    "        model_timing[name] = timing\n",
    "    # Create dictionary for oil scores\n",
    "    scores = {'Accuracy': model_scores,\n",
    "              'Timing(s)': model_timing\n",
    "             }\n",
    "\n",
    "    # Create dataframe of scores\n",
    "    scores_df = pd.DataFrame(scores)\n",
    "\n",
    "    scores_df.rename_axis('Model', inplace=True)\n",
    "    scores_df.reset_index(inplace=True)\n",
    "    scores_df.sort_values('Accuracy', ascending=False, inplace=True)\n",
    "    return scores_df"
   ]
  },
  {
   "cell_type": "code",
   "execution_count": 36,
   "metadata": {},
   "outputs": [],
   "source": [
    "score_df = fit_and_score(models, X, y)"
   ]
  },
  {
   "cell_type": "code",
   "execution_count": 37,
   "metadata": {},
   "outputs": [
    {
     "data": {
      "text/html": [
       "<div>\n",
       "<style scoped>\n",
       "    .dataframe tbody tr th:only-of-type {\n",
       "        vertical-align: middle;\n",
       "    }\n",
       "\n",
       "    .dataframe tbody tr th {\n",
       "        vertical-align: top;\n",
       "    }\n",
       "\n",
       "    .dataframe thead th {\n",
       "        text-align: right;\n",
       "    }\n",
       "</style>\n",
       "<table border=\"1\" class=\"dataframe\">\n",
       "  <thead>\n",
       "    <tr style=\"text-align: right;\">\n",
       "      <th></th>\n",
       "      <th>Model</th>\n",
       "      <th>Accuracy</th>\n",
       "      <th>Timing(s)</th>\n",
       "    </tr>\n",
       "  </thead>\n",
       "  <tbody>\n",
       "    <tr>\n",
       "      <th>8</th>\n",
       "      <td>LGB</td>\n",
       "      <td>96.227228</td>\n",
       "      <td>1.652581</td>\n",
       "    </tr>\n",
       "    <tr>\n",
       "      <th>4</th>\n",
       "      <td>XGB</td>\n",
       "      <td>96.021866</td>\n",
       "      <td>2.142272</td>\n",
       "    </tr>\n",
       "    <tr>\n",
       "      <th>5</th>\n",
       "      <td>CatB</td>\n",
       "      <td>95.883585</td>\n",
       "      <td>61.238120</td>\n",
       "    </tr>\n",
       "    <tr>\n",
       "      <th>0</th>\n",
       "      <td>RFC</td>\n",
       "      <td>95.849221</td>\n",
       "      <td>4.095015</td>\n",
       "    </tr>\n",
       "    <tr>\n",
       "      <th>6</th>\n",
       "      <td>GB</td>\n",
       "      <td>95.574660</td>\n",
       "      <td>1.732370</td>\n",
       "    </tr>\n",
       "    <tr>\n",
       "      <th>7</th>\n",
       "      <td>ADA</td>\n",
       "      <td>94.442169</td>\n",
       "      <td>0.613359</td>\n",
       "    </tr>\n",
       "    <tr>\n",
       "      <th>3</th>\n",
       "      <td>LR</td>\n",
       "      <td>93.103964</td>\n",
       "      <td>0.149599</td>\n",
       "    </tr>\n",
       "    <tr>\n",
       "      <th>2</th>\n",
       "      <td>KNN</td>\n",
       "      <td>89.433578</td>\n",
       "      <td>0.078788</td>\n",
       "    </tr>\n",
       "    <tr>\n",
       "      <th>1</th>\n",
       "      <td>SVM</td>\n",
       "      <td>87.168126</td>\n",
       "      <td>1.352387</td>\n",
       "    </tr>\n",
       "  </tbody>\n",
       "</table>\n",
       "</div>"
      ],
      "text/plain": [
       "  Model   Accuracy  Timing(s)\n",
       "8   LGB  96.227228   1.652581\n",
       "4   XGB  96.021866   2.142272\n",
       "5  CatB  95.883585  61.238120\n",
       "0   RFC  95.849221   4.095015\n",
       "6    GB  95.574660   1.732370\n",
       "7   ADA  94.442169   0.613359\n",
       "3    LR  93.103964   0.149599\n",
       "2   KNN  89.433578   0.078788\n",
       "1   SVM  87.168126   1.352387"
      ]
     },
     "execution_count": 37,
     "metadata": {},
     "output_type": "execute_result"
    }
   ],
   "source": [
    "score_df"
   ]
  },
  {
   "cell_type": "code",
   "execution_count": 38,
   "metadata": {},
   "outputs": [
    {
     "data": {
      "text/plain": [
       "Text(0.5, 0.98, '10-Fold CV Model Accuracy')"
      ]
     },
     "execution_count": 38,
     "metadata": {},
     "output_type": "execute_result"
    },
    {
     "data": {
      "image/png": "[encoded data removed]",
      "text/plain": [
       "<Figure size 1008x432 with 2 Axes>"
      ]
     },
     "metadata": {
      "needs_background": "light"
     },
     "output_type": "display_data"
    }
   ],
   "source": [
    "# Visualization of scores\n",
    "fig, axes = plt.subplots(1, 2, figsize=(14, 6))\n",
    "sns.barplot(ax=axes[0], x=\"Model\", y=\"Accuracy\", data=score_df)\n",
    "sns.barplot(ax=axes[1], x=\"Model\", y=\"Timing(s)\", data=score_df)\n",
    "fig.suptitle('10-Fold CV Model Accuracy', fontsize=16)"
   ]
  },
  {
   "cell_type": "markdown",
   "metadata": {},
   "source": [
    "## 9. Evaluation"
   ]
  },
  {
   "cell_type": "code",
   "execution_count": 39,
   "metadata": {},
   "outputs": [],
   "source": [
    "X_ = df_NOTA.drop('WINNER', axis=1)\n",
    "y_ = df_NOTA['WINNER']\n",
    "\n",
    "# Splitting the data into training and testing set\n",
    "X_train, X_test, y_train, y_test = train_test_split(X_, y_, test_size=0.30, random_state=42)"
   ]
  },
  {
   "cell_type": "code",
   "execution_count": 42,
   "metadata": {},
   "outputs": [],
   "source": [
    "categorical = []\n",
    "numerical = []\n",
    "\n",
    "# Converting Strings to Category\n",
    "for label, content in X_train.items():\n",
    "    if pd.api.types.is_string_dtype(content):\n",
    "        X_train[label] = content.astype(\"category\")\n",
    "        categorical.append(label)\n",
    "\n",
    "    if pd.api.types.is_numeric_dtype(content):\n",
    "        numerical.append(label)\n",
    "\n",
    "# Converting Strings to Category\n",
    "for label, content in X_test.items():\n",
    "    if pd.api.types.is_string_dtype(content):\n",
    "        X_test[label] = content.astype(\"category\")"
   ]
  },
  {
   "cell_type": "code",
   "execution_count": 43,
   "metadata": {},
   "outputs": [],
   "source": [
    "# Initializing the StandardScaler()\n",
    "scaler = MinMaxScaler()\n",
    "encoder = OrdinalEncoder()\n",
    "\n",
    "# Encoding the categorical columns\n",
    "for cat in categorical:\n",
    "    label_fit = encoder.fit(np.array(X_train[cat]).reshape(-1, 1))\n",
    "    X_train[cat] = label_fit.transform(np.array(X_train[cat]).reshape(-1, 1))\n",
    "    X_test[cat] = label_fit.transform(np.array(X_test[cat]).reshape(-1, 1))\n",
    "    \n",
    "# Scaling the dataset\n",
    "scaler_fit = scaler.fit(X_train[numerical])\n",
    "X_train[numerical] = scaler_fit.transform(X_train[numerical])\n",
    "X_test[numerical] = scaler_fit.transform(X_test[numerical])"
   ]
  },
  {
   "cell_type": "code",
   "execution_count": 44,
   "metadata": {},
   "outputs": [
    {
     "data": {
      "text/plain": [
       "Counter({1: 382, 0: 1015})"
      ]
     },
     "execution_count": 44,
     "metadata": {},
     "output_type": "execute_result"
    }
   ],
   "source": [
    "Counter(y_train)"
   ]
  },
  {
   "cell_type": "code",
   "execution_count": 45,
   "metadata": {},
   "outputs": [
    {
     "name": "stdout",
     "output_type": "stream",
     "text": [
      "Counter({1: 1015, 0: 1015})\n"
     ]
    }
   ],
   "source": [
    "oversample = SMOTE()\n",
    "X_train, y_train = oversample.fit_resample(X_train, y_train)\n",
    "counter = Counter(y_train)\n",
    "print(counter)"
   ]
  },
  {
   "cell_type": "code",
   "execution_count": 46,
   "metadata": {},
   "outputs": [],
   "source": [
    "# Fitting the final model\n",
    "final_model = lgb.LGBMClassifier()\n",
    "final_model.fit(X_train, y_train)\n",
    "\n",
    "# Making predictions\n",
    "pred = final_model.predict(X_test)"
   ]
  },
  {
   "cell_type": "markdown",
   "metadata": {},
   "source": [
    "### 9.1 Classification report"
   ]
  },
  {
   "cell_type": "code",
   "execution_count": 47,
   "metadata": {},
   "outputs": [
    {
     "name": "stdout",
     "output_type": "stream",
     "text": [
      "              precision    recall  f1-score   support\n",
      "\n",
      "           0       0.96      0.96      0.96       442\n",
      "           1       0.88      0.90      0.89       157\n",
      "\n",
      "    accuracy                           0.94       599\n",
      "   macro avg       0.92      0.93      0.92       599\n",
      "weighted avg       0.94      0.94      0.94       599\n",
      "\n"
     ]
    }
   ],
   "source": [
    "print(classification_report(y_test, pred))"
   ]
  },
  {
   "cell_type": "markdown",
   "metadata": {},
   "source": [
    "### 9.2 Confusion matrix"
   ]
  },
  {
   "cell_type": "code",
   "execution_count": 48,
   "metadata": {},
   "outputs": [
    {
     "data": {
      "text/plain": [
       "<matplotlib.axes._subplots.AxesSubplot at 0x1f63100a310>"
      ]
     },
     "execution_count": 48,
     "metadata": {},
     "output_type": "execute_result"
    },
    {
     "data": {
      "image/png": "[encoded data removed]",
      "text/plain": [
       "<Figure size 432x288 with 2 Axes>"
      ]
     },
     "metadata": {
      "needs_background": "light"
     },
     "output_type": "display_data"
    }
   ],
   "source": [
    "sns.heatmap(confusion_matrix(y_test, pred), cmap= \"Blues\", annot=True, fmt='')"
   ]
  },
  {
   "cell_type": "markdown",
   "metadata": {},
   "source": [
    "### 9.3 ROC curve"
   ]
  },
  {
   "cell_type": "code",
   "execution_count": 49,
   "metadata": {},
   "outputs": [
    {
     "data": {
      "text/plain": [
       "<sklearn.metrics._plot.roc_curve.RocCurveDisplay at 0x1f63109f730>"
      ]
     },
     "execution_count": 49,
     "metadata": {},
     "output_type": "execute_result"
    },
    {
     "data": {
      "image/png": "[encoded data removed]",
      "text/plain": [
       "<Figure size 432x288 with 1 Axes>"
      ]
     },
     "metadata": {
      "needs_background": "light"
     },
     "output_type": "display_data"
    }
   ],
   "source": [
    "plot_roc_curve(final_model, X_test, y_test)"
   ]
  },
  {
   "cell_type": "markdown",
   "metadata": {},
   "source": [
    "### 9.4 Cross-validated metrics"
   ]
  },
  {
   "cell_type": "code",
   "execution_count": 50,
   "metadata": {},
   "outputs": [],
   "source": [
    "final_model_ = lgb.LGBMClassifier()"
   ]
  },
  {
   "cell_type": "code",
   "execution_count": 51,
   "metadata": {},
   "outputs": [],
   "source": [
    "np.random.seed(42)\n",
    "cv_acc = cross_val_score(final_model_, X, y, cv=10, scoring=\"accuracy\")\n",
    "cv_pre = cross_val_score(final_model_, X, y, cv=10, scoring=\"precision\")\n",
    "cv_recall = cross_val_score(final_model_, X, y, cv=10, scoring=\"recall\")\n",
    "cv_f1 = cross_val_score(final_model_, X, y, cv=10, scoring=\"f1\")"
   ]
  },
  {
   "cell_type": "code",
   "execution_count": 52,
   "metadata": {},
   "outputs": [
    {
     "data": {
      "text/html": [
       "<div>\n",
       "<style scoped>\n",
       "    .dataframe tbody tr th:only-of-type {\n",
       "        vertical-align: middle;\n",
       "    }\n",
       "\n",
       "    .dataframe tbody tr th {\n",
       "        vertical-align: top;\n",
       "    }\n",
       "\n",
       "    .dataframe thead th {\n",
       "        text-align: right;\n",
       "    }\n",
       "</style>\n",
       "<table border=\"1\" class=\"dataframe\">\n",
       "  <thead>\n",
       "    <tr style=\"text-align: right;\">\n",
       "      <th></th>\n",
       "      <th>Metrics</th>\n",
       "      <th>Result</th>\n",
       "    </tr>\n",
       "  </thead>\n",
       "  <tbody>\n",
       "    <tr>\n",
       "      <th>0</th>\n",
       "      <td>Accuracy</td>\n",
       "      <td>96.227228</td>\n",
       "    </tr>\n",
       "    <tr>\n",
       "      <th>1</th>\n",
       "      <td>Precision</td>\n",
       "      <td>95.926954</td>\n",
       "    </tr>\n",
       "    <tr>\n",
       "      <th>2</th>\n",
       "      <td>Recall</td>\n",
       "      <td>96.571091</td>\n",
       "    </tr>\n",
       "    <tr>\n",
       "      <th>3</th>\n",
       "      <td>F1 Score</td>\n",
       "      <td>96.221791</td>\n",
       "    </tr>\n",
       "  </tbody>\n",
       "</table>\n",
       "</div>"
      ],
      "text/plain": [
       "     Metrics     Result\n",
       "0   Accuracy  96.227228\n",
       "1  Precision  95.926954\n",
       "2     Recall  96.571091\n",
       "3   F1 Score  96.221791"
      ]
     },
     "execution_count": 52,
     "metadata": {},
     "output_type": "execute_result"
    }
   ],
   "source": [
    "# Create the dataframe of metrics\n",
    "cv_metrics = pd.DataFrame({\"Accuracy\": np.mean(cv_acc) * 100,\n",
    "                                       \"Precision\": np.mean(cv_pre) * 100,\n",
    "                                       \"Recall\": np.mean(cv_recall) * 100,\n",
    "                                       \"F1 Score\": np.mean(cv_f1) * 100},\n",
    "                                        index=[\"Result\"]).T\n",
    "cv_metrics.rename_axis('Metrics', inplace=True)\n",
    "cv_metrics.reset_index(inplace=True)\n",
    "cv_metrics"
   ]
  },
  {
   "cell_type": "code",
   "execution_count": 53,
   "metadata": {},
   "outputs": [
    {
     "data": {
      "text/plain": [
       "<matplotlib.axes._subplots.AxesSubplot at 0x1f6312d5d60>"
      ]
     },
     "execution_count": 53,
     "metadata": {},
     "output_type": "execute_result"
    },
    {
     "data": {
      "image/png": "[encoded data removed]",
      "text/plain": [
       "<Figure size 432x288 with 1 Axes>"
      ]
     },
     "metadata": {
      "needs_background": "light"
     },
     "output_type": "display_data"
    }
   ],
   "source": [
    "cv_metrics.plot(kind='bar', alpha=0.75, rot=0, legend=False, title=\"10-Fold CV Metrics\", x='Metrics')"
   ]
  },
  {
   "cell_type": "markdown",
   "metadata": {},
   "source": [
    "## 10. Conclusion"
   ]
  },
  {
   "cell_type": "markdown",
   "metadata": {},
   "source": [
    "**Final Results**\n",
    "\n",
    "- _Accuracy_ : 96.22%\n",
    "- _Precision_ : 95.92%\n",
    "- _Recall_ : 96.57%\n",
    "- _F1 Score_ : 96.22%\n",
    "- _AUC_ : 0.98"
   ]
  }
 ],
 "metadata": {
  "kernelspec": {
   "display_name": "Python 3",
   "language": "python",
   "name": "python3"
  },
  "language_info": {
   "codemirror_mode": {
    "name": "ipython",
    "version": 3
   },
   "file_extension": ".py",
   "mimetype": "text/x-python",
   "name": "python",
   "nbconvert_exporter": "python",
   "pygments_lexer": "ipython3",
   "version": "3.8.3"
  }
 },
 "nbformat": 4,
 "nbformat_minor": 4
}
